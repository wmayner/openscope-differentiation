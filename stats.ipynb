{
 "cells": [
  {
   "cell_type": "markdown",
   "id": "automated-cradle",
   "metadata": {},
   "source": [
    "# stats.ipynb\n",
    "\n",
    "Perform the main statistical analyses"
   ]
  },
  {
   "cell_type": "code",
   "execution_count": 1,
   "id": "dated-edward",
   "metadata": {
    "execution": {
     "iopub.execute_input": "2021-12-14T17:32:19.986835Z",
     "iopub.status.busy": "2021-12-14T17:32:19.986491Z",
     "iopub.status.idle": "2021-12-14T17:32:21.216257Z",
     "shell.execute_reply": "2021-12-14T17:32:21.215613Z",
     "shell.execute_reply.started": "2021-12-14T17:32:19.986735Z"
    },
    "tags": []
   },
   "outputs": [],
   "source": [
    "from pathlib import Path\n",
    "\n",
    "import numpy as np\n",
    "import pandas as pd\n",
    "from tqdm.notebook import tqdm\n",
    "\n",
    "import analysis\n",
    "from metadata import METADATA"
   ]
  },
  {
   "cell_type": "code",
   "execution_count": 2,
   "id": "assumed-budapest",
   "metadata": {
    "execution": {
     "iopub.execute_input": "2021-12-14T17:32:21.217341Z",
     "iopub.status.busy": "2021-12-14T17:32:21.217179Z",
     "iopub.status.idle": "2021-12-14T17:32:21.221087Z",
     "shell.execute_reply": "2021-12-14T17:32:21.220416Z",
     "shell.execute_reply.started": "2021-12-14T17:32:21.217322Z"
    },
    "tags": []
   },
   "outputs": [],
   "source": [
    "# Progress bars for apply\n",
    "tqdm.pandas()"
   ]
  },
  {
   "cell_type": "code",
   "execution_count": 3,
   "id": "7ae042ee-13c3-4f45-b190-7cb83e8a311c",
   "metadata": {
    "execution": {
     "iopub.execute_input": "2021-12-14T17:32:21.223010Z",
     "iopub.status.busy": "2021-12-14T17:32:21.222795Z",
     "iopub.status.idle": "2021-12-14T17:32:21.226495Z",
     "shell.execute_reply": "2021-12-14T17:32:21.225867Z",
     "shell.execute_reply.started": "2021-12-14T17:32:21.222988Z"
    },
    "tags": []
   },
   "outputs": [],
   "source": [
    "OUTPUT_DIR = Path('results')"
   ]
  },
  {
   "cell_type": "markdown",
   "id": "mobile-inspection",
   "metadata": {},
   "source": [
    "## Set up R"
   ]
  },
  {
   "cell_type": "code",
   "execution_count": 4,
   "id": "drawn-sterling",
   "metadata": {
    "execution": {
     "iopub.execute_input": "2021-12-14T17:32:21.227421Z",
     "iopub.status.busy": "2021-12-14T17:32:21.227216Z",
     "iopub.status.idle": "2021-12-14T17:32:21.869982Z",
     "shell.execute_reply": "2021-12-14T17:32:21.869383Z",
     "shell.execute_reply.started": "2021-12-14T17:32:21.227400Z"
    },
    "tags": []
   },
   "outputs": [],
   "source": [
    "%load_ext rpy2.ipython"
   ]
  },
  {
   "cell_type": "code",
   "execution_count": 5,
   "id": "elementary-bracket",
   "metadata": {
    "execution": {
     "iopub.execute_input": "2021-12-14T17:32:21.871217Z",
     "iopub.status.busy": "2021-12-14T17:32:21.870948Z",
     "iopub.status.idle": "2021-12-14T17:32:25.000104Z",
     "shell.execute_reply": "2021-12-14T17:32:24.999159Z",
     "shell.execute_reply.started": "2021-12-14T17:32:21.871193Z"
    },
    "tags": []
   },
   "outputs": [
    {
     "name": "stderr",
     "output_type": "stream",
     "text": [
      "R[write to console]: ── Attaching packages ─────────────────────────────────────── tidyverse 1.2.1 ──\n",
      "\n",
      "R[write to console]: ✔ ggplot2 3.3.3     ✔ purrr   0.3.4\n",
      "✔ tibble  3.1.2     ✔ dplyr   1.0.6\n",
      "✔ tidyr   1.1.3     ✔ stringr 1.4.0\n",
      "✔ readr   1.4.0     ✔ forcats 0.5.1\n",
      "\n",
      "R[write to console]: ── Conflicts ────────────────────────────────────────── tidyverse_conflicts() ──\n",
      "✖ dplyr::filter() masks stats::filter()\n",
      "✖ dplyr::lag()    masks stats::lag()\n",
      "\n",
      "R[write to console]: Loading required package: Matrix\n",
      "\n",
      "R[write to console]: \n",
      "Attaching package: ‘Matrix’\n",
      "\n",
      "\n",
      "R[write to console]: The following objects are masked from ‘package:tidyr’:\n",
      "\n",
      "    expand, pack, unpack\n",
      "\n",
      "\n",
      "R[write to console]: Loading required package: mvtnorm\n",
      "\n",
      "R[write to console]: Loading required package: survival\n",
      "\n",
      "R[write to console]: Loading required package: TH.data\n",
      "\n",
      "R[write to console]: Loading required package: MASS\n",
      "\n",
      "R[write to console]: \n",
      "Attaching package: ‘MASS’\n",
      "\n",
      "\n",
      "R[write to console]: The following object is masked from ‘package:dplyr’:\n",
      "\n",
      "    select\n",
      "\n",
      "\n",
      "R[write to console]: \n",
      "Attaching package: ‘TH.data’\n",
      "\n",
      "\n",
      "R[write to console]: The following object is masked from ‘package:MASS’:\n",
      "\n",
      "    geyser\n",
      "\n",
      "\n"
     ]
    }
   ],
   "source": [
    "%%R\n",
    "library(tidyverse)\n",
    "library(ggplot2)\n",
    "library(lme4)\n",
    "library(broom)\n",
    "library(multcomp)"
   ]
  },
  {
   "cell_type": "markdown",
   "id": "corporate-religious",
   "metadata": {
    "tags": []
   },
   "source": [
    "## Build contrast matrices"
   ]
  },
  {
   "cell_type": "markdown",
   "id": "jewish-difference",
   "metadata": {},
   "source": [
    "NOTE: The order of terms is hardcoded. It must match the order in the R model object."
   ]
  },
  {
   "cell_type": "markdown",
   "id": "a8e7531e-1739-4c32-a34f-231017607539",
   "metadata": {},
   "source": [
    "### Main analyses"
   ]
  },
  {
   "cell_type": "code",
   "execution_count": 6,
   "id": "diagnostic-range",
   "metadata": {
    "execution": {
     "iopub.execute_input": "2021-12-14T17:32:25.002222Z",
     "iopub.status.busy": "2021-12-14T17:32:25.001819Z",
     "iopub.status.idle": "2021-12-14T17:32:25.008166Z",
     "shell.execute_reply": "2021-12-14T17:32:25.007431Z",
     "shell.execute_reply.started": "2021-12-14T17:32:25.002184Z"
    },
    "tags": []
   },
   "outputs": [],
   "source": [
    "def rename_terms(model):\n",
    "    terms = model.loc[model.group == \"fixed\", \"term\"]\n",
    "    terms = terms.str.replace(\"area\", \"\").str.replace(\"layer\", \"\").str.replace(\"stimulus_type\", \"\")\n",
    "    return terms"
   ]
  },
  {
   "cell_type": "code",
   "execution_count": 7,
   "id": "large-ordinance",
   "metadata": {
    "execution": {
     "iopub.execute_input": "2021-12-14T17:32:25.010914Z",
     "iopub.status.busy": "2021-12-14T17:32:25.010573Z",
     "iopub.status.idle": "2021-12-14T17:32:25.043253Z",
     "shell.execute_reply": "2021-12-14T17:32:25.042538Z",
     "shell.execute_reply.started": "2021-12-14T17:32:25.010881Z"
    },
    "tags": []
   },
   "outputs": [
    {
     "data": {
      "text/html": [
       "<div>\n",
       "<style scoped>\n",
       "    .dataframe tbody tr th:only-of-type {\n",
       "        vertical-align: middle;\n",
       "    }\n",
       "\n",
       "    .dataframe tbody tr th {\n",
       "        vertical-align: top;\n",
       "    }\n",
       "\n",
       "    .dataframe thead th {\n",
       "        text-align: right;\n",
       "    }\n",
       "</style>\n",
       "<table border=\"1\" class=\"dataframe\">\n",
       "  <thead>\n",
       "    <tr style=\"text-align: right;\">\n",
       "      <th></th>\n",
       "      <th>(Intercept)</th>\n",
       "      <th>L4</th>\n",
       "      <th>L5</th>\n",
       "      <th>natural</th>\n",
       "      <th>L4:natural</th>\n",
       "      <th>L5:natural</th>\n",
       "    </tr>\n",
       "  </thead>\n",
       "  <tbody>\n",
       "    <tr>\n",
       "      <th>L2/3:natural - L2/3:artificial</th>\n",
       "      <td>0</td>\n",
       "      <td>0</td>\n",
       "      <td>0</td>\n",
       "      <td>1</td>\n",
       "      <td>0</td>\n",
       "      <td>0</td>\n",
       "    </tr>\n",
       "    <tr>\n",
       "      <th>L4:natural - L4:artificial</th>\n",
       "      <td>0</td>\n",
       "      <td>0</td>\n",
       "      <td>0</td>\n",
       "      <td>1</td>\n",
       "      <td>1</td>\n",
       "      <td>0</td>\n",
       "    </tr>\n",
       "    <tr>\n",
       "      <th>L5:natural - L5:artificial</th>\n",
       "      <td>0</td>\n",
       "      <td>0</td>\n",
       "      <td>0</td>\n",
       "      <td>1</td>\n",
       "      <td>0</td>\n",
       "      <td>1</td>\n",
       "    </tr>\n",
       "  </tbody>\n",
       "</table>\n",
       "</div>"
      ],
      "text/plain": [
       "                                (Intercept)  L4  L5  natural  L4:natural  \\\n",
       "L2/3:natural - L2/3:artificial            0   0   0        1           0   \n",
       "L4:natural - L4:artificial                0   0   0        1           1   \n",
       "L5:natural - L5:artificial                0   0   0        1           0   \n",
       "\n",
       "                                L5:natural  \n",
       "L2/3:natural - L2/3:artificial           0  \n",
       "L4:natural - L4:artificial               0  \n",
       "L5:natural - L5:artificial               1  "
      ]
     },
     "execution_count": 7,
     "metadata": {},
     "output_type": "execute_result"
    }
   ],
   "source": [
    "terms = [\n",
    "    \"(Intercept)\",\n",
    "    \"L4\",\n",
    "    \"L5\",\n",
    "    \"natural\",\n",
    "    \"L4:natural\",\n",
    "    \"L5:natural\"\n",
    "]\n",
    "contrasts = [\n",
    "    \"L2/3:natural - L2/3:artificial\",\n",
    "    \"L4:natural - L4:artificial\",\n",
    "    \"L5:natural - L5:artificial\",\n",
    "]\n",
    "LAYER_CONTRAST_MATRIX_MAIN = pd.DataFrame(\n",
    "    np.zeros([len(contrasts), len(terms)], dtype=int), \n",
    "    columns=terms,\n",
    "    index=contrasts\n",
    ")\n",
    "# L23:natural - L23:artificial == 0\n",
    "#   (intercept + natural) - (intercept) == 0\n",
    "#   L23:natural == 0\n",
    "LAYER_CONTRAST_MATRIX_MAIN.loc[\"L2/3:natural - L2/3:artificial\", [\"natural\"]] = 1\n",
    "# L4:natural - L4:artificial == 0\n",
    "#   (intercept + L4 + natural + L4:natural) - (intercept + L4) == 0\n",
    "#   natural + L4:natural == 0\n",
    "LAYER_CONTRAST_MATRIX_MAIN.loc[\"L4:natural - L4:artificial\", [\"natural\", \"L4:natural\"]] = 1\n",
    "# L5:natural - L5:artificial == 0\n",
    "#   (intercept + L5 + natural + L5:natural) - (intercept + L5) == 0\n",
    "#   natural + L5:natural == 0\n",
    "LAYER_CONTRAST_MATRIX_MAIN.loc[\"L5:natural - L5:artificial\", [\"natural\", \"L5:natural\"]] = 1\n",
    "\n",
    "LAYER_CONTRAST_MATRIX_MAIN"
   ]
  },
  {
   "cell_type": "code",
   "execution_count": 8,
   "id": "talented-messaging",
   "metadata": {
    "execution": {
     "iopub.execute_input": "2021-12-14T17:32:25.044759Z",
     "iopub.status.busy": "2021-12-14T17:32:25.044439Z",
     "iopub.status.idle": "2021-12-14T17:32:25.071118Z",
     "shell.execute_reply": "2021-12-14T17:32:25.070444Z",
     "shell.execute_reply.started": "2021-12-14T17:32:25.044727Z"
    },
    "tags": []
   },
   "outputs": [
    {
     "data": {
      "text/html": [
       "<div>\n",
       "<style scoped>\n",
       "    .dataframe tbody tr th:only-of-type {\n",
       "        vertical-align: middle;\n",
       "    }\n",
       "\n",
       "    .dataframe tbody tr th {\n",
       "        vertical-align: top;\n",
       "    }\n",
       "\n",
       "    .dataframe thead th {\n",
       "        text-align: right;\n",
       "    }\n",
       "</style>\n",
       "<table border=\"1\" class=\"dataframe\">\n",
       "  <thead>\n",
       "    <tr style=\"text-align: right;\">\n",
       "      <th></th>\n",
       "      <th>(Intercept)</th>\n",
       "      <th>LM</th>\n",
       "      <th>AL</th>\n",
       "      <th>PM</th>\n",
       "      <th>AM</th>\n",
       "      <th>natural</th>\n",
       "      <th>LM:natural</th>\n",
       "      <th>AL:natural</th>\n",
       "      <th>PM:natural</th>\n",
       "      <th>AM:natural</th>\n",
       "    </tr>\n",
       "  </thead>\n",
       "  <tbody>\n",
       "    <tr>\n",
       "      <th>V1:natural - V1:artificial</th>\n",
       "      <td>0</td>\n",
       "      <td>0</td>\n",
       "      <td>0</td>\n",
       "      <td>0</td>\n",
       "      <td>0</td>\n",
       "      <td>1</td>\n",
       "      <td>0</td>\n",
       "      <td>0</td>\n",
       "      <td>0</td>\n",
       "      <td>0</td>\n",
       "    </tr>\n",
       "    <tr>\n",
       "      <th>LM:natural - LM:artificial</th>\n",
       "      <td>0</td>\n",
       "      <td>0</td>\n",
       "      <td>0</td>\n",
       "      <td>0</td>\n",
       "      <td>0</td>\n",
       "      <td>1</td>\n",
       "      <td>1</td>\n",
       "      <td>0</td>\n",
       "      <td>0</td>\n",
       "      <td>0</td>\n",
       "    </tr>\n",
       "    <tr>\n",
       "      <th>AL:natural - AL:artificial</th>\n",
       "      <td>0</td>\n",
       "      <td>0</td>\n",
       "      <td>0</td>\n",
       "      <td>0</td>\n",
       "      <td>0</td>\n",
       "      <td>1</td>\n",
       "      <td>0</td>\n",
       "      <td>1</td>\n",
       "      <td>0</td>\n",
       "      <td>0</td>\n",
       "    </tr>\n",
       "    <tr>\n",
       "      <th>PM:natural - PM:artificial</th>\n",
       "      <td>0</td>\n",
       "      <td>0</td>\n",
       "      <td>0</td>\n",
       "      <td>0</td>\n",
       "      <td>0</td>\n",
       "      <td>1</td>\n",
       "      <td>0</td>\n",
       "      <td>0</td>\n",
       "      <td>1</td>\n",
       "      <td>0</td>\n",
       "    </tr>\n",
       "    <tr>\n",
       "      <th>AM:natural - AM:artificial</th>\n",
       "      <td>0</td>\n",
       "      <td>0</td>\n",
       "      <td>0</td>\n",
       "      <td>0</td>\n",
       "      <td>0</td>\n",
       "      <td>1</td>\n",
       "      <td>0</td>\n",
       "      <td>0</td>\n",
       "      <td>0</td>\n",
       "      <td>1</td>\n",
       "    </tr>\n",
       "  </tbody>\n",
       "</table>\n",
       "</div>"
      ],
      "text/plain": [
       "                            (Intercept)  LM  AL  PM  AM  natural  LM:natural  \\\n",
       "V1:natural - V1:artificial            0   0   0   0   0        1           0   \n",
       "LM:natural - LM:artificial            0   0   0   0   0        1           1   \n",
       "AL:natural - AL:artificial            0   0   0   0   0        1           0   \n",
       "PM:natural - PM:artificial            0   0   0   0   0        1           0   \n",
       "AM:natural - AM:artificial            0   0   0   0   0        1           0   \n",
       "\n",
       "                            AL:natural  PM:natural  AM:natural  \n",
       "V1:natural - V1:artificial           0           0           0  \n",
       "LM:natural - LM:artificial           0           0           0  \n",
       "AL:natural - AL:artificial           1           0           0  \n",
       "PM:natural - PM:artificial           0           1           0  \n",
       "AM:natural - AM:artificial           0           0           1  "
      ]
     },
     "execution_count": 8,
     "metadata": {},
     "output_type": "execute_result"
    }
   ],
   "source": [
    "terms = [\n",
    "    \"(Intercept)\",\n",
    "    \"LM\",\n",
    "    \"AL\",\n",
    "    \"PM\",\n",
    "    \"AM\",\n",
    "    \"natural\",\n",
    "    \"LM:natural\",\n",
    "    \"AL:natural\",\n",
    "    \"PM:natural\",\n",
    "    \"AM:natural\",\n",
    "]\n",
    "contrasts = [\n",
    "    \"V1:natural - V1:artificial\",\n",
    "    \"LM:natural - LM:artificial\",\n",
    "    \"AL:natural - AL:artificial\",\n",
    "    \"PM:natural - PM:artificial\",\n",
    "    \"AM:natural - AM:artificial\",\n",
    "]\n",
    "AREA_CONTRAST_MATRIX_MAIN = pd.DataFrame(\n",
    "    np.zeros([5, len(terms)], dtype=int), \n",
    "    columns=terms,\n",
    "    index=contrasts,\n",
    ")\n",
    "# V1:natural - V1:artificial == 0\n",
    "#   (intercept + natural + V1 + V1:natural) - (intercept + V1) == 0\n",
    "#   natural + V1:natural== 0\n",
    "AREA_CONTRAST_MATRIX_MAIN.loc[\"V1:natural - V1:artificial\", [\"natural\"]] = 1\n",
    "# L:natural - L:artificial == 0\n",
    "#   (intercept + natural + L + L:natural) - (intercept + L) == 0\n",
    "#   natural + L:natural == 0\n",
    "AREA_CONTRAST_MATRIX_MAIN.loc[\"LM:natural - LM:artificial\", [\"natural\", \"LM:natural\"]] = 1\n",
    "# AL:natural - AL:artificial == 0\n",
    "#   (intercept + natural) - (intercept) == 0\n",
    "#   natural == 0\n",
    "AREA_CONTRAST_MATRIX_MAIN.loc[\"AL:natural - AL:artificial\", [\"natural\", \"AL:natural\"]] = 1\n",
    "# PM:natural - PM:artificial == 0\n",
    "#   (intercept + natural + PM + PM:natural) - (intercept + PM) == 0\n",
    "#   natural + PM:natural == 0\n",
    "AREA_CONTRAST_MATRIX_MAIN.loc[\"PM:natural - PM:artificial\", [\"natural\", \"PM:natural\"]] = 1\n",
    "# AM:natural - AM:artificial == 0\n",
    "#   (intercept + natural + AM + AM:natural) - (intercept + AM) == 0\n",
    "#   natural + AM:natural == 0\n",
    "AREA_CONTRAST_MATRIX_MAIN.loc[\"AM:natural - AM:artificial\", [\"natural\", \"AM:natural\"]] = 1\n",
    "\n",
    "AREA_CONTRAST_MATRIX_MAIN"
   ]
  },
  {
   "cell_type": "markdown",
   "id": "a2d92c05-4b13-4b54-8211-4b1efd9026ba",
   "metadata": {},
   "source": [
    "### Arousal covariates"
   ]
  },
  {
   "cell_type": "code",
   "execution_count": 9,
   "id": "796a2f43-f55b-4dc2-a8db-58478dbef05b",
   "metadata": {
    "execution": {
     "iopub.execute_input": "2021-12-14T17:32:25.072633Z",
     "iopub.status.busy": "2021-12-14T17:32:25.072307Z",
     "iopub.status.idle": "2021-12-14T17:32:25.094013Z",
     "shell.execute_reply": "2021-12-14T17:32:25.093281Z",
     "shell.execute_reply.started": "2021-12-14T17:32:25.072600Z"
    },
    "tags": []
   },
   "outputs": [
    {
     "data": {
      "text/html": [
       "<div>\n",
       "<style scoped>\n",
       "    .dataframe tbody tr th:only-of-type {\n",
       "        vertical-align: middle;\n",
       "    }\n",
       "\n",
       "    .dataframe tbody tr th {\n",
       "        vertical-align: top;\n",
       "    }\n",
       "\n",
       "    .dataframe thead th {\n",
       "        text-align: right;\n",
       "    }\n",
       "</style>\n",
       "<table border=\"1\" class=\"dataframe\">\n",
       "  <thead>\n",
       "    <tr style=\"text-align: right;\">\n",
       "      <th></th>\n",
       "      <th>(Intercept)</th>\n",
       "      <th>L4</th>\n",
       "      <th>L5</th>\n",
       "      <th>natural</th>\n",
       "      <th>locomotion</th>\n",
       "      <th>normalized_pupil_diameter</th>\n",
       "      <th>L4:natural</th>\n",
       "      <th>L5:natural</th>\n",
       "    </tr>\n",
       "  </thead>\n",
       "  <tbody>\n",
       "    <tr>\n",
       "      <th>L2/3:natural - L2/3:artificial</th>\n",
       "      <td>0</td>\n",
       "      <td>0</td>\n",
       "      <td>0</td>\n",
       "      <td>1</td>\n",
       "      <td>0</td>\n",
       "      <td>0</td>\n",
       "      <td>0</td>\n",
       "      <td>0</td>\n",
       "    </tr>\n",
       "    <tr>\n",
       "      <th>L4:natural - L4:artificial</th>\n",
       "      <td>0</td>\n",
       "      <td>0</td>\n",
       "      <td>0</td>\n",
       "      <td>1</td>\n",
       "      <td>0</td>\n",
       "      <td>0</td>\n",
       "      <td>1</td>\n",
       "      <td>0</td>\n",
       "    </tr>\n",
       "    <tr>\n",
       "      <th>L5:natural - L5:artificial</th>\n",
       "      <td>0</td>\n",
       "      <td>0</td>\n",
       "      <td>0</td>\n",
       "      <td>1</td>\n",
       "      <td>0</td>\n",
       "      <td>0</td>\n",
       "      <td>0</td>\n",
       "      <td>1</td>\n",
       "    </tr>\n",
       "  </tbody>\n",
       "</table>\n",
       "</div>"
      ],
      "text/plain": [
       "                                (Intercept)  L4  L5  natural  locomotion  \\\n",
       "L2/3:natural - L2/3:artificial            0   0   0        1           0   \n",
       "L4:natural - L4:artificial                0   0   0        1           0   \n",
       "L5:natural - L5:artificial                0   0   0        1           0   \n",
       "\n",
       "                                normalized_pupil_diameter  L4:natural  \\\n",
       "L2/3:natural - L2/3:artificial                          0           0   \n",
       "L4:natural - L4:artificial                              0           1   \n",
       "L5:natural - L5:artificial                              0           0   \n",
       "\n",
       "                                L5:natural  \n",
       "L2/3:natural - L2/3:artificial           0  \n",
       "L4:natural - L4:artificial               0  \n",
       "L5:natural - L5:artificial               1  "
      ]
     },
     "execution_count": 9,
     "metadata": {},
     "output_type": "execute_result"
    }
   ],
   "source": [
    "terms = [\n",
    "    \"(Intercept)\",\n",
    "    \"L4\",\n",
    "    \"L5\",\n",
    "    \"natural\",\n",
    "    \"locomotion\",\n",
    "    \"normalized_pupil_diameter\",\n",
    "    \"L4:natural\",\n",
    "    \"L5:natural\"\n",
    "]\n",
    "contrasts = [\n",
    "    \"L2/3:natural - L2/3:artificial\",\n",
    "    \"L4:natural - L4:artificial\",\n",
    "    \"L5:natural - L5:artificial\",\n",
    "]\n",
    "LAYER_CONTRAST_MATRIX_AROUSAL = pd.DataFrame(\n",
    "    np.zeros([len(contrasts), len(terms)], dtype=int), \n",
    "    columns=terms,\n",
    "    index=contrasts\n",
    ")\n",
    "# L23:natural - L23:artificial == 0\n",
    "#   (intercept + natural) - (intercept) == 0\n",
    "#   L23:natural == 0\n",
    "LAYER_CONTRAST_MATRIX_AROUSAL.loc[\"L2/3:natural - L2/3:artificial\", [\"natural\"]] = 1\n",
    "# L4:natural - L4:artificial == 0\n",
    "#   (intercept + L4 + natural + L4:natural) - (intercept + L4) == 0\n",
    "#   natural + L4:natural == 0\n",
    "LAYER_CONTRAST_MATRIX_AROUSAL.loc[\"L4:natural - L4:artificial\", [\"natural\", \"L4:natural\"]] = 1\n",
    "# L5:natural - L5:artificial == 0\n",
    "#   (intercept + L5 + natural + L5:natural) - (intercept + L5) == 0\n",
    "#   natural + L5:natural == 0\n",
    "LAYER_CONTRAST_MATRIX_AROUSAL.loc[\"L5:natural - L5:artificial\", [\"natural\", \"L5:natural\"]] = 1\n",
    "\n",
    "LAYER_CONTRAST_MATRIX_AROUSAL"
   ]
  },
  {
   "cell_type": "code",
   "execution_count": 10,
   "id": "2a1aa6ef-0bb4-4508-97c5-1ac1a0a8b309",
   "metadata": {
    "execution": {
     "iopub.execute_input": "2021-12-14T17:32:25.095539Z",
     "iopub.status.busy": "2021-12-14T17:32:25.095227Z",
     "iopub.status.idle": "2021-12-14T17:32:25.122777Z",
     "shell.execute_reply": "2021-12-14T17:32:25.122100Z",
     "shell.execute_reply.started": "2021-12-14T17:32:25.095509Z"
    },
    "tags": []
   },
   "outputs": [
    {
     "data": {
      "text/html": [
       "<div>\n",
       "<style scoped>\n",
       "    .dataframe tbody tr th:only-of-type {\n",
       "        vertical-align: middle;\n",
       "    }\n",
       "\n",
       "    .dataframe tbody tr th {\n",
       "        vertical-align: top;\n",
       "    }\n",
       "\n",
       "    .dataframe thead th {\n",
       "        text-align: right;\n",
       "    }\n",
       "</style>\n",
       "<table border=\"1\" class=\"dataframe\">\n",
       "  <thead>\n",
       "    <tr style=\"text-align: right;\">\n",
       "      <th></th>\n",
       "      <th>(Intercept)</th>\n",
       "      <th>LM</th>\n",
       "      <th>AL</th>\n",
       "      <th>PM</th>\n",
       "      <th>AM</th>\n",
       "      <th>natural</th>\n",
       "      <th>locomotion</th>\n",
       "      <th>normalized_pupil_diameter</th>\n",
       "      <th>LM:natural</th>\n",
       "      <th>AL:natural</th>\n",
       "      <th>PM:natural</th>\n",
       "      <th>AM:natural</th>\n",
       "    </tr>\n",
       "  </thead>\n",
       "  <tbody>\n",
       "    <tr>\n",
       "      <th>V1:natural - V1:artificial</th>\n",
       "      <td>0</td>\n",
       "      <td>0</td>\n",
       "      <td>0</td>\n",
       "      <td>0</td>\n",
       "      <td>0</td>\n",
       "      <td>1</td>\n",
       "      <td>0</td>\n",
       "      <td>0</td>\n",
       "      <td>0</td>\n",
       "      <td>0</td>\n",
       "      <td>0</td>\n",
       "      <td>0</td>\n",
       "    </tr>\n",
       "    <tr>\n",
       "      <th>LM:natural - LM:artificial</th>\n",
       "      <td>0</td>\n",
       "      <td>0</td>\n",
       "      <td>0</td>\n",
       "      <td>0</td>\n",
       "      <td>0</td>\n",
       "      <td>1</td>\n",
       "      <td>0</td>\n",
       "      <td>0</td>\n",
       "      <td>1</td>\n",
       "      <td>0</td>\n",
       "      <td>0</td>\n",
       "      <td>0</td>\n",
       "    </tr>\n",
       "    <tr>\n",
       "      <th>AL:natural - AL:artificial</th>\n",
       "      <td>0</td>\n",
       "      <td>0</td>\n",
       "      <td>0</td>\n",
       "      <td>0</td>\n",
       "      <td>0</td>\n",
       "      <td>1</td>\n",
       "      <td>0</td>\n",
       "      <td>0</td>\n",
       "      <td>0</td>\n",
       "      <td>1</td>\n",
       "      <td>0</td>\n",
       "      <td>0</td>\n",
       "    </tr>\n",
       "    <tr>\n",
       "      <th>PM:natural - PM:artificial</th>\n",
       "      <td>0</td>\n",
       "      <td>0</td>\n",
       "      <td>0</td>\n",
       "      <td>0</td>\n",
       "      <td>0</td>\n",
       "      <td>1</td>\n",
       "      <td>0</td>\n",
       "      <td>0</td>\n",
       "      <td>0</td>\n",
       "      <td>0</td>\n",
       "      <td>1</td>\n",
       "      <td>0</td>\n",
       "    </tr>\n",
       "    <tr>\n",
       "      <th>AM:natural - AM:artificial</th>\n",
       "      <td>0</td>\n",
       "      <td>0</td>\n",
       "      <td>0</td>\n",
       "      <td>0</td>\n",
       "      <td>0</td>\n",
       "      <td>1</td>\n",
       "      <td>0</td>\n",
       "      <td>0</td>\n",
       "      <td>0</td>\n",
       "      <td>0</td>\n",
       "      <td>0</td>\n",
       "      <td>1</td>\n",
       "    </tr>\n",
       "  </tbody>\n",
       "</table>\n",
       "</div>"
      ],
      "text/plain": [
       "                            (Intercept)  LM  AL  PM  AM  natural  locomotion  \\\n",
       "V1:natural - V1:artificial            0   0   0   0   0        1           0   \n",
       "LM:natural - LM:artificial            0   0   0   0   0        1           0   \n",
       "AL:natural - AL:artificial            0   0   0   0   0        1           0   \n",
       "PM:natural - PM:artificial            0   0   0   0   0        1           0   \n",
       "AM:natural - AM:artificial            0   0   0   0   0        1           0   \n",
       "\n",
       "                            normalized_pupil_diameter  LM:natural  AL:natural  \\\n",
       "V1:natural - V1:artificial                          0           0           0   \n",
       "LM:natural - LM:artificial                          0           1           0   \n",
       "AL:natural - AL:artificial                          0           0           1   \n",
       "PM:natural - PM:artificial                          0           0           0   \n",
       "AM:natural - AM:artificial                          0           0           0   \n",
       "\n",
       "                            PM:natural  AM:natural  \n",
       "V1:natural - V1:artificial           0           0  \n",
       "LM:natural - LM:artificial           0           0  \n",
       "AL:natural - AL:artificial           0           0  \n",
       "PM:natural - PM:artificial           1           0  \n",
       "AM:natural - AM:artificial           0           1  "
      ]
     },
     "execution_count": 10,
     "metadata": {},
     "output_type": "execute_result"
    }
   ],
   "source": [
    "terms = [\n",
    "    \"(Intercept)\",\n",
    "    \"LM\",\n",
    "    \"AL\",\n",
    "    \"PM\",\n",
    "    \"AM\",\n",
    "    \"natural\",\n",
    "    \"locomotion\",\n",
    "    \"normalized_pupil_diameter\",\n",
    "    \"LM:natural\",\n",
    "    \"AL:natural\",\n",
    "    \"PM:natural\",\n",
    "    \"AM:natural\",\n",
    "]\n",
    "contrasts = [\n",
    "    \"V1:natural - V1:artificial\",\n",
    "    \"LM:natural - LM:artificial\",\n",
    "    \"AL:natural - AL:artificial\",\n",
    "    \"PM:natural - PM:artificial\",\n",
    "    \"AM:natural - AM:artificial\",\n",
    "]\n",
    "AREA_CONTRAST_MATRIX_AROUSAL = pd.DataFrame(\n",
    "    np.zeros([5, len(terms)], dtype=int), \n",
    "    columns=terms,\n",
    "    index=contrasts,\n",
    ")\n",
    "# V1:natural - V1:artificial == 0\n",
    "#   (intercept + natural + V1 + V1:natural) - (intercept + V1) == 0\n",
    "#   natural + V1:natural== 0\n",
    "AREA_CONTRAST_MATRIX_AROUSAL.loc[\"V1:natural - V1:artificial\", [\"natural\"]] = 1\n",
    "# L:natural - L:artificial == 0\n",
    "#   (intercept + natural + L + L:natural) - (intercept + L) == 0\n",
    "#   natural + L:natural == 0\n",
    "AREA_CONTRAST_MATRIX_AROUSAL.loc[\"LM:natural - LM:artificial\", [\"natural\", \"LM:natural\"]] = 1\n",
    "# AL:natural - AL:artificial == 0\n",
    "#   (intercept + natural) - (intercept) == 0\n",
    "#   natural == 0\n",
    "AREA_CONTRAST_MATRIX_AROUSAL.loc[\"AL:natural - AL:artificial\", [\"natural\", \"AL:natural\"]] = 1\n",
    "# PM:natural - PM:artificial == 0\n",
    "#   (intercept + natural + PM + PM:natural) - (intercept + PM) == 0\n",
    "#   natural + PM:natural == 0\n",
    "AREA_CONTRAST_MATRIX_AROUSAL.loc[\"PM:natural - PM:artificial\", [\"natural\", \"PM:natural\"]] = 1\n",
    "# AM:natural - AM:artificial == 0\n",
    "#   (intercept + natural + AM + AM:natural) - (intercept + AM) == 0\n",
    "#   natural + AM:natural == 0\n",
    "AREA_CONTRAST_MATRIX_AROUSAL.loc[\"AM:natural - AM:artificial\", [\"natural\", \"AM:natural\"]] = 1\n",
    "\n",
    "AREA_CONTRAST_MATRIX_AROUSAL"
   ]
  },
  {
   "cell_type": "markdown",
   "id": "narrow-drink",
   "metadata": {
    "tags": []
   },
   "source": [
    "## LME functions"
   ]
  },
  {
   "cell_type": "code",
   "execution_count": 11,
   "id": "mexican-voice",
   "metadata": {
    "execution": {
     "iopub.execute_input": "2021-12-14T17:32:25.124219Z",
     "iopub.status.busy": "2021-12-14T17:32:25.123920Z",
     "iopub.status.idle": "2021-12-14T17:32:25.135102Z",
     "shell.execute_reply": "2021-12-14T17:32:25.134358Z",
     "shell.execute_reply.started": "2021-12-14T17:32:25.124187Z"
    },
    "tags": []
   },
   "outputs": [],
   "source": [
    "%%R\n",
    "compare_lme_models = function(data, formula, reduced_formula, contrast_matrix, posthoc_alternative) {\n",
    "    # Estimate models\n",
    "    model = lmer(formula, data=data, REML=FALSE)\n",
    "    reduced_model = lmer(reduced_formula, data=data, REML=FALSE)\n",
    "    # Compare models\n",
    "    model_comparison = anova(model, reduced_model)\n",
    "    \n",
    "    # Run post hoc tests\n",
    "    posthoc_model = glht(model, as.matrix(contrast_matrix), alternative = posthoc_alternative)\n",
    "    posthoc_confidence_intervals = confint(posthoc_model)\n",
    "    \n",
    "    tidy_model = tidy(model)\n",
    "    tidy_reduced_model = tidy(reduced_model)\n",
    "    tidy_comparison = tidy(model_comparison)\n",
    "    tidy_posthoc = tidy(summary(posthoc_model))\n",
    "    tidy_posthoc_confidence_intervals = tidy(posthoc_confidence_intervals)\n",
    "\n",
    "    tidy_comparison$test_type = \"likelihood_ratio\"\n",
    "    tidy_posthoc$test_type = \"posthoc\"\n",
    "    \n",
    "    # Return output in tidy form\n",
    "    list(\n",
    "        \"model\" = tidy_model,\n",
    "        \"reduced_model\" = tidy_reduced_model,\n",
    "        \"comparison\" = tidy_comparison,\n",
    "        \"posthoc\" = tidy_posthoc,\n",
    "        \"comparison_description\" = capture.output(print(model_comparison)),\n",
    "        \"posthoc_description\" = capture.output(print(summary(posthoc_model))),\n",
    "        \"posthoc_confidence_intervals\" = capture.output(print(posthoc_confidence_intervals))\n",
    "    )\n",
    "}"
   ]
  },
  {
   "cell_type": "code",
   "execution_count": 12,
   "id": "returning-designation",
   "metadata": {
    "execution": {
     "iopub.execute_input": "2021-12-14T17:32:25.136557Z",
     "iopub.status.busy": "2021-12-14T17:32:25.136247Z",
     "iopub.status.idle": "2021-12-14T17:32:25.144159Z",
     "shell.execute_reply": "2021-12-14T17:32:25.143290Z",
     "shell.execute_reply.started": "2021-12-14T17:32:25.136525Z"
    },
    "tags": []
   },
   "outputs": [],
   "source": [
    "import rpy2.robjects as ro\n",
    "\n",
    "\n",
    "def lme_result_to_python(lme_result):\n",
    "    \"\"\"Convert the output of the R function `compare_lme_models` to Python objects.\"\"\"\n",
    "    with ro.conversion.localconverter(ro.default_converter + ro.pandas2ri.converter):\n",
    "        output = dict(\n",
    "            zip(\n",
    "                [\"model\", \"reduced_model\", \"comparison\", \"posthoc\"],\n",
    "                list(map(ro.conversion.rpy2py, lme_result[:4])),\n",
    "            )\n",
    "        )\n",
    "    output.update(\n",
    "        {\n",
    "            \"comparison_description\": \"\\n\".join(lme_result[4]),\n",
    "            \"posthoc_description\": \"\\n\".join(lme_result[5]),\n",
    "            \"posthoc_confidence_intervals\": \"\\n\".join(lme_result[6]),\n",
    "        }\n",
    "    )\n",
    "    return output"
   ]
  },
  {
   "cell_type": "code",
   "execution_count": 13,
   "id": "qualified-warner",
   "metadata": {
    "execution": {
     "iopub.execute_input": "2021-12-14T17:32:25.145549Z",
     "iopub.status.busy": "2021-12-14T17:32:25.145260Z",
     "iopub.status.idle": "2021-12-14T17:32:25.153496Z",
     "shell.execute_reply": "2021-12-14T17:32:25.152652Z",
     "shell.execute_reply.started": "2021-12-14T17:32:25.145522Z"
    },
    "tags": []
   },
   "outputs": [],
   "source": [
    "def run_lme(data, formula, reduced_formula, contrast_matrix, posthoc_alternative):\n",
    "    \"\"\"\n",
    "    Keyword Arguments:\n",
    "        posthoc_alternative: The type of post-hoc test to perform ('two.sided', 'less', 'greater')\n",
    "    \"\"\"\n",
    "    lme_result = %R -i data -i formula -i reduced_formula -i contrast_matrix -i posthoc_alternative compare_lme_models(data, formula, reduced_formula, contrast_matrix, posthoc_alternative)\n",
    "    # Check that contrast matrix terms are as expected\n",
    "    lme_result = lme_result_to_python(lme_result)\n",
    "    expected_terms = list(contrast_matrix.columns)\n",
    "    actual_terms = list(rename_terms(lme_result['model']))\n",
    "    assert expected_terms == actual_terms, (\n",
    "        'Unexpected terms in the posthoc model; check the contrast matrix!\\n'\n",
    "        f'  Expected: {expected_terms}\\n'\n",
    "        f'    Actual: {actual_terms}'\n",
    "    )\n",
    "    return lme_result"
   ]
  },
  {
   "cell_type": "code",
   "execution_count": 14,
   "id": "bored-holocaust",
   "metadata": {
    "execution": {
     "iopub.execute_input": "2021-12-14T17:32:25.316785Z",
     "iopub.status.busy": "2021-12-14T17:32:25.316358Z",
     "iopub.status.idle": "2021-12-14T17:32:25.320560Z",
     "shell.execute_reply": "2021-12-14T17:32:25.319857Z",
     "shell.execute_reply.started": "2021-12-14T17:32:25.316750Z"
    },
    "tags": []
   },
   "outputs": [],
   "source": [
    "EXPECTED_NUMBER_OF_OBSERVATIONS = 2200"
   ]
  },
  {
   "cell_type": "code",
   "execution_count": 15,
   "id": "theoretical-percentage",
   "metadata": {
    "execution": {
     "iopub.execute_input": "2021-12-14T17:32:25.702116Z",
     "iopub.status.busy": "2021-12-14T17:32:25.701713Z",
     "iopub.status.idle": "2021-12-14T17:32:25.714744Z",
     "shell.execute_reply": "2021-12-14T17:32:25.713937Z",
     "shell.execute_reply.started": "2021-12-14T17:32:25.702080Z"
    },
    "tags": []
   },
   "outputs": [],
   "source": [
    "def run_stats(\n",
    "    data,\n",
    "    output_path,\n",
    "    prefix=\"\",\n",
    "):\n",
    "    assert (\n",
    "        data.shape[0] == EXPECTED_NUMBER_OF_OBSERVATIONS\n",
    "    ), \"Unexpected number of observations, check parameters!\"\n",
    "\n",
    "    posthoc_alternative = \"greater\"\n",
    "\n",
    "    layer_result = run_lme(\n",
    "        data,\n",
    "        LAYER_FORMULA,\n",
    "        LAYER_REDUCED_FORMULA,\n",
    "        LAYER_CONTRAST_MATRIX,\n",
    "        posthoc_alternative=posthoc_alternative,\n",
    "    )\n",
    "    layer_result_df = layer_result[\"comparison\"].merge(\n",
    "        layer_result[\"posthoc\"], how=\"outer\"\n",
    "    )\n",
    "    layer_result_df[\"interaction\"] = \"layer\"\n",
    "    layer_result_df[\"formula\"] = LAYER_FORMULA\n",
    "    layer_result_df[\"reduced_formula\"] = LAYER_REDUCED_FORMULA\n",
    "\n",
    "    area_result = run_lme(\n",
    "        data,\n",
    "        AREA_FORMULA,\n",
    "        AREA_REDUCED_FORMULA,\n",
    "        AREA_CONTRAST_MATRIX,\n",
    "        posthoc_alternative=posthoc_alternative,\n",
    "    )\n",
    "    area_result_df = area_result[\"comparison\"].merge(\n",
    "        area_result[\"posthoc\"], how=\"outer\"\n",
    "    )\n",
    "    area_result_df[\"interaction\"] = \"area\"\n",
    "    area_result_df[\"formula\"] = AREA_FORMULA\n",
    "    area_result_df[\"reduced_formula\"] = AREA_REDUCED_FORMULA\n",
    "\n",
    "    result_df = pd.concat([layer_result_df, area_result_df], axis=\"rows\")\n",
    "    result_df[\"posthoc_alternative\"] = posthoc_alternative\n",
    "\n",
    "    with output_path.open(mode=\"wt\") as f:\n",
    "        f.write(\n",
    "            prefix\n",
    "            + \"\\n\".join(\n",
    "                [\n",
    "                    \"=\" * 80,\n",
    "                    \"Layer\",\n",
    "                    \"=\" * 80,\n",
    "                    layer_result[\"comparison_description\"],\n",
    "                    layer_result[\"posthoc_description\"],\n",
    "                    layer_result[\"posthoc_confidence_intervals\"],\n",
    "                    \"\",\n",
    "                    \"=\" * 80,\n",
    "                    \"Area\",\n",
    "                    \"=\" * 80,\n",
    "                    area_result[\"comparison_description\"],\n",
    "                    area_result[\"posthoc_description\"],\n",
    "                    area_result[\"posthoc_confidence_intervals\"],\n",
    "                    \"\\n\"*2,\n",
    "                    \"~\"*80,\n",
    "                    \"\\n\"*2,\n",
    "                ]\n",
    "            )\n",
    "        )\n",
    "\n",
    "    return result_df"
   ]
  },
  {
   "cell_type": "code",
   "execution_count": 16,
   "id": "4c8db8ac-cc2b-4627-8b33-53323ea01c90",
   "metadata": {
    "execution": {
     "iopub.execute_input": "2021-12-14T17:32:26.232884Z",
     "iopub.status.busy": "2021-12-14T17:32:26.232459Z",
     "iopub.status.idle": "2021-12-14T17:32:26.239846Z",
     "shell.execute_reply": "2021-12-14T17:32:26.239059Z",
     "shell.execute_reply.started": "2021-12-14T17:32:26.232816Z"
    },
    "tags": []
   },
   "outputs": [],
   "source": [
    "def run_all_stats(\n",
    "    group, \n",
    "    grouping_parameters=(), \n",
    "    output_dir='', \n",
    "    filename_prefix=\"spectral-differentiation\", \n",
    "    *args, \n",
    "    **kwargs,\n",
    "):\n",
    "    if len(grouping_parameters) > 1:\n",
    "        params = dict(zip(grouping_parameters, group.name))\n",
    "    else:\n",
    "        params = {grouping_parameters[0]: group.name}\n",
    "    output_path = (output_dir / (\"__\".join([filename_prefix, analysis.make_filename(params)]) + '.txt'))\n",
    "    prefix = \"\\n\".join(\n",
    "        [\n",
    "            \"Parameters:\",\n",
    "            str(params),\n",
    "            \"\\n\\n\",\n",
    "        ]\n",
    "    )\n",
    "    return run_stats(group, output_path, *args, prefix=prefix, **kwargs)"
   ]
  },
  {
   "cell_type": "markdown",
   "id": "white-algebra",
   "metadata": {
    "tags": []
   },
   "source": [
    "# Spectral differentiation"
   ]
  },
  {
   "cell_type": "markdown",
   "id": "12d23a81-0225-4fc2-b398-477e163e03ba",
   "metadata": {},
   "source": [
    "### Figures 3 and related figures\n",
    "\n",
    "- Main results\n",
    "- Sensitivity analysis\n",
    "- Arousal variables as covariates\n",
    "- Event data\n",
    "- DF/F data with transients removed"
   ]
  },
  {
   "cell_type": "code",
   "execution_count": 17,
   "id": "fe9050ca-c6a8-4e84-b6f3-607556c9044d",
   "metadata": {
    "execution": {
     "iopub.execute_input": "2021-12-14T17:32:27.394985Z",
     "iopub.status.busy": "2021-12-14T17:32:27.394577Z",
     "iopub.status.idle": "2021-12-14T17:32:27.398681Z",
     "shell.execute_reply": "2021-12-14T17:32:27.397915Z",
     "shell.execute_reply.started": "2021-12-14T17:32:27.394947Z"
    },
    "tags": []
   },
   "outputs": [],
   "source": [
    "response = \"log(normalized differentiation)\""
   ]
  },
  {
   "cell_type": "code",
   "execution_count": 18,
   "id": "146f4880-0069-41d1-acc7-95b06a2c7e54",
   "metadata": {
    "execution": {
     "iopub.execute_input": "2021-12-14T17:32:27.676614Z",
     "iopub.status.busy": "2021-12-14T17:32:27.676228Z",
     "iopub.status.idle": "2021-12-14T17:32:27.680196Z",
     "shell.execute_reply": "2021-12-14T17:32:27.679475Z",
     "shell.execute_reply.started": "2021-12-14T17:32:27.676580Z"
    },
    "tags": []
   },
   "outputs": [],
   "source": [
    "LAYER_CONTRAST_MATRIX = LAYER_CONTRAST_MATRIX_MAIN"
   ]
  },
  {
   "cell_type": "code",
   "execution_count": 19,
   "id": "c7241319-67e6-453f-9104-d4866301e2bc",
   "metadata": {
    "execution": {
     "iopub.execute_input": "2021-12-14T17:32:27.976415Z",
     "iopub.status.busy": "2021-12-14T17:32:27.976043Z",
     "iopub.status.idle": "2021-12-14T17:32:27.980087Z",
     "shell.execute_reply": "2021-12-14T17:32:27.979421Z",
     "shell.execute_reply.started": "2021-12-14T17:32:27.976379Z"
    },
    "tags": []
   },
   "outputs": [],
   "source": [
    "AREA_CONTRAST_MATRIX = AREA_CONTRAST_MATRIX_MAIN"
   ]
  },
  {
   "cell_type": "markdown",
   "id": "broken-generator",
   "metadata": {},
   "source": [
    "## Load data"
   ]
  },
  {
   "cell_type": "code",
   "execution_count": 20,
   "id": "f8e3d8a2-4829-4a6f-8098-0972e8caa0f9",
   "metadata": {
    "execution": {
     "iopub.execute_input": "2021-12-14T17:32:28.609846Z",
     "iopub.status.busy": "2021-12-14T17:32:28.609448Z",
     "iopub.status.idle": "2021-12-14T17:32:29.161544Z",
     "shell.execute_reply": "2021-12-14T17:32:29.160705Z",
     "shell.execute_reply.started": "2021-12-14T17:32:28.609807Z"
    },
    "tags": []
   },
   "outputs": [],
   "source": [
    "df = pd.read_parquet(\"results/sensitivity_analysis.parquet\")\n",
    "\n",
    "main = pd.read_parquet(\"results/main.parquet\")\n",
    "\n",
    "main_events = pd.read_parquet(\"results/main__events.parquet\")\n",
    "\n",
    "main_no_transients = pd.read_parquet(\"results/main__no-transients.parquet\")"
   ]
  },
  {
   "cell_type": "code",
   "execution_count": 21,
   "id": "c728b1e5-4819-4aef-b91d-ca2c7d6ff0d9",
   "metadata": {
    "execution": {
     "iopub.execute_input": "2021-12-14T17:32:29.163340Z",
     "iopub.status.busy": "2021-12-14T17:32:29.163021Z",
     "iopub.status.idle": "2021-12-14T17:32:29.182036Z",
     "shell.execute_reply": "2021-12-14T17:32:29.181272Z",
     "shell.execute_reply.started": "2021-12-14T17:32:29.163305Z"
    },
    "tags": []
   },
   "outputs": [],
   "source": [
    "for data in [df, main, main_events, main_no_transients]:\n",
    "    analysis.prepare_data_for_r(data, response)"
   ]
  },
  {
   "cell_type": "markdown",
   "id": "present-compatibility",
   "metadata": {},
   "source": [
    "## Estimate models"
   ]
  },
  {
   "cell_type": "code",
   "execution_count": 22,
   "id": "controlled-trader",
   "metadata": {
    "execution": {
     "iopub.execute_input": "2021-12-14T17:32:29.890674Z",
     "iopub.status.busy": "2021-12-14T17:32:29.890288Z",
     "iopub.status.idle": "2021-12-14T17:32:29.895910Z",
     "shell.execute_reply": "2021-12-14T17:32:29.895163Z",
     "shell.execute_reply.started": "2021-12-14T17:32:29.890636Z"
    },
    "tags": []
   },
   "outputs": [
    {
     "name": "stdout",
     "output_type": "stream",
     "text": [
      "`log(normalized differentiation)` ~ 1 + layer * stimulus_type + (1 | session)\n",
      "`log(normalized differentiation)` ~ 1 + layer + stimulus_type + (1 | session)\n"
     ]
    }
   ],
   "source": [
    "LAYER_FORMULA = f\"`{response}` ~ 1 + layer * stimulus_type + (1 | session)\"\n",
    "LAYER_REDUCED_FORMULA = f\"`{response}` ~ 1 + layer + stimulus_type + (1 | session)\" \n",
    "print(LAYER_FORMULA)\n",
    "print(LAYER_REDUCED_FORMULA)"
   ]
  },
  {
   "cell_type": "code",
   "execution_count": 23,
   "id": "immune-amino",
   "metadata": {
    "execution": {
     "iopub.execute_input": "2021-12-14T17:32:30.122873Z",
     "iopub.status.busy": "2021-12-14T17:32:30.122476Z",
     "iopub.status.idle": "2021-12-14T17:32:30.128016Z",
     "shell.execute_reply": "2021-12-14T17:32:30.127182Z",
     "shell.execute_reply.started": "2021-12-14T17:32:30.122835Z"
    },
    "tags": []
   },
   "outputs": [
    {
     "name": "stdout",
     "output_type": "stream",
     "text": [
      "`log(normalized differentiation)` ~ 1 + area * stimulus_type + (1 | session)\n",
      "`log(normalized differentiation)` ~ 1 + area + stimulus_type + (1 | session)\n"
     ]
    }
   ],
   "source": [
    "AREA_FORMULA = f\"`{response}` ~ 1 + area * stimulus_type + (1 | session)\"\n",
    "AREA_REDUCED_FORMULA = f\"`{response}` ~ 1 + area + stimulus_type + (1 | session)\" \n",
    "print(AREA_FORMULA)\n",
    "print(AREA_REDUCED_FORMULA)"
   ]
  },
  {
   "cell_type": "code",
   "execution_count": 24,
   "id": "8c0e071f-6d61-4e91-8b9a-f0481b4d52a9",
   "metadata": {
    "execution": {
     "iopub.execute_input": "2021-12-14T17:32:30.495526Z",
     "iopub.status.busy": "2021-12-14T17:32:30.495128Z",
     "iopub.status.idle": "2021-12-14T17:32:30.499284Z",
     "shell.execute_reply": "2021-12-14T17:32:30.498574Z",
     "shell.execute_reply.started": "2021-12-14T17:32:30.495488Z"
    },
    "tags": []
   },
   "outputs": [],
   "source": [
    "LAYER_CONTRAST_MATRIX = LAYER_CONTRAST_MATRIX_MAIN\n",
    "AREA_CONTRAST_MATRIX = AREA_CONTRAST_MATRIX_MAIN"
   ]
  },
  {
   "cell_type": "code",
   "execution_count": 25,
   "id": "0e666e7c-0560-43b7-a066-fc0c91be0393",
   "metadata": {
    "execution": {
     "iopub.execute_input": "2021-12-14T17:32:30.780587Z",
     "iopub.status.busy": "2021-12-14T17:32:30.780222Z",
     "iopub.status.idle": "2021-12-14T17:32:30.784425Z",
     "shell.execute_reply": "2021-12-14T17:32:30.783729Z",
     "shell.execute_reply.started": "2021-12-14T17:32:30.780555Z"
    },
    "tags": []
   },
   "outputs": [],
   "source": [
    "GROUPING_PARAMETERS = [\n",
    "    \"state_length\",\n",
    "    \"metric\",\n",
    "    \"window\",\n",
    "    \"window_param\",\n",
    "    \"overlap\",\n",
    "    \"log_frequency\",\n",
    "]"
   ]
  },
  {
   "cell_type": "code",
   "execution_count": 26,
   "id": "84da7426-29ce-4c78-beed-2b90ce802013",
   "metadata": {
    "execution": {
     "iopub.execute_input": "2021-12-14T17:32:31.012044Z",
     "iopub.status.busy": "2021-12-14T17:32:31.011640Z",
     "iopub.status.idle": "2021-12-14T17:32:31.022634Z",
     "shell.execute_reply": "2021-12-14T17:32:31.021731Z",
     "shell.execute_reply.started": "2021-12-14T17:32:31.012005Z"
    },
    "tags": []
   },
   "outputs": [],
   "source": [
    "def sensitivity_analysis(data, output_dir):\n",
    "    # Run for all combinations\n",
    "    stats = (\n",
    "        data.reset_index()\n",
    "        .groupby(GROUPING_PARAMETERS, dropna=False)\n",
    "        .progress_apply(\n",
    "            run_all_stats, \n",
    "            grouping_parameters=GROUPING_PARAMETERS,\n",
    "            output_dir=output_dir, \n",
    "            filename_prefix='spectral-differentiation',\n",
    "        )\n",
    "    )\n",
    "    stats.index = stats.index.droplevel(None)\n",
    "\n",
    "    index = stats.index.names\n",
    "    stats = stats.reset_index()\n",
    "    # Remap values for display\n",
    "    stats = stats.assign(\n",
    "        window=stats['window'].replace({None: 'rectangular'}),\n",
    "        overlap=stats['overlap'].fillna(0),\n",
    "    )\n",
    "    # Rename posthoc differences\n",
    "    renames = {\n",
    "        'layer': {\n",
    "            \"L2/3:natural - L2/3:artificial\": \"L2/3\",\n",
    "            \"L4:natural - L4:artificial\": \"L4\",\n",
    "            \"L5:natural - L5:artificial\": \"L5\",\n",
    "        },\n",
    "        'area': {\n",
    "            \"V1:natural - V1:artificial\": \"V1\",\n",
    "            \"LM:natural - LM:artificial\": \"LM\",\n",
    "            \"AL:natural - AL:artificial\": \"AL\",\n",
    "            \"PM:natural - PM:artificial\": \"PM\",\n",
    "            \"AM:natural - AM:artificial\": \"AM\",\n",
    "        }\n",
    "    }\n",
    "    for interaction, rename in renames.items():\n",
    "        stats[interaction] = stats[\"lhs\"].map(rename)\n",
    "        stats[interaction] = pd.Categorical(\n",
    "            stats[interaction], categories=rename.values(), ordered=True\n",
    "        )\n",
    "    # Restore index\n",
    "    stats = stats.set_index(index)\n",
    "    \n",
    "    return stats"
   ]
  },
  {
   "cell_type": "code",
   "execution_count": 27,
   "id": "8aebd332-8879-4441-b0ea-24a491d0edd1",
   "metadata": {
    "execution": {
     "iopub.execute_input": "2021-12-14T17:32:31.215159Z",
     "iopub.status.busy": "2021-12-14T17:32:31.214784Z",
     "iopub.status.idle": "2021-12-14T17:35:19.232753Z",
     "shell.execute_reply": "2021-12-14T17:35:19.232013Z",
     "shell.execute_reply.started": "2021-12-14T17:32:31.215125Z"
    },
    "tags": []
   },
   "outputs": [
    {
     "name": "stdout",
     "output_type": "stream",
     "text": [
      "(237600, 34)\n"
     ]
    },
    {
     "data": {
      "application/vnd.jupyter.widget-view+json": {
       "model_id": "453bc61ab58b40cbacc37272ba0d4b5e",
       "version_major": 2,
       "version_minor": 0
      },
      "text/plain": [
       "  0%|          | 0/108 [00:00<?, ?it/s]"
      ]
     },
     "metadata": {},
     "output_type": "display_data"
    },
    {
     "name": "stderr",
     "output_type": "stream",
     "text": [
      "/home/wmayner/miniconda3/envs/openscope-differentiation-test3/lib/python3.8/site-packages/pandas/core/arrays/datetimes.py:2085: PytzUsageWarning: The zone attribute is specific to pytz's interface; please migrate to a new time zone provider. For more details on how to do so, see https://pytz-deprecation-shim.readthedocs.io/en/latest/migration.html\n",
      "  values, tz_parsed = conversion.datetime_to_datetime64(data)\n",
      "/home/wmayner/miniconda3/envs/openscope-differentiation-test3/lib/python3.8/site-packages/pandas/core/arrays/datetimes.py:2201: PytzUsageWarning: The zone attribute is specific to pytz's interface; please migrate to a new time zone provider. For more details on how to do so, see https://pytz-deprecation-shim.readthedocs.io/en/latest/migration.html\n",
      "  elif not timezones.tz_compare(tz, inferred_tz):\n",
      "/home/wmayner/miniconda3/envs/openscope-differentiation-test3/lib/python3.8/site-packages/pandas/core/arrays/datetimes.py:2282: PytzUsageWarning: The zone attribute is specific to pytz's interface; please migrate to a new time zone provider. For more details on how to do so, see https://pytz-deprecation-shim.readthedocs.io/en/latest/migration.html\n",
      "  if tz is not None and not timezones.tz_compare(tz, dtz):\n",
      "/home/wmayner/miniconda3/envs/openscope-differentiation-test3/lib/python3.8/site-packages/pandas/core/dtypes/cast.py:1329: PytzUsageWarning: The zone attribute is specific to pytz's interface; please migrate to a new time zone provider. For more details on how to do so, see https://pytz-deprecation-shim.readthedocs.io/en/latest/migration.html\n",
      "  values, tz = conversion.datetime_to_datetime64(v)\n"
     ]
    }
   ],
   "source": [
    "output_dir = OUTPUT_DIR/'stats'\n",
    "output_dir.mkdir(exist_ok=True, parents=True)\n",
    "\n",
    "# Unscrambled vs. scrambled\n",
    "subset = (\n",
    "    df\n",
    "    .loc[df[\"stimulus_is_scrambled_pair\"]]\n",
    "    .reset_index()\n",
    ")\n",
    "print(subset.shape)\n",
    "\n",
    "stats = sensitivity_analysis(subset, output_dir)\n",
    "stats.to_parquet(OUTPUT_DIR/'stats.parquet')"
   ]
  },
  {
   "cell_type": "markdown",
   "id": "fd851639-3ab4-4f07-868e-463ead5b51d8",
   "metadata": {},
   "source": [
    "### Figure 3"
   ]
  },
  {
   "cell_type": "code",
   "execution_count": 28,
   "id": "ce5bff83-2cc9-4f7f-b874-1f59d6efefb5",
   "metadata": {
    "execution": {
     "iopub.execute_input": "2021-12-14T17:35:19.234462Z",
     "iopub.status.busy": "2021-12-14T17:35:19.234180Z",
     "iopub.status.idle": "2021-12-14T17:35:19.403269Z",
     "shell.execute_reply": "2021-12-14T17:35:19.401979Z",
     "shell.execute_reply.started": "2021-12-14T17:35:19.234439Z"
    },
    "tags": []
   },
   "outputs": [
    {
     "name": "stdout",
     "output_type": "stream",
     "text": [
      "Parameters:\n",
      "{'state_length': 1.0, 'metric': 'euclidean', 'window': nan, 'window_param': -1.0, 'overlap': 0.0, 'log_frequency': False}\n",
      "\n",
      "\n",
      "================================================================================\n",
      "Layer\n",
      "================================================================================\n",
      "Data: data\n",
      "Models:\n",
      "reduced_model: `log(normalized differentiation)` ~ 1 + layer + stimulus_type + \n",
      "reduced_model:     (1 | session)\n",
      "model: `log(normalized differentiation)` ~ 1 + layer * stimulus_type + \n",
      "model:     (1 | session)\n",
      "              Df    AIC    BIC  logLik deviance  Chisq Chi Df Pr(>Chisq)   \n",
      "reduced_model  6 2340.0 2374.1 -1164.0   2328.0                            \n",
      "model          8 2330.6 2376.2 -1157.3   2314.6 13.379      2   0.001244 **\n",
      "---\n",
      "Signif. codes:  0 ‘***’ 0.001 ‘**’ 0.01 ‘*’ 0.05 ‘.’ 0.1 ‘ ’ 1\n",
      "\n",
      "\t Simultaneous Tests for General Linear Hypotheses\n",
      "\n",
      "Fit: lmer(formula = `log(normalized differentiation)` ~ 1 + layer * \n",
      "    stimulus_type + (1 | session), data = data, REML = FALSE)\n",
      "\n",
      "Linear Hypotheses:\n",
      "                                     Estimate Std. Error z value   Pr(>z)    \n",
      "L2/3:natural - L2/3:artificial <= 0  0.113259   0.029300   3.866 0.000166 ***\n",
      "L4:natural - L4:artificial <= 0      0.005594   0.029300   0.191 0.809191    \n",
      "L5:natural - L5:artificial <= 0     -0.035425   0.030328  -1.168 0.998211    \n",
      "---\n",
      "Signif. codes:  0 ‘***’ 0.001 ‘**’ 0.01 ‘*’ 0.05 ‘.’ 0.1 ‘ ’ 1\n",
      "(Adjusted p values reported -- single-step method)\n",
      "\n",
      "\n",
      "\t Simultaneous Confidence Intervals\n",
      "\n",
      "Fit: lmer(formula = `log(normalized differentiation)` ~ 1 + layer * \n",
      "    stimulus_type + (1 | session), data = data, REML = FALSE)\n",
      "\n",
      "Quantile = -2.1211\n",
      "95% family-wise confidence level\n",
      " \n",
      "\n",
      "Linear Hypotheses:\n",
      "                                    Estimate  lwr       upr      \n",
      "L2/3:natural - L2/3:artificial <= 0  0.113259  0.051113       Inf\n",
      "L4:natural - L4:artificial <= 0      0.005594 -0.056552       Inf\n",
      "L5:natural - L5:artificial <= 0     -0.035425 -0.099752       Inf\n",
      "\n",
      "\n",
      "================================================================================\n",
      "Area\n",
      "================================================================================\n",
      "Data: data\n",
      "Models:\n",
      "reduced_model: `log(normalized differentiation)` ~ 1 + area + stimulus_type + \n",
      "reduced_model:     (1 | session)\n",
      "model: `log(normalized differentiation)` ~ 1 + area * stimulus_type + \n",
      "model:     (1 | session)\n",
      "              Df    AIC    BIC  logLik deviance  Chisq Chi Df Pr(>Chisq)   \n",
      "reduced_model  8 2347.2 2392.8 -1165.6   2331.2                            \n",
      "model         12 2340.0 2408.3 -1158.0   2316.0 15.203      4   0.004299 **\n",
      "---\n",
      "Signif. codes:  0 ‘***’ 0.001 ‘**’ 0.01 ‘*’ 0.05 ‘.’ 0.1 ‘ ’ 1\n",
      "\n",
      "\t Simultaneous Tests for General Linear Hypotheses\n",
      "\n",
      "Fit: lmer(formula = `log(normalized differentiation)` ~ 1 + area * \n",
      "    stimulus_type + (1 | session), data = data, REML = FALSE)\n",
      "\n",
      "Linear Hypotheses:\n",
      "                                 Estimate Std. Error z value Pr(>z)  \n",
      "V1:natural - V1:artificial <= 0  0.026602   0.037810   0.704 0.7479  \n",
      "LM:natural - LM:artificial <= 0 -0.008836   0.037810  -0.234 0.9887  \n",
      "AL:natural - AL:artificial <= 0  0.115221   0.040103   2.873 0.0101 *\n",
      "PM:natural - PM:artificial <= 0 -0.069673   0.037810  -1.843 1.0000  \n",
      "AM:natural - AM:artificial <= 0  0.092470   0.037810   2.446 0.0356 *\n",
      "---\n",
      "Signif. codes:  0 ‘***’ 0.001 ‘**’ 0.01 ‘*’ 0.05 ‘.’ 0.1 ‘ ’ 1\n",
      "(Adjusted p values reported -- single-step method)\n",
      "\n",
      "\n",
      "\t Simultaneous Confidence Intervals\n",
      "\n",
      "Fit: lmer(formula = `log(normalized differentiation)` ~ 1 + area * \n",
      "    stimulus_type + (1 | session), data = data, REML = FALSE)\n",
      "\n",
      "Quantile = -2.319\n",
      "95% family-wise confidence level\n",
      " \n",
      "\n",
      "Linear Hypotheses:\n",
      "                                Estimate  lwr       upr      \n",
      "V1:natural - V1:artificial <= 0  0.026602 -0.061077       Inf\n",
      "LM:natural - LM:artificial <= 0 -0.008836 -0.096514       Inf\n",
      "AL:natural - AL:artificial <= 0  0.115221  0.022224       Inf\n",
      "PM:natural - PM:artificial <= 0 -0.069673 -0.157352       Inf\n",
      "AM:natural - AM:artificial <= 0  0.092470  0.004791       Inf\n",
      "\n",
      "\n",
      "\n",
      "\n",
      "~~~~~~~~~~~~~~~~~~~~~~~~~~~~~~~~~~~~~~~~~~~~~~~~~~~~~~~~~~~~~~~~~~~~~~~~~~~~~~~~\n",
      "\n",
      "\n"
     ]
    }
   ],
   "source": [
    "cat results/stats/spectral-differentiation__state_length-1.0__metric-euclidean__window-nan__window_param--1.0__overlap-0.0__log_frequency-False.txt"
   ]
  },
  {
   "cell_type": "markdown",
   "id": "d0ad4fe7-78ea-48b4-84c2-8588e6d4a189",
   "metadata": {
    "tags": []
   },
   "source": [
    "### Figure 3-1"
   ]
  },
  {
   "cell_type": "code",
   "execution_count": 29,
   "id": "7bbe1e20-6f4b-4793-8850-ad522906f1d4",
   "metadata": {
    "execution": {
     "iopub.execute_input": "2021-12-14T17:35:19.405810Z",
     "iopub.status.busy": "2021-12-14T17:35:19.405356Z",
     "iopub.status.idle": "2021-12-14T17:35:19.426370Z",
     "shell.execute_reply": "2021-12-14T17:35:19.425678Z",
     "shell.execute_reply.started": "2021-12-14T17:35:19.405763Z"
    },
    "tags": []
   },
   "outputs": [],
   "source": [
    "subset = main.loc[\n",
    "    main['stimulus_is_block']\n",
    "]"
   ]
  },
  {
   "cell_type": "code",
   "execution_count": 30,
   "id": "779b33df-7370-4251-82e7-5a33a7cbc12a",
   "metadata": {
    "execution": {
     "iopub.execute_input": "2021-12-14T17:35:19.428066Z",
     "iopub.status.busy": "2021-12-14T17:35:19.427810Z",
     "iopub.status.idle": "2021-12-14T17:35:19.431477Z",
     "shell.execute_reply": "2021-12-14T17:35:19.430738Z",
     "shell.execute_reply.started": "2021-12-14T17:35:19.428045Z"
    },
    "tags": []
   },
   "outputs": [],
   "source": [
    "output_path = OUTPUT_DIR / \"stats__fig_3-1.txt\""
   ]
  },
  {
   "cell_type": "code",
   "execution_count": 31,
   "id": "e01f6953-515e-47b0-83e6-e418b5570b62",
   "metadata": {
    "execution": {
     "iopub.execute_input": "2021-12-14T17:35:19.432546Z",
     "iopub.status.busy": "2021-12-14T17:35:19.432318Z",
     "iopub.status.idle": "2021-12-14T17:35:19.435957Z",
     "shell.execute_reply": "2021-12-14T17:35:19.435228Z",
     "shell.execute_reply.started": "2021-12-14T17:35:19.432526Z"
    },
    "tags": []
   },
   "outputs": [],
   "source": [
    "EXPECTED_NUMBER_OF_OBSERVATIONS = 5280"
   ]
  },
  {
   "cell_type": "code",
   "execution_count": 32,
   "id": "c55eaf96-32be-4fcc-8479-271d1ca816b4",
   "metadata": {
    "execution": {
     "iopub.execute_input": "2021-12-14T17:35:19.437049Z",
     "iopub.status.busy": "2021-12-14T17:35:19.436791Z",
     "iopub.status.idle": "2021-12-14T17:35:21.948357Z",
     "shell.execute_reply": "2021-12-14T17:35:21.947672Z",
     "shell.execute_reply.started": "2021-12-14T17:35:19.437028Z"
    },
    "tags": []
   },
   "outputs": [],
   "source": [
    "result = run_stats(subset, output_path)"
   ]
  },
  {
   "cell_type": "code",
   "execution_count": 33,
   "id": "ca1ba47e-d7cb-4a9c-a9bc-bb4c95c2f0ae",
   "metadata": {
    "execution": {
     "iopub.execute_input": "2021-12-14T17:35:21.949519Z",
     "iopub.status.busy": "2021-12-14T17:35:21.949256Z",
     "iopub.status.idle": "2021-12-14T17:35:22.107252Z",
     "shell.execute_reply": "2021-12-14T17:35:22.105893Z",
     "shell.execute_reply.started": "2021-12-14T17:35:21.949498Z"
    },
    "tags": []
   },
   "outputs": [
    {
     "name": "stdout",
     "output_type": "stream",
     "text": [
      "================================================================================\n",
      "Layer\n",
      "================================================================================\n",
      "Data: data\n",
      "Models:\n",
      "reduced_model: `log(normalized differentiation)` ~ 1 + layer + stimulus_type + \n",
      "reduced_model:     (1 | session)\n",
      "model: `log(normalized differentiation)` ~ 1 + layer * stimulus_type + \n",
      "model:     (1 | session)\n",
      "              Df    AIC    BIC  logLik deviance  Chisq Chi Df Pr(>Chisq)    \n",
      "reduced_model  6 6687.4 6726.8 -3337.7   6675.4                             \n",
      "model          8 6675.0 6727.6 -3329.5   6659.0 16.343      2  0.0002827 ***\n",
      "---\n",
      "Signif. codes:  0 ‘***’ 0.001 ‘**’ 0.01 ‘*’ 0.05 ‘.’ 0.1 ‘ ’ 1\n",
      "\n",
      "\t Simultaneous Tests for General Linear Hypotheses\n",
      "\n",
      "Fit: lmer(formula = `log(normalized differentiation)` ~ 1 + layer * \n",
      "    stimulus_type + (1 | session), data = data, REML = FALSE)\n",
      "\n",
      "Linear Hypotheses:\n",
      "                                    Estimate Std. Error z value   Pr(>z)    \n",
      "L2/3:natural - L2/3:artificial <= 0  0.11085    0.02229   4.974 9.82e-07 ***\n",
      "L4:natural - L4:artificial <= 0     -0.01002    0.02229  -0.450 0.965212    \n",
      "L5:natural - L5:artificial <= 0      0.08638    0.02307   3.745 0.000271 ***\n",
      "---\n",
      "Signif. codes:  0 ‘***’ 0.001 ‘**’ 0.01 ‘*’ 0.05 ‘.’ 0.1 ‘ ’ 1\n",
      "(Adjusted p values reported -- single-step method)\n",
      "\n",
      "\n",
      "\t Simultaneous Confidence Intervals\n",
      "\n",
      "Fit: lmer(formula = `log(normalized differentiation)` ~ 1 + layer * \n",
      "    stimulus_type + (1 | session), data = data, REML = FALSE)\n",
      "\n",
      "Quantile = -2.1211\n",
      "95% family-wise confidence level\n",
      " \n",
      "\n",
      "Linear Hypotheses:\n",
      "                                    Estimate lwr      upr     \n",
      "L2/3:natural - L2/3:artificial <= 0  0.11085  0.06359      Inf\n",
      "L4:natural - L4:artificial <= 0     -0.01002 -0.05729      Inf\n",
      "L5:natural - L5:artificial <= 0      0.08638  0.03746      Inf\n",
      "\n",
      "\n",
      "================================================================================\n",
      "Area\n",
      "================================================================================\n",
      "Data: data\n",
      "Models:\n",
      "reduced_model: `log(normalized differentiation)` ~ 1 + area + stimulus_type + \n",
      "reduced_model:     (1 | session)\n",
      "model: `log(normalized differentiation)` ~ 1 + area * stimulus_type + \n",
      "model:     (1 | session)\n",
      "              Df    AIC    BIC  logLik deviance  Chisq Chi Df Pr(>Chisq)    \n",
      "reduced_model  8 6696.1 6748.7 -3340.1   6680.1                             \n",
      "model         12 6681.9 6760.8 -3328.9   6657.9 22.213      4  0.0001817 ***\n",
      "---\n",
      "Signif. codes:  0 ‘***’ 0.001 ‘**’ 0.01 ‘*’ 0.05 ‘.’ 0.1 ‘ ’ 1\n",
      "\n",
      "\t Simultaneous Tests for General Linear Hypotheses\n",
      "\n",
      "Fit: lmer(formula = `log(normalized differentiation)` ~ 1 + area * \n",
      "    stimulus_type + (1 | session), data = data, REML = FALSE)\n",
      "\n",
      "Linear Hypotheses:\n",
      "                                Estimate Std. Error z value   Pr(>z)    \n",
      "V1:natural - V1:artificial <= 0  0.03471    0.02875   1.207    0.453    \n",
      "LM:natural - LM:artificial <= 0  0.04378    0.02875   1.523    0.281    \n",
      "AL:natural - AL:artificial <= 0  0.14380    0.03050   4.715 6.04e-06 ***\n",
      "PM:natural - PM:artificial <= 0 -0.02608    0.02875  -0.907    1.000    \n",
      "AM:natural - AM:artificial <= 0  0.12219    0.02875   4.249 5.36e-05 ***\n",
      "---\n",
      "Signif. codes:  0 ‘***’ 0.001 ‘**’ 0.01 ‘*’ 0.05 ‘.’ 0.1 ‘ ’ 1\n",
      "(Adjusted p values reported -- single-step method)\n",
      "\n",
      "\n",
      "\t Simultaneous Confidence Intervals\n",
      "\n",
      "Fit: lmer(formula = `log(normalized differentiation)` ~ 1 + area * \n",
      "    stimulus_type + (1 | session), data = data, REML = FALSE)\n",
      "\n",
      "Quantile = -2.319\n",
      "95% family-wise confidence level\n",
      " \n",
      "\n",
      "Linear Hypotheses:\n",
      "                                Estimate lwr      upr     \n",
      "V1:natural - V1:artificial <= 0  0.03471 -0.03197      Inf\n",
      "LM:natural - LM:artificial <= 0  0.04378 -0.02290      Inf\n",
      "AL:natural - AL:artificial <= 0  0.14380  0.07308      Inf\n",
      "PM:natural - PM:artificial <= 0 -0.02608 -0.09275      Inf\n",
      "AM:natural - AM:artificial <= 0  0.12219  0.05551      Inf\n",
      "\n",
      "\n",
      "\n",
      "\n",
      "~~~~~~~~~~~~~~~~~~~~~~~~~~~~~~~~~~~~~~~~~~~~~~~~~~~~~~~~~~~~~~~~~~~~~~~~~~~~~~~~\n",
      "\n",
      "\n"
     ]
    }
   ],
   "source": [
    "cat {output_path}"
   ]
  },
  {
   "cell_type": "markdown",
   "id": "f31c133a-20c1-450f-8ed6-270157ef8832",
   "metadata": {},
   "source": [
    "### Figure 3-8"
   ]
  },
  {
   "cell_type": "code",
   "execution_count": 34,
   "id": "8468e780-0c46-44de-9ed6-f90b2af6d084",
   "metadata": {
    "execution": {
     "iopub.execute_input": "2021-12-14T17:35:22.110253Z",
     "iopub.status.busy": "2021-12-14T17:35:22.109688Z",
     "iopub.status.idle": "2021-12-14T17:35:22.121080Z",
     "shell.execute_reply": "2021-12-14T17:35:22.120408Z",
     "shell.execute_reply.started": "2021-12-14T17:35:22.110194Z"
    },
    "tags": []
   },
   "outputs": [],
   "source": [
    "subset = main_events.loc[\n",
    "    main_events[\"stimulus_is_scrambled_pair\"]\n",
    "]"
   ]
  },
  {
   "cell_type": "code",
   "execution_count": 35,
   "id": "11ce7ad6-6d6b-42d3-b73d-1796776303b9",
   "metadata": {
    "execution": {
     "iopub.execute_input": "2021-12-14T17:35:22.122266Z",
     "iopub.status.busy": "2021-12-14T17:35:22.122022Z",
     "iopub.status.idle": "2021-12-14T17:35:22.125641Z",
     "shell.execute_reply": "2021-12-14T17:35:22.125000Z",
     "shell.execute_reply.started": "2021-12-14T17:35:22.122244Z"
    },
    "tags": []
   },
   "outputs": [],
   "source": [
    "output_path = OUTPUT_DIR / \"stats__fig_3-8.txt\""
   ]
  },
  {
   "cell_type": "code",
   "execution_count": 36,
   "id": "09231be2-0815-4f84-8bc3-96da7bc5200f",
   "metadata": {
    "execution": {
     "iopub.execute_input": "2021-12-14T17:35:22.127877Z",
     "iopub.status.busy": "2021-12-14T17:35:22.127624Z",
     "iopub.status.idle": "2021-12-14T17:35:22.130986Z",
     "shell.execute_reply": "2021-12-14T17:35:22.130316Z",
     "shell.execute_reply.started": "2021-12-14T17:35:22.127856Z"
    },
    "tags": []
   },
   "outputs": [],
   "source": [
    "EXPECTED_NUMBER_OF_OBSERVATIONS = 2200"
   ]
  },
  {
   "cell_type": "code",
   "execution_count": 37,
   "id": "14bf8708-1167-4180-8979-3c499bdb99a9",
   "metadata": {
    "execution": {
     "iopub.execute_input": "2021-12-14T17:35:22.131988Z",
     "iopub.status.busy": "2021-12-14T17:35:22.131760Z",
     "iopub.status.idle": "2021-12-14T17:35:23.391392Z",
     "shell.execute_reply": "2021-12-14T17:35:23.390753Z",
     "shell.execute_reply.started": "2021-12-14T17:35:22.131968Z"
    },
    "tags": []
   },
   "outputs": [],
   "source": [
    "result = run_stats(subset, output_path)"
   ]
  },
  {
   "cell_type": "code",
   "execution_count": 38,
   "id": "d21fcc19-c169-4697-9b22-3d942a86a9b1",
   "metadata": {
    "execution": {
     "iopub.execute_input": "2021-12-14T17:35:23.392533Z",
     "iopub.status.busy": "2021-12-14T17:35:23.392288Z",
     "iopub.status.idle": "2021-12-14T17:35:23.549886Z",
     "shell.execute_reply": "2021-12-14T17:35:23.548558Z",
     "shell.execute_reply.started": "2021-12-14T17:35:23.392512Z"
    },
    "tags": []
   },
   "outputs": [
    {
     "name": "stdout",
     "output_type": "stream",
     "text": [
      "================================================================================\n",
      "Layer\n",
      "================================================================================\n",
      "Data: data\n",
      "Models:\n",
      "reduced_model: `log(normalized differentiation)` ~ 1 + layer + stimulus_type + \n",
      "reduced_model:     (1 | session)\n",
      "model: `log(normalized differentiation)` ~ 1 + layer * stimulus_type + \n",
      "model:     (1 | session)\n",
      "              Df    AIC    BIC  logLik deviance  Chisq Chi Df Pr(>Chisq)   \n",
      "reduced_model  6 2112.9 2147.1 -1050.4   2100.9                            \n",
      "model          8 2105.4 2151.0 -1044.7   2089.4 11.481      2   0.003213 **\n",
      "---\n",
      "Signif. codes:  0 ‘***’ 0.001 ‘**’ 0.01 ‘*’ 0.05 ‘.’ 0.1 ‘ ’ 1\n",
      "\n",
      "\t Simultaneous Tests for General Linear Hypotheses\n",
      "\n",
      "Fit: lmer(formula = `log(normalized differentiation)` ~ 1 + layer * \n",
      "    stimulus_type + (1 | session), data = data, REML = FALSE)\n",
      "\n",
      "Linear Hypotheses:\n",
      "                                    Estimate Std. Error z value   Pr(>z)    \n",
      "L2/3:natural - L2/3:artificial <= 0  0.10702    0.02791   3.835 0.000188 ***\n",
      "L4:natural - L4:artificial <= 0     -0.00431    0.02791  -0.154 0.915610    \n",
      "L5:natural - L5:artificial <= 0     -0.01468    0.02894  -0.507 0.971358    \n",
      "---\n",
      "Signif. codes:  0 ‘***’ 0.001 ‘**’ 0.01 ‘*’ 0.05 ‘.’ 0.1 ‘ ’ 1\n",
      "(Adjusted p values reported -- single-step method)\n",
      "\n",
      "\n",
      "\t Simultaneous Confidence Intervals\n",
      "\n",
      "Fit: lmer(formula = `log(normalized differentiation)` ~ 1 + layer * \n",
      "    stimulus_type + (1 | session), data = data, REML = FALSE)\n",
      "\n",
      "Quantile = -2.1211\n",
      "95% family-wise confidence level\n",
      " \n",
      "\n",
      "Linear Hypotheses:\n",
      "                                    Estimate lwr      upr     \n",
      "L2/3:natural - L2/3:artificial <= 0  0.10702  0.04783      Inf\n",
      "L4:natural - L4:artificial <= 0     -0.00431 -0.06350      Inf\n",
      "L5:natural - L5:artificial <= 0     -0.01468 -0.07607      Inf\n",
      "\n",
      "\n",
      "================================================================================\n",
      "Area\n",
      "================================================================================\n",
      "Data: data\n",
      "Models:\n",
      "reduced_model: `log(normalized differentiation)` ~ 1 + area + stimulus_type + \n",
      "reduced_model:     (1 | session)\n",
      "model: `log(normalized differentiation)` ~ 1 + area * stimulus_type + \n",
      "model:     (1 | session)\n",
      "              Df    AIC    BIC  logLik deviance  Chisq Chi Df Pr(>Chisq)   \n",
      "reduced_model  8 2119.7 2165.2 -1051.8   2103.7                            \n",
      "model         12 2112.0 2180.3 -1044.0   2088.0 15.699      4    0.00345 **\n",
      "---\n",
      "Signif. codes:  0 ‘***’ 0.001 ‘**’ 0.01 ‘*’ 0.05 ‘.’ 0.1 ‘ ’ 1\n",
      "\n",
      "\t Simultaneous Tests for General Linear Hypotheses\n",
      "\n",
      "Fit: lmer(formula = `log(normalized differentiation)` ~ 1 + area * \n",
      "    stimulus_type + (1 | session), data = data, REML = FALSE)\n",
      "\n",
      "Linear Hypotheses:\n",
      "                                Estimate Std. Error z value  Pr(>z)   \n",
      "V1:natural - V1:artificial <= 0  0.03525    0.03605   0.978 0.59173   \n",
      "LM:natural - LM:artificial <= 0  0.01711    0.03605   0.475 0.85192   \n",
      "AL:natural - AL:artificial <= 0  0.12142    0.03817   3.181 0.00367 **\n",
      "PM:natural - PM:artificial <= 0 -0.07734    0.03599  -2.149 1.00000   \n",
      "AM:natural - AM:artificial <= 0  0.06560    0.03599   1.823 0.15955   \n",
      "---\n",
      "Signif. codes:  0 ‘***’ 0.001 ‘**’ 0.01 ‘*’ 0.05 ‘.’ 0.1 ‘ ’ 1\n",
      "(Adjusted p values reported -- single-step method)\n",
      "\n",
      "\n",
      "\t Simultaneous Confidence Intervals\n",
      "\n",
      "Fit: lmer(formula = `log(normalized differentiation)` ~ 1 + area * \n",
      "    stimulus_type + (1 | session), data = data, REML = FALSE)\n",
      "\n",
      "Quantile = -2.319\n",
      "95% family-wise confidence level\n",
      " \n",
      "\n",
      "Linear Hypotheses:\n",
      "                                Estimate lwr      upr     \n",
      "V1:natural - V1:artificial <= 0  0.03525 -0.04834      Inf\n",
      "LM:natural - LM:artificial <= 0  0.01711 -0.06648      Inf\n",
      "AL:natural - AL:artificial <= 0  0.12142  0.03289      Inf\n",
      "PM:natural - PM:artificial <= 0 -0.07734 -0.16080      Inf\n",
      "AM:natural - AM:artificial <= 0  0.06560 -0.01786      Inf\n",
      "\n",
      "\n",
      "\n",
      "\n",
      "~~~~~~~~~~~~~~~~~~~~~~~~~~~~~~~~~~~~~~~~~~~~~~~~~~~~~~~~~~~~~~~~~~~~~~~~~~~~~~~~\n",
      "\n",
      "\n"
     ]
    }
   ],
   "source": [
    "cat {output_path}"
   ]
  },
  {
   "cell_type": "markdown",
   "id": "9f4ba3c7-3291-4a79-a83a-49f9eccad906",
   "metadata": {},
   "source": [
    "### Figure 3-9"
   ]
  },
  {
   "cell_type": "code",
   "execution_count": 39,
   "id": "5ed9025f-b226-4557-8a3e-53cd51e384a8",
   "metadata": {
    "execution": {
     "iopub.execute_input": "2021-12-14T17:35:23.552780Z",
     "iopub.status.busy": "2021-12-14T17:35:23.552278Z",
     "iopub.status.idle": "2021-12-14T17:35:23.560963Z",
     "shell.execute_reply": "2021-12-14T17:35:23.560237Z",
     "shell.execute_reply.started": "2021-12-14T17:35:23.552747Z"
    },
    "tags": []
   },
   "outputs": [],
   "source": [
    "subset = main_no_transients.loc[\n",
    "    main_events[\"stimulus_is_scrambled_pair\"]\n",
    "]"
   ]
  },
  {
   "cell_type": "code",
   "execution_count": 40,
   "id": "ed9075ed-ece2-46b2-a7ac-086016ad2565",
   "metadata": {
    "execution": {
     "iopub.execute_input": "2021-12-14T17:35:23.562278Z",
     "iopub.status.busy": "2021-12-14T17:35:23.561987Z",
     "iopub.status.idle": "2021-12-14T17:35:23.565774Z",
     "shell.execute_reply": "2021-12-14T17:35:23.565189Z",
     "shell.execute_reply.started": "2021-12-14T17:35:23.562252Z"
    },
    "tags": []
   },
   "outputs": [],
   "source": [
    "output_path = OUTPUT_DIR / \"stats__fig_3-9.txt\""
   ]
  },
  {
   "cell_type": "code",
   "execution_count": 41,
   "id": "27a0af3d-1547-48b6-99b4-cfff678deb4a",
   "metadata": {
    "execution": {
     "iopub.execute_input": "2021-12-14T17:35:23.566850Z",
     "iopub.status.busy": "2021-12-14T17:35:23.566608Z",
     "iopub.status.idle": "2021-12-14T17:35:23.569798Z",
     "shell.execute_reply": "2021-12-14T17:35:23.569206Z",
     "shell.execute_reply.started": "2021-12-14T17:35:23.566829Z"
    },
    "tags": []
   },
   "outputs": [],
   "source": [
    "EXPECTED_NUMBER_OF_OBSERVATIONS = 2200"
   ]
  },
  {
   "cell_type": "code",
   "execution_count": 42,
   "id": "9005af48-da35-4c8e-8767-b739a5feed63",
   "metadata": {
    "execution": {
     "iopub.execute_input": "2021-12-14T17:35:23.570803Z",
     "iopub.status.busy": "2021-12-14T17:35:23.570575Z",
     "iopub.status.idle": "2021-12-14T17:35:24.839549Z",
     "shell.execute_reply": "2021-12-14T17:35:24.838864Z",
     "shell.execute_reply.started": "2021-12-14T17:35:23.570783Z"
    },
    "tags": []
   },
   "outputs": [],
   "source": [
    "result = run_stats(subset, output_path)"
   ]
  },
  {
   "cell_type": "code",
   "execution_count": 43,
   "id": "c99b06e0-73d8-4076-baaf-361ea0b225c2",
   "metadata": {
    "execution": {
     "iopub.execute_input": "2021-12-14T17:35:24.840733Z",
     "iopub.status.busy": "2021-12-14T17:35:24.840486Z",
     "iopub.status.idle": "2021-12-14T17:35:24.998355Z",
     "shell.execute_reply": "2021-12-14T17:35:24.997045Z",
     "shell.execute_reply.started": "2021-12-14T17:35:24.840713Z"
    },
    "tags": []
   },
   "outputs": [
    {
     "name": "stdout",
     "output_type": "stream",
     "text": [
      "================================================================================\n",
      "Layer\n",
      "================================================================================\n",
      "Data: data\n",
      "Models:\n",
      "reduced_model: `log(normalized differentiation)` ~ 1 + layer + stimulus_type + \n",
      "reduced_model:     (1 | session)\n",
      "model: `log(normalized differentiation)` ~ 1 + layer * stimulus_type + \n",
      "model:     (1 | session)\n",
      "              Df    AIC    BIC  logLik deviance Chisq Chi Df Pr(>Chisq)  \n",
      "reduced_model  6 1332.5 1366.7 -660.26   1320.5                          \n",
      "model          8 1330.5 1376.1 -657.25   1314.5 6.024      2    0.04919 *\n",
      "---\n",
      "Signif. codes:  0 ‘***’ 0.001 ‘**’ 0.01 ‘*’ 0.05 ‘.’ 0.1 ‘ ’ 1\n",
      "\n",
      "\t Simultaneous Tests for General Linear Hypotheses\n",
      "\n",
      "Fit: lmer(formula = `log(normalized differentiation)` ~ 1 + layer * \n",
      "    stimulus_type + (1 | session), data = data, REML = FALSE)\n",
      "\n",
      "Linear Hypotheses:\n",
      "                                    Estimate Std. Error z value  Pr(>z)   \n",
      "L2/3:natural - L2/3:artificial <= 0  0.06634    0.02350   2.823 0.00713 **\n",
      "L4:natural - L4:artificial <= 0      0.01998    0.02350   0.850 0.48337   \n",
      "L5:natural - L5:artificial <= 0     -0.01640    0.02433  -0.674 0.98436   \n",
      "---\n",
      "Signif. codes:  0 ‘***’ 0.001 ‘**’ 0.01 ‘*’ 0.05 ‘.’ 0.1 ‘ ’ 1\n",
      "(Adjusted p values reported -- single-step method)\n",
      "\n",
      "\n",
      "\t Simultaneous Confidence Intervals\n",
      "\n",
      "Fit: lmer(formula = `log(normalized differentiation)` ~ 1 + layer * \n",
      "    stimulus_type + (1 | session), data = data, REML = FALSE)\n",
      "\n",
      "Quantile = -2.1211\n",
      "95% family-wise confidence level\n",
      " \n",
      "\n",
      "Linear Hypotheses:\n",
      "                                    Estimate lwr      upr     \n",
      "L2/3:natural - L2/3:artificial <= 0  0.06634  0.01649      Inf\n",
      "L4:natural - L4:artificial <= 0      0.01998 -0.02987      Inf\n",
      "L5:natural - L5:artificial <= 0     -0.01640 -0.06801      Inf\n",
      "\n",
      "\n",
      "================================================================================\n",
      "Area\n",
      "================================================================================\n",
      "Data: data\n",
      "Models:\n",
      "reduced_model: `log(normalized differentiation)` ~ 1 + area + stimulus_type + \n",
      "reduced_model:     (1 | session)\n",
      "model: `log(normalized differentiation)` ~ 1 + area * stimulus_type + \n",
      "model:     (1 | session)\n",
      "              Df    AIC    BIC  logLik deviance  Chisq Chi Df Pr(>Chisq)  \n",
      "reduced_model  8 1348.0 1393.5 -665.99   1332.0                           \n",
      "model         12 1343.1 1411.4 -659.54   1319.1 12.886      4    0.01185 *\n",
      "---\n",
      "Signif. codes:  0 ‘***’ 0.001 ‘**’ 0.01 ‘*’ 0.05 ‘.’ 0.1 ‘ ’ 1\n",
      "\n",
      "\t Simultaneous Tests for General Linear Hypotheses\n",
      "\n",
      "Fit: lmer(formula = `log(normalized differentiation)` ~ 1 + area * \n",
      "    stimulus_type + (1 | session), data = data, REML = FALSE)\n",
      "\n",
      "Linear Hypotheses:\n",
      "                                Estimate Std. Error z value  Pr(>z)   \n",
      "V1:natural - V1:artificial <= 0  0.03126    0.03030   1.032 0.55914   \n",
      "LM:natural - LM:artificial <= 0 -0.01499    0.03030  -0.495 0.99712   \n",
      "AL:natural - AL:artificial <= 0  0.09353    0.03213   2.911 0.00899 **\n",
      "PM:natural - PM:artificial <= 0 -0.04330    0.03030  -1.429 1.00000   \n",
      "AM:natural - AM:artificial <= 0  0.06226    0.03030   2.055 0.09579 . \n",
      "---\n",
      "Signif. codes:  0 ‘***’ 0.001 ‘**’ 0.01 ‘*’ 0.05 ‘.’ 0.1 ‘ ’ 1\n",
      "(Adjusted p values reported -- single-step method)\n",
      "\n",
      "\n",
      "\t Simultaneous Confidence Intervals\n",
      "\n",
      "Fit: lmer(formula = `log(normalized differentiation)` ~ 1 + area * \n",
      "    stimulus_type + (1 | session), data = data, REML = FALSE)\n",
      "\n",
      "Quantile = -2.319\n",
      "95% family-wise confidence level\n",
      " \n",
      "\n",
      "Linear Hypotheses:\n",
      "                                Estimate  lwr       upr      \n",
      "V1:natural - V1:artificial <= 0  0.031257 -0.038996       Inf\n",
      "LM:natural - LM:artificial <= 0 -0.014989 -0.085242       Inf\n",
      "AL:natural - AL:artificial <= 0  0.093526  0.019011       Inf\n",
      "PM:natural - PM:artificial <= 0 -0.043300 -0.113554       Inf\n",
      "AM:natural - AM:artificial <= 0  0.062258 -0.007995       Inf\n",
      "\n",
      "\n",
      "\n",
      "\n",
      "~~~~~~~~~~~~~~~~~~~~~~~~~~~~~~~~~~~~~~~~~~~~~~~~~~~~~~~~~~~~~~~~~~~~~~~~~~~~~~~~\n",
      "\n",
      "\n"
     ]
    }
   ],
   "source": [
    "cat {output_path}"
   ]
  },
  {
   "cell_type": "markdown",
   "id": "1ca60a7f-c2da-4eb3-9a47-db5726609e8f",
   "metadata": {},
   "source": [
    "## Figures 3-5, 3-6, & 3-7\n",
    "\n",
    "Sensitivity analysis with arousal covariates"
   ]
  },
  {
   "cell_type": "code",
   "execution_count": 44,
   "id": "667ae13d-4d6e-40e8-ad2e-904e510a66f6",
   "metadata": {
    "execution": {
     "iopub.execute_input": "2021-12-14T17:35:25.001294Z",
     "iopub.status.busy": "2021-12-14T17:35:25.000714Z",
     "iopub.status.idle": "2021-12-14T17:35:25.006782Z",
     "shell.execute_reply": "2021-12-14T17:35:25.005809Z",
     "shell.execute_reply.started": "2021-12-14T17:35:25.001235Z"
    },
    "tags": []
   },
   "outputs": [],
   "source": [
    "LAYER_CONTRAST_MATRIX = LAYER_CONTRAST_MATRIX_AROUSAL\n",
    "AREA_CONTRAST_MATRIX = AREA_CONTRAST_MATRIX_AROUSAL"
   ]
  },
  {
   "cell_type": "markdown",
   "id": "f7fdd5eb-cf97-4273-ab65-96c24c033530",
   "metadata": {},
   "source": [
    "### Estimate models"
   ]
  },
  {
   "cell_type": "code",
   "execution_count": 45,
   "id": "927c229d-041f-4eaa-8560-d99d6c2dac79",
   "metadata": {
    "execution": {
     "iopub.execute_input": "2021-12-14T17:35:25.007935Z",
     "iopub.status.busy": "2021-12-14T17:35:25.007699Z",
     "iopub.status.idle": "2021-12-14T17:35:25.011952Z",
     "shell.execute_reply": "2021-12-14T17:35:25.011373Z",
     "shell.execute_reply.started": "2021-12-14T17:35:25.007916Z"
    },
    "tags": []
   },
   "outputs": [
    {
     "name": "stdout",
     "output_type": "stream",
     "text": [
      "`log(normalized differentiation)` ~ 1 + layer * stimulus_type + locomotion + normalized_pupil_diameter + (1 | session)\n",
      "`log(normalized differentiation)` ~ 1 + layer + stimulus_type + locomotion + normalized_pupil_diameter + (1 | session)\n"
     ]
    }
   ],
   "source": [
    "LAYER_FORMULA = f\"`{response}` ~ 1 + layer * stimulus_type + locomotion + normalized_pupil_diameter + (1 | session)\"\n",
    "LAYER_REDUCED_FORMULA = f\"`{response}` ~ 1 + layer + stimulus_type + locomotion + normalized_pupil_diameter + (1 | session)\" \n",
    "print(LAYER_FORMULA)\n",
    "print(LAYER_REDUCED_FORMULA)"
   ]
  },
  {
   "cell_type": "code",
   "execution_count": 46,
   "id": "a75515ba-7b8b-4c25-9658-7a3955181aa0",
   "metadata": {
    "execution": {
     "iopub.execute_input": "2021-12-14T17:35:25.013010Z",
     "iopub.status.busy": "2021-12-14T17:35:25.012756Z",
     "iopub.status.idle": "2021-12-14T17:35:25.016602Z",
     "shell.execute_reply": "2021-12-14T17:35:25.016024Z",
     "shell.execute_reply.started": "2021-12-14T17:35:25.012989Z"
    },
    "tags": []
   },
   "outputs": [
    {
     "name": "stdout",
     "output_type": "stream",
     "text": [
      "`log(normalized differentiation)` ~ 1 + area * stimulus_type + locomotion + normalized_pupil_diameter + (1 | session)\n",
      "`log(normalized differentiation)` ~ 1 + area + stimulus_type + locomotion + normalized_pupil_diameter + (1 | session)\n"
     ]
    }
   ],
   "source": [
    "AREA_FORMULA = f\"`{response}` ~ 1 + area * stimulus_type + locomotion + normalized_pupil_diameter + (1 | session)\"\n",
    "AREA_REDUCED_FORMULA = f\"`{response}` ~ 1 + area + stimulus_type + locomotion + normalized_pupil_diameter + (1 | session)\" \n",
    "print(AREA_FORMULA)\n",
    "print(AREA_REDUCED_FORMULA)"
   ]
  },
  {
   "cell_type": "code",
   "execution_count": 47,
   "id": "f0cd964b-362b-46a2-8b79-e8be6c99c1cf",
   "metadata": {
    "execution": {
     "iopub.execute_input": "2021-12-14T17:35:25.017690Z",
     "iopub.status.busy": "2021-12-14T17:35:25.017445Z",
     "iopub.status.idle": "2021-12-14T17:37:46.257899Z",
     "shell.execute_reply": "2021-12-14T17:37:46.257080Z",
     "shell.execute_reply.started": "2021-12-14T17:35:25.017668Z"
    },
    "tags": []
   },
   "outputs": [
    {
     "name": "stdout",
     "output_type": "stream",
     "text": [
      "(237600, 34)\n"
     ]
    },
    {
     "data": {
      "application/vnd.jupyter.widget-view+json": {
       "model_id": "8b522eb9baf74be38cd285f85ecfb9f3",
       "version_major": 2,
       "version_minor": 0
      },
      "text/plain": [
       "  0%|          | 0/108 [00:00<?, ?it/s]"
      ]
     },
     "metadata": {},
     "output_type": "display_data"
    }
   ],
   "source": [
    "output_dir = OUTPUT_DIR/'stats__arousal'\n",
    "output_dir.mkdir(exist_ok=True, parents=True)\n",
    "\n",
    "# Unscrambled vs. scrambled\n",
    "subset = (\n",
    "    df\n",
    "    .loc[df[\"stimulus_is_scrambled_pair\"]]\n",
    "    .reset_index()\n",
    ")\n",
    "print(subset.shape)\n",
    "\n",
    "stats = sensitivity_analysis(subset, output_dir)\n",
    "stats.to_parquet(OUTPUT_DIR/'stats__arousal.parquet')"
   ]
  },
  {
   "cell_type": "markdown",
   "id": "c4b73757-b7e5-4cc4-a024-ac762a416037",
   "metadata": {},
   "source": [
    "# Mean centroid distance"
   ]
  },
  {
   "cell_type": "code",
   "execution_count": 48,
   "id": "0fecc38e-3028-44b7-ab85-da56f96a1a6b",
   "metadata": {
    "execution": {
     "iopub.execute_input": "2021-12-14T17:37:46.259265Z",
     "iopub.status.busy": "2021-12-14T17:37:46.258997Z",
     "iopub.status.idle": "2021-12-14T17:37:46.262547Z",
     "shell.execute_reply": "2021-12-14T17:37:46.261850Z",
     "shell.execute_reply.started": "2021-12-14T17:37:46.259241Z"
    },
    "tags": []
   },
   "outputs": [],
   "source": [
    "response = \"log(mean_centroid_distance)\""
   ]
  },
  {
   "cell_type": "code",
   "execution_count": 49,
   "id": "1afea5ad-f647-46d7-bfbb-814f6e132d88",
   "metadata": {
    "execution": {
     "iopub.execute_input": "2021-12-14T17:37:46.263651Z",
     "iopub.status.busy": "2021-12-14T17:37:46.263409Z",
     "iopub.status.idle": "2021-12-14T17:37:46.328670Z",
     "shell.execute_reply": "2021-12-14T17:37:46.327847Z",
     "shell.execute_reply.started": "2021-12-14T17:37:46.263628Z"
    },
    "tags": []
   },
   "outputs": [],
   "source": [
    "df = pd.read_parquet(\"results/mean_centroid_distance.parquet\")\n",
    "\n",
    "df_events = pd.read_parquet(\"results/mean_centroid_distance__events.parquet\")"
   ]
  },
  {
   "cell_type": "code",
   "execution_count": 50,
   "id": "5359a0b5-0764-4240-9df4-9f3749b516ba",
   "metadata": {
    "execution": {
     "iopub.execute_input": "2021-12-14T17:37:46.330349Z",
     "iopub.status.busy": "2021-12-14T17:37:46.330015Z",
     "iopub.status.idle": "2021-12-14T17:37:46.338939Z",
     "shell.execute_reply": "2021-12-14T17:37:46.338061Z",
     "shell.execute_reply.started": "2021-12-14T17:37:46.330315Z"
    },
    "tags": []
   },
   "outputs": [],
   "source": [
    "for data in [df, df_events]:\n",
    "    analysis.prepare_data_for_r(data, response)"
   ]
  },
  {
   "cell_type": "code",
   "execution_count": 51,
   "id": "3002fa83-cd13-4e25-942e-97ea753da2c4",
   "metadata": {
    "execution": {
     "iopub.execute_input": "2021-12-14T17:37:46.340514Z",
     "iopub.status.busy": "2021-12-14T17:37:46.340184Z",
     "iopub.status.idle": "2021-12-14T17:37:46.345745Z",
     "shell.execute_reply": "2021-12-14T17:37:46.344977Z",
     "shell.execute_reply.started": "2021-12-14T17:37:46.340479Z"
    },
    "tags": []
   },
   "outputs": [
    {
     "name": "stdout",
     "output_type": "stream",
     "text": [
      "`log(mean_centroid_distance)` ~ 1 + layer * stimulus_type + (1 | session)\n",
      "`log(mean_centroid_distance)` ~ 1 + layer + stimulus_type + (1 | session)\n"
     ]
    }
   ],
   "source": [
    "LAYER_FORMULA = f\"`{response}` ~ 1 + layer * stimulus_type + (1 | session)\"\n",
    "LAYER_REDUCED_FORMULA = f\"`{response}` ~ 1 + layer + stimulus_type + (1 | session)\" \n",
    "print(LAYER_FORMULA)\n",
    "print(LAYER_REDUCED_FORMULA)"
   ]
  },
  {
   "cell_type": "code",
   "execution_count": 52,
   "id": "20f9f7bb-6e9e-4d16-af4b-f4d771bcdca6",
   "metadata": {
    "execution": {
     "iopub.execute_input": "2021-12-14T17:37:46.347198Z",
     "iopub.status.busy": "2021-12-14T17:37:46.346876Z",
     "iopub.status.idle": "2021-12-14T17:37:46.352061Z",
     "shell.execute_reply": "2021-12-14T17:37:46.351350Z",
     "shell.execute_reply.started": "2021-12-14T17:37:46.347164Z"
    },
    "tags": []
   },
   "outputs": [
    {
     "name": "stdout",
     "output_type": "stream",
     "text": [
      "`log(mean_centroid_distance)` ~ 1 + area * stimulus_type + (1 | session)\n",
      "`log(mean_centroid_distance)` ~ 1 + area + stimulus_type + (1 | session)\n"
     ]
    }
   ],
   "source": [
    "AREA_FORMULA = f\"`{response}` ~ 1 + area * stimulus_type + (1 | session)\"\n",
    "AREA_REDUCED_FORMULA = f\"`{response}` ~ 1 + area + stimulus_type + (1 | session)\" \n",
    "print(AREA_FORMULA)\n",
    "print(AREA_REDUCED_FORMULA)"
   ]
  },
  {
   "cell_type": "code",
   "execution_count": 53,
   "id": "151ce1b3-73c8-4a61-945f-c67cd5e5839c",
   "metadata": {
    "execution": {
     "iopub.execute_input": "2021-12-14T17:37:46.353481Z",
     "iopub.status.busy": "2021-12-14T17:37:46.353176Z",
     "iopub.status.idle": "2021-12-14T17:37:46.357037Z",
     "shell.execute_reply": "2021-12-14T17:37:46.356308Z",
     "shell.execute_reply.started": "2021-12-14T17:37:46.353449Z"
    },
    "tags": []
   },
   "outputs": [],
   "source": [
    "LAYER_CONTRAST_MATRIX = LAYER_CONTRAST_MATRIX_MAIN\n",
    "AREA_CONTRAST_MATRIX = AREA_CONTRAST_MATRIX_MAIN"
   ]
  },
  {
   "cell_type": "code",
   "execution_count": 54,
   "id": "2c165396-0c91-4167-b1b3-a5c749634738",
   "metadata": {
    "execution": {
     "iopub.execute_input": "2021-12-14T17:37:46.361620Z",
     "iopub.status.busy": "2021-12-14T17:37:46.361288Z",
     "iopub.status.idle": "2021-12-14T17:37:46.365177Z",
     "shell.execute_reply": "2021-12-14T17:37:46.364437Z",
     "shell.execute_reply.started": "2021-12-14T17:37:46.361586Z"
    },
    "tags": []
   },
   "outputs": [],
   "source": [
    "EXPECTED_NUMBER_OF_OBSERVATIONS = 2200"
   ]
  },
  {
   "cell_type": "markdown",
   "id": "7e78affc-e481-4133-b6cb-272a2ff431d3",
   "metadata": {},
   "source": [
    "### Figure 5"
   ]
  },
  {
   "cell_type": "code",
   "execution_count": 55,
   "id": "ba550799-b2e1-4d24-a3d8-2a5ecd5c7669",
   "metadata": {
    "execution": {
     "iopub.execute_input": "2021-12-14T17:37:46.366478Z",
     "iopub.status.busy": "2021-12-14T17:37:46.366262Z",
     "iopub.status.idle": "2021-12-14T17:37:46.377776Z",
     "shell.execute_reply": "2021-12-14T17:37:46.376891Z",
     "shell.execute_reply.started": "2021-12-14T17:37:46.366452Z"
    },
    "tags": []
   },
   "outputs": [],
   "source": [
    "subset = df.loc[\n",
    "    df[\"stimulus_is_scrambled_pair\"]\n",
    "]"
   ]
  },
  {
   "cell_type": "code",
   "execution_count": 56,
   "id": "1c3f1059-6ece-4f14-86e8-5ff9d37418df",
   "metadata": {
    "execution": {
     "iopub.execute_input": "2021-12-14T17:37:46.379340Z",
     "iopub.status.busy": "2021-12-14T17:37:46.379008Z",
     "iopub.status.idle": "2021-12-14T17:37:46.383235Z",
     "shell.execute_reply": "2021-12-14T17:37:46.382311Z",
     "shell.execute_reply.started": "2021-12-14T17:37:46.379305Z"
    },
    "tags": []
   },
   "outputs": [],
   "source": [
    "output_path = OUTPUT_DIR / \"stats__fig_5.txt\""
   ]
  },
  {
   "cell_type": "code",
   "execution_count": 57,
   "id": "a375e4a1-18b3-4f31-b576-3a7bf4b5117f",
   "metadata": {
    "execution": {
     "iopub.execute_input": "2021-12-14T17:37:46.384685Z",
     "iopub.status.busy": "2021-12-14T17:37:46.384369Z",
     "iopub.status.idle": "2021-12-14T17:37:49.092770Z",
     "shell.execute_reply": "2021-12-14T17:37:49.091895Z",
     "shell.execute_reply.started": "2021-12-14T17:37:46.384651Z"
    },
    "tags": []
   },
   "outputs": [],
   "source": [
    "result = run_stats(subset, output_path)"
   ]
  },
  {
   "cell_type": "code",
   "execution_count": 58,
   "id": "a923286d-f576-48c9-8c59-0e7a8eca9889",
   "metadata": {
    "execution": {
     "iopub.execute_input": "2021-12-14T17:37:49.094551Z",
     "iopub.status.busy": "2021-12-14T17:37:49.094163Z",
     "iopub.status.idle": "2021-12-14T17:37:49.273305Z",
     "shell.execute_reply": "2021-12-14T17:37:49.272257Z",
     "shell.execute_reply.started": "2021-12-14T17:37:49.094510Z"
    },
    "tags": []
   },
   "outputs": [
    {
     "name": "stdout",
     "output_type": "stream",
     "text": [
      "================================================================================\n",
      "Layer\n",
      "================================================================================\n",
      "Data: data\n",
      "Models:\n",
      "reduced_model: `log(mean_centroid_distance)` ~ 1 + layer + stimulus_type + (1 | \n",
      "reduced_model:     session)\n",
      "model: `log(mean_centroid_distance)` ~ 1 + layer * stimulus_type + (1 | \n",
      "model:     session)\n",
      "              Df     AIC     BIC logLik deviance  Chisq Chi Df Pr(>Chisq)    \n",
      "reduced_model  6 -4656.7 -4622.5 2334.4  -4668.7                             \n",
      "model          8 -4670.9 -4625.3 2343.4  -4686.9 18.135      2  0.0001154 ***\n",
      "---\n",
      "Signif. codes:  0 ‘***’ 0.001 ‘**’ 0.01 ‘*’ 0.05 ‘.’ 0.1 ‘ ’ 1\n",
      "\n",
      "\t Simultaneous Tests for General Linear Hypotheses\n",
      "\n",
      "Fit: lmer(formula = `log(mean_centroid_distance)` ~ 1 + layer * stimulus_type + \n",
      "    (1 | session), data = data, REML = FALSE)\n",
      "\n",
      "Linear Hypotheses:\n",
      "                                     Estimate Std. Error z value   Pr(>z)    \n",
      "L2/3:natural - L2/3:artificial <= 0  0.030702   0.005962   5.149 3.92e-07 ***\n",
      "L4:natural - L4:artificial <= 0      0.010430   0.005962   1.749    0.116    \n",
      "L5:natural - L5:artificial <= 0     -0.005786   0.006171  -0.938    0.995    \n",
      "---\n",
      "Signif. codes:  0 ‘***’ 0.001 ‘**’ 0.01 ‘*’ 0.05 ‘.’ 0.1 ‘ ’ 1\n",
      "(Adjusted p values reported -- single-step method)\n",
      "\n",
      "\n",
      "\t Simultaneous Confidence Intervals\n",
      "\n",
      "Fit: lmer(formula = `log(mean_centroid_distance)` ~ 1 + layer * stimulus_type + \n",
      "    (1 | session), data = data, REML = FALSE)\n",
      "\n",
      "Quantile = -2.1211\n",
      "95% family-wise confidence level\n",
      " \n",
      "\n",
      "Linear Hypotheses:\n",
      "                                    Estimate  lwr       upr      \n",
      "L2/3:natural - L2/3:artificial <= 0  0.030702  0.018056       Inf\n",
      "L4:natural - L4:artificial <= 0      0.010430 -0.002216       Inf\n",
      "L5:natural - L5:artificial <= 0     -0.005786 -0.018876       Inf\n",
      "\n",
      "\n",
      "================================================================================\n",
      "Area\n",
      "================================================================================\n",
      "Data: data\n",
      "Models:\n",
      "reduced_model: `log(mean_centroid_distance)` ~ 1 + area + stimulus_type + (1 | \n",
      "reduced_model:     session)\n",
      "model: `log(mean_centroid_distance)` ~ 1 + area * stimulus_type + (1 | \n",
      "model:     session)\n",
      "              Df     AIC     BIC logLik deviance  Chisq Chi Df Pr(>Chisq)   \n",
      "reduced_model  8 -4653.4 -4607.8 2334.7  -4669.4                            \n",
      "model         12 -4661.6 -4593.3 2342.8  -4685.6 16.232      4   0.002723 **\n",
      "---\n",
      "Signif. codes:  0 ‘***’ 0.001 ‘**’ 0.01 ‘*’ 0.05 ‘.’ 0.1 ‘ ’ 1\n",
      "\n",
      "\t Simultaneous Tests for General Linear Hypotheses\n",
      "\n",
      "Fit: lmer(formula = `log(mean_centroid_distance)` ~ 1 + area * stimulus_type + \n",
      "    (1 | session), data = data, REML = FALSE)\n",
      "\n",
      "Linear Hypotheses:\n",
      "                                  Estimate Std. Error z value   Pr(>z)    \n",
      "V1:natural - V1:artificial <= 0  0.0032346  0.0077006   0.420  0.87211    \n",
      "LM:natural - LM:artificial <= 0 -0.0003643  0.0077006  -0.047  0.97422    \n",
      "AL:natural - AL:artificial <= 0  0.0240174  0.0081677   2.941  0.00816 ** \n",
      "PM:natural - PM:artificial <= 0  0.0011737  0.0077006   0.152  0.94465    \n",
      "AM:natural - AM:artificial <= 0  0.0341597  0.0077006   4.436 2.29e-05 ***\n",
      "---\n",
      "Signif. codes:  0 ‘***’ 0.001 ‘**’ 0.01 ‘*’ 0.05 ‘.’ 0.1 ‘ ’ 1\n",
      "(Adjusted p values reported -- single-step method)\n",
      "\n",
      "\n",
      "\t Simultaneous Confidence Intervals\n",
      "\n",
      "Fit: lmer(formula = `log(mean_centroid_distance)` ~ 1 + area * stimulus_type + \n",
      "    (1 | session), data = data, REML = FALSE)\n",
      "\n",
      "Quantile = -2.319\n",
      "95% family-wise confidence level\n",
      " \n",
      "\n",
      "Linear Hypotheses:\n",
      "                                Estimate   lwr        upr       \n",
      "V1:natural - V1:artificial <= 0  0.0032346 -0.0146227        Inf\n",
      "LM:natural - LM:artificial <= 0 -0.0003643 -0.0182216        Inf\n",
      "AL:natural - AL:artificial <= 0  0.0240174  0.0050769        Inf\n",
      "PM:natural - PM:artificial <= 0  0.0011737 -0.0166836        Inf\n",
      "AM:natural - AM:artificial <= 0  0.0341597  0.0163024        Inf\n",
      "\n",
      "\n",
      "\n",
      "\n",
      "~~~~~~~~~~~~~~~~~~~~~~~~~~~~~~~~~~~~~~~~~~~~~~~~~~~~~~~~~~~~~~~~~~~~~~~~~~~~~~~~\n",
      "\n",
      "\n"
     ]
    }
   ],
   "source": [
    "cat {output_path}"
   ]
  },
  {
   "cell_type": "markdown",
   "id": "5cd125ab-af9f-4c53-97b2-7106c695c117",
   "metadata": {},
   "source": [
    "### Figure 5-1"
   ]
  },
  {
   "cell_type": "code",
   "execution_count": 59,
   "id": "4d0d5ad5-059e-4eb8-87f8-a7ec891c518b",
   "metadata": {
    "execution": {
     "iopub.execute_input": "2021-12-14T17:37:49.275444Z",
     "iopub.status.busy": "2021-12-14T17:37:49.275033Z",
     "iopub.status.idle": "2021-12-14T17:37:49.285085Z",
     "shell.execute_reply": "2021-12-14T17:37:49.284206Z",
     "shell.execute_reply.started": "2021-12-14T17:37:49.275401Z"
    },
    "tags": []
   },
   "outputs": [],
   "source": [
    "subset = df_events.loc[\n",
    "    df_events[\"stimulus_is_scrambled_pair\"]\n",
    "]"
   ]
  },
  {
   "cell_type": "code",
   "execution_count": 60,
   "id": "8261a66d-1cb5-4b1f-a348-50198ad27c8c",
   "metadata": {
    "execution": {
     "iopub.execute_input": "2021-12-14T17:37:49.286802Z",
     "iopub.status.busy": "2021-12-14T17:37:49.286427Z",
     "iopub.status.idle": "2021-12-14T17:37:49.291011Z",
     "shell.execute_reply": "2021-12-14T17:37:49.290201Z",
     "shell.execute_reply.started": "2021-12-14T17:37:49.286763Z"
    },
    "tags": []
   },
   "outputs": [],
   "source": [
    "output_path = OUTPUT_DIR / \"stats__fig_5-1.txt\""
   ]
  },
  {
   "cell_type": "code",
   "execution_count": 61,
   "id": "1f0aa87a-3c33-41e4-aac3-a4bb5587a6a7",
   "metadata": {
    "execution": {
     "iopub.execute_input": "2021-12-14T17:37:49.292706Z",
     "iopub.status.busy": "2021-12-14T17:37:49.292335Z",
     "iopub.status.idle": "2021-12-14T17:37:49.296644Z",
     "shell.execute_reply": "2021-12-14T17:37:49.295806Z",
     "shell.execute_reply.started": "2021-12-14T17:37:49.292668Z"
    },
    "tags": []
   },
   "outputs": [],
   "source": [
    "EXPECTED_NUMBER_OF_OBSERVATIONS = 2200"
   ]
  },
  {
   "cell_type": "code",
   "execution_count": 62,
   "id": "055e341d-ce79-46ae-8d52-909a93362e8a",
   "metadata": {
    "execution": {
     "iopub.execute_input": "2021-12-14T17:37:49.298178Z",
     "iopub.status.busy": "2021-12-14T17:37:49.297834Z",
     "iopub.status.idle": "2021-12-14T17:37:52.285374Z",
     "shell.execute_reply": "2021-12-14T17:37:52.284435Z",
     "shell.execute_reply.started": "2021-12-14T17:37:49.298144Z"
    },
    "tags": []
   },
   "outputs": [],
   "source": [
    "result = run_stats(subset, output_path)"
   ]
  },
  {
   "cell_type": "code",
   "execution_count": 63,
   "id": "688abcf6-1c69-4e8a-b05b-1d1ae4aba103",
   "metadata": {
    "execution": {
     "iopub.execute_input": "2021-12-14T17:37:52.287087Z",
     "iopub.status.busy": "2021-12-14T17:37:52.286734Z",
     "iopub.status.idle": "2021-12-14T17:37:52.464455Z",
     "shell.execute_reply": "2021-12-14T17:37:52.463505Z",
     "shell.execute_reply.started": "2021-12-14T17:37:52.287049Z"
    },
    "tags": []
   },
   "outputs": [
    {
     "name": "stdout",
     "output_type": "stream",
     "text": [
      "================================================================================\n",
      "Layer\n",
      "================================================================================\n",
      "Data: data\n",
      "Models:\n",
      "reduced_model: `log(mean_centroid_distance)` ~ 1 + layer + stimulus_type + (1 | \n",
      "reduced_model:     session)\n",
      "model: `log(mean_centroid_distance)` ~ 1 + layer * stimulus_type + (1 | \n",
      "model:     session)\n",
      "              Df     AIC     BIC logLik deviance  Chisq Chi Df Pr(>Chisq)    \n",
      "reduced_model  6 -5449.1 -5414.9 2730.5  -5461.1                             \n",
      "model          8 -5460.1 -5414.5 2738.1  -5476.1 15.029      2  0.0005452 ***\n",
      "---\n",
      "Signif. codes:  0 ‘***’ 0.001 ‘**’ 0.01 ‘*’ 0.05 ‘.’ 0.1 ‘ ’ 1\n",
      "\n",
      "\t Simultaneous Tests for General Linear Hypotheses\n",
      "\n",
      "Fit: lmer(formula = `log(mean_centroid_distance)` ~ 1 + layer * stimulus_type + \n",
      "    (1 | session), data = data, REML = FALSE)\n",
      "\n",
      "Linear Hypotheses:\n",
      "                                      Estimate Std. Error z value   Pr(>z)    \n",
      "L2/3:natural - L2/3:artificial <= 0  0.0262792  0.0049239   5.337 1.42e-07 ***\n",
      "L4:natural - L4:artificial <= 0      0.0083611  0.0049239   1.698    0.128    \n",
      "L5:natural - L5:artificial <= 0     -0.0006332  0.0050967  -0.124    0.909    \n",
      "---\n",
      "Signif. codes:  0 ‘***’ 0.001 ‘**’ 0.01 ‘*’ 0.05 ‘.’ 0.1 ‘ ’ 1\n",
      "(Adjusted p values reported -- single-step method)\n",
      "\n",
      "\n",
      "\t Simultaneous Confidence Intervals\n",
      "\n",
      "Fit: lmer(formula = `log(mean_centroid_distance)` ~ 1 + layer * stimulus_type + \n",
      "    (1 | session), data = data, REML = FALSE)\n",
      "\n",
      "Quantile = -2.1211\n",
      "95% family-wise confidence level\n",
      " \n",
      "\n",
      "Linear Hypotheses:\n",
      "                                    Estimate   lwr        upr       \n",
      "L2/3:natural - L2/3:artificial <= 0  0.0262792  0.0158353        Inf\n",
      "L4:natural - L4:artificial <= 0      0.0083611 -0.0020828        Inf\n",
      "L5:natural - L5:artificial <= 0     -0.0006332 -0.0114437        Inf\n",
      "\n",
      "\n",
      "================================================================================\n",
      "Area\n",
      "================================================================================\n",
      "Data: data\n",
      "Models:\n",
      "reduced_model: `log(mean_centroid_distance)` ~ 1 + area + stimulus_type + (1 | \n",
      "reduced_model:     session)\n",
      "model: `log(mean_centroid_distance)` ~ 1 + area * stimulus_type + (1 | \n",
      "model:     session)\n",
      "              Df     AIC     BIC logLik deviance  Chisq Chi Df Pr(>Chisq)    \n",
      "reduced_model  8 -5445.5 -5399.9 2730.8  -5461.5                             \n",
      "model         12 -5458.3 -5390.0 2741.2  -5482.3 20.854      4  0.0003385 ***\n",
      "---\n",
      "Signif. codes:  0 ‘***’ 0.001 ‘**’ 0.01 ‘*’ 0.05 ‘.’ 0.1 ‘ ’ 1\n",
      "\n",
      "\t Simultaneous Tests for General Linear Hypotheses\n",
      "\n",
      "Fit: lmer(formula = `log(mean_centroid_distance)` ~ 1 + area * stimulus_type + \n",
      "    (1 | session), data = data, REML = FALSE)\n",
      "\n",
      "Linear Hypotheses:\n",
      "                                 Estimate Std. Error z value   Pr(>z)    \n",
      "V1:natural - V1:artificial <= 0  0.019881   0.006348   3.132  0.00434 ** \n",
      "LM:natural - LM:artificial <= 0 -0.005067   0.006348  -0.798  0.99957    \n",
      "AL:natural - AL:artificial <= 0  0.018567   0.006733   2.757  0.01448 *  \n",
      "PM:natural - PM:artificial <= 0 -0.002325   0.006348  -0.366  0.99419    \n",
      "AM:natural - AM:artificial <= 0  0.027757   0.006348   4.372 3.07e-05 ***\n",
      "---\n",
      "Signif. codes:  0 ‘***’ 0.001 ‘**’ 0.01 ‘*’ 0.05 ‘.’ 0.1 ‘ ’ 1\n",
      "(Adjusted p values reported -- single-step method)\n",
      "\n",
      "\n",
      "\t Simultaneous Confidence Intervals\n",
      "\n",
      "Fit: lmer(formula = `log(mean_centroid_distance)` ~ 1 + area * stimulus_type + \n",
      "    (1 | session), data = data, REML = FALSE)\n",
      "\n",
      "Quantile = -2.319\n",
      "95% family-wise confidence level\n",
      " \n",
      "\n",
      "Linear Hypotheses:\n",
      "                                Estimate  lwr       upr      \n",
      "V1:natural - V1:artificial <= 0  0.019881  0.005160       Inf\n",
      "LM:natural - LM:artificial <= 0 -0.005067 -0.019788       Inf\n",
      "AL:natural - AL:artificial <= 0  0.018567  0.002953       Inf\n",
      "PM:natural - PM:artificial <= 0 -0.002325 -0.017046       Inf\n",
      "AM:natural - AM:artificial <= 0  0.027757  0.013036       Inf\n",
      "\n",
      "\n",
      "\n",
      "\n",
      "~~~~~~~~~~~~~~~~~~~~~~~~~~~~~~~~~~~~~~~~~~~~~~~~~~~~~~~~~~~~~~~~~~~~~~~~~~~~~~~~\n",
      "\n",
      "\n"
     ]
    }
   ],
   "source": [
    "cat {output_path}"
   ]
  },
  {
   "cell_type": "markdown",
   "id": "675d38c9-5a73-4018-93c8-4f223530bb25",
   "metadata": {},
   "source": [
    "# Arousal mediation analyses"
   ]
  },
  {
   "cell_type": "code",
   "execution_count": 64,
   "id": "2d2307e1-2bad-49be-9dc2-c4db8688b86b",
   "metadata": {
    "collapsed": true,
    "execution": {
     "iopub.execute_input": "2021-12-14T17:37:52.466476Z",
     "iopub.status.busy": "2021-12-14T17:37:52.466093Z",
     "iopub.status.idle": "2021-12-14T17:40:57.626392Z",
     "shell.execute_reply": "2021-12-14T17:40:57.625454Z",
     "shell.execute_reply.started": "2021-12-14T17:37:52.466437Z"
    },
    "jupyter": {
     "outputs_hidden": true
    },
    "tags": []
   },
   "outputs": [
    {
     "name": "stderr",
     "output_type": "stream",
     "text": [
      "R[write to console]: also installing the dependencies ‘png’, ‘jpeg’, ‘checkmate’, ‘htmlwidgets’, ‘Formula’, ‘latticeExtra’, ‘gridExtra’, ‘data.table’, ‘htmlTable’, ‘viridis’, ‘lpSolve’, ‘Hmisc’\n",
      "\n",
      "\n",
      "R[write to console]: trying URL 'https://cloud.r-project.org/src/contrib/png_0.1-7.tar.gz'\n",
      "\n",
      "R[write to console]: Content type 'application/x-gzip'\n",
      "R[write to console]:  length 24990 bytes (24 KB)\n",
      "\n",
      "R[write to console]: =\n",
      "R[write to console]: =\n",
      "R[write to console]: =\n",
      "R[write to console]: =\n",
      "R[write to console]: =\n",
      "R[write to console]: =\n",
      "R[write to console]: =\n",
      "R[write to console]: =\n",
      "R[write to console]: =\n",
      "R[write to console]: =\n",
      "R[write to console]: =\n",
      "R[write to console]: =\n",
      "R[write to console]: =\n",
      "R[write to console]: =\n",
      "R[write to console]: =\n",
      "R[write to console]: =\n",
      "R[write to console]: =\n",
      "R[write to console]: =\n",
      "R[write to console]: =\n",
      "R[write to console]: =\n",
      "R[write to console]: =\n",
      "R[write to console]: =\n",
      "R[write to console]: =\n",
      "R[write to console]: =\n",
      "R[write to console]: =\n",
      "R[write to console]: =\n",
      "R[write to console]: =\n",
      "R[write to console]: =\n",
      "R[write to console]: =\n",
      "R[write to console]: =\n",
      "R[write to console]: =\n",
      "R[write to console]: =\n",
      "R[write to console]: =\n",
      "R[write to console]: =\n",
      "R[write to console]: =\n",
      "R[write to console]: =\n",
      "R[write to console]: =\n",
      "R[write to console]: =\n",
      "R[write to console]: =\n",
      "R[write to console]: =\n",
      "R[write to console]: =\n",
      "R[write to console]: =\n",
      "R[write to console]: =\n",
      "R[write to console]: =\n",
      "R[write to console]: =\n",
      "R[write to console]: =\n",
      "R[write to console]: =\n",
      "R[write to console]: =\n",
      "R[write to console]: =\n",
      "R[write to console]: =\n",
      "R[write to console]: \n",
      "\n",
      "R[write to console]: downloaded 24 KB\n",
      "\n",
      "\n",
      "R[write to console]: trying URL 'https://cloud.r-project.org/src/contrib/jpeg_0.1-9.tar.gz'\n",
      "\n",
      "R[write to console]: Content type 'application/x-gzip'\n",
      "R[write to console]:  length 18596 bytes (18 KB)\n",
      "\n",
      "R[write to console]: =\n",
      "R[write to console]: =\n",
      "R[write to console]: =\n",
      "R[write to console]: =\n",
      "R[write to console]: =\n",
      "R[write to console]: =\n",
      "R[write to console]: =\n",
      "R[write to console]: =\n",
      "R[write to console]: =\n",
      "R[write to console]: =\n",
      "R[write to console]: =\n",
      "R[write to console]: =\n",
      "R[write to console]: =\n",
      "R[write to console]: =\n",
      "R[write to console]: =\n",
      "R[write to console]: =\n",
      "R[write to console]: =\n",
      "R[write to console]: =\n",
      "R[write to console]: =\n",
      "R[write to console]: =\n",
      "R[write to console]: =\n",
      "R[write to console]: =\n",
      "R[write to console]: =\n",
      "R[write to console]: =\n",
      "R[write to console]: =\n",
      "R[write to console]: =\n",
      "R[write to console]: =\n",
      "R[write to console]: =\n",
      "R[write to console]: =\n",
      "R[write to console]: =\n",
      "R[write to console]: =\n",
      "R[write to console]: =\n",
      "R[write to console]: =\n",
      "R[write to console]: =\n",
      "R[write to console]: =\n",
      "R[write to console]: =\n",
      "R[write to console]: =\n",
      "R[write to console]: =\n",
      "R[write to console]: =\n",
      "R[write to console]: =\n",
      "R[write to console]: =\n",
      "R[write to console]: =\n",
      "R[write to console]: =\n",
      "R[write to console]: =\n",
      "R[write to console]: =\n",
      "R[write to console]: =\n",
      "R[write to console]: =\n",
      "R[write to console]: =\n",
      "R[write to console]: =\n",
      "R[write to console]: =\n",
      "R[write to console]: \n",
      "\n",
      "R[write to console]: downloaded 18 KB\n",
      "\n",
      "\n",
      "R[write to console]: trying URL 'https://cloud.r-project.org/src/contrib/checkmate_2.0.0.tar.gz'\n",
      "\n",
      "R[write to console]: Content type 'application/x-gzip'\n",
      "R[write to console]:  length 168716 bytes (164 KB)\n",
      "\n",
      "R[write to console]: =\n",
      "R[write to console]: =\n",
      "R[write to console]: =\n",
      "R[write to console]: =\n",
      "R[write to console]: =\n",
      "R[write to console]: =\n",
      "R[write to console]: =\n",
      "R[write to console]: =\n",
      "R[write to console]: =\n",
      "R[write to console]: =\n",
      "R[write to console]: =\n",
      "R[write to console]: =\n",
      "R[write to console]: =\n",
      "R[write to console]: =\n",
      "R[write to console]: =\n",
      "R[write to console]: =\n",
      "R[write to console]: =\n",
      "R[write to console]: =\n",
      "R[write to console]: =\n",
      "R[write to console]: =\n",
      "R[write to console]: =\n",
      "R[write to console]: =\n",
      "R[write to console]: =\n",
      "R[write to console]: =\n",
      "R[write to console]: =\n",
      "R[write to console]: =\n",
      "R[write to console]: =\n",
      "R[write to console]: =\n",
      "R[write to console]: =\n",
      "R[write to console]: =\n",
      "R[write to console]: =\n",
      "R[write to console]: =\n",
      "R[write to console]: =\n",
      "R[write to console]: =\n",
      "R[write to console]: =\n",
      "R[write to console]: =\n",
      "R[write to console]: =\n",
      "R[write to console]: =\n",
      "R[write to console]: =\n",
      "R[write to console]: =\n",
      "R[write to console]: =\n",
      "R[write to console]: =\n",
      "R[write to console]: =\n",
      "R[write to console]: =\n",
      "R[write to console]: =\n",
      "R[write to console]: =\n",
      "R[write to console]: =\n",
      "R[write to console]: =\n",
      "R[write to console]: =\n",
      "R[write to console]: =\n",
      "R[write to console]: \n",
      "\n",
      "R[write to console]: downloaded 164 KB\n",
      "\n",
      "\n",
      "R[write to console]: trying URL 'https://cloud.r-project.org/src/contrib/htmlwidgets_1.5.4.tar.gz'\n",
      "\n",
      "R[write to console]: Content type 'application/x-gzip'\n",
      "R[write to console]:  length 956850 bytes (934 KB)\n",
      "\n",
      "R[write to console]: =\n",
      "R[write to console]: =\n",
      "R[write to console]: =\n",
      "R[write to console]: =\n",
      "R[write to console]: =\n",
      "R[write to console]: =\n",
      "R[write to console]: =\n",
      "R[write to console]: =\n",
      "R[write to console]: =\n",
      "R[write to console]: =\n",
      "R[write to console]: =\n",
      "R[write to console]: =\n",
      "R[write to console]: =\n",
      "R[write to console]: =\n",
      "R[write to console]: =\n",
      "R[write to console]: =\n",
      "R[write to console]: =\n",
      "R[write to console]: =\n",
      "R[write to console]: =\n",
      "R[write to console]: =\n",
      "R[write to console]: =\n",
      "R[write to console]: =\n",
      "R[write to console]: =\n",
      "R[write to console]: =\n",
      "R[write to console]: =\n",
      "R[write to console]: =\n",
      "R[write to console]: =\n",
      "R[write to console]: =\n",
      "R[write to console]: =\n",
      "R[write to console]: =\n",
      "R[write to console]: =\n",
      "R[write to console]: =\n",
      "R[write to console]: =\n",
      "R[write to console]: =\n",
      "R[write to console]: =\n",
      "R[write to console]: =\n",
      "R[write to console]: =\n",
      "R[write to console]: =\n",
      "R[write to console]: =\n",
      "R[write to console]: =\n",
      "R[write to console]: =\n",
      "R[write to console]: =\n",
      "R[write to console]: =\n",
      "R[write to console]: =\n",
      "R[write to console]: =\n",
      "R[write to console]: =\n",
      "R[write to console]: =\n",
      "R[write to console]: =\n",
      "R[write to console]: =\n",
      "R[write to console]: =\n",
      "R[write to console]: \n",
      "\n",
      "R[write to console]: downloaded 934 KB\n",
      "\n",
      "\n",
      "R[write to console]: trying URL 'https://cloud.r-project.org/src/contrib/Formula_1.2-4.tar.gz'\n",
      "\n",
      "R[write to console]: Content type 'application/x-gzip'\n",
      "R[write to console]:  length 164214 bytes (160 KB)\n",
      "\n",
      "R[write to console]: =\n",
      "R[write to console]: =\n",
      "R[write to console]: =\n",
      "R[write to console]: =\n",
      "R[write to console]: =\n",
      "R[write to console]: =\n",
      "R[write to console]: =\n",
      "R[write to console]: =\n",
      "R[write to console]: =\n",
      "R[write to console]: =\n",
      "R[write to console]: =\n",
      "R[write to console]: =\n",
      "R[write to console]: =\n",
      "R[write to console]: =\n",
      "R[write to console]: =\n",
      "R[write to console]: =\n",
      "R[write to console]: =\n",
      "R[write to console]: =\n",
      "R[write to console]: =\n",
      "R[write to console]: =\n",
      "R[write to console]: =\n",
      "R[write to console]: =\n",
      "R[write to console]: =\n",
      "R[write to console]: =\n",
      "R[write to console]: =\n",
      "R[write to console]: =\n",
      "R[write to console]: =\n",
      "R[write to console]: =\n",
      "R[write to console]: =\n",
      "R[write to console]: =\n",
      "R[write to console]: =\n",
      "R[write to console]: =\n",
      "R[write to console]: =\n",
      "R[write to console]: =\n",
      "R[write to console]: =\n",
      "R[write to console]: =\n",
      "R[write to console]: =\n",
      "R[write to console]: =\n",
      "R[write to console]: =\n",
      "R[write to console]: =\n",
      "R[write to console]: =\n",
      "R[write to console]: =\n",
      "R[write to console]: =\n",
      "R[write to console]: =\n",
      "R[write to console]: =\n",
      "R[write to console]: =\n",
      "R[write to console]: =\n",
      "R[write to console]: =\n",
      "R[write to console]: =\n",
      "R[write to console]: =\n",
      "R[write to console]: \n",
      "\n",
      "R[write to console]: downloaded 160 KB\n",
      "\n",
      "\n",
      "R[write to console]: trying URL 'https://cloud.r-project.org/src/contrib/latticeExtra_0.6-29.tar.gz'\n",
      "\n",
      "R[write to console]: Content type 'application/x-gzip'\n",
      "R[write to console]:  length 1292315 bytes (1.2 MB)\n",
      "\n",
      "R[write to console]: =\n",
      "R[write to console]: =\n",
      "R[write to console]: =\n",
      "R[write to console]: =\n",
      "R[write to console]: =\n",
      "R[write to console]: =\n",
      "R[write to console]: =\n",
      "R[write to console]: =\n",
      "R[write to console]: =\n",
      "R[write to console]: =\n",
      "R[write to console]: =\n",
      "R[write to console]: =\n",
      "R[write to console]: =\n",
      "R[write to console]: =\n",
      "R[write to console]: =\n",
      "R[write to console]: =\n",
      "R[write to console]: =\n",
      "R[write to console]: =\n",
      "R[write to console]: =\n",
      "R[write to console]: =\n",
      "R[write to console]: =\n",
      "R[write to console]: =\n",
      "R[write to console]: =\n",
      "R[write to console]: =\n",
      "R[write to console]: =\n",
      "R[write to console]: =\n",
      "R[write to console]: =\n",
      "R[write to console]: =\n",
      "R[write to console]: =\n",
      "R[write to console]: =\n",
      "R[write to console]: =\n",
      "R[write to console]: =\n",
      "R[write to console]: =\n",
      "R[write to console]: =\n",
      "R[write to console]: =\n",
      "R[write to console]: =\n",
      "R[write to console]: =\n",
      "R[write to console]: =\n",
      "R[write to console]: =\n",
      "R[write to console]: =\n",
      "R[write to console]: =\n",
      "R[write to console]: =\n",
      "R[write to console]: =\n",
      "R[write to console]: =\n",
      "R[write to console]: =\n",
      "R[write to console]: =\n",
      "R[write to console]: =\n",
      "R[write to console]: =\n",
      "R[write to console]: =\n",
      "R[write to console]: =\n",
      "R[write to console]: \n",
      "\n",
      "R[write to console]: downloaded 1.2 MB\n",
      "\n",
      "\n",
      "R[write to console]: trying URL 'https://cloud.r-project.org/src/contrib/gridExtra_2.3.tar.gz'\n",
      "\n",
      "R[write to console]: Content type 'application/x-gzip'\n",
      "R[write to console]:  length 1062844 bytes (1.0 MB)\n",
      "\n",
      "R[write to console]: =\n",
      "R[write to console]: =\n",
      "R[write to console]: =\n",
      "R[write to console]: =\n",
      "R[write to console]: =\n",
      "R[write to console]: =\n",
      "R[write to console]: =\n",
      "R[write to console]: =\n",
      "R[write to console]: =\n",
      "R[write to console]: =\n",
      "R[write to console]: =\n",
      "R[write to console]: =\n",
      "R[write to console]: =\n",
      "R[write to console]: =\n",
      "R[write to console]: =\n",
      "R[write to console]: =\n",
      "R[write to console]: =\n",
      "R[write to console]: =\n",
      "R[write to console]: =\n",
      "R[write to console]: =\n",
      "R[write to console]: =\n",
      "R[write to console]: =\n",
      "R[write to console]: =\n",
      "R[write to console]: =\n",
      "R[write to console]: =\n",
      "R[write to console]: =\n",
      "R[write to console]: =\n",
      "R[write to console]: =\n",
      "R[write to console]: =\n",
      "R[write to console]: =\n",
      "R[write to console]: =\n",
      "R[write to console]: =\n",
      "R[write to console]: =\n",
      "R[write to console]: =\n",
      "R[write to console]: =\n",
      "R[write to console]: =\n",
      "R[write to console]: =\n",
      "R[write to console]: =\n",
      "R[write to console]: =\n",
      "R[write to console]: =\n",
      "R[write to console]: =\n",
      "R[write to console]: =\n",
      "R[write to console]: =\n",
      "R[write to console]: =\n",
      "R[write to console]: =\n",
      "R[write to console]: =\n",
      "R[write to console]: =\n",
      "R[write to console]: =\n",
      "R[write to console]: =\n",
      "R[write to console]: =\n",
      "R[write to console]: \n",
      "\n",
      "R[write to console]: downloaded 1.0 MB\n",
      "\n",
      "\n",
      "R[write to console]: trying URL 'https://cloud.r-project.org/src/contrib/data.table_1.14.2.tar.gz'\n",
      "\n",
      "R[write to console]: Content type 'application/x-gzip'\n",
      "R[write to console]:  length 5301817 bytes (5.1 MB)\n",
      "\n",
      "R[write to console]: =\n",
      "R[write to console]: =\n",
      "R[write to console]: =\n",
      "R[write to console]: =\n",
      "R[write to console]: =\n",
      "R[write to console]: =\n",
      "R[write to console]: =\n",
      "R[write to console]: =\n",
      "R[write to console]: =\n",
      "R[write to console]: =\n",
      "R[write to console]: =\n",
      "R[write to console]: =\n",
      "R[write to console]: =\n",
      "R[write to console]: =\n",
      "R[write to console]: =\n",
      "R[write to console]: =\n",
      "R[write to console]: =\n",
      "R[write to console]: =\n",
      "R[write to console]: =\n",
      "R[write to console]: =\n",
      "R[write to console]: =\n",
      "R[write to console]: =\n",
      "R[write to console]: =\n",
      "R[write to console]: =\n",
      "R[write to console]: =\n",
      "R[write to console]: =\n",
      "R[write to console]: =\n",
      "R[write to console]: =\n",
      "R[write to console]: =\n",
      "R[write to console]: =\n",
      "R[write to console]: =\n",
      "R[write to console]: =\n",
      "R[write to console]: =\n",
      "R[write to console]: =\n",
      "R[write to console]: =\n",
      "R[write to console]: =\n",
      "R[write to console]: =\n",
      "R[write to console]: =\n",
      "R[write to console]: =\n",
      "R[write to console]: =\n",
      "R[write to console]: =\n",
      "R[write to console]: =\n",
      "R[write to console]: =\n",
      "R[write to console]: =\n",
      "R[write to console]: =\n",
      "R[write to console]: =\n",
      "R[write to console]: =\n",
      "R[write to console]: =\n",
      "R[write to console]: =\n",
      "R[write to console]: =\n",
      "R[write to console]: \n",
      "\n",
      "R[write to console]: downloaded 5.1 MB\n",
      "\n",
      "\n",
      "R[write to console]: trying URL 'https://cloud.r-project.org/src/contrib/htmlTable_2.3.0.tar.gz'\n",
      "\n",
      "R[write to console]: Content type 'application/x-gzip'\n",
      "R[write to console]:  length 208455 bytes (203 KB)\n",
      "\n",
      "R[write to console]: =\n",
      "R[write to console]: =\n",
      "R[write to console]: =\n",
      "R[write to console]: =\n",
      "R[write to console]: =\n",
      "R[write to console]: =\n",
      "R[write to console]: =\n",
      "R[write to console]: =\n",
      "R[write to console]: =\n",
      "R[write to console]: =\n",
      "R[write to console]: =\n",
      "R[write to console]: =\n",
      "R[write to console]: =\n",
      "R[write to console]: =\n",
      "R[write to console]: =\n",
      "R[write to console]: =\n",
      "R[write to console]: =\n",
      "R[write to console]: =\n",
      "R[write to console]: =\n",
      "R[write to console]: =\n",
      "R[write to console]: =\n",
      "R[write to console]: =\n",
      "R[write to console]: =\n",
      "R[write to console]: =\n",
      "R[write to console]: =\n",
      "R[write to console]: =\n",
      "R[write to console]: =\n",
      "R[write to console]: =\n",
      "R[write to console]: =\n",
      "R[write to console]: =\n",
      "R[write to console]: =\n",
      "R[write to console]: =\n",
      "R[write to console]: =\n",
      "R[write to console]: =\n",
      "R[write to console]: =\n",
      "R[write to console]: =\n",
      "R[write to console]: =\n",
      "R[write to console]: =\n",
      "R[write to console]: =\n",
      "R[write to console]: =\n",
      "R[write to console]: =\n",
      "R[write to console]: =\n",
      "R[write to console]: =\n",
      "R[write to console]: =\n",
      "R[write to console]: =\n",
      "R[write to console]: =\n",
      "R[write to console]: =\n",
      "R[write to console]: =\n",
      "R[write to console]: =\n",
      "R[write to console]: =\n",
      "R[write to console]: \n",
      "\n",
      "R[write to console]: downloaded 203 KB\n",
      "\n",
      "\n",
      "R[write to console]: trying URL 'https://cloud.r-project.org/src/contrib/viridis_0.6.2.tar.gz'\n",
      "\n",
      "R[write to console]: Content type 'application/x-gzip'\n",
      "R[write to console]:  length 3031731 bytes (2.9 MB)\n",
      "\n",
      "R[write to console]: =\n",
      "R[write to console]: =\n",
      "R[write to console]: =\n",
      "R[write to console]: =\n",
      "R[write to console]: =\n",
      "R[write to console]: =\n",
      "R[write to console]: =\n",
      "R[write to console]: =\n",
      "R[write to console]: =\n",
      "R[write to console]: =\n",
      "R[write to console]: =\n",
      "R[write to console]: =\n",
      "R[write to console]: =\n",
      "R[write to console]: =\n",
      "R[write to console]: =\n",
      "R[write to console]: =\n",
      "R[write to console]: =\n",
      "R[write to console]: =\n",
      "R[write to console]: =\n",
      "R[write to console]: =\n",
      "R[write to console]: =\n",
      "R[write to console]: =\n",
      "R[write to console]: =\n",
      "R[write to console]: =\n",
      "R[write to console]: =\n",
      "R[write to console]: =\n",
      "R[write to console]: =\n",
      "R[write to console]: =\n",
      "R[write to console]: =\n",
      "R[write to console]: =\n",
      "R[write to console]: =\n",
      "R[write to console]: =\n",
      "R[write to console]: =\n",
      "R[write to console]: =\n",
      "R[write to console]: =\n",
      "R[write to console]: =\n",
      "R[write to console]: =\n",
      "R[write to console]: =\n",
      "R[write to console]: =\n",
      "R[write to console]: =\n",
      "R[write to console]: =\n",
      "R[write to console]: =\n",
      "R[write to console]: =\n",
      "R[write to console]: =\n",
      "R[write to console]: =\n",
      "R[write to console]: =\n",
      "R[write to console]: =\n",
      "R[write to console]: =\n",
      "R[write to console]: =\n",
      "R[write to console]: =\n",
      "R[write to console]: \n",
      "\n",
      "R[write to console]: downloaded 2.9 MB\n",
      "\n",
      "\n",
      "R[write to console]: trying URL 'https://cloud.r-project.org/src/contrib/lpSolve_5.6.15.tar.gz'\n",
      "\n",
      "R[write to console]: Content type 'application/x-gzip'\n",
      "R[write to console]:  length 467646 bytes (456 KB)\n",
      "\n",
      "R[write to console]: =\n",
      "R[write to console]: =\n",
      "R[write to console]: =\n",
      "R[write to console]: =\n",
      "R[write to console]: =\n",
      "R[write to console]: =\n",
      "R[write to console]: =\n",
      "R[write to console]: =\n",
      "R[write to console]: =\n",
      "R[write to console]: =\n",
      "R[write to console]: =\n",
      "R[write to console]: =\n",
      "R[write to console]: =\n",
      "R[write to console]: =\n",
      "R[write to console]: =\n",
      "R[write to console]: =\n",
      "R[write to console]: =\n",
      "R[write to console]: =\n",
      "R[write to console]: =\n",
      "R[write to console]: =\n",
      "R[write to console]: =\n",
      "R[write to console]: =\n",
      "R[write to console]: =\n",
      "R[write to console]: =\n",
      "R[write to console]: =\n",
      "R[write to console]: =\n",
      "R[write to console]: =\n",
      "R[write to console]: =\n",
      "R[write to console]: =\n",
      "R[write to console]: =\n",
      "R[write to console]: =\n",
      "R[write to console]: =\n",
      "R[write to console]: =\n",
      "R[write to console]: =\n",
      "R[write to console]: =\n",
      "R[write to console]: =\n",
      "R[write to console]: =\n",
      "R[write to console]: =\n",
      "R[write to console]: =\n",
      "R[write to console]: =\n",
      "R[write to console]: =\n",
      "R[write to console]: =\n",
      "R[write to console]: =\n",
      "R[write to console]: =\n",
      "R[write to console]: =\n",
      "R[write to console]: =\n",
      "R[write to console]: =\n",
      "R[write to console]: =\n",
      "R[write to console]: =\n",
      "R[write to console]: =\n",
      "R[write to console]: \n",
      "\n",
      "R[write to console]: downloaded 456 KB\n",
      "\n",
      "\n",
      "R[write to console]: trying URL 'https://cloud.r-project.org/src/contrib/Hmisc_4.6-0.tar.gz'\n",
      "\n",
      "R[write to console]: Content type 'application/x-gzip'\n",
      "R[write to console]:  length 784633 bytes (766 KB)\n",
      "\n",
      "R[write to console]: =\n",
      "R[write to console]: =\n",
      "R[write to console]: =\n",
      "R[write to console]: =\n",
      "R[write to console]: =\n",
      "R[write to console]: =\n",
      "R[write to console]: =\n",
      "R[write to console]: =\n",
      "R[write to console]: =\n",
      "R[write to console]: =\n",
      "R[write to console]: =\n",
      "R[write to console]: =\n",
      "R[write to console]: =\n",
      "R[write to console]: =\n",
      "R[write to console]: =\n",
      "R[write to console]: =\n",
      "R[write to console]: =\n",
      "R[write to console]: =\n",
      "R[write to console]: =\n",
      "R[write to console]: =\n",
      "R[write to console]: =\n",
      "R[write to console]: =\n",
      "R[write to console]: =\n",
      "R[write to console]: =\n",
      "R[write to console]: =\n",
      "R[write to console]: =\n",
      "R[write to console]: =\n",
      "R[write to console]: =\n",
      "R[write to console]: =\n",
      "R[write to console]: =\n",
      "R[write to console]: =\n",
      "R[write to console]: =\n",
      "R[write to console]: =\n",
      "R[write to console]: =\n",
      "R[write to console]: =\n",
      "R[write to console]: =\n",
      "R[write to console]: =\n",
      "R[write to console]: =\n",
      "R[write to console]: =\n",
      "R[write to console]: =\n",
      "R[write to console]: =\n",
      "R[write to console]: =\n",
      "R[write to console]: =\n",
      "R[write to console]: =\n",
      "R[write to console]: =\n",
      "R[write to console]: =\n",
      "R[write to console]: =\n",
      "R[write to console]: =\n",
      "R[write to console]: =\n",
      "R[write to console]: =\n",
      "R[write to console]: \n",
      "\n",
      "R[write to console]: downloaded 766 KB\n",
      "\n",
      "\n",
      "R[write to console]: trying URL 'https://cloud.r-project.org/src/contrib/mediation_4.5.0.tar.gz'\n",
      "\n",
      "R[write to console]: Content type 'application/x-gzip'\n",
      "R[write to console]:  length 1345037 bytes (1.3 MB)\n",
      "\n",
      "R[write to console]: =\n",
      "R[write to console]: =\n",
      "R[write to console]: =\n",
      "R[write to console]: =\n",
      "R[write to console]: =\n",
      "R[write to console]: =\n",
      "R[write to console]: =\n",
      "R[write to console]: =\n",
      "R[write to console]: =\n",
      "R[write to console]: =\n",
      "R[write to console]: =\n",
      "R[write to console]: =\n",
      "R[write to console]: =\n",
      "R[write to console]: =\n",
      "R[write to console]: =\n",
      "R[write to console]: =\n",
      "R[write to console]: =\n",
      "R[write to console]: =\n",
      "R[write to console]: =\n",
      "R[write to console]: =\n",
      "R[write to console]: =\n",
      "R[write to console]: =\n",
      "R[write to console]: =\n",
      "R[write to console]: =\n",
      "R[write to console]: =\n",
      "R[write to console]: =\n",
      "R[write to console]: =\n",
      "R[write to console]: =\n",
      "R[write to console]: =\n",
      "R[write to console]: =\n",
      "R[write to console]: =\n",
      "R[write to console]: =\n",
      "R[write to console]: =\n",
      "R[write to console]: =\n",
      "R[write to console]: =\n",
      "R[write to console]: =\n",
      "R[write to console]: =\n",
      "R[write to console]: =\n",
      "R[write to console]: =\n",
      "R[write to console]: =\n",
      "R[write to console]: =\n",
      "R[write to console]: =\n",
      "R[write to console]: =\n",
      "R[write to console]: =\n",
      "R[write to console]: =\n",
      "R[write to console]: =\n",
      "R[write to console]: =\n",
      "R[write to console]: =\n",
      "R[write to console]: =\n",
      "R[write to console]: =\n",
      "R[write to console]: \n",
      "\n",
      "R[write to console]: downloaded 1.3 MB\n",
      "\n",
      "\n",
      "* installing *source* package ‘png’ ...\n",
      "** package ‘png’ successfully unpacked and MD5 sums checked\n",
      "** using staged installation\n",
      "** libs\n"
     ]
    },
    {
     "name": "stdout",
     "output_type": "stream",
     "text": [
      "x86_64-conda-linux-gnu-cc -I\"/home/wmayner/miniconda3/envs/openscope-differentiation-test3/lib/R/include\" -DNDEBUG   -DNDEBUG -D_FORTIFY_SOURCE=2 -O2 -isystem /home/wmayner/miniconda3/envs/openscope-differentiation-test3/include -I/home/wmayner/miniconda3/envs/openscope-differentiation-test3/include -Wl,-rpath-link,/home/wmayner/miniconda3/envs/openscope-differentiation-test3/lib  `libpng-config --cflags` -fpic  -march=nocona -mtune=haswell -ftree-vectorize -fPIC -fstack-protector-strong -fno-plt -O2 -ffunction-sections -pipe -isystem /home/wmayner/miniconda3/envs/openscope-differentiation-test3/include -fdebug-prefix-map=/home/conda/feedstock_root/build_artifacts/r-base_1621283253293/work=/usr/local/src/conda/r-base-3.6.3 -fdebug-prefix-map=/home/wmayner/miniconda3/envs/openscope-differentiation-test3=/usr/local/src/conda-prefix  -c read.c -o read.o\n",
      "x86_64-conda-linux-gnu-cc -I\"/home/wmayner/miniconda3/envs/openscope-differentiation-test3/lib/R/include\" -DNDEBUG   -DNDEBUG -D_FORTIFY_SOURCE=2 -O2 -isystem /home/wmayner/miniconda3/envs/openscope-differentiation-test3/include -I/home/wmayner/miniconda3/envs/openscope-differentiation-test3/include -Wl,-rpath-link,/home/wmayner/miniconda3/envs/openscope-differentiation-test3/lib  `libpng-config --cflags` -fpic  -march=nocona -mtune=haswell -ftree-vectorize -fPIC -fstack-protector-strong -fno-plt -O2 -ffunction-sections -pipe -isystem /home/wmayner/miniconda3/envs/openscope-differentiation-test3/include -fdebug-prefix-map=/home/conda/feedstock_root/build_artifacts/r-base_1621283253293/work=/usr/local/src/conda/r-base-3.6.3 -fdebug-prefix-map=/home/wmayner/miniconda3/envs/openscope-differentiation-test3=/usr/local/src/conda-prefix  -c write.c -o write.o\n",
      "x86_64-conda-linux-gnu-cc -shared -L/home/wmayner/miniconda3/envs/openscope-differentiation-test3/lib/R/lib -Wl,-O2 -Wl,--sort-common -Wl,--as-needed -Wl,-z,relro -Wl,-z,now -Wl,--disable-new-dtags -Wl,--gc-sections -Wl,-rpath,/home/wmayner/miniconda3/envs/openscope-differentiation-test3/lib -Wl,-rpath-link,/home/wmayner/miniconda3/envs/openscope-differentiation-test3/lib -L/home/wmayner/miniconda3/envs/openscope-differentiation-test3/lib -Wl,-rpath-link,/home/wmayner/miniconda3/envs/openscope-differentiation-test3/lib -o png.so read.o write.o -L/home/wmayner/miniconda3/envs/openscope-differentiation-test3/lib -lpng16 -lm -lz -lm -L/home/wmayner/miniconda3/envs/openscope-differentiation-test3/lib/R/lib -lR\n"
     ]
    },
    {
     "name": "stderr",
     "output_type": "stream",
     "text": [
      "installing to /home/wmayner/miniconda3/envs/openscope-differentiation-test3/lib/R/library/00LOCK-png/00new/png/libs\n",
      "** R\n",
      "** inst\n",
      "** byte-compile and prepare package for lazy loading\n",
      "** help\n",
      "*** installing help indices\n",
      "** building package indices\n",
      "** testing if installed package can be loaded from temporary location\n",
      "** checking absolute paths in shared objects and dynamic libraries\n",
      "** testing if installed package can be loaded from final location\n",
      "** testing if installed package keeps a record of temporary installation path\n",
      "* DONE (png)\n",
      "* installing *source* package ‘jpeg’ ...\n",
      "** package ‘jpeg’ successfully unpacked and MD5 sums checked\n",
      "** using staged installation\n",
      "** libs\n"
     ]
    },
    {
     "name": "stdout",
     "output_type": "stream",
     "text": [
      "x86_64-conda-linux-gnu-cc -I\"/home/wmayner/miniconda3/envs/openscope-differentiation-test3/lib/R/include\" -DNDEBUG   -DNDEBUG -D_FORTIFY_SOURCE=2 -O2 -isystem /home/wmayner/miniconda3/envs/openscope-differentiation-test3/include -I/home/wmayner/miniconda3/envs/openscope-differentiation-test3/include -Wl,-rpath-link,/home/wmayner/miniconda3/envs/openscope-differentiation-test3/lib  -fpic  -march=nocona -mtune=haswell -ftree-vectorize -fPIC -fstack-protector-strong -fno-plt -O2 -ffunction-sections -pipe -isystem /home/wmayner/miniconda3/envs/openscope-differentiation-test3/include -fdebug-prefix-map=/home/conda/feedstock_root/build_artifacts/r-base_1621283253293/work=/usr/local/src/conda/r-base-3.6.3 -fdebug-prefix-map=/home/wmayner/miniconda3/envs/openscope-differentiation-test3=/usr/local/src/conda-prefix  -c read.c -o read.o\n",
      "x86_64-conda-linux-gnu-cc -I\"/home/wmayner/miniconda3/envs/openscope-differentiation-test3/lib/R/include\" -DNDEBUG   -DNDEBUG -D_FORTIFY_SOURCE=2 -O2 -isystem /home/wmayner/miniconda3/envs/openscope-differentiation-test3/include -I/home/wmayner/miniconda3/envs/openscope-differentiation-test3/include -Wl,-rpath-link,/home/wmayner/miniconda3/envs/openscope-differentiation-test3/lib  -fpic  -march=nocona -mtune=haswell -ftree-vectorize -fPIC -fstack-protector-strong -fno-plt -O2 -ffunction-sections -pipe -isystem /home/wmayner/miniconda3/envs/openscope-differentiation-test3/include -fdebug-prefix-map=/home/conda/feedstock_root/build_artifacts/r-base_1621283253293/work=/usr/local/src/conda/r-base-3.6.3 -fdebug-prefix-map=/home/wmayner/miniconda3/envs/openscope-differentiation-test3=/usr/local/src/conda-prefix  -c reg.c -o reg.o\n",
      "x86_64-conda-linux-gnu-cc -I\"/home/wmayner/miniconda3/envs/openscope-differentiation-test3/lib/R/include\" -DNDEBUG   -DNDEBUG -D_FORTIFY_SOURCE=2 -O2 -isystem /home/wmayner/miniconda3/envs/openscope-differentiation-test3/include -I/home/wmayner/miniconda3/envs/openscope-differentiation-test3/include -Wl,-rpath-link,/home/wmayner/miniconda3/envs/openscope-differentiation-test3/lib  -fpic  -march=nocona -mtune=haswell -ftree-vectorize -fPIC -fstack-protector-strong -fno-plt -O2 -ffunction-sections -pipe -isystem /home/wmayner/miniconda3/envs/openscope-differentiation-test3/include -fdebug-prefix-map=/home/conda/feedstock_root/build_artifacts/r-base_1621283253293/work=/usr/local/src/conda/r-base-3.6.3 -fdebug-prefix-map=/home/wmayner/miniconda3/envs/openscope-differentiation-test3=/usr/local/src/conda-prefix  -c write.c -o write.o\n",
      "x86_64-conda-linux-gnu-cc -shared -L/home/wmayner/miniconda3/envs/openscope-differentiation-test3/lib/R/lib -Wl,-O2 -Wl,--sort-common -Wl,--as-needed -Wl,-z,relro -Wl,-z,now -Wl,--disable-new-dtags -Wl,--gc-sections -Wl,-rpath,/home/wmayner/miniconda3/envs/openscope-differentiation-test3/lib -Wl,-rpath-link,/home/wmayner/miniconda3/envs/openscope-differentiation-test3/lib -L/home/wmayner/miniconda3/envs/openscope-differentiation-test3/lib -Wl,-rpath-link,/home/wmayner/miniconda3/envs/openscope-differentiation-test3/lib -o jpeg.so read.o reg.o write.o -ljpeg -L/home/wmayner/miniconda3/envs/openscope-differentiation-test3/lib/R/lib -lR\n"
     ]
    },
    {
     "name": "stderr",
     "output_type": "stream",
     "text": [
      "installing to /home/wmayner/miniconda3/envs/openscope-differentiation-test3/lib/R/library/00LOCK-jpeg/00new/jpeg/libs\n",
      "** R\n",
      "** inst\n",
      "** byte-compile and prepare package for lazy loading\n",
      "** help\n",
      "*** installing help indices\n",
      "** building package indices\n",
      "** testing if installed package can be loaded from temporary location\n",
      "** checking absolute paths in shared objects and dynamic libraries\n",
      "** testing if installed package can be loaded from final location\n",
      "** testing if installed package keeps a record of temporary installation path\n",
      "* DONE (jpeg)\n",
      "* installing *source* package ‘checkmate’ ...\n",
      "** package ‘checkmate’ successfully unpacked and MD5 sums checked\n",
      "** using staged installation\n",
      "** libs\n"
     ]
    },
    {
     "name": "stdout",
     "output_type": "stream",
     "text": [
      "x86_64-conda-linux-gnu-cc -I\"/home/wmayner/miniconda3/envs/openscope-differentiation-test3/lib/R/include\" -DNDEBUG   -DNDEBUG -D_FORTIFY_SOURCE=2 -O2 -isystem /home/wmayner/miniconda3/envs/openscope-differentiation-test3/include -I/home/wmayner/miniconda3/envs/openscope-differentiation-test3/include -Wl,-rpath-link,/home/wmayner/miniconda3/envs/openscope-differentiation-test3/lib  -fpic  -march=nocona -mtune=haswell -ftree-vectorize -fPIC -fstack-protector-strong -fno-plt -O2 -ffunction-sections -pipe -isystem /home/wmayner/miniconda3/envs/openscope-differentiation-test3/include -fdebug-prefix-map=/home/conda/feedstock_root/build_artifacts/r-base_1621283253293/work=/usr/local/src/conda/r-base-3.6.3 -fdebug-prefix-map=/home/wmayner/miniconda3/envs/openscope-differentiation-test3=/usr/local/src/conda-prefix  -c all_missing.c -o all_missing.o\n",
      "x86_64-conda-linux-gnu-cc -I\"/home/wmayner/miniconda3/envs/openscope-differentiation-test3/lib/R/include\" -DNDEBUG   -DNDEBUG -D_FORTIFY_SOURCE=2 -O2 -isystem /home/wmayner/miniconda3/envs/openscope-differentiation-test3/include -I/home/wmayner/miniconda3/envs/openscope-differentiation-test3/include -Wl,-rpath-link,/home/wmayner/miniconda3/envs/openscope-differentiation-test3/lib  -fpic  -march=nocona -mtune=haswell -ftree-vectorize -fPIC -fstack-protector-strong -fno-plt -O2 -ffunction-sections -pipe -isystem /home/wmayner/miniconda3/envs/openscope-differentiation-test3/include -fdebug-prefix-map=/home/conda/feedstock_root/build_artifacts/r-base_1621283253293/work=/usr/local/src/conda/r-base-3.6.3 -fdebug-prefix-map=/home/wmayner/miniconda3/envs/openscope-differentiation-test3=/usr/local/src/conda-prefix  -c any_infinite.c -o any_infinite.o\n",
      "x86_64-conda-linux-gnu-cc -I\"/home/wmayner/miniconda3/envs/openscope-differentiation-test3/lib/R/include\" -DNDEBUG   -DNDEBUG -D_FORTIFY_SOURCE=2 -O2 -isystem /home/wmayner/miniconda3/envs/openscope-differentiation-test3/include -I/home/wmayner/miniconda3/envs/openscope-differentiation-test3/include -Wl,-rpath-link,/home/wmayner/miniconda3/envs/openscope-differentiation-test3/lib  -fpic  -march=nocona -mtune=haswell -ftree-vectorize -fPIC -fstack-protector-strong -fno-plt -O2 -ffunction-sections -pipe -isystem /home/wmayner/miniconda3/envs/openscope-differentiation-test3/include -fdebug-prefix-map=/home/conda/feedstock_root/build_artifacts/r-base_1621283253293/work=/usr/local/src/conda/r-base-3.6.3 -fdebug-prefix-map=/home/wmayner/miniconda3/envs/openscope-differentiation-test3=/usr/local/src/conda-prefix  -c any_missing.c -o any_missing.o\n",
      "x86_64-conda-linux-gnu-cc -I\"/home/wmayner/miniconda3/envs/openscope-differentiation-test3/lib/R/include\" -DNDEBUG   -DNDEBUG -D_FORTIFY_SOURCE=2 -O2 -isystem /home/wmayner/miniconda3/envs/openscope-differentiation-test3/include -I/home/wmayner/miniconda3/envs/openscope-differentiation-test3/include -Wl,-rpath-link,/home/wmayner/miniconda3/envs/openscope-differentiation-test3/lib  -fpic  -march=nocona -mtune=haswell -ftree-vectorize -fPIC -fstack-protector-strong -fno-plt -O2 -ffunction-sections -pipe -isystem /home/wmayner/miniconda3/envs/openscope-differentiation-test3/include -fdebug-prefix-map=/home/conda/feedstock_root/build_artifacts/r-base_1621283253293/work=/usr/local/src/conda/r-base-3.6.3 -fdebug-prefix-map=/home/wmayner/miniconda3/envs/openscope-differentiation-test3=/usr/local/src/conda-prefix  -c any_nan.c -o any_nan.o\n",
      "x86_64-conda-linux-gnu-cc -I\"/home/wmayner/miniconda3/envs/openscope-differentiation-test3/lib/R/include\" -DNDEBUG   -DNDEBUG -D_FORTIFY_SOURCE=2 -O2 -isystem /home/wmayner/miniconda3/envs/openscope-differentiation-test3/include -I/home/wmayner/miniconda3/envs/openscope-differentiation-test3/include -Wl,-rpath-link,/home/wmayner/miniconda3/envs/openscope-differentiation-test3/lib  -fpic  -march=nocona -mtune=haswell -ftree-vectorize -fPIC -fstack-protector-strong -fno-plt -O2 -ffunction-sections -pipe -isystem /home/wmayner/miniconda3/envs/openscope-differentiation-test3/include -fdebug-prefix-map=/home/conda/feedstock_root/build_artifacts/r-base_1621283253293/work=/usr/local/src/conda/r-base-3.6.3 -fdebug-prefix-map=/home/wmayner/miniconda3/envs/openscope-differentiation-test3=/usr/local/src/conda-prefix  -c checks.c -o checks.o\n",
      "x86_64-conda-linux-gnu-cc -I\"/home/wmayner/miniconda3/envs/openscope-differentiation-test3/lib/R/include\" -DNDEBUG   -DNDEBUG -D_FORTIFY_SOURCE=2 -O2 -isystem /home/wmayner/miniconda3/envs/openscope-differentiation-test3/include -I/home/wmayner/miniconda3/envs/openscope-differentiation-test3/include -Wl,-rpath-link,/home/wmayner/miniconda3/envs/openscope-differentiation-test3/lib  -fpic  -march=nocona -mtune=haswell -ftree-vectorize -fPIC -fstack-protector-strong -fno-plt -O2 -ffunction-sections -pipe -isystem /home/wmayner/miniconda3/envs/openscope-differentiation-test3/include -fdebug-prefix-map=/home/conda/feedstock_root/build_artifacts/r-base_1621283253293/work=/usr/local/src/conda/r-base-3.6.3 -fdebug-prefix-map=/home/wmayner/miniconda3/envs/openscope-differentiation-test3=/usr/local/src/conda-prefix  -c find_min_nchar.c -o find_min_nchar.o\n",
      "x86_64-conda-linux-gnu-cc -I\"/home/wmayner/miniconda3/envs/openscope-differentiation-test3/lib/R/include\" -DNDEBUG   -DNDEBUG -D_FORTIFY_SOURCE=2 -O2 -isystem /home/wmayner/miniconda3/envs/openscope-differentiation-test3/include -I/home/wmayner/miniconda3/envs/openscope-differentiation-test3/include -Wl,-rpath-link,/home/wmayner/miniconda3/envs/openscope-differentiation-test3/lib  -fpic  -march=nocona -mtune=haswell -ftree-vectorize -fPIC -fstack-protector-strong -fno-plt -O2 -ffunction-sections -pipe -isystem /home/wmayner/miniconda3/envs/openscope-differentiation-test3/include -fdebug-prefix-map=/home/conda/feedstock_root/build_artifacts/r-base_1621283253293/work=/usr/local/src/conda/r-base-3.6.3 -fdebug-prefix-map=/home/wmayner/miniconda3/envs/openscope-differentiation-test3=/usr/local/src/conda-prefix  -c guess_type.c -o guess_type.o\n",
      "x86_64-conda-linux-gnu-cc -I\"/home/wmayner/miniconda3/envs/openscope-differentiation-test3/lib/R/include\" -DNDEBUG   -DNDEBUG -D_FORTIFY_SOURCE=2 -O2 -isystem /home/wmayner/miniconda3/envs/openscope-differentiation-test3/include -I/home/wmayner/miniconda3/envs/openscope-differentiation-test3/include -Wl,-rpath-link,/home/wmayner/miniconda3/envs/openscope-differentiation-test3/lib  -fpic  -march=nocona -mtune=haswell -ftree-vectorize -fPIC -fstack-protector-strong -fno-plt -O2 -ffunction-sections -pipe -isystem /home/wmayner/miniconda3/envs/openscope-differentiation-test3/include -fdebug-prefix-map=/home/conda/feedstock_root/build_artifacts/r-base_1621283253293/work=/usr/local/src/conda/r-base-3.6.3 -fdebug-prefix-map=/home/wmayner/miniconda3/envs/openscope-differentiation-test3=/usr/local/src/conda-prefix  -c helper.c -o helper.o\n",
      "x86_64-conda-linux-gnu-cc -I\"/home/wmayner/miniconda3/envs/openscope-differentiation-test3/lib/R/include\" -DNDEBUG   -DNDEBUG -D_FORTIFY_SOURCE=2 -O2 -isystem /home/wmayner/miniconda3/envs/openscope-differentiation-test3/include -I/home/wmayner/miniconda3/envs/openscope-differentiation-test3/include -Wl,-rpath-link,/home/wmayner/miniconda3/envs/openscope-differentiation-test3/lib  -fpic  -march=nocona -mtune=haswell -ftree-vectorize -fPIC -fstack-protector-strong -fno-plt -O2 -ffunction-sections -pipe -isystem /home/wmayner/miniconda3/envs/openscope-differentiation-test3/include -fdebug-prefix-map=/home/conda/feedstock_root/build_artifacts/r-base_1621283253293/work=/usr/local/src/conda/r-base-3.6.3 -fdebug-prefix-map=/home/wmayner/miniconda3/envs/openscope-differentiation-test3=/usr/local/src/conda-prefix  -c init.c -o init.o\n",
      "x86_64-conda-linux-gnu-cc -I\"/home/wmayner/miniconda3/envs/openscope-differentiation-test3/lib/R/include\" -DNDEBUG   -DNDEBUG -D_FORTIFY_SOURCE=2 -O2 -isystem /home/wmayner/miniconda3/envs/openscope-differentiation-test3/include -I/home/wmayner/miniconda3/envs/openscope-differentiation-test3/include -Wl,-rpath-link,/home/wmayner/miniconda3/envs/openscope-differentiation-test3/lib  -fpic  -march=nocona -mtune=haswell -ftree-vectorize -fPIC -fstack-protector-strong -fno-plt -O2 -ffunction-sections -pipe -isystem /home/wmayner/miniconda3/envs/openscope-differentiation-test3/include -fdebug-prefix-map=/home/conda/feedstock_root/build_artifacts/r-base_1621283253293/work=/usr/local/src/conda/r-base-3.6.3 -fdebug-prefix-map=/home/wmayner/miniconda3/envs/openscope-differentiation-test3=/usr/local/src/conda-prefix  -c integerish.c -o integerish.o\n",
      "x86_64-conda-linux-gnu-cc -I\"/home/wmayner/miniconda3/envs/openscope-differentiation-test3/lib/R/include\" -DNDEBUG   -DNDEBUG -D_FORTIFY_SOURCE=2 -O2 -isystem /home/wmayner/miniconda3/envs/openscope-differentiation-test3/include -I/home/wmayner/miniconda3/envs/openscope-differentiation-test3/include -Wl,-rpath-link,/home/wmayner/miniconda3/envs/openscope-differentiation-test3/lib  -fpic  -march=nocona -mtune=haswell -ftree-vectorize -fPIC -fstack-protector-strong -fno-plt -O2 -ffunction-sections -pipe -isystem /home/wmayner/miniconda3/envs/openscope-differentiation-test3/include -fdebug-prefix-map=/home/conda/feedstock_root/build_artifacts/r-base_1621283253293/work=/usr/local/src/conda/r-base-3.6.3 -fdebug-prefix-map=/home/wmayner/miniconda3/envs/openscope-differentiation-test3=/usr/local/src/conda-prefix  -c is_sorted.c -o is_sorted.o\n",
      "x86_64-conda-linux-gnu-cc -I\"/home/wmayner/miniconda3/envs/openscope-differentiation-test3/lib/R/include\" -DNDEBUG   -DNDEBUG -D_FORTIFY_SOURCE=2 -O2 -isystem /home/wmayner/miniconda3/envs/openscope-differentiation-test3/include -I/home/wmayner/miniconda3/envs/openscope-differentiation-test3/include -Wl,-rpath-link,/home/wmayner/miniconda3/envs/openscope-differentiation-test3/lib  -fpic  -march=nocona -mtune=haswell -ftree-vectorize -fPIC -fstack-protector-strong -fno-plt -O2 -ffunction-sections -pipe -isystem /home/wmayner/miniconda3/envs/openscope-differentiation-test3/include -fdebug-prefix-map=/home/conda/feedstock_root/build_artifacts/r-base_1621283253293/work=/usr/local/src/conda/r-base-3.6.3 -fdebug-prefix-map=/home/wmayner/miniconda3/envs/openscope-differentiation-test3=/usr/local/src/conda-prefix  -c qassert.c -o qassert.o\n",
      "x86_64-conda-linux-gnu-cc -I\"/home/wmayner/miniconda3/envs/openscope-differentiation-test3/lib/R/include\" -DNDEBUG   -DNDEBUG -D_FORTIFY_SOURCE=2 -O2 -isystem /home/wmayner/miniconda3/envs/openscope-differentiation-test3/include -I/home/wmayner/miniconda3/envs/openscope-differentiation-test3/include -Wl,-rpath-link,/home/wmayner/miniconda3/envs/openscope-differentiation-test3/lib  -fpic  -march=nocona -mtune=haswell -ftree-vectorize -fPIC -fstack-protector-strong -fno-plt -O2 -ffunction-sections -pipe -isystem /home/wmayner/miniconda3/envs/openscope-differentiation-test3/include -fdebug-prefix-map=/home/conda/feedstock_root/build_artifacts/r-base_1621283253293/work=/usr/local/src/conda/r-base-3.6.3 -fdebug-prefix-map=/home/wmayner/miniconda3/envs/openscope-differentiation-test3=/usr/local/src/conda-prefix  -c which_first.c -o which_first.o\n",
      "x86_64-conda-linux-gnu-cc -shared -L/home/wmayner/miniconda3/envs/openscope-differentiation-test3/lib/R/lib -Wl,-O2 -Wl,--sort-common -Wl,--as-needed -Wl,-z,relro -Wl,-z,now -Wl,--disable-new-dtags -Wl,--gc-sections -Wl,-rpath,/home/wmayner/miniconda3/envs/openscope-differentiation-test3/lib -Wl,-rpath-link,/home/wmayner/miniconda3/envs/openscope-differentiation-test3/lib -L/home/wmayner/miniconda3/envs/openscope-differentiation-test3/lib -Wl,-rpath-link,/home/wmayner/miniconda3/envs/openscope-differentiation-test3/lib -o checkmate.so all_missing.o any_infinite.o any_missing.o any_nan.o checks.o find_min_nchar.o guess_type.o helper.o init.o integerish.o is_sorted.o qassert.o which_first.o -L/home/wmayner/miniconda3/envs/openscope-differentiation-test3/lib/R/lib -lR\n"
     ]
    },
    {
     "name": "stderr",
     "output_type": "stream",
     "text": [
      "installing to /home/wmayner/miniconda3/envs/openscope-differentiation-test3/lib/R/library/00LOCK-checkmate/00new/checkmate/libs\n",
      "** R\n",
      "** inst\n",
      "** byte-compile and prepare package for lazy loading\n",
      "** help\n",
      "*** installing help indices\n",
      "** building package indices\n",
      "** installing vignettes\n",
      "** testing if installed package can be loaded from temporary location\n",
      "** checking absolute paths in shared objects and dynamic libraries\n",
      "** testing if installed package can be loaded from final location\n",
      "** testing if installed package keeps a record of temporary installation path\n",
      "* DONE (checkmate)\n",
      "* installing *source* package ‘htmlwidgets’ ...\n",
      "** package ‘htmlwidgets’ successfully unpacked and MD5 sums checked\n",
      "** using staged installation\n",
      "** R\n",
      "** inst\n",
      "** byte-compile and prepare package for lazy loading\n"
     ]
    },
    {
     "name": "stdout",
     "output_type": "stream",
     "text": [
      "Failed with error:  ‘there is no package called ‘shiny’’\n"
     ]
    },
    {
     "name": "stderr",
     "output_type": "stream",
     "text": [
      "** help\n",
      "*** installing help indices\n",
      "** building package indices\n",
      "** installing vignettes\n",
      "** testing if installed package can be loaded from temporary location\n",
      "** testing if installed package can be loaded from final location\n",
      "** testing if installed package keeps a record of temporary installation path\n",
      "* DONE (htmlwidgets)\n",
      "* installing *source* package ‘Formula’ ...\n",
      "** package ‘Formula’ successfully unpacked and MD5 sums checked\n",
      "** using staged installation\n",
      "** R\n",
      "** inst\n",
      "** byte-compile and prepare package for lazy loading\n",
      "** help\n",
      "*** installing help indices\n",
      "** building package indices\n",
      "** installing vignettes\n",
      "** testing if installed package can be loaded from temporary location\n",
      "** testing if installed package can be loaded from final location\n",
      "** testing if installed package keeps a record of temporary installation path\n",
      "* DONE (Formula)\n",
      "* installing *source* package ‘gridExtra’ ...\n",
      "** package ‘gridExtra’ successfully unpacked and MD5 sums checked\n",
      "** using staged installation\n",
      "** R\n",
      "** inst\n",
      "** byte-compile and prepare package for lazy loading\n",
      "** help\n",
      "*** installing help indices\n",
      "** building package indices\n",
      "** installing vignettes\n",
      "** testing if installed package can be loaded from temporary location\n",
      "** testing if installed package can be loaded from final location\n",
      "** testing if installed package keeps a record of temporary installation path\n",
      "* DONE (gridExtra)\n",
      "* installing *source* package ‘data.table’ ...\n",
      "** package ‘data.table’ successfully unpacked and MD5 sums checked\n",
      "** using staged installation\n"
     ]
    },
    {
     "name": "stdout",
     "output_type": "stream",
     "text": [
      "zlib 1.2.11 is available ok\n",
      "R CMD SHLIB supports OpenMP without any extra hint\n",
      "x86_64-conda-linux-gnu-cc -I\"/home/wmayner/miniconda3/envs/openscope-differentiation-test3/lib/R/include\" -DNDEBUG   -DNDEBUG -D_FORTIFY_SOURCE=2 -O2 -isystem /home/wmayner/miniconda3/envs/openscope-differentiation-test3/include -I/home/wmayner/miniconda3/envs/openscope-differentiation-test3/include -Wl,-rpath-link,/home/wmayner/miniconda3/envs/openscope-differentiation-test3/lib -fopenmp  -fpic  -march=nocona -mtune=haswell -ftree-vectorize -fPIC -fstack-protector-strong -fno-plt -O2 -ffunction-sections -pipe -isystem /home/wmayner/miniconda3/envs/openscope-differentiation-test3/include -fdebug-prefix-map=/home/conda/feedstock_root/build_artifacts/r-base_1621283253293/work=/usr/local/src/conda/r-base-3.6.3 -fdebug-prefix-map=/home/wmayner/miniconda3/envs/openscope-differentiation-test3=/usr/local/src/conda-prefix  -c assign.c -o assign.o\n"
     ]
    },
    {
     "name": "stderr",
     "output_type": "stream",
     "text": [
      "** libs\n"
     ]
    },
    {
     "name": "stdout",
     "output_type": "stream",
     "text": [
      "x86_64-conda-linux-gnu-cc -I\"/home/wmayner/miniconda3/envs/openscope-differentiation-test3/lib/R/include\" -DNDEBUG   -DNDEBUG -D_FORTIFY_SOURCE=2 -O2 -isystem /home/wmayner/miniconda3/envs/openscope-differentiation-test3/include -I/home/wmayner/miniconda3/envs/openscope-differentiation-test3/include -Wl,-rpath-link,/home/wmayner/miniconda3/envs/openscope-differentiation-test3/lib -fopenmp  -fpic  -march=nocona -mtune=haswell -ftree-vectorize -fPIC -fstack-protector-strong -fno-plt -O2 -ffunction-sections -pipe -isystem /home/wmayner/miniconda3/envs/openscope-differentiation-test3/include -fdebug-prefix-map=/home/conda/feedstock_root/build_artifacts/r-base_1621283253293/work=/usr/local/src/conda/r-base-3.6.3 -fdebug-prefix-map=/home/wmayner/miniconda3/envs/openscope-differentiation-test3=/usr/local/src/conda-prefix  -c between.c -o between.o\n",
      "x86_64-conda-linux-gnu-cc -I\"/home/wmayner/miniconda3/envs/openscope-differentiation-test3/lib/R/include\" -DNDEBUG   -DNDEBUG -D_FORTIFY_SOURCE=2 -O2 -isystem /home/wmayner/miniconda3/envs/openscope-differentiation-test3/include -I/home/wmayner/miniconda3/envs/openscope-differentiation-test3/include -Wl,-rpath-link,/home/wmayner/miniconda3/envs/openscope-differentiation-test3/lib -fopenmp  -fpic  -march=nocona -mtune=haswell -ftree-vectorize -fPIC -fstack-protector-strong -fno-plt -O2 -ffunction-sections -pipe -isystem /home/wmayner/miniconda3/envs/openscope-differentiation-test3/include -fdebug-prefix-map=/home/conda/feedstock_root/build_artifacts/r-base_1621283253293/work=/usr/local/src/conda/r-base-3.6.3 -fdebug-prefix-map=/home/wmayner/miniconda3/envs/openscope-differentiation-test3=/usr/local/src/conda-prefix  -c bmerge.c -o bmerge.o\n",
      "x86_64-conda-linux-gnu-cc -I\"/home/wmayner/miniconda3/envs/openscope-differentiation-test3/lib/R/include\" -DNDEBUG   -DNDEBUG -D_FORTIFY_SOURCE=2 -O2 -isystem /home/wmayner/miniconda3/envs/openscope-differentiation-test3/include -I/home/wmayner/miniconda3/envs/openscope-differentiation-test3/include -Wl,-rpath-link,/home/wmayner/miniconda3/envs/openscope-differentiation-test3/lib -fopenmp  -fpic  -march=nocona -mtune=haswell -ftree-vectorize -fPIC -fstack-protector-strong -fno-plt -O2 -ffunction-sections -pipe -isystem /home/wmayner/miniconda3/envs/openscope-differentiation-test3/include -fdebug-prefix-map=/home/conda/feedstock_root/build_artifacts/r-base_1621283253293/work=/usr/local/src/conda/r-base-3.6.3 -fdebug-prefix-map=/home/wmayner/miniconda3/envs/openscope-differentiation-test3=/usr/local/src/conda-prefix  -c chmatch.c -o chmatch.o\n",
      "x86_64-conda-linux-gnu-cc -I\"/home/wmayner/miniconda3/envs/openscope-differentiation-test3/lib/R/include\" -DNDEBUG   -DNDEBUG -D_FORTIFY_SOURCE=2 -O2 -isystem /home/wmayner/miniconda3/envs/openscope-differentiation-test3/include -I/home/wmayner/miniconda3/envs/openscope-differentiation-test3/include -Wl,-rpath-link,/home/wmayner/miniconda3/envs/openscope-differentiation-test3/lib -fopenmp  -fpic  -march=nocona -mtune=haswell -ftree-vectorize -fPIC -fstack-protector-strong -fno-plt -O2 -ffunction-sections -pipe -isystem /home/wmayner/miniconda3/envs/openscope-differentiation-test3/include -fdebug-prefix-map=/home/conda/feedstock_root/build_artifacts/r-base_1621283253293/work=/usr/local/src/conda/r-base-3.6.3 -fdebug-prefix-map=/home/wmayner/miniconda3/envs/openscope-differentiation-test3=/usr/local/src/conda-prefix  -c cj.c -o cj.o\n",
      "x86_64-conda-linux-gnu-cc -I\"/home/wmayner/miniconda3/envs/openscope-differentiation-test3/lib/R/include\" -DNDEBUG   -DNDEBUG -D_FORTIFY_SOURCE=2 -O2 -isystem /home/wmayner/miniconda3/envs/openscope-differentiation-test3/include -I/home/wmayner/miniconda3/envs/openscope-differentiation-test3/include -Wl,-rpath-link,/home/wmayner/miniconda3/envs/openscope-differentiation-test3/lib -fopenmp  -fpic  -march=nocona -mtune=haswell -ftree-vectorize -fPIC -fstack-protector-strong -fno-plt -O2 -ffunction-sections -pipe -isystem /home/wmayner/miniconda3/envs/openscope-differentiation-test3/include -fdebug-prefix-map=/home/conda/feedstock_root/build_artifacts/r-base_1621283253293/work=/usr/local/src/conda/r-base-3.6.3 -fdebug-prefix-map=/home/wmayner/miniconda3/envs/openscope-differentiation-test3=/usr/local/src/conda-prefix  -c coalesce.c -o coalesce.o\n",
      "x86_64-conda-linux-gnu-cc -I\"/home/wmayner/miniconda3/envs/openscope-differentiation-test3/lib/R/include\" -DNDEBUG   -DNDEBUG -D_FORTIFY_SOURCE=2 -O2 -isystem /home/wmayner/miniconda3/envs/openscope-differentiation-test3/include -I/home/wmayner/miniconda3/envs/openscope-differentiation-test3/include -Wl,-rpath-link,/home/wmayner/miniconda3/envs/openscope-differentiation-test3/lib -fopenmp  -fpic  -march=nocona -mtune=haswell -ftree-vectorize -fPIC -fstack-protector-strong -fno-plt -O2 -ffunction-sections -pipe -isystem /home/wmayner/miniconda3/envs/openscope-differentiation-test3/include -fdebug-prefix-map=/home/conda/feedstock_root/build_artifacts/r-base_1621283253293/work=/usr/local/src/conda/r-base-3.6.3 -fdebug-prefix-map=/home/wmayner/miniconda3/envs/openscope-differentiation-test3=/usr/local/src/conda-prefix  -c dogroups.c -o dogroups.o\n",
      "x86_64-conda-linux-gnu-cc -I\"/home/wmayner/miniconda3/envs/openscope-differentiation-test3/lib/R/include\" -DNDEBUG   -DNDEBUG -D_FORTIFY_SOURCE=2 -O2 -isystem /home/wmayner/miniconda3/envs/openscope-differentiation-test3/include -I/home/wmayner/miniconda3/envs/openscope-differentiation-test3/include -Wl,-rpath-link,/home/wmayner/miniconda3/envs/openscope-differentiation-test3/lib -fopenmp  -fpic  -march=nocona -mtune=haswell -ftree-vectorize -fPIC -fstack-protector-strong -fno-plt -O2 -ffunction-sections -pipe -isystem /home/wmayner/miniconda3/envs/openscope-differentiation-test3/include -fdebug-prefix-map=/home/conda/feedstock_root/build_artifacts/r-base_1621283253293/work=/usr/local/src/conda/r-base-3.6.3 -fdebug-prefix-map=/home/wmayner/miniconda3/envs/openscope-differentiation-test3=/usr/local/src/conda-prefix  -c fastmean.c -o fastmean.o\n",
      "x86_64-conda-linux-gnu-cc -I\"/home/wmayner/miniconda3/envs/openscope-differentiation-test3/lib/R/include\" -DNDEBUG   -DNDEBUG -D_FORTIFY_SOURCE=2 -O2 -isystem /home/wmayner/miniconda3/envs/openscope-differentiation-test3/include -I/home/wmayner/miniconda3/envs/openscope-differentiation-test3/include -Wl,-rpath-link,/home/wmayner/miniconda3/envs/openscope-differentiation-test3/lib -fopenmp  -fpic  -march=nocona -mtune=haswell -ftree-vectorize -fPIC -fstack-protector-strong -fno-plt -O2 -ffunction-sections -pipe -isystem /home/wmayner/miniconda3/envs/openscope-differentiation-test3/include -fdebug-prefix-map=/home/conda/feedstock_root/build_artifacts/r-base_1621283253293/work=/usr/local/src/conda/r-base-3.6.3 -fdebug-prefix-map=/home/wmayner/miniconda3/envs/openscope-differentiation-test3=/usr/local/src/conda-prefix  -c fcast.c -o fcast.o\n",
      "x86_64-conda-linux-gnu-cc -I\"/home/wmayner/miniconda3/envs/openscope-differentiation-test3/lib/R/include\" -DNDEBUG   -DNDEBUG -D_FORTIFY_SOURCE=2 -O2 -isystem /home/wmayner/miniconda3/envs/openscope-differentiation-test3/include -I/home/wmayner/miniconda3/envs/openscope-differentiation-test3/include -Wl,-rpath-link,/home/wmayner/miniconda3/envs/openscope-differentiation-test3/lib -fopenmp  -fpic  -march=nocona -mtune=haswell -ftree-vectorize -fPIC -fstack-protector-strong -fno-plt -O2 -ffunction-sections -pipe -isystem /home/wmayner/miniconda3/envs/openscope-differentiation-test3/include -fdebug-prefix-map=/home/conda/feedstock_root/build_artifacts/r-base_1621283253293/work=/usr/local/src/conda/r-base-3.6.3 -fdebug-prefix-map=/home/wmayner/miniconda3/envs/openscope-differentiation-test3=/usr/local/src/conda-prefix  -c fifelse.c -o fifelse.o\n",
      "x86_64-conda-linux-gnu-cc -I\"/home/wmayner/miniconda3/envs/openscope-differentiation-test3/lib/R/include\" -DNDEBUG   -DNDEBUG -D_FORTIFY_SOURCE=2 -O2 -isystem /home/wmayner/miniconda3/envs/openscope-differentiation-test3/include -I/home/wmayner/miniconda3/envs/openscope-differentiation-test3/include -Wl,-rpath-link,/home/wmayner/miniconda3/envs/openscope-differentiation-test3/lib -fopenmp  -fpic  -march=nocona -mtune=haswell -ftree-vectorize -fPIC -fstack-protector-strong -fno-plt -O2 -ffunction-sections -pipe -isystem /home/wmayner/miniconda3/envs/openscope-differentiation-test3/include -fdebug-prefix-map=/home/conda/feedstock_root/build_artifacts/r-base_1621283253293/work=/usr/local/src/conda/r-base-3.6.3 -fdebug-prefix-map=/home/wmayner/miniconda3/envs/openscope-differentiation-test3=/usr/local/src/conda-prefix  -c fmelt.c -o fmelt.o\n",
      "x86_64-conda-linux-gnu-cc -I\"/home/wmayner/miniconda3/envs/openscope-differentiation-test3/lib/R/include\" -DNDEBUG   -DNDEBUG -D_FORTIFY_SOURCE=2 -O2 -isystem /home/wmayner/miniconda3/envs/openscope-differentiation-test3/include -I/home/wmayner/miniconda3/envs/openscope-differentiation-test3/include -Wl,-rpath-link,/home/wmayner/miniconda3/envs/openscope-differentiation-test3/lib -fopenmp  -fpic  -march=nocona -mtune=haswell -ftree-vectorize -fPIC -fstack-protector-strong -fno-plt -O2 -ffunction-sections -pipe -isystem /home/wmayner/miniconda3/envs/openscope-differentiation-test3/include -fdebug-prefix-map=/home/conda/feedstock_root/build_artifacts/r-base_1621283253293/work=/usr/local/src/conda/r-base-3.6.3 -fdebug-prefix-map=/home/wmayner/miniconda3/envs/openscope-differentiation-test3=/usr/local/src/conda-prefix  -c forder.c -o forder.o\n",
      "x86_64-conda-linux-gnu-cc -I\"/home/wmayner/miniconda3/envs/openscope-differentiation-test3/lib/R/include\" -DNDEBUG   -DNDEBUG -D_FORTIFY_SOURCE=2 -O2 -isystem /home/wmayner/miniconda3/envs/openscope-differentiation-test3/include -I/home/wmayner/miniconda3/envs/openscope-differentiation-test3/include -Wl,-rpath-link,/home/wmayner/miniconda3/envs/openscope-differentiation-test3/lib -fopenmp  -fpic  -march=nocona -mtune=haswell -ftree-vectorize -fPIC -fstack-protector-strong -fno-plt -O2 -ffunction-sections -pipe -isystem /home/wmayner/miniconda3/envs/openscope-differentiation-test3/include -fdebug-prefix-map=/home/conda/feedstock_root/build_artifacts/r-base_1621283253293/work=/usr/local/src/conda/r-base-3.6.3 -fdebug-prefix-map=/home/wmayner/miniconda3/envs/openscope-differentiation-test3=/usr/local/src/conda-prefix  -c frank.c -o frank.o\n",
      "x86_64-conda-linux-gnu-cc -I\"/home/wmayner/miniconda3/envs/openscope-differentiation-test3/lib/R/include\" -DNDEBUG   -DNDEBUG -D_FORTIFY_SOURCE=2 -O2 -isystem /home/wmayner/miniconda3/envs/openscope-differentiation-test3/include -I/home/wmayner/miniconda3/envs/openscope-differentiation-test3/include -Wl,-rpath-link,/home/wmayner/miniconda3/envs/openscope-differentiation-test3/lib -fopenmp  -fpic  -march=nocona -mtune=haswell -ftree-vectorize -fPIC -fstack-protector-strong -fno-plt -O2 -ffunction-sections -pipe -isystem /home/wmayner/miniconda3/envs/openscope-differentiation-test3/include -fdebug-prefix-map=/home/conda/feedstock_root/build_artifacts/r-base_1621283253293/work=/usr/local/src/conda/r-base-3.6.3 -fdebug-prefix-map=/home/wmayner/miniconda3/envs/openscope-differentiation-test3=/usr/local/src/conda-prefix  -c fread.c -o fread.o\n"
     ]
    },
    {
     "name": "stderr",
     "output_type": "stream",
     "text": [
      "fread.c: In function 'freadMain':\n",
      "fread.c:1293:11: warning: ignoring return value of 'strtod', declared with attribute warn_unused_result [-Wunused-result]\n",
      " 1293 |     (void)strtod(ch, &end);  // careful not to let \"\" get to here (see continue above) as strtod considers \"\" numeric\n",
      "      |           ^~~~~~~~~~~~~~~~\n"
     ]
    },
    {
     "name": "stdout",
     "output_type": "stream",
     "text": [
      "x86_64-conda-linux-gnu-cc -I\"/home/wmayner/miniconda3/envs/openscope-differentiation-test3/lib/R/include\" -DNDEBUG   -DNDEBUG -D_FORTIFY_SOURCE=2 -O2 -isystem /home/wmayner/miniconda3/envs/openscope-differentiation-test3/include -I/home/wmayner/miniconda3/envs/openscope-differentiation-test3/include -Wl,-rpath-link,/home/wmayner/miniconda3/envs/openscope-differentiation-test3/lib -fopenmp  -fpic  -march=nocona -mtune=haswell -ftree-vectorize -fPIC -fstack-protector-strong -fno-plt -O2 -ffunction-sections -pipe -isystem /home/wmayner/miniconda3/envs/openscope-differentiation-test3/include -fdebug-prefix-map=/home/conda/feedstock_root/build_artifacts/r-base_1621283253293/work=/usr/local/src/conda/r-base-3.6.3 -fdebug-prefix-map=/home/wmayner/miniconda3/envs/openscope-differentiation-test3=/usr/local/src/conda-prefix  -c freadR.c -o freadR.o\n",
      "x86_64-conda-linux-gnu-cc -I\"/home/wmayner/miniconda3/envs/openscope-differentiation-test3/lib/R/include\" -DNDEBUG   -DNDEBUG -D_FORTIFY_SOURCE=2 -O2 -isystem /home/wmayner/miniconda3/envs/openscope-differentiation-test3/include -I/home/wmayner/miniconda3/envs/openscope-differentiation-test3/include -Wl,-rpath-link,/home/wmayner/miniconda3/envs/openscope-differentiation-test3/lib -fopenmp  -fpic  -march=nocona -mtune=haswell -ftree-vectorize -fPIC -fstack-protector-strong -fno-plt -O2 -ffunction-sections -pipe -isystem /home/wmayner/miniconda3/envs/openscope-differentiation-test3/include -fdebug-prefix-map=/home/conda/feedstock_root/build_artifacts/r-base_1621283253293/work=/usr/local/src/conda/r-base-3.6.3 -fdebug-prefix-map=/home/wmayner/miniconda3/envs/openscope-differentiation-test3=/usr/local/src/conda-prefix  -c froll.c -o froll.o\n",
      "x86_64-conda-linux-gnu-cc -I\"/home/wmayner/miniconda3/envs/openscope-differentiation-test3/lib/R/include\" -DNDEBUG   -DNDEBUG -D_FORTIFY_SOURCE=2 -O2 -isystem /home/wmayner/miniconda3/envs/openscope-differentiation-test3/include -I/home/wmayner/miniconda3/envs/openscope-differentiation-test3/include -Wl,-rpath-link,/home/wmayner/miniconda3/envs/openscope-differentiation-test3/lib -fopenmp  -fpic  -march=nocona -mtune=haswell -ftree-vectorize -fPIC -fstack-protector-strong -fno-plt -O2 -ffunction-sections -pipe -isystem /home/wmayner/miniconda3/envs/openscope-differentiation-test3/include -fdebug-prefix-map=/home/conda/feedstock_root/build_artifacts/r-base_1621283253293/work=/usr/local/src/conda/r-base-3.6.3 -fdebug-prefix-map=/home/wmayner/miniconda3/envs/openscope-differentiation-test3=/usr/local/src/conda-prefix  -c frollR.c -o frollR.o\n",
      "x86_64-conda-linux-gnu-cc -I\"/home/wmayner/miniconda3/envs/openscope-differentiation-test3/lib/R/include\" -DNDEBUG   -DNDEBUG -D_FORTIFY_SOURCE=2 -O2 -isystem /home/wmayner/miniconda3/envs/openscope-differentiation-test3/include -I/home/wmayner/miniconda3/envs/openscope-differentiation-test3/include -Wl,-rpath-link,/home/wmayner/miniconda3/envs/openscope-differentiation-test3/lib -fopenmp  -fpic  -march=nocona -mtune=haswell -ftree-vectorize -fPIC -fstack-protector-strong -fno-plt -O2 -ffunction-sections -pipe -isystem /home/wmayner/miniconda3/envs/openscope-differentiation-test3/include -fdebug-prefix-map=/home/conda/feedstock_root/build_artifacts/r-base_1621283253293/work=/usr/local/src/conda/r-base-3.6.3 -fdebug-prefix-map=/home/wmayner/miniconda3/envs/openscope-differentiation-test3=/usr/local/src/conda-prefix  -c frolladaptive.c -o frolladaptive.o\n",
      "x86_64-conda-linux-gnu-cc -I\"/home/wmayner/miniconda3/envs/openscope-differentiation-test3/lib/R/include\" -DNDEBUG   -DNDEBUG -D_FORTIFY_SOURCE=2 -O2 -isystem /home/wmayner/miniconda3/envs/openscope-differentiation-test3/include -I/home/wmayner/miniconda3/envs/openscope-differentiation-test3/include -Wl,-rpath-link,/home/wmayner/miniconda3/envs/openscope-differentiation-test3/lib -fopenmp  -fpic  -march=nocona -mtune=haswell -ftree-vectorize -fPIC -fstack-protector-strong -fno-plt -O2 -ffunction-sections -pipe -isystem /home/wmayner/miniconda3/envs/openscope-differentiation-test3/include -fdebug-prefix-map=/home/conda/feedstock_root/build_artifacts/r-base_1621283253293/work=/usr/local/src/conda/r-base-3.6.3 -fdebug-prefix-map=/home/wmayner/miniconda3/envs/openscope-differentiation-test3=/usr/local/src/conda-prefix  -c fsort.c -o fsort.o\n",
      "x86_64-conda-linux-gnu-cc -I\"/home/wmayner/miniconda3/envs/openscope-differentiation-test3/lib/R/include\" -DNDEBUG   -DNDEBUG -D_FORTIFY_SOURCE=2 -O2 -isystem /home/wmayner/miniconda3/envs/openscope-differentiation-test3/include -I/home/wmayner/miniconda3/envs/openscope-differentiation-test3/include -Wl,-rpath-link,/home/wmayner/miniconda3/envs/openscope-differentiation-test3/lib -fopenmp  -fpic  -march=nocona -mtune=haswell -ftree-vectorize -fPIC -fstack-protector-strong -fno-plt -O2 -ffunction-sections -pipe -isystem /home/wmayner/miniconda3/envs/openscope-differentiation-test3/include -fdebug-prefix-map=/home/conda/feedstock_root/build_artifacts/r-base_1621283253293/work=/usr/local/src/conda/r-base-3.6.3 -fdebug-prefix-map=/home/wmayner/miniconda3/envs/openscope-differentiation-test3=/usr/local/src/conda-prefix  -c fwrite.c -o fwrite.o\n",
      "x86_64-conda-linux-gnu-cc -I\"/home/wmayner/miniconda3/envs/openscope-differentiation-test3/lib/R/include\" -DNDEBUG   -DNDEBUG -D_FORTIFY_SOURCE=2 -O2 -isystem /home/wmayner/miniconda3/envs/openscope-differentiation-test3/include -I/home/wmayner/miniconda3/envs/openscope-differentiation-test3/include -Wl,-rpath-link,/home/wmayner/miniconda3/envs/openscope-differentiation-test3/lib -fopenmp  -fpic  -march=nocona -mtune=haswell -ftree-vectorize -fPIC -fstack-protector-strong -fno-plt -O2 -ffunction-sections -pipe -isystem /home/wmayner/miniconda3/envs/openscope-differentiation-test3/include -fdebug-prefix-map=/home/conda/feedstock_root/build_artifacts/r-base_1621283253293/work=/usr/local/src/conda/r-base-3.6.3 -fdebug-prefix-map=/home/wmayner/miniconda3/envs/openscope-differentiation-test3=/usr/local/src/conda-prefix  -c fwriteR.c -o fwriteR.o\n",
      "x86_64-conda-linux-gnu-cc -I\"/home/wmayner/miniconda3/envs/openscope-differentiation-test3/lib/R/include\" -DNDEBUG   -DNDEBUG -D_FORTIFY_SOURCE=2 -O2 -isystem /home/wmayner/miniconda3/envs/openscope-differentiation-test3/include -I/home/wmayner/miniconda3/envs/openscope-differentiation-test3/include -Wl,-rpath-link,/home/wmayner/miniconda3/envs/openscope-differentiation-test3/lib -fopenmp  -fpic  -march=nocona -mtune=haswell -ftree-vectorize -fPIC -fstack-protector-strong -fno-plt -O2 -ffunction-sections -pipe -isystem /home/wmayner/miniconda3/envs/openscope-differentiation-test3/include -fdebug-prefix-map=/home/conda/feedstock_root/build_artifacts/r-base_1621283253293/work=/usr/local/src/conda/r-base-3.6.3 -fdebug-prefix-map=/home/wmayner/miniconda3/envs/openscope-differentiation-test3=/usr/local/src/conda-prefix  -c gsumm.c -o gsumm.o\n",
      "x86_64-conda-linux-gnu-cc -I\"/home/wmayner/miniconda3/envs/openscope-differentiation-test3/lib/R/include\" -DNDEBUG   -DNDEBUG -D_FORTIFY_SOURCE=2 -O2 -isystem /home/wmayner/miniconda3/envs/openscope-differentiation-test3/include -I/home/wmayner/miniconda3/envs/openscope-differentiation-test3/include -Wl,-rpath-link,/home/wmayner/miniconda3/envs/openscope-differentiation-test3/lib -fopenmp  -fpic  -march=nocona -mtune=haswell -ftree-vectorize -fPIC -fstack-protector-strong -fno-plt -O2 -ffunction-sections -pipe -isystem /home/wmayner/miniconda3/envs/openscope-differentiation-test3/include -fdebug-prefix-map=/home/conda/feedstock_root/build_artifacts/r-base_1621283253293/work=/usr/local/src/conda/r-base-3.6.3 -fdebug-prefix-map=/home/wmayner/miniconda3/envs/openscope-differentiation-test3=/usr/local/src/conda-prefix  -c ijoin.c -o ijoin.o\n",
      "x86_64-conda-linux-gnu-cc -I\"/home/wmayner/miniconda3/envs/openscope-differentiation-test3/lib/R/include\" -DNDEBUG   -DNDEBUG -D_FORTIFY_SOURCE=2 -O2 -isystem /home/wmayner/miniconda3/envs/openscope-differentiation-test3/include -I/home/wmayner/miniconda3/envs/openscope-differentiation-test3/include -Wl,-rpath-link,/home/wmayner/miniconda3/envs/openscope-differentiation-test3/lib -fopenmp  -fpic  -march=nocona -mtune=haswell -ftree-vectorize -fPIC -fstack-protector-strong -fno-plt -O2 -ffunction-sections -pipe -isystem /home/wmayner/miniconda3/envs/openscope-differentiation-test3/include -fdebug-prefix-map=/home/conda/feedstock_root/build_artifacts/r-base_1621283253293/work=/usr/local/src/conda/r-base-3.6.3 -fdebug-prefix-map=/home/wmayner/miniconda3/envs/openscope-differentiation-test3=/usr/local/src/conda-prefix  -c init.c -o init.o\n",
      "x86_64-conda-linux-gnu-cc -I\"/home/wmayner/miniconda3/envs/openscope-differentiation-test3/lib/R/include\" -DNDEBUG   -DNDEBUG -D_FORTIFY_SOURCE=2 -O2 -isystem /home/wmayner/miniconda3/envs/openscope-differentiation-test3/include -I/home/wmayner/miniconda3/envs/openscope-differentiation-test3/include -Wl,-rpath-link,/home/wmayner/miniconda3/envs/openscope-differentiation-test3/lib -fopenmp  -fpic  -march=nocona -mtune=haswell -ftree-vectorize -fPIC -fstack-protector-strong -fno-plt -O2 -ffunction-sections -pipe -isystem /home/wmayner/miniconda3/envs/openscope-differentiation-test3/include -fdebug-prefix-map=/home/conda/feedstock_root/build_artifacts/r-base_1621283253293/work=/usr/local/src/conda/r-base-3.6.3 -fdebug-prefix-map=/home/wmayner/miniconda3/envs/openscope-differentiation-test3=/usr/local/src/conda-prefix  -c inrange.c -o inrange.o\n",
      "x86_64-conda-linux-gnu-cc -I\"/home/wmayner/miniconda3/envs/openscope-differentiation-test3/lib/R/include\" -DNDEBUG   -DNDEBUG -D_FORTIFY_SOURCE=2 -O2 -isystem /home/wmayner/miniconda3/envs/openscope-differentiation-test3/include -I/home/wmayner/miniconda3/envs/openscope-differentiation-test3/include -Wl,-rpath-link,/home/wmayner/miniconda3/envs/openscope-differentiation-test3/lib -fopenmp  -fpic  -march=nocona -mtune=haswell -ftree-vectorize -fPIC -fstack-protector-strong -fno-plt -O2 -ffunction-sections -pipe -isystem /home/wmayner/miniconda3/envs/openscope-differentiation-test3/include -fdebug-prefix-map=/home/conda/feedstock_root/build_artifacts/r-base_1621283253293/work=/usr/local/src/conda/r-base-3.6.3 -fdebug-prefix-map=/home/wmayner/miniconda3/envs/openscope-differentiation-test3=/usr/local/src/conda-prefix  -c nafill.c -o nafill.o\n",
      "x86_64-conda-linux-gnu-cc -I\"/home/wmayner/miniconda3/envs/openscope-differentiation-test3/lib/R/include\" -DNDEBUG   -DNDEBUG -D_FORTIFY_SOURCE=2 -O2 -isystem /home/wmayner/miniconda3/envs/openscope-differentiation-test3/include -I/home/wmayner/miniconda3/envs/openscope-differentiation-test3/include -Wl,-rpath-link,/home/wmayner/miniconda3/envs/openscope-differentiation-test3/lib -fopenmp  -fpic  -march=nocona -mtune=haswell -ftree-vectorize -fPIC -fstack-protector-strong -fno-plt -O2 -ffunction-sections -pipe -isystem /home/wmayner/miniconda3/envs/openscope-differentiation-test3/include -fdebug-prefix-map=/home/conda/feedstock_root/build_artifacts/r-base_1621283253293/work=/usr/local/src/conda/r-base-3.6.3 -fdebug-prefix-map=/home/wmayner/miniconda3/envs/openscope-differentiation-test3=/usr/local/src/conda-prefix  -c nqrecreateindices.c -o nqrecreateindices.o\n",
      "x86_64-conda-linux-gnu-cc -I\"/home/wmayner/miniconda3/envs/openscope-differentiation-test3/lib/R/include\" -DNDEBUG   -DNDEBUG -D_FORTIFY_SOURCE=2 -O2 -isystem /home/wmayner/miniconda3/envs/openscope-differentiation-test3/include -I/home/wmayner/miniconda3/envs/openscope-differentiation-test3/include -Wl,-rpath-link,/home/wmayner/miniconda3/envs/openscope-differentiation-test3/lib -fopenmp  -fpic  -march=nocona -mtune=haswell -ftree-vectorize -fPIC -fstack-protector-strong -fno-plt -O2 -ffunction-sections -pipe -isystem /home/wmayner/miniconda3/envs/openscope-differentiation-test3/include -fdebug-prefix-map=/home/conda/feedstock_root/build_artifacts/r-base_1621283253293/work=/usr/local/src/conda/r-base-3.6.3 -fdebug-prefix-map=/home/wmayner/miniconda3/envs/openscope-differentiation-test3=/usr/local/src/conda-prefix  -c openmp-utils.c -o openmp-utils.o\n",
      "x86_64-conda-linux-gnu-cc -I\"/home/wmayner/miniconda3/envs/openscope-differentiation-test3/lib/R/include\" -DNDEBUG   -DNDEBUG -D_FORTIFY_SOURCE=2 -O2 -isystem /home/wmayner/miniconda3/envs/openscope-differentiation-test3/include -I/home/wmayner/miniconda3/envs/openscope-differentiation-test3/include -Wl,-rpath-link,/home/wmayner/miniconda3/envs/openscope-differentiation-test3/lib -fopenmp  -fpic  -march=nocona -mtune=haswell -ftree-vectorize -fPIC -fstack-protector-strong -fno-plt -O2 -ffunction-sections -pipe -isystem /home/wmayner/miniconda3/envs/openscope-differentiation-test3/include -fdebug-prefix-map=/home/conda/feedstock_root/build_artifacts/r-base_1621283253293/work=/usr/local/src/conda/r-base-3.6.3 -fdebug-prefix-map=/home/wmayner/miniconda3/envs/openscope-differentiation-test3=/usr/local/src/conda-prefix  -c quickselect.c -o quickselect.o\n",
      "x86_64-conda-linux-gnu-cc -I\"/home/wmayner/miniconda3/envs/openscope-differentiation-test3/lib/R/include\" -DNDEBUG   -DNDEBUG -D_FORTIFY_SOURCE=2 -O2 -isystem /home/wmayner/miniconda3/envs/openscope-differentiation-test3/include -I/home/wmayner/miniconda3/envs/openscope-differentiation-test3/include -Wl,-rpath-link,/home/wmayner/miniconda3/envs/openscope-differentiation-test3/lib -fopenmp  -fpic  -march=nocona -mtune=haswell -ftree-vectorize -fPIC -fstack-protector-strong -fno-plt -O2 -ffunction-sections -pipe -isystem /home/wmayner/miniconda3/envs/openscope-differentiation-test3/include -fdebug-prefix-map=/home/conda/feedstock_root/build_artifacts/r-base_1621283253293/work=/usr/local/src/conda/r-base-3.6.3 -fdebug-prefix-map=/home/wmayner/miniconda3/envs/openscope-differentiation-test3=/usr/local/src/conda-prefix  -c rbindlist.c -o rbindlist.o\n",
      "x86_64-conda-linux-gnu-cc -I\"/home/wmayner/miniconda3/envs/openscope-differentiation-test3/lib/R/include\" -DNDEBUG   -DNDEBUG -D_FORTIFY_SOURCE=2 -O2 -isystem /home/wmayner/miniconda3/envs/openscope-differentiation-test3/include -I/home/wmayner/miniconda3/envs/openscope-differentiation-test3/include -Wl,-rpath-link,/home/wmayner/miniconda3/envs/openscope-differentiation-test3/lib -fopenmp  -fpic  -march=nocona -mtune=haswell -ftree-vectorize -fPIC -fstack-protector-strong -fno-plt -O2 -ffunction-sections -pipe -isystem /home/wmayner/miniconda3/envs/openscope-differentiation-test3/include -fdebug-prefix-map=/home/conda/feedstock_root/build_artifacts/r-base_1621283253293/work=/usr/local/src/conda/r-base-3.6.3 -fdebug-prefix-map=/home/wmayner/miniconda3/envs/openscope-differentiation-test3=/usr/local/src/conda-prefix  -c reorder.c -o reorder.o\n",
      "x86_64-conda-linux-gnu-cc -I\"/home/wmayner/miniconda3/envs/openscope-differentiation-test3/lib/R/include\" -DNDEBUG   -DNDEBUG -D_FORTIFY_SOURCE=2 -O2 -isystem /home/wmayner/miniconda3/envs/openscope-differentiation-test3/include -I/home/wmayner/miniconda3/envs/openscope-differentiation-test3/include -Wl,-rpath-link,/home/wmayner/miniconda3/envs/openscope-differentiation-test3/lib -fopenmp  -fpic  -march=nocona -mtune=haswell -ftree-vectorize -fPIC -fstack-protector-strong -fno-plt -O2 -ffunction-sections -pipe -isystem /home/wmayner/miniconda3/envs/openscope-differentiation-test3/include -fdebug-prefix-map=/home/conda/feedstock_root/build_artifacts/r-base_1621283253293/work=/usr/local/src/conda/r-base-3.6.3 -fdebug-prefix-map=/home/wmayner/miniconda3/envs/openscope-differentiation-test3=/usr/local/src/conda-prefix  -c shift.c -o shift.o\n",
      "x86_64-conda-linux-gnu-cc -I\"/home/wmayner/miniconda3/envs/openscope-differentiation-test3/lib/R/include\" -DNDEBUG   -DNDEBUG -D_FORTIFY_SOURCE=2 -O2 -isystem /home/wmayner/miniconda3/envs/openscope-differentiation-test3/include -I/home/wmayner/miniconda3/envs/openscope-differentiation-test3/include -Wl,-rpath-link,/home/wmayner/miniconda3/envs/openscope-differentiation-test3/lib -fopenmp  -fpic  -march=nocona -mtune=haswell -ftree-vectorize -fPIC -fstack-protector-strong -fno-plt -O2 -ffunction-sections -pipe -isystem /home/wmayner/miniconda3/envs/openscope-differentiation-test3/include -fdebug-prefix-map=/home/conda/feedstock_root/build_artifacts/r-base_1621283253293/work=/usr/local/src/conda/r-base-3.6.3 -fdebug-prefix-map=/home/wmayner/miniconda3/envs/openscope-differentiation-test3=/usr/local/src/conda-prefix  -c snprintf.c -o snprintf.o\n",
      "x86_64-conda-linux-gnu-cc -I\"/home/wmayner/miniconda3/envs/openscope-differentiation-test3/lib/R/include\" -DNDEBUG   -DNDEBUG -D_FORTIFY_SOURCE=2 -O2 -isystem /home/wmayner/miniconda3/envs/openscope-differentiation-test3/include -I/home/wmayner/miniconda3/envs/openscope-differentiation-test3/include -Wl,-rpath-link,/home/wmayner/miniconda3/envs/openscope-differentiation-test3/lib -fopenmp  -fpic  -march=nocona -mtune=haswell -ftree-vectorize -fPIC -fstack-protector-strong -fno-plt -O2 -ffunction-sections -pipe -isystem /home/wmayner/miniconda3/envs/openscope-differentiation-test3/include -fdebug-prefix-map=/home/conda/feedstock_root/build_artifacts/r-base_1621283253293/work=/usr/local/src/conda/r-base-3.6.3 -fdebug-prefix-map=/home/wmayner/miniconda3/envs/openscope-differentiation-test3=/usr/local/src/conda-prefix  -c subset.c -o subset.o\n",
      "x86_64-conda-linux-gnu-cc -I\"/home/wmayner/miniconda3/envs/openscope-differentiation-test3/lib/R/include\" -DNDEBUG   -DNDEBUG -D_FORTIFY_SOURCE=2 -O2 -isystem /home/wmayner/miniconda3/envs/openscope-differentiation-test3/include -I/home/wmayner/miniconda3/envs/openscope-differentiation-test3/include -Wl,-rpath-link,/home/wmayner/miniconda3/envs/openscope-differentiation-test3/lib -fopenmp  -fpic  -march=nocona -mtune=haswell -ftree-vectorize -fPIC -fstack-protector-strong -fno-plt -O2 -ffunction-sections -pipe -isystem /home/wmayner/miniconda3/envs/openscope-differentiation-test3/include -fdebug-prefix-map=/home/conda/feedstock_root/build_artifacts/r-base_1621283253293/work=/usr/local/src/conda/r-base-3.6.3 -fdebug-prefix-map=/home/wmayner/miniconda3/envs/openscope-differentiation-test3=/usr/local/src/conda-prefix  -c transpose.c -o transpose.o\n",
      "x86_64-conda-linux-gnu-cc -I\"/home/wmayner/miniconda3/envs/openscope-differentiation-test3/lib/R/include\" -DNDEBUG   -DNDEBUG -D_FORTIFY_SOURCE=2 -O2 -isystem /home/wmayner/miniconda3/envs/openscope-differentiation-test3/include -I/home/wmayner/miniconda3/envs/openscope-differentiation-test3/include -Wl,-rpath-link,/home/wmayner/miniconda3/envs/openscope-differentiation-test3/lib -fopenmp  -fpic  -march=nocona -mtune=haswell -ftree-vectorize -fPIC -fstack-protector-strong -fno-plt -O2 -ffunction-sections -pipe -isystem /home/wmayner/miniconda3/envs/openscope-differentiation-test3/include -fdebug-prefix-map=/home/conda/feedstock_root/build_artifacts/r-base_1621283253293/work=/usr/local/src/conda/r-base-3.6.3 -fdebug-prefix-map=/home/wmayner/miniconda3/envs/openscope-differentiation-test3=/usr/local/src/conda-prefix  -c types.c -o types.o\n",
      "x86_64-conda-linux-gnu-cc -I\"/home/wmayner/miniconda3/envs/openscope-differentiation-test3/lib/R/include\" -DNDEBUG   -DNDEBUG -D_FORTIFY_SOURCE=2 -O2 -isystem /home/wmayner/miniconda3/envs/openscope-differentiation-test3/include -I/home/wmayner/miniconda3/envs/openscope-differentiation-test3/include -Wl,-rpath-link,/home/wmayner/miniconda3/envs/openscope-differentiation-test3/lib -fopenmp  -fpic  -march=nocona -mtune=haswell -ftree-vectorize -fPIC -fstack-protector-strong -fno-plt -O2 -ffunction-sections -pipe -isystem /home/wmayner/miniconda3/envs/openscope-differentiation-test3/include -fdebug-prefix-map=/home/conda/feedstock_root/build_artifacts/r-base_1621283253293/work=/usr/local/src/conda/r-base-3.6.3 -fdebug-prefix-map=/home/wmayner/miniconda3/envs/openscope-differentiation-test3=/usr/local/src/conda-prefix  -c uniqlist.c -o uniqlist.o\n",
      "x86_64-conda-linux-gnu-cc -I\"/home/wmayner/miniconda3/envs/openscope-differentiation-test3/lib/R/include\" -DNDEBUG   -DNDEBUG -D_FORTIFY_SOURCE=2 -O2 -isystem /home/wmayner/miniconda3/envs/openscope-differentiation-test3/include -I/home/wmayner/miniconda3/envs/openscope-differentiation-test3/include -Wl,-rpath-link,/home/wmayner/miniconda3/envs/openscope-differentiation-test3/lib -fopenmp  -fpic  -march=nocona -mtune=haswell -ftree-vectorize -fPIC -fstack-protector-strong -fno-plt -O2 -ffunction-sections -pipe -isystem /home/wmayner/miniconda3/envs/openscope-differentiation-test3/include -fdebug-prefix-map=/home/conda/feedstock_root/build_artifacts/r-base_1621283253293/work=/usr/local/src/conda/r-base-3.6.3 -fdebug-prefix-map=/home/wmayner/miniconda3/envs/openscope-differentiation-test3=/usr/local/src/conda-prefix  -c utils.c -o utils.o\n",
      "x86_64-conda-linux-gnu-cc -I\"/home/wmayner/miniconda3/envs/openscope-differentiation-test3/lib/R/include\" -DNDEBUG   -DNDEBUG -D_FORTIFY_SOURCE=2 -O2 -isystem /home/wmayner/miniconda3/envs/openscope-differentiation-test3/include -I/home/wmayner/miniconda3/envs/openscope-differentiation-test3/include -Wl,-rpath-link,/home/wmayner/miniconda3/envs/openscope-differentiation-test3/lib -fopenmp  -fpic  -march=nocona -mtune=haswell -ftree-vectorize -fPIC -fstack-protector-strong -fno-plt -O2 -ffunction-sections -pipe -isystem /home/wmayner/miniconda3/envs/openscope-differentiation-test3/include -fdebug-prefix-map=/home/conda/feedstock_root/build_artifacts/r-base_1621283253293/work=/usr/local/src/conda/r-base-3.6.3 -fdebug-prefix-map=/home/wmayner/miniconda3/envs/openscope-differentiation-test3=/usr/local/src/conda-prefix  -c vecseq.c -o vecseq.o\n",
      "x86_64-conda-linux-gnu-cc -I\"/home/wmayner/miniconda3/envs/openscope-differentiation-test3/lib/R/include\" -DNDEBUG   -DNDEBUG -D_FORTIFY_SOURCE=2 -O2 -isystem /home/wmayner/miniconda3/envs/openscope-differentiation-test3/include -I/home/wmayner/miniconda3/envs/openscope-differentiation-test3/include -Wl,-rpath-link,/home/wmayner/miniconda3/envs/openscope-differentiation-test3/lib -fopenmp  -fpic  -march=nocona -mtune=haswell -ftree-vectorize -fPIC -fstack-protector-strong -fno-plt -O2 -ffunction-sections -pipe -isystem /home/wmayner/miniconda3/envs/openscope-differentiation-test3/include -fdebug-prefix-map=/home/conda/feedstock_root/build_artifacts/r-base_1621283253293/work=/usr/local/src/conda/r-base-3.6.3 -fdebug-prefix-map=/home/wmayner/miniconda3/envs/openscope-differentiation-test3=/usr/local/src/conda-prefix  -c wrappers.c -o wrappers.o\n",
      "x86_64-conda-linux-gnu-cc -shared -L/home/wmayner/miniconda3/envs/openscope-differentiation-test3/lib/R/lib -Wl,-O2 -Wl,--sort-common -Wl,--as-needed -Wl,-z,relro -Wl,-z,now -Wl,--disable-new-dtags -Wl,--gc-sections -Wl,-rpath,/home/wmayner/miniconda3/envs/openscope-differentiation-test3/lib -Wl,-rpath-link,/home/wmayner/miniconda3/envs/openscope-differentiation-test3/lib -L/home/wmayner/miniconda3/envs/openscope-differentiation-test3/lib -Wl,-rpath-link,/home/wmayner/miniconda3/envs/openscope-differentiation-test3/lib -o data.table.so assign.o between.o bmerge.o chmatch.o cj.o coalesce.o dogroups.o fastmean.o fcast.o fifelse.o fmelt.o forder.o frank.o fread.o freadR.o froll.o frollR.o frolladaptive.o fsort.o fwrite.o fwriteR.o gsumm.o ijoin.o init.o inrange.o nafill.o nqrecreateindices.o openmp-utils.o quickselect.o rbindlist.o reorder.o shift.o snprintf.o subset.o transpose.o types.o uniqlist.o utils.o vecseq.o wrappers.o -fopenmp -lz -L/home/wmayner/miniconda3/envs/openscope-differentiation-test3/lib/R/lib -lR\n",
      "PKG_CFLAGS = -fopenmp\n",
      "PKG_LIBS = -fopenmp -lz\n",
      "if [ \"data.table.so\" != \"datatable.so\" ]; then mv data.table.so datatable.so; fi\n",
      "if [ \"\" != \"Windows_NT\" ] && [ `uname -s` = 'Darwin' ]; then install_name_tool -id datatable.so datatable.so; fi\n"
     ]
    },
    {
     "name": "stderr",
     "output_type": "stream",
     "text": [
      "installing to /home/wmayner/miniconda3/envs/openscope-differentiation-test3/lib/R/library/00LOCK-data.table/00new/data.table/libs\n",
      "** R\n",
      "** inst\n",
      "** byte-compile and prepare package for lazy loading\n",
      "** help\n",
      "*** installing help indices\n",
      "** building package indices\n",
      "** installing vignettes\n",
      "** testing if installed package can be loaded from temporary location\n",
      "** checking absolute paths in shared objects and dynamic libraries\n",
      "** testing if installed package can be loaded from final location\n",
      "** testing if installed package keeps a record of temporary installation path\n",
      "* DONE (data.table)\n",
      "* installing *source* package ‘lpSolve’ ...\n",
      "** package ‘lpSolve’ successfully unpacked and MD5 sums checked\n",
      "** using staged installation\n",
      "** libs\n"
     ]
    },
    {
     "name": "stdout",
     "output_type": "stream",
     "text": [
      "x86_64-conda-linux-gnu-cc -I\"/home/wmayner/miniconda3/envs/openscope-differentiation-test3/lib/R/include\" -DNDEBUG -I . -DINTEGERTIME -DPARSER_LP -DBUILDING_FOR_R -DYY_NEVER_INTERACTIVE -DUSRDLL -DCLOCKTIME -DRoleIsExternalInvEngine -DINVERSE_ACTIVE=INVERSE_LUSOL -DINLINE=static -DParanoia  -DNDEBUG -D_FORTIFY_SOURCE=2 -O2 -isystem /home/wmayner/miniconda3/envs/openscope-differentiation-test3/include -I/home/wmayner/miniconda3/envs/openscope-differentiation-test3/include -Wl,-rpath-link,/home/wmayner/miniconda3/envs/openscope-differentiation-test3/lib  -fpic  -march=nocona -mtune=haswell -ftree-vectorize -fPIC -fstack-protector-strong -fno-plt -O2 -ffunction-sections -pipe -isystem /home/wmayner/miniconda3/envs/openscope-differentiation-test3/include -fdebug-prefix-map=/home/conda/feedstock_root/build_artifacts/r-base_1621283253293/work=/usr/local/src/conda/r-base-3.6.3 -fdebug-prefix-map=/home/wmayner/miniconda3/envs/openscope-differentiation-test3=/usr/local/src/conda-prefix  -c colamd.c -o colamd.o\n",
      "x86_64-conda-linux-gnu-cc -I\"/home/wmayner/miniconda3/envs/openscope-differentiation-test3/lib/R/include\" -DNDEBUG -I . -DINTEGERTIME -DPARSER_LP -DBUILDING_FOR_R -DYY_NEVER_INTERACTIVE -DUSRDLL -DCLOCKTIME -DRoleIsExternalInvEngine -DINVERSE_ACTIVE=INVERSE_LUSOL -DINLINE=static -DParanoia  -DNDEBUG -D_FORTIFY_SOURCE=2 -O2 -isystem /home/wmayner/miniconda3/envs/openscope-differentiation-test3/include -I/home/wmayner/miniconda3/envs/openscope-differentiation-test3/include -Wl,-rpath-link,/home/wmayner/miniconda3/envs/openscope-differentiation-test3/lib  -fpic  -march=nocona -mtune=haswell -ftree-vectorize -fPIC -fstack-protector-strong -fno-plt -O2 -ffunction-sections -pipe -isystem /home/wmayner/miniconda3/envs/openscope-differentiation-test3/include -fdebug-prefix-map=/home/conda/feedstock_root/build_artifacts/r-base_1621283253293/work=/usr/local/src/conda/r-base-3.6.3 -fdebug-prefix-map=/home/wmayner/miniconda3/envs/openscope-differentiation-test3=/usr/local/src/conda-prefix  -c commonlib.c -o commonlib.o\n",
      "x86_64-conda-linux-gnu-cc -I\"/home/wmayner/miniconda3/envs/openscope-differentiation-test3/lib/R/include\" -DNDEBUG -I . -DINTEGERTIME -DPARSER_LP -DBUILDING_FOR_R -DYY_NEVER_INTERACTIVE -DUSRDLL -DCLOCKTIME -DRoleIsExternalInvEngine -DINVERSE_ACTIVE=INVERSE_LUSOL -DINLINE=static -DParanoia  -DNDEBUG -D_FORTIFY_SOURCE=2 -O2 -isystem /home/wmayner/miniconda3/envs/openscope-differentiation-test3/include -I/home/wmayner/miniconda3/envs/openscope-differentiation-test3/include -Wl,-rpath-link,/home/wmayner/miniconda3/envs/openscope-differentiation-test3/lib  -fpic  -march=nocona -mtune=haswell -ftree-vectorize -fPIC -fstack-protector-strong -fno-plt -O2 -ffunction-sections -pipe -isystem /home/wmayner/miniconda3/envs/openscope-differentiation-test3/include -fdebug-prefix-map=/home/conda/feedstock_root/build_artifacts/r-base_1621283253293/work=/usr/local/src/conda/r-base-3.6.3 -fdebug-prefix-map=/home/wmayner/miniconda3/envs/openscope-differentiation-test3=/usr/local/src/conda-prefix  -c hbio.c -o hbio.o\n",
      "x86_64-conda-linux-gnu-cc -I\"/home/wmayner/miniconda3/envs/openscope-differentiation-test3/lib/R/include\" -DNDEBUG -I . -DINTEGERTIME -DPARSER_LP -DBUILDING_FOR_R -DYY_NEVER_INTERACTIVE -DUSRDLL -DCLOCKTIME -DRoleIsExternalInvEngine -DINVERSE_ACTIVE=INVERSE_LUSOL -DINLINE=static -DParanoia  -DNDEBUG -D_FORTIFY_SOURCE=2 -O2 -isystem /home/wmayner/miniconda3/envs/openscope-differentiation-test3/include -I/home/wmayner/miniconda3/envs/openscope-differentiation-test3/include -Wl,-rpath-link,/home/wmayner/miniconda3/envs/openscope-differentiation-test3/lib  -fpic  -march=nocona -mtune=haswell -ftree-vectorize -fPIC -fstack-protector-strong -fno-plt -O2 -ffunction-sections -pipe -isystem /home/wmayner/miniconda3/envs/openscope-differentiation-test3/include -fdebug-prefix-map=/home/conda/feedstock_root/build_artifacts/r-base_1621283253293/work=/usr/local/src/conda/r-base-3.6.3 -fdebug-prefix-map=/home/wmayner/miniconda3/envs/openscope-differentiation-test3=/usr/local/src/conda-prefix  -c ini.c -o ini.o\n",
      "x86_64-conda-linux-gnu-cc -I\"/home/wmayner/miniconda3/envs/openscope-differentiation-test3/lib/R/include\" -DNDEBUG -I . -DINTEGERTIME -DPARSER_LP -DBUILDING_FOR_R -DYY_NEVER_INTERACTIVE -DUSRDLL -DCLOCKTIME -DRoleIsExternalInvEngine -DINVERSE_ACTIVE=INVERSE_LUSOL -DINLINE=static -DParanoia  -DNDEBUG -D_FORTIFY_SOURCE=2 -O2 -isystem /home/wmayner/miniconda3/envs/openscope-differentiation-test3/include -I/home/wmayner/miniconda3/envs/openscope-differentiation-test3/include -Wl,-rpath-link,/home/wmayner/miniconda3/envs/openscope-differentiation-test3/lib  -fpic  -march=nocona -mtune=haswell -ftree-vectorize -fPIC -fstack-protector-strong -fno-plt -O2 -ffunction-sections -pipe -isystem /home/wmayner/miniconda3/envs/openscope-differentiation-test3/include -fdebug-prefix-map=/home/conda/feedstock_root/build_artifacts/r-base_1621283253293/work=/usr/local/src/conda/r-base-3.6.3 -fdebug-prefix-map=/home/wmayner/miniconda3/envs/openscope-differentiation-test3=/usr/local/src/conda-prefix  -c init.c -o init.o\n",
      "x86_64-conda-linux-gnu-cc -I\"/home/wmayner/miniconda3/envs/openscope-differentiation-test3/lib/R/include\" -DNDEBUG -I . -DINTEGERTIME -DPARSER_LP -DBUILDING_FOR_R -DYY_NEVER_INTERACTIVE -DUSRDLL -DCLOCKTIME -DRoleIsExternalInvEngine -DINVERSE_ACTIVE=INVERSE_LUSOL -DINLINE=static -DParanoia  -DNDEBUG -D_FORTIFY_SOURCE=2 -O2 -isystem /home/wmayner/miniconda3/envs/openscope-differentiation-test3/include -I/home/wmayner/miniconda3/envs/openscope-differentiation-test3/include -Wl,-rpath-link,/home/wmayner/miniconda3/envs/openscope-differentiation-test3/lib  -fpic  -march=nocona -mtune=haswell -ftree-vectorize -fPIC -fstack-protector-strong -fno-plt -O2 -ffunction-sections -pipe -isystem /home/wmayner/miniconda3/envs/openscope-differentiation-test3/include -fdebug-prefix-map=/home/conda/feedstock_root/build_artifacts/r-base_1621283253293/work=/usr/local/src/conda/r-base-3.6.3 -fdebug-prefix-map=/home/wmayner/miniconda3/envs/openscope-differentiation-test3=/usr/local/src/conda-prefix  -c isfixedvar.c -o isfixedvar.o\n",
      "x86_64-conda-linux-gnu-cc -I\"/home/wmayner/miniconda3/envs/openscope-differentiation-test3/lib/R/include\" -DNDEBUG -I . -DINTEGERTIME -DPARSER_LP -DBUILDING_FOR_R -DYY_NEVER_INTERACTIVE -DUSRDLL -DCLOCKTIME -DRoleIsExternalInvEngine -DINVERSE_ACTIVE=INVERSE_LUSOL -DINLINE=static -DParanoia  -DNDEBUG -D_FORTIFY_SOURCE=2 -O2 -isystem /home/wmayner/miniconda3/envs/openscope-differentiation-test3/include -I/home/wmayner/miniconda3/envs/openscope-differentiation-test3/include -Wl,-rpath-link,/home/wmayner/miniconda3/envs/openscope-differentiation-test3/lib  -fpic  -march=nocona -mtune=haswell -ftree-vectorize -fPIC -fstack-protector-strong -fno-plt -O2 -ffunction-sections -pipe -isystem /home/wmayner/miniconda3/envs/openscope-differentiation-test3/include -fdebug-prefix-map=/home/conda/feedstock_root/build_artifacts/r-base_1621283253293/work=/usr/local/src/conda/r-base-3.6.3 -fdebug-prefix-map=/home/wmayner/miniconda3/envs/openscope-differentiation-test3=/usr/local/src/conda-prefix  -c lp_Hash.c -o lp_Hash.o\n",
      "x86_64-conda-linux-gnu-cc -I\"/home/wmayner/miniconda3/envs/openscope-differentiation-test3/lib/R/include\" -DNDEBUG -I . -DINTEGERTIME -DPARSER_LP -DBUILDING_FOR_R -DYY_NEVER_INTERACTIVE -DUSRDLL -DCLOCKTIME -DRoleIsExternalInvEngine -DINVERSE_ACTIVE=INVERSE_LUSOL -DINLINE=static -DParanoia  -DNDEBUG -D_FORTIFY_SOURCE=2 -O2 -isystem /home/wmayner/miniconda3/envs/openscope-differentiation-test3/include -I/home/wmayner/miniconda3/envs/openscope-differentiation-test3/include -Wl,-rpath-link,/home/wmayner/miniconda3/envs/openscope-differentiation-test3/lib  -fpic  -march=nocona -mtune=haswell -ftree-vectorize -fPIC -fstack-protector-strong -fno-plt -O2 -ffunction-sections -pipe -isystem /home/wmayner/miniconda3/envs/openscope-differentiation-test3/include -fdebug-prefix-map=/home/conda/feedstock_root/build_artifacts/r-base_1621283253293/work=/usr/local/src/conda/r-base-3.6.3 -fdebug-prefix-map=/home/wmayner/miniconda3/envs/openscope-differentiation-test3=/usr/local/src/conda-prefix  -c lp_LUSOL.c -o lp_LUSOL.o\n",
      "x86_64-conda-linux-gnu-cc -I\"/home/wmayner/miniconda3/envs/openscope-differentiation-test3/lib/R/include\" -DNDEBUG -I . -DINTEGERTIME -DPARSER_LP -DBUILDING_FOR_R -DYY_NEVER_INTERACTIVE -DUSRDLL -DCLOCKTIME -DRoleIsExternalInvEngine -DINVERSE_ACTIVE=INVERSE_LUSOL -DINLINE=static -DParanoia  -DNDEBUG -D_FORTIFY_SOURCE=2 -O2 -isystem /home/wmayner/miniconda3/envs/openscope-differentiation-test3/include -I/home/wmayner/miniconda3/envs/openscope-differentiation-test3/include -Wl,-rpath-link,/home/wmayner/miniconda3/envs/openscope-differentiation-test3/lib  -fpic  -march=nocona -mtune=haswell -ftree-vectorize -fPIC -fstack-protector-strong -fno-plt -O2 -ffunction-sections -pipe -isystem /home/wmayner/miniconda3/envs/openscope-differentiation-test3/include -fdebug-prefix-map=/home/conda/feedstock_root/build_artifacts/r-base_1621283253293/work=/usr/local/src/conda/r-base-3.6.3 -fdebug-prefix-map=/home/wmayner/miniconda3/envs/openscope-differentiation-test3=/usr/local/src/conda-prefix  -c lp_MDO.c -o lp_MDO.o\n",
      "x86_64-conda-linux-gnu-cc -I\"/home/wmayner/miniconda3/envs/openscope-differentiation-test3/lib/R/include\" -DNDEBUG -I . -DINTEGERTIME -DPARSER_LP -DBUILDING_FOR_R -DYY_NEVER_INTERACTIVE -DUSRDLL -DCLOCKTIME -DRoleIsExternalInvEngine -DINVERSE_ACTIVE=INVERSE_LUSOL -DINLINE=static -DParanoia  -DNDEBUG -D_FORTIFY_SOURCE=2 -O2 -isystem /home/wmayner/miniconda3/envs/openscope-differentiation-test3/include -I/home/wmayner/miniconda3/envs/openscope-differentiation-test3/include -Wl,-rpath-link,/home/wmayner/miniconda3/envs/openscope-differentiation-test3/lib  -fpic  -march=nocona -mtune=haswell -ftree-vectorize -fPIC -fstack-protector-strong -fno-plt -O2 -ffunction-sections -pipe -isystem /home/wmayner/miniconda3/envs/openscope-differentiation-test3/include -fdebug-prefix-map=/home/conda/feedstock_root/build_artifacts/r-base_1621283253293/work=/usr/local/src/conda/r-base-3.6.3 -fdebug-prefix-map=/home/wmayner/miniconda3/envs/openscope-differentiation-test3=/usr/local/src/conda-prefix  -c lp_MPS.c -o lp_MPS.o\n",
      "x86_64-conda-linux-gnu-cc -I\"/home/wmayner/miniconda3/envs/openscope-differentiation-test3/lib/R/include\" -DNDEBUG -I . -DINTEGERTIME -DPARSER_LP -DBUILDING_FOR_R -DYY_NEVER_INTERACTIVE -DUSRDLL -DCLOCKTIME -DRoleIsExternalInvEngine -DINVERSE_ACTIVE=INVERSE_LUSOL -DINLINE=static -DParanoia  -DNDEBUG -D_FORTIFY_SOURCE=2 -O2 -isystem /home/wmayner/miniconda3/envs/openscope-differentiation-test3/include -I/home/wmayner/miniconda3/envs/openscope-differentiation-test3/include -Wl,-rpath-link,/home/wmayner/miniconda3/envs/openscope-differentiation-test3/lib  -fpic  -march=nocona -mtune=haswell -ftree-vectorize -fPIC -fstack-protector-strong -fno-plt -O2 -ffunction-sections -pipe -isystem /home/wmayner/miniconda3/envs/openscope-differentiation-test3/include -fdebug-prefix-map=/home/conda/feedstock_root/build_artifacts/r-base_1621283253293/work=/usr/local/src/conda/r-base-3.6.3 -fdebug-prefix-map=/home/wmayner/miniconda3/envs/openscope-differentiation-test3=/usr/local/src/conda-prefix  -c lp_SOS.c -o lp_SOS.o\n",
      "x86_64-conda-linux-gnu-cc -I\"/home/wmayner/miniconda3/envs/openscope-differentiation-test3/lib/R/include\" -DNDEBUG -I . -DINTEGERTIME -DPARSER_LP -DBUILDING_FOR_R -DYY_NEVER_INTERACTIVE -DUSRDLL -DCLOCKTIME -DRoleIsExternalInvEngine -DINVERSE_ACTIVE=INVERSE_LUSOL -DINLINE=static -DParanoia  -DNDEBUG -D_FORTIFY_SOURCE=2 -O2 -isystem /home/wmayner/miniconda3/envs/openscope-differentiation-test3/include -I/home/wmayner/miniconda3/envs/openscope-differentiation-test3/include -Wl,-rpath-link,/home/wmayner/miniconda3/envs/openscope-differentiation-test3/lib  -fpic  -march=nocona -mtune=haswell -ftree-vectorize -fPIC -fstack-protector-strong -fno-plt -O2 -ffunction-sections -pipe -isystem /home/wmayner/miniconda3/envs/openscope-differentiation-test3/include -fdebug-prefix-map=/home/conda/feedstock_root/build_artifacts/r-base_1621283253293/work=/usr/local/src/conda/r-base-3.6.3 -fdebug-prefix-map=/home/wmayner/miniconda3/envs/openscope-differentiation-test3=/usr/local/src/conda-prefix  -c lp_crash.c -o lp_crash.o\n",
      "x86_64-conda-linux-gnu-cc -I\"/home/wmayner/miniconda3/envs/openscope-differentiation-test3/lib/R/include\" -DNDEBUG -I . -DINTEGERTIME -DPARSER_LP -DBUILDING_FOR_R -DYY_NEVER_INTERACTIVE -DUSRDLL -DCLOCKTIME -DRoleIsExternalInvEngine -DINVERSE_ACTIVE=INVERSE_LUSOL -DINLINE=static -DParanoia  -DNDEBUG -D_FORTIFY_SOURCE=2 -O2 -isystem /home/wmayner/miniconda3/envs/openscope-differentiation-test3/include -I/home/wmayner/miniconda3/envs/openscope-differentiation-test3/include -Wl,-rpath-link,/home/wmayner/miniconda3/envs/openscope-differentiation-test3/lib  -fpic  -march=nocona -mtune=haswell -ftree-vectorize -fPIC -fstack-protector-strong -fno-plt -O2 -ffunction-sections -pipe -isystem /home/wmayner/miniconda3/envs/openscope-differentiation-test3/include -fdebug-prefix-map=/home/conda/feedstock_root/build_artifacts/r-base_1621283253293/work=/usr/local/src/conda/r-base-3.6.3 -fdebug-prefix-map=/home/wmayner/miniconda3/envs/openscope-differentiation-test3=/usr/local/src/conda-prefix  -c lp_lib.c -o lp_lib.o\n",
      "x86_64-conda-linux-gnu-cc -I\"/home/wmayner/miniconda3/envs/openscope-differentiation-test3/lib/R/include\" -DNDEBUG -I . -DINTEGERTIME -DPARSER_LP -DBUILDING_FOR_R -DYY_NEVER_INTERACTIVE -DUSRDLL -DCLOCKTIME -DRoleIsExternalInvEngine -DINVERSE_ACTIVE=INVERSE_LUSOL -DINLINE=static -DParanoia  -DNDEBUG -D_FORTIFY_SOURCE=2 -O2 -isystem /home/wmayner/miniconda3/envs/openscope-differentiation-test3/include -I/home/wmayner/miniconda3/envs/openscope-differentiation-test3/include -Wl,-rpath-link,/home/wmayner/miniconda3/envs/openscope-differentiation-test3/lib  -fpic  -march=nocona -mtune=haswell -ftree-vectorize -fPIC -fstack-protector-strong -fno-plt -O2 -ffunction-sections -pipe -isystem /home/wmayner/miniconda3/envs/openscope-differentiation-test3/include -fdebug-prefix-map=/home/conda/feedstock_root/build_artifacts/r-base_1621283253293/work=/usr/local/src/conda/r-base-3.6.3 -fdebug-prefix-map=/home/wmayner/miniconda3/envs/openscope-differentiation-test3=/usr/local/src/conda-prefix  -c lp_matrix.c -o lp_matrix.o\n",
      "x86_64-conda-linux-gnu-cc -I\"/home/wmayner/miniconda3/envs/openscope-differentiation-test3/lib/R/include\" -DNDEBUG -I . -DINTEGERTIME -DPARSER_LP -DBUILDING_FOR_R -DYY_NEVER_INTERACTIVE -DUSRDLL -DCLOCKTIME -DRoleIsExternalInvEngine -DINVERSE_ACTIVE=INVERSE_LUSOL -DINLINE=static -DParanoia  -DNDEBUG -D_FORTIFY_SOURCE=2 -O2 -isystem /home/wmayner/miniconda3/envs/openscope-differentiation-test3/include -I/home/wmayner/miniconda3/envs/openscope-differentiation-test3/include -Wl,-rpath-link,/home/wmayner/miniconda3/envs/openscope-differentiation-test3/lib  -fpic  -march=nocona -mtune=haswell -ftree-vectorize -fPIC -fstack-protector-strong -fno-plt -O2 -ffunction-sections -pipe -isystem /home/wmayner/miniconda3/envs/openscope-differentiation-test3/include -fdebug-prefix-map=/home/conda/feedstock_root/build_artifacts/r-base_1621283253293/work=/usr/local/src/conda/r-base-3.6.3 -fdebug-prefix-map=/home/wmayner/miniconda3/envs/openscope-differentiation-test3=/usr/local/src/conda-prefix  -c lp_mipbb.c -o lp_mipbb.o\n",
      "x86_64-conda-linux-gnu-cc -I\"/home/wmayner/miniconda3/envs/openscope-differentiation-test3/lib/R/include\" -DNDEBUG -I . -DINTEGERTIME -DPARSER_LP -DBUILDING_FOR_R -DYY_NEVER_INTERACTIVE -DUSRDLL -DCLOCKTIME -DRoleIsExternalInvEngine -DINVERSE_ACTIVE=INVERSE_LUSOL -DINLINE=static -DParanoia  -DNDEBUG -D_FORTIFY_SOURCE=2 -O2 -isystem /home/wmayner/miniconda3/envs/openscope-differentiation-test3/include -I/home/wmayner/miniconda3/envs/openscope-differentiation-test3/include -Wl,-rpath-link,/home/wmayner/miniconda3/envs/openscope-differentiation-test3/lib  -fpic  -march=nocona -mtune=haswell -ftree-vectorize -fPIC -fstack-protector-strong -fno-plt -O2 -ffunction-sections -pipe -isystem /home/wmayner/miniconda3/envs/openscope-differentiation-test3/include -fdebug-prefix-map=/home/conda/feedstock_root/build_artifacts/r-base_1621283253293/work=/usr/local/src/conda/r-base-3.6.3 -fdebug-prefix-map=/home/wmayner/miniconda3/envs/openscope-differentiation-test3=/usr/local/src/conda-prefix  -c lp_params.c -o lp_params.o\n",
      "x86_64-conda-linux-gnu-cc -I\"/home/wmayner/miniconda3/envs/openscope-differentiation-test3/lib/R/include\" -DNDEBUG -I . -DINTEGERTIME -DPARSER_LP -DBUILDING_FOR_R -DYY_NEVER_INTERACTIVE -DUSRDLL -DCLOCKTIME -DRoleIsExternalInvEngine -DINVERSE_ACTIVE=INVERSE_LUSOL -DINLINE=static -DParanoia  -DNDEBUG -D_FORTIFY_SOURCE=2 -O2 -isystem /home/wmayner/miniconda3/envs/openscope-differentiation-test3/include -I/home/wmayner/miniconda3/envs/openscope-differentiation-test3/include -Wl,-rpath-link,/home/wmayner/miniconda3/envs/openscope-differentiation-test3/lib  -fpic  -march=nocona -mtune=haswell -ftree-vectorize -fPIC -fstack-protector-strong -fno-plt -O2 -ffunction-sections -pipe -isystem /home/wmayner/miniconda3/envs/openscope-differentiation-test3/include -fdebug-prefix-map=/home/conda/feedstock_root/build_artifacts/r-base_1621283253293/work=/usr/local/src/conda/r-base-3.6.3 -fdebug-prefix-map=/home/wmayner/miniconda3/envs/openscope-differentiation-test3=/usr/local/src/conda-prefix  -c lp_presolve.c -o lp_presolve.o\n",
      "x86_64-conda-linux-gnu-cc -I\"/home/wmayner/miniconda3/envs/openscope-differentiation-test3/lib/R/include\" -DNDEBUG -I . -DINTEGERTIME -DPARSER_LP -DBUILDING_FOR_R -DYY_NEVER_INTERACTIVE -DUSRDLL -DCLOCKTIME -DRoleIsExternalInvEngine -DINVERSE_ACTIVE=INVERSE_LUSOL -DINLINE=static -DParanoia  -DNDEBUG -D_FORTIFY_SOURCE=2 -O2 -isystem /home/wmayner/miniconda3/envs/openscope-differentiation-test3/include -I/home/wmayner/miniconda3/envs/openscope-differentiation-test3/include -Wl,-rpath-link,/home/wmayner/miniconda3/envs/openscope-differentiation-test3/lib  -fpic  -march=nocona -mtune=haswell -ftree-vectorize -fPIC -fstack-protector-strong -fno-plt -O2 -ffunction-sections -pipe -isystem /home/wmayner/miniconda3/envs/openscope-differentiation-test3/include -fdebug-prefix-map=/home/conda/feedstock_root/build_artifacts/r-base_1621283253293/work=/usr/local/src/conda/r-base-3.6.3 -fdebug-prefix-map=/home/wmayner/miniconda3/envs/openscope-differentiation-test3=/usr/local/src/conda-prefix  -c lp_price.c -o lp_price.o\n",
      "x86_64-conda-linux-gnu-cc -I\"/home/wmayner/miniconda3/envs/openscope-differentiation-test3/lib/R/include\" -DNDEBUG -I . -DINTEGERTIME -DPARSER_LP -DBUILDING_FOR_R -DYY_NEVER_INTERACTIVE -DUSRDLL -DCLOCKTIME -DRoleIsExternalInvEngine -DINVERSE_ACTIVE=INVERSE_LUSOL -DINLINE=static -DParanoia  -DNDEBUG -D_FORTIFY_SOURCE=2 -O2 -isystem /home/wmayner/miniconda3/envs/openscope-differentiation-test3/include -I/home/wmayner/miniconda3/envs/openscope-differentiation-test3/include -Wl,-rpath-link,/home/wmayner/miniconda3/envs/openscope-differentiation-test3/lib  -fpic  -march=nocona -mtune=haswell -ftree-vectorize -fPIC -fstack-protector-strong -fno-plt -O2 -ffunction-sections -pipe -isystem /home/wmayner/miniconda3/envs/openscope-differentiation-test3/include -fdebug-prefix-map=/home/conda/feedstock_root/build_artifacts/r-base_1621283253293/work=/usr/local/src/conda/r-base-3.6.3 -fdebug-prefix-map=/home/wmayner/miniconda3/envs/openscope-differentiation-test3=/usr/local/src/conda-prefix  -c lp_pricePSE.c -o lp_pricePSE.o\n",
      "x86_64-conda-linux-gnu-cc -I\"/home/wmayner/miniconda3/envs/openscope-differentiation-test3/lib/R/include\" -DNDEBUG -I . -DINTEGERTIME -DPARSER_LP -DBUILDING_FOR_R -DYY_NEVER_INTERACTIVE -DUSRDLL -DCLOCKTIME -DRoleIsExternalInvEngine -DINVERSE_ACTIVE=INVERSE_LUSOL -DINLINE=static -DParanoia  -DNDEBUG -D_FORTIFY_SOURCE=2 -O2 -isystem /home/wmayner/miniconda3/envs/openscope-differentiation-test3/include -I/home/wmayner/miniconda3/envs/openscope-differentiation-test3/include -Wl,-rpath-link,/home/wmayner/miniconda3/envs/openscope-differentiation-test3/lib  -fpic  -march=nocona -mtune=haswell -ftree-vectorize -fPIC -fstack-protector-strong -fno-plt -O2 -ffunction-sections -pipe -isystem /home/wmayner/miniconda3/envs/openscope-differentiation-test3/include -fdebug-prefix-map=/home/conda/feedstock_root/build_artifacts/r-base_1621283253293/work=/usr/local/src/conda/r-base-3.6.3 -fdebug-prefix-map=/home/wmayner/miniconda3/envs/openscope-differentiation-test3=/usr/local/src/conda-prefix  -c lp_report.c -o lp_report.o\n",
      "x86_64-conda-linux-gnu-cc -I\"/home/wmayner/miniconda3/envs/openscope-differentiation-test3/lib/R/include\" -DNDEBUG -I . -DINTEGERTIME -DPARSER_LP -DBUILDING_FOR_R -DYY_NEVER_INTERACTIVE -DUSRDLL -DCLOCKTIME -DRoleIsExternalInvEngine -DINVERSE_ACTIVE=INVERSE_LUSOL -DINLINE=static -DParanoia  -DNDEBUG -D_FORTIFY_SOURCE=2 -O2 -isystem /home/wmayner/miniconda3/envs/openscope-differentiation-test3/include -I/home/wmayner/miniconda3/envs/openscope-differentiation-test3/include -Wl,-rpath-link,/home/wmayner/miniconda3/envs/openscope-differentiation-test3/lib  -fpic  -march=nocona -mtune=haswell -ftree-vectorize -fPIC -fstack-protector-strong -fno-plt -O2 -ffunction-sections -pipe -isystem /home/wmayner/miniconda3/envs/openscope-differentiation-test3/include -fdebug-prefix-map=/home/conda/feedstock_root/build_artifacts/r-base_1621283253293/work=/usr/local/src/conda/r-base-3.6.3 -fdebug-prefix-map=/home/wmayner/miniconda3/envs/openscope-differentiation-test3=/usr/local/src/conda-prefix  -c lp_rlp.c -o lp_rlp.o\n"
     ]
    },
    {
     "name": "stderr",
     "output_type": "stream",
     "text": [
      "In file included from lp_rlp.c:97:\n",
      "lp_rlp.h: In function 'lp_yy_fatal_error':\n",
      "lp_rlp.h:1804:19: warning: passing argument 1 of 'lex_fatal_error' discards 'const' qualifier from pointer target type [-Wdiscarded-qualifiers]\n",
      " 1804 |  lex_fatal_error (msg); /* exit( YY_EXIT_FAILURE ); */\n",
      "      |                   ^~~\n",
      "In file included from lp_rlp.c:32:\n",
      "yacc_read.h:6:28: note: expected 'char *' but argument is of type 'const char *'\n",
      "    6 | void lex_fatal_error(char *msg);\n",
      "      |                      ~~~~~~^~~\n"
     ]
    },
    {
     "name": "stdout",
     "output_type": "stream",
     "text": [
      "x86_64-conda-linux-gnu-cc -I\"/home/wmayner/miniconda3/envs/openscope-differentiation-test3/lib/R/include\" -DNDEBUG -I . -DINTEGERTIME -DPARSER_LP -DBUILDING_FOR_R -DYY_NEVER_INTERACTIVE -DUSRDLL -DCLOCKTIME -DRoleIsExternalInvEngine -DINVERSE_ACTIVE=INVERSE_LUSOL -DINLINE=static -DParanoia  -DNDEBUG -D_FORTIFY_SOURCE=2 -O2 -isystem /home/wmayner/miniconda3/envs/openscope-differentiation-test3/include -I/home/wmayner/miniconda3/envs/openscope-differentiation-test3/include -Wl,-rpath-link,/home/wmayner/miniconda3/envs/openscope-differentiation-test3/lib  -fpic  -march=nocona -mtune=haswell -ftree-vectorize -fPIC -fstack-protector-strong -fno-plt -O2 -ffunction-sections -pipe -isystem /home/wmayner/miniconda3/envs/openscope-differentiation-test3/include -fdebug-prefix-map=/home/conda/feedstock_root/build_artifacts/r-base_1621283253293/work=/usr/local/src/conda/r-base-3.6.3 -fdebug-prefix-map=/home/wmayner/miniconda3/envs/openscope-differentiation-test3=/usr/local/src/conda-prefix  -c lp_scale.c -o lp_scale.o\n",
      "x86_64-conda-linux-gnu-cc -I\"/home/wmayner/miniconda3/envs/openscope-differentiation-test3/lib/R/include\" -DNDEBUG -I . -DINTEGERTIME -DPARSER_LP -DBUILDING_FOR_R -DYY_NEVER_INTERACTIVE -DUSRDLL -DCLOCKTIME -DRoleIsExternalInvEngine -DINVERSE_ACTIVE=INVERSE_LUSOL -DINLINE=static -DParanoia  -DNDEBUG -D_FORTIFY_SOURCE=2 -O2 -isystem /home/wmayner/miniconda3/envs/openscope-differentiation-test3/include -I/home/wmayner/miniconda3/envs/openscope-differentiation-test3/include -Wl,-rpath-link,/home/wmayner/miniconda3/envs/openscope-differentiation-test3/lib  -fpic  -march=nocona -mtune=haswell -ftree-vectorize -fPIC -fstack-protector-strong -fno-plt -O2 -ffunction-sections -pipe -isystem /home/wmayner/miniconda3/envs/openscope-differentiation-test3/include -fdebug-prefix-map=/home/conda/feedstock_root/build_artifacts/r-base_1621283253293/work=/usr/local/src/conda/r-base-3.6.3 -fdebug-prefix-map=/home/wmayner/miniconda3/envs/openscope-differentiation-test3=/usr/local/src/conda-prefix  -c lp_simplex.c -o lp_simplex.o\n",
      "x86_64-conda-linux-gnu-cc -I\"/home/wmayner/miniconda3/envs/openscope-differentiation-test3/lib/R/include\" -DNDEBUG -I . -DINTEGERTIME -DPARSER_LP -DBUILDING_FOR_R -DYY_NEVER_INTERACTIVE -DUSRDLL -DCLOCKTIME -DRoleIsExternalInvEngine -DINVERSE_ACTIVE=INVERSE_LUSOL -DINLINE=static -DParanoia  -DNDEBUG -D_FORTIFY_SOURCE=2 -O2 -isystem /home/wmayner/miniconda3/envs/openscope-differentiation-test3/include -I/home/wmayner/miniconda3/envs/openscope-differentiation-test3/include -Wl,-rpath-link,/home/wmayner/miniconda3/envs/openscope-differentiation-test3/lib  -fpic  -march=nocona -mtune=haswell -ftree-vectorize -fPIC -fstack-protector-strong -fno-plt -O2 -ffunction-sections -pipe -isystem /home/wmayner/miniconda3/envs/openscope-differentiation-test3/include -fdebug-prefix-map=/home/conda/feedstock_root/build_artifacts/r-base_1621283253293/work=/usr/local/src/conda/r-base-3.6.3 -fdebug-prefix-map=/home/wmayner/miniconda3/envs/openscope-differentiation-test3=/usr/local/src/conda-prefix  -c lp_utils.c -o lp_utils.o\n",
      "x86_64-conda-linux-gnu-cc -I\"/home/wmayner/miniconda3/envs/openscope-differentiation-test3/lib/R/include\" -DNDEBUG -I . -DINTEGERTIME -DPARSER_LP -DBUILDING_FOR_R -DYY_NEVER_INTERACTIVE -DUSRDLL -DCLOCKTIME -DRoleIsExternalInvEngine -DINVERSE_ACTIVE=INVERSE_LUSOL -DINLINE=static -DParanoia  -DNDEBUG -D_FORTIFY_SOURCE=2 -O2 -isystem /home/wmayner/miniconda3/envs/openscope-differentiation-test3/include -I/home/wmayner/miniconda3/envs/openscope-differentiation-test3/include -Wl,-rpath-link,/home/wmayner/miniconda3/envs/openscope-differentiation-test3/lib  -fpic  -march=nocona -mtune=haswell -ftree-vectorize -fPIC -fstack-protector-strong -fno-plt -O2 -ffunction-sections -pipe -isystem /home/wmayner/miniconda3/envs/openscope-differentiation-test3/include -fdebug-prefix-map=/home/conda/feedstock_root/build_artifacts/r-base_1621283253293/work=/usr/local/src/conda/r-base-3.6.3 -fdebug-prefix-map=/home/wmayner/miniconda3/envs/openscope-differentiation-test3=/usr/local/src/conda-prefix  -c lp_wlp.c -o lp_wlp.o\n",
      "x86_64-conda-linux-gnu-cc -I\"/home/wmayner/miniconda3/envs/openscope-differentiation-test3/lib/R/include\" -DNDEBUG -I . -DINTEGERTIME -DPARSER_LP -DBUILDING_FOR_R -DYY_NEVER_INTERACTIVE -DUSRDLL -DCLOCKTIME -DRoleIsExternalInvEngine -DINVERSE_ACTIVE=INVERSE_LUSOL -DINLINE=static -DParanoia  -DNDEBUG -D_FORTIFY_SOURCE=2 -O2 -isystem /home/wmayner/miniconda3/envs/openscope-differentiation-test3/include -I/home/wmayner/miniconda3/envs/openscope-differentiation-test3/include -Wl,-rpath-link,/home/wmayner/miniconda3/envs/openscope-differentiation-test3/lib  -fpic  -march=nocona -mtune=haswell -ftree-vectorize -fPIC -fstack-protector-strong -fno-plt -O2 -ffunction-sections -pipe -isystem /home/wmayner/miniconda3/envs/openscope-differentiation-test3/include -fdebug-prefix-map=/home/conda/feedstock_root/build_artifacts/r-base_1621283253293/work=/usr/local/src/conda/r-base-3.6.3 -fdebug-prefix-map=/home/wmayner/miniconda3/envs/openscope-differentiation-test3=/usr/local/src/conda-prefix  -c lpslink56.c -o lpslink56.o\n",
      "x86_64-conda-linux-gnu-cc -I\"/home/wmayner/miniconda3/envs/openscope-differentiation-test3/lib/R/include\" -DNDEBUG -I . -DINTEGERTIME -DPARSER_LP -DBUILDING_FOR_R -DYY_NEVER_INTERACTIVE -DUSRDLL -DCLOCKTIME -DRoleIsExternalInvEngine -DINVERSE_ACTIVE=INVERSE_LUSOL -DINLINE=static -DParanoia  -DNDEBUG -D_FORTIFY_SOURCE=2 -O2 -isystem /home/wmayner/miniconda3/envs/openscope-differentiation-test3/include -I/home/wmayner/miniconda3/envs/openscope-differentiation-test3/include -Wl,-rpath-link,/home/wmayner/miniconda3/envs/openscope-differentiation-test3/lib  -fpic  -march=nocona -mtune=haswell -ftree-vectorize -fPIC -fstack-protector-strong -fno-plt -O2 -ffunction-sections -pipe -isystem /home/wmayner/miniconda3/envs/openscope-differentiation-test3/include -fdebug-prefix-map=/home/conda/feedstock_root/build_artifacts/r-base_1621283253293/work=/usr/local/src/conda/r-base-3.6.3 -fdebug-prefix-map=/home/wmayner/miniconda3/envs/openscope-differentiation-test3=/usr/local/src/conda-prefix  -c lusol.c -o lusol.o\n",
      "x86_64-conda-linux-gnu-cc -I\"/home/wmayner/miniconda3/envs/openscope-differentiation-test3/lib/R/include\" -DNDEBUG -I . -DINTEGERTIME -DPARSER_LP -DBUILDING_FOR_R -DYY_NEVER_INTERACTIVE -DUSRDLL -DCLOCKTIME -DRoleIsExternalInvEngine -DINVERSE_ACTIVE=INVERSE_LUSOL -DINLINE=static -DParanoia  -DNDEBUG -D_FORTIFY_SOURCE=2 -O2 -isystem /home/wmayner/miniconda3/envs/openscope-differentiation-test3/include -I/home/wmayner/miniconda3/envs/openscope-differentiation-test3/include -Wl,-rpath-link,/home/wmayner/miniconda3/envs/openscope-differentiation-test3/lib  -fpic  -march=nocona -mtune=haswell -ftree-vectorize -fPIC -fstack-protector-strong -fno-plt -O2 -ffunction-sections -pipe -isystem /home/wmayner/miniconda3/envs/openscope-differentiation-test3/include -fdebug-prefix-map=/home/conda/feedstock_root/build_artifacts/r-base_1621283253293/work=/usr/local/src/conda/r-base-3.6.3 -fdebug-prefix-map=/home/wmayner/miniconda3/envs/openscope-differentiation-test3=/usr/local/src/conda-prefix  -c lusolio.c -o lusolio.o\n",
      "x86_64-conda-linux-gnu-cc -I\"/home/wmayner/miniconda3/envs/openscope-differentiation-test3/lib/R/include\" -DNDEBUG -I . -DINTEGERTIME -DPARSER_LP -DBUILDING_FOR_R -DYY_NEVER_INTERACTIVE -DUSRDLL -DCLOCKTIME -DRoleIsExternalInvEngine -DINVERSE_ACTIVE=INVERSE_LUSOL -DINLINE=static -DParanoia  -DNDEBUG -D_FORTIFY_SOURCE=2 -O2 -isystem /home/wmayner/miniconda3/envs/openscope-differentiation-test3/include -I/home/wmayner/miniconda3/envs/openscope-differentiation-test3/include -Wl,-rpath-link,/home/wmayner/miniconda3/envs/openscope-differentiation-test3/lib  -fpic  -march=nocona -mtune=haswell -ftree-vectorize -fPIC -fstack-protector-strong -fno-plt -O2 -ffunction-sections -pipe -isystem /home/wmayner/miniconda3/envs/openscope-differentiation-test3/include -fdebug-prefix-map=/home/conda/feedstock_root/build_artifacts/r-base_1621283253293/work=/usr/local/src/conda/r-base-3.6.3 -fdebug-prefix-map=/home/wmayner/miniconda3/envs/openscope-differentiation-test3=/usr/local/src/conda-prefix  -c mmio.c -o mmio.o\n",
      "x86_64-conda-linux-gnu-cc -I\"/home/wmayner/miniconda3/envs/openscope-differentiation-test3/lib/R/include\" -DNDEBUG -I . -DINTEGERTIME -DPARSER_LP -DBUILDING_FOR_R -DYY_NEVER_INTERACTIVE -DUSRDLL -DCLOCKTIME -DRoleIsExternalInvEngine -DINVERSE_ACTIVE=INVERSE_LUSOL -DINLINE=static -DParanoia  -DNDEBUG -D_FORTIFY_SOURCE=2 -O2 -isystem /home/wmayner/miniconda3/envs/openscope-differentiation-test3/include -I/home/wmayner/miniconda3/envs/openscope-differentiation-test3/include -Wl,-rpath-link,/home/wmayner/miniconda3/envs/openscope-differentiation-test3/lib  -fpic  -march=nocona -mtune=haswell -ftree-vectorize -fPIC -fstack-protector-strong -fno-plt -O2 -ffunction-sections -pipe -isystem /home/wmayner/miniconda3/envs/openscope-differentiation-test3/include -fdebug-prefix-map=/home/conda/feedstock_root/build_artifacts/r-base_1621283253293/work=/usr/local/src/conda/r-base-3.6.3 -fdebug-prefix-map=/home/wmayner/miniconda3/envs/openscope-differentiation-test3=/usr/local/src/conda-prefix  -c myblas.c -o myblas.o\n",
      "x86_64-conda-linux-gnu-cc -I\"/home/wmayner/miniconda3/envs/openscope-differentiation-test3/lib/R/include\" -DNDEBUG -I . -DINTEGERTIME -DPARSER_LP -DBUILDING_FOR_R -DYY_NEVER_INTERACTIVE -DUSRDLL -DCLOCKTIME -DRoleIsExternalInvEngine -DINVERSE_ACTIVE=INVERSE_LUSOL -DINLINE=static -DParanoia  -DNDEBUG -D_FORTIFY_SOURCE=2 -O2 -isystem /home/wmayner/miniconda3/envs/openscope-differentiation-test3/include -I/home/wmayner/miniconda3/envs/openscope-differentiation-test3/include -Wl,-rpath-link,/home/wmayner/miniconda3/envs/openscope-differentiation-test3/lib  -fpic  -march=nocona -mtune=haswell -ftree-vectorize -fPIC -fstack-protector-strong -fno-plt -O2 -ffunction-sections -pipe -isystem /home/wmayner/miniconda3/envs/openscope-differentiation-test3/include -fdebug-prefix-map=/home/conda/feedstock_root/build_artifacts/r-base_1621283253293/work=/usr/local/src/conda/r-base-3.6.3 -fdebug-prefix-map=/home/wmayner/miniconda3/envs/openscope-differentiation-test3=/usr/local/src/conda-prefix  -c sparselib.c -o sparselib.o\n",
      "x86_64-conda-linux-gnu-cc -I\"/home/wmayner/miniconda3/envs/openscope-differentiation-test3/lib/R/include\" -DNDEBUG -I . -DINTEGERTIME -DPARSER_LP -DBUILDING_FOR_R -DYY_NEVER_INTERACTIVE -DUSRDLL -DCLOCKTIME -DRoleIsExternalInvEngine -DINVERSE_ACTIVE=INVERSE_LUSOL -DINLINE=static -DParanoia  -DNDEBUG -D_FORTIFY_SOURCE=2 -O2 -isystem /home/wmayner/miniconda3/envs/openscope-differentiation-test3/include -I/home/wmayner/miniconda3/envs/openscope-differentiation-test3/include -Wl,-rpath-link,/home/wmayner/miniconda3/envs/openscope-differentiation-test3/lib  -fpic  -march=nocona -mtune=haswell -ftree-vectorize -fPIC -fstack-protector-strong -fno-plt -O2 -ffunction-sections -pipe -isystem /home/wmayner/miniconda3/envs/openscope-differentiation-test3/include -fdebug-prefix-map=/home/conda/feedstock_root/build_artifacts/r-base_1621283253293/work=/usr/local/src/conda/r-base-3.6.3 -fdebug-prefix-map=/home/wmayner/miniconda3/envs/openscope-differentiation-test3=/usr/local/src/conda-prefix  -c yacc_read.c -o yacc_read.o\n",
      "x86_64-conda-linux-gnu-cc -shared -L/home/wmayner/miniconda3/envs/openscope-differentiation-test3/lib/R/lib -Wl,-O2 -Wl,--sort-common -Wl,--as-needed -Wl,-z,relro -Wl,-z,now -Wl,--disable-new-dtags -Wl,--gc-sections -Wl,-rpath,/home/wmayner/miniconda3/envs/openscope-differentiation-test3/lib -Wl,-rpath-link,/home/wmayner/miniconda3/envs/openscope-differentiation-test3/lib -L/home/wmayner/miniconda3/envs/openscope-differentiation-test3/lib -Wl,-rpath-link,/home/wmayner/miniconda3/envs/openscope-differentiation-test3/lib -o lpSolve.so colamd.o commonlib.o hbio.o ini.o init.o isfixedvar.o lp_Hash.o lp_LUSOL.o lp_MDO.o lp_MPS.o lp_SOS.o lp_crash.o lp_lib.o lp_matrix.o lp_mipbb.o lp_params.o lp_presolve.o lp_price.o lp_pricePSE.o lp_report.o lp_rlp.o lp_scale.o lp_simplex.o lp_utils.o lp_wlp.o lpslink56.o lusol.o lusolio.o mmio.o myblas.o sparselib.o yacc_read.o -L/home/wmayner/miniconda3/envs/openscope-differentiation-test3/lib/R/lib -lR\n"
     ]
    },
    {
     "name": "stderr",
     "output_type": "stream",
     "text": [
      "installing to /home/wmayner/miniconda3/envs/openscope-differentiation-test3/lib/R/library/00LOCK-lpSolve/00new/lpSolve/libs\n",
      "** R\n",
      "** byte-compile and prepare package for lazy loading\n",
      "** help\n",
      "*** installing help indices\n",
      "** building package indices\n",
      "** testing if installed package can be loaded from temporary location\n",
      "** checking absolute paths in shared objects and dynamic libraries\n",
      "** testing if installed package can be loaded from final location\n",
      "** testing if installed package keeps a record of temporary installation path\n",
      "* DONE (lpSolve)\n",
      "* installing *source* package ‘latticeExtra’ ...\n",
      "** package ‘latticeExtra’ successfully unpacked and MD5 sums checked\n",
      "** using staged installation\n",
      "** R\n",
      "** data\n",
      "*** moving datasets to lazyload DB\n",
      "** inst\n",
      "** byte-compile and prepare package for lazy loading\n",
      "** help\n",
      "*** installing help indices\n",
      "** building package indices\n",
      "** testing if installed package can be loaded from temporary location\n",
      "** testing if installed package can be loaded from final location\n",
      "** testing if installed package keeps a record of temporary installation path\n",
      "* DONE (latticeExtra)\n",
      "* installing *source* package ‘htmlTable’ ...\n",
      "** package ‘htmlTable’ successfully unpacked and MD5 sums checked\n",
      "** using staged installation\n",
      "** R\n",
      "** data\n",
      "** inst\n",
      "** byte-compile and prepare package for lazy loading\n",
      "** help\n",
      "*** installing help indices\n",
      "** building package indices\n",
      "** installing vignettes\n",
      "** testing if installed package can be loaded from temporary location\n",
      "** testing if installed package can be loaded from final location\n",
      "** testing if installed package keeps a record of temporary installation path\n",
      "* DONE (htmlTable)\n",
      "* installing *source* package ‘viridis’ ...\n",
      "** package ‘viridis’ successfully unpacked and MD5 sums checked\n",
      "** using staged installation\n",
      "** R\n",
      "** data\n",
      "*** moving datasets to lazyload DB\n",
      "** inst\n",
      "** byte-compile and prepare package for lazy loading\n",
      "** help\n",
      "*** installing help indices\n",
      "*** copying figures\n",
      "** building package indices\n",
      "** installing vignettes\n",
      "** testing if installed package can be loaded from temporary location\n",
      "** testing if installed package can be loaded from final location\n",
      "** testing if installed package keeps a record of temporary installation path\n",
      "* DONE (viridis)\n",
      "* installing *source* package ‘Hmisc’ ...\n",
      "** package ‘Hmisc’ successfully unpacked and MD5 sums checked\n",
      "** using staged installation\n",
      "** libs\n"
     ]
    },
    {
     "name": "stdout",
     "output_type": "stream",
     "text": [
      "x86_64-conda-linux-gnu-cc -I\"/home/wmayner/miniconda3/envs/openscope-differentiation-test3/lib/R/include\" -DNDEBUG   -DNDEBUG -D_FORTIFY_SOURCE=2 -O2 -isystem /home/wmayner/miniconda3/envs/openscope-differentiation-test3/include -I/home/wmayner/miniconda3/envs/openscope-differentiation-test3/include -Wl,-rpath-link,/home/wmayner/miniconda3/envs/openscope-differentiation-test3/lib  -fpic  -march=nocona -mtune=haswell -ftree-vectorize -fPIC -fstack-protector-strong -fno-plt -O2 -ffunction-sections -pipe -isystem /home/wmayner/miniconda3/envs/openscope-differentiation-test3/include -fdebug-prefix-map=/home/conda/feedstock_root/build_artifacts/r-base_1621283253293/work=/usr/local/src/conda/r-base-3.6.3 -fdebug-prefix-map=/home/wmayner/miniconda3/envs/openscope-differentiation-test3=/usr/local/src/conda-prefix  -c Hmisc.c -o Hmisc.o\n",
      "x86_64-conda-linux-gnu-gfortran -fno-optimize-sibling-calls  -fpic  -fopenmp -march=nocona -mtune=haswell -ftree-vectorize -fPIC -fstack-protector-strong -fno-plt -O2 -ffunction-sections -pipe -isystem /home/wmayner/miniconda3/envs/openscope-differentiation-test3/include -fdebug-prefix-map=/home/conda/feedstock_root/build_artifacts/r-base_1621283253293/work=/usr/local/src/conda/r-base-3.6.3 -fdebug-prefix-map=/home/wmayner/miniconda3/envs/openscope-differentiation-test3=/usr/local/src/conda-prefix  -c cidxcn.f -o cidxcn.o\n",
      "x86_64-conda-linux-gnu-gfortran -fno-optimize-sibling-calls  -fpic  -fopenmp -march=nocona -mtune=haswell -ftree-vectorize -fPIC -fstack-protector-strong -fno-plt -O2 -ffunction-sections -pipe -isystem /home/wmayner/miniconda3/envs/openscope-differentiation-test3/include -fdebug-prefix-map=/home/conda/feedstock_root/build_artifacts/r-base_1621283253293/work=/usr/local/src/conda/r-base-3.6.3 -fdebug-prefix-map=/home/wmayner/miniconda3/envs/openscope-differentiation-test3=/usr/local/src/conda-prefix  -c cidxcp.f -o cidxcp.o\n",
      "x86_64-conda-linux-gnu-gfortran -fno-optimize-sibling-calls  -fpic  -fopenmp -march=nocona -mtune=haswell -ftree-vectorize -fPIC -fstack-protector-strong -fno-plt -O2 -ffunction-sections -pipe -isystem /home/wmayner/miniconda3/envs/openscope-differentiation-test3/include -fdebug-prefix-map=/home/conda/feedstock_root/build_artifacts/r-base_1621283253293/work=/usr/local/src/conda/r-base-3.6.3 -fdebug-prefix-map=/home/wmayner/miniconda3/envs/openscope-differentiation-test3=/usr/local/src/conda-prefix  -c hoeffd.f -o hoeffd.o\n",
      "x86_64-conda-linux-gnu-cc -I\"/home/wmayner/miniconda3/envs/openscope-differentiation-test3/lib/R/include\" -DNDEBUG   -DNDEBUG -D_FORTIFY_SOURCE=2 -O2 -isystem /home/wmayner/miniconda3/envs/openscope-differentiation-test3/include -I/home/wmayner/miniconda3/envs/openscope-differentiation-test3/include -Wl,-rpath-link,/home/wmayner/miniconda3/envs/openscope-differentiation-test3/lib  -fpic  -march=nocona -mtune=haswell -ftree-vectorize -fPIC -fstack-protector-strong -fno-plt -O2 -ffunction-sections -pipe -isystem /home/wmayner/miniconda3/envs/openscope-differentiation-test3/include -fdebug-prefix-map=/home/conda/feedstock_root/build_artifacts/r-base_1621283253293/work=/usr/local/src/conda/r-base-3.6.3 -fdebug-prefix-map=/home/wmayner/miniconda3/envs/openscope-differentiation-test3=/usr/local/src/conda-prefix  -c init.c -o init.o\n",
      "x86_64-conda-linux-gnu-gfortran -fno-optimize-sibling-calls  -fpic  -fopenmp -march=nocona -mtune=haswell -ftree-vectorize -fPIC -fstack-protector-strong -fno-plt -O2 -ffunction-sections -pipe -isystem /home/wmayner/miniconda3/envs/openscope-differentiation-test3/include -fdebug-prefix-map=/home/conda/feedstock_root/build_artifacts/r-base_1621283253293/work=/usr/local/src/conda/r-base-3.6.3 -fdebug-prefix-map=/home/wmayner/miniconda3/envs/openscope-differentiation-test3=/usr/local/src/conda-prefix  -c jacklins.f -o jacklins.o\n",
      "x86_64-conda-linux-gnu-gfortran -fno-optimize-sibling-calls  -fpic  -fopenmp -march=nocona -mtune=haswell -ftree-vectorize -fPIC -fstack-protector-strong -fno-plt -O2 -ffunction-sections -pipe -isystem /home/wmayner/miniconda3/envs/openscope-differentiation-test3/include -fdebug-prefix-map=/home/conda/feedstock_root/build_artifacts/r-base_1621283253293/work=/usr/local/src/conda/r-base-3.6.3 -fdebug-prefix-map=/home/wmayner/miniconda3/envs/openscope-differentiation-test3=/usr/local/src/conda-prefix  -c largrec.f -o largrec.o\n",
      "x86_64-conda-linux-gnu-cc -I\"/home/wmayner/miniconda3/envs/openscope-differentiation-test3/lib/R/include\" -DNDEBUG   -DNDEBUG -D_FORTIFY_SOURCE=2 -O2 -isystem /home/wmayner/miniconda3/envs/openscope-differentiation-test3/include -I/home/wmayner/miniconda3/envs/openscope-differentiation-test3/include -Wl,-rpath-link,/home/wmayner/miniconda3/envs/openscope-differentiation-test3/lib  -fpic  -march=nocona -mtune=haswell -ftree-vectorize -fPIC -fstack-protector-strong -fno-plt -O2 -ffunction-sections -pipe -isystem /home/wmayner/miniconda3/envs/openscope-differentiation-test3/include -fdebug-prefix-map=/home/conda/feedstock_root/build_artifacts/r-base_1621283253293/work=/usr/local/src/conda/r-base-3.6.3 -fdebug-prefix-map=/home/wmayner/miniconda3/envs/openscope-differentiation-test3=/usr/local/src/conda-prefix  -c mChoice.c -o mChoice.o\n",
      "x86_64-conda-linux-gnu-gfortran -fno-optimize-sibling-calls  -fpic  -fopenmp -march=nocona -mtune=haswell -ftree-vectorize -fPIC -fstack-protector-strong -fno-plt -O2 -ffunction-sections -pipe -isystem /home/wmayner/miniconda3/envs/openscope-differentiation-test3/include -fdebug-prefix-map=/home/conda/feedstock_root/build_artifacts/r-base_1621283253293/work=/usr/local/src/conda/r-base-3.6.3 -fdebug-prefix-map=/home/wmayner/miniconda3/envs/openscope-differentiation-test3=/usr/local/src/conda-prefix  -c maxempr.f -o maxempr.o\n",
      "x86_64-conda-linux-gnu-cc -I\"/home/wmayner/miniconda3/envs/openscope-differentiation-test3/lib/R/include\" -DNDEBUG   -DNDEBUG -D_FORTIFY_SOURCE=2 -O2 -isystem /home/wmayner/miniconda3/envs/openscope-differentiation-test3/include -I/home/wmayner/miniconda3/envs/openscope-differentiation-test3/include -Wl,-rpath-link,/home/wmayner/miniconda3/envs/openscope-differentiation-test3/lib  -fpic  -march=nocona -mtune=haswell -ftree-vectorize -fPIC -fstack-protector-strong -fno-plt -O2 -ffunction-sections -pipe -isystem /home/wmayner/miniconda3/envs/openscope-differentiation-test3/include -fdebug-prefix-map=/home/conda/feedstock_root/build_artifacts/r-base_1621283253293/work=/usr/local/src/conda/r-base-3.6.3 -fdebug-prefix-map=/home/wmayner/miniconda3/envs/openscope-differentiation-test3=/usr/local/src/conda-prefix  -c nstr.c -o nstr.o\n",
      "x86_64-conda-linux-gnu-cc -I\"/home/wmayner/miniconda3/envs/openscope-differentiation-test3/lib/R/include\" -DNDEBUG   -DNDEBUG -D_FORTIFY_SOURCE=2 -O2 -isystem /home/wmayner/miniconda3/envs/openscope-differentiation-test3/include -I/home/wmayner/miniconda3/envs/openscope-differentiation-test3/include -Wl,-rpath-link,/home/wmayner/miniconda3/envs/openscope-differentiation-test3/lib  -fpic  -march=nocona -mtune=haswell -ftree-vectorize -fPIC -fstack-protector-strong -fno-plt -O2 -ffunction-sections -pipe -isystem /home/wmayner/miniconda3/envs/openscope-differentiation-test3/include -fdebug-prefix-map=/home/conda/feedstock_root/build_artifacts/r-base_1621283253293/work=/usr/local/src/conda/r-base-3.6.3 -fdebug-prefix-map=/home/wmayner/miniconda3/envs/openscope-differentiation-test3=/usr/local/src/conda-prefix  -c ranksort.c -o ranksort.o\n",
      "x86_64-conda-linux-gnu-gfortran -fno-optimize-sibling-calls  -fpic  -fopenmp -march=nocona -mtune=haswell -ftree-vectorize -fPIC -fstack-protector-strong -fno-plt -O2 -ffunction-sections -pipe -isystem /home/wmayner/miniconda3/envs/openscope-differentiation-test3/include -fdebug-prefix-map=/home/conda/feedstock_root/build_artifacts/r-base_1621283253293/work=/usr/local/src/conda/r-base-3.6.3 -fdebug-prefix-map=/home/wmayner/miniconda3/envs/openscope-differentiation-test3=/usr/local/src/conda-prefix  -c rcorr.f -o rcorr.o\n",
      "x86_64-conda-linux-gnu-cc -I\"/home/wmayner/miniconda3/envs/openscope-differentiation-test3/lib/R/include\" -DNDEBUG   -DNDEBUG -D_FORTIFY_SOURCE=2 -O2 -isystem /home/wmayner/miniconda3/envs/openscope-differentiation-test3/include -I/home/wmayner/miniconda3/envs/openscope-differentiation-test3/include -Wl,-rpath-link,/home/wmayner/miniconda3/envs/openscope-differentiation-test3/lib  -fpic  -march=nocona -mtune=haswell -ftree-vectorize -fPIC -fstack-protector-strong -fno-plt -O2 -ffunction-sections -pipe -isystem /home/wmayner/miniconda3/envs/openscope-differentiation-test3/include -fdebug-prefix-map=/home/conda/feedstock_root/build_artifacts/r-base_1621283253293/work=/usr/local/src/conda/r-base-3.6.3 -fdebug-prefix-map=/home/wmayner/miniconda3/envs/openscope-differentiation-test3=/usr/local/src/conda-prefix  -c string_box.c -o string_box.o\n",
      "x86_64-conda-linux-gnu-gfortran -fno-optimize-sibling-calls  -fpic  -fopenmp -march=nocona -mtune=haswell -ftree-vectorize -fPIC -fstack-protector-strong -fno-plt -O2 -ffunction-sections -pipe -isystem /home/wmayner/miniconda3/envs/openscope-differentiation-test3/include -fdebug-prefix-map=/home/conda/feedstock_root/build_artifacts/r-base_1621283253293/work=/usr/local/src/conda/r-base-3.6.3 -fdebug-prefix-map=/home/wmayner/miniconda3/envs/openscope-differentiation-test3=/usr/local/src/conda-prefix  -c wclosest.f -o wclosest.o\n",
      "x86_64-conda-linux-gnu-cc -shared -L/home/wmayner/miniconda3/envs/openscope-differentiation-test3/lib/R/lib -Wl,-O2 -Wl,--sort-common -Wl,--as-needed -Wl,-z,relro -Wl,-z,now -Wl,--disable-new-dtags -Wl,--gc-sections -Wl,-rpath,/home/wmayner/miniconda3/envs/openscope-differentiation-test3/lib -Wl,-rpath-link,/home/wmayner/miniconda3/envs/openscope-differentiation-test3/lib -L/home/wmayner/miniconda3/envs/openscope-differentiation-test3/lib -Wl,-rpath-link,/home/wmayner/miniconda3/envs/openscope-differentiation-test3/lib -o Hmisc.so Hmisc.o cidxcn.o cidxcp.o hoeffd.o init.o jacklins.o largrec.o mChoice.o maxempr.o nstr.o ranksort.o rcorr.o string_box.o wclosest.o -lgfortran -lm -lgomp -lquadmath -lpthread -L/home/wmayner/miniconda3/envs/openscope-differentiation-test3/lib/R/lib -lR\n"
     ]
    },
    {
     "name": "stderr",
     "output_type": "stream",
     "text": [
      "installing to /home/wmayner/miniconda3/envs/openscope-differentiation-test3/lib/R/library/00LOCK-Hmisc/00new/Hmisc/libs\n",
      "** R\n",
      "** inst\n",
      "** byte-compile and prepare package for lazy loading\n",
      "** help\n",
      "*** installing help indices\n",
      "** building package indices\n",
      "** testing if installed package can be loaded from temporary location\n",
      "** checking absolute paths in shared objects and dynamic libraries\n",
      "** testing if installed package can be loaded from final location\n",
      "** testing if installed package keeps a record of temporary installation path\n",
      "* DONE (Hmisc)\n",
      "* installing *source* package ‘mediation’ ...\n",
      "** package ‘mediation’ successfully unpacked and MD5 sums checked\n",
      "** using staged installation\n",
      "** R\n",
      "** data\n",
      "*** moving datasets to lazyload DB\n",
      "** demo\n",
      "** inst\n",
      "** byte-compile and prepare package for lazy loading\n",
      "** help\n",
      "*** installing help indices\n",
      "** building package indices\n",
      "** installing vignettes\n",
      "** testing if installed package can be loaded from temporary location\n",
      "** testing if installed package can be loaded from final location\n",
      "** testing if installed package keeps a record of temporary installation path\n",
      "* DONE (mediation)\n",
      "R[write to console]: \n",
      "\n",
      "R[write to console]: \n",
      "R[write to console]: The downloaded source packages are in\n",
      "\t‘/tmp/RtmpJAdI1h/downloaded_packages’\n",
      "R[write to console]: \n",
      "R[write to console]: \n",
      "\n",
      "R[write to console]: Updating HTML index of packages in '.Library'\n",
      "\n",
      "R[write to console]: Making 'packages.html' ...\n",
      "R[write to console]:  done\n",
      "\n",
      "R[write to console]: Loading required package: sandwich\n",
      "\n",
      "R[write to console]: mediation: Causal Mediation Analysis\n",
      "Version: 4.5.0\n",
      "\n",
      "\n"
     ]
    }
   ],
   "source": [
    "%%R \n",
    "\n",
    "install.packages('mediation', repos='https://cloud.r-project.org/')\n",
    "library(mediation)"
   ]
  },
  {
   "cell_type": "code",
   "execution_count": 65,
   "id": "360dee84-03e9-42cf-a937-7d213ddc2e39",
   "metadata": {
    "execution": {
     "iopub.execute_input": "2021-12-14T17:40:57.628418Z",
     "iopub.status.busy": "2021-12-14T17:40:57.628031Z",
     "iopub.status.idle": "2021-12-14T17:40:57.638100Z",
     "shell.execute_reply": "2021-12-14T17:40:57.637308Z",
     "shell.execute_reply.started": "2021-12-14T17:40:57.628379Z"
    },
    "tags": []
   },
   "outputs": [],
   "source": [
    "%R set.seed(803317503)"
   ]
  },
  {
   "cell_type": "code",
   "execution_count": 66,
   "id": "bad51437-4dc8-4a12-8dd3-9cadf9e8234a",
   "metadata": {
    "execution": {
     "iopub.execute_input": "2021-12-14T17:40:57.639712Z",
     "iopub.status.busy": "2021-12-14T17:40:57.639350Z",
     "iopub.status.idle": "2021-12-14T17:40:57.653906Z",
     "shell.execute_reply": "2021-12-14T17:40:57.653094Z",
     "shell.execute_reply.started": "2021-12-14T17:40:57.639674Z"
    },
    "tags": []
   },
   "outputs": [
    {
     "data": {
      "text/plain": [
       "(300, 33)"
      ]
     },
     "execution_count": 66,
     "metadata": {},
     "output_type": "execute_result"
    }
   ],
   "source": [
    "data = main.loc[\n",
    "    (main['stimulus_is_scrambled_pair']) &\n",
    "    (main['layer'] == 'L2/3') &\n",
    "    (main['area'].isin(['AL', 'AM']))\n",
    "]\n",
    "data.shape"
   ]
  },
  {
   "cell_type": "code",
   "execution_count": 67,
   "id": "03a47144-bbcd-4b6f-967c-567e8765e451",
   "metadata": {
    "execution": {
     "iopub.execute_input": "2021-12-14T17:40:57.655525Z",
     "iopub.status.busy": "2021-12-14T17:40:57.655171Z",
     "iopub.status.idle": "2021-12-14T17:40:57.660059Z",
     "shell.execute_reply": "2021-12-14T17:40:57.659165Z",
     "shell.execute_reply.started": "2021-12-14T17:40:57.655487Z"
    },
    "tags": []
   },
   "outputs": [],
   "source": [
    "response = '`log(normalized differentiation)`'\n",
    "\n",
    "mediator = 'mean_magnitude'\n",
    "\n",
    "treatment = 'stimulus_type'\n",
    "\n",
    "covariates = 'normalized_pupil_diameter + locomotion'"
   ]
  },
  {
   "cell_type": "code",
   "execution_count": 68,
   "id": "8bcd22d8-8542-40ef-af9a-71c4cb40e28f",
   "metadata": {
    "execution": {
     "iopub.execute_input": "2021-12-14T17:40:57.661613Z",
     "iopub.status.busy": "2021-12-14T17:40:57.661284Z",
     "iopub.status.idle": "2021-12-14T17:40:57.666769Z",
     "shell.execute_reply": "2021-12-14T17:40:57.665996Z",
     "shell.execute_reply.started": "2021-12-14T17:40:57.661578Z"
    },
    "tags": []
   },
   "outputs": [
    {
     "name": "stdout",
     "output_type": "stream",
     "text": [
      "mean_magnitude ~ 1 + stimulus_type + normalized_pupil_diameter + locomotion + (1 | session)\n",
      "\n",
      "`log(normalized differentiation)` ~ 1 + mean_magnitude + stimulus_type + normalized_pupil_diameter + locomotion + (1 | session)\n"
     ]
    }
   ],
   "source": [
    "mediator_formula = f\"{mediator} ~ 1 + {treatment} + {covariates} + (1 | session)\"\n",
    "outcome_formula = f\"{response} ~ 1 + {mediator} + {treatment} + {covariates} + (1 | session)\"\n",
    "print(mediator_formula, end='\\n\\n')\n",
    "print(outcome_formula)"
   ]
  },
  {
   "cell_type": "code",
   "execution_count": 69,
   "id": "b106d24a-65a3-4824-9767-39c58b6cd73c",
   "metadata": {
    "execution": {
     "iopub.execute_input": "2021-12-14T17:40:57.668243Z",
     "iopub.status.busy": "2021-12-14T17:40:57.667922Z",
     "iopub.status.idle": "2021-12-14T17:40:58.158251Z",
     "shell.execute_reply": "2021-12-14T17:40:58.157379Z",
     "shell.execute_reply.started": "2021-12-14T17:40:57.668209Z"
    },
    "tags": []
   },
   "outputs": [],
   "source": [
    "%%R -i data -i mediator_formula -i outcome_formula\n",
    "\n",
    "mediator_model = lmer(mediator_formula, data=data, REML=FALSE)\n",
    "outcome_model = lmer(outcome_formula, data=data, REML=FALSE)"
   ]
  },
  {
   "cell_type": "code",
   "execution_count": 70,
   "id": "c97d599d-41c1-456b-a8c9-4ef423b4d94a",
   "metadata": {
    "execution": {
     "iopub.execute_input": "2021-12-14T17:40:58.159771Z",
     "iopub.status.busy": "2021-12-14T17:40:58.159455Z",
     "iopub.status.idle": "2021-12-14T17:41:07.703679Z",
     "shell.execute_reply": "2021-12-14T17:41:07.702654Z",
     "shell.execute_reply.started": "2021-12-14T17:40:58.159737Z"
    },
    "tags": []
   },
   "outputs": [
    {
     "name": "stdout",
     "output_type": "stream",
     "text": [
      "\n",
      "Causal Mediation Analysis \n",
      "\n",
      "Quasi-Bayesian Confidence Intervals\n",
      "\n",
      "Mediator Groups: session \n",
      "\n",
      "Outcome Groups: session \n",
      "\n",
      "Output Based on Overall Averages Across Groups \n",
      "\n",
      "               Estimate 95% CI Lower 95% CI Upper p-value    \n",
      "ACME             0.1351       0.0784         0.20  <2e-16 ***\n",
      "ADE              0.0951       0.0400         0.15  <2e-16 ***\n",
      "Total Effect     0.2302       0.1516         0.31  <2e-16 ***\n",
      "Prop. Mediated   0.5898       0.3963         0.80  <2e-16 ***\n",
      "---\n",
      "Signif. codes:  0 ‘***’ 0.001 ‘**’ 0.01 ‘*’ 0.05 ‘.’ 0.1 ‘ ’ 1\n",
      "\n",
      "Sample Size Used: 300 \n",
      "\n",
      "\n",
      "Simulations: 1000 \n",
      "\n"
     ]
    }
   ],
   "source": [
    "%%R -i treatment -i mediator\n",
    "med = mediate(mediator_model, outcome_model, treat=treatment, mediator=mediator, robustSE=TRUE)\n",
    "print(summary(med))"
   ]
  }
 ],
 "metadata": {
  "kernelspec": {
   "display_name": "Python 3 (ipykernel)",
   "language": "python",
   "name": "python3"
  },
  "language_info": {
   "codemirror_mode": {
    "name": "ipython",
    "version": 3
   },
   "file_extension": ".py",
   "mimetype": "text/x-python",
   "name": "python",
   "nbconvert_exporter": "python",
   "pygments_lexer": "ipython3",
   "version": "3.8.8"
  },
  "widgets": {
   "application/vnd.jupyter.widget-state+json": {
    "state": {
     "030de9f299f94b448e40a0e4be7e4916": {
      "model_module": "@jupyter-widgets/controls",
      "model_module_version": "1.5.0",
      "model_name": "HTMLModel",
      "state": {
       "layout": "IPY_MODEL_702b30edfb4e40c1b73acbf2f0ed54ae",
       "style": "IPY_MODEL_5b74c9ea184d4887a44acc42e766ce9d",
       "value": " 108/108 [02:47&lt;00:00,  1.26s/it]"
      }
     },
     "0c046d62e13c41408f66e22d428fe37f": {
      "model_module": "@jupyter-widgets/controls",
      "model_module_version": "1.5.0",
      "model_name": "DescriptionStyleModel",
      "state": {
       "description_width": ""
      }
     },
     "21711710bcd04cf7b372f8c9948d84dd": {
      "model_module": "@jupyter-widgets/controls",
      "model_module_version": "1.5.0",
      "model_name": "HTMLModel",
      "state": {
       "layout": "IPY_MODEL_318b2663ef754e4789f4d2f6757f5afd",
       "style": "IPY_MODEL_8a8a985a8e4f4eaeab9c1a211ed1e520",
       "value": " 108/108 [02:21&lt;00:00,  1.37s/it]"
      }
     },
     "2a168861a1e643eab2e27ea8d7c2fe51": {
      "model_module": "@jupyter-widgets/base",
      "model_module_version": "1.2.0",
      "model_name": "LayoutModel",
      "state": {}
     },
     "2c178c46ad804001b66b303cb5a5f962": {
      "model_module": "@jupyter-widgets/controls",
      "model_module_version": "1.5.0",
      "model_name": "FloatProgressModel",
      "state": {
       "bar_style": "success",
       "layout": "IPY_MODEL_887f024b7d8a4c6cbb308edb0dce1206",
       "max": 108,
       "style": "IPY_MODEL_aa3e02aa5c9a4e41a045821c636a5fd0",
       "value": 108
      }
     },
     "2c2cc394492748e4afa96aa70ab4f2fe": {
      "model_module": "@jupyter-widgets/base",
      "model_module_version": "1.2.0",
      "model_name": "LayoutModel",
      "state": {}
     },
     "318b2663ef754e4789f4d2f6757f5afd": {
      "model_module": "@jupyter-widgets/base",
      "model_module_version": "1.2.0",
      "model_name": "LayoutModel",
      "state": {}
     },
     "425fc48e27384054abfc0fdb5d66aae7": {
      "model_module": "@jupyter-widgets/controls",
      "model_module_version": "1.5.0",
      "model_name": "HTMLModel",
      "state": {
       "layout": "IPY_MODEL_2a168861a1e643eab2e27ea8d7c2fe51",
       "style": "IPY_MODEL_a9db33cbdab8475382cbc5cbc6696310",
       "value": "100%"
      }
     },
     "453bc61ab58b40cbacc37272ba0d4b5e": {
      "model_module": "@jupyter-widgets/controls",
      "model_module_version": "1.5.0",
      "model_name": "HBoxModel",
      "state": {
       "children": [
        "IPY_MODEL_425fc48e27384054abfc0fdb5d66aae7",
        "IPY_MODEL_2c178c46ad804001b66b303cb5a5f962",
        "IPY_MODEL_030de9f299f94b448e40a0e4be7e4916"
       ],
       "layout": "IPY_MODEL_8bb20f7b95a440afacec72d2348aada8"
      }
     },
     "5b74c9ea184d4887a44acc42e766ce9d": {
      "model_module": "@jupyter-widgets/controls",
      "model_module_version": "1.5.0",
      "model_name": "DescriptionStyleModel",
      "state": {
       "description_width": ""
      }
     },
     "69cfa0761f4340eea1b89fdba71a3a7a": {
      "model_module": "@jupyter-widgets/controls",
      "model_module_version": "1.5.0",
      "model_name": "FloatProgressModel",
      "state": {
       "bar_style": "success",
       "layout": "IPY_MODEL_2c2cc394492748e4afa96aa70ab4f2fe",
       "max": 108,
       "style": "IPY_MODEL_e4e73c9cf61d48498b2d760fc703ac1a",
       "value": 108
      }
     },
     "702b30edfb4e40c1b73acbf2f0ed54ae": {
      "model_module": "@jupyter-widgets/base",
      "model_module_version": "1.2.0",
      "model_name": "LayoutModel",
      "state": {}
     },
     "807cfb9eaadb45a7ba07222bea87a975": {
      "model_module": "@jupyter-widgets/base",
      "model_module_version": "1.2.0",
      "model_name": "LayoutModel",
      "state": {}
     },
     "887f024b7d8a4c6cbb308edb0dce1206": {
      "model_module": "@jupyter-widgets/base",
      "model_module_version": "1.2.0",
      "model_name": "LayoutModel",
      "state": {}
     },
     "8a8a985a8e4f4eaeab9c1a211ed1e520": {
      "model_module": "@jupyter-widgets/controls",
      "model_module_version": "1.5.0",
      "model_name": "DescriptionStyleModel",
      "state": {
       "description_width": ""
      }
     },
     "8b522eb9baf74be38cd285f85ecfb9f3": {
      "model_module": "@jupyter-widgets/controls",
      "model_module_version": "1.5.0",
      "model_name": "HBoxModel",
      "state": {
       "children": [
        "IPY_MODEL_ae422e60fa7545f79b2d769f917e9a89",
        "IPY_MODEL_69cfa0761f4340eea1b89fdba71a3a7a",
        "IPY_MODEL_21711710bcd04cf7b372f8c9948d84dd"
       ],
       "layout": "IPY_MODEL_e123c7dd130d41e1b5cd10a385b5b978"
      }
     },
     "8bb20f7b95a440afacec72d2348aada8": {
      "model_module": "@jupyter-widgets/base",
      "model_module_version": "1.2.0",
      "model_name": "LayoutModel",
      "state": {}
     },
     "a9db33cbdab8475382cbc5cbc6696310": {
      "model_module": "@jupyter-widgets/controls",
      "model_module_version": "1.5.0",
      "model_name": "DescriptionStyleModel",
      "state": {
       "description_width": ""
      }
     },
     "aa3e02aa5c9a4e41a045821c636a5fd0": {
      "model_module": "@jupyter-widgets/controls",
      "model_module_version": "1.5.0",
      "model_name": "ProgressStyleModel",
      "state": {
       "description_width": ""
      }
     },
     "ae422e60fa7545f79b2d769f917e9a89": {
      "model_module": "@jupyter-widgets/controls",
      "model_module_version": "1.5.0",
      "model_name": "HTMLModel",
      "state": {
       "layout": "IPY_MODEL_807cfb9eaadb45a7ba07222bea87a975",
       "style": "IPY_MODEL_0c046d62e13c41408f66e22d428fe37f",
       "value": "100%"
      }
     },
     "e123c7dd130d41e1b5cd10a385b5b978": {
      "model_module": "@jupyter-widgets/base",
      "model_module_version": "1.2.0",
      "model_name": "LayoutModel",
      "state": {}
     },
     "e4e73c9cf61d48498b2d760fc703ac1a": {
      "model_module": "@jupyter-widgets/controls",
      "model_module_version": "1.5.0",
      "model_name": "ProgressStyleModel",
      "state": {
       "description_width": ""
      }
     }
    },
    "version_major": 2,
    "version_minor": 0
   }
  }
 },
 "nbformat": 4,
 "nbformat_minor": 5
}
