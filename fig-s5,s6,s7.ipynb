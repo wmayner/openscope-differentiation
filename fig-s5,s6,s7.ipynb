{
 "cells": [
  {
   "cell_type": "markdown",
   "id": "united-graduation",
   "metadata": {},
   "source": [
    "# Figures S5, S6 & S7\n",
    "\n",
    "Sensitivity analysis"
   ]
  },
  {
   "cell_type": "code",
   "execution_count": 1,
   "id": "sorted-knife",
   "metadata": {},
   "outputs": [],
   "source": [
    "from pathlib import Path\n",
    "\n",
    "import numpy as np\n",
    "import pandas as pd\n",
    "import seaborn as sb\n",
    "from matplotlib import pyplot as plt\n",
    "from tqdm.auto import tqdm\n",
    "\n",
    "import analysis"
   ]
  },
  {
   "cell_type": "code",
   "execution_count": 2,
   "id": "union-bracelet",
   "metadata": {},
   "outputs": [],
   "source": [
    "# Register tqdm with pandas for `progress_apply`\n",
    "tqdm.pandas()"
   ]
  },
  {
   "cell_type": "code",
   "execution_count": 3,
   "id": "subjective-contributor",
   "metadata": {},
   "outputs": [],
   "source": [
    "OUTPUT_DIR = Path('figures/fig-s5,s6,s7')"
   ]
  },
  {
   "cell_type": "code",
   "execution_count": 4,
   "id": "defined-dress",
   "metadata": {},
   "outputs": [],
   "source": [
    "# Significance threshold\n",
    "ALPHA = 0.05"
   ]
  },
  {
   "cell_type": "markdown",
   "id": "grateful-wings",
   "metadata": {},
   "source": [
    "### Load data"
   ]
  },
  {
   "cell_type": "code",
   "execution_count": 5,
   "id": "worse-lying",
   "metadata": {},
   "outputs": [],
   "source": [
    "stats = pd.read_parquet(\"results/stats.parquet\").reset_index()"
   ]
  },
  {
   "cell_type": "code",
   "execution_count": 6,
   "id": "special-exhibit",
   "metadata": {},
   "outputs": [],
   "source": [
    "# Rename and order metrics\n",
    "metric_names = {\n",
    "    \"cityblock\": \"Manhattan\",\n",
    "    \"euclidean\": \"Euclidean\",\n",
    "    \"chebyshev\": \"Chebyshev\",\n",
    "}\n",
    "stats[\"metric\"] = stats[\"metric\"].map(metric_names)\n",
    "\n",
    "assert len(stats[\"metric\"].unique()) == len(metric_names)\n",
    "assert np.nan not in stats[\"metric\"].unique()\n",
    "\n",
    "stats[\"metric\"] = pd.Categorical(\n",
    "    stats[\"metric\"], categories=metric_names.values(), ordered=True\n",
    ")"
   ]
  },
  {
   "cell_type": "code",
   "execution_count": 7,
   "id": "acquired-tsunami",
   "metadata": {},
   "outputs": [],
   "source": [
    "# Parameters to iterate over when plotting\n",
    "GROUPING_PARAMETERS = [\n",
    "    \"window\",\n",
    "    \"window_param\",\n",
    "    \"overlap\",\n",
    "    \"log_frequency\",\n",
    "]"
   ]
  },
  {
   "cell_type": "markdown",
   "id": "public-volleyball",
   "metadata": {},
   "source": [
    "### Plotting functions"
   ]
  },
  {
   "cell_type": "code",
   "execution_count": 8,
   "id": "wicked-european",
   "metadata": {},
   "outputs": [],
   "source": [
    "x = \"state_length\"\n",
    "y = \"metric\""
   ]
  },
  {
   "cell_type": "code",
   "execution_count": 9,
   "id": "pacific-requirement",
   "metadata": {},
   "outputs": [],
   "source": [
    "width = 5\n",
    "height = 3\n",
    "scale = 0.8"
   ]
  },
  {
   "cell_type": "code",
   "execution_count": 10,
   "id": "terminal-terrorism",
   "metadata": {},
   "outputs": [],
   "source": [
    "def plot_interaction(data):\n",
    "    params = dict(zip(GROUPING_PARAMETERS, data.name))\n",
    "    \n",
    "    fig = plt.figure(figsize=(6.4, 4.8))\n",
    "    ax = analysis.heatmap(\n",
    "        data=data,\n",
    "        x=x,\n",
    "        y=y,\n",
    "        value=\"p.value\",\n",
    "        annot_kws=dict(fontsize=13),\n",
    "        cmap=sb.color_palette(\"mako\", as_cmap=True),\n",
    "        cbar=False,\n",
    "    )\n",
    "    ax.get_xaxis().set_visible(False)\n",
    "    ax.set_ylabel(\"\")\n",
    "    fig.tight_layout()\n",
    "    analysis.set_ax_size(\n",
    "        width * scale, height * scale, fig=fig, ax=ax, aspect=True,\n",
    "    )\n",
    "\n",
    "    filename = analysis.make_filename(params, prefix=f\"sensitivity_analysis\", suffix=interaction)\n",
    "    path = OUTPUT_DIR / filename\n",
    "    analysis.savefig(\n",
    "        fig,\n",
    "        str(path) + \".svg\",\n",
    "        facecolor=None,\n",
    "        edgecolor=None,\n",
    "    )\n",
    "    print(path)\n",
    "\n",
    "    # Collect combinations that are not below significance threshold\n",
    "    # so we can omit them in the posthoc tests\n",
    "    insignificant = data.loc[data[\"p.value\"] >= ALPHA, [x, y]]\n",
    "    return insignificant\n",
    "\n",
    "\n",
    "def plot_interaction_sensitivity(interaction):\n",
    "    insignificant = (\n",
    "        stats.loc[\n",
    "            (stats[\"interaction\"] == interaction)\n",
    "            & (stats[\"test_type\"] == \"likelihood_ratio\")\n",
    "            & (stats[\"term\"] == \"model\")\n",
    "        ]\n",
    "        .groupby(by=GROUPING_PARAMETERS, dropna=False)\n",
    "        .progress_apply(plot_interaction)\n",
    "    )\n",
    "    insignificant.index = insignificant.index.droplevel(level=None)\n",
    "    insignificant[\"insignificant_likelihood_ratio\"] = True\n",
    "    return insignificant"
   ]
  },
  {
   "cell_type": "code",
   "execution_count": 11,
   "id": "dedicated-netscape",
   "metadata": {},
   "outputs": [],
   "source": [
    "positions = dict(\n",
    "    layer=dict(\n",
    "        suptitle_x=0.2,\n",
    "        suptitle_y=0.71,\n",
    "        hspace=-0.83,\n",
    "    ),\n",
    "    area=dict(\n",
    "        suptitle_x=0.2,\n",
    "        suptitle_y=0.70,\n",
    "        hspace=-0.89,\n",
    "    ),\n",
    ")"
   ]
  },
  {
   "cell_type": "code",
   "execution_count": 12,
   "id": "abstract-taste",
   "metadata": {},
   "outputs": [],
   "source": [
    "def plot_posthoc(data, name=None):\n",
    "    if name is None:\n",
    "        name = data.name\n",
    "    params = dict(zip(GROUPING_PARAMETERS, name))\n",
    "\n",
    "    g = sb.FacetGrid(\n",
    "        data=data,\n",
    "        row=interaction,\n",
    "        margin_titles=True,\n",
    "        height=6,\n",
    "        aspect=1,\n",
    "        sharex=True,\n",
    "        sharey=True,\n",
    "    )\n",
    "\n",
    "    g.map_dataframe(\n",
    "        analysis.heatmap,\n",
    "        x=x,\n",
    "        y=y,\n",
    "        value=\"p.value\",\n",
    "        mask=\"insignificant_likelihood_ratio\",\n",
    "        cmap=sb.color_palette(\"mako\", as_cmap=True),\n",
    "        annot_kws=dict(fontsize=13),\n",
    "        cbar=False,\n",
    "    )\n",
    "\n",
    "    for ax in g.axes.flat:\n",
    "        ax.set_facecolor(\"#ddd\")\n",
    "    for ax in g.axes.flat[:-1]:\n",
    "        ax.get_xaxis().set_visible(False)\n",
    "    g.fig.subplots_adjust(hspace=positions[interaction][\"hspace\"], wspace=0.0)\n",
    "    g.fig.tight_layout()\n",
    "    for ax in g.axes.flat:\n",
    "        analysis.set_ax_size(\n",
    "            width * scale, height * scale, fig=g.fig, ax=ax, aspect=True\n",
    "        )\n",
    "    g.axes.flat[-1].set_xlabel(x.replace(\"_\", \" \") + \" (s)\")\n",
    "    g.set_titles(row_template=\"{row_name}\", col_template=\"{col_name}\")\n",
    "\n",
    "    filename = analysis.make_filename(\n",
    "        params, prefix=f\"sensitivity_analysis\", suffix=f\"{interaction}__posthoc\"\n",
    "    )\n",
    "    path = OUTPUT_DIR / filename\n",
    "    analysis.savefig(\n",
    "        g.fig,\n",
    "        str(path) + \".svg\",\n",
    "        facecolor=None,\n",
    "        edgecolor=None,\n",
    "    )\n",
    "    print(path)\n",
    "\n",
    "    return g\n",
    "\n",
    "\n",
    "def plot_posthoc_sensitivity(interaction, insignificant):\n",
    "    (\n",
    "        stats.loc[\n",
    "            (stats[\"interaction\"] == interaction) & (stats[\"test_type\"] == \"posthoc\")\n",
    "        ]\n",
    "        .merge(insignificant, on=GROUPING_PARAMETERS + [x, y], how=\"left\")\n",
    "        .groupby(by=GROUPING_PARAMETERS, dropna=False)\n",
    "        .progress_apply(plot_posthoc)\n",
    "    )"
   ]
  },
  {
   "cell_type": "markdown",
   "id": "introductory-instrumentation",
   "metadata": {},
   "source": [
    "# Plot"
   ]
  },
  {
   "cell_type": "code",
   "execution_count": 13,
   "id": "universal-speaking",
   "metadata": {},
   "outputs": [
    {
     "data": {
      "application/vnd.jupyter.widget-view+json": {
       "model_id": "c13eadee1b6940b59206dfd514f13b14",
       "version_major": 2,
       "version_minor": 0
      },
      "text/plain": [
       "  0%|          | 0/2 [00:00<?, ?it/s]"
      ]
     },
     "metadata": {},
     "output_type": "display_data"
    },
    {
     "data": {
      "application/vnd.jupyter.widget-view+json": {
       "model_id": "0a53733b1a294954a1e2a4e9a0e504f9",
       "version_major": 2,
       "version_minor": 0
      },
      "text/plain": [
       "  0%|          | 0/6 [00:00<?, ?it/s]"
      ]
     },
     "metadata": {},
     "output_type": "display_data"
    },
    {
     "name": "stdout",
     "output_type": "stream",
     "text": [
      "figures/fig-s5,s6,s7/sensitivity_analysis__window-kaiser__window_param-14.0__overlap-0.5__log_frequency-False__area\n",
      "figures/fig-s5,s6,s7/sensitivity_analysis__window-kaiser__window_param-14.0__overlap-0.5__log_frequency-True__area\n",
      "figures/fig-s5,s6,s7/sensitivity_analysis__window-rectangular__window_param-nan__overlap-0.0__log_frequency-False__area\n",
      "figures/fig-s5,s6,s7/sensitivity_analysis__window-rectangular__window_param-nan__overlap-0.0__log_frequency-True__area\n",
      "figures/fig-s5,s6,s7/sensitivity_analysis__window-tukey__window_param-0.25__overlap-0.125__log_frequency-False__area\n",
      "figures/fig-s5,s6,s7/sensitivity_analysis__window-tukey__window_param-0.25__overlap-0.125__log_frequency-True__area\n"
     ]
    },
    {
     "data": {
      "application/vnd.jupyter.widget-view+json": {
       "model_id": "75ca0953689b4a49965eeb3de3ae33c5",
       "version_major": 2,
       "version_minor": 0
      },
      "text/plain": [
       "  0%|          | 0/6 [00:00<?, ?it/s]"
      ]
     },
     "metadata": {},
     "output_type": "display_data"
    },
    {
     "name": "stdout",
     "output_type": "stream",
     "text": [
      "figures/fig-s5,s6,s7/sensitivity_analysis__window-kaiser__window_param-14.0__overlap-0.5__log_frequency-False__area__posthoc\n",
      "figures/fig-s5,s6,s7/sensitivity_analysis__window-kaiser__window_param-14.0__overlap-0.5__log_frequency-True__area__posthoc\n",
      "figures/fig-s5,s6,s7/sensitivity_analysis__window-rectangular__window_param-nan__overlap-0.0__log_frequency-False__area__posthoc\n",
      "figures/fig-s5,s6,s7/sensitivity_analysis__window-rectangular__window_param-nan__overlap-0.0__log_frequency-True__area__posthoc\n",
      "figures/fig-s5,s6,s7/sensitivity_analysis__window-tukey__window_param-0.25__overlap-0.125__log_frequency-False__area__posthoc\n",
      "figures/fig-s5,s6,s7/sensitivity_analysis__window-tukey__window_param-0.25__overlap-0.125__log_frequency-True__area__posthoc\n"
     ]
    },
    {
     "data": {
      "application/vnd.jupyter.widget-view+json": {
       "model_id": "b228a1a76e594cc98141fdb2fd4ff7cd",
       "version_major": 2,
       "version_minor": 0
      },
      "text/plain": [
       "  0%|          | 0/6 [00:00<?, ?it/s]"
      ]
     },
     "metadata": {},
     "output_type": "display_data"
    },
    {
     "name": "stdout",
     "output_type": "stream",
     "text": [
      "figures/fig-s5,s6,s7/sensitivity_analysis__window-kaiser__window_param-14.0__overlap-0.5__log_frequency-False__layer\n",
      "figures/fig-s5,s6,s7/sensitivity_analysis__window-kaiser__window_param-14.0__overlap-0.5__log_frequency-True__layer\n",
      "figures/fig-s5,s6,s7/sensitivity_analysis__window-rectangular__window_param-nan__overlap-0.0__log_frequency-False__layer\n",
      "figures/fig-s5,s6,s7/sensitivity_analysis__window-rectangular__window_param-nan__overlap-0.0__log_frequency-True__layer\n",
      "figures/fig-s5,s6,s7/sensitivity_analysis__window-tukey__window_param-0.25__overlap-0.125__log_frequency-False__layer\n",
      "figures/fig-s5,s6,s7/sensitivity_analysis__window-tukey__window_param-0.25__overlap-0.125__log_frequency-True__layer\n"
     ]
    },
    {
     "data": {
      "application/vnd.jupyter.widget-view+json": {
       "model_id": "c67e1bfff8104842b0eb5ceb1df378db",
       "version_major": 2,
       "version_minor": 0
      },
      "text/plain": [
       "  0%|          | 0/6 [00:00<?, ?it/s]"
      ]
     },
     "metadata": {},
     "output_type": "display_data"
    },
    {
     "name": "stdout",
     "output_type": "stream",
     "text": [
      "figures/fig-s5,s6,s7/sensitivity_analysis__window-kaiser__window_param-14.0__overlap-0.5__log_frequency-False__layer__posthoc\n",
      "figures/fig-s5,s6,s7/sensitivity_analysis__window-kaiser__window_param-14.0__overlap-0.5__log_frequency-True__layer__posthoc\n",
      "figures/fig-s5,s6,s7/sensitivity_analysis__window-rectangular__window_param-nan__overlap-0.0__log_frequency-False__layer__posthoc\n",
      "figures/fig-s5,s6,s7/sensitivity_analysis__window-rectangular__window_param-nan__overlap-0.0__log_frequency-True__layer__posthoc\n",
      "figures/fig-s5,s6,s7/sensitivity_analysis__window-tukey__window_param-0.25__overlap-0.125__log_frequency-False__layer__posthoc\n",
      "figures/fig-s5,s6,s7/sensitivity_analysis__window-tukey__window_param-0.25__overlap-0.125__log_frequency-True__layer__posthoc\n"
     ]
    }
   ],
   "source": [
    "for interaction in tqdm([\"area\", \"layer\"]):\n",
    "    insignificant = plot_interaction_sensitivity(interaction)\n",
    "    plot_posthoc_sensitivity(interaction, insignificant)\n",
    "    plt.close(\"all\")"
   ]
  }
 ],
 "metadata": {
  "kernelspec": {
   "display_name": "Python 3",
   "language": "python",
   "name": "python3"
  },
  "language_info": {
   "codemirror_mode": {
    "name": "ipython",
    "version": 3
   },
   "file_extension": ".py",
   "mimetype": "text/x-python",
   "name": "python",
   "nbconvert_exporter": "python",
   "pygments_lexer": "ipython3",
   "version": "3.8.8"
  },
  "widgets": {
   "application/vnd.jupyter.widget-state+json": {
    "state": {
     "042998250f3f4340ac7545f3ea765e54": {
      "model_module": "@jupyter-widgets/controls",
      "model_module_version": "1.5.0",
      "model_name": "HTMLModel",
      "state": {
       "layout": "IPY_MODEL_5ae0b72553c143b5ad82d525a83a4cd9",
       "style": "IPY_MODEL_5bf0237111074517bc51beaef3e0dc6b",
       "value": " 6/6 [00:03&lt;00:00,  2.01it/s]"
      }
     },
     "080c4c93fdea4900b213f58a3c3a8a9f": {
      "model_module": "@jupyter-widgets/controls",
      "model_module_version": "1.5.0",
      "model_name": "HTMLModel",
      "state": {
       "layout": "IPY_MODEL_6ee3dd37555d4ce3aaf5939d68f668b7",
       "style": "IPY_MODEL_573f68385bd049a8b8eb749ddc5ee98d",
       "value": " 6/6 [00:00&lt;00:00,  9.94it/s]"
      }
     },
     "0a53733b1a294954a1e2a4e9a0e504f9": {
      "model_module": "@jupyter-widgets/controls",
      "model_module_version": "1.5.0",
      "model_name": "HBoxModel",
      "state": {
       "children": [
        "IPY_MODEL_b8da1b02dffd46c381f3d626c3d77a99",
        "IPY_MODEL_1be591c3e90141ada21f168ca256ecd6",
        "IPY_MODEL_080c4c93fdea4900b213f58a3c3a8a9f"
       ],
       "layout": "IPY_MODEL_c1e81729b724465286f9265034e745c4"
      }
     },
     "0ab60914be5c424b84f5e7318f37b0d6": {
      "model_module": "@jupyter-widgets/base",
      "model_module_version": "1.2.0",
      "model_name": "LayoutModel",
      "state": {}
     },
     "104dda3f95774eeead239140367be894": {
      "model_module": "@jupyter-widgets/base",
      "model_module_version": "1.2.0",
      "model_name": "LayoutModel",
      "state": {}
     },
     "136ab7208ec240d99df84ed9888b6129": {
      "model_module": "@jupyter-widgets/base",
      "model_module_version": "1.2.0",
      "model_name": "LayoutModel",
      "state": {}
     },
     "138f2e86e5aa4b85b71fa5a88484c8f6": {
      "model_module": "@jupyter-widgets/controls",
      "model_module_version": "1.5.0",
      "model_name": "ProgressStyleModel",
      "state": {
       "description_width": ""
      }
     },
     "19e914a0821347d08066e531838e2852": {
      "model_module": "@jupyter-widgets/base",
      "model_module_version": "1.2.0",
      "model_name": "LayoutModel",
      "state": {}
     },
     "1be591c3e90141ada21f168ca256ecd6": {
      "model_module": "@jupyter-widgets/controls",
      "model_module_version": "1.5.0",
      "model_name": "FloatProgressModel",
      "state": {
       "bar_style": "success",
       "layout": "IPY_MODEL_77973793a5b5451fa74b04c388576929",
       "max": 6,
       "style": "IPY_MODEL_138f2e86e5aa4b85b71fa5a88484c8f6",
       "value": 6
      }
     },
     "1fb3058051d34e5d891d6f10fdd9ed2c": {
      "model_module": "@jupyter-widgets/base",
      "model_module_version": "1.2.0",
      "model_name": "LayoutModel",
      "state": {}
     },
     "22bef61dec61477890261878ec29ee79": {
      "model_module": "@jupyter-widgets/controls",
      "model_module_version": "1.5.0",
      "model_name": "HTMLModel",
      "state": {
       "layout": "IPY_MODEL_69592a823d8c47999bd7001a3848e060",
       "style": "IPY_MODEL_9bb7fb3b73384b658d51a56ae5e305a9",
       "value": " 6/6 [00:06&lt;00:00,  1.07it/s]"
      }
     },
     "2b7e967172cf473b90d6911ab53b7e20": {
      "model_module": "@jupyter-widgets/controls",
      "model_module_version": "1.5.0",
      "model_name": "DescriptionStyleModel",
      "state": {
       "description_width": ""
      }
     },
     "2f2967fac05d488fbdc742344ff128a5": {
      "model_module": "@jupyter-widgets/base",
      "model_module_version": "1.2.0",
      "model_name": "LayoutModel",
      "state": {}
     },
     "2f691cd9c42b46a09f51486116656c25": {
      "model_module": "@jupyter-widgets/base",
      "model_module_version": "1.2.0",
      "model_name": "LayoutModel",
      "state": {}
     },
     "37f9ef03899b44f092712577fe31d75c": {
      "model_module": "@jupyter-widgets/controls",
      "model_module_version": "1.5.0",
      "model_name": "ProgressStyleModel",
      "state": {
       "description_width": ""
      }
     },
     "4a25c71673024ab89d8a9a2eba835b2b": {
      "model_module": "@jupyter-widgets/controls",
      "model_module_version": "1.5.0",
      "model_name": "DescriptionStyleModel",
      "state": {
       "description_width": ""
      }
     },
     "505d5bb531714a9294264c3fef2b4fc2": {
      "model_module": "@jupyter-widgets/base",
      "model_module_version": "1.2.0",
      "model_name": "LayoutModel",
      "state": {}
     },
     "50ba7ce0bba2412bb9875d8d084382ea": {
      "model_module": "@jupyter-widgets/controls",
      "model_module_version": "1.5.0",
      "model_name": "HTMLModel",
      "state": {
       "layout": "IPY_MODEL_c48d8bd0fdc84f4d9550d23d57d97146",
       "style": "IPY_MODEL_fb72d223a9a846bb93530bf9936b894e",
       "value": "100%"
      }
     },
     "55c1298dffb74e758b29f1c7b9720abd": {
      "model_module": "@jupyter-widgets/controls",
      "model_module_version": "1.5.0",
      "model_name": "ProgressStyleModel",
      "state": {
       "description_width": ""
      }
     },
     "573f68385bd049a8b8eb749ddc5ee98d": {
      "model_module": "@jupyter-widgets/controls",
      "model_module_version": "1.5.0",
      "model_name": "DescriptionStyleModel",
      "state": {
       "description_width": ""
      }
     },
     "59d6ed2d6a58446db57b66964285784e": {
      "model_module": "@jupyter-widgets/controls",
      "model_module_version": "1.5.0",
      "model_name": "FloatProgressModel",
      "state": {
       "bar_style": "success",
       "layout": "IPY_MODEL_b888b66ce8df48c488e8d9992a696e87",
       "max": 6,
       "style": "IPY_MODEL_7fdb35b7e6af42a2a58dd896053a4781",
       "value": 6
      }
     },
     "5ae0b72553c143b5ad82d525a83a4cd9": {
      "model_module": "@jupyter-widgets/base",
      "model_module_version": "1.2.0",
      "model_name": "LayoutModel",
      "state": {}
     },
     "5bf0237111074517bc51beaef3e0dc6b": {
      "model_module": "@jupyter-widgets/controls",
      "model_module_version": "1.5.0",
      "model_name": "DescriptionStyleModel",
      "state": {
       "description_width": ""
      }
     },
     "5d131984c7ec458ab8a74ceb780b4102": {
      "model_module": "@jupyter-widgets/controls",
      "model_module_version": "1.5.0",
      "model_name": "HTMLModel",
      "state": {
       "layout": "IPY_MODEL_65b5b91770d442d4a672016603ce611b",
       "style": "IPY_MODEL_91478955bdce4a5989c3ba36e992ca99",
       "value": "100%"
      }
     },
     "655522b3cd9242faa69882bc849f5224": {
      "model_module": "@jupyter-widgets/controls",
      "model_module_version": "1.5.0",
      "model_name": "DescriptionStyleModel",
      "state": {
       "description_width": ""
      }
     },
     "65b5b91770d442d4a672016603ce611b": {
      "model_module": "@jupyter-widgets/base",
      "model_module_version": "1.2.0",
      "model_name": "LayoutModel",
      "state": {}
     },
     "69592a823d8c47999bd7001a3848e060": {
      "model_module": "@jupyter-widgets/base",
      "model_module_version": "1.2.0",
      "model_name": "LayoutModel",
      "state": {}
     },
     "6e4ba59d42d34b05ab4a4444b9dd888f": {
      "model_module": "@jupyter-widgets/base",
      "model_module_version": "1.2.0",
      "model_name": "LayoutModel",
      "state": {}
     },
     "6ee3dd37555d4ce3aaf5939d68f668b7": {
      "model_module": "@jupyter-widgets/base",
      "model_module_version": "1.2.0",
      "model_name": "LayoutModel",
      "state": {}
     },
     "75ca0953689b4a49965eeb3de3ae33c5": {
      "model_module": "@jupyter-widgets/controls",
      "model_module_version": "1.5.0",
      "model_name": "HBoxModel",
      "state": {
       "children": [
        "IPY_MODEL_87aaca59ad3947f48b3280e8beca453e",
        "IPY_MODEL_b1e0b9bafcfc4c76a412e7db3f0d680f",
        "IPY_MODEL_22bef61dec61477890261878ec29ee79"
       ],
       "layout": "IPY_MODEL_136ab7208ec240d99df84ed9888b6129"
      }
     },
     "76f53ff2048a4152b9746137e67b0f2c": {
      "model_module": "@jupyter-widgets/controls",
      "model_module_version": "1.5.0",
      "model_name": "ProgressStyleModel",
      "state": {
       "description_width": ""
      }
     },
     "77973793a5b5451fa74b04c388576929": {
      "model_module": "@jupyter-widgets/base",
      "model_module_version": "1.2.0",
      "model_name": "LayoutModel",
      "state": {}
     },
     "7fdb35b7e6af42a2a58dd896053a4781": {
      "model_module": "@jupyter-widgets/controls",
      "model_module_version": "1.5.0",
      "model_name": "ProgressStyleModel",
      "state": {
       "description_width": ""
      }
     },
     "83d86f9513cc47da978df45c66280cda": {
      "model_module": "@jupyter-widgets/base",
      "model_module_version": "1.2.0",
      "model_name": "LayoutModel",
      "state": {}
     },
     "87aaca59ad3947f48b3280e8beca453e": {
      "model_module": "@jupyter-widgets/controls",
      "model_module_version": "1.5.0",
      "model_name": "HTMLModel",
      "state": {
       "layout": "IPY_MODEL_a0e9888f4d8d4af3b50392618188f346",
       "style": "IPY_MODEL_2b7e967172cf473b90d6911ab53b7e20",
       "value": "100%"
      }
     },
     "8e635668c4bf496d9c4f02399f2db37c": {
      "model_module": "@jupyter-widgets/controls",
      "model_module_version": "1.5.0",
      "model_name": "DescriptionStyleModel",
      "state": {
       "description_width": ""
      }
     },
     "91478955bdce4a5989c3ba36e992ca99": {
      "model_module": "@jupyter-widgets/controls",
      "model_module_version": "1.5.0",
      "model_name": "DescriptionStyleModel",
      "state": {
       "description_width": ""
      }
     },
     "9bb7fb3b73384b658d51a56ae5e305a9": {
      "model_module": "@jupyter-widgets/controls",
      "model_module_version": "1.5.0",
      "model_name": "DescriptionStyleModel",
      "state": {
       "description_width": ""
      }
     },
     "a0e9888f4d8d4af3b50392618188f346": {
      "model_module": "@jupyter-widgets/base",
      "model_module_version": "1.2.0",
      "model_name": "LayoutModel",
      "state": {}
     },
     "abad5d1e8f8d4a22924b49c785c55730": {
      "model_module": "@jupyter-widgets/controls",
      "model_module_version": "1.5.0",
      "model_name": "HTMLModel",
      "state": {
       "layout": "IPY_MODEL_6e4ba59d42d34b05ab4a4444b9dd888f",
       "style": "IPY_MODEL_4a25c71673024ab89d8a9a2eba835b2b",
       "value": " 2/2 [00:10&lt;00:00,  5.12s/it]"
      }
     },
     "b1e0b9bafcfc4c76a412e7db3f0d680f": {
      "model_module": "@jupyter-widgets/controls",
      "model_module_version": "1.5.0",
      "model_name": "FloatProgressModel",
      "state": {
       "bar_style": "success",
       "layout": "IPY_MODEL_19e914a0821347d08066e531838e2852",
       "max": 6,
       "style": "IPY_MODEL_37f9ef03899b44f092712577fe31d75c",
       "value": 6
      }
     },
     "b228a1a76e594cc98141fdb2fd4ff7cd": {
      "model_module": "@jupyter-widgets/controls",
      "model_module_version": "1.5.0",
      "model_name": "HBoxModel",
      "state": {
       "children": [
        "IPY_MODEL_50ba7ce0bba2412bb9875d8d084382ea",
        "IPY_MODEL_c5c5036fbe3f42e1af91519f46f85970",
        "IPY_MODEL_de9bec6f338a42c29e9f2f2ead6891a7"
       ],
       "layout": "IPY_MODEL_505d5bb531714a9294264c3fef2b4fc2"
      }
     },
     "b76b08cab5454ffa946ba2616357697f": {
      "model_module": "@jupyter-widgets/controls",
      "model_module_version": "1.5.0",
      "model_name": "DescriptionStyleModel",
      "state": {
       "description_width": ""
      }
     },
     "b888b66ce8df48c488e8d9992a696e87": {
      "model_module": "@jupyter-widgets/base",
      "model_module_version": "1.2.0",
      "model_name": "LayoutModel",
      "state": {}
     },
     "b8da1b02dffd46c381f3d626c3d77a99": {
      "model_module": "@jupyter-widgets/controls",
      "model_module_version": "1.5.0",
      "model_name": "HTMLModel",
      "state": {
       "layout": "IPY_MODEL_0ab60914be5c424b84f5e7318f37b0d6",
       "style": "IPY_MODEL_8e635668c4bf496d9c4f02399f2db37c",
       "value": "100%"
      }
     },
     "bdbabb7b39074c388d95a04316bb7e4f": {
      "model_module": "@jupyter-widgets/base",
      "model_module_version": "1.2.0",
      "model_name": "LayoutModel",
      "state": {}
     },
     "c13eadee1b6940b59206dfd514f13b14": {
      "model_module": "@jupyter-widgets/controls",
      "model_module_version": "1.5.0",
      "model_name": "HBoxModel",
      "state": {
       "children": [
        "IPY_MODEL_5d131984c7ec458ab8a74ceb780b4102",
        "IPY_MODEL_d1755121a8bc4c94b621903fa77461d4",
        "IPY_MODEL_abad5d1e8f8d4a22924b49c785c55730"
       ],
       "layout": "IPY_MODEL_104dda3f95774eeead239140367be894"
      }
     },
     "c1e81729b724465286f9265034e745c4": {
      "model_module": "@jupyter-widgets/base",
      "model_module_version": "1.2.0",
      "model_name": "LayoutModel",
      "state": {}
     },
     "c48d8bd0fdc84f4d9550d23d57d97146": {
      "model_module": "@jupyter-widgets/base",
      "model_module_version": "1.2.0",
      "model_name": "LayoutModel",
      "state": {}
     },
     "c5c5036fbe3f42e1af91519f46f85970": {
      "model_module": "@jupyter-widgets/controls",
      "model_module_version": "1.5.0",
      "model_name": "FloatProgressModel",
      "state": {
       "bar_style": "success",
       "layout": "IPY_MODEL_bdbabb7b39074c388d95a04316bb7e4f",
       "max": 6,
       "style": "IPY_MODEL_76f53ff2048a4152b9746137e67b0f2c",
       "value": 6
      }
     },
     "c67e1bfff8104842b0eb5ceb1df378db": {
      "model_module": "@jupyter-widgets/controls",
      "model_module_version": "1.5.0",
      "model_name": "HBoxModel",
      "state": {
       "children": [
        "IPY_MODEL_ec745e4cedb540ad9bb27ee4e98273a1",
        "IPY_MODEL_59d6ed2d6a58446db57b66964285784e",
        "IPY_MODEL_042998250f3f4340ac7545f3ea765e54"
       ],
       "layout": "IPY_MODEL_1fb3058051d34e5d891d6f10fdd9ed2c"
      }
     },
     "d1755121a8bc4c94b621903fa77461d4": {
      "model_module": "@jupyter-widgets/controls",
      "model_module_version": "1.5.0",
      "model_name": "FloatProgressModel",
      "state": {
       "bar_style": "success",
       "layout": "IPY_MODEL_83d86f9513cc47da978df45c66280cda",
       "max": 2,
       "style": "IPY_MODEL_55c1298dffb74e758b29f1c7b9720abd",
       "value": 2
      }
     },
     "de9bec6f338a42c29e9f2f2ead6891a7": {
      "model_module": "@jupyter-widgets/controls",
      "model_module_version": "1.5.0",
      "model_name": "HTMLModel",
      "state": {
       "layout": "IPY_MODEL_2f691cd9c42b46a09f51486116656c25",
       "style": "IPY_MODEL_b76b08cab5454ffa946ba2616357697f",
       "value": " 6/6 [00:00&lt;00:00,  9.45it/s]"
      }
     },
     "ec745e4cedb540ad9bb27ee4e98273a1": {
      "model_module": "@jupyter-widgets/controls",
      "model_module_version": "1.5.0",
      "model_name": "HTMLModel",
      "state": {
       "layout": "IPY_MODEL_2f2967fac05d488fbdc742344ff128a5",
       "style": "IPY_MODEL_655522b3cd9242faa69882bc849f5224",
       "value": "100%"
      }
     },
     "fb72d223a9a846bb93530bf9936b894e": {
      "model_module": "@jupyter-widgets/controls",
      "model_module_version": "1.5.0",
      "model_name": "DescriptionStyleModel",
      "state": {
       "description_width": ""
      }
     }
    },
    "version_major": 2,
    "version_minor": 0
   }
  }
 },
 "nbformat": 4,
 "nbformat_minor": 5
}
