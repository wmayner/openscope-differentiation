{
 "cells": [
  {
   "cell_type": "markdown",
   "id": "united-graduation",
   "metadata": {},
   "source": [
    "# Figures S5, S6 & S7\n",
    "\n",
    "Sensitivity analysis"
   ]
  },
  {
   "cell_type": "code",
   "execution_count": 1,
   "id": "sorted-knife",
   "metadata": {},
   "outputs": [],
   "source": [
    "from pathlib import Path\n",
    "\n",
    "import numpy as np\n",
    "import pandas as pd\n",
    "import seaborn as sb\n",
    "from matplotlib import pyplot as plt\n",
    "from tqdm.auto import tqdm\n",
    "\n",
    "import analysis"
   ]
  },
  {
   "cell_type": "code",
   "execution_count": 2,
   "id": "union-bracelet",
   "metadata": {},
   "outputs": [],
   "source": [
    "# Register tqdm with pandas for `progress_apply`\n",
    "tqdm.pandas()"
   ]
  },
  {
   "cell_type": "code",
   "execution_count": 3,
   "id": "subjective-contributor",
   "metadata": {},
   "outputs": [],
   "source": [
    "OUTPUT_DIR = Path('figures/fig-s5,s6,s7')"
   ]
  },
  {
   "cell_type": "code",
   "execution_count": 4,
   "id": "defined-dress",
   "metadata": {},
   "outputs": [],
   "source": [
    "# Significance threshold\n",
    "ALPHA = 0.05"
   ]
  },
  {
   "cell_type": "markdown",
   "id": "grateful-wings",
   "metadata": {},
   "source": [
    "### Load data"
   ]
  },
  {
   "cell_type": "code",
   "execution_count": 5,
   "id": "worse-lying",
   "metadata": {},
   "outputs": [],
   "source": [
    "stats = pd.read_parquet(\"results/stats.parquet\").reset_index()"
   ]
  },
  {
   "cell_type": "code",
   "execution_count": 6,
   "id": "special-exhibit",
   "metadata": {},
   "outputs": [],
   "source": [
    "# Rename and order metrics\n",
    "metric_names = {\n",
    "    \"cityblock\": \"Manhattan\",\n",
    "    \"euclidean\": \"Euclidean\",\n",
    "    \"chebyshev\": \"Chebyshev\",\n",
    "}\n",
    "stats[\"metric\"] = stats[\"metric\"].map(metric_names)\n",
    "\n",
    "assert len(stats[\"metric\"].unique()) == len(metric_names)\n",
    "assert np.nan not in stats[\"metric\"].unique()\n",
    "\n",
    "stats[\"metric\"] = pd.Categorical(\n",
    "    stats[\"metric\"], categories=metric_names.values(), ordered=True\n",
    ")"
   ]
  },
  {
   "cell_type": "code",
   "execution_count": 7,
   "id": "acquired-tsunami",
   "metadata": {},
   "outputs": [],
   "source": [
    "# Parameters to iterate over when plotting\n",
    "GROUPING_PARAMETERS = [\n",
    "    \"window\",\n",
    "    \"window_param\",\n",
    "    \"overlap\",\n",
    "    \"log_frequency\",\n",
    "]"
   ]
  },
  {
   "cell_type": "markdown",
   "id": "public-volleyball",
   "metadata": {},
   "source": [
    "### Plotting functions"
   ]
  },
  {
   "cell_type": "code",
   "execution_count": 8,
   "id": "wicked-european",
   "metadata": {},
   "outputs": [],
   "source": [
    "x = \"state_length\"\n",
    "y = \"metric\""
   ]
  },
  {
   "cell_type": "code",
   "execution_count": 9,
   "id": "pacific-requirement",
   "metadata": {},
   "outputs": [],
   "source": [
    "width = 5\n",
    "height = 3\n",
    "scale = 0.8"
   ]
  },
  {
   "cell_type": "code",
   "execution_count": 10,
   "id": "terminal-terrorism",
   "metadata": {},
   "outputs": [],
   "source": [
    "def plot_interaction(data):\n",
    "    params = dict(zip(GROUPING_PARAMETERS, data.name))\n",
    "    \n",
    "    fig = plt.figure(figsize=(6.4, 4.8))\n",
    "    ax = analysis.heatmap(\n",
    "        data=data,\n",
    "        x=x,\n",
    "        y=y,\n",
    "        value=\"p.value\",\n",
    "        annot_kws=dict(fontsize=13),\n",
    "        cmap=sb.color_palette(\"mako\", as_cmap=True),\n",
    "        cbar=False,\n",
    "    )\n",
    "    ax.get_xaxis().set_visible(False)\n",
    "    ax.set_ylabel(\"\")\n",
    "    fig.tight_layout()\n",
    "    analysis.set_ax_size(\n",
    "        width * scale, height * scale, fig=fig, ax=ax, aspect=True,\n",
    "    )\n",
    "\n",
    "    filename = analysis.make_filename(params, prefix=f\"sensitivity_analysis\", suffix=interaction)\n",
    "    path = OUTPUT_DIR / filename\n",
    "    analysis.savefig(\n",
    "        fig,\n",
    "        str(path) + \".svg\",\n",
    "        facecolor=None,\n",
    "        edgecolor=None,\n",
    "    )\n",
    "    print(path)\n",
    "\n",
    "    # Collect combinations that are not below significance threshold\n",
    "    # so we can omit them in the posthoc tests\n",
    "    insignificant = data.loc[data[\"p.value\"] >= ALPHA, [x, y]]\n",
    "    return insignificant\n",
    "\n",
    "\n",
    "def plot_interaction_sensitivity(interaction):\n",
    "    insignificant = (\n",
    "        stats.loc[\n",
    "            (stats[\"interaction\"] == interaction)\n",
    "            & (stats[\"test_type\"] == \"likelihood_ratio\")\n",
    "            & (stats[\"term\"] == \"model\")\n",
    "        ]\n",
    "        .groupby(by=GROUPING_PARAMETERS, dropna=False)\n",
    "        .progress_apply(plot_interaction)\n",
    "    )\n",
    "    insignificant.index = insignificant.index.droplevel(level=None)\n",
    "    insignificant[\"insignificant_likelihood_ratio\"] = True\n",
    "    return insignificant"
   ]
  },
  {
   "cell_type": "code",
   "execution_count": 11,
   "id": "dedicated-netscape",
   "metadata": {},
   "outputs": [],
   "source": [
    "positions = dict(\n",
    "    layer=dict(\n",
    "        suptitle_x=0.2,\n",
    "        suptitle_y=0.71,\n",
    "        hspace=-0.83,\n",
    "    ),\n",
    "    area=dict(\n",
    "        suptitle_x=0.2,\n",
    "        suptitle_y=0.70,\n",
    "        hspace=-0.89,\n",
    "    ),\n",
    ")"
   ]
  },
  {
   "cell_type": "code",
   "execution_count": 12,
   "id": "abstract-taste",
   "metadata": {},
   "outputs": [],
   "source": [
    "def plot_posthoc(data, name=None):\n",
    "    if name is None:\n",
    "        name = data.name\n",
    "    params = dict(zip(GROUPING_PARAMETERS, name))\n",
    "\n",
    "    g = sb.FacetGrid(\n",
    "        data=data,\n",
    "        row=interaction,\n",
    "        margin_titles=True,\n",
    "        height=6,\n",
    "        aspect=1,\n",
    "        sharex=True,\n",
    "        sharey=True,\n",
    "    )\n",
    "\n",
    "    g.map_dataframe(\n",
    "        analysis.heatmap,\n",
    "        x=x,\n",
    "        y=y,\n",
    "        value=\"p.value\",\n",
    "        mask=\"insignificant_likelihood_ratio\",\n",
    "        cmap=sb.color_palette(\"mako\", as_cmap=True),\n",
    "        annot_kws=dict(fontsize=13),\n",
    "        cbar=False,\n",
    "    )\n",
    "\n",
    "    for ax in g.axes.flat:\n",
    "        ax.set_facecolor(\"#ddd\")\n",
    "    for ax in g.axes.flat[:-1]:\n",
    "        ax.get_xaxis().set_visible(False)\n",
    "    g.fig.subplots_adjust(hspace=positions[interaction][\"hspace\"], wspace=0.0)\n",
    "    g.fig.tight_layout()\n",
    "    for ax in g.axes.flat:\n",
    "        analysis.set_ax_size(\n",
    "            width * scale, height * scale, fig=g.fig, ax=ax, aspect=True\n",
    "        )\n",
    "    g.axes.flat[-1].set_xlabel(x.replace(\"_\", \" \") + \" (s)\")\n",
    "    g.set_titles(row_template=\"{row_name}\", col_template=\"{col_name}\")\n",
    "\n",
    "    filename = analysis.make_filename(\n",
    "        params, prefix=f\"sensitivity_analysis\", suffix=f\"{interaction}__posthoc\"\n",
    "    )\n",
    "    path = OUTPUT_DIR / filename\n",
    "    analysis.savefig(\n",
    "        g.fig,\n",
    "        str(path) + \".svg\",\n",
    "        facecolor=None,\n",
    "        edgecolor=None,\n",
    "    )\n",
    "    print(path)\n",
    "\n",
    "    return g\n",
    "\n",
    "\n",
    "def plot_posthoc_sensitivity(interaction, insignificant):\n",
    "    (\n",
    "        stats.loc[\n",
    "            (stats[\"interaction\"] == interaction) & (stats[\"test_type\"] == \"posthoc\")\n",
    "        ]\n",
    "        .merge(insignificant, on=GROUPING_PARAMETERS + [x, y], how=\"left\")\n",
    "        .groupby(by=GROUPING_PARAMETERS, dropna=False)\n",
    "        .progress_apply(plot_posthoc)\n",
    "    )"
   ]
  },
  {
   "cell_type": "markdown",
   "id": "introductory-instrumentation",
   "metadata": {},
   "source": [
    "# Plot"
   ]
  },
  {
   "cell_type": "code",
   "execution_count": 13,
   "id": "universal-speaking",
   "metadata": {},
   "outputs": [
    {
     "data": {
      "application/vnd.jupyter.widget-view+json": {
       "model_id": "cfa5e24d11f748d799b83438c60afc0c",
       "version_major": 2,
       "version_minor": 0
      },
      "text/plain": [
       "  0%|          | 0/2 [00:00<?, ?it/s]"
      ]
     },
     "metadata": {},
     "output_type": "display_data"
    },
    {
     "data": {
      "application/vnd.jupyter.widget-view+json": {
       "model_id": "52d83bca8b7643928adc7e26c31c716f",
       "version_major": 2,
       "version_minor": 0
      },
      "text/plain": [
       "  0%|          | 0/6 [00:00<?, ?it/s]"
      ]
     },
     "metadata": {},
     "output_type": "display_data"
    },
    {
     "name": "stdout",
     "output_type": "stream",
     "text": [
      "figures/fig-s5,s6,s7/sensitivity_analysis__window-kaiser__window_param-14.0__overlap-0.5__log_frequency-False__area\n",
      "figures/fig-s5,s6,s7/sensitivity_analysis__window-kaiser__window_param-14.0__overlap-0.5__log_frequency-True__area\n",
      "figures/fig-s5,s6,s7/sensitivity_analysis__window-rectangular__window_param-nan__overlap-0.0__log_frequency-False__area\n",
      "figures/fig-s5,s6,s7/sensitivity_analysis__window-rectangular__window_param-nan__overlap-0.0__log_frequency-True__area\n",
      "figures/fig-s5,s6,s7/sensitivity_analysis__window-tukey__window_param-0.25__overlap-0.125__log_frequency-False__area\n",
      "figures/fig-s5,s6,s7/sensitivity_analysis__window-tukey__window_param-0.25__overlap-0.125__log_frequency-True__area\n"
     ]
    },
    {
     "data": {
      "application/vnd.jupyter.widget-view+json": {
       "model_id": "1661a5f4b508440f978a9f824c75c637",
       "version_major": 2,
       "version_minor": 0
      },
      "text/plain": [
       "  0%|          | 0/6 [00:00<?, ?it/s]"
      ]
     },
     "metadata": {},
     "output_type": "display_data"
    },
    {
     "name": "stdout",
     "output_type": "stream",
     "text": [
      "figures/fig-s5,s6,s7/sensitivity_analysis__window-kaiser__window_param-14.0__overlap-0.5__log_frequency-False__area__posthoc\n",
      "figures/fig-s5,s6,s7/sensitivity_analysis__window-kaiser__window_param-14.0__overlap-0.5__log_frequency-True__area__posthoc\n",
      "figures/fig-s5,s6,s7/sensitivity_analysis__window-rectangular__window_param-nan__overlap-0.0__log_frequency-False__area__posthoc\n",
      "figures/fig-s5,s6,s7/sensitivity_analysis__window-rectangular__window_param-nan__overlap-0.0__log_frequency-True__area__posthoc\n",
      "figures/fig-s5,s6,s7/sensitivity_analysis__window-tukey__window_param-0.25__overlap-0.125__log_frequency-False__area__posthoc\n",
      "figures/fig-s5,s6,s7/sensitivity_analysis__window-tukey__window_param-0.25__overlap-0.125__log_frequency-True__area__posthoc\n"
     ]
    },
    {
     "data": {
      "application/vnd.jupyter.widget-view+json": {
       "model_id": "7b0f7e96e96a4c5fa22e5e9e28188462",
       "version_major": 2,
       "version_minor": 0
      },
      "text/plain": [
       "  0%|          | 0/6 [00:00<?, ?it/s]"
      ]
     },
     "metadata": {},
     "output_type": "display_data"
    },
    {
     "name": "stdout",
     "output_type": "stream",
     "text": [
      "figures/fig-s5,s6,s7/sensitivity_analysis__window-kaiser__window_param-14.0__overlap-0.5__log_frequency-False__layer\n",
      "figures/fig-s5,s6,s7/sensitivity_analysis__window-kaiser__window_param-14.0__overlap-0.5__log_frequency-True__layer\n",
      "figures/fig-s5,s6,s7/sensitivity_analysis__window-rectangular__window_param-nan__overlap-0.0__log_frequency-False__layer\n",
      "figures/fig-s5,s6,s7/sensitivity_analysis__window-rectangular__window_param-nan__overlap-0.0__log_frequency-True__layer\n",
      "figures/fig-s5,s6,s7/sensitivity_analysis__window-tukey__window_param-0.25__overlap-0.125__log_frequency-False__layer\n",
      "figures/fig-s5,s6,s7/sensitivity_analysis__window-tukey__window_param-0.25__overlap-0.125__log_frequency-True__layer\n"
     ]
    },
    {
     "data": {
      "application/vnd.jupyter.widget-view+json": {
       "model_id": "c99c24fabb6c496886332cd8f5c830c3",
       "version_major": 2,
       "version_minor": 0
      },
      "text/plain": [
       "  0%|          | 0/6 [00:00<?, ?it/s]"
      ]
     },
     "metadata": {},
     "output_type": "display_data"
    },
    {
     "name": "stdout",
     "output_type": "stream",
     "text": [
      "figures/fig-s5,s6,s7/sensitivity_analysis__window-kaiser__window_param-14.0__overlap-0.5__log_frequency-False__layer__posthoc\n",
      "figures/fig-s5,s6,s7/sensitivity_analysis__window-kaiser__window_param-14.0__overlap-0.5__log_frequency-True__layer__posthoc\n",
      "figures/fig-s5,s6,s7/sensitivity_analysis__window-rectangular__window_param-nan__overlap-0.0__log_frequency-False__layer__posthoc\n",
      "figures/fig-s5,s6,s7/sensitivity_analysis__window-rectangular__window_param-nan__overlap-0.0__log_frequency-True__layer__posthoc\n",
      "figures/fig-s5,s6,s7/sensitivity_analysis__window-tukey__window_param-0.25__overlap-0.125__log_frequency-False__layer__posthoc\n",
      "figures/fig-s5,s6,s7/sensitivity_analysis__window-tukey__window_param-0.25__overlap-0.125__log_frequency-True__layer__posthoc\n"
     ]
    }
   ],
   "source": [
    "for interaction in tqdm([\"area\", \"layer\"]):\n",
    "    insignificant = plot_interaction_sensitivity(interaction)\n",
    "    plot_posthoc_sensitivity(interaction, insignificant)\n",
    "    plt.close(\"all\")"
   ]
  }
 ],
 "metadata": {
  "kernelspec": {
   "display_name": "Python 3",
   "language": "python",
   "name": "python3"
  },
  "language_info": {
   "codemirror_mode": {
    "name": "ipython",
    "version": 3
   },
   "file_extension": ".py",
   "mimetype": "text/x-python",
   "name": "python",
   "nbconvert_exporter": "python",
   "pygments_lexer": "ipython3",
   "version": "3.8.8"
  },
  "widgets": {
   "application/vnd.jupyter.widget-state+json": {
    "state": {
     "056534c931db40ffbfcf810072e33ec3": {
      "model_module": "@jupyter-widgets/base",
      "model_module_version": "1.2.0",
      "model_name": "LayoutModel",
      "state": {}
     },
     "09acc7f3903046a2a603505b40a8e87f": {
      "model_module": "@jupyter-widgets/controls",
      "model_module_version": "1.5.0",
      "model_name": "FloatProgressModel",
      "state": {
       "bar_style": "success",
       "layout": "IPY_MODEL_ee58f7ef02a1419491c7a3ff99b68662",
       "max": 2,
       "style": "IPY_MODEL_1307b0d8140f4c4186ca3162a732a1c1",
       "value": 2
      }
     },
     "0b06461e4a3146549ea0f58433fa51a6": {
      "model_module": "@jupyter-widgets/controls",
      "model_module_version": "1.5.0",
      "model_name": "DescriptionStyleModel",
      "state": {
       "description_width": ""
      }
     },
     "0d90278c10f3448ab41257c4e961c1ef": {
      "model_module": "@jupyter-widgets/base",
      "model_module_version": "1.2.0",
      "model_name": "LayoutModel",
      "state": {}
     },
     "1307b0d8140f4c4186ca3162a732a1c1": {
      "model_module": "@jupyter-widgets/controls",
      "model_module_version": "1.5.0",
      "model_name": "ProgressStyleModel",
      "state": {
       "description_width": ""
      }
     },
     "1661a5f4b508440f978a9f824c75c637": {
      "model_module": "@jupyter-widgets/controls",
      "model_module_version": "1.5.0",
      "model_name": "HBoxModel",
      "state": {
       "children": [
        "IPY_MODEL_21d80763f9d248d79112aa512b306a78",
        "IPY_MODEL_4c49123dc309494289d3941dfdca5490",
        "IPY_MODEL_1c3d3f802119499b9e9c47085d16ff1e"
       ],
       "layout": "IPY_MODEL_da164310be954501bd9d17f59c65510b"
      }
     },
     "1bc666fa103445119cb6808a81c278a0": {
      "model_module": "@jupyter-widgets/base",
      "model_module_version": "1.2.0",
      "model_name": "LayoutModel",
      "state": {}
     },
     "1c3d3f802119499b9e9c47085d16ff1e": {
      "model_module": "@jupyter-widgets/controls",
      "model_module_version": "1.5.0",
      "model_name": "HTMLModel",
      "state": {
       "layout": "IPY_MODEL_b22dc707bd7d43b099793f1a34bbe6a9",
       "style": "IPY_MODEL_7fd2e141f5414a559f1aa80f9778e065",
       "value": " 6/6 [00:05&lt;00:00,  1.09it/s]"
      }
     },
     "21d80763f9d248d79112aa512b306a78": {
      "model_module": "@jupyter-widgets/controls",
      "model_module_version": "1.5.0",
      "model_name": "HTMLModel",
      "state": {
       "layout": "IPY_MODEL_489ce0c60e004140a3be342a0ee39144",
       "style": "IPY_MODEL_6ce4428a4f934b1c90a7c34305566b36",
       "value": "100%"
      }
     },
     "2625959ebfab4c20b23373e020dbcaf7": {
      "model_module": "@jupyter-widgets/base",
      "model_module_version": "1.2.0",
      "model_name": "LayoutModel",
      "state": {}
     },
     "2c7d7431a4bd4061a058d0bdbd546f79": {
      "model_module": "@jupyter-widgets/base",
      "model_module_version": "1.2.0",
      "model_name": "LayoutModel",
      "state": {}
     },
     "34d41a1efb8b48f095bc816e35239b7f": {
      "model_module": "@jupyter-widgets/base",
      "model_module_version": "1.2.0",
      "model_name": "LayoutModel",
      "state": {}
     },
     "3d110e4a1d32464db3bca71fd86cab14": {
      "model_module": "@jupyter-widgets/controls",
      "model_module_version": "1.5.0",
      "model_name": "DescriptionStyleModel",
      "state": {
       "description_width": ""
      }
     },
     "3d7968bc9edf45a0b1123e0a3b3c73c4": {
      "model_module": "@jupyter-widgets/controls",
      "model_module_version": "1.5.0",
      "model_name": "DescriptionStyleModel",
      "state": {
       "description_width": ""
      }
     },
     "4025489764ba410883f0e420ff11cdff": {
      "model_module": "@jupyter-widgets/base",
      "model_module_version": "1.2.0",
      "model_name": "LayoutModel",
      "state": {}
     },
     "4312ddfea12a4cee8fde7d10c7e9cc6a": {
      "model_module": "@jupyter-widgets/controls",
      "model_module_version": "1.5.0",
      "model_name": "HTMLModel",
      "state": {
       "layout": "IPY_MODEL_4025489764ba410883f0e420ff11cdff",
       "style": "IPY_MODEL_a4055e5f1b5143f3b58bc8fd31cfacec",
       "value": "100%"
      }
     },
     "489ce0c60e004140a3be342a0ee39144": {
      "model_module": "@jupyter-widgets/base",
      "model_module_version": "1.2.0",
      "model_name": "LayoutModel",
      "state": {}
     },
     "4c49123dc309494289d3941dfdca5490": {
      "model_module": "@jupyter-widgets/controls",
      "model_module_version": "1.5.0",
      "model_name": "FloatProgressModel",
      "state": {
       "bar_style": "success",
       "layout": "IPY_MODEL_9f86d7cc66b64f22a9bc8c9e122170f2",
       "max": 6,
       "style": "IPY_MODEL_6f624509fee94a628911d84379dfe137",
       "value": 6
      }
     },
     "52d83bca8b7643928adc7e26c31c716f": {
      "model_module": "@jupyter-widgets/controls",
      "model_module_version": "1.5.0",
      "model_name": "HBoxModel",
      "state": {
       "children": [
        "IPY_MODEL_4312ddfea12a4cee8fde7d10c7e9cc6a",
        "IPY_MODEL_6cde563b5baa4cddaae0f2feb4f46fe5",
        "IPY_MODEL_e98621951221413a960e9d2a2be9b865"
       ],
       "layout": "IPY_MODEL_2c7d7431a4bd4061a058d0bdbd546f79"
      }
     },
     "53aea6b482fe4f7fac06e0da93b34641": {
      "model_module": "@jupyter-widgets/controls",
      "model_module_version": "1.5.0",
      "model_name": "ProgressStyleModel",
      "state": {
       "description_width": ""
      }
     },
     "605da84278684b7290838d8afabfcb5f": {
      "model_module": "@jupyter-widgets/base",
      "model_module_version": "1.2.0",
      "model_name": "LayoutModel",
      "state": {}
     },
     "6b55edd855b74b0f9bd45881e41a7de6": {
      "model_module": "@jupyter-widgets/controls",
      "model_module_version": "1.5.0",
      "model_name": "HTMLModel",
      "state": {
       "layout": "IPY_MODEL_2625959ebfab4c20b23373e020dbcaf7",
       "style": "IPY_MODEL_7274ab8c60ac49f69389cce888a2e4fd",
       "value": " 2/2 [00:10&lt;00:00,  5.04s/it]"
      }
     },
     "6cde563b5baa4cddaae0f2feb4f46fe5": {
      "model_module": "@jupyter-widgets/controls",
      "model_module_version": "1.5.0",
      "model_name": "FloatProgressModel",
      "state": {
       "bar_style": "success",
       "layout": "IPY_MODEL_822c311a2a4c40b0a38bf0929ce1e0ed",
       "max": 6,
       "style": "IPY_MODEL_ec243179941946d794f7c0ccada810b5",
       "value": 6
      }
     },
     "6ce4428a4f934b1c90a7c34305566b36": {
      "model_module": "@jupyter-widgets/controls",
      "model_module_version": "1.5.0",
      "model_name": "DescriptionStyleModel",
      "state": {
       "description_width": ""
      }
     },
     "6f624509fee94a628911d84379dfe137": {
      "model_module": "@jupyter-widgets/controls",
      "model_module_version": "1.5.0",
      "model_name": "ProgressStyleModel",
      "state": {
       "description_width": ""
      }
     },
     "7274ab8c60ac49f69389cce888a2e4fd": {
      "model_module": "@jupyter-widgets/controls",
      "model_module_version": "1.5.0",
      "model_name": "DescriptionStyleModel",
      "state": {
       "description_width": ""
      }
     },
     "72da35a1825849ccb75ea588596bfe0e": {
      "model_module": "@jupyter-widgets/controls",
      "model_module_version": "1.5.0",
      "model_name": "HTMLModel",
      "state": {
       "layout": "IPY_MODEL_e798f2c0a2f047c6bb78f46e6e95ac85",
       "style": "IPY_MODEL_a62f38f56cff4cb19eedccd77cb0ee06",
       "value": "100%"
      }
     },
     "7378eefe956a44659fb97367fda0db05": {
      "model_module": "@jupyter-widgets/controls",
      "model_module_version": "1.5.0",
      "model_name": "DescriptionStyleModel",
      "state": {
       "description_width": ""
      }
     },
     "75050d1d3c994ed69f4555c4ed304b84": {
      "model_module": "@jupyter-widgets/base",
      "model_module_version": "1.2.0",
      "model_name": "LayoutModel",
      "state": {}
     },
     "7b0f7e96e96a4c5fa22e5e9e28188462": {
      "model_module": "@jupyter-widgets/controls",
      "model_module_version": "1.5.0",
      "model_name": "HBoxModel",
      "state": {
       "children": [
        "IPY_MODEL_c3845817efd54945ba798f80af0b7c82",
        "IPY_MODEL_a40ad0528b6e4dd1975f666a99945e54",
        "IPY_MODEL_a6456fba87134f8db79b19518e645d13"
       ],
       "layout": "IPY_MODEL_0d90278c10f3448ab41257c4e961c1ef"
      }
     },
     "7fd2e141f5414a559f1aa80f9778e065": {
      "model_module": "@jupyter-widgets/controls",
      "model_module_version": "1.5.0",
      "model_name": "DescriptionStyleModel",
      "state": {
       "description_width": ""
      }
     },
     "822c311a2a4c40b0a38bf0929ce1e0ed": {
      "model_module": "@jupyter-widgets/base",
      "model_module_version": "1.2.0",
      "model_name": "LayoutModel",
      "state": {}
     },
     "8e13fdb07f714066a89a23d5d82018f7": {
      "model_module": "@jupyter-widgets/base",
      "model_module_version": "1.2.0",
      "model_name": "LayoutModel",
      "state": {}
     },
     "9f86d7cc66b64f22a9bc8c9e122170f2": {
      "model_module": "@jupyter-widgets/base",
      "model_module_version": "1.2.0",
      "model_name": "LayoutModel",
      "state": {}
     },
     "a4055e5f1b5143f3b58bc8fd31cfacec": {
      "model_module": "@jupyter-widgets/controls",
      "model_module_version": "1.5.0",
      "model_name": "DescriptionStyleModel",
      "state": {
       "description_width": ""
      }
     },
     "a40ad0528b6e4dd1975f666a99945e54": {
      "model_module": "@jupyter-widgets/controls",
      "model_module_version": "1.5.0",
      "model_name": "FloatProgressModel",
      "state": {
       "bar_style": "success",
       "layout": "IPY_MODEL_1bc666fa103445119cb6808a81c278a0",
       "max": 6,
       "style": "IPY_MODEL_bbdfa9cb919e4d609f21ee37b41d398e",
       "value": 6
      }
     },
     "a44441c0c3924a84bca9b57fb76f757a": {
      "model_module": "@jupyter-widgets/controls",
      "model_module_version": "1.5.0",
      "model_name": "FloatProgressModel",
      "state": {
       "bar_style": "success",
       "layout": "IPY_MODEL_e4d7f8df6eaa4f3fabaa6359b3112289",
       "max": 6,
       "style": "IPY_MODEL_53aea6b482fe4f7fac06e0da93b34641",
       "value": 6
      }
     },
     "a62f38f56cff4cb19eedccd77cb0ee06": {
      "model_module": "@jupyter-widgets/controls",
      "model_module_version": "1.5.0",
      "model_name": "DescriptionStyleModel",
      "state": {
       "description_width": ""
      }
     },
     "a6456fba87134f8db79b19518e645d13": {
      "model_module": "@jupyter-widgets/controls",
      "model_module_version": "1.5.0",
      "model_name": "HTMLModel",
      "state": {
       "layout": "IPY_MODEL_34d41a1efb8b48f095bc816e35239b7f",
       "style": "IPY_MODEL_3d110e4a1d32464db3bca71fd86cab14",
       "value": " 6/6 [00:00&lt;00:00,  9.47it/s]"
      }
     },
     "a91e02a7510641d49511f3868c5fd0f2": {
      "model_module": "@jupyter-widgets/controls",
      "model_module_version": "1.5.0",
      "model_name": "DescriptionStyleModel",
      "state": {
       "description_width": ""
      }
     },
     "b22dc707bd7d43b099793f1a34bbe6a9": {
      "model_module": "@jupyter-widgets/base",
      "model_module_version": "1.2.0",
      "model_name": "LayoutModel",
      "state": {}
     },
     "bbdfa9cb919e4d609f21ee37b41d398e": {
      "model_module": "@jupyter-widgets/controls",
      "model_module_version": "1.5.0",
      "model_name": "ProgressStyleModel",
      "state": {
       "description_width": ""
      }
     },
     "c3845817efd54945ba798f80af0b7c82": {
      "model_module": "@jupyter-widgets/controls",
      "model_module_version": "1.5.0",
      "model_name": "HTMLModel",
      "state": {
       "layout": "IPY_MODEL_75050d1d3c994ed69f4555c4ed304b84",
       "style": "IPY_MODEL_a91e02a7510641d49511f3868c5fd0f2",
       "value": "100%"
      }
     },
     "c6e070976ec44e1f96b9737587e8b625": {
      "model_module": "@jupyter-widgets/base",
      "model_module_version": "1.2.0",
      "model_name": "LayoutModel",
      "state": {}
     },
     "c99c24fabb6c496886332cd8f5c830c3": {
      "model_module": "@jupyter-widgets/controls",
      "model_module_version": "1.5.0",
      "model_name": "HBoxModel",
      "state": {
       "children": [
        "IPY_MODEL_dcefa486940c44d6bf820d81ed75a99e",
        "IPY_MODEL_a44441c0c3924a84bca9b57fb76f757a",
        "IPY_MODEL_d8edef084fba41e9aed9f3334135e95b"
       ],
       "layout": "IPY_MODEL_056534c931db40ffbfcf810072e33ec3"
      }
     },
     "cfa5e24d11f748d799b83438c60afc0c": {
      "model_module": "@jupyter-widgets/controls",
      "model_module_version": "1.5.0",
      "model_name": "HBoxModel",
      "state": {
       "children": [
        "IPY_MODEL_72da35a1825849ccb75ea588596bfe0e",
        "IPY_MODEL_09acc7f3903046a2a603505b40a8e87f",
        "IPY_MODEL_6b55edd855b74b0f9bd45881e41a7de6"
       ],
       "layout": "IPY_MODEL_e265f4ae06dc4204a5d5d24072bce54c"
      }
     },
     "d8edef084fba41e9aed9f3334135e95b": {
      "model_module": "@jupyter-widgets/controls",
      "model_module_version": "1.5.0",
      "model_name": "HTMLModel",
      "state": {
       "layout": "IPY_MODEL_8e13fdb07f714066a89a23d5d82018f7",
       "style": "IPY_MODEL_3d7968bc9edf45a0b1123e0a3b3c73c4",
       "value": " 6/6 [00:03&lt;00:00,  2.03it/s]"
      }
     },
     "da164310be954501bd9d17f59c65510b": {
      "model_module": "@jupyter-widgets/base",
      "model_module_version": "1.2.0",
      "model_name": "LayoutModel",
      "state": {}
     },
     "dcefa486940c44d6bf820d81ed75a99e": {
      "model_module": "@jupyter-widgets/controls",
      "model_module_version": "1.5.0",
      "model_name": "HTMLModel",
      "state": {
       "layout": "IPY_MODEL_605da84278684b7290838d8afabfcb5f",
       "style": "IPY_MODEL_7378eefe956a44659fb97367fda0db05",
       "value": "100%"
      }
     },
     "e265f4ae06dc4204a5d5d24072bce54c": {
      "model_module": "@jupyter-widgets/base",
      "model_module_version": "1.2.0",
      "model_name": "LayoutModel",
      "state": {}
     },
     "e4d7f8df6eaa4f3fabaa6359b3112289": {
      "model_module": "@jupyter-widgets/base",
      "model_module_version": "1.2.0",
      "model_name": "LayoutModel",
      "state": {}
     },
     "e798f2c0a2f047c6bb78f46e6e95ac85": {
      "model_module": "@jupyter-widgets/base",
      "model_module_version": "1.2.0",
      "model_name": "LayoutModel",
      "state": {}
     },
     "e98621951221413a960e9d2a2be9b865": {
      "model_module": "@jupyter-widgets/controls",
      "model_module_version": "1.5.0",
      "model_name": "HTMLModel",
      "state": {
       "layout": "IPY_MODEL_c6e070976ec44e1f96b9737587e8b625",
       "style": "IPY_MODEL_0b06461e4a3146549ea0f58433fa51a6",
       "value": " 6/6 [00:00&lt;00:00, 10.57it/s]"
      }
     },
     "ec243179941946d794f7c0ccada810b5": {
      "model_module": "@jupyter-widgets/controls",
      "model_module_version": "1.5.0",
      "model_name": "ProgressStyleModel",
      "state": {
       "description_width": ""
      }
     },
     "ee58f7ef02a1419491c7a3ff99b68662": {
      "model_module": "@jupyter-widgets/base",
      "model_module_version": "1.2.0",
      "model_name": "LayoutModel",
      "state": {}
     }
    },
    "version_major": 2,
    "version_minor": 0
   }
  }
 },
 "nbformat": 4,
 "nbformat_minor": 5
}
