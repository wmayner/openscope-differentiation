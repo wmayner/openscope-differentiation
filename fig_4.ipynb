{
 "cells": [
  {
   "cell_type": "markdown",
   "metadata": {},
   "source": [
    "# Figure 4\n",
    "\n",
    "Effect size vs. behavioral data"
   ]
  },
  {
   "cell_type": "code",
   "execution_count": 1,
   "metadata": {
    "execution": {
     "iopub.execute_input": "2021-12-14T20:37:18.585039Z",
     "iopub.status.busy": "2021-12-14T20:37:18.584497Z",
     "iopub.status.idle": "2021-12-14T20:37:23.641782Z",
     "shell.execute_reply": "2021-12-14T20:37:23.640396Z",
     "shell.execute_reply.started": "2021-12-14T20:37:18.584852Z"
    },
    "tags": []
   },
   "outputs": [],
   "source": [
    "from pathlib import Path\n",
    "\n",
    "import colorcet as cc\n",
    "import matplotlib\n",
    "import numpy as np\n",
    "import pandas as pd\n",
    "import seaborn as sb\n",
    "from cycler import cycler\n",
    "from matplotlib import pyplot as plt\n",
    "from tqdm.notebook import tqdm\n",
    "\n",
    "import analysis\n",
    "from metadata import METADATA"
   ]
  },
  {
   "cell_type": "code",
   "execution_count": 2,
   "metadata": {
    "execution": {
     "iopub.execute_input": "2021-12-14T20:37:23.645791Z",
     "iopub.status.busy": "2021-12-14T20:37:23.644734Z",
     "iopub.status.idle": "2021-12-14T20:37:23.651467Z",
     "shell.execute_reply": "2021-12-14T20:37:23.650431Z",
     "shell.execute_reply.started": "2021-12-14T20:37:23.645728Z"
    },
    "tags": []
   },
   "outputs": [],
   "source": [
    "# Register tqdm with pandas for `progress_apply`\n",
    "tqdm.pandas()"
   ]
  },
  {
   "cell_type": "code",
   "execution_count": 3,
   "metadata": {
    "execution": {
     "iopub.execute_input": "2021-12-14T20:37:23.665035Z",
     "iopub.status.busy": "2021-12-14T20:37:23.652962Z",
     "iopub.status.idle": "2021-12-14T20:37:23.671360Z",
     "shell.execute_reply": "2021-12-14T20:37:23.670259Z",
     "shell.execute_reply.started": "2021-12-14T20:37:23.664968Z"
    },
    "tags": []
   },
   "outputs": [],
   "source": [
    "matplotlib.rcParams.update({'font.size': 16})\n",
    "\n",
    "# Color palette\n",
    "PALETTE = np.array(cc.b_glasbey_category10[:5])[\n",
    "    [2, 4, 0, 1, 3]\n",
    "]\n",
    "matplotlib.rcParams['axes.prop_cycle'] = cycler('color', PALETTE)"
   ]
  },
  {
   "cell_type": "code",
   "execution_count": 4,
   "metadata": {
    "execution": {
     "iopub.execute_input": "2021-12-14T20:37:23.672554Z",
     "iopub.status.busy": "2021-12-14T20:37:23.672313Z",
     "iopub.status.idle": "2021-12-14T20:37:23.678561Z",
     "shell.execute_reply": "2021-12-14T20:37:23.677346Z",
     "shell.execute_reply.started": "2021-12-14T20:37:23.672523Z"
    },
    "tags": []
   },
   "outputs": [],
   "source": [
    "OUTPUT_DIR = Path('figures')"
   ]
  },
  {
   "cell_type": "markdown",
   "metadata": {},
   "source": [
    "## Load data"
   ]
  },
  {
   "cell_type": "code",
   "execution_count": 5,
   "metadata": {
    "execution": {
     "iopub.execute_input": "2021-12-14T20:37:23.682218Z",
     "iopub.status.busy": "2021-12-14T20:37:23.681891Z",
     "iopub.status.idle": "2021-12-14T20:37:24.054628Z",
     "shell.execute_reply": "2021-12-14T20:37:24.053796Z",
     "shell.execute_reply.started": "2021-12-14T20:37:23.682178Z"
    },
    "tags": []
   },
   "outputs": [],
   "source": [
    "main = pd.read_parquet(\"results/main.parquet\")"
   ]
  },
  {
   "cell_type": "code",
   "execution_count": 6,
   "metadata": {
    "execution": {
     "iopub.execute_input": "2021-12-14T20:37:24.056433Z",
     "iopub.status.busy": "2021-12-14T20:37:24.056031Z",
     "iopub.status.idle": "2021-12-14T20:37:24.068303Z",
     "shell.execute_reply": "2021-12-14T20:37:24.067570Z",
     "shell.execute_reply.started": "2021-12-14T20:37:24.056398Z"
    },
    "tags": []
   },
   "outputs": [
    {
     "data": {
      "text/plain": [
       "(2200, 33)"
      ]
     },
     "execution_count": 6,
     "metadata": {},
     "output_type": "execute_result"
    }
   ],
   "source": [
    "# Unscrambled vs. scrambled\n",
    "subset = main.loc[\n",
    "    main[\"stimulus_is_scrambled_pair\"]\n",
    "]\n",
    "subset.shape"
   ]
  },
  {
   "cell_type": "code",
   "execution_count": 7,
   "metadata": {
    "execution": {
     "iopub.execute_input": "2021-12-14T20:37:24.070026Z",
     "iopub.status.busy": "2021-12-14T20:37:24.069614Z",
     "iopub.status.idle": "2021-12-14T20:37:24.093631Z",
     "shell.execute_reply": "2021-12-14T20:37:24.092767Z",
     "shell.execute_reply.started": "2021-12-14T20:37:24.069988Z"
    },
    "tags": []
   },
   "outputs": [],
   "source": [
    "behavior = (\n",
    "    pd.read_parquet('results/behavior_by_session.parquet')\n",
    "    .merge(METADATA, on='session')\n",
    "    .rename(columns={\n",
    "        \"normalized_pupil_diameter\": \"pupil diameter\",\n",
    "        \"locomotion\": \"locomotion fraction\",\n",
    "    })\n",
    ")"
   ]
  },
  {
   "cell_type": "markdown",
   "metadata": {},
   "source": [
    "## Effect size"
   ]
  },
  {
   "cell_type": "code",
   "execution_count": 8,
   "metadata": {
    "execution": {
     "iopub.execute_input": "2021-12-14T20:37:24.095420Z",
     "iopub.status.busy": "2021-12-14T20:37:24.094997Z",
     "iopub.status.idle": "2021-12-14T20:37:24.099283Z",
     "shell.execute_reply": "2021-12-14T20:37:24.098589Z",
     "shell.execute_reply.started": "2021-12-14T20:37:24.095382Z"
    },
    "tags": []
   },
   "outputs": [],
   "source": [
    "a = 'natural'\n",
    "b = 'artificial'\n",
    "label_col = 'stimulus_type'"
   ]
  },
  {
   "cell_type": "markdown",
   "metadata": {},
   "source": [
    "### Within session"
   ]
  },
  {
   "cell_type": "code",
   "execution_count": 9,
   "metadata": {
    "execution": {
     "iopub.execute_input": "2021-12-14T20:37:24.101192Z",
     "iopub.status.busy": "2021-12-14T20:37:24.100463Z",
     "iopub.status.idle": "2021-12-14T20:37:24.130193Z",
     "shell.execute_reply": "2021-12-14T20:37:24.128915Z",
     "shell.execute_reply.started": "2021-12-14T20:37:24.101154Z"
    },
    "tags": []
   },
   "outputs": [],
   "source": [
    "response = \"log(normalized differentiation)\""
   ]
  },
  {
   "cell_type": "code",
   "execution_count": 10,
   "metadata": {
    "execution": {
     "iopub.execute_input": "2021-12-14T20:37:24.133258Z",
     "iopub.status.busy": "2021-12-14T20:37:24.132026Z",
     "iopub.status.idle": "2021-12-14T20:37:25.075228Z",
     "shell.execute_reply": "2021-12-14T20:37:25.074093Z",
     "shell.execute_reply.started": "2021-12-14T20:37:24.133220Z"
    },
    "tags": []
   },
   "outputs": [
    {
     "data": {
      "application/vnd.jupyter.widget-view+json": {
       "model_id": "8fd90c93110d488aaf6ed344d3b35136",
       "version_major": 2,
       "version_minor": 0
      },
      "text/plain": [
       "  0%|          | 0/44 [00:00<?, ?it/s]"
      ]
     },
     "metadata": {},
     "output_type": "display_data"
    }
   ],
   "source": [
    "effect_size = (\n",
    "    subset\n",
    "    .groupby(\"session\")\n",
    "    .progress_apply(\n",
    "        analysis.cohens_d,\n",
    "        a=a,\n",
    "        b=b,\n",
    "        value_col=response,\n",
    "        label_col=label_col,\n",
    "    )\n",
    ")"
   ]
  },
  {
   "cell_type": "code",
   "execution_count": 11,
   "metadata": {
    "execution": {
     "iopub.execute_input": "2021-12-14T20:37:25.076977Z",
     "iopub.status.busy": "2021-12-14T20:37:25.076622Z",
     "iopub.status.idle": "2021-12-14T20:37:25.087067Z",
     "shell.execute_reply": "2021-12-14T20:37:25.085967Z",
     "shell.execute_reply.started": "2021-12-14T20:37:25.076933Z"
    },
    "tags": []
   },
   "outputs": [],
   "source": [
    "effect_size.to_parquet(\"results/effect_size.parquet\")"
   ]
  },
  {
   "cell_type": "code",
   "execution_count": 12,
   "metadata": {
    "execution": {
     "iopub.execute_input": "2021-12-14T20:37:25.101413Z",
     "iopub.status.busy": "2021-12-14T20:37:25.088692Z",
     "iopub.status.idle": "2021-12-14T20:37:25.131598Z",
     "shell.execute_reply": "2021-12-14T20:37:25.130392Z",
     "shell.execute_reply.started": "2021-12-14T20:37:25.101332Z"
    },
    "tags": []
   },
   "outputs": [],
   "source": [
    "subset = subset.merge(effect_size, on=\"session\")"
   ]
  },
  {
   "cell_type": "code",
   "execution_count": 13,
   "metadata": {
    "execution": {
     "iopub.execute_input": "2021-12-14T20:37:25.134172Z",
     "iopub.status.busy": "2021-12-14T20:37:25.133297Z",
     "iopub.status.idle": "2021-12-14T20:37:25.159171Z",
     "shell.execute_reply": "2021-12-14T20:37:25.158072Z",
     "shell.execute_reply.started": "2021-12-14T20:37:25.134118Z"
    },
    "tags": []
   },
   "outputs": [],
   "source": [
    "main_effect_subset = subset.loc[\n",
    "    (subset.layer == 'L2/3') &\n",
    "    (subset.area.isin(['AL', 'AM'])),\n",
    "]"
   ]
  },
  {
   "cell_type": "markdown",
   "metadata": {},
   "source": [
    "Range of effect sizes within L2/3 AL & AM"
   ]
  },
  {
   "cell_type": "code",
   "execution_count": 14,
   "metadata": {
    "execution": {
     "iopub.execute_input": "2021-12-14T20:37:25.163194Z",
     "iopub.status.busy": "2021-12-14T20:37:25.162788Z",
     "iopub.status.idle": "2021-12-14T20:37:25.181971Z",
     "shell.execute_reply": "2021-12-14T20:37:25.180888Z",
     "shell.execute_reply.started": "2021-12-14T20:37:25.163147Z"
    },
    "tags": []
   },
   "outputs": [
    {
     "data": {
      "text/plain": [
       "0.570463021403664"
      ]
     },
     "execution_count": 14,
     "metadata": {},
     "output_type": "execute_result"
    }
   ],
   "source": [
    "main_effect_subset[\"Cohen's d\"].min()"
   ]
  },
  {
   "cell_type": "code",
   "execution_count": 15,
   "metadata": {
    "execution": {
     "iopub.execute_input": "2021-12-14T20:37:25.184322Z",
     "iopub.status.busy": "2021-12-14T20:37:25.183412Z",
     "iopub.status.idle": "2021-12-14T20:37:25.191678Z",
     "shell.execute_reply": "2021-12-14T20:37:25.190795Z",
     "shell.execute_reply.started": "2021-12-14T20:37:25.184267Z"
    },
    "tags": []
   },
   "outputs": [
    {
     "data": {
      "text/plain": [
       "1.2576662902423894"
      ]
     },
     "execution_count": 15,
     "metadata": {},
     "output_type": "execute_result"
    }
   ],
   "source": [
    "main_effect_subset[\"Cohen's d\"].max()"
   ]
  },
  {
   "cell_type": "markdown",
   "metadata": {},
   "source": [
    "### Effect size across L2/3 AL & AM sessions, "
   ]
  },
  {
   "cell_type": "code",
   "execution_count": 16,
   "metadata": {
    "execution": {
     "iopub.execute_input": "2021-12-14T20:37:25.193737Z",
     "iopub.status.busy": "2021-12-14T20:37:25.193056Z",
     "iopub.status.idle": "2021-12-14T20:37:25.214829Z",
     "shell.execute_reply": "2021-12-14T20:37:25.213923Z",
     "shell.execute_reply.started": "2021-12-14T20:37:25.193688Z"
    },
    "tags": []
   },
   "outputs": [
    {
     "data": {
      "text/plain": [
       "mean difference    0.240340\n",
       "Cohen's d          0.340766\n",
       "dtype: float64"
      ]
     },
     "execution_count": 16,
     "metadata": {},
     "output_type": "execute_result"
    }
   ],
   "source": [
    "analysis.cohens_d(\n",
    "    main_effect_subset,\n",
    "    a=a,\n",
    "    b=b,\n",
    "    value_col=response,\n",
    "    label_col=label_col,\n",
    ")"
   ]
  },
  {
   "cell_type": "markdown",
   "metadata": {},
   "source": [
    "## Plot"
   ]
  },
  {
   "cell_type": "code",
   "execution_count": 17,
   "metadata": {
    "execution": {
     "iopub.execute_input": "2021-12-14T20:37:25.222461Z",
     "iopub.status.busy": "2021-12-14T20:37:25.219945Z",
     "iopub.status.idle": "2021-12-14T20:37:25.247508Z",
     "shell.execute_reply": "2021-12-14T20:37:25.246341Z",
     "shell.execute_reply.started": "2021-12-14T20:37:25.222403Z"
    }
   },
   "outputs": [],
   "source": [
    "behavior = behavior.merge(effect_size, on='session')"
   ]
  },
  {
   "cell_type": "code",
   "execution_count": 18,
   "metadata": {
    "execution": {
     "iopub.execute_input": "2021-12-14T20:37:25.256709Z",
     "iopub.status.busy": "2021-12-14T20:37:25.253633Z",
     "iopub.status.idle": "2021-12-14T20:37:25.268179Z",
     "shell.execute_reply": "2021-12-14T20:37:25.267341Z",
     "shell.execute_reply.started": "2021-12-14T20:37:25.256658Z"
    },
    "tags": []
   },
   "outputs": [],
   "source": [
    "behavior_subset = behavior.loc[\n",
    "    (behavior['layer'] == 'L2/3') &\n",
    "    behavior['area'].isin(['AL', 'AM'])\n",
    "]"
   ]
  },
  {
   "cell_type": "code",
   "execution_count": 19,
   "metadata": {
    "execution": {
     "iopub.execute_input": "2021-12-14T20:37:25.274812Z",
     "iopub.status.busy": "2021-12-14T20:37:25.272659Z",
     "iopub.status.idle": "2021-12-14T20:37:25.280405Z",
     "shell.execute_reply": "2021-12-14T20:37:25.279639Z",
     "shell.execute_reply.started": "2021-12-14T20:37:25.274766Z"
    },
    "tags": []
   },
   "outputs": [],
   "source": [
    "output_dir = OUTPUT_DIR / \"fig_4\""
   ]
  },
  {
   "cell_type": "code",
   "execution_count": 20,
   "metadata": {
    "execution": {
     "iopub.execute_input": "2021-12-14T20:37:25.286715Z",
     "iopub.status.busy": "2021-12-14T20:37:25.284544Z",
     "iopub.status.idle": "2021-12-14T20:37:25.306945Z",
     "shell.execute_reply": "2021-12-14T20:37:25.305987Z",
     "shell.execute_reply.started": "2021-12-14T20:37:25.286668Z"
    },
    "tags": []
   },
   "outputs": [],
   "source": [
    "y = \"Cohen's d\""
   ]
  },
  {
   "cell_type": "code",
   "execution_count": 21,
   "metadata": {
    "execution": {
     "iopub.execute_input": "2021-12-14T20:37:25.308368Z",
     "iopub.status.busy": "2021-12-14T20:37:25.308100Z",
     "iopub.status.idle": "2021-12-14T20:37:25.322501Z",
     "shell.execute_reply": "2021-12-14T20:37:25.321671Z",
     "shell.execute_reply.started": "2021-12-14T20:37:25.308333Z"
    },
    "tags": []
   },
   "outputs": [],
   "source": [
    "def scatter(ax, x, y, data, **kwargs):\n",
    "    kwargs = {\n",
    "        **dict(\n",
    "            hue=\"area\",\n",
    "            style=\"layer\",\n",
    "            s=100,\n",
    "            alpha=0.75,\n",
    "            edgecolor=None,\n",
    "            markers={\n",
    "                \"L2/3\": \"o\",\n",
    "                \"L4\": \"s\",\n",
    "                \"L5\": \"^\",\n",
    "            },\n",
    "            hue_order=[\n",
    "                \"V1\",\n",
    "                \"LM\",\n",
    "                \"AL\",\n",
    "                \"PM\",\n",
    "                \"AM\",\n",
    "            ],\n",
    "        ),\n",
    "        **kwargs,\n",
    "    }\n",
    "    return sb.scatterplot(ax=ax, x=x, y=y, data=data, **kwargs)"
   ]
  },
  {
   "cell_type": "code",
   "execution_count": 22,
   "metadata": {
    "execution": {
     "iopub.execute_input": "2021-12-14T20:37:25.328348Z",
     "iopub.status.busy": "2021-12-14T20:37:25.326440Z",
     "iopub.status.idle": "2021-12-14T20:37:29.711135Z",
     "shell.execute_reply": "2021-12-14T20:37:29.709834Z",
     "shell.execute_reply.started": "2021-12-14T20:37:25.328304Z"
    },
    "tags": []
   },
   "outputs": [
    {
     "data": {
      "image/png": "[encoded data removed]",
      "text/plain": [
       "<Figure size 576x576 with 4 Axes>"
      ]
     },
     "metadata": {
      "needs_background": "light"
     },
     "output_type": "display_data"
    }
   ],
   "source": [
    "figsize = (8, 8)\n",
    "fig, ax = plt.subplots(2, 2, sharey=True, figsize=figsize)\n",
    "\n",
    "sb.regplot(\n",
    "    ax=ax[0, 0],\n",
    "    color=\"grey\",\n",
    "    ci=None,\n",
    "    scatter=False,\n",
    "    x=\"locomotion fraction\",\n",
    "    y=y,\n",
    "    data=behavior_subset,\n",
    ")\n",
    "sb.regplot(\n",
    "    ax=ax[0, 1],\n",
    "    color=\"grey\",\n",
    "    ci=None,\n",
    "    scatter=False,\n",
    "    x=\"pupil diameter\",\n",
    "    y=y,\n",
    "    data=behavior_subset,\n",
    ")\n",
    "\n",
    "scatter(ax=ax[0, 0], x=\"locomotion fraction\", y=y, data=behavior_subset)\n",
    "scatter(ax=ax[0, 1], x=\"pupil diameter\", y=y, data=behavior_subset)\n",
    "scatter(ax=ax[1, 0], x=\"locomotion fraction\", y=y, data=behavior)\n",
    "scatter(ax=ax[1, 1], x=\"pupil diameter\", y=y, data=behavior)\n",
    "\n",
    "for axis in ax[0]:\n",
    "    axis.set_xlabel(None)\n",
    "\n",
    "for axis in ax[:, 1]:\n",
    "    axis.set_ylabel(None)\n",
    "ax[1, 0].set_ylabel(None)\n",
    "\n",
    "for axis in ax.flat:\n",
    "    axis.get_legend().remove()\n",
    "\n",
    "ax[0, 0].set_xlim(0, 0.2)\n",
    "ax[0, 0].set_xticks([0, 0.1, 0.2])\n",
    "ax[1, 0].set_xlim(0, 0.65)\n",
    "ax[1, 0].set_xticks([0, 0.2, 0.4, 0.6])\n",
    "ax[0, 1].set_xlim(0.35, 0.55)\n",
    "ax[0, 1].set_xticks([0.4, 0.5, 0.6])\n",
    "ax[1, 1].set_xlim(0.35, 0.7)\n",
    "ax[1, 1].set_xticks([0.4, 0.5, 0.6, 0.7])\n",
    "\n",
    "handles, labels = ax[1, 1].get_legend_handles_labels()\n",
    "labels[0] = \"\"\n",
    "labels[-4] = \"\"\n",
    "legend = fig.legend(\n",
    "    handles=handles,\n",
    "    labels=labels,\n",
    "    bbox_to_anchor=(1.2, 1),\n",
    "    labelspacing=0.25,\n",
    "    markerscale=1.5,\n",
    "    ncol=1,\n",
    "    handletextpad=-0.25,\n",
    ")\n",
    "\n",
    "fig.tight_layout()\n",
    "fig.subplots_adjust(hspace=0.45, wspace=0.2)\n",
    "\n",
    "# Write to disk\n",
    "analysis.savefig(\n",
    "    fig,\n",
    "    output_dir / \"effect_size_vs_behavior\",\n",
    "    bbox_extra_artists=[legend],\n",
    ")\n",
    "\n",
    "fig.show()"
   ]
  },
  {
   "cell_type": "markdown",
   "metadata": {},
   "source": [
    "## Statistical tests"
   ]
  },
  {
   "cell_type": "markdown",
   "metadata": {},
   "source": [
    "### Set up R and prepare data"
   ]
  },
  {
   "cell_type": "code",
   "execution_count": 23,
   "metadata": {
    "execution": {
     "iopub.execute_input": "2021-12-14T20:37:29.713643Z",
     "iopub.status.busy": "2021-12-14T20:37:29.713285Z",
     "iopub.status.idle": "2021-12-14T20:37:31.585839Z",
     "shell.execute_reply": "2021-12-14T20:37:31.584527Z",
     "shell.execute_reply.started": "2021-12-14T20:37:29.713594Z"
    },
    "tags": []
   },
   "outputs": [],
   "source": [
    "%load_ext rpy2.ipython"
   ]
  },
  {
   "cell_type": "code",
   "execution_count": 24,
   "metadata": {
    "execution": {
     "iopub.execute_input": "2021-12-14T20:37:31.590031Z",
     "iopub.status.busy": "2021-12-14T20:37:31.587700Z",
     "iopub.status.idle": "2021-12-14T20:37:31.605197Z",
     "shell.execute_reply": "2021-12-14T20:37:31.603938Z",
     "shell.execute_reply.started": "2021-12-14T20:37:31.589971Z"
    },
    "tags": []
   },
   "outputs": [],
   "source": [
    "data = behavior.loc[:, [\n",
    "    \"Cohen's d\",\n",
    "    \"area\",\n",
    "    \"layer\",\n",
    "    \"pupil diameter\",\n",
    "    \"locomotion fraction\",\n",
    "]].rename(columns={\n",
    "    \"Cohen's d\": 'cohens_d',\n",
    "    \"locomotion fraction\": 'locomotion_fraction',\n",
    "    \"pupil diameter\": 'pupil_diameter',\n",
    "})"
   ]
  },
  {
   "cell_type": "code",
   "execution_count": 25,
   "metadata": {
    "execution": {
     "iopub.execute_input": "2021-12-14T20:37:31.608857Z",
     "iopub.status.busy": "2021-12-14T20:37:31.606956Z",
     "iopub.status.idle": "2021-12-14T20:37:31.621692Z",
     "shell.execute_reply": "2021-12-14T20:37:31.620535Z",
     "shell.execute_reply.started": "2021-12-14T20:37:31.608803Z"
    },
    "tags": []
   },
   "outputs": [],
   "source": [
    "data_subset = data.loc[\n",
    "    (data['layer'] == 'L2/3') &\n",
    "    (data['area'].isin(['AL', 'AM']))\n",
    "]"
   ]
  },
  {
   "cell_type": "markdown",
   "metadata": {},
   "source": [
    "### Test"
   ]
  },
  {
   "cell_type": "code",
   "execution_count": 26,
   "metadata": {
    "execution": {
     "iopub.execute_input": "2021-12-14T20:37:31.625738Z",
     "iopub.status.busy": "2021-12-14T20:37:31.624060Z",
     "iopub.status.idle": "2021-12-14T20:37:31.795989Z",
     "shell.execute_reply": "2021-12-14T20:37:31.793895Z",
     "shell.execute_reply.started": "2021-12-14T20:37:31.625692Z"
    },
    "tags": []
   },
   "outputs": [
    {
     "name": "stdout",
     "output_type": "stream",
     "text": [
      "\n",
      "\tPearson's product-moment correlation\n",
      "\n",
      "data:  data_subset$locomotion_fraction and data_subset$cohens_d\n",
      "t = 4.0296, df = 4, p-value = 0.01574\n",
      "alternative hypothesis: true correlation is not equal to 0\n",
      "95 percent confidence interval:\n",
      " 0.3082942 0.9886237\n",
      "sample estimates:\n",
      "      cor \n",
      "0.8957413 \n",
      "\n"
     ]
    }
   ],
   "source": [
    "%%R -i data_subset\n",
    "\n",
    "cor.test(\n",
    "    data_subset$locomotion_fraction, \n",
    "    data_subset$cohens_d, \n",
    "    method = 'pearson',\n",
    "    alternative = \"two.sided\",\n",
    ")"
   ]
  },
  {
   "cell_type": "code",
   "execution_count": 27,
   "metadata": {
    "execution": {
     "iopub.execute_input": "2021-12-14T20:37:31.799859Z",
     "iopub.status.busy": "2021-12-14T20:37:31.799498Z",
     "iopub.status.idle": "2021-12-14T20:37:31.900764Z",
     "shell.execute_reply": "2021-12-14T20:37:31.899577Z",
     "shell.execute_reply.started": "2021-12-14T20:37:31.799817Z"
    },
    "tags": []
   },
   "outputs": [
    {
     "name": "stdout",
     "output_type": "stream",
     "text": [
      "\n",
      "\tPearson's product-moment correlation\n",
      "\n",
      "data:  data_subset$pupil_diameter and data_subset$cohens_d\n",
      "t = 2.0537, df = 4, p-value = 0.1092\n",
      "alternative hypothesis: true correlation is not equal to 0\n",
      "95 percent confidence interval:\n",
      " -0.2273095  0.9662081\n",
      "sample estimates:\n",
      "      cor \n",
      "0.7164124 \n",
      "\n"
     ]
    }
   ],
   "source": [
    "%%R -i data_subset\n",
    "\n",
    "cor.test(\n",
    "    data_subset$pupil_diameter, \n",
    "    data_subset$cohens_d, \n",
    "    method = 'pearson',\n",
    "    alternative = \"two.sided\", \n",
    ")"
   ]
  }
 ],
 "metadata": {
  "kernelspec": {
   "display_name": "Python 3 (ipykernel)",
   "language": "python",
   "name": "python3"
  },
  "language_info": {
   "codemirror_mode": {
    "name": "ipython",
    "version": 3
   },
   "file_extension": ".py",
   "mimetype": "text/x-python",
   "name": "python",
   "nbconvert_exporter": "python",
   "pygments_lexer": "ipython3",
   "version": "3.8.8"
  },
  "widgets": {
   "application/vnd.jupyter.widget-state+json": {
    "state": {
     "1aea27f3aa214856bdf9583608818408": {
      "model_module": "@jupyter-widgets/controls",
      "model_module_version": "1.5.0",
      "model_name": "ProgressStyleModel",
      "state": {
       "description_width": ""
      }
     },
     "52ba2324eac1424c9c80dd2bc9b460c5": {
      "model_module": "@jupyter-widgets/controls",
      "model_module_version": "1.5.0",
      "model_name": "DescriptionStyleModel",
      "state": {
       "description_width": ""
      }
     },
     "7485893241f34acc82383a10454e3789": {
      "model_module": "@jupyter-widgets/controls",
      "model_module_version": "1.5.0",
      "model_name": "DescriptionStyleModel",
      "state": {
       "description_width": ""
      }
     },
     "7bae76b9b55a4d168fc9b4a661e931cb": {
      "model_module": "@jupyter-widgets/controls",
      "model_module_version": "1.5.0",
      "model_name": "HTMLModel",
      "state": {
       "layout": "IPY_MODEL_c5cf5a32f26944bdb7146284914ff9e1",
       "style": "IPY_MODEL_52ba2324eac1424c9c80dd2bc9b460c5",
       "value": "100%"
      }
     },
     "83d6b0dd3d5345459b89302e9273815c": {
      "model_module": "@jupyter-widgets/controls",
      "model_module_version": "1.5.0",
      "model_name": "HTMLModel",
      "state": {
       "layout": "IPY_MODEL_d4450af5449e4a7dbe725e7f4583ee20",
       "style": "IPY_MODEL_7485893241f34acc82383a10454e3789",
       "value": " 44/44 [00:00&lt;00:00, 50.47it/s]"
      }
     },
     "8fd90c93110d488aaf6ed344d3b35136": {
      "model_module": "@jupyter-widgets/controls",
      "model_module_version": "1.5.0",
      "model_name": "HBoxModel",
      "state": {
       "children": [
        "IPY_MODEL_7bae76b9b55a4d168fc9b4a661e931cb",
        "IPY_MODEL_99c3609054444dc58a005bbdde061297",
        "IPY_MODEL_83d6b0dd3d5345459b89302e9273815c"
       ],
       "layout": "IPY_MODEL_c338c9dadab4439c99221b2d51ed1ad1"
      }
     },
     "99c3609054444dc58a005bbdde061297": {
      "model_module": "@jupyter-widgets/controls",
      "model_module_version": "1.5.0",
      "model_name": "FloatProgressModel",
      "state": {
       "bar_style": "success",
       "layout": "IPY_MODEL_f9f9d74a22644559a4fe00789194f0f6",
       "max": 44,
       "style": "IPY_MODEL_1aea27f3aa214856bdf9583608818408",
       "value": 44
      }
     },
     "c338c9dadab4439c99221b2d51ed1ad1": {
      "model_module": "@jupyter-widgets/base",
      "model_module_version": "1.2.0",
      "model_name": "LayoutModel",
      "state": {}
     },
     "c5cf5a32f26944bdb7146284914ff9e1": {
      "model_module": "@jupyter-widgets/base",
      "model_module_version": "1.2.0",
      "model_name": "LayoutModel",
      "state": {}
     },
     "d4450af5449e4a7dbe725e7f4583ee20": {
      "model_module": "@jupyter-widgets/base",
      "model_module_version": "1.2.0",
      "model_name": "LayoutModel",
      "state": {}
     },
     "f9f9d74a22644559a4fe00789194f0f6": {
      "model_module": "@jupyter-widgets/base",
      "model_module_version": "1.2.0",
      "model_name": "LayoutModel",
      "state": {}
     }
    },
    "version_major": 2,
    "version_minor": 0
   }
  }
 },
 "nbformat": 4,
 "nbformat_minor": 4
}
