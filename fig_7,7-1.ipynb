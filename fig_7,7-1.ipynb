{
 "cells": [
  {
   "cell_type": "markdown",
   "id": "serious-summit",
   "metadata": {},
   "source": [
    "# Figures 7 & 7-1\n",
    "\n",
    "Pairwise differences in neurophysiological differentiation among stimuli"
   ]
  },
  {
   "cell_type": "code",
   "execution_count": 1,
   "id": "introductory-mambo",
   "metadata": {
    "execution": {
     "iopub.execute_input": "2021-12-14T20:41:26.755340Z",
     "iopub.status.busy": "2021-12-14T20:41:26.754978Z",
     "iopub.status.idle": "2021-12-14T20:41:28.049156Z",
     "shell.execute_reply": "2021-12-14T20:41:28.048282Z",
     "shell.execute_reply.started": "2021-12-14T20:41:26.755250Z"
    },
    "tags": []
   },
   "outputs": [],
   "source": [
    "from pathlib import Path\n",
    "\n",
    "import pandas as pd\n",
    "from IPython.display import Image\n",
    "from tqdm.auto import tqdm\n",
    "\n",
    "import analysis\n",
    "from analysis import CONTINUOUS_NATURAL, prepare_data_for_r"
   ]
  },
  {
   "cell_type": "code",
   "execution_count": 2,
   "id": "intermediate-summer",
   "metadata": {
    "execution": {
     "iopub.execute_input": "2021-12-14T20:41:28.050551Z",
     "iopub.status.busy": "2021-12-14T20:41:28.050282Z",
     "iopub.status.idle": "2021-12-14T20:41:28.054274Z",
     "shell.execute_reply": "2021-12-14T20:41:28.053457Z",
     "shell.execute_reply.started": "2021-12-14T20:41:28.050530Z"
    },
    "tags": []
   },
   "outputs": [],
   "source": [
    "OUTPUT_DIR = Path('figures')"
   ]
  },
  {
   "cell_type": "markdown",
   "id": "american-qualification",
   "metadata": {},
   "source": [
    "## Set up R"
   ]
  },
  {
   "cell_type": "code",
   "execution_count": 3,
   "id": "liable-iraqi",
   "metadata": {
    "execution": {
     "iopub.execute_input": "2021-12-14T20:41:28.056037Z",
     "iopub.status.busy": "2021-12-14T20:41:28.055820Z",
     "iopub.status.idle": "2021-12-14T20:41:28.555979Z",
     "shell.execute_reply": "2021-12-14T20:41:28.555135Z",
     "shell.execute_reply.started": "2021-12-14T20:41:28.056017Z"
    },
    "tags": []
   },
   "outputs": [],
   "source": [
    "%load_ext rpy2.ipython"
   ]
  },
  {
   "cell_type": "code",
   "execution_count": 4,
   "id": "usual-observation",
   "metadata": {
    "execution": {
     "iopub.execute_input": "2021-12-14T20:41:28.557224Z",
     "iopub.status.busy": "2021-12-14T20:41:28.557034Z",
     "iopub.status.idle": "2021-12-14T20:41:31.442043Z",
     "shell.execute_reply": "2021-12-14T20:41:31.441162Z",
     "shell.execute_reply.started": "2021-12-14T20:41:28.557200Z"
    },
    "tags": []
   },
   "outputs": [
    {
     "name": "stderr",
     "output_type": "stream",
     "text": [
      "R[write to console]: ── Attaching packages ─────────────────────────────────────── tidyverse 1.2.1 ──\n",
      "\n",
      "R[write to console]: ✔ ggplot2 3.3.3     ✔ purrr   0.3.4\n",
      "✔ tibble  3.1.2     ✔ dplyr   1.0.6\n",
      "✔ tidyr   1.1.3     ✔ stringr 1.4.0\n",
      "✔ readr   1.4.0     ✔ forcats 0.5.1\n",
      "\n",
      "R[write to console]: ── Conflicts ────────────────────────────────────────── tidyverse_conflicts() ──\n",
      "✖ dplyr::filter() masks stats::filter()\n",
      "✖ dplyr::lag()    masks stats::lag()\n",
      "\n",
      "R[write to console]: Loading required package: Matrix\n",
      "\n",
      "R[write to console]: \n",
      "Attaching package: ‘Matrix’\n",
      "\n",
      "\n",
      "R[write to console]: The following objects are masked from ‘package:tidyr’:\n",
      "\n",
      "    expand, pack, unpack\n",
      "\n",
      "\n",
      "R[write to console]: Loading required package: mvtnorm\n",
      "\n",
      "R[write to console]: Loading required package: survival\n",
      "\n",
      "R[write to console]: Loading required package: TH.data\n",
      "\n",
      "R[write to console]: Loading required package: MASS\n",
      "\n",
      "R[write to console]: \n",
      "Attaching package: ‘MASS’\n",
      "\n",
      "\n",
      "R[write to console]: The following object is masked from ‘package:dplyr’:\n",
      "\n",
      "    select\n",
      "\n",
      "\n",
      "R[write to console]: \n",
      "Attaching package: ‘TH.data’\n",
      "\n",
      "\n",
      "R[write to console]: The following object is masked from ‘package:MASS’:\n",
      "\n",
      "    geyser\n",
      "\n",
      "\n",
      "R[write to console]: \n",
      "Attaching package: ‘emmeans’\n",
      "\n",
      "\n",
      "R[write to console]: The following object is masked from ‘package:multcomp’:\n",
      "\n",
      "    cld\n",
      "\n",
      "\n"
     ]
    }
   ],
   "source": [
    "%%R\n",
    "library(tidyverse)\n",
    "library(broom)\n",
    "library(ggplot2)\n",
    "library(lme4)\n",
    "library(multcomp)\n",
    "library(emmeans)\n",
    "\n",
    "theme_set(theme_minimal())"
   ]
  },
  {
   "cell_type": "markdown",
   "id": "known-retrieval",
   "metadata": {},
   "source": [
    "## Load data"
   ]
  },
  {
   "cell_type": "code",
   "execution_count": 5,
   "id": "36e04b71-bd45-40a6-a3ae-67c15809a3c6",
   "metadata": {
    "execution": {
     "iopub.execute_input": "2021-12-14T20:41:31.443939Z",
     "iopub.status.busy": "2021-12-14T20:41:31.443569Z",
     "iopub.status.idle": "2021-12-14T20:41:31.593092Z",
     "shell.execute_reply": "2021-12-14T20:41:31.592035Z",
     "shell.execute_reply.started": "2021-12-14T20:41:31.443902Z"
    },
    "tags": []
   },
   "outputs": [],
   "source": [
    "df = pd.read_parquet(\"results/main.parquet\")"
   ]
  },
  {
   "cell_type": "code",
   "execution_count": 6,
   "id": "85e0c36a-952a-4e3f-9f78-265cf0b34cad",
   "metadata": {
    "execution": {
     "iopub.execute_input": "2021-12-14T20:41:31.594880Z",
     "iopub.status.busy": "2021-12-14T20:41:31.594538Z",
     "iopub.status.idle": "2021-12-14T20:41:31.598893Z",
     "shell.execute_reply": "2021-12-14T20:41:31.598037Z",
     "shell.execute_reply.started": "2021-12-14T20:41:31.594845Z"
    },
    "tags": []
   },
   "outputs": [],
   "source": [
    "response = \"log(normalized differentiation)\""
   ]
  },
  {
   "cell_type": "code",
   "execution_count": 7,
   "id": "imposed-hunger",
   "metadata": {
    "execution": {
     "iopub.execute_input": "2021-12-14T20:41:31.600407Z",
     "iopub.status.busy": "2021-12-14T20:41:31.600100Z",
     "iopub.status.idle": "2021-12-14T20:41:31.608796Z",
     "shell.execute_reply": "2021-12-14T20:41:31.607869Z",
     "shell.execute_reply.started": "2021-12-14T20:41:31.600375Z"
    },
    "tags": []
   },
   "outputs": [],
   "source": [
    "# Compare continuous natural stimuli\n",
    "df = df.loc[\n",
    "    df['stimulus'].isin(CONTINUOUS_NATURAL),\n",
    "]"
   ]
  },
  {
   "cell_type": "code",
   "execution_count": 8,
   "id": "ce7a6556-e6ab-44d8-a924-bde4ec52c9e9",
   "metadata": {
    "execution": {
     "iopub.execute_input": "2021-12-14T20:41:31.610409Z",
     "iopub.status.busy": "2021-12-14T20:41:31.610089Z",
     "iopub.status.idle": "2021-12-14T20:41:31.617543Z",
     "shell.execute_reply": "2021-12-14T20:41:31.616647Z",
     "shell.execute_reply.started": "2021-12-14T20:41:31.610377Z"
    },
    "tags": []
   },
   "outputs": [],
   "source": [
    "df = prepare_data_for_r(df, response)"
   ]
  },
  {
   "cell_type": "markdown",
   "id": "mounted-sixth",
   "metadata": {},
   "source": [
    "## Fit model"
   ]
  },
  {
   "cell_type": "code",
   "execution_count": 9,
   "id": "143554c4-21d0-4754-a10f-0a2759b1817a",
   "metadata": {
    "execution": {
     "iopub.execute_input": "2021-12-14T20:41:31.619169Z",
     "iopub.status.busy": "2021-12-14T20:41:31.618831Z",
     "iopub.status.idle": "2021-12-14T20:41:31.628476Z",
     "shell.execute_reply": "2021-12-14T20:41:31.627628Z",
     "shell.execute_reply.started": "2021-12-14T20:41:31.619134Z"
    },
    "tags": []
   },
   "outputs": [
    {
     "data": {
      "text/plain": [
       "array(['conspecifics', 'crickets (prey)', 'man writing', 'mousecam',\n",
       "       'snake (predator)'], dtype=object)"
      ]
     },
     "execution_count": 9,
     "metadata": {},
     "output_type": "execute_result"
    }
   ],
   "source": [
    "df.stimulus.unique()"
   ]
  },
  {
   "cell_type": "code",
   "execution_count": 10,
   "id": "typical-kennedy",
   "metadata": {
    "execution": {
     "iopub.execute_input": "2021-12-14T20:41:31.630034Z",
     "iopub.status.busy": "2021-12-14T20:41:31.629704Z",
     "iopub.status.idle": "2021-12-14T20:41:31.635515Z",
     "shell.execute_reply": "2021-12-14T20:41:31.634490Z",
     "shell.execute_reply.started": "2021-12-14T20:41:31.630003Z"
    },
    "tags": []
   },
   "outputs": [
    {
     "name": "stdout",
     "output_type": "stream",
     "text": [
      "`log(normalized differentiation)` ~ 1 + stimulus + (1 | session)\n",
      "`log(normalized differentiation)` ~ 1 + (1 | session)\n"
     ]
    }
   ],
   "source": [
    "formula = f\"`{response}` ~ 1 + stimulus + (1 | session)\"\n",
    "reduced_formula = f\"`{response}` ~ 1 + (1 | session)\"\n",
    "print(formula)\n",
    "print(reduced_formula)"
   ]
  },
  {
   "cell_type": "code",
   "execution_count": 11,
   "id": "accessory-observer",
   "metadata": {
    "execution": {
     "iopub.execute_input": "2021-12-14T20:41:31.637128Z",
     "iopub.status.busy": "2021-12-14T20:41:31.636796Z",
     "iopub.status.idle": "2021-12-14T20:41:32.381362Z",
     "shell.execute_reply": "2021-12-14T20:41:32.380362Z",
     "shell.execute_reply.started": "2021-12-14T20:41:31.637094Z"
    },
    "tags": []
   },
   "outputs": [
    {
     "name": "stderr",
     "output_type": "stream",
     "text": [
      "/home/wmayner/miniconda3/envs/openscope-differentiation-test3/lib/python3.8/site-packages/pandas/core/arrays/datetimes.py:2085: PytzUsageWarning: The zone attribute is specific to pytz's interface; please migrate to a new time zone provider. For more details on how to do so, see https://pytz-deprecation-shim.readthedocs.io/en/latest/migration.html\n",
      "  values, tz_parsed = conversion.datetime_to_datetime64(data)\n",
      "/home/wmayner/miniconda3/envs/openscope-differentiation-test3/lib/python3.8/site-packages/pandas/core/arrays/datetimes.py:2201: PytzUsageWarning: The zone attribute is specific to pytz's interface; please migrate to a new time zone provider. For more details on how to do so, see https://pytz-deprecation-shim.readthedocs.io/en/latest/migration.html\n",
      "  elif not timezones.tz_compare(tz, inferred_tz):\n",
      "/home/wmayner/miniconda3/envs/openscope-differentiation-test3/lib/python3.8/site-packages/pandas/core/arrays/datetimes.py:2282: PytzUsageWarning: The zone attribute is specific to pytz's interface; please migrate to a new time zone provider. For more details on how to do so, see https://pytz-deprecation-shim.readthedocs.io/en/latest/migration.html\n",
      "  if tz is not None and not timezones.tz_compare(tz, dtz):\n",
      "/home/wmayner/miniconda3/envs/openscope-differentiation-test3/lib/python3.8/site-packages/pandas/core/dtypes/cast.py:1329: PytzUsageWarning: The zone attribute is specific to pytz's interface; please migrate to a new time zone provider. For more details on how to do so, see https://pytz-deprecation-shim.readthedocs.io/en/latest/migration.html\n",
      "  values, tz = conversion.datetime_to_datetime64(v)\n"
     ]
    },
    {
     "name": "stdout",
     "output_type": "stream",
     "text": [
      "Data: df\n",
      "Models:\n",
      "reduced_model: `log(normalized differentiation)` ~ 1 + (1 | session)\n",
      "model: `log(normalized differentiation)` ~ 1 + stimulus + (1 | session)\n",
      "              Df    AIC    BIC  logLik deviance  Chisq Chi Df Pr(>Chisq)    \n",
      "reduced_model  3 2926.0 2943.1 -1460.0   2920.0                             \n",
      "model          7 2901.8 2941.7 -1443.9   2887.8 32.115      4  1.812e-06 ***\n",
      "---\n",
      "Signif. codes:  0 ‘***’ 0.001 ‘**’ 0.01 ‘*’ 0.05 ‘.’ 0.1 ‘ ’ 1\n"
     ]
    }
   ],
   "source": [
    "%%R -i df -i formula -i reduced_formula\n",
    "\n",
    "# Order factors\n",
    "df$stimulus = fct_relevel(\n",
    "    df$stimulus,\n",
    "    \"snake (predator)\",\n",
    "    \"mousecam\", \n",
    "    \"conspecifics\", \n",
    "    \"crickets (prey)\", \n",
    "    \"man writing\"\n",
    ")\n",
    "\n",
    "# Estimate models\n",
    "model = lmer(formula, data=df, REML=FALSE)\n",
    "reduced_model = lmer(reduced_formula, data=df, REML=FALSE)\n",
    "\n",
    "# Compare models\n",
    "model_comparison = anova(model, reduced_model)\n",
    "print(model_comparison)"
   ]
  },
  {
   "cell_type": "markdown",
   "id": "answering-alexander",
   "metadata": {},
   "source": [
    "### Post hoc tests of pairwise differences in estimated marginal means among stimuli"
   ]
  },
  {
   "cell_type": "code",
   "execution_count": 12,
   "id": "referenced-campus",
   "metadata": {
    "execution": {
     "iopub.execute_input": "2021-12-14T20:41:32.385481Z",
     "iopub.status.busy": "2021-12-14T20:41:32.385140Z",
     "iopub.status.idle": "2021-12-14T20:41:32.465711Z",
     "shell.execute_reply": "2021-12-14T20:41:32.464765Z",
     "shell.execute_reply.started": "2021-12-14T20:41:32.385449Z"
    },
    "tags": []
   },
   "outputs": [],
   "source": [
    "%%R -o pairwise_differences -o confidence_intervals\n",
    "\n",
    "# Estimate marginal means\n",
    "posthoc = emmeans(model, list(pairwise ~ stimulus), adjust='tukey', alternative='two.sided')\n",
    "confidence_intervals = confint(posthoc)\n",
    "\n",
    "means = posthoc$`emmeans of stimulus`\n",
    "pairwise_differences = tidy(posthoc$`pairwise differences of stimulus`)"
   ]
  },
  {
   "cell_type": "code",
   "execution_count": 13,
   "id": "328607c9-9135-4525-bdaa-18ad9e50c220",
   "metadata": {
    "execution": {
     "iopub.execute_input": "2021-12-14T20:41:32.467180Z",
     "iopub.status.busy": "2021-12-14T20:41:32.466900Z",
     "iopub.status.idle": "2021-12-14T20:41:32.485754Z",
     "shell.execute_reply": "2021-12-14T20:41:32.484792Z",
     "shell.execute_reply.started": "2021-12-14T20:41:32.467147Z"
    },
    "tags": []
   },
   "outputs": [
    {
     "data": {
      "text/html": [
       "<div>\n",
       "<style scoped>\n",
       "    .dataframe tbody tr th:only-of-type {\n",
       "        vertical-align: middle;\n",
       "    }\n",
       "\n",
       "    .dataframe tbody tr th {\n",
       "        vertical-align: top;\n",
       "    }\n",
       "\n",
       "    .dataframe thead th {\n",
       "        text-align: right;\n",
       "    }\n",
       "</style>\n",
       "<table border=\"1\" class=\"dataframe\">\n",
       "  <thead>\n",
       "    <tr style=\"text-align: right;\">\n",
       "      <th></th>\n",
       "      <th>level1</th>\n",
       "      <th>level2</th>\n",
       "      <th>estimate</th>\n",
       "      <th>std.error</th>\n",
       "      <th>df</th>\n",
       "      <th>z.ratio</th>\n",
       "      <th>p.value</th>\n",
       "    </tr>\n",
       "  </thead>\n",
       "  <tbody>\n",
       "    <tr>\n",
       "      <th>1</th>\n",
       "      <td>snake (predator)</td>\n",
       "      <td>mousecam</td>\n",
       "      <td>0.055952</td>\n",
       "      <td>0.030205</td>\n",
       "      <td>inf</td>\n",
       "      <td>1.852437</td>\n",
       "      <td>0.343408</td>\n",
       "    </tr>\n",
       "    <tr>\n",
       "      <th>2</th>\n",
       "      <td>snake (predator)</td>\n",
       "      <td>conspecifics</td>\n",
       "      <td>0.097520</td>\n",
       "      <td>0.030205</td>\n",
       "      <td>inf</td>\n",
       "      <td>3.228648</td>\n",
       "      <td>0.010909</td>\n",
       "    </tr>\n",
       "    <tr>\n",
       "      <th>3</th>\n",
       "      <td>snake (predator)</td>\n",
       "      <td>crickets (prey)</td>\n",
       "      <td>0.118645</td>\n",
       "      <td>0.030205</td>\n",
       "      <td>inf</td>\n",
       "      <td>3.928041</td>\n",
       "      <td>0.000815</td>\n",
       "    </tr>\n",
       "    <tr>\n",
       "      <th>4</th>\n",
       "      <td>snake (predator)</td>\n",
       "      <td>man writing</td>\n",
       "      <td>0.158540</td>\n",
       "      <td>0.030205</td>\n",
       "      <td>inf</td>\n",
       "      <td>5.248865</td>\n",
       "      <td>0.000002</td>\n",
       "    </tr>\n",
       "    <tr>\n",
       "      <th>5</th>\n",
       "      <td>mousecam</td>\n",
       "      <td>conspecifics</td>\n",
       "      <td>0.041568</td>\n",
       "      <td>0.030205</td>\n",
       "      <td>inf</td>\n",
       "      <td>1.376211</td>\n",
       "      <td>0.642996</td>\n",
       "    </tr>\n",
       "    <tr>\n",
       "      <th>6</th>\n",
       "      <td>mousecam</td>\n",
       "      <td>crickets (prey)</td>\n",
       "      <td>0.062693</td>\n",
       "      <td>0.030205</td>\n",
       "      <td>inf</td>\n",
       "      <td>2.075604</td>\n",
       "      <td>0.230645</td>\n",
       "    </tr>\n",
       "    <tr>\n",
       "      <th>7</th>\n",
       "      <td>mousecam</td>\n",
       "      <td>man writing</td>\n",
       "      <td>0.102588</td>\n",
       "      <td>0.030205</td>\n",
       "      <td>inf</td>\n",
       "      <td>3.396428</td>\n",
       "      <td>0.006146</td>\n",
       "    </tr>\n",
       "    <tr>\n",
       "      <th>8</th>\n",
       "      <td>conspecifics</td>\n",
       "      <td>crickets (prey)</td>\n",
       "      <td>0.021125</td>\n",
       "      <td>0.030205</td>\n",
       "      <td>inf</td>\n",
       "      <td>0.699393</td>\n",
       "      <td>0.956678</td>\n",
       "    </tr>\n",
       "    <tr>\n",
       "      <th>9</th>\n",
       "      <td>conspecifics</td>\n",
       "      <td>man writing</td>\n",
       "      <td>0.061020</td>\n",
       "      <td>0.030205</td>\n",
       "      <td>inf</td>\n",
       "      <td>2.020217</td>\n",
       "      <td>0.256156</td>\n",
       "    </tr>\n",
       "    <tr>\n",
       "      <th>10</th>\n",
       "      <td>crickets (prey)</td>\n",
       "      <td>man writing</td>\n",
       "      <td>0.039895</td>\n",
       "      <td>0.030205</td>\n",
       "      <td>inf</td>\n",
       "      <td>1.320824</td>\n",
       "      <td>0.678213</td>\n",
       "    </tr>\n",
       "  </tbody>\n",
       "</table>\n",
       "</div>"
      ],
      "text/plain": [
       "              level1           level2  estimate  std.error   df   z.ratio  \\\n",
       "1   snake (predator)         mousecam  0.055952   0.030205  inf  1.852437   \n",
       "2   snake (predator)     conspecifics  0.097520   0.030205  inf  3.228648   \n",
       "3   snake (predator)  crickets (prey)  0.118645   0.030205  inf  3.928041   \n",
       "4   snake (predator)      man writing  0.158540   0.030205  inf  5.248865   \n",
       "5           mousecam     conspecifics  0.041568   0.030205  inf  1.376211   \n",
       "6           mousecam  crickets (prey)  0.062693   0.030205  inf  2.075604   \n",
       "7           mousecam      man writing  0.102588   0.030205  inf  3.396428   \n",
       "8       conspecifics  crickets (prey)  0.021125   0.030205  inf  0.699393   \n",
       "9       conspecifics      man writing  0.061020   0.030205  inf  2.020217   \n",
       "10   crickets (prey)      man writing  0.039895   0.030205  inf  1.320824   \n",
       "\n",
       "     p.value  \n",
       "1   0.343408  \n",
       "2   0.010909  \n",
       "3   0.000815  \n",
       "4   0.000002  \n",
       "5   0.642996  \n",
       "6   0.230645  \n",
       "7   0.006146  \n",
       "8   0.956678  \n",
       "9   0.256156  \n",
       "10  0.678213  "
      ]
     },
     "execution_count": 13,
     "metadata": {},
     "output_type": "execute_result"
    }
   ],
   "source": [
    "pairwise_differences"
   ]
  },
  {
   "cell_type": "code",
   "execution_count": 14,
   "id": "c000505f-2733-4def-8b58-9b341efd0b20",
   "metadata": {
    "execution": {
     "iopub.execute_input": "2021-12-14T20:41:32.487339Z",
     "iopub.status.busy": "2021-12-14T20:41:32.486968Z",
     "iopub.status.idle": "2021-12-14T20:41:32.502511Z",
     "shell.execute_reply": "2021-12-14T20:41:32.501522Z",
     "shell.execute_reply.started": "2021-12-14T20:41:32.487300Z"
    },
    "tags": []
   },
   "outputs": [
    {
     "name": "stdout",
     "output_type": "stream",
     "text": [
      "$`emmeans of stimulus`\n",
      " stimulus         emmean     SE  df asymp.LCL asymp.UCL\n",
      " snake (predator)   2.07 0.0743 Inf      1.92      2.22\n",
      " mousecam           2.01 0.0743 Inf      1.87      2.16\n",
      " conspecifics       1.97 0.0743 Inf      1.83      2.12\n",
      " crickets (prey)    1.95 0.0743 Inf      1.81      2.10\n",
      " man writing        1.91 0.0743 Inf      1.77      2.06\n",
      "\n",
      "Degrees-of-freedom method: asymptotic \n",
      "Confidence level used: 0.95 \n",
      "\n",
      "$`pairwise differences of stimulus`\n",
      " contrast                           estimate     SE  df asymp.LCL asymp.UCL\n",
      " snake (predator) - mousecam          0.0560 0.0302 Inf   -0.0264     0.138\n",
      " snake (predator) - conspecifics      0.0975 0.0302 Inf    0.0151     0.180\n",
      " snake (predator) - crickets (prey)   0.1186 0.0302 Inf    0.0363     0.201\n",
      " snake (predator) - man writing       0.1585 0.0302 Inf    0.0761     0.241\n",
      " mousecam - conspecifics              0.0416 0.0302 Inf   -0.0408     0.124\n",
      " mousecam - crickets (prey)           0.0627 0.0302 Inf   -0.0197     0.145\n",
      " mousecam - man writing               0.1026 0.0302 Inf    0.0202     0.185\n",
      " conspecifics - crickets (prey)       0.0211 0.0302 Inf   -0.0613     0.104\n",
      " conspecifics - man writing           0.0610 0.0302 Inf   -0.0214     0.143\n",
      " crickets (prey) - man writing        0.0399 0.0302 Inf   -0.0425     0.122\n",
      "\n",
      "Confidence level used: 0.95 \n",
      "Conf-level adjustment: tukey method for comparing a family of 5 estimates \n",
      "\n",
      "\n"
     ]
    }
   ],
   "source": [
    "print(confidence_intervals)"
   ]
  },
  {
   "cell_type": "markdown",
   "id": "conventional-second",
   "metadata": {},
   "source": [
    "### Plot"
   ]
  },
  {
   "cell_type": "code",
   "execution_count": 15,
   "id": "academic-pendant",
   "metadata": {
    "execution": {
     "iopub.execute_input": "2021-12-14T20:41:32.504031Z",
     "iopub.status.busy": "2021-12-14T20:41:32.503689Z",
     "iopub.status.idle": "2021-12-14T20:41:32.508666Z",
     "shell.execute_reply": "2021-12-14T20:41:32.507682Z",
     "shell.execute_reply.started": "2021-12-14T20:41:32.503999Z"
    },
    "tags": []
   },
   "outputs": [],
   "source": [
    "path = OUTPUT_DIR / \"fig_7/pairwise_stimulus_estimated_marginal_mean_differences.png\"\n",
    "path.parent.mkdir(exist_ok=True)\n",
    "path = str(path)"
   ]
  },
  {
   "cell_type": "code",
   "execution_count": 16,
   "id": "floppy-anatomy",
   "metadata": {
    "execution": {
     "iopub.execute_input": "2021-12-14T20:41:32.510157Z",
     "iopub.status.busy": "2021-12-14T20:41:32.509814Z",
     "iopub.status.idle": "2021-12-14T20:41:32.943698Z",
     "shell.execute_reply": "2021-12-14T20:41:32.942937Z",
     "shell.execute_reply.started": "2021-12-14T20:41:32.510123Z"
    },
    "tags": []
   },
   "outputs": [],
   "source": [
    "%%R -i path\n",
    "\n",
    "p = (\n",
    "    pwpp(means) \n",
    "    + scale_colour_grey(start=0, end=0) \n",
    "    + theme(text = element_text(family = 'Roboto'))\n",
    ")\n",
    "\n",
    "width = 6\n",
    "\n",
    "ggsave(\n",
    "    path,\n",
    "    p,\n",
    "    width=width,\n",
    "    height=width/2,\n",
    "    dpi=300,\n",
    ")"
   ]
  },
  {
   "cell_type": "code",
   "execution_count": 17,
   "id": "unusual-thermal",
   "metadata": {
    "execution": {
     "iopub.execute_input": "2021-12-14T20:41:32.945203Z",
     "iopub.status.busy": "2021-12-14T20:41:32.944867Z",
     "iopub.status.idle": "2021-12-14T20:41:32.952321Z",
     "shell.execute_reply": "2021-12-14T20:41:32.951400Z",
     "shell.execute_reply.started": "2021-12-14T20:41:32.945171Z"
    },
    "tags": []
   },
   "outputs": [
    {
     "data": {
      "image/png": "[encoded data removed]",
      "text/plain": [
       "<IPython.core.display.Image object>"
      ]
     },
     "execution_count": 17,
     "metadata": {},
     "output_type": "execute_result"
    }
   ],
   "source": [
    "Image(filename=path)"
   ]
  },
  {
   "cell_type": "markdown",
   "id": "ce6db76c-7d2d-4cbc-9093-0d10fcb16d6a",
   "metadata": {},
   "source": [
    "## Effect size"
   ]
  },
  {
   "cell_type": "code",
   "execution_count": 18,
   "id": "bff65b7d-a241-4499-a895-5992b9729b4d",
   "metadata": {
    "execution": {
     "iopub.execute_input": "2021-12-14T20:41:32.954037Z",
     "iopub.status.busy": "2021-12-14T20:41:32.953691Z",
     "iopub.status.idle": "2021-12-14T20:41:33.074249Z",
     "shell.execute_reply": "2021-12-14T20:41:33.073238Z",
     "shell.execute_reply.started": "2021-12-14T20:41:32.954004Z"
    },
    "tags": []
   },
   "outputs": [
    {
     "name": "stdout",
     "output_type": "stream",
     "text": [
      "snake (predator) – mousecam\n"
     ]
    },
    {
     "data": {
      "text/plain": [
       "mean difference    0.056\n",
       "Cohen's d          0.090\n",
       "dtype: float64"
      ]
     },
     "metadata": {},
     "output_type": "display_data"
    },
    {
     "name": "stdout",
     "output_type": "stream",
     "text": [
      "---\n",
      "snake (predator) – conspecifics\n"
     ]
    },
    {
     "data": {
      "text/plain": [
       "mean difference    0.098\n",
       "Cohen's d          0.156\n",
       "dtype: float64"
      ]
     },
     "metadata": {},
     "output_type": "display_data"
    },
    {
     "name": "stdout",
     "output_type": "stream",
     "text": [
      "---\n",
      "snake (predator) – crickets (prey)\n"
     ]
    },
    {
     "data": {
      "text/plain": [
       "mean difference    0.119\n",
       "Cohen's d          0.181\n",
       "dtype: float64"
      ]
     },
     "metadata": {},
     "output_type": "display_data"
    },
    {
     "name": "stdout",
     "output_type": "stream",
     "text": [
      "---\n",
      "snake (predator) – man writing\n"
     ]
    },
    {
     "data": {
      "text/plain": [
       "mean difference    0.159\n",
       "Cohen's d          0.232\n",
       "dtype: float64"
      ]
     },
     "metadata": {},
     "output_type": "display_data"
    },
    {
     "name": "stdout",
     "output_type": "stream",
     "text": [
      "---\n",
      "mousecam – conspecifics\n"
     ]
    },
    {
     "data": {
      "text/plain": [
       "mean difference    0.042\n",
       "Cohen's d          0.068\n",
       "dtype: float64"
      ]
     },
     "metadata": {},
     "output_type": "display_data"
    },
    {
     "name": "stdout",
     "output_type": "stream",
     "text": [
      "---\n",
      "mousecam – crickets (prey)\n"
     ]
    },
    {
     "data": {
      "text/plain": [
       "mean difference    0.063\n",
       "Cohen's d          0.098\n",
       "dtype: float64"
      ]
     },
     "metadata": {},
     "output_type": "display_data"
    },
    {
     "name": "stdout",
     "output_type": "stream",
     "text": [
      "---\n",
      "mousecam – man writing\n"
     ]
    },
    {
     "data": {
      "text/plain": [
       "mean difference    0.103\n",
       "Cohen's d          0.154\n",
       "dtype: float64"
      ]
     },
     "metadata": {},
     "output_type": "display_data"
    },
    {
     "name": "stdout",
     "output_type": "stream",
     "text": [
      "---\n",
      "conspecifics – crickets (prey)\n"
     ]
    },
    {
     "data": {
      "text/plain": [
       "mean difference    0.021\n",
       "Cohen's d          0.033\n",
       "dtype: float64"
      ]
     },
     "metadata": {},
     "output_type": "display_data"
    },
    {
     "name": "stdout",
     "output_type": "stream",
     "text": [
      "---\n",
      "conspecifics – man writing\n"
     ]
    },
    {
     "data": {
      "text/plain": [
       "mean difference    0.061\n",
       "Cohen's d          0.091\n",
       "dtype: float64"
      ]
     },
     "metadata": {},
     "output_type": "display_data"
    },
    {
     "name": "stdout",
     "output_type": "stream",
     "text": [
      "---\n",
      "crickets (prey) – man writing\n"
     ]
    },
    {
     "data": {
      "text/plain": [
       "mean difference    0.040\n",
       "Cohen's d          0.057\n",
       "dtype: float64"
      ]
     },
     "metadata": {},
     "output_type": "display_data"
    },
    {
     "name": "stdout",
     "output_type": "stream",
     "text": [
      "---\n"
     ]
    }
   ],
   "source": [
    "stimuli = [\n",
    "    \"snake (predator)\",\n",
    "    \"mousecam\", \n",
    "    \"conspecifics\", \n",
    "    \"crickets (prey)\", \n",
    "    \"man writing\"\n",
    "]\n",
    "\n",
    "for i in range(len(stimuli)):\n",
    "    for j in range(i + 1, len(stimuli)):\n",
    "        stim1, stim2 = stimuli[i], stimuli[j]\n",
    "        print(stim1, '–', stim2)\n",
    "        effect_size = analysis.cohens_d(\n",
    "                df,\n",
    "                a=stim1,\n",
    "                b=stim2,\n",
    "                value_col=response,\n",
    "                label_col=\"stimulus\",\n",
    "        )\n",
    "        display(effect_size.round(3))\n",
    "        print('---')"
   ]
  },
  {
   "cell_type": "markdown",
   "id": "1680c104-c8a5-44f1-83e5-843dea6e0075",
   "metadata": {},
   "source": [
    "## Mediation analysis"
   ]
  },
  {
   "cell_type": "code",
   "execution_count": 19,
   "id": "406ff93f-422b-4484-96ad-6fa8f1095f85",
   "metadata": {
    "execution": {
     "iopub.execute_input": "2021-12-14T20:41:33.075984Z",
     "iopub.status.busy": "2021-12-14T20:41:33.075593Z",
     "iopub.status.idle": "2021-12-14T20:41:33.340936Z",
     "shell.execute_reply": "2021-12-14T20:41:33.340036Z",
     "shell.execute_reply.started": "2021-12-14T20:41:33.075945Z"
    },
    "tags": []
   },
   "outputs": [
    {
     "name": "stderr",
     "output_type": "stream",
     "text": [
      "R[write to console]: Loading required package: sandwich\n",
      "\n",
      "R[write to console]: mediation: Causal Mediation Analysis\n",
      "Version: 4.5.0\n",
      "\n",
      "\n"
     ]
    },
    {
     "data": {
      "text/html": [
       "\n",
       "        <span>StrVector with 28 elements.</span>\n",
       "        <table>\n",
       "        <tbody>\n",
       "          <tr>\n",
       "          \n",
       "            <td>\n",
       "            'mediation'\n",
       "            </td>\n",
       "          \n",
       "            <td>\n",
       "            'sandwich'\n",
       "            </td>\n",
       "          \n",
       "            <td>\n",
       "            'emmeans'\n",
       "            </td>\n",
       "          \n",
       "            <td>\n",
       "            ...\n",
       "            </td>\n",
       "          \n",
       "            <td>\n",
       "            'datasets'\n",
       "            </td>\n",
       "          \n",
       "            <td>\n",
       "            'methods'\n",
       "            </td>\n",
       "          \n",
       "            <td>\n",
       "            'base'\n",
       "            </td>\n",
       "          \n",
       "          </tr>\n",
       "        </tbody>\n",
       "        </table>\n",
       "        "
      ],
      "text/plain": [
       "<rpy2.robjects.vectors.StrVector object at 0x7f6eb058fb40> [RTYPES.STRSXP]\n",
       "R classes: ('character',)\n",
       "['mediation', 'sandwich', 'emmeans', 'multcomp', ..., 'utils', 'datasets', 'methods', 'base']"
      ]
     },
     "execution_count": 19,
     "metadata": {},
     "output_type": "execute_result"
    }
   ],
   "source": [
    "%R library(mediation)"
   ]
  },
  {
   "cell_type": "code",
   "execution_count": 20,
   "id": "7291f589-d9f6-409d-9504-b10f078c6645",
   "metadata": {
    "execution": {
     "iopub.execute_input": "2021-12-14T20:41:33.342483Z",
     "iopub.status.busy": "2021-12-14T20:41:33.342143Z",
     "iopub.status.idle": "2021-12-14T20:41:33.350264Z",
     "shell.execute_reply": "2021-12-14T20:41:33.349524Z",
     "shell.execute_reply.started": "2021-12-14T20:41:33.342451Z"
    },
    "tags": []
   },
   "outputs": [],
   "source": [
    "%R set.seed(803317503)"
   ]
  },
  {
   "cell_type": "code",
   "execution_count": 21,
   "id": "59108ada-4323-4c4c-8ee3-c147f0984de1",
   "metadata": {
    "execution": {
     "iopub.execute_input": "2021-12-14T20:41:33.351727Z",
     "iopub.status.busy": "2021-12-14T20:41:33.351403Z",
     "iopub.status.idle": "2021-12-14T20:41:33.355534Z",
     "shell.execute_reply": "2021-12-14T20:41:33.354673Z",
     "shell.execute_reply.started": "2021-12-14T20:41:33.351694Z"
    },
    "tags": []
   },
   "outputs": [],
   "source": [
    "ALPHA = 0.05"
   ]
  },
  {
   "cell_type": "code",
   "execution_count": 22,
   "id": "3420356f-be58-4c56-bfce-f46c1ebdab7b",
   "metadata": {
    "execution": {
     "iopub.execute_input": "2021-12-14T20:41:33.357050Z",
     "iopub.status.busy": "2021-12-14T20:41:33.356702Z",
     "iopub.status.idle": "2021-12-14T20:41:33.367588Z",
     "shell.execute_reply": "2021-12-14T20:41:33.366804Z",
     "shell.execute_reply.started": "2021-12-14T20:41:33.357018Z"
    },
    "tags": []
   },
   "outputs": [
    {
     "data": {
      "text/plain": [
       "[['snake (predator)', 'man writing'],\n",
       " ['snake (predator)', 'crickets (prey)'],\n",
       " ['mousecam', 'man writing'],\n",
       " ['snake (predator)', 'conspecifics']]"
      ]
     },
     "execution_count": 22,
     "metadata": {},
     "output_type": "execute_result"
    }
   ],
   "source": [
    "# Select pairs with significant differences\n",
    "pairs = (\n",
    "    pairwise_differences\n",
    "    .sort_values(['p.value'], ascending=True)\n",
    "    .loc[\n",
    "        (pairwise_differences['p.value'] < ALPHA),\n",
    "        ['level1', 'level2']\n",
    "    ]\n",
    "    .to_numpy()\n",
    "    .tolist()\n",
    ")\n",
    "pairs"
   ]
  },
  {
   "cell_type": "code",
   "execution_count": 23,
   "id": "a8df3d3f-6a42-4e85-8e4c-5e121ad08257",
   "metadata": {
    "execution": {
     "iopub.execute_input": "2021-12-14T20:41:33.369049Z",
     "iopub.status.busy": "2021-12-14T20:41:33.368717Z",
     "iopub.status.idle": "2021-12-14T20:41:33.374570Z",
     "shell.execute_reply": "2021-12-14T20:41:33.373821Z",
     "shell.execute_reply.started": "2021-12-14T20:41:33.369017Z"
    },
    "tags": []
   },
   "outputs": [],
   "source": [
    "data = df.copy()\n",
    "\n",
    "# Code pupil diameter as arousal\n",
    "data['normalized_pupil_diameter'] = -data['normalized_pupil_diameter']"
   ]
  },
  {
   "cell_type": "code",
   "execution_count": 24,
   "id": "6219d8da-5649-4bb0-9fed-d789e0eed325",
   "metadata": {
    "execution": {
     "iopub.execute_input": "2021-12-14T20:41:33.375988Z",
     "iopub.status.busy": "2021-12-14T20:41:33.375673Z",
     "iopub.status.idle": "2021-12-14T20:41:33.379673Z",
     "shell.execute_reply": "2021-12-14T20:41:33.378824Z",
     "shell.execute_reply.started": "2021-12-14T20:41:33.375955Z"
    },
    "tags": []
   },
   "outputs": [],
   "source": [
    "treatment = 'stimulus'"
   ]
  },
  {
   "cell_type": "markdown",
   "id": "e028f1c9-d61d-4aa1-bf82-884f4e0916f2",
   "metadata": {},
   "source": [
    "### Locomotion"
   ]
  },
  {
   "cell_type": "code",
   "execution_count": 25,
   "id": "8024b60e-15b6-4a09-aab5-71220e62dd51",
   "metadata": {
    "execution": {
     "iopub.execute_input": "2021-12-14T20:41:33.381083Z",
     "iopub.status.busy": "2021-12-14T20:41:33.380779Z",
     "iopub.status.idle": "2021-12-14T20:41:33.384984Z",
     "shell.execute_reply": "2021-12-14T20:41:33.384098Z",
     "shell.execute_reply.started": "2021-12-14T20:41:33.381052Z"
    },
    "tags": []
   },
   "outputs": [],
   "source": [
    "mediator, covariate = 'locomotion', 'normalized_pupil_diameter'"
   ]
  },
  {
   "cell_type": "code",
   "execution_count": 26,
   "id": "e6ef181a-5848-4a27-8f3a-1421485b152c",
   "metadata": {
    "execution": {
     "iopub.execute_input": "2021-12-14T20:41:33.386447Z",
     "iopub.status.busy": "2021-12-14T20:41:33.386125Z",
     "iopub.status.idle": "2021-12-14T20:41:33.391787Z",
     "shell.execute_reply": "2021-12-14T20:41:33.390859Z",
     "shell.execute_reply.started": "2021-12-14T20:41:33.386414Z"
    },
    "tags": []
   },
   "outputs": [
    {
     "name": "stdout",
     "output_type": "stream",
     "text": [
      "locomotion ~ 1 + stimulus + normalized_pupil_diameter + (1 | session)\n",
      "\n",
      "`log(normalized differentiation)` ~ 1 + locomotion + stimulus + normalized_pupil_diameter + (1 | session)\n"
     ]
    }
   ],
   "source": [
    "mediator_formula = f\"{mediator} ~ 1 + {treatment} + {covariate} + (1 | session)\"\n",
    "outcome_formula = f\"`{response}` ~ 1 + {mediator} + {treatment} + {covariate} + (1 | session)\"\n",
    "print(mediator_formula, end='\\n\\n')\n",
    "print(outcome_formula)"
   ]
  },
  {
   "cell_type": "code",
   "execution_count": 27,
   "id": "2d2ca62f-f92e-4c33-8ecf-a00e36f1b17a",
   "metadata": {
    "execution": {
     "iopub.execute_input": "2021-12-14T20:41:33.393274Z",
     "iopub.status.busy": "2021-12-14T20:41:33.392952Z",
     "iopub.status.idle": "2021-12-14T20:41:34.006485Z",
     "shell.execute_reply": "2021-12-14T20:41:34.005623Z",
     "shell.execute_reply.started": "2021-12-14T20:41:33.393242Z"
    },
    "tags": []
   },
   "outputs": [
    {
     "name": "stdout",
     "output_type": "stream",
     "text": [
      "[1] 2200\n"
     ]
    },
    {
     "name": "stderr",
     "output_type": "stream",
     "text": [
      "/home/wmayner/miniconda3/envs/openscope-differentiation-test3/lib/python3.8/site-packages/pandas/core/arrays/datetimes.py:2085: PytzUsageWarning: The zone attribute is specific to pytz's interface; please migrate to a new time zone provider. For more details on how to do so, see https://pytz-deprecation-shim.readthedocs.io/en/latest/migration.html\n",
      "  values, tz_parsed = conversion.datetime_to_datetime64(data)\n",
      "/home/wmayner/miniconda3/envs/openscope-differentiation-test3/lib/python3.8/site-packages/pandas/core/arrays/datetimes.py:2201: PytzUsageWarning: The zone attribute is specific to pytz's interface; please migrate to a new time zone provider. For more details on how to do so, see https://pytz-deprecation-shim.readthedocs.io/en/latest/migration.html\n",
      "  elif not timezones.tz_compare(tz, inferred_tz):\n",
      "/home/wmayner/miniconda3/envs/openscope-differentiation-test3/lib/python3.8/site-packages/pandas/core/arrays/datetimes.py:2282: PytzUsageWarning: The zone attribute is specific to pytz's interface; please migrate to a new time zone provider. For more details on how to do so, see https://pytz-deprecation-shim.readthedocs.io/en/latest/migration.html\n",
      "  if tz is not None and not timezones.tz_compare(tz, dtz):\n",
      "/home/wmayner/miniconda3/envs/openscope-differentiation-test3/lib/python3.8/site-packages/pandas/core/dtypes/cast.py:1329: PytzUsageWarning: The zone attribute is specific to pytz's interface; please migrate to a new time zone provider. For more details on how to do so, see https://pytz-deprecation-shim.readthedocs.io/en/latest/migration.html\n",
      "  values, tz = conversion.datetime_to_datetime64(v)\n"
     ]
    }
   ],
   "source": [
    "%%R -i data -i mediator_formula -i outcome_formula\n",
    "\n",
    "print(nrow(data))\n",
    "mediator_model = lmer(mediator_formula, data=data, REML=FALSE)\n",
    "outcome_model = lmer(outcome_formula, data=data, REML=FALSE)"
   ]
  },
  {
   "cell_type": "code",
   "execution_count": 28,
   "id": "09312cbb-80c9-4a60-91c5-a15a4b003998",
   "metadata": {
    "execution": {
     "iopub.execute_input": "2021-12-14T20:41:34.008080Z",
     "iopub.status.busy": "2021-12-14T20:41:34.007731Z",
     "iopub.status.idle": "2021-12-14T20:50:05.062987Z",
     "shell.execute_reply": "2021-12-14T20:50:05.062128Z",
     "shell.execute_reply.started": "2021-12-14T20:41:34.008046Z"
    },
    "tags": []
   },
   "outputs": [
    {
     "data": {
      "application/vnd.jupyter.widget-view+json": {
       "model_id": "bef3baa185ee4db993d432bc6bfa94c3",
       "version_major": 2,
       "version_minor": 0
      },
      "text/plain": [
       "  0%|          | 0/4 [00:00<?, ?it/s]"
      ]
     },
     "metadata": {},
     "output_type": "display_data"
    },
    {
     "name": "stdout",
     "output_type": "stream",
     "text": [
      "-------------------------------------------------------------------------------\n",
      "snake (predator) vs. man writing\n",
      "-------------------------------------------------------------------------------\n",
      "\n",
      "Causal Mediation Analysis \n",
      "\n",
      "Quasi-Bayesian Confidence Intervals\n",
      "\n",
      "Mediator Groups: session \n",
      "\n",
      "Outcome Groups: session \n",
      "\n",
      "Output Based on Overall Averages Across Groups \n",
      "\n",
      "               Estimate 95% CI Lower 95% CI Upper p-value    \n",
      "ACME           -0.00274     -0.00707         0.00   0.094 .  \n",
      "ADE             0.10748      0.05306         0.16  <2e-16 ***\n",
      "Total Effect    0.10473      0.05138         0.16  <2e-16 ***\n",
      "Prop. Mediated -0.02436     -0.09724         0.00   0.094 .  \n",
      "---\n",
      "Signif. codes:  0 ‘***’ 0.001 ‘**’ 0.01 ‘*’ 0.05 ‘.’ 0.1 ‘ ’ 1\n",
      "\n",
      "Sample Size Used: 2200 \n",
      "\n",
      "\n",
      "Simulations: 1000 \n",
      "\n",
      "-------------------------------------------------------------------------------\n",
      "snake (predator) vs. crickets (prey)\n",
      "-------------------------------------------------------------------------------\n",
      "\n",
      "Causal Mediation Analysis \n",
      "\n",
      "Quasi-Bayesian Confidence Intervals\n",
      "\n",
      "Mediator Groups: session \n",
      "\n",
      "Outcome Groups: session \n",
      "\n",
      "Output Based on Overall Averages Across Groups \n",
      "\n",
      "               Estimate 95% CI Lower 95% CI Upper p-value  \n",
      "ACME            -0.0078      -0.0170         0.00   0.072 .\n",
      "ADE              0.0293      -0.0265         0.08   0.340  \n",
      "Total Effect     0.0215      -0.0341         0.08   0.470  \n",
      "Prop. Mediated  -0.1723      -3.7953         2.74   0.514  \n",
      "---\n",
      "Signif. codes:  0 ‘***’ 0.001 ‘**’ 0.01 ‘*’ 0.05 ‘.’ 0.1 ‘ ’ 1\n",
      "\n",
      "Sample Size Used: 2200 \n",
      "\n",
      "\n",
      "Simulations: 1000 \n",
      "\n",
      "-------------------------------------------------------------------------------\n",
      "mousecam vs. man writing\n",
      "-------------------------------------------------------------------------------\n",
      "\n",
      "Causal Mediation Analysis \n",
      "\n",
      "Quasi-Bayesian Confidence Intervals\n",
      "\n",
      "Mediator Groups: session \n",
      "\n",
      "Outcome Groups: session \n",
      "\n",
      "Output Based on Overall Averages Across Groups \n",
      "\n",
      "               Estimate 95% CI Lower 95% CI Upper p-value  \n",
      "ACME           -0.01221     -0.02652         0.00   0.082 .\n",
      "ADE             0.00912     -0.04872         0.07   0.754  \n",
      "Total Effect   -0.00309     -0.05750         0.05   0.924  \n",
      "Prop. Mediated  0.10164     -6.70258         4.93   0.938  \n",
      "---\n",
      "Signif. codes:  0 ‘***’ 0.001 ‘**’ 0.01 ‘*’ 0.05 ‘.’ 0.1 ‘ ’ 1\n",
      "\n",
      "Sample Size Used: 2200 \n",
      "\n",
      "\n",
      "Simulations: 1000 \n",
      "\n",
      "-------------------------------------------------------------------------------\n",
      "snake (predator) vs. conspecifics\n",
      "-------------------------------------------------------------------------------\n",
      "\n",
      "Causal Mediation Analysis \n",
      "\n",
      "Quasi-Bayesian Confidence Intervals\n",
      "\n",
      "Mediator Groups: session \n",
      "\n",
      "Outcome Groups: session \n",
      "\n",
      "Output Based on Overall Averages Across Groups \n",
      "\n",
      "                Estimate 95% CI Lower 95% CI Upper p-value    \n",
      "ACME            0.006536    -0.000658         0.01   0.088 .  \n",
      "ADE             0.128162     0.072164         0.18  <2e-16 ***\n",
      "Total Effect    0.134698     0.079329         0.19  <2e-16 ***\n",
      "Prop. Mediated  0.046161    -0.005299         0.12   0.088 .  \n",
      "---\n",
      "Signif. codes:  0 ‘***’ 0.001 ‘**’ 0.01 ‘*’ 0.05 ‘.’ 0.1 ‘ ’ 1\n",
      "\n",
      "Sample Size Used: 2200 \n",
      "\n",
      "\n",
      "Simulations: 1000 \n",
      "\n"
     ]
    }
   ],
   "source": [
    "for stim1, stim2 in tqdm(pairs):\n",
    "    print('-'*79)\n",
    "    print(f'{stim1} vs. {stim2}')\n",
    "    print('-'*79)\n",
    "    %R -i treatment -i mediator -i stim1 -i stim2 med = mediate(mediator_model, outcome_model, treat=treatment, mediator=mediator, robustSE=TRUE, treat.value=stim1, control.value=stim2)\n",
    "    %R print(summary(med))"
   ]
  },
  {
   "cell_type": "markdown",
   "id": "8057b36c-0b03-4697-bc55-e325f49d7522",
   "metadata": {},
   "source": [
    "### Pupil diameter"
   ]
  },
  {
   "cell_type": "code",
   "execution_count": 29,
   "id": "ea8dea2f-c804-4946-a726-1186265aad15",
   "metadata": {
    "execution": {
     "iopub.execute_input": "2021-12-14T20:50:05.064998Z",
     "iopub.status.busy": "2021-12-14T20:50:05.064574Z",
     "iopub.status.idle": "2021-12-14T20:50:05.069487Z",
     "shell.execute_reply": "2021-12-14T20:50:05.068765Z",
     "shell.execute_reply.started": "2021-12-14T20:50:05.064965Z"
    },
    "tags": []
   },
   "outputs": [],
   "source": [
    "mediator, covariate = 'normalized_pupil_diameter', 'locomotion'"
   ]
  },
  {
   "cell_type": "code",
   "execution_count": 30,
   "id": "29253460-f82b-48f1-8086-11dc4ab337bf",
   "metadata": {
    "execution": {
     "iopub.execute_input": "2021-12-14T20:50:05.070435Z",
     "iopub.status.busy": "2021-12-14T20:50:05.070235Z",
     "iopub.status.idle": "2021-12-14T20:50:05.074496Z",
     "shell.execute_reply": "2021-12-14T20:50:05.073942Z",
     "shell.execute_reply.started": "2021-12-14T20:50:05.070413Z"
    },
    "tags": []
   },
   "outputs": [
    {
     "name": "stdout",
     "output_type": "stream",
     "text": [
      "normalized_pupil_diameter ~ 1 + stimulus + locomotion + (1 | session)\n",
      "\n",
      "`log(normalized differentiation)` ~ 1 + normalized_pupil_diameter + stimulus + locomotion + (1 | session)\n"
     ]
    }
   ],
   "source": [
    "mediator_formula = f\"{mediator} ~ 1 + {treatment} + {covariate} + (1 | session)\"\n",
    "outcome_formula = f\"`{response}` ~ 1 + {mediator} + {treatment} + {covariate} + (1 | session)\"\n",
    "print(mediator_formula, end='\\n\\n')\n",
    "print(outcome_formula)"
   ]
  },
  {
   "cell_type": "code",
   "execution_count": 31,
   "id": "692f2512-a3b8-4317-91ba-0c35affb9f18",
   "metadata": {
    "execution": {
     "iopub.execute_input": "2021-12-14T20:50:05.075450Z",
     "iopub.status.busy": "2021-12-14T20:50:05.075241Z",
     "iopub.status.idle": "2021-12-14T20:50:05.551446Z",
     "shell.execute_reply": "2021-12-14T20:50:05.550784Z",
     "shell.execute_reply.started": "2021-12-14T20:50:05.075429Z"
    },
    "tags": []
   },
   "outputs": [
    {
     "name": "stdout",
     "output_type": "stream",
     "text": [
      "[1] 2200\n"
     ]
    }
   ],
   "source": [
    "%%R -i data -i mediator_formula -i outcome_formula\n",
    "\n",
    "print(nrow(data))\n",
    "mediator_model = lmer(mediator_formula, data=data, REML=FALSE)\n",
    "outcome_model = lmer(outcome_formula, data=data, REML=FALSE)"
   ]
  },
  {
   "cell_type": "code",
   "execution_count": 32,
   "id": "ee13d6bf-dc31-48b2-a74f-fc0dcefbbe8c",
   "metadata": {
    "execution": {
     "iopub.execute_input": "2021-12-14T20:50:05.552484Z",
     "iopub.status.busy": "2021-12-14T20:50:05.552275Z",
     "iopub.status.idle": "2021-12-14T20:58:00.619873Z",
     "shell.execute_reply": "2021-12-14T20:58:00.619015Z",
     "shell.execute_reply.started": "2021-12-14T20:50:05.552463Z"
    },
    "tags": []
   },
   "outputs": [
    {
     "data": {
      "application/vnd.jupyter.widget-view+json": {
       "model_id": "636103eb85ab434ea0231086afb2d87f",
       "version_major": 2,
       "version_minor": 0
      },
      "text/plain": [
       "  0%|          | 0/4 [00:00<?, ?it/s]"
      ]
     },
     "metadata": {},
     "output_type": "display_data"
    },
    {
     "name": "stdout",
     "output_type": "stream",
     "text": [
      "-------------------------------------------------------------------------------\n",
      "snake (predator) vs. man writing\n",
      "-------------------------------------------------------------------------------\n",
      "\n",
      "Causal Mediation Analysis \n",
      "\n",
      "Quasi-Bayesian Confidence Intervals\n",
      "\n",
      "Mediator Groups: session \n",
      "\n",
      "Outcome Groups: session \n",
      "\n",
      "Output Based on Overall Averages Across Groups \n",
      "\n",
      "               Estimate 95% CI Lower 95% CI Upper p-value    \n",
      "ACME             0.0253       0.0134         0.04  <2e-16 ***\n",
      "ADE              0.1073       0.0529         0.16  <2e-16 ***\n",
      "Total Effect     0.1326       0.0766         0.19  <2e-16 ***\n",
      "Prop. Mediated   0.1899       0.0992         0.35  <2e-16 ***\n",
      "---\n",
      "Signif. codes:  0 ‘***’ 0.001 ‘**’ 0.01 ‘*’ 0.05 ‘.’ 0.1 ‘ ’ 1\n",
      "\n",
      "Sample Size Used: 2200 \n",
      "\n",
      "\n",
      "Simulations: 1000 \n",
      "\n",
      "-------------------------------------------------------------------------------\n",
      "snake (predator) vs. crickets (prey)\n",
      "-------------------------------------------------------------------------------\n",
      "\n",
      "Causal Mediation Analysis \n",
      "\n",
      "Quasi-Bayesian Confidence Intervals\n",
      "\n",
      "Mediator Groups: session \n",
      "\n",
      "Outcome Groups: session \n",
      "\n",
      "Output Based on Overall Averages Across Groups \n",
      "\n",
      "               Estimate 95% CI Lower 95% CI Upper p-value    \n",
      "ACME             0.0575       0.0427         0.07  <2e-16 ***\n",
      "ADE              0.0292      -0.0236         0.08    0.27    \n",
      "Total Effect     0.0866       0.0351         0.14  <2e-16 ***\n",
      "Prop. Mediated   0.6700       0.3852         1.69  <2e-16 ***\n",
      "---\n",
      "Signif. codes:  0 ‘***’ 0.001 ‘**’ 0.01 ‘*’ 0.05 ‘.’ 0.1 ‘ ’ 1\n",
      "\n",
      "Sample Size Used: 2200 \n",
      "\n",
      "\n",
      "Simulations: 1000 \n",
      "\n",
      "-------------------------------------------------------------------------------\n",
      "mousecam vs. man writing\n",
      "-------------------------------------------------------------------------------\n",
      "\n",
      "Causal Mediation Analysis \n",
      "\n",
      "Quasi-Bayesian Confidence Intervals\n",
      "\n",
      "Mediator Groups: session \n",
      "\n",
      "Outcome Groups: session \n",
      "\n",
      "Output Based on Overall Averages Across Groups \n",
      "\n",
      "               Estimate 95% CI Lower 95% CI Upper p-value    \n",
      "ACME            0.07988      0.06000         0.10  <2e-16 ***\n",
      "ADE             0.00713     -0.04978         0.06   0.802    \n",
      "Total Effect    0.08702      0.03177         0.14   0.002 ** \n",
      "Prop. Mediated  0.92130      0.54052         2.40   0.002 ** \n",
      "---\n",
      "Signif. codes:  0 ‘***’ 0.001 ‘**’ 0.01 ‘*’ 0.05 ‘.’ 0.1 ‘ ’ 1\n",
      "\n",
      "Sample Size Used: 2200 \n",
      "\n",
      "\n",
      "Simulations: 1000 \n",
      "\n",
      "-------------------------------------------------------------------------------\n",
      "snake (predator) vs. conspecifics\n",
      "-------------------------------------------------------------------------------\n",
      "\n",
      "Causal Mediation Analysis \n",
      "\n",
      "Quasi-Bayesian Confidence Intervals\n",
      "\n",
      "Mediator Groups: session \n",
      "\n",
      "Outcome Groups: session \n",
      "\n",
      "Output Based on Overall Averages Across Groups \n",
      "\n",
      "               Estimate 95% CI Lower 95% CI Upper p-value    \n",
      "ACME            -0.0385      -0.0527        -0.03  <2e-16 ***\n",
      "ADE              0.1247       0.0709         0.18  <2e-16 ***\n",
      "Total Effect     0.0862       0.0330         0.14   0.002 ** \n",
      "Prop. Mediated  -0.4484      -1.3362        -0.22   0.002 ** \n",
      "---\n",
      "Signif. codes:  0 ‘***’ 0.001 ‘**’ 0.01 ‘*’ 0.05 ‘.’ 0.1 ‘ ’ 1\n",
      "\n",
      "Sample Size Used: 2200 \n",
      "\n",
      "\n",
      "Simulations: 1000 \n",
      "\n"
     ]
    }
   ],
   "source": [
    "for stim1, stim2 in tqdm(pairs):\n",
    "    print('-'*79)\n",
    "    print(f'{stim1} vs. {stim2}')\n",
    "    print('-'*79)\n",
    "    %R -i treatment -i mediator -i stim1 -i stim2 med = mediate(mediator_model, outcome_model, treat=treatment, mediator=mediator, robustSE=TRUE, treat.value=stim1, control.value=stim2)\n",
    "    %R print(summary(med))"
   ]
  }
 ],
 "metadata": {
  "kernelspec": {
   "display_name": "Python 3 (ipykernel)",
   "language": "python",
   "name": "python3"
  },
  "language_info": {
   "codemirror_mode": {
    "name": "ipython",
    "version": 3
   },
   "file_extension": ".py",
   "mimetype": "text/x-python",
   "name": "python",
   "nbconvert_exporter": "python",
   "pygments_lexer": "ipython3",
   "version": "3.8.8"
  },
  "widgets": {
   "application/vnd.jupyter.widget-state+json": {
    "state": {
     "071598b5d1ef47e79f3a15c712d3fc3c": {
      "model_module": "@jupyter-widgets/controls",
      "model_module_version": "1.5.0",
      "model_name": "HTMLModel",
      "state": {
       "layout": "IPY_MODEL_b230b3a273474fe9b284231922f0fbc2",
       "style": "IPY_MODEL_514b22deb11e4a13bebebd915d365e0b",
       "value": "100%"
      }
     },
     "0e94bd3b637c4ed3be97cd52f0d868fd": {
      "model_module": "@jupyter-widgets/base",
      "model_module_version": "1.2.0",
      "model_name": "LayoutModel",
      "state": {}
     },
     "1b58ff07f3c24a0f8f7f0c1e082018dc": {
      "model_module": "@jupyter-widgets/base",
      "model_module_version": "1.2.0",
      "model_name": "LayoutModel",
      "state": {}
     },
     "4bda22db5c404bde9df1a31638376e3f": {
      "model_module": "@jupyter-widgets/controls",
      "model_module_version": "1.5.0",
      "model_name": "DescriptionStyleModel",
      "state": {
       "description_width": ""
      }
     },
     "4f482329c0a14c0e940eb139e322aa75": {
      "model_module": "@jupyter-widgets/controls",
      "model_module_version": "1.5.0",
      "model_name": "HTMLModel",
      "state": {
       "layout": "IPY_MODEL_e51ac8e7d39c49aeabc1a3813e9a81ed",
       "style": "IPY_MODEL_c9088a9848114706878119ae9dc12b63",
       "value": "100%"
      }
     },
     "514b22deb11e4a13bebebd915d365e0b": {
      "model_module": "@jupyter-widgets/controls",
      "model_module_version": "1.5.0",
      "model_name": "DescriptionStyleModel",
      "state": {
       "description_width": ""
      }
     },
     "57fa174afec04271b83180205b82ef2c": {
      "model_module": "@jupyter-widgets/controls",
      "model_module_version": "1.5.0",
      "model_name": "FloatProgressModel",
      "state": {
       "bar_style": "success",
       "layout": "IPY_MODEL_0e94bd3b637c4ed3be97cd52f0d868fd",
       "max": 4,
       "style": "IPY_MODEL_969f597998474dfc8c060c4a3a412042",
       "value": 4
      }
     },
     "5ab22ac0f909475ea4567214dd1025a3": {
      "model_module": "@jupyter-widgets/controls",
      "model_module_version": "1.5.0",
      "model_name": "ProgressStyleModel",
      "state": {
       "description_width": ""
      }
     },
     "613629e19002480b8133bb4b15ac9a2d": {
      "model_module": "@jupyter-widgets/base",
      "model_module_version": "1.2.0",
      "model_name": "LayoutModel",
      "state": {}
     },
     "636103eb85ab434ea0231086afb2d87f": {
      "model_module": "@jupyter-widgets/controls",
      "model_module_version": "1.5.0",
      "model_name": "HBoxModel",
      "state": {
       "children": [
        "IPY_MODEL_4f482329c0a14c0e940eb139e322aa75",
        "IPY_MODEL_57fa174afec04271b83180205b82ef2c",
        "IPY_MODEL_b411ea6ca03246bd884e3dc22d3f5214"
       ],
       "layout": "IPY_MODEL_1b58ff07f3c24a0f8f7f0c1e082018dc"
      }
     },
     "6842baceab0c4f9cb9c30965409c697d": {
      "model_module": "@jupyter-widgets/controls",
      "model_module_version": "1.5.0",
      "model_name": "FloatProgressModel",
      "state": {
       "bar_style": "success",
       "layout": "IPY_MODEL_8a88c54555434cbf83387ab8b7d55c92",
       "max": 4,
       "style": "IPY_MODEL_5ab22ac0f909475ea4567214dd1025a3",
       "value": 4
      }
     },
     "8a88c54555434cbf83387ab8b7d55c92": {
      "model_module": "@jupyter-widgets/base",
      "model_module_version": "1.2.0",
      "model_name": "LayoutModel",
      "state": {}
     },
     "969f597998474dfc8c060c4a3a412042": {
      "model_module": "@jupyter-widgets/controls",
      "model_module_version": "1.5.0",
      "model_name": "ProgressStyleModel",
      "state": {
       "description_width": ""
      }
     },
     "9dc31e3288bf4fd69dd64594a9a56d74": {
      "model_module": "@jupyter-widgets/controls",
      "model_module_version": "1.5.0",
      "model_name": "DescriptionStyleModel",
      "state": {
       "description_width": ""
      }
     },
     "b230b3a273474fe9b284231922f0fbc2": {
      "model_module": "@jupyter-widgets/base",
      "model_module_version": "1.2.0",
      "model_name": "LayoutModel",
      "state": {}
     },
     "b411ea6ca03246bd884e3dc22d3f5214": {
      "model_module": "@jupyter-widgets/controls",
      "model_module_version": "1.5.0",
      "model_name": "HTMLModel",
      "state": {
       "layout": "IPY_MODEL_613629e19002480b8133bb4b15ac9a2d",
       "style": "IPY_MODEL_9dc31e3288bf4fd69dd64594a9a56d74",
       "value": " 4/4 [07:55&lt;00:00, 121.34s/it]"
      }
     },
     "b61ae21b1b1c4fc3a993be15506a2257": {
      "model_module": "@jupyter-widgets/base",
      "model_module_version": "1.2.0",
      "model_name": "LayoutModel",
      "state": {}
     },
     "bc9579e06ae8416ba3d357e579626682": {
      "model_module": "@jupyter-widgets/base",
      "model_module_version": "1.2.0",
      "model_name": "LayoutModel",
      "state": {}
     },
     "bef3baa185ee4db993d432bc6bfa94c3": {
      "model_module": "@jupyter-widgets/controls",
      "model_module_version": "1.5.0",
      "model_name": "HBoxModel",
      "state": {
       "children": [
        "IPY_MODEL_071598b5d1ef47e79f3a15c712d3fc3c",
        "IPY_MODEL_6842baceab0c4f9cb9c30965409c697d",
        "IPY_MODEL_fb8e08eefb6c4a71bd469d00c79fff17"
       ],
       "layout": "IPY_MODEL_b61ae21b1b1c4fc3a993be15506a2257"
      }
     },
     "c9088a9848114706878119ae9dc12b63": {
      "model_module": "@jupyter-widgets/controls",
      "model_module_version": "1.5.0",
      "model_name": "DescriptionStyleModel",
      "state": {
       "description_width": ""
      }
     },
     "e51ac8e7d39c49aeabc1a3813e9a81ed": {
      "model_module": "@jupyter-widgets/base",
      "model_module_version": "1.2.0",
      "model_name": "LayoutModel",
      "state": {}
     },
     "fb8e08eefb6c4a71bd469d00c79fff17": {
      "model_module": "@jupyter-widgets/controls",
      "model_module_version": "1.5.0",
      "model_name": "HTMLModel",
      "state": {
       "layout": "IPY_MODEL_bc9579e06ae8416ba3d357e579626682",
       "style": "IPY_MODEL_4bda22db5c404bde9df1a31638376e3f",
       "value": " 4/4 [08:31&lt;00:00, 125.25s/it]"
      }
     }
    },
    "version_major": 2,
    "version_minor": 0
   }
  }
 },
 "nbformat": 4,
 "nbformat_minor": 5
}
