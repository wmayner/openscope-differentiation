{
 "cells": [
  {
   "cell_type": "markdown",
   "id": "assumed-housing",
   "metadata": {},
   "source": [
    "# Figure 1-2\n",
    "\n",
    "Number of cells recorded"
   ]
  },
  {
   "cell_type": "code",
   "execution_count": 1,
   "id": "anonymous-bunny",
   "metadata": {
    "execution": {
     "iopub.execute_input": "2021-12-14T19:25:28.627474Z",
     "iopub.status.busy": "2021-12-14T19:25:28.626832Z",
     "iopub.status.idle": "2021-12-14T19:25:30.655707Z",
     "shell.execute_reply": "2021-12-14T19:25:30.654905Z",
     "shell.execute_reply.started": "2021-12-14T19:25:28.627288Z"
    }
   },
   "outputs": [],
   "source": [
    "from analysis import SESSIONS\n",
    "from metadata import METADATA"
   ]
  },
  {
   "cell_type": "code",
   "execution_count": 2,
   "id": "quarterly-winning",
   "metadata": {
    "execution": {
     "iopub.execute_input": "2021-12-14T19:25:30.657640Z",
     "iopub.status.busy": "2021-12-14T19:25:30.657292Z",
     "iopub.status.idle": "2021-12-14T19:25:30.683124Z",
     "shell.execute_reply": "2021-12-14T19:25:30.682360Z",
     "shell.execute_reply.started": "2021-12-14T19:25:30.657602Z"
    },
    "tags": []
   },
   "outputs": [
    {
     "data": {
      "text/plain": [
       "layer  area\n",
       "L2/3   V1      451\n",
       "       LM      353\n",
       "       AL      336\n",
       "       PM      259\n",
       "       AM      284\n",
       "L4     V1      649\n",
       "       LM      456\n",
       "       AL      479\n",
       "       PM      135\n",
       "       AM       62\n",
       "L5     V1      126\n",
       "       LM      185\n",
       "       AL       86\n",
       "       PM       76\n",
       "       AM       81\n",
       "Name: ncells, dtype: int64"
      ]
     },
     "execution_count": 2,
     "metadata": {},
     "output_type": "execute_result"
    }
   ],
   "source": [
    "ncells = (\n",
    "    METADATA.loc[SESSIONS]\n",
    "    .groupby([\"layer\", \"area\"])\n",
    "    .sum()\n",
    "    .loc[:, \"ncells\"]\n",
    ")\n",
    "    \n",
    "ncells.to_csv(\"results/table-s1.csv\")\n",
    "ncells"
   ]
  }
 ],
 "metadata": {
  "kernelspec": {
   "display_name": "Python 3 (ipykernel)",
   "language": "python",
   "name": "python3"
  },
  "language_info": {
   "codemirror_mode": {
    "name": "ipython",
    "version": 3
   },
   "file_extension": ".py",
   "mimetype": "text/x-python",
   "name": "python",
   "nbconvert_exporter": "python",
   "pygments_lexer": "ipython3",
   "version": "3.8.8"
  },
  "widgets": {
   "application/vnd.jupyter.widget-state+json": {
    "state": {},
    "version_major": 2,
    "version_minor": 0
   }
  }
 },
 "nbformat": 4,
 "nbformat_minor": 5
}
