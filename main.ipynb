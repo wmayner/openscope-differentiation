{
 "cells": [
  {
   "cell_type": "markdown",
   "id": "warming-richmond",
   "metadata": {},
   "source": [
    "# main.ipynb\n",
    "\n",
    "Compute neurophysiological differentiation from dF/F traces and decode stimuli"
   ]
  },
  {
   "cell_type": "code",
   "execution_count": 1,
   "id": "engaging-delivery",
   "metadata": {},
   "outputs": [],
   "source": [
    "import multiprocessing\n",
    "from itertools import product\n",
    "from pathlib import Path\n",
    "\n",
    "import numpy as np\n",
    "import pandas as pd\n",
    "import scipy\n",
    "import scipy.spatial\n",
    "import sklearn\n",
    "import yaml\n",
    "from joblib import Parallel, delayed\n",
    "from sklearn.decomposition import PCA\n",
    "from sklearn.discriminant_analysis import LinearDiscriminantAnalysis\n",
    "from sklearn.model_selection import (StratifiedKFold, cross_val_score,\n",
    "                                     cross_validate)\n",
    "from sklearn.pipeline import Pipeline\n",
    "from sklearn.utils import parallel_backend\n",
    "from tqdm.auto import tqdm\n",
    "from umap import UMAP\n",
    "\n",
    "import metadata\n",
    "from spectral_differentiation import compute_dff_differentiation, TRUNCATION_TOLERANCE\n",
    "from analysis import (BLOCK_STIMULI, CONTINUOUS_NATURAL, SESSIONS,\n",
    "                      UNSCRAMBLED_SCRAMBLED, get_cells)\n",
    "from load import load_preprocessed_data\n",
    "from metadata import METADATA, STIMULUS_METADATA"
   ]
  },
  {
   "cell_type": "code",
   "execution_count": 2,
   "id": "tutorial-render",
   "metadata": {},
   "outputs": [],
   "source": [
    "# Register tqdm with pandas for `progress_apply`\n",
    "tqdm.pandas()"
   ]
  },
  {
   "cell_type": "code",
   "execution_count": 3,
   "id": "national-alert",
   "metadata": {},
   "outputs": [],
   "source": [
    "N_CPUS = multiprocessing.cpu_count()"
   ]
  },
  {
   "cell_type": "markdown",
   "id": "warming-hotel",
   "metadata": {},
   "source": [
    "## Load data"
   ]
  },
  {
   "cell_type": "code",
   "execution_count": 4,
   "id": "square-aggregate",
   "metadata": {},
   "outputs": [
    {
     "name": "stderr",
     "output_type": "stream",
     "text": [
      "[Parallel(n_jobs=44)]: Using backend LokyBackend with 44 concurrent workers.\n",
      "[Parallel(n_jobs=44)]: Done   2 out of  44 | elapsed:    6.5s remaining:  2.3min\n",
      "[Parallel(n_jobs=44)]: Done  11 out of  44 | elapsed:    9.1s remaining:   27.3s\n",
      "[Parallel(n_jobs=44)]: Done  20 out of  44 | elapsed:   11.6s remaining:   13.9s\n",
      "[Parallel(n_jobs=44)]: Done  29 out of  44 | elapsed:   14.8s remaining:    7.6s\n",
      "[Parallel(n_jobs=44)]: Done  38 out of  44 | elapsed:   19.2s remaining:    3.0s\n",
      "[Parallel(n_jobs=44)]: Done  44 out of  44 | elapsed:   23.4s finished\n"
     ]
    }
   ],
   "source": [
    "loaded_data = Parallel(n_jobs=min(len(SESSIONS), N_CPUS), verbose=5)(\n",
    "    delayed(load_preprocessed_data)(session) for session in SESSIONS\n",
    ")"
   ]
  },
  {
   "cell_type": "code",
   "execution_count": 5,
   "id": "emotional-spoke",
   "metadata": {},
   "outputs": [],
   "source": [
    "DFF = dict()\n",
    "DATA = dict()\n",
    "for session, (dff, data) in zip(SESSIONS, loaded_data):\n",
    "    DFF[session] = dff\n",
    "    DATA[session] = data"
   ]
  },
  {
   "cell_type": "code",
   "execution_count": 6,
   "id": "convenient-oregon",
   "metadata": {},
   "outputs": [
    {
     "data": {
      "application/vnd.jupyter.widget-view+json": {
       "model_id": "7dd02d0667f94a86b59ec2e1f7fd4d72",
       "version_major": 2,
       "version_minor": 0
      },
      "text/plain": [
       "  0%|          | 0/44 [00:00<?, ?it/s]"
      ]
     },
     "metadata": {},
     "output_type": "display_data"
    }
   ],
   "source": [
    "# Attach label columns to dF/F dataframes\n",
    "for session, dff in tqdm(DFF.items()):\n",
    "    DFF[session] = dff.merge(\n",
    "        DATA[session].loc[:, [\"stimulus\", \"trial\", \"stimulus_is_scrambled_pair\", \"stimulus_is_block\"]],\n",
    "        how=\"left\",\n",
    "        left_index=True,\n",
    "        right_index=True,\n",
    "    )"
   ]
  },
  {
   "cell_type": "markdown",
   "id": "yellow-ecuador",
   "metadata": {},
   "source": [
    "# Spectral differentiation"
   ]
  },
  {
   "cell_type": "markdown",
   "id": "japanese-federal",
   "metadata": {},
   "source": [
    "### Build parameter space\n",
    "\n",
    "Combinations of parameters to use for the sensitivity analysis."
   ]
  },
  {
   "cell_type": "code",
   "execution_count": 7,
   "id": "broadband-archive",
   "metadata": {},
   "outputs": [
    {
     "data": {
      "text/html": [
       "<div>\n",
       "<style scoped>\n",
       "    .dataframe tbody tr th:only-of-type {\n",
       "        vertical-align: middle;\n",
       "    }\n",
       "\n",
       "    .dataframe tbody tr th {\n",
       "        vertical-align: top;\n",
       "    }\n",
       "\n",
       "    .dataframe thead th {\n",
       "        text-align: right;\n",
       "    }\n",
       "</style>\n",
       "<table border=\"1\" class=\"dataframe\">\n",
       "  <thead>\n",
       "    <tr style=\"text-align: right;\">\n",
       "      <th></th>\n",
       "      <th>state_length</th>\n",
       "      <th>metric</th>\n",
       "      <th>log_frequency</th>\n",
       "      <th>window</th>\n",
       "      <th>window_param</th>\n",
       "      <th>overlap</th>\n",
       "    </tr>\n",
       "  </thead>\n",
       "  <tbody>\n",
       "    <tr>\n",
       "      <th>0</th>\n",
       "      <td>0.2</td>\n",
       "      <td>cityblock</td>\n",
       "      <td>False</td>\n",
       "      <td>None</td>\n",
       "      <td>NaN</td>\n",
       "      <td>0.000</td>\n",
       "    </tr>\n",
       "    <tr>\n",
       "      <th>1</th>\n",
       "      <td>0.2</td>\n",
       "      <td>cityblock</td>\n",
       "      <td>False</td>\n",
       "      <td>tukey</td>\n",
       "      <td>0.25</td>\n",
       "      <td>0.125</td>\n",
       "    </tr>\n",
       "    <tr>\n",
       "      <th>2</th>\n",
       "      <td>0.2</td>\n",
       "      <td>cityblock</td>\n",
       "      <td>False</td>\n",
       "      <td>kaiser</td>\n",
       "      <td>14.00</td>\n",
       "      <td>0.500</td>\n",
       "    </tr>\n",
       "    <tr>\n",
       "      <th>3</th>\n",
       "      <td>0.2</td>\n",
       "      <td>cityblock</td>\n",
       "      <td>True</td>\n",
       "      <td>None</td>\n",
       "      <td>NaN</td>\n",
       "      <td>0.000</td>\n",
       "    </tr>\n",
       "    <tr>\n",
       "      <th>4</th>\n",
       "      <td>0.2</td>\n",
       "      <td>cityblock</td>\n",
       "      <td>True</td>\n",
       "      <td>tukey</td>\n",
       "      <td>0.25</td>\n",
       "      <td>0.125</td>\n",
       "    </tr>\n",
       "  </tbody>\n",
       "</table>\n",
       "</div>"
      ],
      "text/plain": [
       "   state_length     metric  log_frequency  window  window_param  overlap\n",
       "0           0.2  cityblock          False    None           NaN    0.000\n",
       "1           0.2  cityblock          False   tukey          0.25    0.125\n",
       "2           0.2  cityblock          False  kaiser         14.00    0.500\n",
       "3           0.2  cityblock           True    None           NaN    0.000\n",
       "4           0.2  cityblock           True   tukey          0.25    0.125"
      ]
     },
     "execution_count": 7,
     "metadata": {},
     "output_type": "execute_result"
    }
   ],
   "source": [
    "args = (\n",
    "    pd.DataFrame({\n",
    "        # The length of the 'neurophysiological state' of the population, in seconds\n",
    "        'state_length': [0.2, 0.5, 1, 2, 5, 10],\n",
    "    })\n",
    "    .merge(pd.DataFrame({\n",
    "        # The metric with which to measure distances between neurophysiological states\n",
    "        'metric': [\"cityblock\", \"euclidean\", \"chebyshev\"],\n",
    "    }), how='cross')\n",
    "    .merge(pd.DataFrame({\n",
    "        # Whether to use log-spaced frequency bins in the spectral estimation\n",
    "        'log_frequency': [False, True],\n",
    "    }), how='cross')\n",
    "    .merge(pd.DataFrame({\n",
    "        # Which window to use\n",
    "        'window': [\n",
    "            None,\n",
    "            'tukey',\n",
    "            'kaiser',\n",
    "        ],\n",
    "        # The window parameter\n",
    "        'window_param': [\n",
    "            None,\n",
    "            1/4,\n",
    "            14,\n",
    "        ],\n",
    "        # The fraction of window overlap\n",
    "        'overlap': [\n",
    "            0,\n",
    "            1/8,\n",
    "            1/2\n",
    "        ],\n",
    "    }), how='cross')\n",
    ")\n",
    "args.head()"
   ]
  },
  {
   "cell_type": "code",
   "execution_count": 8,
   "id": "junior-maldives",
   "metadata": {},
   "outputs": [],
   "source": [
    "args = list(product(\n",
    "    DFF.items(),\n",
    "    (row for _, row in args.iterrows())\n",
    "))"
   ]
  },
  {
   "cell_type": "markdown",
   "id": "czech-luxury",
   "metadata": {},
   "source": [
    "### Compute"
   ]
  },
  {
   "cell_type": "code",
   "execution_count": 9,
   "id": "acute-cathedral",
   "metadata": {},
   "outputs": [
    {
     "name": "stderr",
     "output_type": "stream",
     "text": [
      "[Parallel(n_jobs=160)]: Using backend LokyBackend with 160 concurrent workers.\n",
      "[Parallel(n_jobs=160)]: Done 130 tasks      | elapsed:   24.7s\n",
      "[Parallel(n_jobs=160)]: Done 328 tasks      | elapsed:   30.3s\n",
      "[Parallel(n_jobs=160)]: Done 562 tasks      | elapsed:   35.1s\n",
      "[Parallel(n_jobs=160)]: Done 832 tasks      | elapsed:   43.3s\n",
      "[Parallel(n_jobs=160)]: Done 1138 tasks      | elapsed:   52.6s\n",
      "[Parallel(n_jobs=160)]: Done 1480 tasks      | elapsed:  1.1min\n",
      "[Parallel(n_jobs=160)]: Done 1858 tasks      | elapsed:  1.4min\n",
      "[Parallel(n_jobs=160)]: Done 2272 tasks      | elapsed:  1.5min\n",
      "[Parallel(n_jobs=160)]: Done 2722 tasks      | elapsed:  1.8min\n",
      "[Parallel(n_jobs=160)]: Done 3208 tasks      | elapsed:  2.1min\n",
      "[Parallel(n_jobs=160)]: Done 3730 tasks      | elapsed:  2.2min\n",
      "[Parallel(n_jobs=160)]: Done 4288 tasks      | elapsed:  2.5min\n",
      "[Parallel(n_jobs=160)]: Done 4752 out of 4752 | elapsed:  2.6min finished\n"
     ]
    },
    {
     "name": "stdout",
     "output_type": "stream",
     "text": [
      "Done.\n",
      "(570240, 16)\n"
     ]
    },
    {
     "data": {
      "text/html": [
       "<div>\n",
       "<style scoped>\n",
       "    .dataframe tbody tr th:only-of-type {\n",
       "        vertical-align: middle;\n",
       "    }\n",
       "\n",
       "    .dataframe tbody tr th {\n",
       "        vertical-align: top;\n",
       "    }\n",
       "\n",
       "    .dataframe thead th {\n",
       "        text-align: right;\n",
       "    }\n",
       "</style>\n",
       "<table border=\"1\" class=\"dataframe\">\n",
       "  <thead>\n",
       "    <tr style=\"text-align: right;\">\n",
       "      <th></th>\n",
       "      <th>stimulus</th>\n",
       "      <th>trial</th>\n",
       "      <th>differentiation</th>\n",
       "      <th>state_length</th>\n",
       "      <th>metric</th>\n",
       "      <th>log_frequency</th>\n",
       "      <th>window</th>\n",
       "      <th>window_param</th>\n",
       "      <th>overlap</th>\n",
       "      <th>session</th>\n",
       "      <th>stimulus_type</th>\n",
       "      <th>stimulus_is_scrambled_pair</th>\n",
       "      <th>stimulus_is_block</th>\n",
       "      <th>stimulus_is_continuous</th>\n",
       "      <th>stimulus_code</th>\n",
       "      <th>stimulus_filename</th>\n",
       "    </tr>\n",
       "  </thead>\n",
       "  <tbody>\n",
       "    <tr>\n",
       "      <th>0</th>\n",
       "      <td>conspecifics</td>\n",
       "      <td>0.0</td>\n",
       "      <td>17.202698</td>\n",
       "      <td>0.2</td>\n",
       "      <td>cityblock</td>\n",
       "      <td>False</td>\n",
       "      <td>None</td>\n",
       "      <td>NaN</td>\n",
       "      <td>0.0</td>\n",
       "      <td>717208879</td>\n",
       "      <td>natural</td>\n",
       "      <td>False</td>\n",
       "      <td>True</td>\n",
       "      <td>True</td>\n",
       "      <td>4</td>\n",
       "      <td>04-multiple-mice-deep.mp4.npy</td>\n",
       "    </tr>\n",
       "    <tr>\n",
       "      <th>1</th>\n",
       "      <td>conspecifics</td>\n",
       "      <td>1.0</td>\n",
       "      <td>15.736950</td>\n",
       "      <td>0.2</td>\n",
       "      <td>cityblock</td>\n",
       "      <td>False</td>\n",
       "      <td>None</td>\n",
       "      <td>NaN</td>\n",
       "      <td>0.0</td>\n",
       "      <td>717208879</td>\n",
       "      <td>natural</td>\n",
       "      <td>False</td>\n",
       "      <td>True</td>\n",
       "      <td>True</td>\n",
       "      <td>4</td>\n",
       "      <td>04-multiple-mice-deep.mp4.npy</td>\n",
       "    </tr>\n",
       "    <tr>\n",
       "      <th>2</th>\n",
       "      <td>conspecifics</td>\n",
       "      <td>2.0</td>\n",
       "      <td>16.225434</td>\n",
       "      <td>0.2</td>\n",
       "      <td>cityblock</td>\n",
       "      <td>False</td>\n",
       "      <td>None</td>\n",
       "      <td>NaN</td>\n",
       "      <td>0.0</td>\n",
       "      <td>717208879</td>\n",
       "      <td>natural</td>\n",
       "      <td>False</td>\n",
       "      <td>True</td>\n",
       "      <td>True</td>\n",
       "      <td>4</td>\n",
       "      <td>04-multiple-mice-deep.mp4.npy</td>\n",
       "    </tr>\n",
       "    <tr>\n",
       "      <th>3</th>\n",
       "      <td>conspecifics</td>\n",
       "      <td>3.0</td>\n",
       "      <td>20.011245</td>\n",
       "      <td>0.2</td>\n",
       "      <td>cityblock</td>\n",
       "      <td>False</td>\n",
       "      <td>None</td>\n",
       "      <td>NaN</td>\n",
       "      <td>0.0</td>\n",
       "      <td>717208879</td>\n",
       "      <td>natural</td>\n",
       "      <td>False</td>\n",
       "      <td>True</td>\n",
       "      <td>True</td>\n",
       "      <td>4</td>\n",
       "      <td>04-multiple-mice-deep.mp4.npy</td>\n",
       "    </tr>\n",
       "    <tr>\n",
       "      <th>4</th>\n",
       "      <td>conspecifics</td>\n",
       "      <td>4.0</td>\n",
       "      <td>12.592473</td>\n",
       "      <td>0.2</td>\n",
       "      <td>cityblock</td>\n",
       "      <td>False</td>\n",
       "      <td>None</td>\n",
       "      <td>NaN</td>\n",
       "      <td>0.0</td>\n",
       "      <td>717208879</td>\n",
       "      <td>natural</td>\n",
       "      <td>False</td>\n",
       "      <td>True</td>\n",
       "      <td>True</td>\n",
       "      <td>4</td>\n",
       "      <td>04-multiple-mice-deep.mp4.npy</td>\n",
       "    </tr>\n",
       "  </tbody>\n",
       "</table>\n",
       "</div>"
      ],
      "text/plain": [
       "       stimulus  trial  differentiation  state_length     metric  \\\n",
       "0  conspecifics    0.0        17.202698           0.2  cityblock   \n",
       "1  conspecifics    1.0        15.736950           0.2  cityblock   \n",
       "2  conspecifics    2.0        16.225434           0.2  cityblock   \n",
       "3  conspecifics    3.0        20.011245           0.2  cityblock   \n",
       "4  conspecifics    4.0        12.592473           0.2  cityblock   \n",
       "\n",
       "   log_frequency window  window_param  overlap    session stimulus_type  \\\n",
       "0          False   None           NaN      0.0  717208879       natural   \n",
       "1          False   None           NaN      0.0  717208879       natural   \n",
       "2          False   None           NaN      0.0  717208879       natural   \n",
       "3          False   None           NaN      0.0  717208879       natural   \n",
       "4          False   None           NaN      0.0  717208879       natural   \n",
       "\n",
       "   stimulus_is_scrambled_pair  stimulus_is_block  stimulus_is_continuous  \\\n",
       "0                       False               True                    True   \n",
       "1                       False               True                    True   \n",
       "2                       False               True                    True   \n",
       "3                       False               True                    True   \n",
       "4                       False               True                    True   \n",
       "\n",
       "   stimulus_code              stimulus_filename  \n",
       "0              4  04-multiple-mice-deep.mp4.npy  \n",
       "1              4  04-multiple-mice-deep.mp4.npy  \n",
       "2              4  04-multiple-mice-deep.mp4.npy  \n",
       "3              4  04-multiple-mice-deep.mp4.npy  \n",
       "4              4  04-multiple-mice-deep.mp4.npy  "
      ]
     },
     "execution_count": 9,
     "metadata": {},
     "output_type": "execute_result"
    }
   ],
   "source": [
    "def worker(session, dff, params):\n",
    "    params = params.to_dict()\n",
    "    # Compute\n",
    "    result = compute_dff_differentiation(\n",
    "        dff,\n",
    "        fs=metadata.TWOP_SAMPLE_RATE,\n",
    "        **params,\n",
    "    )\n",
    "    # Convert Series result to a DataFrame\n",
    "    result.name = \"differentiation\"\n",
    "    result = (\n",
    "        result\n",
    "        .reset_index(drop=False)\n",
    "        # Record parameters & session\n",
    "        .assign(\n",
    "            **params,\n",
    "            session=session,\n",
    "        )\n",
    "    )\n",
    "    return result\n",
    "\n",
    "\n",
    "results = Parallel(n_jobs=min(len(args), N_CPUS), verbose=5)(\n",
    "    delayed(worker)(session, dff, params)\n",
    "    for (session, dff), params in args\n",
    ")\n",
    "results = (\n",
    "    # Put results into a DataFrame\n",
    "    pd.concat(results)\n",
    "    .reset_index(drop=True)\n",
    "    # Add stimulus metadata\n",
    "    .merge(STIMULUS_METADATA, on=\"stimulus\")\n",
    ")\n",
    "# Only consider block stimuli\n",
    "results = results.loc[results[\"stimulus_is_block\"]]\n",
    "print(\"Done.\")\n",
    "\n",
    "print(results.shape)\n",
    "results.head()"
   ]
  },
  {
   "cell_type": "markdown",
   "id": "pacific-roman",
   "metadata": {},
   "source": [
    "### Attach metadata"
   ]
  },
  {
   "cell_type": "code",
   "execution_count": 10,
   "id": "overhead-capability",
   "metadata": {},
   "outputs": [
    {
     "name": "stdout",
     "output_type": "stream",
     "text": [
      "(570240, 26)\n"
     ]
    },
    {
     "data": {
      "text/html": [
       "<div>\n",
       "<style scoped>\n",
       "    .dataframe tbody tr th:only-of-type {\n",
       "        vertical-align: middle;\n",
       "    }\n",
       "\n",
       "    .dataframe tbody tr th {\n",
       "        vertical-align: top;\n",
       "    }\n",
       "\n",
       "    .dataframe thead th {\n",
       "        text-align: right;\n",
       "    }\n",
       "</style>\n",
       "<table border=\"1\" class=\"dataframe\">\n",
       "  <thead>\n",
       "    <tr style=\"text-align: right;\">\n",
       "      <th></th>\n",
       "      <th>stimulus</th>\n",
       "      <th>trial</th>\n",
       "      <th>differentiation</th>\n",
       "      <th>state_length</th>\n",
       "      <th>metric</th>\n",
       "      <th>log_frequency</th>\n",
       "      <th>window</th>\n",
       "      <th>window_param</th>\n",
       "      <th>overlap</th>\n",
       "      <th>session</th>\n",
       "      <th>...</th>\n",
       "      <th>cre</th>\n",
       "      <th>area</th>\n",
       "      <th>depth</th>\n",
       "      <th>mouse_id</th>\n",
       "      <th>layer</th>\n",
       "      <th>ncells</th>\n",
       "      <th>start_time</th>\n",
       "      <th>order</th>\n",
       "      <th>sex</th>\n",
       "      <th>date_of_birth</th>\n",
       "    </tr>\n",
       "  </thead>\n",
       "  <tbody>\n",
       "    <tr>\n",
       "      <th>0</th>\n",
       "      <td>conspecifics</td>\n",
       "      <td>0.0</td>\n",
       "      <td>17.202698</td>\n",
       "      <td>0.2</td>\n",
       "      <td>cityblock</td>\n",
       "      <td>False</td>\n",
       "      <td>None</td>\n",
       "      <td>NaN</td>\n",
       "      <td>0.0</td>\n",
       "      <td>717208879</td>\n",
       "      <td>...</td>\n",
       "      <td>Cux2</td>\n",
       "      <td>LM</td>\n",
       "      <td>175</td>\n",
       "      <td>389014</td>\n",
       "      <td>L2/3</td>\n",
       "      <td>41</td>\n",
       "      <td>2018-07-05 08:29:08.784</td>\n",
       "      <td>0</td>\n",
       "      <td>M</td>\n",
       "      <td>2018-03-18</td>\n",
       "    </tr>\n",
       "    <tr>\n",
       "      <th>1</th>\n",
       "      <td>conspecifics</td>\n",
       "      <td>1.0</td>\n",
       "      <td>15.736950</td>\n",
       "      <td>0.2</td>\n",
       "      <td>cityblock</td>\n",
       "      <td>False</td>\n",
       "      <td>None</td>\n",
       "      <td>NaN</td>\n",
       "      <td>0.0</td>\n",
       "      <td>717208879</td>\n",
       "      <td>...</td>\n",
       "      <td>Cux2</td>\n",
       "      <td>LM</td>\n",
       "      <td>175</td>\n",
       "      <td>389014</td>\n",
       "      <td>L2/3</td>\n",
       "      <td>41</td>\n",
       "      <td>2018-07-05 08:29:08.784</td>\n",
       "      <td>0</td>\n",
       "      <td>M</td>\n",
       "      <td>2018-03-18</td>\n",
       "    </tr>\n",
       "    <tr>\n",
       "      <th>2</th>\n",
       "      <td>conspecifics</td>\n",
       "      <td>2.0</td>\n",
       "      <td>16.225434</td>\n",
       "      <td>0.2</td>\n",
       "      <td>cityblock</td>\n",
       "      <td>False</td>\n",
       "      <td>None</td>\n",
       "      <td>NaN</td>\n",
       "      <td>0.0</td>\n",
       "      <td>717208879</td>\n",
       "      <td>...</td>\n",
       "      <td>Cux2</td>\n",
       "      <td>LM</td>\n",
       "      <td>175</td>\n",
       "      <td>389014</td>\n",
       "      <td>L2/3</td>\n",
       "      <td>41</td>\n",
       "      <td>2018-07-05 08:29:08.784</td>\n",
       "      <td>0</td>\n",
       "      <td>M</td>\n",
       "      <td>2018-03-18</td>\n",
       "    </tr>\n",
       "    <tr>\n",
       "      <th>3</th>\n",
       "      <td>conspecifics</td>\n",
       "      <td>3.0</td>\n",
       "      <td>20.011245</td>\n",
       "      <td>0.2</td>\n",
       "      <td>cityblock</td>\n",
       "      <td>False</td>\n",
       "      <td>None</td>\n",
       "      <td>NaN</td>\n",
       "      <td>0.0</td>\n",
       "      <td>717208879</td>\n",
       "      <td>...</td>\n",
       "      <td>Cux2</td>\n",
       "      <td>LM</td>\n",
       "      <td>175</td>\n",
       "      <td>389014</td>\n",
       "      <td>L2/3</td>\n",
       "      <td>41</td>\n",
       "      <td>2018-07-05 08:29:08.784</td>\n",
       "      <td>0</td>\n",
       "      <td>M</td>\n",
       "      <td>2018-03-18</td>\n",
       "    </tr>\n",
       "    <tr>\n",
       "      <th>4</th>\n",
       "      <td>conspecifics</td>\n",
       "      <td>4.0</td>\n",
       "      <td>12.592473</td>\n",
       "      <td>0.2</td>\n",
       "      <td>cityblock</td>\n",
       "      <td>False</td>\n",
       "      <td>None</td>\n",
       "      <td>NaN</td>\n",
       "      <td>0.0</td>\n",
       "      <td>717208879</td>\n",
       "      <td>...</td>\n",
       "      <td>Cux2</td>\n",
       "      <td>LM</td>\n",
       "      <td>175</td>\n",
       "      <td>389014</td>\n",
       "      <td>L2/3</td>\n",
       "      <td>41</td>\n",
       "      <td>2018-07-05 08:29:08.784</td>\n",
       "      <td>0</td>\n",
       "      <td>M</td>\n",
       "      <td>2018-03-18</td>\n",
       "    </tr>\n",
       "  </tbody>\n",
       "</table>\n",
       "<p>5 rows × 26 columns</p>\n",
       "</div>"
      ],
      "text/plain": [
       "       stimulus  trial  differentiation  state_length     metric  \\\n",
       "0  conspecifics    0.0        17.202698           0.2  cityblock   \n",
       "1  conspecifics    1.0        15.736950           0.2  cityblock   \n",
       "2  conspecifics    2.0        16.225434           0.2  cityblock   \n",
       "3  conspecifics    3.0        20.011245           0.2  cityblock   \n",
       "4  conspecifics    4.0        12.592473           0.2  cityblock   \n",
       "\n",
       "   log_frequency window  window_param  overlap    session  ...   cre  area  \\\n",
       "0          False   None           NaN      0.0  717208879  ...  Cux2    LM   \n",
       "1          False   None           NaN      0.0  717208879  ...  Cux2    LM   \n",
       "2          False   None           NaN      0.0  717208879  ...  Cux2    LM   \n",
       "3          False   None           NaN      0.0  717208879  ...  Cux2    LM   \n",
       "4          False   None           NaN      0.0  717208879  ...  Cux2    LM   \n",
       "\n",
       "   depth  mouse_id  layer ncells              start_time order  sex  \\\n",
       "0    175    389014   L2/3     41 2018-07-05 08:29:08.784     0    M   \n",
       "1    175    389014   L2/3     41 2018-07-05 08:29:08.784     0    M   \n",
       "2    175    389014   L2/3     41 2018-07-05 08:29:08.784     0    M   \n",
       "3    175    389014   L2/3     41 2018-07-05 08:29:08.784     0    M   \n",
       "4    175    389014   L2/3     41 2018-07-05 08:29:08.784     0    M   \n",
       "\n",
       "   date_of_birth  \n",
       "0     2018-03-18  \n",
       "1     2018-03-18  \n",
       "2     2018-03-18  \n",
       "3     2018-03-18  \n",
       "4     2018-03-18  \n",
       "\n",
       "[5 rows x 26 columns]"
      ]
     },
     "execution_count": 10,
     "metadata": {},
     "output_type": "execute_result"
    }
   ],
   "source": [
    "metadata_subset = (\n",
    "    METADATA.loc[METADATA.index.isin(SESSIONS)]\n",
    "    .copy()\n",
    "    .drop(\n",
    "        columns=[\n",
    "            \"operator\",\n",
    "            \"qc\",\n",
    "            \"notes\",\n",
    "            \"all_ophys_experiments\",\n",
    "            \"all_ophys_sessions\",\n",
    "            \"valid\",\n",
    "        ]\n",
    "    )\n",
    ")\n",
    "\n",
    "df = results.merge(metadata_subset, on=\"session\")\n",
    "\n",
    "print(df.shape)\n",
    "df.head()"
   ]
  },
  {
   "cell_type": "markdown",
   "id": "transparent-compression",
   "metadata": {},
   "source": [
    "### Compute normalizations and transforms"
   ]
  },
  {
   "cell_type": "code",
   "execution_count": 11,
   "id": "subsequent-proceeding",
   "metadata": {},
   "outputs": [],
   "source": [
    "df['normalized differentiation'] = df['differentiation'] / np.sqrt(df['ncells'])\n",
    "df['log(normalized differentiation)'] = np.log10(df['normalized differentiation'])"
   ]
  },
  {
   "cell_type": "markdown",
   "id": "partial-dutch",
   "metadata": {},
   "source": [
    "### Write results to disk"
   ]
  },
  {
   "cell_type": "markdown",
   "id": "broadband-operator",
   "metadata": {},
   "source": [
    "All parameters"
   ]
  },
  {
   "cell_type": "code",
   "execution_count": 12,
   "id": "editorial-annual",
   "metadata": {},
   "outputs": [
    {
     "data": {
      "text/plain": [
       "(570240, 28)"
      ]
     },
     "execution_count": 12,
     "metadata": {},
     "output_type": "execute_result"
    }
   ],
   "source": [
    "df.to_parquet('results/sensitivity_analysis.parquet')\n",
    "df.shape"
   ]
  },
  {
   "cell_type": "markdown",
   "id": "animated-lover",
   "metadata": {},
   "source": [
    "Parameters used in main analysis"
   ]
  },
  {
   "cell_type": "code",
   "execution_count": 13,
   "id": "fluid-multimedia",
   "metadata": {},
   "outputs": [
    {
     "name": "stdout",
     "output_type": "stream",
     "text": [
      "(5280, 28)\n"
     ]
    }
   ],
   "source": [
    "main = df.loc[\n",
    "    (df[\"state_length\"] == 1.0)\n",
    "    & (df[\"metric\"] == \"euclidean\")\n",
    "    & df[\"window\"].isna()\n",
    "    & df[\"window_param\"].isna()\n",
    "    & (df[\"overlap\"] == 0)\n",
    "    & (df[\"log_frequency\"] == False)\n",
    "]\n",
    "print(main.shape)\n",
    "\n",
    "main.to_parquet('results/main.parquet')"
   ]
  },
  {
   "cell_type": "markdown",
   "id": "fresh-cursor",
   "metadata": {},
   "source": [
    "# Multivariate differentiation"
   ]
  },
  {
   "cell_type": "markdown",
   "id": "ambient-richards",
   "metadata": {},
   "source": [
    "## Dimensionality reduction"
   ]
  },
  {
   "cell_type": "code",
   "execution_count": 14,
   "id": "biological-outline",
   "metadata": {},
   "outputs": [],
   "source": [
    "with open('umap-params.yml', mode='rt') as f:\n",
    "    UMAP_PARAMS = yaml.load(f, Loader=yaml.SafeLoader)"
   ]
  },
  {
   "cell_type": "code",
   "execution_count": 15,
   "id": "peaceful-plumbing",
   "metadata": {},
   "outputs": [
    {
     "data": {
      "application/vnd.jupyter.widget-view+json": {
       "model_id": "1af63402dee34360b7702aa6d6549d1e",
       "version_major": 2,
       "version_minor": 0
      },
      "text/plain": [
       "  0%|          | 0/44 [00:00<?, ?it/s]"
      ]
     },
     "metadata": {},
     "output_type": "display_data"
    }
   ],
   "source": [
    "# Unscrambled & scrambled stimuli\n",
    "args_list = [\n",
    "    (session, dff.loc[dff['stimulus_is_scrambled_pair'] == True, :])\n",
    "    for session, dff in tqdm(DFF.items())\n",
    "]"
   ]
  },
  {
   "cell_type": "code",
   "execution_count": 16,
   "id": "laden-rhythm",
   "metadata": {},
   "outputs": [
    {
     "name": "stderr",
     "output_type": "stream",
     "text": [
      "[Parallel(n_jobs=44)]: Using backend LokyBackend with 44 concurrent workers.\n",
      "[Parallel(n_jobs=44)]: Done   2 out of  44 | elapsed:  1.6min remaining: 32.7min\n",
      "[Parallel(n_jobs=44)]: Done  11 out of  44 | elapsed:  1.6min remaining:  4.8min\n",
      "[Parallel(n_jobs=44)]: Done  20 out of  44 | elapsed:  1.6min remaining:  2.0min\n",
      "[Parallel(n_jobs=44)]: Done  29 out of  44 | elapsed:  1.7min remaining:   52.2s\n",
      "[Parallel(n_jobs=44)]: Done  38 out of  44 | elapsed:  1.7min remaining:   16.4s\n",
      "[Parallel(n_jobs=44)]: Done  44 out of  44 | elapsed:  1.8min finished\n"
     ]
    },
    {
     "name": "stdout",
     "output_type": "stream",
     "text": [
      "CPU times: user 1.47 s, sys: 6.5 s, total: 7.97 s\n",
      "Wall time: 1min 50s\n"
     ]
    }
   ],
   "source": [
    "%%time\n",
    "\n",
    "def worker(session, dff):\n",
    "    labels = dff.loc[:, ['stimulus', 'trial']]\n",
    "    signal = dff.loc[:, get_cells(dff)]\n",
    "    \n",
    "    transform = UMAP(**UMAP_PARAMS).fit_transform(signal)\n",
    "    \n",
    "    return pd.DataFrame(\n",
    "        data=transform,\n",
    "        index=dff.index,\n",
    "        columns=[f'umap_{i}' for i in range(transform.shape[1])],\n",
    "    ).join(labels)\n",
    "\n",
    "\n",
    "results = Parallel(n_jobs=min(len(args_list), N_CPUS), verbose=5)(\n",
    "    delayed(worker)(*args) for args in args_list\n",
    ")"
   ]
  },
  {
   "cell_type": "code",
   "execution_count": 17,
   "id": "anticipated-nicholas",
   "metadata": {},
   "outputs": [],
   "source": [
    "transforms = pd.concat(results)"
   ]
  },
  {
   "cell_type": "markdown",
   "id": "eastern-mississippi",
   "metadata": {},
   "source": [
    "## Mean centroid distance"
   ]
  },
  {
   "cell_type": "code",
   "execution_count": 18,
   "id": "removable-outdoors",
   "metadata": {},
   "outputs": [],
   "source": [
    "def centroid(points):\n",
    "    return points.mean(axis=0).reshape(1, -1)\n",
    "\n",
    "\n",
    "def centroid_distance(points):\n",
    "    points = points.to_numpy()\n",
    "    if points.ndim != 2:\n",
    "        raise ValueError(\"points must be 2D\")\n",
    "    return scipy.spatial.distance.cdist(points, centroid(points), metric=\"euclidean\")\n",
    "\n",
    "\n",
    "def mean_centroid_distance(points):\n",
    "    return np.mean(centroid_distance(points))"
   ]
  },
  {
   "cell_type": "code",
   "execution_count": 19,
   "id": "tutorial-blast",
   "metadata": {},
   "outputs": [
    {
     "data": {
      "application/vnd.jupyter.widget-view+json": {
       "model_id": "6dc918697fd34c61be9577e78a6e6a1f",
       "version_major": 2,
       "version_minor": 0
      },
      "text/plain": [
       "  0%|          | 0/2200 [00:00<?, ?it/s]"
      ]
     },
     "metadata": {},
     "output_type": "display_data"
    }
   ],
   "source": [
    "result = pd.Series(\n",
    "    transforms.groupby(['session', 'stimulus', 'trial']).progress_apply(mean_centroid_distance),\n",
    "    name='mean_centroid_distance',\n",
    ").reset_index()\n",
    "\n",
    "result['log(mean_centroid_distance)'] = np.log10(result['mean_centroid_distance'])\n",
    "\n",
    "result = (\n",
    "    result\n",
    "    .merge(STIMULUS_METADATA, left_on='stimulus', right_index=True)\n",
    "    .merge(METADATA, on='session')\n",
    ")"
   ]
  },
  {
   "cell_type": "code",
   "execution_count": 20,
   "id": "brave-market",
   "metadata": {},
   "outputs": [],
   "source": [
    "result.to_parquet('results/mean_centroid_distance.parquet')"
   ]
  },
  {
   "cell_type": "markdown",
   "id": "nearby-consideration",
   "metadata": {},
   "source": [
    "# Decoding"
   ]
  },
  {
   "cell_type": "markdown",
   "id": "above-unemployment",
   "metadata": {},
   "source": [
    "## Helper functions"
   ]
  },
  {
   "cell_type": "code",
   "execution_count": 21,
   "id": "dirty-giving",
   "metadata": {},
   "outputs": [],
   "source": [
    "def flatten_trial(data, target_length):\n",
    "    \"\"\"Truncate so each trial has the same number of frames.\"\"\"\n",
    "    if not abs(len(data) - target_length) <= TRUNCATION_TOLERANCE:\n",
    "        raise ValueError(\n",
    "            f\"Expected length within tolerance {tolerance}; got {len(data)}\"\n",
    "        )\n",
    "    return (\n",
    "        data.iloc[:target_length]\n",
    "        .drop(axis=\"columns\", labels=[\"trial\", \"stimulus\"])\n",
    "        .to_numpy()\n",
    "        .flatten()\n",
    "    )\n",
    "\n",
    "\n",
    "def get_labelled_data(session, stimuli, get_class):\n",
    "    \"\"\"Return data and classes.\n",
    "\n",
    "    Reshapes and concatenates data for all stimuli.\n",
    "    \"\"\"\n",
    "    dff = DFF[session]\n",
    "    data = DATA[session]\n",
    "    # Select stimulus subset and relevant columns\n",
    "    dff = dff.loc[\n",
    "        dff[\"stimulus\"].isin(stimuli),\n",
    "        get_cells(dff) + ['stimulus', 'trial']\n",
    "    ]\n",
    "    # X must be of shape (n_samples, n_features):\n",
    "    # - samples are trials;\n",
    "    # - features are the dF/F trace value for each cell for every sample within the trial,\n",
    "    #   i.e. there are (30 s * 30 Hz * n_cells) features.\n",
    "    # We need to truncate each trial to the minimum number of frames among all of them so\n",
    "    # they each have the same number of features.\n",
    "    target_length = int(dff.groupby([\"trial\", \"stimulus\"]).agg(len).min().min())\n",
    "    X = (\n",
    "        dff\n",
    "        .groupby([\"trial\", \"stimulus\"])\n",
    "        .apply(flatten_trial, target_length=target_length)\n",
    "    )\n",
    "    stimuli = X.index.get_level_values(\"stimulus\")\n",
    "    classes = stimuli.map(get_class)\n",
    "    trials = X.index.get_level_values(\"trial\")\n",
    "    # Reshape to the (n_samples, n_features)\n",
    "    samples = np.stack(X.to_numpy())\n",
    "    return samples, classes.to_numpy(), trials.to_numpy(), stimuli.to_numpy()"
   ]
  },
  {
   "cell_type": "markdown",
   "id": "arbitrary-denmark",
   "metadata": {},
   "source": [
    "## Compute"
   ]
  },
  {
   "cell_type": "code",
   "execution_count": 22,
   "id": "earned-islam",
   "metadata": {},
   "outputs": [],
   "source": [
    "N_JOBS = -1\n",
    "N_SPLITS = 5\n",
    "CV = StratifiedKFold(n_splits=N_SPLITS)\n",
    "PIPELINE = Pipeline(\n",
    "    [\n",
    "        (\"reduce_dimensionality\", PCA(n_components=0.99)),\n",
    "        (\"classify\", LinearDiscriminantAnalysis(solver=\"lsqr\", shrinkage=\"auto\")),\n",
    "    ]\n",
    ")"
   ]
  },
  {
   "cell_type": "code",
   "execution_count": 23,
   "id": "activated-debut",
   "metadata": {},
   "outputs": [],
   "source": [
    "identity = lambda x: x\n",
    "category = STIMULUS_METADATA.stimulus_type.get"
   ]
  },
  {
   "cell_type": "code",
   "execution_count": 24,
   "id": "naughty-universe",
   "metadata": {},
   "outputs": [
    {
     "data": {
      "application/vnd.jupyter.widget-view+json": {
       "model_id": "88fd1a3097c44a50afff40d2befcf360",
       "version_major": 2,
       "version_minor": 0
      },
      "text/plain": [
       "  0%|          | 0/3 [00:00<?, ?it/s]"
      ]
     },
     "metadata": {},
     "output_type": "display_data"
    },
    {
     "name": "stdout",
     "output_type": "stream",
     "text": [
      "CPU times: user 2min 29s, sys: 1min 18s, total: 3min 47s\n",
      "Wall time: 4min 36s\n"
     ]
    }
   ],
   "source": [
    "%%time\n",
    "\n",
    "def worker(session, stimulus_set, get_class, scoring):\n",
    "    X, y, trials, stimuli = get_labelled_data(\n",
    "        session,\n",
    "        stimuli=stimulus_set,\n",
    "        get_class=get_class,\n",
    "    )\n",
    "    if scoring == \"balanced_accuracy\":\n",
    "        scores = cross_val_score(PIPELINE, X, y, cv=CV, scoring=scoring, n_jobs=1)\n",
    "        return pd.DataFrame([{scoring: scores.mean(), 'session': session}])\n",
    "    if scoring == \"f1_score\":\n",
    "        labels = sorted(np.unique(y))\n",
    "        scoring = {\n",
    "            label: sklearn.metrics.make_scorer(\n",
    "                sklearn.metrics.f1_score,\n",
    "                labels=[label],\n",
    "                average=\"macro\",\n",
    "            )\n",
    "            for label in labels\n",
    "        }\n",
    "        scores = cross_validate(PIPELINE, X, y, cv=CV, scoring=scoring, n_jobs=1)\n",
    "        scores[\"session\"] = session\n",
    "        return pd.DataFrame(scores)\n",
    "    raise ValueError(\"invalid scoring method\")\n",
    "\n",
    "\n",
    "for stimulus_set, scoring, get_class in tqdm(\n",
    "    [\n",
    "        # Figure 6\n",
    "        (UNSCRAMBLED_SCRAMBLED, \"balanced_accuracy\", category),\n",
    "        # Figure S8\n",
    "        (BLOCK_STIMULI, \"balanced_accuracy\", identity),\n",
    "        # Figure S9\n",
    "        (CONTINUOUS_NATURAL, \"f1_score\", identity),\n",
    "    ]\n",
    "):\n",
    "    if get_class is identity:\n",
    "        decode_target = \"identity\"\n",
    "    if get_class is category:\n",
    "        decode_target = \"category\"\n",
    "\n",
    "    if stimulus_set == UNSCRAMBLED_SCRAMBLED:\n",
    "        stimulus_set_name = \"unscrambled_scrambled\"\n",
    "    if stimulus_set == BLOCK_STIMULI:\n",
    "        stimulus_set_name = \"all\"\n",
    "    if stimulus_set == CONTINUOUS_NATURAL:\n",
    "        stimulus_set_name = \"continuous_natural\"\n",
    "\n",
    "    output_path = f\"results/decoding__stimuli-{stimulus_set_name}__decode-{decode_target}__scoring-{scoring}.parquet\"\n",
    "    \n",
    "    chance = 1 / len(set(map(get_class, stimulus_set)))\n",
    "\n",
    "    with parallel_backend(\"loky\", n_jobs=N_JOBS):\n",
    "        results = Parallel()(\n",
    "            delayed(worker)(session, stimulus_set, get_class, scoring)\n",
    "            for session in SESSIONS\n",
    "        )\n",
    "\n",
    "    result_df = pd.concat(results).merge(METADATA, on=\"session\")\n",
    "    result_df[\"chance\"] = chance\n",
    "\n",
    "    result_df.to_parquet(output_path)"
   ]
  }
 ],
 "metadata": {
  "kernelspec": {
   "display_name": "Python 3",
   "language": "python",
   "name": "python3"
  },
  "language_info": {
   "codemirror_mode": {
    "name": "ipython",
    "version": 3
   },
   "file_extension": ".py",
   "mimetype": "text/x-python",
   "name": "python",
   "nbconvert_exporter": "python",
   "pygments_lexer": "ipython3",
   "version": "3.8.8"
  },
  "widgets": {
   "application/vnd.jupyter.widget-state+json": {
    "state": {
     "0c99f0577e394cc588595e1486c6dc4a": {
      "model_module": "@jupyter-widgets/controls",
      "model_module_version": "1.5.0",
      "model_name": "HBoxModel",
      "state": {
       "children": [
        "IPY_MODEL_b8add2a4a5024dd9a2131619d9e40a32",
        "IPY_MODEL_92e2ae9551774a7a8a274260db7a8a79",
        "IPY_MODEL_d6304d53542a47f2b37f9a53ed75e995"
       ],
       "layout": "IPY_MODEL_e5cd5bb2c10e4dfab3e23d77203b4c51"
      }
     },
     "0e41230025284c598e5593de459a910f": {
      "model_module": "@jupyter-widgets/base",
      "model_module_version": "1.2.0",
      "model_name": "LayoutModel",
      "state": {}
     },
     "0f6c81e9ad9f4e53a08c565fcd86fda9": {
      "model_module": "@jupyter-widgets/controls",
      "model_module_version": "1.5.0",
      "model_name": "DescriptionStyleModel",
      "state": {
       "description_width": ""
      }
     },
     "11819efddf03472ab1274ed4916ca501": {
      "model_module": "@jupyter-widgets/controls",
      "model_module_version": "1.5.0",
      "model_name": "HTMLModel",
      "state": {
       "layout": "IPY_MODEL_410d5b9b48f740188ebc34db96d38b3e",
       "style": "IPY_MODEL_ea576d7b5e2d4537a86dd2045e4d292b",
       "value": "100%"
      }
     },
     "11ceefe270254b3b9e581bc925017a99": {
      "model_module": "@jupyter-widgets/controls",
      "model_module_version": "1.5.0",
      "model_name": "ProgressStyleModel",
      "state": {
       "description_width": ""
      }
     },
     "282b9996ecdb499f9827c0e31b16b0f9": {
      "model_module": "@jupyter-widgets/base",
      "model_module_version": "1.2.0",
      "model_name": "LayoutModel",
      "state": {}
     },
     "33a65f727ae9494ea79cc30c058610f8": {
      "model_module": "@jupyter-widgets/controls",
      "model_module_version": "1.5.0",
      "model_name": "DescriptionStyleModel",
      "state": {
       "description_width": ""
      }
     },
     "393797ba39e547f3b582399b61d2afd3": {
      "model_module": "@jupyter-widgets/controls",
      "model_module_version": "1.5.0",
      "model_name": "ProgressStyleModel",
      "state": {
       "description_width": ""
      }
     },
     "3d57e64242bb434c93833859812ba9e2": {
      "model_module": "@jupyter-widgets/controls",
      "model_module_version": "1.5.0",
      "model_name": "HTMLModel",
      "state": {
       "layout": "IPY_MODEL_8393d58bcd344b0bbded695a0161f576",
       "style": "IPY_MODEL_0f6c81e9ad9f4e53a08c565fcd86fda9",
       "value": " 3/3 [04:40&lt;00:00, 91.26s/it]"
      }
     },
     "3fb75ff02eea41e4b1ec80a9e1c53217": {
      "model_module": "@jupyter-widgets/controls",
      "model_module_version": "1.5.0",
      "model_name": "HTMLModel",
      "state": {
       "layout": "IPY_MODEL_4ae0cef614cc4a1e86d0c4e8fb781631",
       "style": "IPY_MODEL_4066fd52d8ab4504b7217e502ef7db7b",
       "value": " 44/44 [00:15&lt;00:00,  9.07it/s]"
      }
     },
     "3ffd9ef697d1463bade73fd90827a576": {
      "model_module": "@jupyter-widgets/controls",
      "model_module_version": "1.5.0",
      "model_name": "HBoxModel",
      "state": {
       "children": [
        "IPY_MODEL_d91731c194904ca5b767c1e9a5910f4a",
        "IPY_MODEL_9653aa0e0b6d42e4a6bb7b5b1accec3e",
        "IPY_MODEL_3fb75ff02eea41e4b1ec80a9e1c53217"
       ],
       "layout": "IPY_MODEL_eca96e1999cc4363918438c50ec2216f"
      }
     },
     "4066fd52d8ab4504b7217e502ef7db7b": {
      "model_module": "@jupyter-widgets/controls",
      "model_module_version": "1.5.0",
      "model_name": "DescriptionStyleModel",
      "state": {
       "description_width": ""
      }
     },
     "410d5b9b48f740188ebc34db96d38b3e": {
      "model_module": "@jupyter-widgets/base",
      "model_module_version": "1.2.0",
      "model_name": "LayoutModel",
      "state": {}
     },
     "4ae0cef614cc4a1e86d0c4e8fb781631": {
      "model_module": "@jupyter-widgets/base",
      "model_module_version": "1.2.0",
      "model_name": "LayoutModel",
      "state": {}
     },
     "500d3227226a4fd7a2c148a0d84f8c84": {
      "model_module": "@jupyter-widgets/base",
      "model_module_version": "1.2.0",
      "model_name": "LayoutModel",
      "state": {}
     },
     "595d5ffe04c346049e2ce4e3b2d72633": {
      "model_module": "@jupyter-widgets/controls",
      "model_module_version": "1.5.0",
      "model_name": "HTMLModel",
      "state": {
       "layout": "IPY_MODEL_ddf944535c754e54b99a8f04c7183e6d",
       "style": "IPY_MODEL_33a65f727ae9494ea79cc30c058610f8",
       "value": " 44/44 [00:04&lt;00:00, 16.97it/s]"
      }
     },
     "8393d58bcd344b0bbded695a0161f576": {
      "model_module": "@jupyter-widgets/base",
      "model_module_version": "1.2.0",
      "model_name": "LayoutModel",
      "state": {}
     },
     "887d2a35a95944d288d8555dc743cf45": {
      "model_module": "@jupyter-widgets/controls",
      "model_module_version": "1.5.0",
      "model_name": "FloatProgressModel",
      "state": {
       "bar_style": "success",
       "layout": "IPY_MODEL_0e41230025284c598e5593de459a910f",
       "max": 44,
       "style": "IPY_MODEL_11ceefe270254b3b9e581bc925017a99",
       "value": 44
      }
     },
     "92e2ae9551774a7a8a274260db7a8a79": {
      "model_module": "@jupyter-widgets/controls",
      "model_module_version": "1.5.0",
      "model_name": "FloatProgressModel",
      "state": {
       "bar_style": "success",
       "layout": "IPY_MODEL_b82909a1d8014550a9cc54ca346e01a7",
       "max": 2200,
       "style": "IPY_MODEL_393797ba39e547f3b582399b61d2afd3",
       "value": 2200
      }
     },
     "941c9a7119d645bab885c04bfdfb11d9": {
      "model_module": "@jupyter-widgets/base",
      "model_module_version": "1.2.0",
      "model_name": "LayoutModel",
      "state": {}
     },
     "9653aa0e0b6d42e4a6bb7b5b1accec3e": {
      "model_module": "@jupyter-widgets/controls",
      "model_module_version": "1.5.0",
      "model_name": "FloatProgressModel",
      "state": {
       "bar_style": "success",
       "layout": "IPY_MODEL_941c9a7119d645bab885c04bfdfb11d9",
       "max": 44,
       "style": "IPY_MODEL_ea1e1cbd7ae4426f962977e835b214d5",
       "value": 44
      }
     },
     "9b5c799e75c74c9786b4cb8e16c05ced": {
      "model_module": "@jupyter-widgets/controls",
      "model_module_version": "1.5.0",
      "model_name": "DescriptionStyleModel",
      "state": {
       "description_width": ""
      }
     },
     "b7fe4d7c6830490faf8d17828bab42bb": {
      "model_module": "@jupyter-widgets/controls",
      "model_module_version": "1.5.0",
      "model_name": "FloatProgressModel",
      "state": {
       "bar_style": "success",
       "layout": "IPY_MODEL_c9c0865ba4fe41e0a46397736cc233eb",
       "max": 3,
       "style": "IPY_MODEL_cf4765d6e3224cc7b1049fbdfc8d541f",
       "value": 3
      }
     },
     "b82909a1d8014550a9cc54ca346e01a7": {
      "model_module": "@jupyter-widgets/base",
      "model_module_version": "1.2.0",
      "model_name": "LayoutModel",
      "state": {}
     },
     "b8add2a4a5024dd9a2131619d9e40a32": {
      "model_module": "@jupyter-widgets/controls",
      "model_module_version": "1.5.0",
      "model_name": "HTMLModel",
      "state": {
       "layout": "IPY_MODEL_e8be9ca7eff345cdbc378956ebb2cb6a",
       "style": "IPY_MODEL_ed87b94e5c3f4eb79f2dd10a996621ef",
       "value": "100%"
      }
     },
     "bfd1fdc8f97847cb969a41e11d101672": {
      "model_module": "@jupyter-widgets/base",
      "model_module_version": "1.2.0",
      "model_name": "LayoutModel",
      "state": {}
     },
     "c7ed3fec3ac04048a4a1712ead01ce7f": {
      "model_module": "@jupyter-widgets/controls",
      "model_module_version": "1.5.0",
      "model_name": "HBoxModel",
      "state": {
       "children": [
        "IPY_MODEL_eac9a7cd10ee499e8178461bd31ac22c",
        "IPY_MODEL_b7fe4d7c6830490faf8d17828bab42bb",
        "IPY_MODEL_3d57e64242bb434c93833859812ba9e2"
       ],
       "layout": "IPY_MODEL_da24ff200a0f45deb42c6b1f19ed46a4"
      }
     },
     "c8152c50aa1a4232b6a7a61b5571907e": {
      "model_module": "@jupyter-widgets/controls",
      "model_module_version": "1.5.0",
      "model_name": "DescriptionStyleModel",
      "state": {
       "description_width": ""
      }
     },
     "c9c0865ba4fe41e0a46397736cc233eb": {
      "model_module": "@jupyter-widgets/base",
      "model_module_version": "1.2.0",
      "model_name": "LayoutModel",
      "state": {}
     },
     "cf4765d6e3224cc7b1049fbdfc8d541f": {
      "model_module": "@jupyter-widgets/controls",
      "model_module_version": "1.5.0",
      "model_name": "ProgressStyleModel",
      "state": {
       "description_width": ""
      }
     },
     "d6304d53542a47f2b37f9a53ed75e995": {
      "model_module": "@jupyter-widgets/controls",
      "model_module_version": "1.5.0",
      "model_name": "HTMLModel",
      "state": {
       "layout": "IPY_MODEL_ee1c5db32b7242e19d7d2660b68b5cce",
       "style": "IPY_MODEL_9b5c799e75c74c9786b4cb8e16c05ced",
       "value": " 2200/2200 [00:00&lt;00:00, 3906.61it/s]"
      }
     },
     "d91731c194904ca5b767c1e9a5910f4a": {
      "model_module": "@jupyter-widgets/controls",
      "model_module_version": "1.5.0",
      "model_name": "HTMLModel",
      "state": {
       "layout": "IPY_MODEL_282b9996ecdb499f9827c0e31b16b0f9",
       "style": "IPY_MODEL_fae1ccab4cfd432bb80a4b40e68bd2d5",
       "value": "100%"
      }
     },
     "da24ff200a0f45deb42c6b1f19ed46a4": {
      "model_module": "@jupyter-widgets/base",
      "model_module_version": "1.2.0",
      "model_name": "LayoutModel",
      "state": {}
     },
     "ddf944535c754e54b99a8f04c7183e6d": {
      "model_module": "@jupyter-widgets/base",
      "model_module_version": "1.2.0",
      "model_name": "LayoutModel",
      "state": {}
     },
     "e5cd5bb2c10e4dfab3e23d77203b4c51": {
      "model_module": "@jupyter-widgets/base",
      "model_module_version": "1.2.0",
      "model_name": "LayoutModel",
      "state": {}
     },
     "e8be9ca7eff345cdbc378956ebb2cb6a": {
      "model_module": "@jupyter-widgets/base",
      "model_module_version": "1.2.0",
      "model_name": "LayoutModel",
      "state": {}
     },
     "ea1e1cbd7ae4426f962977e835b214d5": {
      "model_module": "@jupyter-widgets/controls",
      "model_module_version": "1.5.0",
      "model_name": "ProgressStyleModel",
      "state": {
       "description_width": ""
      }
     },
     "ea576d7b5e2d4537a86dd2045e4d292b": {
      "model_module": "@jupyter-widgets/controls",
      "model_module_version": "1.5.0",
      "model_name": "DescriptionStyleModel",
      "state": {
       "description_width": ""
      }
     },
     "eac9a7cd10ee499e8178461bd31ac22c": {
      "model_module": "@jupyter-widgets/controls",
      "model_module_version": "1.5.0",
      "model_name": "HTMLModel",
      "state": {
       "layout": "IPY_MODEL_500d3227226a4fd7a2c148a0d84f8c84",
       "style": "IPY_MODEL_c8152c50aa1a4232b6a7a61b5571907e",
       "value": "100%"
      }
     },
     "eca96e1999cc4363918438c50ec2216f": {
      "model_module": "@jupyter-widgets/base",
      "model_module_version": "1.2.0",
      "model_name": "LayoutModel",
      "state": {}
     },
     "ed87b94e5c3f4eb79f2dd10a996621ef": {
      "model_module": "@jupyter-widgets/controls",
      "model_module_version": "1.5.0",
      "model_name": "DescriptionStyleModel",
      "state": {
       "description_width": ""
      }
     },
     "ee1c5db32b7242e19d7d2660b68b5cce": {
      "model_module": "@jupyter-widgets/base",
      "model_module_version": "1.2.0",
      "model_name": "LayoutModel",
      "state": {}
     },
     "f9e034fe8e29400195b10d71cd5f3dae": {
      "model_module": "@jupyter-widgets/controls",
      "model_module_version": "1.5.0",
      "model_name": "HBoxModel",
      "state": {
       "children": [
        "IPY_MODEL_11819efddf03472ab1274ed4916ca501",
        "IPY_MODEL_887d2a35a95944d288d8555dc743cf45",
        "IPY_MODEL_595d5ffe04c346049e2ce4e3b2d72633"
       ],
       "layout": "IPY_MODEL_bfd1fdc8f97847cb969a41e11d101672"
      }
     },
     "fae1ccab4cfd432bb80a4b40e68bd2d5": {
      "model_module": "@jupyter-widgets/controls",
      "model_module_version": "1.5.0",
      "model_name": "DescriptionStyleModel",
      "state": {
       "description_width": ""
      }
     }
    },
    "version_major": 2,
    "version_minor": 0
   }
  }
 },
 "nbformat": 4,
 "nbformat_minor": 5
}
