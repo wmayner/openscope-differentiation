{
 "cells": [
  {
   "cell_type": "markdown",
   "id": "db2077b6",
   "metadata": {
    "tags": []
   },
   "source": [
    "# main.ipynb\n",
    "\n",
    "- Compute arousal metrics from behavior\n",
    "- Compute spectral and multivariate differentiation\n",
    "- Decode stimuli"
   ]
  },
  {
   "cell_type": "code",
   "execution_count": 1,
   "id": "27e36671",
   "metadata": {
    "execution": {
     "iopub.execute_input": "2021-12-13T21:27:56.630357Z",
     "iopub.status.busy": "2021-12-13T21:27:56.629866Z",
     "iopub.status.idle": "2021-12-13T21:28:03.230720Z",
     "shell.execute_reply": "2021-12-13T21:28:03.229829Z",
     "shell.execute_reply.started": "2021-12-13T21:27:56.630245Z"
    },
    "tags": []
   },
   "outputs": [],
   "source": [
    "import multiprocessing\n",
    "from itertools import cycle, product\n",
    "from pathlib import Path\n",
    "\n",
    "import numpy as np\n",
    "import pandas as pd\n",
    "import scipy\n",
    "import scipy.spatial\n",
    "import sklearn\n",
    "import yaml\n",
    "from joblib import Parallel, delayed\n",
    "from sklearn.decomposition import PCA\n",
    "from sklearn.discriminant_analysis import LinearDiscriminantAnalysis\n",
    "from sklearn.model_selection import (StratifiedKFold, cross_val_score,\n",
    "                                     cross_validate)\n",
    "from sklearn.pipeline import Pipeline\n",
    "from sklearn.utils import parallel_backend\n",
    "from tqdm.auto import tqdm\n",
    "from umap import UMAP\n",
    "\n",
    "import metadata\n",
    "from spectral_differentiation import compute_spectral_differentiation, TRUNCATION_TOLERANCE\n",
    "from analysis import (BLOCK_STIMULI, CONTINUOUS_NATURAL, SESSIONS,\n",
    "                      UNSCRAMBLED_SCRAMBLED, get_cells)\n",
    "import analysis\n",
    "from load import load_preprocessed_data, load_preprocessed_events, make_multiindex\n",
    "from metadata import METADATA, STIMULUS_METADATA"
   ]
  },
  {
   "cell_type": "code",
   "execution_count": 2,
   "id": "6b5cfa4d",
   "metadata": {
    "execution": {
     "iopub.execute_input": "2021-12-13T21:28:03.232579Z",
     "iopub.status.busy": "2021-12-13T21:28:03.232255Z",
     "iopub.status.idle": "2021-12-13T21:28:03.236695Z",
     "shell.execute_reply": "2021-12-13T21:28:03.235914Z",
     "shell.execute_reply.started": "2021-12-13T21:28:03.232555Z"
    },
    "tags": []
   },
   "outputs": [],
   "source": [
    "# Register tqdm with pandas for `progress_apply`\n",
    "tqdm.pandas()"
   ]
  },
  {
   "cell_type": "code",
   "execution_count": 3,
   "id": "bb6d9f49",
   "metadata": {
    "execution": {
     "iopub.execute_input": "2021-12-13T21:28:03.237988Z",
     "iopub.status.busy": "2021-12-13T21:28:03.237703Z",
     "iopub.status.idle": "2021-12-13T21:28:03.241563Z",
     "shell.execute_reply": "2021-12-13T21:28:03.240750Z",
     "shell.execute_reply.started": "2021-12-13T21:28:03.237965Z"
    },
    "tags": []
   },
   "outputs": [],
   "source": [
    "N_CPUS = multiprocessing.cpu_count()"
   ]
  },
  {
   "cell_type": "code",
   "execution_count": 12,
   "id": "d9619de7-29ad-4c91-87cd-86c18a166ab5",
   "metadata": {
    "execution": {
     "iopub.execute_input": "2021-12-13T21:30:34.878839Z",
     "iopub.status.busy": "2021-12-13T21:30:34.878377Z",
     "iopub.status.idle": "2021-12-13T21:30:34.883373Z",
     "shell.execute_reply": "2021-12-13T21:30:34.882524Z",
     "shell.execute_reply.started": "2021-12-13T21:30:34.878795Z"
    },
    "tags": []
   },
   "outputs": [],
   "source": [
    "OUTPUT_DIR = Path('results')\n",
    "OUTPUT_DIR.mkdir(exist_ok=True)"
   ]
  },
  {
   "cell_type": "markdown",
   "id": "2afc63e4",
   "metadata": {},
   "source": [
    "## Load data"
   ]
  },
  {
   "cell_type": "code",
   "execution_count": 4,
   "id": "faa6131e",
   "metadata": {
    "execution": {
     "iopub.execute_input": "2021-12-13T21:28:03.248333Z",
     "iopub.status.busy": "2021-12-13T21:28:03.248072Z",
     "iopub.status.idle": "2021-12-13T21:28:56.795679Z",
     "shell.execute_reply": "2021-12-13T21:28:56.794410Z",
     "shell.execute_reply.started": "2021-12-13T21:28:03.248309Z"
    },
    "tags": []
   },
   "outputs": [
    {
     "name": "stderr",
     "output_type": "stream",
     "text": [
      "[Parallel(n_jobs=44)]: Using backend LokyBackend with 44 concurrent workers.\n",
      "[Parallel(n_jobs=44)]: Done   2 out of  44 | elapsed:    9.4s remaining:  3.3min\n",
      "[Parallel(n_jobs=44)]: Done  11 out of  44 | elapsed:   14.4s remaining:   43.1s\n",
      "[Parallel(n_jobs=44)]: Done  20 out of  44 | elapsed:   19.1s remaining:   23.0s\n",
      "[Parallel(n_jobs=44)]: Done  29 out of  44 | elapsed:   26.0s remaining:   13.4s\n",
      "[Parallel(n_jobs=44)]: Done  38 out of  44 | elapsed:   38.7s remaining:    6.1s\n",
      "[Parallel(n_jobs=44)]: Done  44 out of  44 | elapsed:   53.5s finished\n"
     ]
    }
   ],
   "source": [
    "def loader(session):\n",
    "    events = load_preprocessed_events(session) \n",
    "    dff, data = load_preprocessed_data(session)\n",
    "    return dff, events, data\n",
    "\n",
    "loaded_data = Parallel(n_jobs=min(len(SESSIONS), N_CPUS), verbose=5)(\n",
    "    delayed(loader)(session) for session in SESSIONS\n",
    ")"
   ]
  },
  {
   "cell_type": "code",
   "execution_count": 5,
   "id": "014a1a32",
   "metadata": {
    "execution": {
     "iopub.execute_input": "2021-12-13T21:28:56.798650Z",
     "iopub.status.busy": "2021-12-13T21:28:56.798103Z",
     "iopub.status.idle": "2021-12-13T21:28:56.806404Z",
     "shell.execute_reply": "2021-12-13T21:28:56.805613Z",
     "shell.execute_reply.started": "2021-12-13T21:28:56.798605Z"
    },
    "tags": []
   },
   "outputs": [],
   "source": [
    "DFF = dict()\n",
    "EVENTS = dict()\n",
    "DATA = dict()\n",
    "for session, (dff, events, data) in zip(SESSIONS, loaded_data):\n",
    "    DFF[session] = dff\n",
    "    EVENTS[session] = events\n",
    "    DATA[session] = data"
   ]
  },
  {
   "cell_type": "code",
   "execution_count": 6,
   "id": "d1a4d04f",
   "metadata": {
    "execution": {
     "iopub.execute_input": "2021-12-13T21:28:56.807976Z",
     "iopub.status.busy": "2021-12-13T21:28:56.807661Z",
     "iopub.status.idle": "2021-12-13T21:29:41.287437Z",
     "shell.execute_reply": "2021-12-13T21:29:41.286746Z",
     "shell.execute_reply.started": "2021-12-13T21:28:56.807943Z"
    },
    "tags": []
   },
   "outputs": [
    {
     "data": {
      "application/vnd.jupyter.widget-view+json": {
       "model_id": "51525ef1ca014646b8bcf6fb85d85606",
       "version_major": 2,
       "version_minor": 0
      },
      "text/plain": [
       "  0%|          | 0/44 [00:00<?, ?it/s]"
      ]
     },
     "metadata": {},
     "output_type": "display_data"
    }
   ],
   "source": [
    "# Attach label columns to dF/F and event dataframes\n",
    "for session, data in tqdm(DATA.items()):\n",
    "    labels = data.loc[:, [\"stimulus\", \"trial\", \"stimulus_is_scrambled_pair\", \"stimulus_is_block\"]]\n",
    "    DFF[session] = DFF[session].merge(\n",
    "        labels,\n",
    "        how=\"left\",\n",
    "        left_index=True,\n",
    "        right_index=True,\n",
    "    )\n",
    "    EVENTS[session] = EVENTS[session].merge(\n",
    "        labels,\n",
    "        how=\"left\",\n",
    "        left_index=True,\n",
    "        right_index=True,\n",
    "    )"
   ]
  },
  {
   "cell_type": "markdown",
   "id": "b75075e3-b126-4997-8a5e-b5a854faed9d",
   "metadata": {},
   "source": [
    "# Behavior"
   ]
  },
  {
   "cell_type": "markdown",
   "id": "0d76874e-6d16-4791-9e8a-093b60bfccb6",
   "metadata": {},
   "source": [
    "Mean pupil diameter and locomotion fraction"
   ]
  },
  {
   "cell_type": "code",
   "execution_count": 7,
   "id": "a7a0cd2a-3cbc-40fd-a5e7-44e44e4b086a",
   "metadata": {
    "execution": {
     "iopub.execute_input": "2021-12-13T21:29:41.288925Z",
     "iopub.status.busy": "2021-12-13T21:29:41.288606Z",
     "iopub.status.idle": "2021-12-13T21:29:46.156484Z",
     "shell.execute_reply": "2021-12-13T21:29:46.155774Z",
     "shell.execute_reply.started": "2021-12-13T21:29:41.288898Z"
    },
    "tags": []
   },
   "outputs": [],
   "source": [
    "behavior = (\n",
    "    pd.concat(DATA.values())\n",
    "    .reset_index()\n",
    ")"
   ]
  },
  {
   "cell_type": "code",
   "execution_count": 8,
   "id": "d0510d01-5f8f-43ab-afee-c88558202cd3",
   "metadata": {
    "execution": {
     "iopub.execute_input": "2021-12-13T21:29:46.157758Z",
     "iopub.status.busy": "2021-12-13T21:29:46.157481Z",
     "iopub.status.idle": "2021-12-13T21:29:46.161406Z",
     "shell.execute_reply": "2021-12-13T21:29:46.160603Z",
     "shell.execute_reply.started": "2021-12-13T21:29:46.157734Z"
    },
    "tags": []
   },
   "outputs": [],
   "source": [
    "cols = [\"normalized_pupil_diameter\", \"locomotion\", \"filtered_velocity\"]"
   ]
  },
  {
   "cell_type": "code",
   "execution_count": 13,
   "id": "b922d4f2-2d63-4dcb-a33c-b0fae92ee9a2",
   "metadata": {
    "execution": {
     "iopub.execute_input": "2021-12-13T21:30:36.543244Z",
     "iopub.status.busy": "2021-12-13T21:30:36.542782Z",
     "iopub.status.idle": "2021-12-13T21:30:38.862746Z",
     "shell.execute_reply": "2021-12-13T21:30:38.862009Z",
     "shell.execute_reply.started": "2021-12-13T21:30:36.543200Z"
    },
    "tags": []
   },
   "outputs": [
    {
     "data": {
      "application/vnd.jupyter.widget-view+json": {
       "model_id": "16d777f7adde448abfce962f394789b9",
       "version_major": 2,
       "version_minor": 0
      },
      "text/plain": [
       "  0%|          | 0/2 [00:00<?, ?it/s]"
      ]
     },
     "metadata": {},
     "output_type": "display_data"
    }
   ],
   "source": [
    "# By session and trial\n",
    "groupings = {\n",
    "    \"session\": [\"session\"],\n",
    "    \"trial\": [\"session\", \"stimulus\", \"trial\"],\n",
    "}\n",
    "behavior_by = {}\n",
    "for grouping_name, grouping in tqdm(groupings.items()):\n",
    "    behavior_by[grouping_name] = (\n",
    "        behavior\n",
    "        .loc[:, grouping + cols]\n",
    "        .groupby(grouping)\n",
    "        .mean()\n",
    "    )\n",
    "    behavior_by[grouping_name].to_parquet(OUTPUT_DIR/f\"behavior_by_{grouping_name}.parquet\")"
   ]
  },
  {
   "cell_type": "markdown",
   "id": "c38b20b9-9c35-4f54-83a6-213167359401",
   "metadata": {},
   "source": [
    "# Events"
   ]
  },
  {
   "cell_type": "markdown",
   "id": "1caac508-0f70-4fe3-9ac8-e098987937ed",
   "metadata": {},
   "source": [
    "### Mean event magnitude per trial"
   ]
  },
  {
   "cell_type": "code",
   "execution_count": 14,
   "id": "0e760ad3-842b-4ed3-960d-6bf2b1038a7f",
   "metadata": {
    "execution": {
     "iopub.execute_input": "2021-12-13T21:30:40.404740Z",
     "iopub.status.busy": "2021-12-13T21:30:40.404293Z",
     "iopub.status.idle": "2021-12-13T21:30:40.410399Z",
     "shell.execute_reply": "2021-12-13T21:30:40.409362Z",
     "shell.execute_reply.started": "2021-12-13T21:30:40.404700Z"
    },
    "tags": []
   },
   "outputs": [],
   "source": [
    "grouping = ['session', 'stimulus', 'trial']\n",
    "\n",
    "def worker(data):\n",
    "    return (\n",
    "        data\n",
    "        .reset_index()\n",
    "        .loc[:, get_cells(data) + grouping]\n",
    "        .groupby(grouping)\n",
    "        .mean()\n",
    "    )"
   ]
  },
  {
   "cell_type": "code",
   "execution_count": 15,
   "id": "5036e746-a079-408f-9163-bd19417a560c",
   "metadata": {
    "execution": {
     "iopub.execute_input": "2021-12-13T21:30:40.412511Z",
     "iopub.status.busy": "2021-12-13T21:30:40.412144Z",
     "iopub.status.idle": "2021-12-13T21:30:47.427394Z",
     "shell.execute_reply": "2021-12-13T21:30:47.426276Z",
     "shell.execute_reply.started": "2021-12-13T21:30:40.412474Z"
    },
    "tags": []
   },
   "outputs": [
    {
     "name": "stderr",
     "output_type": "stream",
     "text": [
      "[Parallel(n_jobs=44)]: Using backend LokyBackend with 44 concurrent workers.\n",
      "[Parallel(n_jobs=44)]: Done   2 out of  44 | elapsed:    1.9s remaining:   38.9s\n",
      "[Parallel(n_jobs=44)]: Done  11 out of  44 | elapsed:    2.8s remaining:    8.5s\n",
      "[Parallel(n_jobs=44)]: Done  20 out of  44 | elapsed:    4.4s remaining:    5.2s\n",
      "[Parallel(n_jobs=44)]: Done  29 out of  44 | elapsed:    5.6s remaining:    2.9s\n",
      "[Parallel(n_jobs=44)]: Done  38 out of  44 | elapsed:    6.2s remaining:    1.0s\n",
      "[Parallel(n_jobs=44)]: Done  44 out of  44 | elapsed:    6.4s finished\n"
     ]
    }
   ],
   "source": [
    "magnitudes = pd.concat(Parallel(n_jobs=min(len(SESSIONS), N_CPUS), verbose=5)(\n",
    "    delayed(worker)(data) for data in tqdm(EVENTS.values())\n",
    "))"
   ]
  },
  {
   "cell_type": "code",
   "execution_count": 16,
   "id": "a7bc6c82-19c5-4f38-a879-909a64a7fa9b",
   "metadata": {
    "execution": {
     "iopub.execute_input": "2021-12-13T21:30:47.429422Z",
     "iopub.status.busy": "2021-12-13T21:30:47.429005Z",
     "iopub.status.idle": "2021-12-13T21:30:47.462134Z",
     "shell.execute_reply": "2021-12-13T21:30:47.461094Z",
     "shell.execute_reply.started": "2021-12-13T21:30:47.429380Z"
    },
    "tags": []
   },
   "outputs": [],
   "source": [
    "mean_magnitudes = pd.Series(data=magnitudes.mean(axis='columns'), name='mean_magnitude')"
   ]
  },
  {
   "cell_type": "markdown",
   "id": "e6f44601-97f3-4483-8d1f-bdc22d81b53c",
   "metadata": {},
   "source": [
    "### Remove transients from dF/F"
   ]
  },
  {
   "cell_type": "code",
   "execution_count": 17,
   "id": "24b01f3e-d420-461e-9097-90b87c0a1b9e",
   "metadata": {
    "execution": {
     "iopub.execute_input": "2021-12-13T21:30:47.464042Z",
     "iopub.status.busy": "2021-12-13T21:30:47.463644Z",
     "iopub.status.idle": "2021-12-13T21:30:47.475290Z",
     "shell.execute_reply": "2021-12-13T21:30:47.468148Z",
     "shell.execute_reply.started": "2021-12-13T21:30:47.464002Z"
    },
    "tags": []
   },
   "outputs": [],
   "source": [
    "# Length of transient to remove, in seconds\n",
    "TAU = 0.2  # s\n",
    "\n",
    "tau_samples = TAU * metadata.TWOP_SAMPLE_RATE\n",
    "assert tau_samples.is_integer()\n",
    "tau_samples = int(tau_samples)"
   ]
  },
  {
   "cell_type": "code",
   "execution_count": 18,
   "id": "2f313ac1-bba3-44ce-a8fc-429fcd2fcfa0",
   "metadata": {
    "execution": {
     "iopub.execute_input": "2021-12-13T21:30:47.478254Z",
     "iopub.status.busy": "2021-12-13T21:30:47.477834Z",
     "iopub.status.idle": "2021-12-13T21:30:47.487641Z",
     "shell.execute_reply": "2021-12-13T21:30:47.486616Z",
     "shell.execute_reply.started": "2021-12-13T21:30:47.478212Z"
    },
    "tags": []
   },
   "outputs": [],
   "source": [
    "def worker(events, dff):\n",
    "    frame, cell = np.where(events.loc[:, get_cells(events)])\n",
    "    no_transients = (\n",
    "        dff\n",
    "        .copy()\n",
    "        .loc[:, get_cells(dff)]\n",
    "        .to_numpy()\n",
    "    )\n",
    "    noncell_cols = dff.loc[:, list(set(dff.columns) - set(get_cells(dff)))]\n",
    "    \n",
    "    for t in range(0, tau_samples):\n",
    "        no_transients[np.minimum(frame + t, (dff.shape[0] - 1)), cell] = np.nan\n",
    "        \n",
    "    return (\n",
    "        pd.DataFrame(\n",
    "            data=no_transients,\n",
    "            index=dff.index,\n",
    "            columns=get_cells(dff),\n",
    "        )\n",
    "        .join(noncell_cols)\n",
    "        .interpolate(method='linear', limit_area='inside')\n",
    "    )"
   ]
  },
  {
   "cell_type": "code",
   "execution_count": 19,
   "id": "c6c5adbc-8ffd-4304-9d4b-c16f80770168",
   "metadata": {
    "execution": {
     "iopub.execute_input": "2021-12-13T21:30:47.489664Z",
     "iopub.status.busy": "2021-12-13T21:30:47.489102Z",
     "iopub.status.idle": "2021-12-13T21:30:52.495192Z",
     "shell.execute_reply": "2021-12-13T21:30:52.494383Z",
     "shell.execute_reply.started": "2021-12-13T21:30:47.489616Z"
    },
    "tags": []
   },
   "outputs": [
    {
     "data": {
      "application/vnd.jupyter.widget-view+json": {
       "model_id": "ad1375158f974f70bcd882ee80ec7ed4",
       "version_major": 2,
       "version_minor": 0
      },
      "text/plain": [
       "  0%|          | 0/44 [00:00<?, ?it/s]"
      ]
     },
     "metadata": {},
     "output_type": "display_data"
    }
   ],
   "source": [
    "arg_list = [\n",
    "    (EVENTS[session].copy(), DFF[session].copy())\n",
    "    for session in tqdm(SESSIONS)\n",
    "]"
   ]
  },
  {
   "cell_type": "code",
   "execution_count": 20,
   "id": "49067576-722a-41d2-a133-462d882f204f",
   "metadata": {
    "execution": {
     "iopub.execute_input": "2021-12-13T21:30:52.497121Z",
     "iopub.status.busy": "2021-12-13T21:30:52.496761Z",
     "iopub.status.idle": "2021-12-13T21:31:17.981157Z",
     "shell.execute_reply": "2021-12-13T21:31:17.980049Z",
     "shell.execute_reply.started": "2021-12-13T21:30:52.497093Z"
    },
    "tags": []
   },
   "outputs": [
    {
     "name": "stderr",
     "output_type": "stream",
     "text": [
      "[Parallel(n_jobs=44)]: Using backend LokyBackend with 44 concurrent workers.\n",
      "[Parallel(n_jobs=44)]: Done   2 out of  44 | elapsed:    1.6s remaining:   33.7s\n",
      "[Parallel(n_jobs=44)]: Done  11 out of  44 | elapsed:    6.6s remaining:   19.7s\n",
      "[Parallel(n_jobs=44)]: Done  20 out of  44 | elapsed:   13.0s remaining:   15.7s\n",
      "[Parallel(n_jobs=44)]: Done  29 out of  44 | elapsed:   19.7s remaining:   10.2s\n",
      "[Parallel(n_jobs=44)]: Done  38 out of  44 | elapsed:   23.6s remaining:    3.7s\n",
      "[Parallel(n_jobs=44)]: Done  44 out of  44 | elapsed:   25.0s finished\n"
     ]
    }
   ],
   "source": [
    "results = Parallel(n_jobs=min(len(SESSIONS), N_CPUS), verbose=5)(\n",
    "    delayed(worker)(*args) for args in tqdm(arg_list)\n",
    ")\n",
    "\n",
    "DFF_NO_TRANSIENTS = dict(zip(SESSIONS, results))"
   ]
  },
  {
   "cell_type": "markdown",
   "id": "a5fa7f9f",
   "metadata": {
    "tags": []
   },
   "source": [
    "# Spectral differentiation"
   ]
  },
  {
   "cell_type": "markdown",
   "id": "a93ae6b8",
   "metadata": {},
   "source": [
    "### Build parameter space\n",
    "\n",
    "Combinations of parameters to use for the sensitivity analysis."
   ]
  },
  {
   "cell_type": "code",
   "execution_count": 21,
   "id": "ab4994e0",
   "metadata": {
    "execution": {
     "iopub.execute_input": "2021-12-13T21:31:17.983463Z",
     "iopub.status.busy": "2021-12-13T21:31:17.983041Z",
     "iopub.status.idle": "2021-12-13T21:31:18.054074Z",
     "shell.execute_reply": "2021-12-13T21:31:18.053238Z",
     "shell.execute_reply.started": "2021-12-13T21:31:17.983421Z"
    },
    "tags": []
   },
   "outputs": [
    {
     "data": {
      "text/html": [
       "<div>\n",
       "<style scoped>\n",
       "    .dataframe tbody tr th:only-of-type {\n",
       "        vertical-align: middle;\n",
       "    }\n",
       "\n",
       "    .dataframe tbody tr th {\n",
       "        vertical-align: top;\n",
       "    }\n",
       "\n",
       "    .dataframe thead th {\n",
       "        text-align: right;\n",
       "    }\n",
       "</style>\n",
       "<table border=\"1\" class=\"dataframe\">\n",
       "  <thead>\n",
       "    <tr style=\"text-align: right;\">\n",
       "      <th></th>\n",
       "      <th>state_length</th>\n",
       "      <th>metric</th>\n",
       "      <th>log_frequency</th>\n",
       "      <th>window</th>\n",
       "      <th>window_param</th>\n",
       "      <th>overlap</th>\n",
       "    </tr>\n",
       "  </thead>\n",
       "  <tbody>\n",
       "    <tr>\n",
       "      <th>0</th>\n",
       "      <td>0.2</td>\n",
       "      <td>cityblock</td>\n",
       "      <td>False</td>\n",
       "      <td>None</td>\n",
       "      <td>-1.00</td>\n",
       "      <td>0.000</td>\n",
       "    </tr>\n",
       "    <tr>\n",
       "      <th>1</th>\n",
       "      <td>0.2</td>\n",
       "      <td>cityblock</td>\n",
       "      <td>False</td>\n",
       "      <td>tukey</td>\n",
       "      <td>0.25</td>\n",
       "      <td>0.125</td>\n",
       "    </tr>\n",
       "    <tr>\n",
       "      <th>2</th>\n",
       "      <td>0.2</td>\n",
       "      <td>cityblock</td>\n",
       "      <td>False</td>\n",
       "      <td>kaiser</td>\n",
       "      <td>14.00</td>\n",
       "      <td>0.500</td>\n",
       "    </tr>\n",
       "    <tr>\n",
       "      <th>3</th>\n",
       "      <td>0.2</td>\n",
       "      <td>cityblock</td>\n",
       "      <td>True</td>\n",
       "      <td>None</td>\n",
       "      <td>-1.00</td>\n",
       "      <td>0.000</td>\n",
       "    </tr>\n",
       "    <tr>\n",
       "      <th>4</th>\n",
       "      <td>0.2</td>\n",
       "      <td>cityblock</td>\n",
       "      <td>True</td>\n",
       "      <td>tukey</td>\n",
       "      <td>0.25</td>\n",
       "      <td>0.125</td>\n",
       "    </tr>\n",
       "    <tr>\n",
       "      <th>...</th>\n",
       "      <td>...</td>\n",
       "      <td>...</td>\n",
       "      <td>...</td>\n",
       "      <td>...</td>\n",
       "      <td>...</td>\n",
       "      <td>...</td>\n",
       "    </tr>\n",
       "    <tr>\n",
       "      <th>103</th>\n",
       "      <td>10.0</td>\n",
       "      <td>chebyshev</td>\n",
       "      <td>False</td>\n",
       "      <td>tukey</td>\n",
       "      <td>0.25</td>\n",
       "      <td>0.125</td>\n",
       "    </tr>\n",
       "    <tr>\n",
       "      <th>104</th>\n",
       "      <td>10.0</td>\n",
       "      <td>chebyshev</td>\n",
       "      <td>False</td>\n",
       "      <td>kaiser</td>\n",
       "      <td>14.00</td>\n",
       "      <td>0.500</td>\n",
       "    </tr>\n",
       "    <tr>\n",
       "      <th>105</th>\n",
       "      <td>10.0</td>\n",
       "      <td>chebyshev</td>\n",
       "      <td>True</td>\n",
       "      <td>None</td>\n",
       "      <td>-1.00</td>\n",
       "      <td>0.000</td>\n",
       "    </tr>\n",
       "    <tr>\n",
       "      <th>106</th>\n",
       "      <td>10.0</td>\n",
       "      <td>chebyshev</td>\n",
       "      <td>True</td>\n",
       "      <td>tukey</td>\n",
       "      <td>0.25</td>\n",
       "      <td>0.125</td>\n",
       "    </tr>\n",
       "    <tr>\n",
       "      <th>107</th>\n",
       "      <td>10.0</td>\n",
       "      <td>chebyshev</td>\n",
       "      <td>True</td>\n",
       "      <td>kaiser</td>\n",
       "      <td>14.00</td>\n",
       "      <td>0.500</td>\n",
       "    </tr>\n",
       "  </tbody>\n",
       "</table>\n",
       "<p>108 rows × 6 columns</p>\n",
       "</div>"
      ],
      "text/plain": [
       "     state_length     metric  log_frequency  window  window_param  overlap\n",
       "0             0.2  cityblock          False    None         -1.00    0.000\n",
       "1             0.2  cityblock          False   tukey          0.25    0.125\n",
       "2             0.2  cityblock          False  kaiser         14.00    0.500\n",
       "3             0.2  cityblock           True    None         -1.00    0.000\n",
       "4             0.2  cityblock           True   tukey          0.25    0.125\n",
       "..            ...        ...            ...     ...           ...      ...\n",
       "103          10.0  chebyshev          False   tukey          0.25    0.125\n",
       "104          10.0  chebyshev          False  kaiser         14.00    0.500\n",
       "105          10.0  chebyshev           True    None         -1.00    0.000\n",
       "106          10.0  chebyshev           True   tukey          0.25    0.125\n",
       "107          10.0  chebyshev           True  kaiser         14.00    0.500\n",
       "\n",
       "[108 rows x 6 columns]"
      ]
     },
     "execution_count": 21,
     "metadata": {},
     "output_type": "execute_result"
    }
   ],
   "source": [
    "args = (\n",
    "    pd.DataFrame({\n",
    "        # The length of the 'neurophysiological state' of the population, in seconds\n",
    "        'state_length': [0.2, 0.5, 1, 2, 5, 10],\n",
    "    })\n",
    "    .merge(pd.DataFrame({\n",
    "        # The metric with which to measure distances between neurophysiological states\n",
    "        'metric': [\"cityblock\", \"euclidean\", \"chebyshev\"],\n",
    "    }), how='cross')\n",
    "    .merge(pd.DataFrame({\n",
    "        # Whether to use log-spaced frequency bins in the spectral estimation\n",
    "        'log_frequency': [False, True],\n",
    "    }), how='cross')\n",
    "    .merge(pd.DataFrame({\n",
    "        # Which window to use\n",
    "        'window': [\n",
    "            None,\n",
    "            'tukey',\n",
    "            'kaiser',\n",
    "        ],\n",
    "        # The window parameter\n",
    "        'window_param': [\n",
    "            -1,\n",
    "            1/4,\n",
    "            14,\n",
    "        ],\n",
    "        # The fraction of window overlap\n",
    "        'overlap': [\n",
    "            0,\n",
    "            1/8,\n",
    "            1/2\n",
    "        ],\n",
    "    }), how='cross')\n",
    ")\n",
    "args"
   ]
  },
  {
   "cell_type": "code",
   "execution_count": 22,
   "id": "e422cc78-861b-4b00-8ded-e30ce014eca6",
   "metadata": {
    "execution": {
     "iopub.execute_input": "2021-12-13T21:31:18.055744Z",
     "iopub.status.busy": "2021-12-13T21:31:18.055385Z",
     "iopub.status.idle": "2021-12-13T21:31:18.068649Z",
     "shell.execute_reply": "2021-12-13T21:31:18.067836Z",
     "shell.execute_reply.started": "2021-12-13T21:31:18.055706Z"
    },
    "tags": []
   },
   "outputs": [
    {
     "data": {
      "text/plain": [
       "state_length           1.0\n",
       "metric           euclidean\n",
       "window                None\n",
       "window_param          -1.0\n",
       "overlap                0.0\n",
       "log_frequency        False\n",
       "dtype: object"
      ]
     },
     "execution_count": 22,
     "metadata": {},
     "output_type": "execute_result"
    }
   ],
   "source": [
    "# Parameters used in main analysis\n",
    "main_params = {\n",
    "    'state_length': 1.0,\n",
    "    'metric': 'euclidean',\n",
    "    'window': None,\n",
    "    'window_param': -1.0,\n",
    "    'overlap': 0.0,\n",
    "    'log_frequency': False,\n",
    "}\n",
    "assert main_params in args.to_dict(orient='records')\n",
    "main_params = pd.Series(main_params)\n",
    "main_params"
   ]
  },
  {
   "cell_type": "code",
   "execution_count": 23,
   "id": "c39a3694-3699-40ff-9ecc-fa2686c7b26a",
   "metadata": {
    "execution": {
     "iopub.execute_input": "2021-12-13T21:31:18.070387Z",
     "iopub.status.busy": "2021-12-13T21:31:18.070022Z",
     "iopub.status.idle": "2021-12-13T21:31:18.097875Z",
     "shell.execute_reply": "2021-12-13T21:31:18.097076Z",
     "shell.execute_reply.started": "2021-12-13T21:31:18.070348Z"
    },
    "tags": []
   },
   "outputs": [],
   "source": [
    "args = list(product(\n",
    "    zip(cycle(['dff']), DFF.items()),\n",
    "    (row for _, row in args.iterrows())\n",
    "))"
   ]
  },
  {
   "cell_type": "markdown",
   "id": "916493a3",
   "metadata": {},
   "source": [
    "### Compute all parameter combinations"
   ]
  },
  {
   "cell_type": "code",
   "execution_count": 24,
   "id": "7d32e7e0",
   "metadata": {
    "execution": {
     "iopub.execute_input": "2021-12-13T21:31:18.099578Z",
     "iopub.status.busy": "2021-12-13T21:31:18.099236Z",
     "iopub.status.idle": "2021-12-13T21:36:14.874533Z",
     "shell.execute_reply": "2021-12-13T21:36:14.873596Z",
     "shell.execute_reply.started": "2021-12-13T21:31:18.099540Z"
    },
    "tags": []
   },
   "outputs": [
    {
     "name": "stderr",
     "output_type": "stream",
     "text": [
      "/home/wmayner/projects/openscope-differentiation/load.py:370: PeakPropertyWarning: some peaks have a prominence of 0\n",
      "  peaks, properties = scipy.signal.find_peaks(\n",
      "/home/wmayner/projects/openscope-differentiation/load.py:370: PeakPropertyWarning: some peaks have a prominence of 0\n",
      "  peaks, properties = scipy.signal.find_peaks(\n",
      "/home/wmayner/projects/openscope-differentiation/load.py:370: PeakPropertyWarning: some peaks have a prominence of 0\n",
      "  peaks, properties = scipy.signal.find_peaks(\n",
      "/home/wmayner/projects/openscope-differentiation/load.py:370: PeakPropertyWarning: some peaks have a prominence of 0\n",
      "  peaks, properties = scipy.signal.find_peaks(\n",
      "/home/wmayner/projects/openscope-differentiation/load.py:370: PeakPropertyWarning: some peaks have a prominence of 0\n",
      "  peaks, properties = scipy.signal.find_peaks(\n",
      "[Parallel(n_jobs=160)]: Using backend LokyBackend with 160 concurrent workers.\n",
      "[Parallel(n_jobs=160)]: Done 130 tasks      | elapsed:  1.2min\n",
      "[Parallel(n_jobs=160)]: Done 328 tasks      | elapsed:  1.4min\n",
      "[Parallel(n_jobs=160)]: Done 562 tasks      | elapsed:  1.5min\n",
      "[Parallel(n_jobs=160)]: Done 832 tasks      | elapsed:  1.7min\n",
      "[Parallel(n_jobs=160)]: Done 1138 tasks      | elapsed:  1.9min\n",
      "[Parallel(n_jobs=160)]: Done 1480 tasks      | elapsed:  2.3min\n",
      "[Parallel(n_jobs=160)]: Done 1858 tasks      | elapsed:  2.7min\n",
      "[Parallel(n_jobs=160)]: Done 2272 tasks      | elapsed:  3.0min\n",
      "[Parallel(n_jobs=160)]: Done 2722 tasks      | elapsed:  3.3min\n",
      "[Parallel(n_jobs=160)]: Done 3208 tasks      | elapsed:  3.8min\n",
      "[Parallel(n_jobs=160)]: Done 3730 tasks      | elapsed:  4.1min\n",
      "[Parallel(n_jobs=160)]: Done 4288 tasks      | elapsed:  4.5min\n",
      "[Parallel(n_jobs=160)]: Done 4752 out of 4752 | elapsed:  4.8min finished\n"
     ]
    },
    {
     "name": "stdout",
     "output_type": "stream",
     "text": [
      "Done.\n",
      "(570240, 17)\n"
     ]
    },
    {
     "data": {
      "text/html": [
       "<div>\n",
       "<style scoped>\n",
       "    .dataframe tbody tr th:only-of-type {\n",
       "        vertical-align: middle;\n",
       "    }\n",
       "\n",
       "    .dataframe tbody tr th {\n",
       "        vertical-align: top;\n",
       "    }\n",
       "\n",
       "    .dataframe thead th {\n",
       "        text-align: right;\n",
       "    }\n",
       "</style>\n",
       "<table border=\"1\" class=\"dataframe\">\n",
       "  <thead>\n",
       "    <tr style=\"text-align: right;\">\n",
       "      <th></th>\n",
       "      <th>stimulus</th>\n",
       "      <th>trial</th>\n",
       "      <th>differentiation</th>\n",
       "      <th>state_length</th>\n",
       "      <th>metric</th>\n",
       "      <th>log_frequency</th>\n",
       "      <th>window</th>\n",
       "      <th>window_param</th>\n",
       "      <th>overlap</th>\n",
       "      <th>datatype</th>\n",
       "      <th>session</th>\n",
       "      <th>stimulus_type</th>\n",
       "      <th>stimulus_is_scrambled_pair</th>\n",
       "      <th>stimulus_is_block</th>\n",
       "      <th>stimulus_is_continuous</th>\n",
       "      <th>stimulus_code</th>\n",
       "      <th>stimulus_filename</th>\n",
       "    </tr>\n",
       "  </thead>\n",
       "  <tbody>\n",
       "    <tr>\n",
       "      <th>0</th>\n",
       "      <td>conspecifics</td>\n",
       "      <td>0.0</td>\n",
       "      <td>17.202698</td>\n",
       "      <td>0.2</td>\n",
       "      <td>cityblock</td>\n",
       "      <td>False</td>\n",
       "      <td>None</td>\n",
       "      <td>-1.0</td>\n",
       "      <td>0.0</td>\n",
       "      <td>dff</td>\n",
       "      <td>717208879</td>\n",
       "      <td>natural</td>\n",
       "      <td>False</td>\n",
       "      <td>True</td>\n",
       "      <td>True</td>\n",
       "      <td>4</td>\n",
       "      <td>04-multiple-mice-deep.mp4.npy</td>\n",
       "    </tr>\n",
       "    <tr>\n",
       "      <th>1</th>\n",
       "      <td>conspecifics</td>\n",
       "      <td>1.0</td>\n",
       "      <td>15.736950</td>\n",
       "      <td>0.2</td>\n",
       "      <td>cityblock</td>\n",
       "      <td>False</td>\n",
       "      <td>None</td>\n",
       "      <td>-1.0</td>\n",
       "      <td>0.0</td>\n",
       "      <td>dff</td>\n",
       "      <td>717208879</td>\n",
       "      <td>natural</td>\n",
       "      <td>False</td>\n",
       "      <td>True</td>\n",
       "      <td>True</td>\n",
       "      <td>4</td>\n",
       "      <td>04-multiple-mice-deep.mp4.npy</td>\n",
       "    </tr>\n",
       "    <tr>\n",
       "      <th>2</th>\n",
       "      <td>conspecifics</td>\n",
       "      <td>2.0</td>\n",
       "      <td>16.225434</td>\n",
       "      <td>0.2</td>\n",
       "      <td>cityblock</td>\n",
       "      <td>False</td>\n",
       "      <td>None</td>\n",
       "      <td>-1.0</td>\n",
       "      <td>0.0</td>\n",
       "      <td>dff</td>\n",
       "      <td>717208879</td>\n",
       "      <td>natural</td>\n",
       "      <td>False</td>\n",
       "      <td>True</td>\n",
       "      <td>True</td>\n",
       "      <td>4</td>\n",
       "      <td>04-multiple-mice-deep.mp4.npy</td>\n",
       "    </tr>\n",
       "    <tr>\n",
       "      <th>3</th>\n",
       "      <td>conspecifics</td>\n",
       "      <td>3.0</td>\n",
       "      <td>20.011245</td>\n",
       "      <td>0.2</td>\n",
       "      <td>cityblock</td>\n",
       "      <td>False</td>\n",
       "      <td>None</td>\n",
       "      <td>-1.0</td>\n",
       "      <td>0.0</td>\n",
       "      <td>dff</td>\n",
       "      <td>717208879</td>\n",
       "      <td>natural</td>\n",
       "      <td>False</td>\n",
       "      <td>True</td>\n",
       "      <td>True</td>\n",
       "      <td>4</td>\n",
       "      <td>04-multiple-mice-deep.mp4.npy</td>\n",
       "    </tr>\n",
       "    <tr>\n",
       "      <th>4</th>\n",
       "      <td>conspecifics</td>\n",
       "      <td>4.0</td>\n",
       "      <td>12.592473</td>\n",
       "      <td>0.2</td>\n",
       "      <td>cityblock</td>\n",
       "      <td>False</td>\n",
       "      <td>None</td>\n",
       "      <td>-1.0</td>\n",
       "      <td>0.0</td>\n",
       "      <td>dff</td>\n",
       "      <td>717208879</td>\n",
       "      <td>natural</td>\n",
       "      <td>False</td>\n",
       "      <td>True</td>\n",
       "      <td>True</td>\n",
       "      <td>4</td>\n",
       "      <td>04-multiple-mice-deep.mp4.npy</td>\n",
       "    </tr>\n",
       "  </tbody>\n",
       "</table>\n",
       "</div>"
      ],
      "text/plain": [
       "       stimulus  trial  differentiation  state_length     metric  \\\n",
       "0  conspecifics    0.0        17.202698           0.2  cityblock   \n",
       "1  conspecifics    1.0        15.736950           0.2  cityblock   \n",
       "2  conspecifics    2.0        16.225434           0.2  cityblock   \n",
       "3  conspecifics    3.0        20.011245           0.2  cityblock   \n",
       "4  conspecifics    4.0        12.592473           0.2  cityblock   \n",
       "\n",
       "   log_frequency window  window_param  overlap datatype    session  \\\n",
       "0          False   None          -1.0      0.0      dff  717208879   \n",
       "1          False   None          -1.0      0.0      dff  717208879   \n",
       "2          False   None          -1.0      0.0      dff  717208879   \n",
       "3          False   None          -1.0      0.0      dff  717208879   \n",
       "4          False   None          -1.0      0.0      dff  717208879   \n",
       "\n",
       "  stimulus_type  stimulus_is_scrambled_pair  stimulus_is_block  \\\n",
       "0       natural                       False               True   \n",
       "1       natural                       False               True   \n",
       "2       natural                       False               True   \n",
       "3       natural                       False               True   \n",
       "4       natural                       False               True   \n",
       "\n",
       "   stimulus_is_continuous  stimulus_code              stimulus_filename  \n",
       "0                    True              4  04-multiple-mice-deep.mp4.npy  \n",
       "1                    True              4  04-multiple-mice-deep.mp4.npy  \n",
       "2                    True              4  04-multiple-mice-deep.mp4.npy  \n",
       "3                    True              4  04-multiple-mice-deep.mp4.npy  \n",
       "4                    True              4  04-multiple-mice-deep.mp4.npy  "
      ]
     },
     "execution_count": 24,
     "metadata": {},
     "output_type": "execute_result"
    }
   ],
   "source": [
    "def worker(datatype, session, data, params):\n",
    "    params = params.to_dict()\n",
    "    # Compute\n",
    "    result = compute_spectral_differentiation(\n",
    "        data,\n",
    "        fs=metadata.TWOP_SAMPLE_RATE,\n",
    "        **params,\n",
    "    )\n",
    "    # Convert Series result to a DataFrame\n",
    "    result.name = \"differentiation\"\n",
    "    result = (\n",
    "        result\n",
    "        .reset_index(drop=False)\n",
    "        # Record parameters & session\n",
    "        .assign(\n",
    "            **params,\n",
    "            datatype=datatype,\n",
    "            session=session,\n",
    "        )\n",
    "    )\n",
    "    return result\n",
    "\n",
    "\n",
    "results = Parallel(n_jobs=min(len(args), N_CPUS), verbose=5)(\n",
    "    delayed(worker)(datatype, session, data, params)\n",
    "    for (datatype, (session, data)), params in tqdm(args)\n",
    ")\n",
    "results = (\n",
    "    # Put results into a DataFrame\n",
    "    pd.concat(results)\n",
    "    .reset_index(drop=True)\n",
    "    # Add stimulus metadata\n",
    "    .merge(STIMULUS_METADATA, on=\"stimulus\")\n",
    ")\n",
    "# Only consider block stimuli\n",
    "results = results.loc[results[\"stimulus_is_block\"]]\n",
    "print(\"Done.\")\n",
    "\n",
    "print(results.shape)\n",
    "results.head()"
   ]
  },
  {
   "cell_type": "markdown",
   "id": "9a2d0200-1c11-4619-8f4b-2e62096a0903",
   "metadata": {},
   "source": [
    "### Attach metadata, behavior, mean event magnitude, and compute normalizations and transforms"
   ]
  },
  {
   "cell_type": "code",
   "execution_count": 25,
   "id": "426b7400-8159-4d92-ad7c-a9b7c0c548c3",
   "metadata": {
    "execution": {
     "iopub.execute_input": "2021-12-13T21:36:14.876759Z",
     "iopub.status.busy": "2021-12-13T21:36:14.876331Z",
     "iopub.status.idle": "2021-12-13T21:36:14.886913Z",
     "shell.execute_reply": "2021-12-13T21:36:14.885899Z",
     "shell.execute_reply.started": "2021-12-13T21:36:14.876719Z"
    },
    "tags": []
   },
   "outputs": [],
   "source": [
    "metadata_subset = (\n",
    "    METADATA.loc[METADATA.index.isin(SESSIONS)]\n",
    "    .copy()\n",
    "    .drop(\n",
    "        columns=[\n",
    "            \"operator\",\n",
    "            \"qc\",\n",
    "            \"notes\",\n",
    "            \"all_ophys_experiments\",\n",
    "            \"all_ophys_sessions\",\n",
    "            \"valid\",\n",
    "        ]\n",
    "    )\n",
    ")"
   ]
  },
  {
   "cell_type": "code",
   "execution_count": 26,
   "id": "2f5bcba1-e2f7-4938-9469-99f30dc4a704",
   "metadata": {
    "execution": {
     "iopub.execute_input": "2021-12-13T21:36:14.888700Z",
     "iopub.status.busy": "2021-12-13T21:36:14.888325Z",
     "iopub.status.idle": "2021-12-13T21:36:14.895715Z",
     "shell.execute_reply": "2021-12-13T21:36:14.894847Z",
     "shell.execute_reply.started": "2021-12-13T21:36:14.888659Z"
    },
    "tags": []
   },
   "outputs": [],
   "source": [
    "def postprocess(results):\n",
    "    data = (\n",
    "        results\n",
    "        .merge(metadata_subset, on=\"session\")\n",
    "        .merge(mean_magnitudes, on=['session', 'stimulus', 'trial'])\n",
    "        .merge(behavior_by['trial'], on=['session', 'stimulus', 'trial'])\n",
    "    )\n",
    "    # Compute normalizations and transforms\n",
    "    data['normalized differentiation'] = data['differentiation'] / np.sqrt(data['ncells'])\n",
    "    data['log(normalized differentiation)'] = np.log10(data['normalized differentiation'])\n",
    "    return data"
   ]
  },
  {
   "cell_type": "code",
   "execution_count": 27,
   "id": "d3803b97-e6fa-46ca-bc5a-cb9dd0175182",
   "metadata": {
    "execution": {
     "iopub.execute_input": "2021-12-13T21:36:14.900456Z",
     "iopub.status.busy": "2021-12-13T21:36:14.900052Z",
     "iopub.status.idle": "2021-12-13T21:36:16.605451Z",
     "shell.execute_reply": "2021-12-13T21:36:16.604639Z",
     "shell.execute_reply.started": "2021-12-13T21:36:14.900416Z"
    },
    "tags": []
   },
   "outputs": [
    {
     "name": "stdout",
     "output_type": "stream",
     "text": [
      "(570240, 33)\n"
     ]
    },
    {
     "data": {
      "text/html": [
       "<div>\n",
       "<style scoped>\n",
       "    .dataframe tbody tr th:only-of-type {\n",
       "        vertical-align: middle;\n",
       "    }\n",
       "\n",
       "    .dataframe tbody tr th {\n",
       "        vertical-align: top;\n",
       "    }\n",
       "\n",
       "    .dataframe thead th {\n",
       "        text-align: right;\n",
       "    }\n",
       "</style>\n",
       "<table border=\"1\" class=\"dataframe\">\n",
       "  <thead>\n",
       "    <tr style=\"text-align: right;\">\n",
       "      <th></th>\n",
       "      <th>stimulus</th>\n",
       "      <th>trial</th>\n",
       "      <th>differentiation</th>\n",
       "      <th>state_length</th>\n",
       "      <th>metric</th>\n",
       "      <th>log_frequency</th>\n",
       "      <th>window</th>\n",
       "      <th>window_param</th>\n",
       "      <th>overlap</th>\n",
       "      <th>datatype</th>\n",
       "      <th>...</th>\n",
       "      <th>start_time</th>\n",
       "      <th>order</th>\n",
       "      <th>sex</th>\n",
       "      <th>date_of_birth</th>\n",
       "      <th>mean_magnitude</th>\n",
       "      <th>normalized_pupil_diameter</th>\n",
       "      <th>locomotion</th>\n",
       "      <th>filtered_velocity</th>\n",
       "      <th>normalized differentiation</th>\n",
       "      <th>log(normalized differentiation)</th>\n",
       "    </tr>\n",
       "  </thead>\n",
       "  <tbody>\n",
       "    <tr>\n",
       "      <th>0</th>\n",
       "      <td>conspecifics</td>\n",
       "      <td>0.0</td>\n",
       "      <td>17.202698</td>\n",
       "      <td>0.2</td>\n",
       "      <td>cityblock</td>\n",
       "      <td>False</td>\n",
       "      <td>None</td>\n",
       "      <td>-1.00</td>\n",
       "      <td>0.000</td>\n",
       "      <td>dff</td>\n",
       "      <td>...</td>\n",
       "      <td>2018-07-05 08:29:08.784</td>\n",
       "      <td>0</td>\n",
       "      <td>M</td>\n",
       "      <td>2018-03-18</td>\n",
       "      <td>0.000961</td>\n",
       "      <td>0.523037</td>\n",
       "      <td>0.0</td>\n",
       "      <td>-0.020912</td>\n",
       "      <td>2.686610</td>\n",
       "      <td>0.429205</td>\n",
       "    </tr>\n",
       "    <tr>\n",
       "      <th>1</th>\n",
       "      <td>conspecifics</td>\n",
       "      <td>0.0</td>\n",
       "      <td>13.742288</td>\n",
       "      <td>0.2</td>\n",
       "      <td>cityblock</td>\n",
       "      <td>False</td>\n",
       "      <td>tukey</td>\n",
       "      <td>0.25</td>\n",
       "      <td>0.125</td>\n",
       "      <td>dff</td>\n",
       "      <td>...</td>\n",
       "      <td>2018-07-05 08:29:08.784</td>\n",
       "      <td>0</td>\n",
       "      <td>M</td>\n",
       "      <td>2018-03-18</td>\n",
       "      <td>0.000961</td>\n",
       "      <td>0.523037</td>\n",
       "      <td>0.0</td>\n",
       "      <td>-0.020912</td>\n",
       "      <td>2.146185</td>\n",
       "      <td>0.331667</td>\n",
       "    </tr>\n",
       "    <tr>\n",
       "      <th>2</th>\n",
       "      <td>conspecifics</td>\n",
       "      <td>0.0</td>\n",
       "      <td>3.526140</td>\n",
       "      <td>0.2</td>\n",
       "      <td>cityblock</td>\n",
       "      <td>False</td>\n",
       "      <td>kaiser</td>\n",
       "      <td>14.00</td>\n",
       "      <td>0.500</td>\n",
       "      <td>dff</td>\n",
       "      <td>...</td>\n",
       "      <td>2018-07-05 08:29:08.784</td>\n",
       "      <td>0</td>\n",
       "      <td>M</td>\n",
       "      <td>2018-03-18</td>\n",
       "      <td>0.000961</td>\n",
       "      <td>0.523037</td>\n",
       "      <td>0.0</td>\n",
       "      <td>-0.020912</td>\n",
       "      <td>0.550690</td>\n",
       "      <td>-0.259092</td>\n",
       "    </tr>\n",
       "    <tr>\n",
       "      <th>3</th>\n",
       "      <td>conspecifics</td>\n",
       "      <td>0.0</td>\n",
       "      <td>15.660240</td>\n",
       "      <td>0.2</td>\n",
       "      <td>cityblock</td>\n",
       "      <td>True</td>\n",
       "      <td>None</td>\n",
       "      <td>-1.00</td>\n",
       "      <td>0.000</td>\n",
       "      <td>dff</td>\n",
       "      <td>...</td>\n",
       "      <td>2018-07-05 08:29:08.784</td>\n",
       "      <td>0</td>\n",
       "      <td>M</td>\n",
       "      <td>2018-03-18</td>\n",
       "      <td>0.000961</td>\n",
       "      <td>0.523037</td>\n",
       "      <td>0.0</td>\n",
       "      <td>-0.020912</td>\n",
       "      <td>2.445719</td>\n",
       "      <td>0.388406</td>\n",
       "    </tr>\n",
       "    <tr>\n",
       "      <th>4</th>\n",
       "      <td>conspecifics</td>\n",
       "      <td>0.0</td>\n",
       "      <td>12.492220</td>\n",
       "      <td>0.2</td>\n",
       "      <td>cityblock</td>\n",
       "      <td>True</td>\n",
       "      <td>tukey</td>\n",
       "      <td>0.25</td>\n",
       "      <td>0.125</td>\n",
       "      <td>dff</td>\n",
       "      <td>...</td>\n",
       "      <td>2018-07-05 08:29:08.784</td>\n",
       "      <td>0</td>\n",
       "      <td>M</td>\n",
       "      <td>2018-03-18</td>\n",
       "      <td>0.000961</td>\n",
       "      <td>0.523037</td>\n",
       "      <td>0.0</td>\n",
       "      <td>-0.020912</td>\n",
       "      <td>1.950957</td>\n",
       "      <td>0.290248</td>\n",
       "    </tr>\n",
       "  </tbody>\n",
       "</table>\n",
       "<p>5 rows × 33 columns</p>\n",
       "</div>"
      ],
      "text/plain": [
       "       stimulus  trial  differentiation  state_length     metric  \\\n",
       "0  conspecifics    0.0        17.202698           0.2  cityblock   \n",
       "1  conspecifics    0.0        13.742288           0.2  cityblock   \n",
       "2  conspecifics    0.0         3.526140           0.2  cityblock   \n",
       "3  conspecifics    0.0        15.660240           0.2  cityblock   \n",
       "4  conspecifics    0.0        12.492220           0.2  cityblock   \n",
       "\n",
       "   log_frequency  window  window_param  overlap datatype  ...  \\\n",
       "0          False    None         -1.00    0.000      dff  ...   \n",
       "1          False   tukey          0.25    0.125      dff  ...   \n",
       "2          False  kaiser         14.00    0.500      dff  ...   \n",
       "3           True    None         -1.00    0.000      dff  ...   \n",
       "4           True   tukey          0.25    0.125      dff  ...   \n",
       "\n",
       "               start_time order  sex  date_of_birth  mean_magnitude  \\\n",
       "0 2018-07-05 08:29:08.784     0    M     2018-03-18        0.000961   \n",
       "1 2018-07-05 08:29:08.784     0    M     2018-03-18        0.000961   \n",
       "2 2018-07-05 08:29:08.784     0    M     2018-03-18        0.000961   \n",
       "3 2018-07-05 08:29:08.784     0    M     2018-03-18        0.000961   \n",
       "4 2018-07-05 08:29:08.784     0    M     2018-03-18        0.000961   \n",
       "\n",
       "   normalized_pupil_diameter locomotion filtered_velocity  \\\n",
       "0                   0.523037        0.0         -0.020912   \n",
       "1                   0.523037        0.0         -0.020912   \n",
       "2                   0.523037        0.0         -0.020912   \n",
       "3                   0.523037        0.0         -0.020912   \n",
       "4                   0.523037        0.0         -0.020912   \n",
       "\n",
       "  normalized differentiation  log(normalized differentiation)  \n",
       "0                   2.686610                         0.429205  \n",
       "1                   2.146185                         0.331667  \n",
       "2                   0.550690                        -0.259092  \n",
       "3                   2.445719                         0.388406  \n",
       "4                   1.950957                         0.290248  \n",
       "\n",
       "[5 rows x 33 columns]"
      ]
     },
     "execution_count": 27,
     "metadata": {},
     "output_type": "execute_result"
    }
   ],
   "source": [
    "df = postprocess(results)\n",
    "\n",
    "print(df.shape)\n",
    "df.head()"
   ]
  },
  {
   "cell_type": "markdown",
   "id": "f3ce40f9-1927-473c-b76e-a76a5194acc6",
   "metadata": {},
   "source": [
    "### Events"
   ]
  },
  {
   "cell_type": "code",
   "execution_count": 28,
   "id": "2517efad-6077-4c26-8e6e-de04b01cd631",
   "metadata": {
    "execution": {
     "iopub.execute_input": "2021-12-13T21:36:16.607175Z",
     "iopub.status.busy": "2021-12-13T21:36:16.606803Z",
     "iopub.status.idle": "2021-12-13T21:36:42.571032Z",
     "shell.execute_reply": "2021-12-13T21:36:42.570207Z",
     "shell.execute_reply.started": "2021-12-13T21:36:16.607134Z"
    },
    "tags": []
   },
   "outputs": [
    {
     "name": "stderr",
     "output_type": "stream",
     "text": [
      "[Parallel(n_jobs=44)]: Using backend LokyBackend with 44 concurrent workers.\n",
      "[Parallel(n_jobs=44)]: Done   2 out of  44 | elapsed:   17.9s remaining:  6.2min\n",
      "[Parallel(n_jobs=44)]: Done  11 out of  44 | elapsed:   18.8s remaining:   56.4s\n",
      "[Parallel(n_jobs=44)]: Done  20 out of  44 | elapsed:   20.8s remaining:   25.0s\n",
      "[Parallel(n_jobs=44)]: Done  29 out of  44 | elapsed:   22.6s remaining:   11.7s\n",
      "[Parallel(n_jobs=44)]: Done  38 out of  44 | elapsed:   23.7s remaining:    3.7s\n",
      "[Parallel(n_jobs=44)]: Done  44 out of  44 | elapsed:   24.3s finished\n"
     ]
    },
    {
     "name": "stdout",
     "output_type": "stream",
     "text": [
      "Done.\n"
     ]
    }
   ],
   "source": [
    "results = Parallel(n_jobs=min(len(EVENTS), N_CPUS), verbose=5)(\n",
    "    delayed(worker)('events', session, data, main_params)\n",
    "    for session, data in EVENTS.items()\n",
    "        \n",
    ")\n",
    "\n",
    "results = (\n",
    "    # Put results into a DataFrame\n",
    "    pd.concat(results)\n",
    "    .reset_index(drop=True)\n",
    "    # Add stimulus metadata\n",
    "    .merge(STIMULUS_METADATA, on=\"stimulus\")\n",
    ")\n",
    "# Only consider block stimuli\n",
    "results = results.loc[results[\"stimulus_is_block\"]]\n",
    "print(\"Done.\")"
   ]
  },
  {
   "cell_type": "code",
   "execution_count": 29,
   "id": "6364a885-ea6a-49ab-ba49-9a19ea934eb0",
   "metadata": {
    "execution": {
     "iopub.execute_input": "2021-12-13T21:36:42.572836Z",
     "iopub.status.busy": "2021-12-13T21:36:42.572480Z",
     "iopub.status.idle": "2021-12-13T21:36:42.623551Z",
     "shell.execute_reply": "2021-12-13T21:36:42.622842Z",
     "shell.execute_reply.started": "2021-12-13T21:36:42.572790Z"
    },
    "tags": []
   },
   "outputs": [
    {
     "name": "stderr",
     "output_type": "stream",
     "text": [
      "/home/wmayner/miniconda3/envs/openscope-differentiation-test3/lib/python3.8/site-packages/pandas/core/arraylike.py:358: RuntimeWarning: divide by zero encountered in log10\n",
      "  result = getattr(ufunc, method)(*inputs, **kwargs)\n"
     ]
    },
    {
     "data": {
      "text/plain": [
       "(5280, 33)"
      ]
     },
     "execution_count": 29,
     "metadata": {},
     "output_type": "execute_result"
    }
   ],
   "source": [
    "main_events = postprocess(results)\n",
    "main_events.shape"
   ]
  },
  {
   "cell_type": "markdown",
   "id": "fec21e92-144b-4d2a-9dc5-6d06fcf1ea81",
   "metadata": {},
   "source": [
    "### No transients"
   ]
  },
  {
   "cell_type": "code",
   "execution_count": 30,
   "id": "eb8fc9d2-a3a1-43db-9198-4cb83e5c0882",
   "metadata": {
    "execution": {
     "iopub.execute_input": "2021-12-13T21:36:42.625125Z",
     "iopub.status.busy": "2021-12-13T21:36:42.624766Z",
     "iopub.status.idle": "2021-12-13T21:36:53.862969Z",
     "shell.execute_reply": "2021-12-13T21:36:53.862188Z",
     "shell.execute_reply.started": "2021-12-13T21:36:42.625090Z"
    },
    "tags": []
   },
   "outputs": [
    {
     "name": "stderr",
     "output_type": "stream",
     "text": [
      "[Parallel(n_jobs=44)]: Using backend LokyBackend with 44 concurrent workers.\n",
      "[Parallel(n_jobs=44)]: Done   2 out of  44 | elapsed:    1.7s remaining:   35.4s\n",
      "[Parallel(n_jobs=44)]: Done  11 out of  44 | elapsed:    3.6s remaining:   10.8s\n",
      "[Parallel(n_jobs=44)]: Done  20 out of  44 | elapsed:    6.6s remaining:    7.9s\n",
      "[Parallel(n_jobs=44)]: Done  29 out of  44 | elapsed:    9.0s remaining:    4.7s\n",
      "[Parallel(n_jobs=44)]: Done  38 out of  44 | elapsed:   10.2s remaining:    1.6s\n",
      "[Parallel(n_jobs=44)]: Done  44 out of  44 | elapsed:   10.6s finished\n"
     ]
    },
    {
     "name": "stdout",
     "output_type": "stream",
     "text": [
      "Done.\n",
      "(5280, 17)\n"
     ]
    },
    {
     "data": {
      "text/html": [
       "<div>\n",
       "<style scoped>\n",
       "    .dataframe tbody tr th:only-of-type {\n",
       "        vertical-align: middle;\n",
       "    }\n",
       "\n",
       "    .dataframe tbody tr th {\n",
       "        vertical-align: top;\n",
       "    }\n",
       "\n",
       "    .dataframe thead th {\n",
       "        text-align: right;\n",
       "    }\n",
       "</style>\n",
       "<table border=\"1\" class=\"dataframe\">\n",
       "  <thead>\n",
       "    <tr style=\"text-align: right;\">\n",
       "      <th></th>\n",
       "      <th>stimulus</th>\n",
       "      <th>trial</th>\n",
       "      <th>differentiation</th>\n",
       "      <th>state_length</th>\n",
       "      <th>metric</th>\n",
       "      <th>window</th>\n",
       "      <th>window_param</th>\n",
       "      <th>overlap</th>\n",
       "      <th>log_frequency</th>\n",
       "      <th>datatype</th>\n",
       "      <th>session</th>\n",
       "      <th>stimulus_type</th>\n",
       "      <th>stimulus_is_scrambled_pair</th>\n",
       "      <th>stimulus_is_block</th>\n",
       "      <th>stimulus_is_continuous</th>\n",
       "      <th>stimulus_code</th>\n",
       "      <th>stimulus_filename</th>\n",
       "    </tr>\n",
       "  </thead>\n",
       "  <tbody>\n",
       "    <tr>\n",
       "      <th>0</th>\n",
       "      <td>conspecifics</td>\n",
       "      <td>0.0</td>\n",
       "      <td>45.763957</td>\n",
       "      <td>1.0</td>\n",
       "      <td>euclidean</td>\n",
       "      <td>None</td>\n",
       "      <td>-1.0</td>\n",
       "      <td>0.0</td>\n",
       "      <td>False</td>\n",
       "      <td>dff</td>\n",
       "      <td>717208879</td>\n",
       "      <td>natural</td>\n",
       "      <td>False</td>\n",
       "      <td>True</td>\n",
       "      <td>True</td>\n",
       "      <td>4</td>\n",
       "      <td>04-multiple-mice-deep.mp4.npy</td>\n",
       "    </tr>\n",
       "    <tr>\n",
       "      <th>1</th>\n",
       "      <td>conspecifics</td>\n",
       "      <td>1.0</td>\n",
       "      <td>37.440279</td>\n",
       "      <td>1.0</td>\n",
       "      <td>euclidean</td>\n",
       "      <td>None</td>\n",
       "      <td>-1.0</td>\n",
       "      <td>0.0</td>\n",
       "      <td>False</td>\n",
       "      <td>dff</td>\n",
       "      <td>717208879</td>\n",
       "      <td>natural</td>\n",
       "      <td>False</td>\n",
       "      <td>True</td>\n",
       "      <td>True</td>\n",
       "      <td>4</td>\n",
       "      <td>04-multiple-mice-deep.mp4.npy</td>\n",
       "    </tr>\n",
       "    <tr>\n",
       "      <th>2</th>\n",
       "      <td>conspecifics</td>\n",
       "      <td>2.0</td>\n",
       "      <td>53.230197</td>\n",
       "      <td>1.0</td>\n",
       "      <td>euclidean</td>\n",
       "      <td>None</td>\n",
       "      <td>-1.0</td>\n",
       "      <td>0.0</td>\n",
       "      <td>False</td>\n",
       "      <td>dff</td>\n",
       "      <td>717208879</td>\n",
       "      <td>natural</td>\n",
       "      <td>False</td>\n",
       "      <td>True</td>\n",
       "      <td>True</td>\n",
       "      <td>4</td>\n",
       "      <td>04-multiple-mice-deep.mp4.npy</td>\n",
       "    </tr>\n",
       "    <tr>\n",
       "      <th>3</th>\n",
       "      <td>conspecifics</td>\n",
       "      <td>3.0</td>\n",
       "      <td>50.683034</td>\n",
       "      <td>1.0</td>\n",
       "      <td>euclidean</td>\n",
       "      <td>None</td>\n",
       "      <td>-1.0</td>\n",
       "      <td>0.0</td>\n",
       "      <td>False</td>\n",
       "      <td>dff</td>\n",
       "      <td>717208879</td>\n",
       "      <td>natural</td>\n",
       "      <td>False</td>\n",
       "      <td>True</td>\n",
       "      <td>True</td>\n",
       "      <td>4</td>\n",
       "      <td>04-multiple-mice-deep.mp4.npy</td>\n",
       "    </tr>\n",
       "    <tr>\n",
       "      <th>4</th>\n",
       "      <td>conspecifics</td>\n",
       "      <td>4.0</td>\n",
       "      <td>18.912759</td>\n",
       "      <td>1.0</td>\n",
       "      <td>euclidean</td>\n",
       "      <td>None</td>\n",
       "      <td>-1.0</td>\n",
       "      <td>0.0</td>\n",
       "      <td>False</td>\n",
       "      <td>dff</td>\n",
       "      <td>717208879</td>\n",
       "      <td>natural</td>\n",
       "      <td>False</td>\n",
       "      <td>True</td>\n",
       "      <td>True</td>\n",
       "      <td>4</td>\n",
       "      <td>04-multiple-mice-deep.mp4.npy</td>\n",
       "    </tr>\n",
       "  </tbody>\n",
       "</table>\n",
       "</div>"
      ],
      "text/plain": [
       "       stimulus  trial  differentiation  state_length     metric window  \\\n",
       "0  conspecifics    0.0        45.763957           1.0  euclidean   None   \n",
       "1  conspecifics    1.0        37.440279           1.0  euclidean   None   \n",
       "2  conspecifics    2.0        53.230197           1.0  euclidean   None   \n",
       "3  conspecifics    3.0        50.683034           1.0  euclidean   None   \n",
       "4  conspecifics    4.0        18.912759           1.0  euclidean   None   \n",
       "\n",
       "   window_param  overlap  log_frequency datatype    session stimulus_type  \\\n",
       "0          -1.0      0.0          False      dff  717208879       natural   \n",
       "1          -1.0      0.0          False      dff  717208879       natural   \n",
       "2          -1.0      0.0          False      dff  717208879       natural   \n",
       "3          -1.0      0.0          False      dff  717208879       natural   \n",
       "4          -1.0      0.0          False      dff  717208879       natural   \n",
       "\n",
       "   stimulus_is_scrambled_pair  stimulus_is_block  stimulus_is_continuous  \\\n",
       "0                       False               True                    True   \n",
       "1                       False               True                    True   \n",
       "2                       False               True                    True   \n",
       "3                       False               True                    True   \n",
       "4                       False               True                    True   \n",
       "\n",
       "   stimulus_code              stimulus_filename  \n",
       "0              4  04-multiple-mice-deep.mp4.npy  \n",
       "1              4  04-multiple-mice-deep.mp4.npy  \n",
       "2              4  04-multiple-mice-deep.mp4.npy  \n",
       "3              4  04-multiple-mice-deep.mp4.npy  \n",
       "4              4  04-multiple-mice-deep.mp4.npy  "
      ]
     },
     "execution_count": 30,
     "metadata": {},
     "output_type": "execute_result"
    }
   ],
   "source": [
    "results = Parallel(n_jobs=min(len(DFF_NO_TRANSIENTS), N_CPUS), verbose=5)(\n",
    "    delayed(worker)('dff', session, data, main_params)\n",
    "    for session, data in DFF_NO_TRANSIENTS.items()\n",
    "        \n",
    ")\n",
    "\n",
    "results = (\n",
    "    # Put results into a DataFrame\n",
    "    pd.concat(results)\n",
    "    .reset_index(drop=True)\n",
    "    # Add stimulus metadata\n",
    "    .merge(STIMULUS_METADATA, on=\"stimulus\")\n",
    ")\n",
    "# Only consider block stimuli\n",
    "results = results.loc[results[\"stimulus_is_block\"]]\n",
    "print(\"Done.\")\n",
    "\n",
    "print(results.shape)\n",
    "results.head()"
   ]
  },
  {
   "cell_type": "code",
   "execution_count": 31,
   "id": "9e0c41a1-1c05-46b1-9b71-af59bf25cfe3",
   "metadata": {
    "execution": {
     "iopub.execute_input": "2021-12-13T21:36:53.864922Z",
     "iopub.status.busy": "2021-12-13T21:36:53.864536Z",
     "iopub.status.idle": "2021-12-13T21:36:53.918569Z",
     "shell.execute_reply": "2021-12-13T21:36:53.917850Z",
     "shell.execute_reply.started": "2021-12-13T21:36:53.864885Z"
    },
    "tags": []
   },
   "outputs": [
    {
     "data": {
      "text/plain": [
       "(5280, 33)"
      ]
     },
     "execution_count": 31,
     "metadata": {},
     "output_type": "execute_result"
    }
   ],
   "source": [
    "main_no_transients = postprocess(results)\n",
    "main_no_transients.shape"
   ]
  },
  {
   "cell_type": "markdown",
   "id": "866ad900-2711-48a4-9d1a-bf9ff9854bca",
   "metadata": {},
   "source": [
    "## Write results to disk"
   ]
  },
  {
   "cell_type": "markdown",
   "id": "47eed1f4-3b12-4d7b-a8ca-ba3d94e49c05",
   "metadata": {},
   "source": [
    "### All parameters (dF/F)"
   ]
  },
  {
   "cell_type": "code",
   "execution_count": 32,
   "id": "c7b778c6-e05c-4879-9142-db4d527a38da",
   "metadata": {
    "execution": {
     "iopub.execute_input": "2021-12-13T21:36:53.920329Z",
     "iopub.status.busy": "2021-12-13T21:36:53.920003Z",
     "iopub.status.idle": "2021-12-13T21:36:54.904058Z",
     "shell.execute_reply": "2021-12-13T21:36:54.903380Z",
     "shell.execute_reply.started": "2021-12-13T21:36:53.920292Z"
    },
    "tags": []
   },
   "outputs": [],
   "source": [
    "df.to_parquet(OUTPUT_DIR/'sensitivity_analysis.parquet')"
   ]
  },
  {
   "cell_type": "markdown",
   "id": "217e1d01-e18a-4658-9156-17bb3f013cdf",
   "metadata": {},
   "source": [
    "### Main parameters (dF/F)"
   ]
  },
  {
   "cell_type": "code",
   "execution_count": 33,
   "id": "4675df5d-7e90-47ec-a65f-ca66fb95ecb1",
   "metadata": {
    "execution": {
     "iopub.execute_input": "2021-12-13T21:36:54.905258Z",
     "iopub.status.busy": "2021-12-13T21:36:54.905013Z",
     "iopub.status.idle": "2021-12-13T21:36:55.151924Z",
     "shell.execute_reply": "2021-12-13T21:36:55.151344Z",
     "shell.execute_reply.started": "2021-12-13T21:36:54.905237Z"
    },
    "tags": []
   },
   "outputs": [
    {
     "data": {
      "text/plain": [
       "(5280, 33)"
      ]
     },
     "execution_count": 33,
     "metadata": {},
     "output_type": "execute_result"
    }
   ],
   "source": [
    "main = df.loc[\n",
    "    np.logical_and.reduce(\n",
    "        [\n",
    "            (df[param].isna() if value is None else df[param] == value)\n",
    "            for param, value in main_params.items()\n",
    "        ]\n",
    "    )\n",
    "]\n",
    "main.shape"
   ]
  },
  {
   "cell_type": "code",
   "execution_count": 34,
   "id": "21221dff-f56e-4bf1-9827-240acf378b59",
   "metadata": {
    "execution": {
     "iopub.execute_input": "2021-12-13T21:36:55.153017Z",
     "iopub.status.busy": "2021-12-13T21:36:55.152763Z",
     "iopub.status.idle": "2021-12-13T21:36:55.179042Z",
     "shell.execute_reply": "2021-12-13T21:36:55.178324Z",
     "shell.execute_reply.started": "2021-12-13T21:36:55.152996Z"
    },
    "tags": []
   },
   "outputs": [],
   "source": [
    "main.to_parquet(OUTPUT_DIR/'main.parquet')"
   ]
  },
  {
   "cell_type": "markdown",
   "id": "ec01d15c-b025-4265-bbde-fde514e2d7b6",
   "metadata": {},
   "source": [
    "### Events"
   ]
  },
  {
   "cell_type": "code",
   "execution_count": 35,
   "id": "e51bedc1-4760-4d07-8863-f307277884dd",
   "metadata": {
    "execution": {
     "iopub.execute_input": "2021-12-13T21:36:55.180357Z",
     "iopub.status.busy": "2021-12-13T21:36:55.180079Z",
     "iopub.status.idle": "2021-12-13T21:36:55.210846Z",
     "shell.execute_reply": "2021-12-13T21:36:55.209944Z",
     "shell.execute_reply.started": "2021-12-13T21:36:55.180335Z"
    },
    "tags": []
   },
   "outputs": [],
   "source": [
    "main_events.to_parquet(OUTPUT_DIR/'main__events.parquet')"
   ]
  },
  {
   "cell_type": "markdown",
   "id": "83fac2a1-5e67-4690-b11f-2080539d5cc2",
   "metadata": {},
   "source": [
    "### No transients"
   ]
  },
  {
   "cell_type": "code",
   "execution_count": 36,
   "id": "a4726d2f-2a4c-4bec-9575-4fc57d60d5ec",
   "metadata": {
    "execution": {
     "iopub.execute_input": "2021-12-13T21:36:55.212407Z",
     "iopub.status.busy": "2021-12-13T21:36:55.212105Z",
     "iopub.status.idle": "2021-12-13T21:36:55.246852Z",
     "shell.execute_reply": "2021-12-13T21:36:55.246032Z",
     "shell.execute_reply.started": "2021-12-13T21:36:55.212377Z"
    },
    "tags": []
   },
   "outputs": [],
   "source": [
    "main_no_transients.to_parquet(OUTPUT_DIR/'main__no-transients.parquet')"
   ]
  },
  {
   "cell_type": "markdown",
   "id": "178a2ed3",
   "metadata": {},
   "source": [
    "# Multivariate differentiation"
   ]
  },
  {
   "cell_type": "markdown",
   "id": "80dd8b98",
   "metadata": {},
   "source": [
    "## Dimensionality reduction"
   ]
  },
  {
   "cell_type": "code",
   "execution_count": 37,
   "id": "1a9f5fd9-ad5e-4c06-98f4-449d083106a4",
   "metadata": {
    "execution": {
     "iopub.execute_input": "2021-12-13T21:36:55.248592Z",
     "iopub.status.busy": "2021-12-13T21:36:55.248253Z",
     "iopub.status.idle": "2021-12-13T21:36:55.280663Z",
     "shell.execute_reply": "2021-12-13T21:36:55.279789Z",
     "shell.execute_reply.started": "2021-12-13T21:36:55.248554Z"
    },
    "tags": []
   },
   "outputs": [],
   "source": [
    "args = (\n",
    "    pd.DataFrame({\n",
    "        'datatype': [\"dff\", \"events\"],\n",
    "    }).merge(pd.DataFrame({\n",
    "        'session': SESSIONS,\n",
    "    }), how='cross')\n",
    ")\n",
    "\n",
    "args = [\n",
    "    (row, (EVENTS[row['session']] if row['datatype'] == 'events' else DFF[row['session']]))\n",
    "    for _, row in args.iterrows()\n",
    "]"
   ]
  },
  {
   "cell_type": "code",
   "execution_count": 38,
   "id": "d3259c6b-bb2b-4e69-9166-c836d278415a",
   "metadata": {
    "execution": {
     "iopub.execute_input": "2021-12-13T21:36:55.282336Z",
     "iopub.status.busy": "2021-12-13T21:36:55.281994Z",
     "iopub.status.idle": "2021-12-13T21:36:55.286812Z",
     "shell.execute_reply": "2021-12-13T21:36:55.285929Z",
     "shell.execute_reply.started": "2021-12-13T21:36:55.282302Z"
    },
    "tags": []
   },
   "outputs": [],
   "source": [
    "def preprocess_dff(dff):\n",
    "    # Select stimuli of interest\n",
    "    return dff.loc[dff[\"stimulus_is_scrambled_pair\"] == True, :]"
   ]
  },
  {
   "cell_type": "code",
   "execution_count": 39,
   "id": "c5f48332-55ea-4e5d-bb78-6870f513a2d9",
   "metadata": {
    "execution": {
     "iopub.execute_input": "2021-12-13T21:36:55.288311Z",
     "iopub.status.busy": "2021-12-13T21:36:55.288003Z",
     "iopub.status.idle": "2021-12-13T21:36:55.295612Z",
     "shell.execute_reply": "2021-12-13T21:36:55.294738Z",
     "shell.execute_reply.started": "2021-12-13T21:36:55.288278Z"
    },
    "tags": []
   },
   "outputs": [],
   "source": [
    "STATE_LENGTH = 1.0  # seconds\n",
    "\n",
    "def preprocess_events(events):\n",
    "    session = data.index.get_level_values('session')[0]\n",
    "    # Select stimuli of interest\n",
    "    events = events.loc[events[\"stimulus_is_scrambled_pair\"] == True, :]\n",
    "    # Bin events\n",
    "    agg = {\n",
    "        **{col: 'first' for col in events.columns},\n",
    "        **{col: 'sum' for col in get_cells(events)}\n",
    "    }\n",
    "    events = analysis.bin_data(events, STATE_LENGTH, agg=agg)\n",
    "    # Select frames with at least one event\n",
    "    events.loc[analysis.active_frames(events)]\n",
    "    # Include session data in index for later concatenation & grouping\n",
    "    events.index = make_multiindex(session, events.index)\n",
    "    return events"
   ]
  },
  {
   "cell_type": "code",
   "execution_count": 40,
   "id": "5ac0687d-3932-4d1e-91b1-53dae84f40d4",
   "metadata": {
    "execution": {
     "iopub.execute_input": "2021-12-13T21:36:55.297091Z",
     "iopub.status.busy": "2021-12-13T21:36:55.296773Z",
     "iopub.status.idle": "2021-12-13T21:36:55.308561Z",
     "shell.execute_reply": "2021-12-13T21:36:55.307618Z",
     "shell.execute_reply.started": "2021-12-13T21:36:55.297060Z"
    },
    "tags": []
   },
   "outputs": [],
   "source": [
    "with open('umap-params.yml', mode='rt') as f:\n",
    "    UMAP_PARAMS = yaml.load(f, Loader=yaml.SafeLoader)"
   ]
  },
  {
   "cell_type": "code",
   "execution_count": 41,
   "id": "e9f3e13d-b298-4d67-a7da-ae4634505b34",
   "metadata": {
    "execution": {
     "iopub.execute_input": "2021-12-13T21:36:55.310286Z",
     "iopub.status.busy": "2021-12-13T21:36:55.309937Z",
     "iopub.status.idle": "2021-12-13T21:36:55.318659Z",
     "shell.execute_reply": "2021-12-13T21:36:55.317664Z",
     "shell.execute_reply.started": "2021-12-13T21:36:55.310247Z"
    },
    "tags": []
   },
   "outputs": [],
   "source": [
    "def worker(params, data):\n",
    "    if params['datatype'] == 'dff':\n",
    "        data = preprocess_dff(data)\n",
    "    if params['datatype'] == 'events':\n",
    "        data = preprocess_events(data)\n",
    "    \n",
    "    labels = data.loc[:, [\"stimulus\", \"trial\"]]\n",
    "    signal = data.loc[:, get_cells(data)]\n",
    "\n",
    "    transform = UMAP(**UMAP_PARAMS).fit_transform(signal)\n",
    "\n",
    "    return (\n",
    "        pd.DataFrame(\n",
    "            data=transform,\n",
    "            index=data.index,\n",
    "            columns=[f\"umap_{i}\" for i in range(transform.shape[1])],\n",
    "        )\n",
    "        .join(labels)\n",
    "        .assign(**params)\n",
    "    )"
   ]
  },
  {
   "cell_type": "code",
   "execution_count": 42,
   "id": "1f45a4f9-b59f-486b-8e68-011b29263093",
   "metadata": {
    "execution": {
     "iopub.execute_input": "2021-12-13T21:36:55.320421Z",
     "iopub.status.busy": "2021-12-13T21:36:55.320054Z",
     "iopub.status.idle": "2021-12-13T21:42:06.472473Z",
     "shell.execute_reply": "2021-12-13T21:42:06.471232Z",
     "shell.execute_reply.started": "2021-12-13T21:36:55.320382Z"
    },
    "tags": []
   },
   "outputs": [
    {
     "data": {
      "application/vnd.jupyter.widget-view+json": {
       "model_id": "33ad37c8b3bd4af88cb5a01d03aa22a9",
       "version_major": 2,
       "version_minor": 0
      },
      "text/plain": [
       "  0%|          | 0/88 [00:00<?, ?it/s]"
      ]
     },
     "metadata": {},
     "output_type": "display_data"
    },
    {
     "name": "stderr",
     "output_type": "stream",
     "text": [
      "[Parallel(n_jobs=88)]: Using backend LokyBackend with 88 concurrent workers.\n",
      "[Parallel(n_jobs=88)]: Done   3 out of  88 | elapsed:  3.8min remaining: 107.4min\n",
      "[Parallel(n_jobs=88)]: Done  21 out of  88 | elapsed:  4.3min remaining: 13.8min\n",
      "[Parallel(n_jobs=88)]: Done  39 out of  88 | elapsed:  4.6min remaining:  5.8min\n",
      "[Parallel(n_jobs=88)]: Done  57 out of  88 | elapsed:  4.7min remaining:  2.6min\n",
      "[Parallel(n_jobs=88)]: Done  75 out of  88 | elapsed:  4.9min remaining:   51.2s\n",
      "[Parallel(n_jobs=88)]: Done  88 out of  88 | elapsed:  5.2min finished\n"
     ]
    },
    {
     "name": "stdout",
     "output_type": "stream",
     "text": [
      "CPU times: user 10.9 s, sys: 41.3 s, total: 52.2 s\n",
      "Wall time: 5min 11s\n"
     ]
    }
   ],
   "source": [
    "%%time\n",
    "\n",
    "results = Parallel(n_jobs=min(len(args), N_CPUS), verbose=5)(\n",
    "    delayed(worker)(params, data) for params, data in tqdm(args)\n",
    ")"
   ]
  },
  {
   "cell_type": "code",
   "execution_count": 43,
   "id": "f30d6479-3d10-46b8-a879-2ec4c4ea6b2f",
   "metadata": {
    "execution": {
     "iopub.execute_input": "2021-12-13T21:42:06.475465Z",
     "iopub.status.busy": "2021-12-13T21:42:06.474982Z",
     "iopub.status.idle": "2021-12-13T21:42:08.579380Z",
     "shell.execute_reply": "2021-12-13T21:42:08.578477Z",
     "shell.execute_reply.started": "2021-12-13T21:42:06.475415Z"
    },
    "tags": []
   },
   "outputs": [],
   "source": [
    "transforms = pd.concat(results)"
   ]
  },
  {
   "cell_type": "markdown",
   "id": "46f46e2a-dede-4a13-969d-7b5dbd6f8a72",
   "metadata": {},
   "source": [
    "----"
   ]
  },
  {
   "cell_type": "markdown",
   "id": "cd4f1eb9",
   "metadata": {},
   "source": [
    "## Mean centroid distance"
   ]
  },
  {
   "cell_type": "code",
   "execution_count": 44,
   "id": "009e6b21",
   "metadata": {
    "execution": {
     "iopub.execute_input": "2021-12-13T21:42:08.581104Z",
     "iopub.status.busy": "2021-12-13T21:42:08.580755Z",
     "iopub.status.idle": "2021-12-13T21:42:08.587818Z",
     "shell.execute_reply": "2021-12-13T21:42:08.586858Z",
     "shell.execute_reply.started": "2021-12-13T21:42:08.581070Z"
    },
    "tags": []
   },
   "outputs": [],
   "source": [
    "def centroid(points):\n",
    "    return points.mean(axis=0).reshape(1, -1)\n",
    "\n",
    "\n",
    "def centroid_distance(points):\n",
    "    points = points.to_numpy()\n",
    "    if points.ndim != 2:\n",
    "        raise ValueError(\"points must be 2D\")\n",
    "    return scipy.spatial.distance.cdist(points, centroid(points), metric=\"euclidean\")\n",
    "\n",
    "\n",
    "def mean_centroid_distance(points):\n",
    "    return np.mean(centroid_distance(points))"
   ]
  },
  {
   "cell_type": "code",
   "execution_count": 45,
   "id": "5dc4a4ca-11fc-42a5-81a0-eb0e750e6f9a",
   "metadata": {
    "execution": {
     "iopub.execute_input": "2021-12-13T21:42:08.589338Z",
     "iopub.status.busy": "2021-12-13T21:42:08.589017Z",
     "iopub.status.idle": "2021-12-13T21:42:10.573453Z",
     "shell.execute_reply": "2021-12-13T21:42:10.572700Z",
     "shell.execute_reply.started": "2021-12-13T21:42:08.589303Z"
    },
    "tags": []
   },
   "outputs": [
    {
     "data": {
      "application/vnd.jupyter.widget-view+json": {
       "model_id": "69f68b891e1a49b8a2337f07cd92959b",
       "version_major": 2,
       "version_minor": 0
      },
      "text/plain": [
       "  0%|          | 0/4400 [00:00<?, ?it/s]"
      ]
     },
     "metadata": {},
     "output_type": "display_data"
    }
   ],
   "source": [
    "results = pd.Series(\n",
    "    data=(\n",
    "        transforms\n",
    "        .droplevel('session', axis='index')\n",
    "        .groupby(\n",
    "            [col for col in transforms.columns if not col.startswith(\"umap\")]\n",
    "        )\n",
    "        .progress_apply(mean_centroid_distance)\n",
    "    ),\n",
    "    name='mean_centroid_distance',\n",
    ").reset_index()\n",
    "\n",
    "results[\"log(mean_centroid_distance)\"] = np.log10(results[\"mean_centroid_distance\"])\n",
    "\n",
    "results = (\n",
    "    results\n",
    "    .merge(STIMULUS_METADATA, left_on=\"stimulus\", right_index=True)\n",
    "    .merge(METADATA, on=\"session\")\n",
    ")"
   ]
  },
  {
   "cell_type": "markdown",
   "id": "5d19804a-5133-4996-8bc0-3de8cdee4d2f",
   "metadata": {},
   "source": [
    "### Write results to disk"
   ]
  },
  {
   "cell_type": "code",
   "execution_count": 46,
   "id": "32ef69e0-54fc-4d4b-960a-4316628dbbfd",
   "metadata": {
    "execution": {
     "iopub.execute_input": "2021-12-13T21:42:10.574682Z",
     "iopub.status.busy": "2021-12-13T21:42:10.574428Z",
     "iopub.status.idle": "2021-12-13T21:42:10.592311Z",
     "shell.execute_reply": "2021-12-13T21:42:10.591565Z",
     "shell.execute_reply.started": "2021-12-13T21:42:10.574661Z"
    },
    "tags": []
   },
   "outputs": [],
   "source": [
    "mean_centroid_distance = results.loc[\n",
    "    results['datatype'] == 'dff'\n",
    "]\n",
    "mean_centroid_distance.to_parquet(OUTPUT_DIR/\"mean_centroid_distance.parquet\")"
   ]
  },
  {
   "cell_type": "code",
   "execution_count": 47,
   "id": "e423b923-cd52-444a-957a-a3505814ee58",
   "metadata": {
    "execution": {
     "iopub.execute_input": "2021-12-13T21:42:10.593552Z",
     "iopub.status.busy": "2021-12-13T21:42:10.593304Z",
     "iopub.status.idle": "2021-12-13T21:42:10.608552Z",
     "shell.execute_reply": "2021-12-13T21:42:10.607933Z",
     "shell.execute_reply.started": "2021-12-13T21:42:10.593531Z"
    },
    "tags": []
   },
   "outputs": [],
   "source": [
    "mean_centroid_distance_events = results.loc[\n",
    "    results['datatype'] == 'events'\n",
    "]\n",
    "mean_centroid_distance_events.to_parquet(OUTPUT_DIR/\"mean_centroid_distance__events.parquet\")"
   ]
  },
  {
   "cell_type": "markdown",
   "id": "9d8d33a2",
   "metadata": {},
   "source": [
    "# Decoding"
   ]
  },
  {
   "cell_type": "markdown",
   "id": "8da809dd",
   "metadata": {},
   "source": [
    "## Helper functions"
   ]
  },
  {
   "cell_type": "code",
   "execution_count": 48,
   "id": "5f8b1ad2",
   "metadata": {
    "execution": {
     "iopub.execute_input": "2021-12-13T21:42:10.609760Z",
     "iopub.status.busy": "2021-12-13T21:42:10.609519Z",
     "iopub.status.idle": "2021-12-13T21:42:10.617542Z",
     "shell.execute_reply": "2021-12-13T21:42:10.616934Z",
     "shell.execute_reply.started": "2021-12-13T21:42:10.609739Z"
    },
    "tags": []
   },
   "outputs": [],
   "source": [
    "def flatten_trial(data, target_length):\n",
    "    \"\"\"Truncate so each trial has the same number of frames.\"\"\"\n",
    "    if not abs(len(data) - target_length) <= TRUNCATION_TOLERANCE:\n",
    "        raise ValueError(\n",
    "            f\"Expected length within tolerance {tolerance}; got {len(data)}\"\n",
    "        )\n",
    "    return (\n",
    "        data.iloc[:target_length]\n",
    "        .drop(axis=\"columns\", labels=[\"trial\", \"stimulus\"])\n",
    "        .to_numpy()\n",
    "        .flatten()\n",
    "    )\n",
    "\n",
    "\n",
    "def get_labelled_data(session, stimuli, get_class):\n",
    "    \"\"\"Return data and classes.\n",
    "\n",
    "    Reshapes and concatenates data for all stimuli.\n",
    "    \"\"\"\n",
    "    dff = DFF[session]\n",
    "    data = DATA[session]\n",
    "    # Select stimulus subset and relevant columns\n",
    "    dff = dff.loc[\n",
    "        dff[\"stimulus\"].isin(stimuli),\n",
    "        get_cells(dff) + ['stimulus', 'trial']\n",
    "    ]\n",
    "    # X must be of shape (n_samples, n_features):\n",
    "    # - samples are trials;\n",
    "    # - features are the dF/F trace value for each cell for every sample within the trial,\n",
    "    #   i.e. there are (30 s * 30 Hz * n_cells) features.\n",
    "    # We need to truncate each trial to the minimum number of frames among all of them so\n",
    "    # they each have the same number of features.\n",
    "    target_length = int(dff.groupby([\"trial\", \"stimulus\"]).agg(len).min().min())\n",
    "    X = (\n",
    "        dff\n",
    "        .groupby([\"trial\", \"stimulus\"])\n",
    "        .apply(flatten_trial, target_length=target_length)\n",
    "    )\n",
    "    stimuli = X.index.get_level_values(\"stimulus\")\n",
    "    classes = stimuli.map(get_class)\n",
    "    trials = X.index.get_level_values(\"trial\")\n",
    "    # Reshape to the (n_samples, n_features)\n",
    "    samples = np.stack(X.to_numpy())\n",
    "    return samples, classes.to_numpy(), trials.to_numpy(), stimuli.to_numpy()"
   ]
  },
  {
   "cell_type": "markdown",
   "id": "e54c788f",
   "metadata": {},
   "source": [
    "## Compute"
   ]
  },
  {
   "cell_type": "code",
   "execution_count": 49,
   "id": "463d1196",
   "metadata": {
    "execution": {
     "iopub.execute_input": "2021-12-13T21:42:10.618745Z",
     "iopub.status.busy": "2021-12-13T21:42:10.618510Z",
     "iopub.status.idle": "2021-12-13T21:42:10.622740Z",
     "shell.execute_reply": "2021-12-13T21:42:10.622103Z",
     "shell.execute_reply.started": "2021-12-13T21:42:10.618724Z"
    },
    "tags": []
   },
   "outputs": [],
   "source": [
    "N_JOBS = -1\n",
    "N_SPLITS = 5\n",
    "CV = StratifiedKFold(n_splits=N_SPLITS)\n",
    "PIPELINE = Pipeline(\n",
    "    [\n",
    "        (\"reduce_dimensionality\", PCA(n_components=0.99)),\n",
    "        (\"classify\", LinearDiscriminantAnalysis(solver=\"lsqr\", shrinkage=\"auto\")),\n",
    "    ]\n",
    ")"
   ]
  },
  {
   "cell_type": "code",
   "execution_count": 50,
   "id": "18494e84",
   "metadata": {
    "execution": {
     "iopub.execute_input": "2021-12-13T21:42:10.623666Z",
     "iopub.status.busy": "2021-12-13T21:42:10.623456Z",
     "iopub.status.idle": "2021-12-13T21:42:10.626739Z",
     "shell.execute_reply": "2021-12-13T21:42:10.626254Z",
     "shell.execute_reply.started": "2021-12-13T21:42:10.623645Z"
    },
    "tags": []
   },
   "outputs": [],
   "source": [
    "identity = lambda x: x\n",
    "category = STIMULUS_METADATA.stimulus_type.get"
   ]
  },
  {
   "cell_type": "code",
   "execution_count": 51,
   "id": "5d062d05",
   "metadata": {
    "execution": {
     "iopub.execute_input": "2021-12-13T21:42:10.627807Z",
     "iopub.status.busy": "2021-12-13T21:42:10.627587Z",
     "iopub.status.idle": "2021-12-13T21:52:06.820746Z",
     "shell.execute_reply": "2021-12-13T21:52:06.819753Z",
     "shell.execute_reply.started": "2021-12-13T21:42:10.627786Z"
    },
    "tags": []
   },
   "outputs": [
    {
     "data": {
      "application/vnd.jupyter.widget-view+json": {
       "model_id": "485a6b24a6a44fa09a108d3dd7946ef7",
       "version_major": 2,
       "version_minor": 0
      },
      "text/plain": [
       "  0%|          | 0/3 [00:00<?, ?it/s]"
      ]
     },
     "metadata": {},
     "output_type": "display_data"
    },
    {
     "name": "stdout",
     "output_type": "stream",
     "text": [
      "CPU times: user 6min 12s, sys: 2min 52s, total: 9min 4s\n",
      "Wall time: 9min 56s\n"
     ]
    }
   ],
   "source": [
    "%%time\n",
    "\n",
    "def worker(session, stimulus_set, get_class, scoring):\n",
    "    X, y, trials, stimuli = get_labelled_data(\n",
    "        session,\n",
    "        stimuli=stimulus_set,\n",
    "        get_class=get_class,\n",
    "    )\n",
    "    if scoring == \"balanced_accuracy\":\n",
    "        scores = cross_val_score(PIPELINE, X, y, cv=CV, scoring=scoring, n_jobs=1)\n",
    "        return pd.DataFrame([{scoring: scores.mean(), 'session': session}])\n",
    "    if scoring == \"f1_score\":\n",
    "        labels = sorted(np.unique(y))\n",
    "        scoring = {\n",
    "            label: sklearn.metrics.make_scorer(\n",
    "                sklearn.metrics.f1_score,\n",
    "                labels=[label],\n",
    "                average=\"macro\",\n",
    "            )\n",
    "            for label in labels\n",
    "        }\n",
    "        scores = cross_validate(PIPELINE, X, y, cv=CV, scoring=scoring, n_jobs=1)\n",
    "        scores[\"session\"] = session\n",
    "        return pd.DataFrame(scores)\n",
    "    raise ValueError(\"invalid scoring method\")\n",
    "\n",
    "\n",
    "for stimulus_set, scoring, get_class in tqdm(\n",
    "    [\n",
    "        # Figure 6\n",
    "        (UNSCRAMBLED_SCRAMBLED, \"balanced_accuracy\", category),\n",
    "        # Figure S8\n",
    "        (BLOCK_STIMULI, \"balanced_accuracy\", identity),\n",
    "        # Figure S9\n",
    "        (CONTINUOUS_NATURAL, \"f1_score\", identity),\n",
    "    ]\n",
    "):\n",
    "    if get_class is identity:\n",
    "        decode_target = \"identity\"\n",
    "    if get_class is category:\n",
    "        decode_target = \"category\"\n",
    "\n",
    "    if stimulus_set == UNSCRAMBLED_SCRAMBLED:\n",
    "        stimulus_set_name = \"unscrambled_scrambled\"\n",
    "    if stimulus_set == BLOCK_STIMULI:\n",
    "        stimulus_set_name = \"all\"\n",
    "    if stimulus_set == CONTINUOUS_NATURAL:\n",
    "        stimulus_set_name = \"continuous_natural\"\n",
    "\n",
    "    output_path = OUTPUT_DIR/f\"decoding__stimuli-{stimulus_set_name}__decode-{decode_target}__scoring-{scoring}.parquet\"\n",
    "    \n",
    "    chance = 1 / len(set(map(get_class, stimulus_set)))\n",
    "\n",
    "    with parallel_backend(\"loky\", n_jobs=N_JOBS):\n",
    "        results = Parallel()(\n",
    "            delayed(worker)(session, stimulus_set, get_class, scoring)\n",
    "            for session in SESSIONS\n",
    "        )\n",
    "\n",
    "    result_df = pd.concat(results).merge(METADATA, on=\"session\")\n",
    "    result_df[\"chance\"] = chance\n",
    "\n",
    "    result_df.to_parquet(output_path)"
   ]
  }
 ],
 "metadata": {
  "kernelspec": {
   "display_name": "Python 3 (ipykernel)",
   "language": "python",
   "name": "python3"
  },
  "language_info": {
   "codemirror_mode": {
    "name": "ipython",
    "version": 3
   },
   "file_extension": ".py",
   "mimetype": "text/x-python",
   "name": "python",
   "nbconvert_exporter": "python",
   "pygments_lexer": "ipython3",
   "version": "3.8.8"
  },
  "widgets": {
   "application/vnd.jupyter.widget-state+json": {
    "state": {
     "05b21e62ab534c82bd2a3051e6f44dd2": {
      "model_module": "@jupyter-widgets/base",
      "model_module_version": "1.2.0",
      "model_name": "LayoutModel",
      "state": {}
     },
     "0908cc3f187b4f15ab6da7405474d9fa": {
      "model_module": "@jupyter-widgets/controls",
      "model_module_version": "1.5.0",
      "model_name": "ProgressStyleModel",
      "state": {
       "description_width": ""
      }
     },
     "0a6bd1790d514a7787a264b402736a9a": {
      "model_module": "@jupyter-widgets/controls",
      "model_module_version": "1.5.0",
      "model_name": "ProgressStyleModel",
      "state": {
       "description_width": ""
      }
     },
     "1101facbbeaa49fabab3cf77ed77338b": {
      "model_module": "@jupyter-widgets/controls",
      "model_module_version": "1.5.0",
      "model_name": "ProgressStyleModel",
      "state": {
       "description_width": ""
      }
     },
     "13c11dfd80b5461fa97a86222dc79aec": {
      "model_module": "@jupyter-widgets/base",
      "model_module_version": "1.2.0",
      "model_name": "LayoutModel",
      "state": {}
     },
     "15b8ae41f7224fdc9f0d70e93da4a2bd": {
      "model_module": "@jupyter-widgets/base",
      "model_module_version": "1.2.0",
      "model_name": "LayoutModel",
      "state": {}
     },
     "16d777f7adde448abfce962f394789b9": {
      "model_module": "@jupyter-widgets/controls",
      "model_module_version": "1.5.0",
      "model_name": "HBoxModel",
      "state": {
       "children": [
        "IPY_MODEL_fdedf39085af40099fbbd1f6cf6f6908",
        "IPY_MODEL_807583d981b748f8a7a4b31757283cd7",
        "IPY_MODEL_4af268c2a611478ab36e114cd863a60e"
       ],
       "layout": "IPY_MODEL_6a99b527a8f7488d871cadf046b0e376"
      }
     },
     "17c4b64876764314b6cad112743f6082": {
      "model_module": "@jupyter-widgets/controls",
      "model_module_version": "1.5.0",
      "model_name": "HTMLModel",
      "state": {
       "layout": "IPY_MODEL_f9bb5f7b6fa546cd8a434c3069821050",
       "style": "IPY_MODEL_6415058932734201a73623e08c87ce4b",
       "value": " 0/2 [00:02&lt;?, ?it/s]"
      }
     },
     "1d4fc2a47509419a8c1f41b51dfe8517": {
      "model_module": "@jupyter-widgets/controls",
      "model_module_version": "1.5.0",
      "model_name": "HTMLModel",
      "state": {
       "layout": "IPY_MODEL_65cbadc5bd9c4da9a2e34ee0e0d43074",
       "style": "IPY_MODEL_70ff27dace234ceaa826bbd6edf9aa6f",
       "value": " 88/88 [00:29&lt;00:00,  3.02it/s]"
      }
     },
     "1ed3703c8d9443c695b40363cb9f378d": {
      "model_module": "@jupyter-widgets/controls",
      "model_module_version": "1.5.0",
      "model_name": "HTMLModel",
      "state": {
       "layout": "IPY_MODEL_2fa4370280834899aa16e4ffd6a694a6",
       "style": "IPY_MODEL_5a71d75651ac458ea30c493f4a7f660c",
       "value": "  0%"
      }
     },
     "1fdd796178f24e54bad15529a6e6070e": {
      "model_module": "@jupyter-widgets/base",
      "model_module_version": "1.2.0",
      "model_name": "LayoutModel",
      "state": {}
     },
     "20afc434894b48f5b0361b99dc2c98b9": {
      "model_module": "@jupyter-widgets/controls",
      "model_module_version": "1.5.0",
      "model_name": "HTMLModel",
      "state": {
       "layout": "IPY_MODEL_e11cfb5cc9fb4426a600284a70d080f7",
       "style": "IPY_MODEL_603aa873939b4dd7b14b19fffc2e0bce",
       "value": "100%"
      }
     },
     "266eade8e33747c99909c9a4d7ab70f0": {
      "model_module": "@jupyter-widgets/controls",
      "model_module_version": "1.5.0",
      "model_name": "DescriptionStyleModel",
      "state": {
       "description_width": ""
      }
     },
     "2aab139e9a17476bb770d8c1cb5a2e87": {
      "model_module": "@jupyter-widgets/controls",
      "model_module_version": "1.5.0",
      "model_name": "DescriptionStyleModel",
      "state": {
       "description_width": ""
      }
     },
     "2b17b894a0964a7d96c711ce0c713042": {
      "model_module": "@jupyter-widgets/base",
      "model_module_version": "1.2.0",
      "model_name": "LayoutModel",
      "state": {}
     },
     "2d5aef4d13a8424fab099984737a8bc1": {
      "model_module": "@jupyter-widgets/controls",
      "model_module_version": "1.5.0",
      "model_name": "FloatProgressModel",
      "state": {
       "bar_style": "danger",
       "layout": "IPY_MODEL_f9257b8aa2fe4b82af63d18dc5a97f61",
       "max": 2,
       "style": "IPY_MODEL_7a8ffa5efffa40b8bba2fdbade3e1ade"
      }
     },
     "2e39060e0ce74a8baf60c3e9cda9f11d": {
      "model_module": "@jupyter-widgets/base",
      "model_module_version": "1.2.0",
      "model_name": "LayoutModel",
      "state": {}
     },
     "2f905d0ec5a84516b0e38af02577ba6f": {
      "model_module": "@jupyter-widgets/controls",
      "model_module_version": "1.5.0",
      "model_name": "HTMLModel",
      "state": {
       "layout": "IPY_MODEL_e4714e4741694f838b3026de16b9ab80",
       "style": "IPY_MODEL_89c8f36f30bf470b91c2fea545909f7e",
       "value": "100%"
      }
     },
     "2fa4370280834899aa16e4ffd6a694a6": {
      "model_module": "@jupyter-widgets/base",
      "model_module_version": "1.2.0",
      "model_name": "LayoutModel",
      "state": {}
     },
     "2ff7b8b620654de5bc7493c6846d69a9": {
      "model_module": "@jupyter-widgets/controls",
      "model_module_version": "1.5.0",
      "model_name": "DescriptionStyleModel",
      "state": {
       "description_width": ""
      }
     },
     "326e671681214b309fbbcffbc685a976": {
      "model_module": "@jupyter-widgets/controls",
      "model_module_version": "1.5.0",
      "model_name": "FloatProgressModel",
      "state": {
       "bar_style": "success",
       "layout": "IPY_MODEL_88c84708cfba4dc693ba889c0dddab82",
       "max": 88,
       "style": "IPY_MODEL_1101facbbeaa49fabab3cf77ed77338b",
       "value": 88
      }
     },
     "33ad37c8b3bd4af88cb5a01d03aa22a9": {
      "model_module": "@jupyter-widgets/controls",
      "model_module_version": "1.5.0",
      "model_name": "HBoxModel",
      "state": {
       "children": [
        "IPY_MODEL_661c56678fa546a789800d106e9c0d85",
        "IPY_MODEL_326e671681214b309fbbcffbc685a976",
        "IPY_MODEL_1d4fc2a47509419a8c1f41b51dfe8517"
       ],
       "layout": "IPY_MODEL_9ec2f5afe0694727be80fd10c284bbd9"
      }
     },
     "37058c0417ce4697b3d904b604b39f6e": {
      "model_module": "@jupyter-widgets/controls",
      "model_module_version": "1.5.0",
      "model_name": "DescriptionStyleModel",
      "state": {
       "description_width": ""
      }
     },
     "3819141e0d964f33bdd70b3f5c6a4ee4": {
      "model_module": "@jupyter-widgets/controls",
      "model_module_version": "1.5.0",
      "model_name": "HTMLModel",
      "state": {
       "layout": "IPY_MODEL_5b1128e4600f4fbb9968ad5e9efdca0c",
       "style": "IPY_MODEL_48790bbdfbdd4a8c980802d6a010b6eb",
       "value": " 3/3 [09:56&lt;00:00, 201.98s/it]"
      }
     },
     "45a385eb0e6046a7b0fe8e9f05a21f19": {
      "model_module": "@jupyter-widgets/controls",
      "model_module_version": "1.5.0",
      "model_name": "ProgressStyleModel",
      "state": {
       "description_width": ""
      }
     },
     "485a6b24a6a44fa09a108d3dd7946ef7": {
      "model_module": "@jupyter-widgets/controls",
      "model_module_version": "1.5.0",
      "model_name": "HBoxModel",
      "state": {
       "children": [
        "IPY_MODEL_da756a0f78cd4167a5f5fd12865010ed",
        "IPY_MODEL_5f8da862292e4b66b4b204b2027950fd",
        "IPY_MODEL_3819141e0d964f33bdd70b3f5c6a4ee4"
       ],
       "layout": "IPY_MODEL_6e75503a89b04571ab75a9c5a8856796"
      }
     },
     "48790bbdfbdd4a8c980802d6a010b6eb": {
      "model_module": "@jupyter-widgets/controls",
      "model_module_version": "1.5.0",
      "model_name": "DescriptionStyleModel",
      "state": {
       "description_width": ""
      }
     },
     "4af268c2a611478ab36e114cd863a60e": {
      "model_module": "@jupyter-widgets/controls",
      "model_module_version": "1.5.0",
      "model_name": "HTMLModel",
      "state": {
       "layout": "IPY_MODEL_b0411b5716e14aadbd00ccf5c704edc0",
       "style": "IPY_MODEL_75e9869d639a453db0084c70f7928c05",
       "value": " 2/2 [00:02&lt;00:00,  1.27s/it]"
      }
     },
     "4e5ba7804f3b47cb96c1b0bd80a43240": {
      "model_module": "@jupyter-widgets/controls",
      "model_module_version": "1.5.0",
      "model_name": "HBoxModel",
      "state": {
       "children": [
        "IPY_MODEL_a79b9836a02f47cebe6eafc527aad735",
        "IPY_MODEL_2d5aef4d13a8424fab099984737a8bc1",
        "IPY_MODEL_17c4b64876764314b6cad112743f6082"
       ],
       "layout": "IPY_MODEL_aeb441eba1ac40bd89c01a392b6c9324"
      }
     },
     "4f1ae196d07a4764af44aa630c0e6c10": {
      "model_module": "@jupyter-widgets/base",
      "model_module_version": "1.2.0",
      "model_name": "LayoutModel",
      "state": {}
     },
     "509737cda8e04ac699599f4340300ab7": {
      "model_module": "@jupyter-widgets/controls",
      "model_module_version": "1.5.0",
      "model_name": "HTMLModel",
      "state": {
       "layout": "IPY_MODEL_8736aebacfad4dbf9d5dbdf7cfcb0299",
       "style": "IPY_MODEL_8118c0ea5805423da670dbf57a9f8af2",
       "value": " 44/44 [00:44&lt;00:00,  3.72it/s]"
      }
     },
     "51525ef1ca014646b8bcf6fb85d85606": {
      "model_module": "@jupyter-widgets/controls",
      "model_module_version": "1.5.0",
      "model_name": "HBoxModel",
      "state": {
       "children": [
        "IPY_MODEL_2f905d0ec5a84516b0e38af02577ba6f",
        "IPY_MODEL_bd9300b37e344d6d9c69fcaf1693075e",
        "IPY_MODEL_509737cda8e04ac699599f4340300ab7"
       ],
       "layout": "IPY_MODEL_73c203a97b1b43e29b75b36e3754d93e"
      }
     },
     "555ed0de4e3f476c8cfd30644eefc2b7": {
      "model_module": "@jupyter-widgets/controls",
      "model_module_version": "1.5.0",
      "model_name": "HTMLModel",
      "state": {
       "layout": "IPY_MODEL_2e39060e0ce74a8baf60c3e9cda9f11d",
       "style": "IPY_MODEL_2aab139e9a17476bb770d8c1cb5a2e87",
       "value": " 0/2 [00:00&lt;?, ?it/s]"
      }
     },
     "580b741fc49949e9a2bb2e8f1cabd6f2": {
      "model_module": "@jupyter-widgets/base",
      "model_module_version": "1.2.0",
      "model_name": "LayoutModel",
      "state": {}
     },
     "58a1bcccc31f4c57abffed24e1e33a0d": {
      "model_module": "@jupyter-widgets/controls",
      "model_module_version": "1.5.0",
      "model_name": "DescriptionStyleModel",
      "state": {
       "description_width": ""
      }
     },
     "593b7edfc5e8413cb127c26966b99091": {
      "model_module": "@jupyter-widgets/controls",
      "model_module_version": "1.5.0",
      "model_name": "FloatProgressModel",
      "state": {
       "bar_style": "success",
       "layout": "IPY_MODEL_5c83e088b9364505a2fc66dd8928dd7c",
       "max": 44,
       "style": "IPY_MODEL_eba46f71c1f54656a70b75d0f93e485d",
       "value": 44
      }
     },
     "5a71d75651ac458ea30c493f4a7f660c": {
      "model_module": "@jupyter-widgets/controls",
      "model_module_version": "1.5.0",
      "model_name": "DescriptionStyleModel",
      "state": {
       "description_width": ""
      }
     },
     "5b1128e4600f4fbb9968ad5e9efdca0c": {
      "model_module": "@jupyter-widgets/base",
      "model_module_version": "1.2.0",
      "model_name": "LayoutModel",
      "state": {}
     },
     "5c83e088b9364505a2fc66dd8928dd7c": {
      "model_module": "@jupyter-widgets/base",
      "model_module_version": "1.2.0",
      "model_name": "LayoutModel",
      "state": {}
     },
     "5d84f6a608f04ea0a87c9d09d9093784": {
      "model_module": "@jupyter-widgets/controls",
      "model_module_version": "1.5.0",
      "model_name": "HTMLModel",
      "state": {
       "layout": "IPY_MODEL_05b21e62ab534c82bd2a3051e6f44dd2",
       "style": "IPY_MODEL_266eade8e33747c99909c9a4d7ab70f0",
       "value": "100%"
      }
     },
     "5f8da862292e4b66b4b204b2027950fd": {
      "model_module": "@jupyter-widgets/controls",
      "model_module_version": "1.5.0",
      "model_name": "FloatProgressModel",
      "state": {
       "bar_style": "success",
       "layout": "IPY_MODEL_af2bc35e8e6046d7b03d5fcd50ddcf27",
       "max": 3,
       "style": "IPY_MODEL_0908cc3f187b4f15ab6da7405474d9fa",
       "value": 3
      }
     },
     "603aa873939b4dd7b14b19fffc2e0bce": {
      "model_module": "@jupyter-widgets/controls",
      "model_module_version": "1.5.0",
      "model_name": "DescriptionStyleModel",
      "state": {
       "description_width": ""
      }
     },
     "6170e7c59b154937b288ff68132574d5": {
      "model_module": "@jupyter-widgets/controls",
      "model_module_version": "1.5.0",
      "model_name": "DescriptionStyleModel",
      "state": {
       "description_width": ""
      }
     },
     "6217f0b8b0044a8290eb3c2acd8b8c04": {
      "model_module": "@jupyter-widgets/controls",
      "model_module_version": "1.5.0",
      "model_name": "HTMLModel",
      "state": {
       "layout": "IPY_MODEL_68ee9fcb0b2648858a8bf27980b9f495",
       "style": "IPY_MODEL_6170e7c59b154937b288ff68132574d5",
       "value": " 44/44 [00:04&lt;00:00, 16.08it/s]"
      }
     },
     "635e7883844442758c7d2812eb0cd2f7": {
      "model_module": "@jupyter-widgets/controls",
      "model_module_version": "1.5.0",
      "model_name": "HTMLModel",
      "state": {
       "layout": "IPY_MODEL_eb9e07480c404befaebe94fddd537754",
       "style": "IPY_MODEL_37058c0417ce4697b3d904b604b39f6e",
       "value": " 4400/4400 [00:01&lt;00:00, 5352.46it/s]"
      }
     },
     "6415058932734201a73623e08c87ce4b": {
      "model_module": "@jupyter-widgets/controls",
      "model_module_version": "1.5.0",
      "model_name": "DescriptionStyleModel",
      "state": {
       "description_width": ""
      }
     },
     "65cbadc5bd9c4da9a2e34ee0e0d43074": {
      "model_module": "@jupyter-widgets/base",
      "model_module_version": "1.2.0",
      "model_name": "LayoutModel",
      "state": {}
     },
     "661c56678fa546a789800d106e9c0d85": {
      "model_module": "@jupyter-widgets/controls",
      "model_module_version": "1.5.0",
      "model_name": "HTMLModel",
      "state": {
       "layout": "IPY_MODEL_580b741fc49949e9a2bb2e8f1cabd6f2",
       "style": "IPY_MODEL_b510de9c69884f9186fb5db51eb4e744",
       "value": "100%"
      }
     },
     "68ee9fcb0b2648858a8bf27980b9f495": {
      "model_module": "@jupyter-widgets/base",
      "model_module_version": "1.2.0",
      "model_name": "LayoutModel",
      "state": {}
     },
     "69f68b891e1a49b8a2337f07cd92959b": {
      "model_module": "@jupyter-widgets/controls",
      "model_module_version": "1.5.0",
      "model_name": "HBoxModel",
      "state": {
       "children": [
        "IPY_MODEL_5d84f6a608f04ea0a87c9d09d9093784",
        "IPY_MODEL_8317a01d03c44d07af305a330103ce22",
        "IPY_MODEL_635e7883844442758c7d2812eb0cd2f7"
       ],
       "layout": "IPY_MODEL_ef2a1782623d4d6588c81dc6efe906e3"
      }
     },
     "6a99b527a8f7488d871cadf046b0e376": {
      "model_module": "@jupyter-widgets/base",
      "model_module_version": "1.2.0",
      "model_name": "LayoutModel",
      "state": {}
     },
     "6e6df4f54d9d4b29b8066136b56d9f2b": {
      "model_module": "@jupyter-widgets/controls",
      "model_module_version": "1.5.0",
      "model_name": "DescriptionStyleModel",
      "state": {
       "description_width": ""
      }
     },
     "6e75503a89b04571ab75a9c5a8856796": {
      "model_module": "@jupyter-widgets/base",
      "model_module_version": "1.2.0",
      "model_name": "LayoutModel",
      "state": {}
     },
     "70ff27dace234ceaa826bbd6edf9aa6f": {
      "model_module": "@jupyter-widgets/controls",
      "model_module_version": "1.5.0",
      "model_name": "DescriptionStyleModel",
      "state": {
       "description_width": ""
      }
     },
     "73c203a97b1b43e29b75b36e3754d93e": {
      "model_module": "@jupyter-widgets/base",
      "model_module_version": "1.2.0",
      "model_name": "LayoutModel",
      "state": {}
     },
     "74059cde03c24bfa822a88dda7b906f9": {
      "model_module": "@jupyter-widgets/base",
      "model_module_version": "1.2.0",
      "model_name": "LayoutModel",
      "state": {}
     },
     "75e9869d639a453db0084c70f7928c05": {
      "model_module": "@jupyter-widgets/controls",
      "model_module_version": "1.5.0",
      "model_name": "DescriptionStyleModel",
      "state": {
       "description_width": ""
      }
     },
     "7a8ffa5efffa40b8bba2fdbade3e1ade": {
      "model_module": "@jupyter-widgets/controls",
      "model_module_version": "1.5.0",
      "model_name": "ProgressStyleModel",
      "state": {
       "description_width": ""
      }
     },
     "807583d981b748f8a7a4b31757283cd7": {
      "model_module": "@jupyter-widgets/controls",
      "model_module_version": "1.5.0",
      "model_name": "FloatProgressModel",
      "state": {
       "bar_style": "success",
       "layout": "IPY_MODEL_15b8ae41f7224fdc9f0d70e93da4a2bd",
       "max": 2,
       "style": "IPY_MODEL_ec250a7bbcf04c13a2e26c1e780112c7",
       "value": 2
      }
     },
     "8118c0ea5805423da670dbf57a9f8af2": {
      "model_module": "@jupyter-widgets/controls",
      "model_module_version": "1.5.0",
      "model_name": "DescriptionStyleModel",
      "state": {
       "description_width": ""
      }
     },
     "8317a01d03c44d07af305a330103ce22": {
      "model_module": "@jupyter-widgets/controls",
      "model_module_version": "1.5.0",
      "model_name": "FloatProgressModel",
      "state": {
       "bar_style": "success",
       "layout": "IPY_MODEL_2b17b894a0964a7d96c711ce0c713042",
       "max": 4400,
       "style": "IPY_MODEL_45a385eb0e6046a7b0fe8e9f05a21f19",
       "value": 4400
      }
     },
     "8736aebacfad4dbf9d5dbdf7cfcb0299": {
      "model_module": "@jupyter-widgets/base",
      "model_module_version": "1.2.0",
      "model_name": "LayoutModel",
      "state": {}
     },
     "88c84708cfba4dc693ba889c0dddab82": {
      "model_module": "@jupyter-widgets/base",
      "model_module_version": "1.2.0",
      "model_name": "LayoutModel",
      "state": {}
     },
     "89c8f36f30bf470b91c2fea545909f7e": {
      "model_module": "@jupyter-widgets/controls",
      "model_module_version": "1.5.0",
      "model_name": "DescriptionStyleModel",
      "state": {
       "description_width": ""
      }
     },
     "9ec2f5afe0694727be80fd10c284bbd9": {
      "model_module": "@jupyter-widgets/base",
      "model_module_version": "1.2.0",
      "model_name": "LayoutModel",
      "state": {}
     },
     "a79b9836a02f47cebe6eafc527aad735": {
      "model_module": "@jupyter-widgets/controls",
      "model_module_version": "1.5.0",
      "model_name": "HTMLModel",
      "state": {
       "layout": "IPY_MODEL_baccd9baeda3421c8627a72b66e18371",
       "style": "IPY_MODEL_2ff7b8b620654de5bc7493c6846d69a9",
       "value": "  0%"
      }
     },
     "aa487d779f9d44f5905a7898e6949e8f": {
      "model_module": "@jupyter-widgets/base",
      "model_module_version": "1.2.0",
      "model_name": "LayoutModel",
      "state": {}
     },
     "ad1375158f974f70bcd882ee80ec7ed4": {
      "model_module": "@jupyter-widgets/controls",
      "model_module_version": "1.5.0",
      "model_name": "HBoxModel",
      "state": {
       "children": [
        "IPY_MODEL_20afc434894b48f5b0361b99dc2c98b9",
        "IPY_MODEL_593b7edfc5e8413cb127c26966b99091",
        "IPY_MODEL_6217f0b8b0044a8290eb3c2acd8b8c04"
       ],
       "layout": "IPY_MODEL_13c11dfd80b5461fa97a86222dc79aec"
      }
     },
     "aeb441eba1ac40bd89c01a392b6c9324": {
      "model_module": "@jupyter-widgets/base",
      "model_module_version": "1.2.0",
      "model_name": "LayoutModel",
      "state": {}
     },
     "af2bc35e8e6046d7b03d5fcd50ddcf27": {
      "model_module": "@jupyter-widgets/base",
      "model_module_version": "1.2.0",
      "model_name": "LayoutModel",
      "state": {}
     },
     "b0411b5716e14aadbd00ccf5c704edc0": {
      "model_module": "@jupyter-widgets/base",
      "model_module_version": "1.2.0",
      "model_name": "LayoutModel",
      "state": {}
     },
     "b510de9c69884f9186fb5db51eb4e744": {
      "model_module": "@jupyter-widgets/controls",
      "model_module_version": "1.5.0",
      "model_name": "DescriptionStyleModel",
      "state": {
       "description_width": ""
      }
     },
     "baccd9baeda3421c8627a72b66e18371": {
      "model_module": "@jupyter-widgets/base",
      "model_module_version": "1.2.0",
      "model_name": "LayoutModel",
      "state": {}
     },
     "bd9300b37e344d6d9c69fcaf1693075e": {
      "model_module": "@jupyter-widgets/controls",
      "model_module_version": "1.5.0",
      "model_name": "FloatProgressModel",
      "state": {
       "bar_style": "success",
       "layout": "IPY_MODEL_74059cde03c24bfa822a88dda7b906f9",
       "max": 44,
       "style": "IPY_MODEL_0a6bd1790d514a7787a264b402736a9a",
       "value": 44
      }
     },
     "ce72c04d89494dd5bf2d9cfc2d567615": {
      "model_module": "@jupyter-widgets/controls",
      "model_module_version": "1.5.0",
      "model_name": "HBoxModel",
      "state": {
       "children": [
        "IPY_MODEL_1ed3703c8d9443c695b40363cb9f378d",
        "IPY_MODEL_cea346b157af475287bb4de01f6b7e7e",
        "IPY_MODEL_555ed0de4e3f476c8cfd30644eefc2b7"
       ],
       "layout": "IPY_MODEL_4f1ae196d07a4764af44aa630c0e6c10"
      }
     },
     "cea346b157af475287bb4de01f6b7e7e": {
      "model_module": "@jupyter-widgets/controls",
      "model_module_version": "1.5.0",
      "model_name": "FloatProgressModel",
      "state": {
       "bar_style": "danger",
       "layout": "IPY_MODEL_1fdd796178f24e54bad15529a6e6070e",
       "max": 2,
       "style": "IPY_MODEL_f45a880d6ad7427085a2215cff4a3899"
      }
     },
     "da756a0f78cd4167a5f5fd12865010ed": {
      "model_module": "@jupyter-widgets/controls",
      "model_module_version": "1.5.0",
      "model_name": "HTMLModel",
      "state": {
       "layout": "IPY_MODEL_aa487d779f9d44f5905a7898e6949e8f",
       "style": "IPY_MODEL_6e6df4f54d9d4b29b8066136b56d9f2b",
       "value": "100%"
      }
     },
     "e11cfb5cc9fb4426a600284a70d080f7": {
      "model_module": "@jupyter-widgets/base",
      "model_module_version": "1.2.0",
      "model_name": "LayoutModel",
      "state": {}
     },
     "e4714e4741694f838b3026de16b9ab80": {
      "model_module": "@jupyter-widgets/base",
      "model_module_version": "1.2.0",
      "model_name": "LayoutModel",
      "state": {}
     },
     "eb9e07480c404befaebe94fddd537754": {
      "model_module": "@jupyter-widgets/base",
      "model_module_version": "1.2.0",
      "model_name": "LayoutModel",
      "state": {}
     },
     "eba46f71c1f54656a70b75d0f93e485d": {
      "model_module": "@jupyter-widgets/controls",
      "model_module_version": "1.5.0",
      "model_name": "ProgressStyleModel",
      "state": {
       "description_width": ""
      }
     },
     "ec250a7bbcf04c13a2e26c1e780112c7": {
      "model_module": "@jupyter-widgets/controls",
      "model_module_version": "1.5.0",
      "model_name": "ProgressStyleModel",
      "state": {
       "description_width": ""
      }
     },
     "ef2a1782623d4d6588c81dc6efe906e3": {
      "model_module": "@jupyter-widgets/base",
      "model_module_version": "1.2.0",
      "model_name": "LayoutModel",
      "state": {}
     },
     "f45a880d6ad7427085a2215cff4a3899": {
      "model_module": "@jupyter-widgets/controls",
      "model_module_version": "1.5.0",
      "model_name": "ProgressStyleModel",
      "state": {
       "description_width": ""
      }
     },
     "f9257b8aa2fe4b82af63d18dc5a97f61": {
      "model_module": "@jupyter-widgets/base",
      "model_module_version": "1.2.0",
      "model_name": "LayoutModel",
      "state": {}
     },
     "f9bb5f7b6fa546cd8a434c3069821050": {
      "model_module": "@jupyter-widgets/base",
      "model_module_version": "1.2.0",
      "model_name": "LayoutModel",
      "state": {}
     },
     "fbf8f04d5ba943188232fcdb3c015d22": {
      "model_module": "@jupyter-widgets/base",
      "model_module_version": "1.2.0",
      "model_name": "LayoutModel",
      "state": {}
     },
     "fdedf39085af40099fbbd1f6cf6f6908": {
      "model_module": "@jupyter-widgets/controls",
      "model_module_version": "1.5.0",
      "model_name": "HTMLModel",
      "state": {
       "layout": "IPY_MODEL_fbf8f04d5ba943188232fcdb3c015d22",
       "style": "IPY_MODEL_58a1bcccc31f4c57abffed24e1e33a0d",
       "value": "100%"
      }
     }
    },
    "version_major": 2,
    "version_minor": 0
   }
  }
 },
 "nbformat": 4,
 "nbformat_minor": 5
}
