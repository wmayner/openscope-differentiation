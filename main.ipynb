{
 "cells": [
  {
   "cell_type": "markdown",
   "id": "warming-richmond",
   "metadata": {},
   "source": [
    "# main.ipynb\n",
    "\n",
    "Compute neurophysiological differentiation from dF/F traces and decode stimuli"
   ]
  },
  {
   "cell_type": "code",
   "execution_count": 1,
   "id": "engaging-delivery",
   "metadata": {},
   "outputs": [],
   "source": [
    "import multiprocessing\n",
    "from itertools import product\n",
    "from pathlib import Path\n",
    "\n",
    "import numpy as np\n",
    "import pandas as pd\n",
    "import scipy\n",
    "import scipy.spatial\n",
    "import sklearn\n",
    "import yaml\n",
    "from joblib import Parallel, delayed\n",
    "from sklearn.decomposition import PCA\n",
    "from sklearn.discriminant_analysis import LinearDiscriminantAnalysis\n",
    "from sklearn.model_selection import (StratifiedKFold, cross_val_score,\n",
    "                                     cross_validate)\n",
    "from sklearn.pipeline import Pipeline\n",
    "from sklearn.utils import parallel_backend\n",
    "from tqdm.auto import tqdm\n",
    "from umap import UMAP\n",
    "\n",
    "import metadata\n",
    "from spectral_differentiation import compute_dff_differentiation, TRUNCATION_TOLERANCE\n",
    "from analysis import (BLOCK_STIMULI, CONTINUOUS_NATURAL, SESSIONS,\n",
    "                      UNSCRAMBLED_SCRAMBLED, get_cells)\n",
    "from load import load_preprocessed_data\n",
    "from metadata import METADATA, STIMULUS_METADATA"
   ]
  },
  {
   "cell_type": "code",
   "execution_count": 2,
   "id": "tutorial-render",
   "metadata": {},
   "outputs": [],
   "source": [
    "# Register tqdm with pandas for `progress_apply`\n",
    "tqdm.pandas()"
   ]
  },
  {
   "cell_type": "code",
   "execution_count": 3,
   "id": "national-alert",
   "metadata": {},
   "outputs": [],
   "source": [
    "N_CPUS = multiprocessing.cpu_count()"
   ]
  },
  {
   "cell_type": "markdown",
   "id": "warming-hotel",
   "metadata": {},
   "source": [
    "## Load data"
   ]
  },
  {
   "cell_type": "code",
   "execution_count": 4,
   "id": "square-aggregate",
   "metadata": {},
   "outputs": [
    {
     "name": "stderr",
     "output_type": "stream",
     "text": [
      "[Parallel(n_jobs=44)]: Using backend LokyBackend with 44 concurrent workers.\n",
      "[Parallel(n_jobs=44)]: Done   2 out of  44 | elapsed:    5.5s remaining:  1.9min\n",
      "[Parallel(n_jobs=44)]: Done  11 out of  44 | elapsed:    7.8s remaining:   23.3s\n",
      "[Parallel(n_jobs=44)]: Done  20 out of  44 | elapsed:    9.9s remaining:   11.8s\n",
      "[Parallel(n_jobs=44)]: Done  29 out of  44 | elapsed:   12.7s remaining:    6.6s\n",
      "[Parallel(n_jobs=44)]: Done  38 out of  44 | elapsed:   17.9s remaining:    2.8s\n",
      "[Parallel(n_jobs=44)]: Done  44 out of  44 | elapsed:   23.2s finished\n"
     ]
    }
   ],
   "source": [
    "loaded_data = Parallel(n_jobs=min(len(SESSIONS), N_CPUS), verbose=5)(\n",
    "    delayed(load_preprocessed_data)(session) for session in SESSIONS\n",
    ")"
   ]
  },
  {
   "cell_type": "code",
   "execution_count": 5,
   "id": "emotional-spoke",
   "metadata": {},
   "outputs": [],
   "source": [
    "DFF = dict()\n",
    "DATA = dict()\n",
    "for session, (dff, data) in zip(SESSIONS, loaded_data):\n",
    "    DFF[session] = dff\n",
    "    DATA[session] = data"
   ]
  },
  {
   "cell_type": "code",
   "execution_count": 6,
   "id": "convenient-oregon",
   "metadata": {},
   "outputs": [
    {
     "data": {
      "application/vnd.jupyter.widget-view+json": {
       "model_id": "0ed951191baf4f94ac04208355c26cc9",
       "version_major": 2,
       "version_minor": 0
      },
      "text/plain": [
       "  0%|          | 0/44 [00:00<?, ?it/s]"
      ]
     },
     "metadata": {},
     "output_type": "display_data"
    }
   ],
   "source": [
    "# Attach label columns to dF/F dataframes\n",
    "for session, dff in tqdm(DFF.items()):\n",
    "    DFF[session] = dff.merge(\n",
    "        DATA[session].loc[:, [\"stimulus\", \"trial\", \"stimulus_is_scrambled_pair\", \"stimulus_is_block\"]],\n",
    "        how=\"left\",\n",
    "        left_index=True,\n",
    "        right_index=True,\n",
    "    )"
   ]
  },
  {
   "cell_type": "markdown",
   "id": "yellow-ecuador",
   "metadata": {},
   "source": [
    "# Spectral differentiation"
   ]
  },
  {
   "cell_type": "markdown",
   "id": "japanese-federal",
   "metadata": {},
   "source": [
    "### Build parameter space\n",
    "\n",
    "Combinations of parameters to use for the sensitivity analysis."
   ]
  },
  {
   "cell_type": "code",
   "execution_count": 7,
   "id": "broadband-archive",
   "metadata": {},
   "outputs": [
    {
     "data": {
      "text/html": [
       "<div>\n",
       "<style scoped>\n",
       "    .dataframe tbody tr th:only-of-type {\n",
       "        vertical-align: middle;\n",
       "    }\n",
       "\n",
       "    .dataframe tbody tr th {\n",
       "        vertical-align: top;\n",
       "    }\n",
       "\n",
       "    .dataframe thead th {\n",
       "        text-align: right;\n",
       "    }\n",
       "</style>\n",
       "<table border=\"1\" class=\"dataframe\">\n",
       "  <thead>\n",
       "    <tr style=\"text-align: right;\">\n",
       "      <th></th>\n",
       "      <th>state_length</th>\n",
       "      <th>metric</th>\n",
       "      <th>log_frequency</th>\n",
       "      <th>window</th>\n",
       "      <th>window_param</th>\n",
       "      <th>overlap</th>\n",
       "    </tr>\n",
       "  </thead>\n",
       "  <tbody>\n",
       "    <tr>\n",
       "      <th>0</th>\n",
       "      <td>0.2</td>\n",
       "      <td>cityblock</td>\n",
       "      <td>False</td>\n",
       "      <td>None</td>\n",
       "      <td>NaN</td>\n",
       "      <td>0.000</td>\n",
       "    </tr>\n",
       "    <tr>\n",
       "      <th>1</th>\n",
       "      <td>0.2</td>\n",
       "      <td>cityblock</td>\n",
       "      <td>False</td>\n",
       "      <td>tukey</td>\n",
       "      <td>0.25</td>\n",
       "      <td>0.125</td>\n",
       "    </tr>\n",
       "    <tr>\n",
       "      <th>2</th>\n",
       "      <td>0.2</td>\n",
       "      <td>cityblock</td>\n",
       "      <td>False</td>\n",
       "      <td>kaiser</td>\n",
       "      <td>14.00</td>\n",
       "      <td>0.500</td>\n",
       "    </tr>\n",
       "    <tr>\n",
       "      <th>3</th>\n",
       "      <td>0.2</td>\n",
       "      <td>cityblock</td>\n",
       "      <td>True</td>\n",
       "      <td>None</td>\n",
       "      <td>NaN</td>\n",
       "      <td>0.000</td>\n",
       "    </tr>\n",
       "    <tr>\n",
       "      <th>4</th>\n",
       "      <td>0.2</td>\n",
       "      <td>cityblock</td>\n",
       "      <td>True</td>\n",
       "      <td>tukey</td>\n",
       "      <td>0.25</td>\n",
       "      <td>0.125</td>\n",
       "    </tr>\n",
       "  </tbody>\n",
       "</table>\n",
       "</div>"
      ],
      "text/plain": [
       "   state_length     metric  log_frequency  window  window_param  overlap\n",
       "0           0.2  cityblock          False    None           NaN    0.000\n",
       "1           0.2  cityblock          False   tukey          0.25    0.125\n",
       "2           0.2  cityblock          False  kaiser         14.00    0.500\n",
       "3           0.2  cityblock           True    None           NaN    0.000\n",
       "4           0.2  cityblock           True   tukey          0.25    0.125"
      ]
     },
     "execution_count": 7,
     "metadata": {},
     "output_type": "execute_result"
    }
   ],
   "source": [
    "args = (\n",
    "    pd.DataFrame({\n",
    "        # The length of the 'neurophysiological state' of the population, in seconds\n",
    "        'state_length': [0.2, 0.5, 1, 2, 5, 10],\n",
    "    })\n",
    "    .merge(pd.DataFrame({\n",
    "        # The metric with which to measure distances between neurophysiological states\n",
    "        'metric': [\"cityblock\", \"euclidean\", \"chebyshev\"],\n",
    "    }), how='cross')\n",
    "    .merge(pd.DataFrame({\n",
    "        # Whether to use log-spaced frequency bins in the spectral estimation\n",
    "        'log_frequency': [False, True],\n",
    "    }), how='cross')\n",
    "    .merge(pd.DataFrame({\n",
    "        # Which window to use\n",
    "        'window': [\n",
    "            None,\n",
    "            'tukey',\n",
    "            'kaiser',\n",
    "        ],\n",
    "        # The window parameter\n",
    "        'window_param': [\n",
    "            None,\n",
    "            1/4,\n",
    "            14,\n",
    "        ],\n",
    "        # The fraction of window overlap\n",
    "        'overlap': [\n",
    "            0,\n",
    "            1/8,\n",
    "            1/2\n",
    "        ],\n",
    "    }), how='cross')\n",
    ")\n",
    "args.head()"
   ]
  },
  {
   "cell_type": "code",
   "execution_count": 8,
   "id": "junior-maldives",
   "metadata": {},
   "outputs": [],
   "source": [
    "args = list(product(\n",
    "    DFF.items(),\n",
    "    (row for _, row in args.iterrows())\n",
    "))"
   ]
  },
  {
   "cell_type": "markdown",
   "id": "czech-luxury",
   "metadata": {},
   "source": [
    "### Compute"
   ]
  },
  {
   "cell_type": "code",
   "execution_count": 9,
   "id": "acute-cathedral",
   "metadata": {},
   "outputs": [
    {
     "name": "stderr",
     "output_type": "stream",
     "text": [
      "[Parallel(n_jobs=160)]: Using backend LokyBackend with 160 concurrent workers.\n",
      "[Parallel(n_jobs=160)]: Done 130 tasks      | elapsed:   20.6s\n",
      "[Parallel(n_jobs=160)]: Done 328 tasks      | elapsed:   25.6s\n",
      "[Parallel(n_jobs=160)]: Done 562 tasks      | elapsed:   30.5s\n",
      "[Parallel(n_jobs=160)]: Done 832 tasks      | elapsed:   38.5s\n",
      "[Parallel(n_jobs=160)]: Done 1138 tasks      | elapsed:   48.1s\n",
      "[Parallel(n_jobs=160)]: Done 1480 tasks      | elapsed:   59.7s\n",
      "[Parallel(n_jobs=160)]: Done 1858 tasks      | elapsed:  1.3min\n",
      "[Parallel(n_jobs=160)]: Done 2272 tasks      | elapsed:  1.5min\n",
      "[Parallel(n_jobs=160)]: Done 2722 tasks      | elapsed:  1.7min\n",
      "[Parallel(n_jobs=160)]: Done 3208 tasks      | elapsed:  2.0min\n",
      "[Parallel(n_jobs=160)]: Done 3730 tasks      | elapsed:  2.2min\n",
      "[Parallel(n_jobs=160)]: Done 4288 tasks      | elapsed:  2.4min\n",
      "[Parallel(n_jobs=160)]: Done 4752 out of 4752 | elapsed:  2.5min finished\n"
     ]
    },
    {
     "name": "stdout",
     "output_type": "stream",
     "text": [
      "Done.\n",
      "(570240, 16)\n"
     ]
    },
    {
     "data": {
      "text/html": [
       "<div>\n",
       "<style scoped>\n",
       "    .dataframe tbody tr th:only-of-type {\n",
       "        vertical-align: middle;\n",
       "    }\n",
       "\n",
       "    .dataframe tbody tr th {\n",
       "        vertical-align: top;\n",
       "    }\n",
       "\n",
       "    .dataframe thead th {\n",
       "        text-align: right;\n",
       "    }\n",
       "</style>\n",
       "<table border=\"1\" class=\"dataframe\">\n",
       "  <thead>\n",
       "    <tr style=\"text-align: right;\">\n",
       "      <th></th>\n",
       "      <th>stimulus</th>\n",
       "      <th>trial</th>\n",
       "      <th>differentiation</th>\n",
       "      <th>state_length</th>\n",
       "      <th>metric</th>\n",
       "      <th>log_frequency</th>\n",
       "      <th>window</th>\n",
       "      <th>window_param</th>\n",
       "      <th>overlap</th>\n",
       "      <th>session</th>\n",
       "      <th>stimulus_type</th>\n",
       "      <th>stimulus_is_scrambled_pair</th>\n",
       "      <th>stimulus_is_block</th>\n",
       "      <th>stimulus_is_continuous</th>\n",
       "      <th>stimulus_code</th>\n",
       "      <th>stimulus_filename</th>\n",
       "    </tr>\n",
       "  </thead>\n",
       "  <tbody>\n",
       "    <tr>\n",
       "      <th>0</th>\n",
       "      <td>conspecifics</td>\n",
       "      <td>0.0</td>\n",
       "      <td>17.202698</td>\n",
       "      <td>0.2</td>\n",
       "      <td>cityblock</td>\n",
       "      <td>False</td>\n",
       "      <td>None</td>\n",
       "      <td>NaN</td>\n",
       "      <td>0.0</td>\n",
       "      <td>717208879</td>\n",
       "      <td>natural</td>\n",
       "      <td>False</td>\n",
       "      <td>True</td>\n",
       "      <td>True</td>\n",
       "      <td>4</td>\n",
       "      <td>04-multiple-mice-deep.mp4.npy</td>\n",
       "    </tr>\n",
       "    <tr>\n",
       "      <th>1</th>\n",
       "      <td>conspecifics</td>\n",
       "      <td>1.0</td>\n",
       "      <td>15.736950</td>\n",
       "      <td>0.2</td>\n",
       "      <td>cityblock</td>\n",
       "      <td>False</td>\n",
       "      <td>None</td>\n",
       "      <td>NaN</td>\n",
       "      <td>0.0</td>\n",
       "      <td>717208879</td>\n",
       "      <td>natural</td>\n",
       "      <td>False</td>\n",
       "      <td>True</td>\n",
       "      <td>True</td>\n",
       "      <td>4</td>\n",
       "      <td>04-multiple-mice-deep.mp4.npy</td>\n",
       "    </tr>\n",
       "    <tr>\n",
       "      <th>2</th>\n",
       "      <td>conspecifics</td>\n",
       "      <td>2.0</td>\n",
       "      <td>16.225434</td>\n",
       "      <td>0.2</td>\n",
       "      <td>cityblock</td>\n",
       "      <td>False</td>\n",
       "      <td>None</td>\n",
       "      <td>NaN</td>\n",
       "      <td>0.0</td>\n",
       "      <td>717208879</td>\n",
       "      <td>natural</td>\n",
       "      <td>False</td>\n",
       "      <td>True</td>\n",
       "      <td>True</td>\n",
       "      <td>4</td>\n",
       "      <td>04-multiple-mice-deep.mp4.npy</td>\n",
       "    </tr>\n",
       "    <tr>\n",
       "      <th>3</th>\n",
       "      <td>conspecifics</td>\n",
       "      <td>3.0</td>\n",
       "      <td>20.011245</td>\n",
       "      <td>0.2</td>\n",
       "      <td>cityblock</td>\n",
       "      <td>False</td>\n",
       "      <td>None</td>\n",
       "      <td>NaN</td>\n",
       "      <td>0.0</td>\n",
       "      <td>717208879</td>\n",
       "      <td>natural</td>\n",
       "      <td>False</td>\n",
       "      <td>True</td>\n",
       "      <td>True</td>\n",
       "      <td>4</td>\n",
       "      <td>04-multiple-mice-deep.mp4.npy</td>\n",
       "    </tr>\n",
       "    <tr>\n",
       "      <th>4</th>\n",
       "      <td>conspecifics</td>\n",
       "      <td>4.0</td>\n",
       "      <td>12.592473</td>\n",
       "      <td>0.2</td>\n",
       "      <td>cityblock</td>\n",
       "      <td>False</td>\n",
       "      <td>None</td>\n",
       "      <td>NaN</td>\n",
       "      <td>0.0</td>\n",
       "      <td>717208879</td>\n",
       "      <td>natural</td>\n",
       "      <td>False</td>\n",
       "      <td>True</td>\n",
       "      <td>True</td>\n",
       "      <td>4</td>\n",
       "      <td>04-multiple-mice-deep.mp4.npy</td>\n",
       "    </tr>\n",
       "  </tbody>\n",
       "</table>\n",
       "</div>"
      ],
      "text/plain": [
       "       stimulus  trial  differentiation  state_length     metric  \\\n",
       "0  conspecifics    0.0        17.202698           0.2  cityblock   \n",
       "1  conspecifics    1.0        15.736950           0.2  cityblock   \n",
       "2  conspecifics    2.0        16.225434           0.2  cityblock   \n",
       "3  conspecifics    3.0        20.011245           0.2  cityblock   \n",
       "4  conspecifics    4.0        12.592473           0.2  cityblock   \n",
       "\n",
       "   log_frequency window  window_param  overlap    session stimulus_type  \\\n",
       "0          False   None           NaN      0.0  717208879       natural   \n",
       "1          False   None           NaN      0.0  717208879       natural   \n",
       "2          False   None           NaN      0.0  717208879       natural   \n",
       "3          False   None           NaN      0.0  717208879       natural   \n",
       "4          False   None           NaN      0.0  717208879       natural   \n",
       "\n",
       "   stimulus_is_scrambled_pair  stimulus_is_block  stimulus_is_continuous  \\\n",
       "0                       False               True                    True   \n",
       "1                       False               True                    True   \n",
       "2                       False               True                    True   \n",
       "3                       False               True                    True   \n",
       "4                       False               True                    True   \n",
       "\n",
       "   stimulus_code              stimulus_filename  \n",
       "0              4  04-multiple-mice-deep.mp4.npy  \n",
       "1              4  04-multiple-mice-deep.mp4.npy  \n",
       "2              4  04-multiple-mice-deep.mp4.npy  \n",
       "3              4  04-multiple-mice-deep.mp4.npy  \n",
       "4              4  04-multiple-mice-deep.mp4.npy  "
      ]
     },
     "execution_count": 9,
     "metadata": {},
     "output_type": "execute_result"
    }
   ],
   "source": [
    "def worker(session, dff, params):\n",
    "    params = params.to_dict()\n",
    "    # Compute\n",
    "    result = compute_dff_differentiation(\n",
    "        dff,\n",
    "        fs=metadata.TWOP_SAMPLE_RATE,\n",
    "        **params,\n",
    "    )\n",
    "    # Convert Series result to a DataFrame\n",
    "    result.name = \"differentiation\"\n",
    "    result = (\n",
    "        result\n",
    "        .reset_index(drop=False)\n",
    "        # Record parameters & session\n",
    "        .assign(\n",
    "            **params,\n",
    "            session=session,\n",
    "        )\n",
    "    )\n",
    "    return result\n",
    "\n",
    "\n",
    "results = Parallel(n_jobs=min(len(args), N_CPUS), verbose=5)(\n",
    "    delayed(worker)(session, dff, params)\n",
    "    for (session, dff), params in args\n",
    ")\n",
    "results = (\n",
    "    # Put results into a DataFrame\n",
    "    pd.concat(results)\n",
    "    .reset_index(drop=True)\n",
    "    # Add stimulus metadata\n",
    "    .merge(STIMULUS_METADATA, on=\"stimulus\")\n",
    ")\n",
    "# Only consider block stimuli\n",
    "results = results.loc[results[\"stimulus_is_block\"]]\n",
    "print(\"Done.\")\n",
    "\n",
    "print(results.shape)\n",
    "results.head()"
   ]
  },
  {
   "cell_type": "markdown",
   "id": "pacific-roman",
   "metadata": {},
   "source": [
    "### Attach metadata"
   ]
  },
  {
   "cell_type": "code",
   "execution_count": 10,
   "id": "overhead-capability",
   "metadata": {},
   "outputs": [
    {
     "name": "stdout",
     "output_type": "stream",
     "text": [
      "(570240, 26)\n"
     ]
    },
    {
     "data": {
      "text/html": [
       "<div>\n",
       "<style scoped>\n",
       "    .dataframe tbody tr th:only-of-type {\n",
       "        vertical-align: middle;\n",
       "    }\n",
       "\n",
       "    .dataframe tbody tr th {\n",
       "        vertical-align: top;\n",
       "    }\n",
       "\n",
       "    .dataframe thead th {\n",
       "        text-align: right;\n",
       "    }\n",
       "</style>\n",
       "<table border=\"1\" class=\"dataframe\">\n",
       "  <thead>\n",
       "    <tr style=\"text-align: right;\">\n",
       "      <th></th>\n",
       "      <th>stimulus</th>\n",
       "      <th>trial</th>\n",
       "      <th>differentiation</th>\n",
       "      <th>state_length</th>\n",
       "      <th>metric</th>\n",
       "      <th>log_frequency</th>\n",
       "      <th>window</th>\n",
       "      <th>window_param</th>\n",
       "      <th>overlap</th>\n",
       "      <th>session</th>\n",
       "      <th>...</th>\n",
       "      <th>cre</th>\n",
       "      <th>area</th>\n",
       "      <th>depth</th>\n",
       "      <th>mouse_id</th>\n",
       "      <th>layer</th>\n",
       "      <th>ncells</th>\n",
       "      <th>start_time</th>\n",
       "      <th>order</th>\n",
       "      <th>sex</th>\n",
       "      <th>date_of_birth</th>\n",
       "    </tr>\n",
       "  </thead>\n",
       "  <tbody>\n",
       "    <tr>\n",
       "      <th>0</th>\n",
       "      <td>conspecifics</td>\n",
       "      <td>0.0</td>\n",
       "      <td>17.202698</td>\n",
       "      <td>0.2</td>\n",
       "      <td>cityblock</td>\n",
       "      <td>False</td>\n",
       "      <td>None</td>\n",
       "      <td>NaN</td>\n",
       "      <td>0.0</td>\n",
       "      <td>717208879</td>\n",
       "      <td>...</td>\n",
       "      <td>Cux2</td>\n",
       "      <td>LM</td>\n",
       "      <td>175</td>\n",
       "      <td>389014</td>\n",
       "      <td>L2/3</td>\n",
       "      <td>41</td>\n",
       "      <td>2018-07-05 08:29:08.784</td>\n",
       "      <td>0</td>\n",
       "      <td>M</td>\n",
       "      <td>2018-03-18</td>\n",
       "    </tr>\n",
       "    <tr>\n",
       "      <th>1</th>\n",
       "      <td>conspecifics</td>\n",
       "      <td>1.0</td>\n",
       "      <td>15.736950</td>\n",
       "      <td>0.2</td>\n",
       "      <td>cityblock</td>\n",
       "      <td>False</td>\n",
       "      <td>None</td>\n",
       "      <td>NaN</td>\n",
       "      <td>0.0</td>\n",
       "      <td>717208879</td>\n",
       "      <td>...</td>\n",
       "      <td>Cux2</td>\n",
       "      <td>LM</td>\n",
       "      <td>175</td>\n",
       "      <td>389014</td>\n",
       "      <td>L2/3</td>\n",
       "      <td>41</td>\n",
       "      <td>2018-07-05 08:29:08.784</td>\n",
       "      <td>0</td>\n",
       "      <td>M</td>\n",
       "      <td>2018-03-18</td>\n",
       "    </tr>\n",
       "    <tr>\n",
       "      <th>2</th>\n",
       "      <td>conspecifics</td>\n",
       "      <td>2.0</td>\n",
       "      <td>16.225434</td>\n",
       "      <td>0.2</td>\n",
       "      <td>cityblock</td>\n",
       "      <td>False</td>\n",
       "      <td>None</td>\n",
       "      <td>NaN</td>\n",
       "      <td>0.0</td>\n",
       "      <td>717208879</td>\n",
       "      <td>...</td>\n",
       "      <td>Cux2</td>\n",
       "      <td>LM</td>\n",
       "      <td>175</td>\n",
       "      <td>389014</td>\n",
       "      <td>L2/3</td>\n",
       "      <td>41</td>\n",
       "      <td>2018-07-05 08:29:08.784</td>\n",
       "      <td>0</td>\n",
       "      <td>M</td>\n",
       "      <td>2018-03-18</td>\n",
       "    </tr>\n",
       "    <tr>\n",
       "      <th>3</th>\n",
       "      <td>conspecifics</td>\n",
       "      <td>3.0</td>\n",
       "      <td>20.011245</td>\n",
       "      <td>0.2</td>\n",
       "      <td>cityblock</td>\n",
       "      <td>False</td>\n",
       "      <td>None</td>\n",
       "      <td>NaN</td>\n",
       "      <td>0.0</td>\n",
       "      <td>717208879</td>\n",
       "      <td>...</td>\n",
       "      <td>Cux2</td>\n",
       "      <td>LM</td>\n",
       "      <td>175</td>\n",
       "      <td>389014</td>\n",
       "      <td>L2/3</td>\n",
       "      <td>41</td>\n",
       "      <td>2018-07-05 08:29:08.784</td>\n",
       "      <td>0</td>\n",
       "      <td>M</td>\n",
       "      <td>2018-03-18</td>\n",
       "    </tr>\n",
       "    <tr>\n",
       "      <th>4</th>\n",
       "      <td>conspecifics</td>\n",
       "      <td>4.0</td>\n",
       "      <td>12.592473</td>\n",
       "      <td>0.2</td>\n",
       "      <td>cityblock</td>\n",
       "      <td>False</td>\n",
       "      <td>None</td>\n",
       "      <td>NaN</td>\n",
       "      <td>0.0</td>\n",
       "      <td>717208879</td>\n",
       "      <td>...</td>\n",
       "      <td>Cux2</td>\n",
       "      <td>LM</td>\n",
       "      <td>175</td>\n",
       "      <td>389014</td>\n",
       "      <td>L2/3</td>\n",
       "      <td>41</td>\n",
       "      <td>2018-07-05 08:29:08.784</td>\n",
       "      <td>0</td>\n",
       "      <td>M</td>\n",
       "      <td>2018-03-18</td>\n",
       "    </tr>\n",
       "  </tbody>\n",
       "</table>\n",
       "<p>5 rows × 26 columns</p>\n",
       "</div>"
      ],
      "text/plain": [
       "       stimulus  trial  differentiation  state_length     metric  \\\n",
       "0  conspecifics    0.0        17.202698           0.2  cityblock   \n",
       "1  conspecifics    1.0        15.736950           0.2  cityblock   \n",
       "2  conspecifics    2.0        16.225434           0.2  cityblock   \n",
       "3  conspecifics    3.0        20.011245           0.2  cityblock   \n",
       "4  conspecifics    4.0        12.592473           0.2  cityblock   \n",
       "\n",
       "   log_frequency window  window_param  overlap    session  ...   cre  area  \\\n",
       "0          False   None           NaN      0.0  717208879  ...  Cux2    LM   \n",
       "1          False   None           NaN      0.0  717208879  ...  Cux2    LM   \n",
       "2          False   None           NaN      0.0  717208879  ...  Cux2    LM   \n",
       "3          False   None           NaN      0.0  717208879  ...  Cux2    LM   \n",
       "4          False   None           NaN      0.0  717208879  ...  Cux2    LM   \n",
       "\n",
       "   depth  mouse_id  layer ncells              start_time order  sex  \\\n",
       "0    175    389014   L2/3     41 2018-07-05 08:29:08.784     0    M   \n",
       "1    175    389014   L2/3     41 2018-07-05 08:29:08.784     0    M   \n",
       "2    175    389014   L2/3     41 2018-07-05 08:29:08.784     0    M   \n",
       "3    175    389014   L2/3     41 2018-07-05 08:29:08.784     0    M   \n",
       "4    175    389014   L2/3     41 2018-07-05 08:29:08.784     0    M   \n",
       "\n",
       "   date_of_birth  \n",
       "0     2018-03-18  \n",
       "1     2018-03-18  \n",
       "2     2018-03-18  \n",
       "3     2018-03-18  \n",
       "4     2018-03-18  \n",
       "\n",
       "[5 rows x 26 columns]"
      ]
     },
     "execution_count": 10,
     "metadata": {},
     "output_type": "execute_result"
    }
   ],
   "source": [
    "metadata_subset = (\n",
    "    METADATA.loc[METADATA.index.isin(SESSIONS)]\n",
    "    .copy()\n",
    "    .drop(\n",
    "        columns=[\n",
    "            \"operator\",\n",
    "            \"qc\",\n",
    "            \"notes\",\n",
    "            \"all_ophys_experiments\",\n",
    "            \"all_ophys_sessions\",\n",
    "            \"valid\",\n",
    "        ]\n",
    "    )\n",
    ")\n",
    "\n",
    "df = results.merge(metadata_subset, on=\"session\")\n",
    "\n",
    "print(df.shape)\n",
    "df.head()"
   ]
  },
  {
   "cell_type": "markdown",
   "id": "transparent-compression",
   "metadata": {},
   "source": [
    "### Compute normalizations and transforms"
   ]
  },
  {
   "cell_type": "code",
   "execution_count": 11,
   "id": "subsequent-proceeding",
   "metadata": {},
   "outputs": [],
   "source": [
    "df['normalized differentiation'] = df['differentiation'] / np.sqrt(df['ncells'])\n",
    "df['log(normalized differentiation)'] = np.log10(df['normalized differentiation'])"
   ]
  },
  {
   "cell_type": "markdown",
   "id": "partial-dutch",
   "metadata": {},
   "source": [
    "### Write results to disk"
   ]
  },
  {
   "cell_type": "markdown",
   "id": "broadband-operator",
   "metadata": {},
   "source": [
    "All parameters"
   ]
  },
  {
   "cell_type": "code",
   "execution_count": 12,
   "id": "editorial-annual",
   "metadata": {},
   "outputs": [
    {
     "data": {
      "text/plain": [
       "(570240, 28)"
      ]
     },
     "execution_count": 12,
     "metadata": {},
     "output_type": "execute_result"
    }
   ],
   "source": [
    "df.to_parquet('results/sensitivity_analysis.parquet')\n",
    "df.shape"
   ]
  },
  {
   "cell_type": "markdown",
   "id": "animated-lover",
   "metadata": {},
   "source": [
    "Parameters used in main analysis"
   ]
  },
  {
   "cell_type": "code",
   "execution_count": 13,
   "id": "fluid-multimedia",
   "metadata": {},
   "outputs": [
    {
     "name": "stdout",
     "output_type": "stream",
     "text": [
      "(5280, 28)\n"
     ]
    }
   ],
   "source": [
    "main = df.loc[\n",
    "    (df[\"state_length\"] == 1.0)\n",
    "    & (df[\"metric\"] == \"euclidean\")\n",
    "    & df[\"window\"].isna()\n",
    "    & df[\"window_param\"].isna()\n",
    "    & (df[\"overlap\"] == 0)\n",
    "    & (df[\"log_frequency\"] == False)\n",
    "]\n",
    "print(main.shape)\n",
    "\n",
    "main.to_parquet('results/main.parquet')"
   ]
  },
  {
   "cell_type": "markdown",
   "id": "fresh-cursor",
   "metadata": {},
   "source": [
    "# Multivariate differentiation"
   ]
  },
  {
   "cell_type": "markdown",
   "id": "ambient-richards",
   "metadata": {},
   "source": [
    "## Dimensionality reduction"
   ]
  },
  {
   "cell_type": "code",
   "execution_count": 14,
   "id": "biological-outline",
   "metadata": {},
   "outputs": [],
   "source": [
    "with open('umap-params.yml', mode='rt') as f:\n",
    "    UMAP_PARAMS = yaml.load(f, Loader=yaml.SafeLoader)"
   ]
  },
  {
   "cell_type": "code",
   "execution_count": 15,
   "id": "peaceful-plumbing",
   "metadata": {},
   "outputs": [
    {
     "data": {
      "application/vnd.jupyter.widget-view+json": {
       "model_id": "55f3b3c0cf46462c93d8e35269d00e20",
       "version_major": 2,
       "version_minor": 0
      },
      "text/plain": [
       "  0%|          | 0/44 [00:00<?, ?it/s]"
      ]
     },
     "metadata": {},
     "output_type": "display_data"
    }
   ],
   "source": [
    "# Unscrambled & scrambled stimuli\n",
    "args_list = [\n",
    "    (session, dff.loc[dff['stimulus_is_scrambled_pair'] == True, :])\n",
    "    for session, dff in tqdm(DFF.items())\n",
    "]"
   ]
  },
  {
   "cell_type": "code",
   "execution_count": 16,
   "id": "laden-rhythm",
   "metadata": {},
   "outputs": [
    {
     "name": "stderr",
     "output_type": "stream",
     "text": [
      "[Parallel(n_jobs=44)]: Using backend LokyBackend with 44 concurrent workers.\n",
      "[Parallel(n_jobs=44)]: Done   2 out of  44 | elapsed:  1.6min remaining: 33.8min\n",
      "[Parallel(n_jobs=44)]: Done  11 out of  44 | elapsed:  1.6min remaining:  4.9min\n",
      "[Parallel(n_jobs=44)]: Done  20 out of  44 | elapsed:  1.7min remaining:  2.0min\n",
      "[Parallel(n_jobs=44)]: Done  29 out of  44 | elapsed:  1.7min remaining:   53.2s\n",
      "[Parallel(n_jobs=44)]: Done  38 out of  44 | elapsed:  1.8min remaining:   16.8s\n",
      "[Parallel(n_jobs=44)]: Done  44 out of  44 | elapsed:  1.8min finished\n"
     ]
    },
    {
     "name": "stdout",
     "output_type": "stream",
     "text": [
      "CPU times: user 1.3 s, sys: 4.62 s, total: 5.92 s\n",
      "Wall time: 1min 50s\n"
     ]
    }
   ],
   "source": [
    "%%time\n",
    "\n",
    "def worker(session, dff):\n",
    "    labels = dff.loc[:, ['stimulus', 'trial']]\n",
    "    signal = dff.loc[:, get_cells(dff)]\n",
    "    \n",
    "    transform = UMAP(**UMAP_PARAMS).fit_transform(signal)\n",
    "    \n",
    "    return pd.DataFrame(\n",
    "        data=transform,\n",
    "        index=dff.index,\n",
    "        columns=[f'umap_{i}' for i in range(transform.shape[1])],\n",
    "    ).join(labels)\n",
    "\n",
    "\n",
    "results = Parallel(n_jobs=min(len(args_list), N_CPUS), verbose=5)(\n",
    "    delayed(worker)(*args) for args in args_list\n",
    ")"
   ]
  },
  {
   "cell_type": "code",
   "execution_count": 17,
   "id": "anticipated-nicholas",
   "metadata": {},
   "outputs": [],
   "source": [
    "transforms = pd.concat(results)"
   ]
  },
  {
   "cell_type": "markdown",
   "id": "eastern-mississippi",
   "metadata": {},
   "source": [
    "## Mean centroid distance"
   ]
  },
  {
   "cell_type": "code",
   "execution_count": 18,
   "id": "removable-outdoors",
   "metadata": {},
   "outputs": [],
   "source": [
    "def centroid(points):\n",
    "    return points.mean(axis=0).reshape(1, -1)\n",
    "\n",
    "\n",
    "def centroid_distance(points):\n",
    "    points = points.to_numpy()\n",
    "    if points.ndim != 2:\n",
    "        raise ValueError(\"points must be 2D\")\n",
    "    return scipy.spatial.distance.cdist(points, centroid(points), metric=\"euclidean\")\n",
    "\n",
    "\n",
    "def mean_centroid_distance(points):\n",
    "    return np.mean(centroid_distance(points))"
   ]
  },
  {
   "cell_type": "code",
   "execution_count": 19,
   "id": "tutorial-blast",
   "metadata": {},
   "outputs": [
    {
     "data": {
      "application/vnd.jupyter.widget-view+json": {
       "model_id": "62eda834162e42d19a115c470ec4558a",
       "version_major": 2,
       "version_minor": 0
      },
      "text/plain": [
       "  0%|          | 0/2200 [00:00<?, ?it/s]"
      ]
     },
     "metadata": {},
     "output_type": "display_data"
    }
   ],
   "source": [
    "result = pd.Series(\n",
    "    transforms.groupby(['session', 'stimulus', 'trial']).progress_apply(mean_centroid_distance),\n",
    "    name='mean_centroid_distance',\n",
    ").reset_index()\n",
    "\n",
    "result['log(mean_centroid_distance)'] = np.log10(result['mean_centroid_distance'])\n",
    "\n",
    "result = (\n",
    "    result\n",
    "    .merge(STIMULUS_METADATA, left_on='stimulus', right_index=True)\n",
    "    .merge(METADATA, on='session')\n",
    ")"
   ]
  },
  {
   "cell_type": "code",
   "execution_count": 20,
   "id": "brave-market",
   "metadata": {},
   "outputs": [],
   "source": [
    "result.to_parquet('results/mean_centroid_distance.parquet')"
   ]
  },
  {
   "cell_type": "markdown",
   "id": "nearby-consideration",
   "metadata": {},
   "source": [
    "# Decoding"
   ]
  },
  {
   "cell_type": "markdown",
   "id": "above-unemployment",
   "metadata": {},
   "source": [
    "## Helper functions"
   ]
  },
  {
   "cell_type": "code",
   "execution_count": 21,
   "id": "dirty-giving",
   "metadata": {},
   "outputs": [],
   "source": [
    "def flatten_trial(data, target_length):\n",
    "    \"\"\"Truncate so each trial has the same number of frames.\"\"\"\n",
    "    if not abs(len(data) - target_length) <= TRUNCATION_TOLERANCE:\n",
    "        raise ValueError(\n",
    "            f\"Expected length within tolerance {tolerance}; got {len(data)}\"\n",
    "        )\n",
    "    return (\n",
    "        data.iloc[:target_length]\n",
    "        .drop(axis=\"columns\", labels=[\"trial\", \"stimulus\"])\n",
    "        .to_numpy()\n",
    "        .flatten()\n",
    "    )\n",
    "\n",
    "\n",
    "def get_labelled_data(session, stimuli, get_class):\n",
    "    \"\"\"Return data and classes.\n",
    "\n",
    "    Reshapes and concatenates data for all stimuli.\n",
    "    \"\"\"\n",
    "    dff = DFF[session]\n",
    "    data = DATA[session]\n",
    "    # Select stimulus subset and relevant columns\n",
    "    dff = dff.loc[\n",
    "        dff[\"stimulus\"].isin(stimuli),\n",
    "        get_cells(dff) + ['stimulus', 'trial']\n",
    "    ]\n",
    "    # X must be of shape (n_samples, n_features):\n",
    "    # - samples are trials;\n",
    "    # - features are the dF/F trace value for each cell for every sample within the trial,\n",
    "    #   i.e. there are (30 s * 30 Hz * n_cells) features.\n",
    "    # We need to truncate each trial to the minimum number of frames among all of them so\n",
    "    # they each have the same number of features.\n",
    "    target_length = int(dff.groupby([\"trial\", \"stimulus\"]).agg(len).min().min())\n",
    "    X = (\n",
    "        dff\n",
    "        .groupby([\"trial\", \"stimulus\"])\n",
    "        .apply(flatten_trial, target_length=target_length)\n",
    "    )\n",
    "    stimuli = X.index.get_level_values(\"stimulus\")\n",
    "    classes = stimuli.map(get_class)\n",
    "    trials = X.index.get_level_values(\"trial\")\n",
    "    # Reshape to the (n_samples, n_features)\n",
    "    samples = np.stack(X.to_numpy())\n",
    "    return samples, classes.to_numpy(), trials.to_numpy(), stimuli.to_numpy()"
   ]
  },
  {
   "cell_type": "markdown",
   "id": "arbitrary-denmark",
   "metadata": {},
   "source": [
    "## Compute"
   ]
  },
  {
   "cell_type": "code",
   "execution_count": 22,
   "id": "earned-islam",
   "metadata": {},
   "outputs": [],
   "source": [
    "N_JOBS = -1\n",
    "N_SPLITS = 5\n",
    "CV = StratifiedKFold(n_splits=N_SPLITS)\n",
    "PIPELINE = Pipeline(\n",
    "    [\n",
    "        (\"reduce_dimensionality\", PCA(n_components=0.99)),\n",
    "        (\"classify\", LinearDiscriminantAnalysis(solver=\"lsqr\", shrinkage=\"auto\")),\n",
    "    ]\n",
    ")"
   ]
  },
  {
   "cell_type": "code",
   "execution_count": 23,
   "id": "activated-debut",
   "metadata": {},
   "outputs": [],
   "source": [
    "identity = lambda x: x\n",
    "category = STIMULUS_METADATA.stimulus_type.get"
   ]
  },
  {
   "cell_type": "code",
   "execution_count": 24,
   "id": "naughty-universe",
   "metadata": {},
   "outputs": [
    {
     "data": {
      "application/vnd.jupyter.widget-view+json": {
       "model_id": "016cd4a29aeb4f4597800ea03e0cef1f",
       "version_major": 2,
       "version_minor": 0
      },
      "text/plain": [
       "  0%|          | 0/3 [00:00<?, ?it/s]"
      ]
     },
     "metadata": {},
     "output_type": "display_data"
    },
    {
     "name": "stdout",
     "output_type": "stream",
     "text": [
      "CPU times: user 2min 34s, sys: 1min 9s, total: 3min 44s\n",
      "Wall time: 4min 36s\n"
     ]
    }
   ],
   "source": [
    "%%time\n",
    "\n",
    "def worker(session, stimulus_set, get_class, scoring):\n",
    "    X, y, trials, stimuli = get_labelled_data(\n",
    "        session,\n",
    "        stimuli=stimulus_set,\n",
    "        get_class=get_class,\n",
    "    )\n",
    "    if scoring == \"balanced_accuracy\":\n",
    "        scores = cross_val_score(PIPELINE, X, y, cv=CV, scoring=scoring, n_jobs=1)\n",
    "        return pd.DataFrame([{scoring: scores.mean(), 'session': session}])\n",
    "    if scoring == \"f1_score\":\n",
    "        labels = sorted(np.unique(y))\n",
    "        scoring = {\n",
    "            label: sklearn.metrics.make_scorer(\n",
    "                sklearn.metrics.f1_score,\n",
    "                labels=[label],\n",
    "                average=\"macro\",\n",
    "            )\n",
    "            for label in labels\n",
    "        }\n",
    "        scores = cross_validate(PIPELINE, X, y, cv=CV, scoring=scoring, n_jobs=1)\n",
    "        scores[\"session\"] = session\n",
    "        return pd.DataFrame(scores)\n",
    "    raise ValueError(\"invalid scoring method\")\n",
    "\n",
    "\n",
    "for stimulus_set, scoring, get_class in tqdm(\n",
    "    [\n",
    "        # Figure 6\n",
    "        (UNSCRAMBLED_SCRAMBLED, \"balanced_accuracy\", category),\n",
    "        # Figure S8\n",
    "        (BLOCK_STIMULI, \"balanced_accuracy\", identity),\n",
    "        # Figure S9\n",
    "        (CONTINUOUS_NATURAL, \"f1_score\", identity),\n",
    "    ]\n",
    "):\n",
    "    if get_class is identity:\n",
    "        decode_target = \"identity\"\n",
    "    if get_class is category:\n",
    "        decode_target = \"category\"\n",
    "\n",
    "    if stimulus_set == UNSCRAMBLED_SCRAMBLED:\n",
    "        stimulus_set_name = \"unscrambled_scrambled\"\n",
    "    if stimulus_set == BLOCK_STIMULI:\n",
    "        stimulus_set_name = \"all\"\n",
    "    if stimulus_set == CONTINUOUS_NATURAL:\n",
    "        stimulus_set_name = \"continuous_natural\"\n",
    "\n",
    "    output_path = f\"results/decoding__stimuli-{stimulus_set_name}__decode-{decode_target}__scoring-{scoring}.parquet\"\n",
    "    \n",
    "    chance = 1 / len(set(map(get_class, stimulus_set)))\n",
    "\n",
    "    with parallel_backend(\"loky\", n_jobs=N_JOBS):\n",
    "        results = Parallel()(\n",
    "            delayed(worker)(session, stimulus_set, get_class, scoring)\n",
    "            for session in SESSIONS\n",
    "        )\n",
    "\n",
    "    result_df = pd.concat(results).merge(METADATA, on=\"session\")\n",
    "    result_df[\"chance\"] = chance\n",
    "\n",
    "    result_df.to_parquet(output_path)"
   ]
  }
 ],
 "metadata": {
  "kernelspec": {
   "display_name": "Python 3",
   "language": "python",
   "name": "python3"
  },
  "language_info": {
   "codemirror_mode": {
    "name": "ipython",
    "version": 3
   },
   "file_extension": ".py",
   "mimetype": "text/x-python",
   "name": "python",
   "nbconvert_exporter": "python",
   "pygments_lexer": "ipython3",
   "version": "3.8.8"
  },
  "widgets": {
   "application/vnd.jupyter.widget-state+json": {
    "state": {
     "016cd4a29aeb4f4597800ea03e0cef1f": {
      "model_module": "@jupyter-widgets/controls",
      "model_module_version": "1.5.0",
      "model_name": "HBoxModel",
      "state": {
       "children": [
        "IPY_MODEL_6519864af9d545f891a10ef9277731db",
        "IPY_MODEL_62425a20a7c54c508133991b56131b4f",
        "IPY_MODEL_58c359af3e6d4848b92106dc6d1952e7"
       ],
       "layout": "IPY_MODEL_cdd2cf613ad7425f94a67336257eca12"
      }
     },
     "03aeacfe479b46d792d1f89f4ab097a9": {
      "model_module": "@jupyter-widgets/controls",
      "model_module_version": "1.5.0",
      "model_name": "DescriptionStyleModel",
      "state": {
       "description_width": ""
      }
     },
     "047c9618793c4fbdab463db1ecbf6d8e": {
      "model_module": "@jupyter-widgets/base",
      "model_module_version": "1.2.0",
      "model_name": "LayoutModel",
      "state": {}
     },
     "0ed951191baf4f94ac04208355c26cc9": {
      "model_module": "@jupyter-widgets/controls",
      "model_module_version": "1.5.0",
      "model_name": "HBoxModel",
      "state": {
       "children": [
        "IPY_MODEL_6b504891bfaa47f791d91bb36a0bf49c",
        "IPY_MODEL_71ccd116d6734c27826ee51bd1f10fb6",
        "IPY_MODEL_b852f8c982d74bc3b4c0d9a2acc62547"
       ],
       "layout": "IPY_MODEL_538825aaf64d4654ab4b30b6a28ba430"
      }
     },
     "1291cbf29f554728be3f784b5695061d": {
      "model_module": "@jupyter-widgets/base",
      "model_module_version": "1.2.0",
      "model_name": "LayoutModel",
      "state": {}
     },
     "14035ea4c7f748878c1a50acf66b7b24": {
      "model_module": "@jupyter-widgets/base",
      "model_module_version": "1.2.0",
      "model_name": "LayoutModel",
      "state": {}
     },
     "1b208d1e1ab14e2f8acfa47838bcbe2d": {
      "model_module": "@jupyter-widgets/controls",
      "model_module_version": "1.5.0",
      "model_name": "DescriptionStyleModel",
      "state": {
       "description_width": ""
      }
     },
     "34df1f762c8b4c6eb941b745f2eb079b": {
      "model_module": "@jupyter-widgets/controls",
      "model_module_version": "1.5.0",
      "model_name": "HTMLModel",
      "state": {
       "layout": "IPY_MODEL_45d64117271a4670a6a2c92bda2253f4",
       "style": "IPY_MODEL_59d4832bcfe04aa0b30c19840cc4f83a",
       "value": "100%"
      }
     },
     "375d1060981f45df87dfb8edb8a5f948": {
      "model_module": "@jupyter-widgets/controls",
      "model_module_version": "1.5.0",
      "model_name": "HTMLModel",
      "state": {
       "layout": "IPY_MODEL_7cf9915ffe5248acbe7cdf867a7090cd",
       "style": "IPY_MODEL_aa39ebab194d4e78bb67320961eb7bf7",
       "value": " 44/44 [00:04&lt;00:00, 13.62it/s]"
      }
     },
     "398e32718300488eb9769636bd79a0af": {
      "model_module": "@jupyter-widgets/base",
      "model_module_version": "1.2.0",
      "model_name": "LayoutModel",
      "state": {}
     },
     "3db9e160f11144a29642699c10e9b192": {
      "model_module": "@jupyter-widgets/controls",
      "model_module_version": "1.5.0",
      "model_name": "DescriptionStyleModel",
      "state": {
       "description_width": ""
      }
     },
     "45a9aba0c8b045e0a9748415095b860b": {
      "model_module": "@jupyter-widgets/controls",
      "model_module_version": "1.5.0",
      "model_name": "DescriptionStyleModel",
      "state": {
       "description_width": ""
      }
     },
     "45d64117271a4670a6a2c92bda2253f4": {
      "model_module": "@jupyter-widgets/base",
      "model_module_version": "1.2.0",
      "model_name": "LayoutModel",
      "state": {}
     },
     "4625900196ce459da7bc166b331baa90": {
      "model_module": "@jupyter-widgets/base",
      "model_module_version": "1.2.0",
      "model_name": "LayoutModel",
      "state": {}
     },
     "538825aaf64d4654ab4b30b6a28ba430": {
      "model_module": "@jupyter-widgets/base",
      "model_module_version": "1.2.0",
      "model_name": "LayoutModel",
      "state": {}
     },
     "546cc8d9e18941ad835367f7a5fa5851": {
      "model_module": "@jupyter-widgets/base",
      "model_module_version": "1.2.0",
      "model_name": "LayoutModel",
      "state": {}
     },
     "55f3b3c0cf46462c93d8e35269d00e20": {
      "model_module": "@jupyter-widgets/controls",
      "model_module_version": "1.5.0",
      "model_name": "HBoxModel",
      "state": {
       "children": [
        "IPY_MODEL_34df1f762c8b4c6eb941b745f2eb079b",
        "IPY_MODEL_d1ce2a9e3b4e4ddba384c7063c17504d",
        "IPY_MODEL_375d1060981f45df87dfb8edb8a5f948"
       ],
       "layout": "IPY_MODEL_a21e190543424e30b3846f9f3c6fba3c"
      }
     },
     "58c359af3e6d4848b92106dc6d1952e7": {
      "model_module": "@jupyter-widgets/controls",
      "model_module_version": "1.5.0",
      "model_name": "HTMLModel",
      "state": {
       "layout": "IPY_MODEL_eec68ba1ab9b42fc9e3e6932fba81daf",
       "style": "IPY_MODEL_03aeacfe479b46d792d1f89f4ab097a9",
       "value": " 3/3 [04:36&lt;00:00, 89.76s/it]"
      }
     },
     "59d4832bcfe04aa0b30c19840cc4f83a": {
      "model_module": "@jupyter-widgets/controls",
      "model_module_version": "1.5.0",
      "model_name": "DescriptionStyleModel",
      "state": {
       "description_width": ""
      }
     },
     "62425a20a7c54c508133991b56131b4f": {
      "model_module": "@jupyter-widgets/controls",
      "model_module_version": "1.5.0",
      "model_name": "FloatProgressModel",
      "state": {
       "bar_style": "success",
       "layout": "IPY_MODEL_eae44810ee3c4b689c69df35b8d37f6e",
       "max": 3,
       "style": "IPY_MODEL_62eeff095b1b41bfa4069d5e930a5ba6",
       "value": 3
      }
     },
     "62eda834162e42d19a115c470ec4558a": {
      "model_module": "@jupyter-widgets/controls",
      "model_module_version": "1.5.0",
      "model_name": "HBoxModel",
      "state": {
       "children": [
        "IPY_MODEL_7977860aa62847978c89378841d45f13",
        "IPY_MODEL_b6b769afd1c443fb930260d491346650",
        "IPY_MODEL_9c57b9db01aa4a01b1235dfbb7827ca9"
       ],
       "layout": "IPY_MODEL_398e32718300488eb9769636bd79a0af"
      }
     },
     "62eeff095b1b41bfa4069d5e930a5ba6": {
      "model_module": "@jupyter-widgets/controls",
      "model_module_version": "1.5.0",
      "model_name": "ProgressStyleModel",
      "state": {
       "description_width": ""
      }
     },
     "6519864af9d545f891a10ef9277731db": {
      "model_module": "@jupyter-widgets/controls",
      "model_module_version": "1.5.0",
      "model_name": "HTMLModel",
      "state": {
       "layout": "IPY_MODEL_ba8130c689cc47dd98c8117674ea1be0",
       "style": "IPY_MODEL_1b208d1e1ab14e2f8acfa47838bcbe2d",
       "value": "100%"
      }
     },
     "6b504891bfaa47f791d91bb36a0bf49c": {
      "model_module": "@jupyter-widgets/controls",
      "model_module_version": "1.5.0",
      "model_name": "HTMLModel",
      "state": {
       "layout": "IPY_MODEL_4625900196ce459da7bc166b331baa90",
       "style": "IPY_MODEL_c7576a90521a48f5bb0245aeae4f4d3f",
       "value": "100%"
      }
     },
     "71ccd116d6734c27826ee51bd1f10fb6": {
      "model_module": "@jupyter-widgets/controls",
      "model_module_version": "1.5.0",
      "model_name": "FloatProgressModel",
      "state": {
       "bar_style": "success",
       "layout": "IPY_MODEL_14035ea4c7f748878c1a50acf66b7b24",
       "max": 44,
       "style": "IPY_MODEL_b7fe8f0d6e9f4c4989500910df461821",
       "value": 44
      }
     },
     "7977860aa62847978c89378841d45f13": {
      "model_module": "@jupyter-widgets/controls",
      "model_module_version": "1.5.0",
      "model_name": "HTMLModel",
      "state": {
       "layout": "IPY_MODEL_047c9618793c4fbdab463db1ecbf6d8e",
       "style": "IPY_MODEL_3db9e160f11144a29642699c10e9b192",
       "value": "100%"
      }
     },
     "7cf9915ffe5248acbe7cdf867a7090cd": {
      "model_module": "@jupyter-widgets/base",
      "model_module_version": "1.2.0",
      "model_name": "LayoutModel",
      "state": {}
     },
     "7d99b4948aea412c89a37684c9cd64a2": {
      "model_module": "@jupyter-widgets/base",
      "model_module_version": "1.2.0",
      "model_name": "LayoutModel",
      "state": {}
     },
     "8b99d72ca59840f4b3dc6f77b5749d36": {
      "model_module": "@jupyter-widgets/base",
      "model_module_version": "1.2.0",
      "model_name": "LayoutModel",
      "state": {}
     },
     "9c57b9db01aa4a01b1235dfbb7827ca9": {
      "model_module": "@jupyter-widgets/controls",
      "model_module_version": "1.5.0",
      "model_name": "HTMLModel",
      "state": {
       "layout": "IPY_MODEL_1291cbf29f554728be3f784b5695061d",
       "style": "IPY_MODEL_f7ab1cdac694407ab3ce86d1d768a3cf",
       "value": " 2200/2200 [00:00&lt;00:00, 3751.54it/s]"
      }
     },
     "a21e190543424e30b3846f9f3c6fba3c": {
      "model_module": "@jupyter-widgets/base",
      "model_module_version": "1.2.0",
      "model_name": "LayoutModel",
      "state": {}
     },
     "a59d86286e284000ac30161dd78e65fe": {
      "model_module": "@jupyter-widgets/controls",
      "model_module_version": "1.5.0",
      "model_name": "ProgressStyleModel",
      "state": {
       "description_width": ""
      }
     },
     "aa39ebab194d4e78bb67320961eb7bf7": {
      "model_module": "@jupyter-widgets/controls",
      "model_module_version": "1.5.0",
      "model_name": "DescriptionStyleModel",
      "state": {
       "description_width": ""
      }
     },
     "b6b769afd1c443fb930260d491346650": {
      "model_module": "@jupyter-widgets/controls",
      "model_module_version": "1.5.0",
      "model_name": "FloatProgressModel",
      "state": {
       "bar_style": "success",
       "layout": "IPY_MODEL_8b99d72ca59840f4b3dc6f77b5749d36",
       "max": 2200,
       "style": "IPY_MODEL_a59d86286e284000ac30161dd78e65fe",
       "value": 2200
      }
     },
     "b7fe8f0d6e9f4c4989500910df461821": {
      "model_module": "@jupyter-widgets/controls",
      "model_module_version": "1.5.0",
      "model_name": "ProgressStyleModel",
      "state": {
       "description_width": ""
      }
     },
     "b852f8c982d74bc3b4c0d9a2acc62547": {
      "model_module": "@jupyter-widgets/controls",
      "model_module_version": "1.5.0",
      "model_name": "HTMLModel",
      "state": {
       "layout": "IPY_MODEL_546cc8d9e18941ad835367f7a5fa5851",
       "style": "IPY_MODEL_45a9aba0c8b045e0a9748415095b860b",
       "value": " 44/44 [00:14&lt;00:00, 10.83it/s]"
      }
     },
     "ba8130c689cc47dd98c8117674ea1be0": {
      "model_module": "@jupyter-widgets/base",
      "model_module_version": "1.2.0",
      "model_name": "LayoutModel",
      "state": {}
     },
     "c7576a90521a48f5bb0245aeae4f4d3f": {
      "model_module": "@jupyter-widgets/controls",
      "model_module_version": "1.5.0",
      "model_name": "DescriptionStyleModel",
      "state": {
       "description_width": ""
      }
     },
     "cdd2cf613ad7425f94a67336257eca12": {
      "model_module": "@jupyter-widgets/base",
      "model_module_version": "1.2.0",
      "model_name": "LayoutModel",
      "state": {}
     },
     "d1ce2a9e3b4e4ddba384c7063c17504d": {
      "model_module": "@jupyter-widgets/controls",
      "model_module_version": "1.5.0",
      "model_name": "FloatProgressModel",
      "state": {
       "bar_style": "success",
       "layout": "IPY_MODEL_7d99b4948aea412c89a37684c9cd64a2",
       "max": 44,
       "style": "IPY_MODEL_e90ab98343e34c23b26ff6e91476a8e2",
       "value": 44
      }
     },
     "e90ab98343e34c23b26ff6e91476a8e2": {
      "model_module": "@jupyter-widgets/controls",
      "model_module_version": "1.5.0",
      "model_name": "ProgressStyleModel",
      "state": {
       "description_width": ""
      }
     },
     "eae44810ee3c4b689c69df35b8d37f6e": {
      "model_module": "@jupyter-widgets/base",
      "model_module_version": "1.2.0",
      "model_name": "LayoutModel",
      "state": {}
     },
     "eec68ba1ab9b42fc9e3e6932fba81daf": {
      "model_module": "@jupyter-widgets/base",
      "model_module_version": "1.2.0",
      "model_name": "LayoutModel",
      "state": {}
     },
     "f7ab1cdac694407ab3ce86d1d768a3cf": {
      "model_module": "@jupyter-widgets/controls",
      "model_module_version": "1.5.0",
      "model_name": "DescriptionStyleModel",
      "state": {
       "description_width": ""
      }
     }
    },
    "version_major": 2,
    "version_minor": 0
   }
  }
 },
 "nbformat": 4,
 "nbformat_minor": 5
}
