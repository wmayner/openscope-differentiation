{
 "cells": [
  {
   "cell_type": "markdown",
   "id": "derived-robinson",
   "metadata": {},
   "source": [
    "# Figures 8 & 8-1\n",
    "\n",
    "Neurophysiological differentiation vs. stimulus properties"
   ]
  },
  {
   "cell_type": "code",
   "execution_count": 1,
   "id": "excellent-bradley",
   "metadata": {
    "execution": {
     "iopub.execute_input": "2021-12-14T19:26:11.797715Z",
     "iopub.status.busy": "2021-12-14T19:26:11.797332Z",
     "iopub.status.idle": "2021-12-14T19:26:13.911263Z",
     "shell.execute_reply": "2021-12-14T19:26:13.910195Z",
     "shell.execute_reply.started": "2021-12-14T19:26:11.797597Z"
    },
    "tags": []
   },
   "outputs": [],
   "source": [
    "from pathlib import Path\n",
    "\n",
    "import matplotlib\n",
    "import pandas as pd\n",
    "import seaborn as sb\n",
    "import matplotlib.pyplot as plt\n",
    "\n",
    "import analysis\n",
    "from analysis import UNSCRAMBLED_SCRAMBLED"
   ]
  },
  {
   "cell_type": "code",
   "execution_count": 2,
   "id": "59e11659-c69a-47e4-b745-ea4fd9362b50",
   "metadata": {
    "execution": {
     "iopub.execute_input": "2021-12-14T19:26:13.914173Z",
     "iopub.status.busy": "2021-12-14T19:26:13.913774Z",
     "iopub.status.idle": "2021-12-14T19:26:13.919288Z",
     "shell.execute_reply": "2021-12-14T19:26:13.918380Z",
     "shell.execute_reply.started": "2021-12-14T19:26:13.914133Z"
    },
    "tags": []
   },
   "outputs": [],
   "source": [
    "matplotlib.rcParams.update({'font.size': 16})"
   ]
  },
  {
   "cell_type": "code",
   "execution_count": 3,
   "id": "chubby-banner",
   "metadata": {
    "execution": {
     "iopub.execute_input": "2021-12-14T19:26:13.921271Z",
     "iopub.status.busy": "2021-12-14T19:26:13.920895Z",
     "iopub.status.idle": "2021-12-14T19:26:13.925686Z",
     "shell.execute_reply": "2021-12-14T19:26:13.924523Z",
     "shell.execute_reply.started": "2021-12-14T19:26:13.921232Z"
    },
    "tags": []
   },
   "outputs": [],
   "source": [
    "OUTPUT_DIR = Path(\"figures\")"
   ]
  },
  {
   "cell_type": "markdown",
   "id": "limited-exhibit",
   "metadata": {},
   "source": [
    "## Set up R"
   ]
  },
  {
   "cell_type": "code",
   "execution_count": 4,
   "id": "occupied-chart",
   "metadata": {
    "execution": {
     "iopub.execute_input": "2021-12-14T19:26:13.927401Z",
     "iopub.status.busy": "2021-12-14T19:26:13.927050Z",
     "iopub.status.idle": "2021-12-14T19:26:14.761821Z",
     "shell.execute_reply": "2021-12-14T19:26:14.760364Z",
     "shell.execute_reply.started": "2021-12-14T19:26:13.927364Z"
    },
    "tags": []
   },
   "outputs": [],
   "source": [
    "%load_ext rpy2.ipython"
   ]
  },
  {
   "cell_type": "code",
   "execution_count": 5,
   "id": "advance-laser",
   "metadata": {
    "execution": {
     "iopub.execute_input": "2021-12-14T19:26:14.764626Z",
     "iopub.status.busy": "2021-12-14T19:26:14.764165Z",
     "iopub.status.idle": "2021-12-14T19:26:15.770990Z",
     "shell.execute_reply": "2021-12-14T19:26:15.770071Z",
     "shell.execute_reply.started": "2021-12-14T19:26:14.764581Z"
    },
    "tags": []
   },
   "outputs": [],
   "source": [
    "%%R\n",
    "library(broom)"
   ]
  },
  {
   "cell_type": "markdown",
   "id": "established-prison",
   "metadata": {},
   "source": [
    "## Load data"
   ]
  },
  {
   "cell_type": "code",
   "execution_count": 6,
   "id": "christian-newfoundland",
   "metadata": {
    "execution": {
     "iopub.execute_input": "2021-12-14T19:26:15.772724Z",
     "iopub.status.busy": "2021-12-14T19:26:15.772369Z",
     "iopub.status.idle": "2021-12-14T19:26:15.995912Z",
     "shell.execute_reply": "2021-12-14T19:26:15.994939Z",
     "shell.execute_reply.started": "2021-12-14T19:26:15.772690Z"
    },
    "tags": []
   },
   "outputs": [],
   "source": [
    "data = (\n",
    "    pd.read_parquet(\"results/main.parquet\")\n",
    "    .merge(\n",
    "        pd.read_parquet(\"results/stimulus_properties.parquet\"),\n",
    "        on='stimulus'\n",
    "    )\n",
    ")"
   ]
  },
  {
   "cell_type": "code",
   "execution_count": 7,
   "id": "accompanied-speed",
   "metadata": {
    "execution": {
     "iopub.execute_input": "2021-12-14T19:26:15.997781Z",
     "iopub.status.busy": "2021-12-14T19:26:15.997420Z",
     "iopub.status.idle": "2021-12-14T19:26:16.010675Z",
     "shell.execute_reply": "2021-12-14T19:26:16.009709Z",
     "shell.execute_reply.started": "2021-12-14T19:26:15.997744Z"
    },
    "tags": []
   },
   "outputs": [],
   "source": [
    "# Only L2/3 of AL & AM\n",
    "data = data.loc[\n",
    "    (data[\"layer\"] == \"L2/3\") &\n",
    "    data[\"area\"].isin([\"AL\", \"AM\"])\n",
    "]"
   ]
  },
  {
   "cell_type": "code",
   "execution_count": 8,
   "id": "cardiovascular-candy",
   "metadata": {
    "execution": {
     "iopub.execute_input": "2021-12-14T19:26:16.012401Z",
     "iopub.status.busy": "2021-12-14T19:26:16.012052Z",
     "iopub.status.idle": "2021-12-14T19:26:16.016474Z",
     "shell.execute_reply": "2021-12-14T19:26:16.015625Z",
     "shell.execute_reply.started": "2021-12-14T19:26:16.012365Z"
    },
    "tags": []
   },
   "outputs": [],
   "source": [
    "response = \"log(normalized differentiation)\""
   ]
  },
  {
   "cell_type": "markdown",
   "id": "signal-figure",
   "metadata": {},
   "source": [
    "## Plotting function"
   ]
  },
  {
   "cell_type": "code",
   "execution_count": 9,
   "id": "contrary-string",
   "metadata": {
    "execution": {
     "iopub.execute_input": "2021-12-14T19:26:16.018165Z",
     "iopub.status.busy": "2021-12-14T19:26:16.017835Z",
     "iopub.status.idle": "2021-12-14T19:26:16.028530Z",
     "shell.execute_reply": "2021-12-14T19:26:16.027618Z",
     "shell.execute_reply.started": "2021-12-14T19:26:16.018131Z"
    },
    "tags": []
   },
   "outputs": [],
   "source": [
    "def plot_stimulus_property(data, x, y, fig=None, ax=None):\n",
    "    # Average by stimulus\n",
    "    data = data.groupby(\"stimulus\").mean().reset_index()\n",
    "    \n",
    "    if fig is None and ax is None:\n",
    "        fig, ax = plt.subplots(figsize=(8, 8))\n",
    "\n",
    "    ax = sb.scatterplot(\n",
    "        data=data,\n",
    "        x=x,\n",
    "        y=y,\n",
    "        edgecolor=None,\n",
    "        color=\"#555\",\n",
    "        marker=\"o\",\n",
    "        s=85,\n",
    "        ax=ax,\n",
    "    )\n",
    "    \n",
    "    if x == \"mean luminance\":\n",
    "        ax.set_xlim(0, 255)\n",
    "        ax.set_xticks([0, 64, 128, 192, 256])\n",
    "    \n",
    "    ax.set_xlabel(\"\\n\" + x.replace(\"_\", \" \"))\n",
    "    ax.set_ylabel(\"neurophysiological differentiation\\n\")\n",
    "\n",
    "    # Add annotations\n",
    "    annotations = [\n",
    "        ax.text(\n",
    "            row[x],\n",
    "            row[y],\n",
    "            row[\"stimulus\"],\n",
    "            size=\"small\",\n",
    "        )\n",
    "        for idx, row in data.iterrows()\n",
    "    ]\n",
    "\n",
    "    return fig, ax"
   ]
  },
  {
   "cell_type": "markdown",
   "id": "presidential-springer",
   "metadata": {},
   "source": [
    "## Figure 8"
   ]
  },
  {
   "cell_type": "code",
   "execution_count": 10,
   "id": "congressional-appeal",
   "metadata": {
    "execution": {
     "iopub.execute_input": "2021-12-14T19:26:16.032204Z",
     "iopub.status.busy": "2021-12-14T19:26:16.031864Z",
     "iopub.status.idle": "2021-12-14T19:26:16.036380Z",
     "shell.execute_reply": "2021-12-14T19:26:16.035484Z",
     "shell.execute_reply.started": "2021-12-14T19:26:16.032169Z"
    },
    "tags": []
   },
   "outputs": [],
   "source": [
    "x = \"log(stimulus differentiation)\""
   ]
  },
  {
   "cell_type": "code",
   "execution_count": 11,
   "id": "accepting-rates",
   "metadata": {
    "execution": {
     "iopub.execute_input": "2021-12-14T19:26:16.038059Z",
     "iopub.status.busy": "2021-12-14T19:26:16.037713Z",
     "iopub.status.idle": "2021-12-14T19:26:16.042092Z",
     "shell.execute_reply": "2021-12-14T19:26:16.041213Z",
     "shell.execute_reply.started": "2021-12-14T19:26:16.038025Z"
    },
    "tags": []
   },
   "outputs": [],
   "source": [
    "y = \"log(normalized differentiation)\""
   ]
  },
  {
   "cell_type": "code",
   "execution_count": 12,
   "id": "d5903a0b-073e-47f7-a2bb-55252d751b40",
   "metadata": {
    "execution": {
     "iopub.execute_input": "2021-12-14T19:26:16.043729Z",
     "iopub.status.busy": "2021-12-14T19:26:16.043404Z",
     "iopub.status.idle": "2021-12-14T19:26:16.767407Z",
     "shell.execute_reply": "2021-12-14T19:26:16.766601Z",
     "shell.execute_reply.started": "2021-12-14T19:26:16.043695Z"
    },
    "tags": []
   },
   "outputs": [
    {
     "data": {
      "text/plain": [
       "PosixPath('figures/fig_8/nd_vs_stimulus_differentiation.svg')"
      ]
     },
     "execution_count": 12,
     "metadata": {},
     "output_type": "execute_result"
    },
    {
     "data": {
      "image/png": "[encoded data removed]",
      "text/plain": [
       "<Figure size 576x576 with 1 Axes>"
      ]
     },
     "metadata": {
      "needs_background": "light"
     },
     "output_type": "display_data"
    }
   ],
   "source": [
    "fig, ax = plot_stimulus_property(data, x, y)\n",
    "ax.set_xlabel(\"\\nstimulus differentiation\")\n",
    "analysis.savefig(fig, OUTPUT_DIR / \"fig_8/nd_vs_stimulus_differentiation\")"
   ]
  },
  {
   "cell_type": "markdown",
   "id": "cross-lithuania",
   "metadata": {},
   "source": [
    "### Correlation"
   ]
  },
  {
   "cell_type": "code",
   "execution_count": 13,
   "id": "41bbe0dd-c56c-41cf-a0bf-16886b2b551b",
   "metadata": {
    "execution": {
     "iopub.execute_input": "2021-12-14T19:26:16.768983Z",
     "iopub.status.busy": "2021-12-14T19:26:16.768642Z",
     "iopub.status.idle": "2021-12-14T19:26:16.791174Z",
     "shell.execute_reply": "2021-12-14T19:26:16.790430Z",
     "shell.execute_reply.started": "2021-12-14T19:26:16.768947Z"
    },
    "tags": []
   },
   "outputs": [
    {
     "data": {
      "text/html": [
       "<div>\n",
       "<style scoped>\n",
       "    .dataframe tbody tr th:only-of-type {\n",
       "        vertical-align: middle;\n",
       "    }\n",
       "\n",
       "    .dataframe tbody tr th {\n",
       "        vertical-align: top;\n",
       "    }\n",
       "\n",
       "    .dataframe thead th {\n",
       "        text-align: right;\n",
       "    }\n",
       "</style>\n",
       "<table border=\"1\" class=\"dataframe\">\n",
       "  <thead>\n",
       "    <tr style=\"text-align: right;\">\n",
       "      <th></th>\n",
       "      <th>log(stimulus differentiation)</th>\n",
       "      <th>log(normalized differentiation)</th>\n",
       "    </tr>\n",
       "    <tr>\n",
       "      <th>stimulus</th>\n",
       "      <th></th>\n",
       "      <th></th>\n",
       "    </tr>\n",
       "  </thead>\n",
       "  <tbody>\n",
       "    <tr>\n",
       "      <th>conspecifics</th>\n",
       "      <td>9.058418</td>\n",
       "      <td>1.923011</td>\n",
       "    </tr>\n",
       "    <tr>\n",
       "      <th>crickets (prey)</th>\n",
       "      <td>8.410413</td>\n",
       "      <td>1.884264</td>\n",
       "    </tr>\n",
       "    <tr>\n",
       "      <th>human montage</th>\n",
       "      <td>9.203046</td>\n",
       "      <td>1.963054</td>\n",
       "    </tr>\n",
       "    <tr>\n",
       "      <th>man writing</th>\n",
       "      <td>8.232706</td>\n",
       "      <td>2.031114</td>\n",
       "    </tr>\n",
       "    <tr>\n",
       "      <th>mouse montage 1</th>\n",
       "      <td>9.340178</td>\n",
       "      <td>2.199659</td>\n",
       "    </tr>\n",
       "    <tr>\n",
       "      <th>mouse montage 1, spatial phase scramble</th>\n",
       "      <td>9.305122</td>\n",
       "      <td>1.979156</td>\n",
       "    </tr>\n",
       "    <tr>\n",
       "      <th>mouse montage 1, temporal phase scramble</th>\n",
       "      <td>9.341091</td>\n",
       "      <td>1.952077</td>\n",
       "    </tr>\n",
       "    <tr>\n",
       "      <th>mouse montage 2</th>\n",
       "      <td>9.309863</td>\n",
       "      <td>2.319619</td>\n",
       "    </tr>\n",
       "    <tr>\n",
       "      <th>mousecam</th>\n",
       "      <td>9.309972</td>\n",
       "      <td>2.135238</td>\n",
       "    </tr>\n",
       "    <tr>\n",
       "      <th>mousecam, spatial phase scramble</th>\n",
       "      <td>9.356628</td>\n",
       "      <td>1.850094</td>\n",
       "    </tr>\n",
       "    <tr>\n",
       "      <th>noise</th>\n",
       "      <td>6.922619</td>\n",
       "      <td>1.437999</td>\n",
       "    </tr>\n",
       "    <tr>\n",
       "      <th>snake (predator)</th>\n",
       "      <td>9.059967</td>\n",
       "      <td>1.940168</td>\n",
       "    </tr>\n",
       "  </tbody>\n",
       "</table>\n",
       "</div>"
      ],
      "text/plain": [
       "                                          log(stimulus differentiation)  \\\n",
       "stimulus                                                                  \n",
       "conspecifics                                                   9.058418   \n",
       "crickets (prey)                                                8.410413   \n",
       "human montage                                                  9.203046   \n",
       "man writing                                                    8.232706   \n",
       "mouse montage 1                                                9.340178   \n",
       "mouse montage 1, spatial phase scramble                        9.305122   \n",
       "mouse montage 1, temporal phase scramble                       9.341091   \n",
       "mouse montage 2                                                9.309863   \n",
       "mousecam                                                       9.309972   \n",
       "mousecam, spatial phase scramble                               9.356628   \n",
       "noise                                                          6.922619   \n",
       "snake (predator)                                               9.059967   \n",
       "\n",
       "                                          log(normalized differentiation)  \n",
       "stimulus                                                                   \n",
       "conspecifics                                                     1.923011  \n",
       "crickets (prey)                                                  1.884264  \n",
       "human montage                                                    1.963054  \n",
       "man writing                                                      2.031114  \n",
       "mouse montage 1                                                  2.199659  \n",
       "mouse montage 1, spatial phase scramble                          1.979156  \n",
       "mouse montage 1, temporal phase scramble                         1.952077  \n",
       "mouse montage 2                                                  2.319619  \n",
       "mousecam                                                         2.135238  \n",
       "mousecam, spatial phase scramble                                 1.850094  \n",
       "noise                                                            1.437999  \n",
       "snake (predator)                                                 1.940168  "
      ]
     },
     "execution_count": 13,
     "metadata": {},
     "output_type": "execute_result"
    }
   ],
   "source": [
    "df = data.groupby(\"stimulus\").mean().loc[:, [x, y]]\n",
    "df"
   ]
  },
  {
   "cell_type": "code",
   "execution_count": 14,
   "id": "b1b53898-e42d-4222-a5eb-fdb85829ea54",
   "metadata": {
    "execution": {
     "iopub.execute_input": "2021-12-14T19:26:16.792800Z",
     "iopub.status.busy": "2021-12-14T19:26:16.792441Z",
     "iopub.status.idle": "2021-12-14T19:26:16.850088Z",
     "shell.execute_reply": "2021-12-14T19:26:16.849053Z",
     "shell.execute_reply.started": "2021-12-14T19:26:16.792761Z"
    },
    "tags": []
   },
   "outputs": [
    {
     "name": "stdout",
     "output_type": "stream",
     "text": [
      "\n",
      "\tPearson's product-moment correlation\n",
      "\n",
      "data:  x and y\n",
      "t = 3.5419, df = 10, p-value = 0.00267\n",
      "alternative hypothesis: true correlation is greater than 0\n",
      "95 percent confidence interval:\n",
      " 0.3931238 1.0000000\n",
      "sample estimates:\n",
      "      cor \n",
      "0.7459556 \n",
      "\n"
     ]
    }
   ],
   "source": [
    "%%R -i df -i x -i response\n",
    "\n",
    "x = df[[x]]\n",
    "y = df[[response]]\n",
    "\n",
    "print(cor.test(x, y, method=\"pearson\", alternative=\"greater\"))"
   ]
  },
  {
   "cell_type": "markdown",
   "id": "quantitative-terrorist",
   "metadata": {},
   "source": [
    "### Noise stimulus has high influence"
   ]
  },
  {
   "cell_type": "code",
   "execution_count": 15,
   "id": "behavioral-mitchell",
   "metadata": {
    "execution": {
     "iopub.execute_input": "2021-12-14T19:26:16.851925Z",
     "iopub.status.busy": "2021-12-14T19:26:16.851546Z",
     "iopub.status.idle": "2021-12-14T19:26:16.858458Z",
     "shell.execute_reply": "2021-12-14T19:26:16.857539Z",
     "shell.execute_reply.started": "2021-12-14T19:26:16.851885Z"
    },
    "tags": []
   },
   "outputs": [
    {
     "data": {
      "text/plain": [
       "'`log(normalized differentiation)` ~ `log(stimulus differentiation)`'"
      ]
     },
     "execution_count": 15,
     "metadata": {},
     "output_type": "execute_result"
    }
   ],
   "source": [
    "formula = f\"`{response}` ~ `{x}`\"\n",
    "formula"
   ]
  },
  {
   "cell_type": "code",
   "execution_count": 16,
   "id": "biological-tampa",
   "metadata": {
    "execution": {
     "iopub.execute_input": "2021-12-14T19:26:16.860149Z",
     "iopub.status.busy": "2021-12-14T19:26:16.859791Z",
     "iopub.status.idle": "2021-12-14T19:26:17.225604Z",
     "shell.execute_reply": "2021-12-14T19:26:17.224468Z",
     "shell.execute_reply.started": "2021-12-14T19:26:16.860115Z"
    },
    "tags": []
   },
   "outputs": [
    {
     "name": "stderr",
     "output_type": "stream",
     "text": [
      "/home/wmayner/miniconda3/envs/openscope-differentiation-test3/lib/python3.8/site-packages/pandas/core/arrays/datetimes.py:2085: PytzUsageWarning: The zone attribute is specific to pytz's interface; please migrate to a new time zone provider. For more details on how to do so, see https://pytz-deprecation-shim.readthedocs.io/en/latest/migration.html\n",
      "  values, tz_parsed = conversion.datetime_to_datetime64(data)\n",
      "/home/wmayner/miniconda3/envs/openscope-differentiation-test3/lib/python3.8/site-packages/pandas/core/arrays/datetimes.py:2201: PytzUsageWarning: The zone attribute is specific to pytz's interface; please migrate to a new time zone provider. For more details on how to do so, see https://pytz-deprecation-shim.readthedocs.io/en/latest/migration.html\n",
      "  elif not timezones.tz_compare(tz, inferred_tz):\n",
      "/home/wmayner/miniconda3/envs/openscope-differentiation-test3/lib/python3.8/site-packages/pandas/core/arrays/datetimes.py:2282: PytzUsageWarning: The zone attribute is specific to pytz's interface; please migrate to a new time zone provider. For more details on how to do so, see https://pytz-deprecation-shim.readthedocs.io/en/latest/migration.html\n",
      "  if tz is not None and not timezones.tz_compare(tz, dtz):\n",
      "/home/wmayner/miniconda3/envs/openscope-differentiation-test3/lib/python3.8/site-packages/pandas/core/dtypes/cast.py:1329: PytzUsageWarning: The zone attribute is specific to pytz's interface; please migrate to a new time zone provider. For more details on how to do so, see https://pytz-deprecation-shim.readthedocs.io/en/latest/migration.html\n",
      "  values, tz = conversion.datetime_to_datetime64(v)\n"
     ]
    }
   ],
   "source": [
    "%%R -i data -i formula -o cooks_d\n",
    "\n",
    "model = lm(formula, data=df)\n",
    "cooks_d = cooks.distance(model)\n",
    "cooks_d = tidy(cooks_d)"
   ]
  },
  {
   "cell_type": "code",
   "execution_count": 17,
   "id": "7affe783-0e0e-487f-ad6a-202dba19d47c",
   "metadata": {
    "execution": {
     "iopub.execute_input": "2021-12-14T19:26:17.227551Z",
     "iopub.status.busy": "2021-12-14T19:26:17.227158Z",
     "iopub.status.idle": "2021-12-14T19:26:17.244237Z",
     "shell.execute_reply": "2021-12-14T19:26:17.243303Z",
     "shell.execute_reply.started": "2021-12-14T19:26:17.227510Z"
    },
    "tags": []
   },
   "outputs": [
    {
     "data": {
      "text/html": [
       "<div>\n",
       "<style scoped>\n",
       "    .dataframe tbody tr th:only-of-type {\n",
       "        vertical-align: middle;\n",
       "    }\n",
       "\n",
       "    .dataframe tbody tr th {\n",
       "        vertical-align: top;\n",
       "    }\n",
       "\n",
       "    .dataframe thead th {\n",
       "        text-align: right;\n",
       "    }\n",
       "</style>\n",
       "<table border=\"1\" class=\"dataframe\">\n",
       "  <thead>\n",
       "    <tr style=\"text-align: right;\">\n",
       "      <th></th>\n",
       "      <th>names</th>\n",
       "      <th>Cook's d</th>\n",
       "    </tr>\n",
       "  </thead>\n",
       "  <tbody>\n",
       "    <tr>\n",
       "      <th>11</th>\n",
       "      <td>noise</td>\n",
       "      <td>2.317680</td>\n",
       "    </tr>\n",
       "    <tr>\n",
       "      <th>4</th>\n",
       "      <td>man writing</td>\n",
       "      <td>0.224292</td>\n",
       "    </tr>\n",
       "    <tr>\n",
       "      <th>8</th>\n",
       "      <td>mouse montage 2</td>\n",
       "      <td>0.212324</td>\n",
       "    </tr>\n",
       "    <tr>\n",
       "      <th>10</th>\n",
       "      <td>mousecam, spatial phase scramble</td>\n",
       "      <td>0.158827</td>\n",
       "    </tr>\n",
       "    <tr>\n",
       "      <th>5</th>\n",
       "      <td>mouse montage 1</td>\n",
       "      <td>0.059372</td>\n",
       "    </tr>\n",
       "    <tr>\n",
       "      <th>7</th>\n",
       "      <td>mouse montage 1, temporal phase scramble</td>\n",
       "      <td>0.041309</td>\n",
       "    </tr>\n",
       "    <tr>\n",
       "      <th>9</th>\n",
       "      <td>mousecam</td>\n",
       "      <td>0.018565</td>\n",
       "    </tr>\n",
       "    <tr>\n",
       "      <th>6</th>\n",
       "      <td>mouse montage 1, spatial phase scramble</td>\n",
       "      <td>0.018514</td>\n",
       "    </tr>\n",
       "    <tr>\n",
       "      <th>1</th>\n",
       "      <td>conspecifics</td>\n",
       "      <td>0.014396</td>\n",
       "    </tr>\n",
       "    <tr>\n",
       "      <th>3</th>\n",
       "      <td>human montage</td>\n",
       "      <td>0.013451</td>\n",
       "    </tr>\n",
       "    <tr>\n",
       "      <th>12</th>\n",
       "      <td>snake (predator)</td>\n",
       "      <td>0.008937</td>\n",
       "    </tr>\n",
       "    <tr>\n",
       "      <th>2</th>\n",
       "      <td>crickets (prey)</td>\n",
       "      <td>0.002359</td>\n",
       "    </tr>\n",
       "  </tbody>\n",
       "</table>\n",
       "</div>"
      ],
      "text/plain": [
       "                                       names  Cook's d\n",
       "11                                     noise  2.317680\n",
       "4                                man writing  0.224292\n",
       "8                            mouse montage 2  0.212324\n",
       "10          mousecam, spatial phase scramble  0.158827\n",
       "5                            mouse montage 1  0.059372\n",
       "7   mouse montage 1, temporal phase scramble  0.041309\n",
       "9                                   mousecam  0.018565\n",
       "6    mouse montage 1, spatial phase scramble  0.018514\n",
       "1                               conspecifics  0.014396\n",
       "3                              human montage  0.013451\n",
       "12                          snake (predator)  0.008937\n",
       "2                            crickets (prey)  0.002359"
      ]
     },
     "execution_count": 17,
     "metadata": {},
     "output_type": "execute_result"
    }
   ],
   "source": [
    "cooks_d = (\n",
    "    cooks_d\n",
    "    .rename(columns=dict(x=\"Cook's d\"))\n",
    "    .sort_values(\"Cook's d\", ascending=False)\n",
    ")\n",
    "cooks_d"
   ]
  },
  {
   "cell_type": "markdown",
   "id": "approximate-sacramento",
   "metadata": {},
   "source": [
    "### Correlation without noise stimulus"
   ]
  },
  {
   "cell_type": "code",
   "execution_count": 18,
   "id": "young-alliance",
   "metadata": {
    "execution": {
     "iopub.execute_input": "2021-12-14T19:26:17.245990Z",
     "iopub.status.busy": "2021-12-14T19:26:17.245634Z",
     "iopub.status.idle": "2021-12-14T19:26:17.251123Z",
     "shell.execute_reply": "2021-12-14T19:26:17.250238Z",
     "shell.execute_reply.started": "2021-12-14T19:26:17.245954Z"
    },
    "tags": []
   },
   "outputs": [],
   "source": [
    "subset = df.loc[df.index != \"noise\"]"
   ]
  },
  {
   "cell_type": "code",
   "execution_count": 19,
   "id": "f1f0518c-16be-477f-947a-b57731fd7343",
   "metadata": {
    "execution": {
     "iopub.execute_input": "2021-12-14T19:26:17.252716Z",
     "iopub.status.busy": "2021-12-14T19:26:17.252400Z",
     "iopub.status.idle": "2021-12-14T19:26:17.300291Z",
     "shell.execute_reply": "2021-12-14T19:26:17.299249Z",
     "shell.execute_reply.started": "2021-12-14T19:26:17.252683Z"
    },
    "tags": []
   },
   "outputs": [
    {
     "name": "stdout",
     "output_type": "stream",
     "text": [
      "\n",
      "\tPearson's product-moment correlation\n",
      "\n",
      "data:  x and y\n",
      "t = 0.80131, df = 9, p-value = 0.2218\n",
      "alternative hypothesis: true correlation is greater than 0\n",
      "95 percent confidence interval:\n",
      " -0.3072614  1.0000000\n",
      "sample estimates:\n",
      "      cor \n",
      "0.2580565 \n",
      "\n"
     ]
    }
   ],
   "source": [
    "%%R -i subset -i x -i response\n",
    "\n",
    "x = subset[[x]]\n",
    "y = subset[[response]]\n",
    "\n",
    "print(cor.test(x, y, method=\"pearson\", alternative=\"greater\"))"
   ]
  },
  {
   "cell_type": "markdown",
   "id": "british-devon",
   "metadata": {},
   "source": [
    "### Correlation among controlled stimuli"
   ]
  },
  {
   "cell_type": "code",
   "execution_count": 20,
   "id": "surgical-notification",
   "metadata": {
    "execution": {
     "iopub.execute_input": "2021-12-14T19:26:17.302167Z",
     "iopub.status.busy": "2021-12-14T19:26:17.301786Z",
     "iopub.status.idle": "2021-12-14T19:26:17.307676Z",
     "shell.execute_reply": "2021-12-14T19:26:17.306728Z",
     "shell.execute_reply.started": "2021-12-14T19:26:17.302126Z"
    },
    "tags": []
   },
   "outputs": [],
   "source": [
    "subset = df.loc[df.index.isin(UNSCRAMBLED_SCRAMBLED)]"
   ]
  },
  {
   "cell_type": "code",
   "execution_count": 21,
   "id": "6e58a52c-43f8-4be7-93e2-558cdf3c7ed9",
   "metadata": {
    "execution": {
     "iopub.execute_input": "2021-12-14T19:26:17.309436Z",
     "iopub.status.busy": "2021-12-14T19:26:17.309083Z",
     "iopub.status.idle": "2021-12-14T19:26:17.356292Z",
     "shell.execute_reply": "2021-12-14T19:26:17.355289Z",
     "shell.execute_reply.started": "2021-12-14T19:26:17.309401Z"
    },
    "tags": []
   },
   "outputs": [
    {
     "name": "stdout",
     "output_type": "stream",
     "text": [
      "\n",
      "\tPearson's product-moment correlation\n",
      "\n",
      "data:  x and y\n",
      "t = -0.70814, df = 3, p-value = 0.5299\n",
      "alternative hypothesis: true correlation is not equal to 0\n",
      "95 percent confidence interval:\n",
      " -0.9451384  0.7563673\n",
      "sample estimates:\n",
      "       cor \n",
      "-0.3784362 \n",
      "\n"
     ]
    }
   ],
   "source": [
    "%%R -i subset -i x -i response\n",
    "\n",
    "x = subset[[x]]\n",
    "y = subset[[response]]\n",
    "\n",
    "print(cor.test(x, y, method=\"pearson\", alternative=\"two.sided\"))"
   ]
  },
  {
   "cell_type": "markdown",
   "id": "flexible-traffic",
   "metadata": {},
   "source": [
    "## Figure 8-1"
   ]
  },
  {
   "cell_type": "code",
   "execution_count": 22,
   "id": "0e00b195-e252-43cd-8ae6-494b85a6a1eb",
   "metadata": {
    "execution": {
     "iopub.execute_input": "2021-12-14T19:26:17.358258Z",
     "iopub.status.busy": "2021-12-14T19:26:17.357868Z",
     "iopub.status.idle": "2021-12-14T19:26:18.852463Z",
     "shell.execute_reply": "2021-12-14T19:26:18.851486Z",
     "shell.execute_reply.started": "2021-12-14T19:26:17.358218Z"
    },
    "tags": []
   },
   "outputs": [
    {
     "data": {
      "text/plain": [
       "PosixPath('figures/fig_8-1/nd_vs_stimulus_properties.svg')"
      ]
     },
     "execution_count": 22,
     "metadata": {},
     "output_type": "execute_result"
    },
    {
     "data": {
      "image/png": "[encoded data removed]",
      "text/plain": [
       "<Figure size 1584x432 with 3 Axes>"
      ]
     },
     "metadata": {
      "needs_background": "light"
     },
     "output_type": "display_data"
    }
   ],
   "source": [
    "fig, grid = plt.subplots(nrows=1, ncols=3, sharey=True, figsize=(22, 6))\n",
    "\n",
    "x = \"mean luminance\"\n",
    "fig, ax = plot_stimulus_property(data, x, y, fig=fig, ax=grid[0])\n",
    "\n",
    "x = \"contrast\"\n",
    "fig, ax = plot_stimulus_property(data, x, y, fig=fig, ax=grid[1])\n",
    "ax.set_ylabel(\"\")\n",
    "\n",
    "x = \"spectral energy\"\n",
    "fig, ax = plot_stimulus_property(data, x, y, fig=fig, ax=grid[2])\n",
    "ax.set_ylabel(\"\")\n",
    "\n",
    "analysis.savefig(fig, OUTPUT_DIR / \"fig_8-1/nd_vs_stimulus_properties\")"
   ]
  }
 ],
 "metadata": {
  "kernelspec": {
   "display_name": "Python 3 (ipykernel)",
   "language": "python",
   "name": "python3"
  },
  "language_info": {
   "codemirror_mode": {
    "name": "ipython",
    "version": 3
   },
   "file_extension": ".py",
   "mimetype": "text/x-python",
   "name": "python",
   "nbconvert_exporter": "python",
   "pygments_lexer": "ipython3",
   "version": "3.8.8"
  },
  "toc-autonumbering": false,
  "toc-showmarkdowntxt": false,
  "widgets": {
   "application/vnd.jupyter.widget-state+json": {
    "state": {},
    "version_major": 2,
    "version_minor": 0
   }
  }
 },
 "nbformat": 4,
 "nbformat_minor": 5
}
