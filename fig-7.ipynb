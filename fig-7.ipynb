{
 "cells": [
  {
   "cell_type": "markdown",
   "id": "serious-summit",
   "metadata": {},
   "source": [
    "# Figure 7\n",
    "\n",
    "Pairwise differences in neurophysiological differentiation among stimuli"
   ]
  },
  {
   "cell_type": "code",
   "execution_count": 1,
   "id": "introductory-mambo",
   "metadata": {},
   "outputs": [],
   "source": [
    "from itertools import product\n",
    "from pathlib import Path\n",
    "\n",
    "import pandas as pd\n",
    "from IPython.display import Image\n",
    "\n",
    "import analysis\n",
    "from analysis import CONTINUOUS_NATURAL\n",
    "from metadata import STIMULUS_METADATA"
   ]
  },
  {
   "cell_type": "code",
   "execution_count": 2,
   "id": "intermediate-summer",
   "metadata": {},
   "outputs": [],
   "source": [
    "OUTPUT_DIR = Path('figures')"
   ]
  },
  {
   "cell_type": "markdown",
   "id": "american-qualification",
   "metadata": {},
   "source": [
    "## Set up R"
   ]
  },
  {
   "cell_type": "code",
   "execution_count": 3,
   "id": "liable-iraqi",
   "metadata": {},
   "outputs": [],
   "source": [
    "%load_ext rpy2.ipython"
   ]
  },
  {
   "cell_type": "code",
   "execution_count": 4,
   "id": "usual-observation",
   "metadata": {
    "tags": []
   },
   "outputs": [
    {
     "name": "stderr",
     "output_type": "stream",
     "text": [
      "R[write to console]: Registered S3 methods overwritten by 'ggplot2':\n",
      "  method         from \n",
      "  [.quosures     rlang\n",
      "  c.quosures     rlang\n",
      "  print.quosures rlang\n",
      "\n",
      "R[write to console]: Registered S3 method overwritten by 'rvest':\n",
      "  method            from\n",
      "  read_xml.response xml2\n",
      "\n",
      "R[write to console]: ── \u001b[1mAttaching packages\u001b[22m ─────────────────────────────────────── tidyverse 1.2.1 ──\n",
      "\n",
      "R[write to console]: \u001b[32m✔\u001b[39m \u001b[34mggplot2\u001b[39m 3.1.1       \u001b[32m✔\u001b[39m \u001b[34mpurrr  \u001b[39m 0.3.2  \n",
      "\u001b[32m✔\u001b[39m \u001b[34mtibble \u001b[39m 2.1.1       \u001b[32m✔\u001b[39m \u001b[34mdplyr  \u001b[39m 0.8.0.\u001b[31m1\u001b[39m\n",
      "\u001b[32m✔\u001b[39m \u001b[34mtidyr  \u001b[39m 0.8.3       \u001b[32m✔\u001b[39m \u001b[34mstringr\u001b[39m 1.4.0  \n",
      "\u001b[32m✔\u001b[39m \u001b[34mreadr  \u001b[39m 1.3.1       \u001b[32m✔\u001b[39m \u001b[34mforcats\u001b[39m 0.4.0  \n",
      "\n",
      "R[write to console]: ── \u001b[1mConflicts\u001b[22m ────────────────────────────────────────── tidyverse_conflicts() ──\n",
      "\u001b[31m✖\u001b[39m \u001b[34mdplyr\u001b[39m::\u001b[32mfilter()\u001b[39m masks \u001b[34mstats\u001b[39m::filter()\n",
      "\u001b[31m✖\u001b[39m \u001b[34mdplyr\u001b[39m::\u001b[32mlag()\u001b[39m    masks \u001b[34mstats\u001b[39m::lag()\n",
      "\n",
      "R[write to console]: Loading required package: Matrix\n",
      "\n",
      "R[write to console]: \n",
      "Attaching package: ‘Matrix’\n",
      "\n",
      "\n",
      "R[write to console]: The following object is masked from ‘package:tidyr’:\n",
      "\n",
      "    expand\n",
      "\n",
      "\n",
      "R[write to console]: Loading required package: mvtnorm\n",
      "\n",
      "R[write to console]: Loading required package: survival\n",
      "\n",
      "R[write to console]: Loading required package: TH.data\n",
      "\n",
      "R[write to console]: Loading required package: MASS\n",
      "\n",
      "R[write to console]: \n",
      "Attaching package: ‘MASS’\n",
      "\n",
      "\n",
      "R[write to console]: The following object is masked from ‘package:dplyr’:\n",
      "\n",
      "    select\n",
      "\n",
      "\n",
      "R[write to console]: \n",
      "Attaching package: ‘TH.data’\n",
      "\n",
      "\n",
      "R[write to console]: The following object is masked from ‘package:MASS’:\n",
      "\n",
      "    geyser\n",
      "\n",
      "\n"
     ]
    }
   ],
   "source": [
    "%%R\n",
    "library(tidyverse)\n",
    "library(broom)\n",
    "library(ggplot2)\n",
    "library(lme4)\n",
    "library(multcomp)\n",
    "library(emmeans)\n",
    "\n",
    "theme_set(theme_minimal())"
   ]
  },
  {
   "cell_type": "markdown",
   "id": "known-retrieval",
   "metadata": {},
   "source": [
    "## Load data"
   ]
  },
  {
   "cell_type": "code",
   "execution_count": 5,
   "id": "duplicate-system",
   "metadata": {},
   "outputs": [],
   "source": [
    "df = pd.read_parquet(\"results/main.parquet\")"
   ]
  },
  {
   "cell_type": "code",
   "execution_count": 6,
   "id": "imposed-hunger",
   "metadata": {},
   "outputs": [],
   "source": [
    "# Compare continuous natural stimuli\n",
    "df = df.loc[\n",
    "    df['stimulus'].isin(CONTINUOUS_NATURAL)\n",
    "]"
   ]
  },
  {
   "cell_type": "code",
   "execution_count": 7,
   "id": "cooperative-light",
   "metadata": {},
   "outputs": [],
   "source": [
    "response = \"log(normalized differentiation)\""
   ]
  },
  {
   "cell_type": "markdown",
   "id": "mounted-sixth",
   "metadata": {},
   "source": [
    "## Fit model"
   ]
  },
  {
   "cell_type": "code",
   "execution_count": 8,
   "id": "143554c4-21d0-4754-a10f-0a2759b1817a",
   "metadata": {},
   "outputs": [
    {
     "data": {
      "text/plain": [
       "array(['conspecifics', 'crickets (prey)', 'man writing', 'mousecam',\n",
       "       'snake (predator)'], dtype=object)"
      ]
     },
     "execution_count": 8,
     "metadata": {},
     "output_type": "execute_result"
    }
   ],
   "source": [
    "df.stimulus.unique()"
   ]
  },
  {
   "cell_type": "code",
   "execution_count": 9,
   "id": "typical-kennedy",
   "metadata": {},
   "outputs": [
    {
     "name": "stdout",
     "output_type": "stream",
     "text": [
      "`log(normalized differentiation)` ~ 1 + stimulus + (1 | session)\n",
      "`log(normalized differentiation)` ~ 1 + (1 | session)\n"
     ]
    }
   ],
   "source": [
    "formula = f\"`{response}` ~ 1 + stimulus + (1 | session)\"\n",
    "reduced_formula = f\"`{response}` ~ 1 + (1 | session)\"\n",
    "print(formula)\n",
    "print(reduced_formula)"
   ]
  },
  {
   "cell_type": "code",
   "execution_count": 10,
   "id": "accessory-observer",
   "metadata": {},
   "outputs": [
    {
     "name": "stdout",
     "output_type": "stream",
     "text": [
      "Data: df\n",
      "Models:\n",
      "reduced_model: `log(normalized differentiation)` ~ 1 + (1 | session)\n",
      "model: `log(normalized differentiation)` ~ 1 + stimulus + (1 | session)\n",
      "              Df    AIC    BIC  logLik deviance  Chisq Chi Df Pr(>Chisq)    \n",
      "reduced_model  3 2926.0 2943.1 -1460.0   2920.0                             \n",
      "model          7 2901.8 2941.7 -1443.9   2887.8 32.115      4  1.812e-06 ***\n",
      "---\n",
      "Signif. codes:  0 ‘***’ 0.001 ‘**’ 0.01 ‘*’ 0.05 ‘.’ 0.1 ‘ ’ 1\n"
     ]
    }
   ],
   "source": [
    "%%R -i df -i formula -i reduced_formula\n",
    "\n",
    "# Order factors\n",
    "df$stimulus = fct_relevel(\n",
    "    df$stimulus,\n",
    "    \"snake (predator)\",\n",
    "    \"mousecam\", \n",
    "    \"conspecifics\", \n",
    "    \"crickets (prey)\", \n",
    "    \"man writing\"\n",
    ")\n",
    "\n",
    "# Estimate models\n",
    "model = lmer(formula, data=df, REML=FALSE)\n",
    "reduced_model = lmer(reduced_formula, data=df, REML=FALSE)\n",
    "\n",
    "# Compare models\n",
    "model_comparison = anova(model, reduced_model)\n",
    "print(model_comparison)"
   ]
  },
  {
   "cell_type": "markdown",
   "id": "answering-alexander",
   "metadata": {},
   "source": [
    "### Post hoc tests of pairwise differences in estimated marginal means among stimuli"
   ]
  },
  {
   "cell_type": "code",
   "execution_count": 11,
   "id": "referenced-campus",
   "metadata": {
    "tags": []
   },
   "outputs": [
    {
     "name": "stderr",
     "output_type": "stream",
     "text": [
      "R[write to console]: Cannot use mode = \"kenward-roger\" because *pbkrtest* package is not installed\n",
      "\n",
      "R[write to console]: Cannot use mode = \"satterthwaite\" because *lmerTest* package is not installed\n",
      "\n"
     ]
    }
   ],
   "source": [
    "%%R -o pairwise_differences -o confidence_intervals\n",
    "\n",
    "# Estimate marginal means\n",
    "posthoc = emmeans(model, list(pairwise ~ stimulus), adjust='tukey', alternative='two.sided')\n",
    "confidence_intervals = confint(posthoc)\n",
    "# effect_sizes = eff_size(posthoc, sigma=sigma(model), edf=df.residual(model))\n",
    "\n",
    "means = posthoc$`emmeans of stimulus`\n",
    "pairwise_differences = posthoc$`pairwise differences of stimulus`"
   ]
  },
  {
   "cell_type": "code",
   "execution_count": 12,
   "id": "328607c9-9135-4525-bdaa-18ad9e50c220",
   "metadata": {},
   "outputs": [
    {
     "name": "stdout",
     "output_type": "stream",
     "text": [
      " 1                                  estimate     SE  df z.ratio p.value\n",
      " snake (predator) - mousecam          0.0560 0.0302 Inf 1.852   0.3434 \n",
      " snake (predator) - conspecifics      0.0975 0.0302 Inf 3.229   0.0109 \n",
      " snake (predator) - crickets (prey)   0.1186 0.0302 Inf 3.928   0.0008 \n",
      " snake (predator) - man writing       0.1585 0.0302 Inf 5.249   <.0001 \n",
      " mousecam - conspecifics              0.0416 0.0302 Inf 1.376   0.6430 \n",
      " mousecam - crickets (prey)           0.0627 0.0302 Inf 2.076   0.2306 \n",
      " mousecam - man writing               0.1026 0.0302 Inf 3.396   0.0061 \n",
      " conspecifics - crickets (prey)       0.0211 0.0302 Inf 0.699   0.9567 \n",
      " conspecifics - man writing           0.0610 0.0302 Inf 2.020   0.2562 \n",
      " crickets (prey) - man writing        0.0399 0.0302 Inf 1.321   0.6782 \n",
      "\n",
      "Degrees-of-freedom method: asymptotic \n",
      "P value adjustment: tukey method for comparing a family of 5 estimates \n",
      "\n"
     ]
    }
   ],
   "source": [
    "print(pairwise_differences)"
   ]
  },
  {
   "cell_type": "code",
   "execution_count": 13,
   "id": "c000505f-2733-4def-8b58-9b341efd0b20",
   "metadata": {},
   "outputs": [
    {
     "name": "stdout",
     "output_type": "stream",
     "text": [
      "$`emmeans of stimulus`\n",
      " stimulus         emmean     SE  df asymp.LCL asymp.UCL\n",
      " snake (predator)   2.07 0.0743 Inf      1.92      2.22\n",
      " mousecam           2.01 0.0743 Inf      1.87      2.16\n",
      " conspecifics       1.97 0.0743 Inf      1.83      2.12\n",
      " crickets (prey)    1.95 0.0743 Inf      1.81      2.10\n",
      " man writing        1.91 0.0743 Inf      1.77      2.06\n",
      "\n",
      "Degrees-of-freedom method: asymptotic \n",
      "Confidence level used: 0.95 \n",
      "\n",
      "$`pairwise differences of stimulus`\n",
      " 1                                  estimate     SE  df asymp.LCL asymp.UCL\n",
      " snake (predator) - mousecam          0.0560 0.0302 Inf   -0.0264     0.138\n",
      " snake (predator) - conspecifics      0.0975 0.0302 Inf    0.0151     0.180\n",
      " snake (predator) - crickets (prey)   0.1186 0.0302 Inf    0.0363     0.201\n",
      " snake (predator) - man writing       0.1585 0.0302 Inf    0.0761     0.241\n",
      " mousecam - conspecifics              0.0416 0.0302 Inf   -0.0408     0.124\n",
      " mousecam - crickets (prey)           0.0627 0.0302 Inf   -0.0197     0.145\n",
      " mousecam - man writing               0.1026 0.0302 Inf    0.0202     0.185\n",
      " conspecifics - crickets (prey)       0.0211 0.0302 Inf   -0.0613     0.104\n",
      " conspecifics - man writing           0.0610 0.0302 Inf   -0.0214     0.143\n",
      " crickets (prey) - man writing        0.0399 0.0302 Inf   -0.0425     0.122\n",
      "\n",
      "Degrees-of-freedom method: asymptotic \n",
      "Confidence level used: 0.95 \n",
      "Conf-level adjustment: tukey method for comparing a family of 5 estimates \n",
      "\n",
      "\n"
     ]
    }
   ],
   "source": [
    "print(confidence_intervals)"
   ]
  },
  {
   "cell_type": "code",
   "execution_count": 14,
   "id": "97ad1fb6-a87a-454b-972f-ab142706355c",
   "metadata": {},
   "outputs": [
    {
     "name": "stdout",
     "output_type": "stream",
     "text": [
      "snake (predator) – mousecam\n"
     ]
    },
    {
     "data": {
      "text/plain": [
       "mean difference    0.056\n",
       "Cohen's d          0.090\n",
       "dtype: float64"
      ]
     },
     "metadata": {},
     "output_type": "display_data"
    },
    {
     "name": "stdout",
     "output_type": "stream",
     "text": [
      "---\n",
      "snake (predator) – conspecifics\n"
     ]
    },
    {
     "data": {
      "text/plain": [
       "mean difference    0.098\n",
       "Cohen's d          0.156\n",
       "dtype: float64"
      ]
     },
     "metadata": {},
     "output_type": "display_data"
    },
    {
     "name": "stdout",
     "output_type": "stream",
     "text": [
      "---\n",
      "snake (predator) – crickets (prey)\n"
     ]
    },
    {
     "data": {
      "text/plain": [
       "mean difference    0.119\n",
       "Cohen's d          0.181\n",
       "dtype: float64"
      ]
     },
     "metadata": {},
     "output_type": "display_data"
    },
    {
     "name": "stdout",
     "output_type": "stream",
     "text": [
      "---\n",
      "snake (predator) – man writing\n"
     ]
    },
    {
     "data": {
      "text/plain": [
       "mean difference    0.159\n",
       "Cohen's d          0.232\n",
       "dtype: float64"
      ]
     },
     "metadata": {},
     "output_type": "display_data"
    },
    {
     "name": "stdout",
     "output_type": "stream",
     "text": [
      "---\n",
      "mousecam – conspecifics\n"
     ]
    },
    {
     "data": {
      "text/plain": [
       "mean difference    0.042\n",
       "Cohen's d          0.068\n",
       "dtype: float64"
      ]
     },
     "metadata": {},
     "output_type": "display_data"
    },
    {
     "name": "stdout",
     "output_type": "stream",
     "text": [
      "---\n",
      "mousecam – crickets (prey)\n"
     ]
    },
    {
     "data": {
      "text/plain": [
       "mean difference    0.063\n",
       "Cohen's d          0.098\n",
       "dtype: float64"
      ]
     },
     "metadata": {},
     "output_type": "display_data"
    },
    {
     "name": "stdout",
     "output_type": "stream",
     "text": [
      "---\n",
      "mousecam – man writing\n"
     ]
    },
    {
     "data": {
      "text/plain": [
       "mean difference    0.103\n",
       "Cohen's d          0.154\n",
       "dtype: float64"
      ]
     },
     "metadata": {},
     "output_type": "display_data"
    },
    {
     "name": "stdout",
     "output_type": "stream",
     "text": [
      "---\n",
      "conspecifics – crickets (prey)\n"
     ]
    },
    {
     "data": {
      "text/plain": [
       "mean difference    0.021\n",
       "Cohen's d          0.033\n",
       "dtype: float64"
      ]
     },
     "metadata": {},
     "output_type": "display_data"
    },
    {
     "name": "stdout",
     "output_type": "stream",
     "text": [
      "---\n",
      "conspecifics – man writing\n"
     ]
    },
    {
     "data": {
      "text/plain": [
       "mean difference    0.061\n",
       "Cohen's d          0.091\n",
       "dtype: float64"
      ]
     },
     "metadata": {},
     "output_type": "display_data"
    },
    {
     "name": "stdout",
     "output_type": "stream",
     "text": [
      "---\n",
      "crickets (prey) – man writing\n"
     ]
    },
    {
     "data": {
      "text/plain": [
       "mean difference    0.040\n",
       "Cohen's d          0.057\n",
       "dtype: float64"
      ]
     },
     "metadata": {},
     "output_type": "display_data"
    },
    {
     "name": "stdout",
     "output_type": "stream",
     "text": [
      "---\n"
     ]
    }
   ],
   "source": [
    "stimuli = [\n",
    "    \"snake (predator)\",\n",
    "    \"mousecam\", \n",
    "    \"conspecifics\", \n",
    "    \"crickets (prey)\", \n",
    "    \"man writing\"\n",
    "]\n",
    "\n",
    "for i in range(len(stimuli)):\n",
    "    for j in range(i + 1, len(stimuli)):\n",
    "        stim1, stim2 = stimuli[i], stimuli[j]\n",
    "        print(stim1, '–', stim2)\n",
    "        effect_size = analysis.cohens_d(\n",
    "                df,\n",
    "                a=stim1,\n",
    "                b=stim2,\n",
    "                value_col=response,\n",
    "                label_col=\"stimulus\",\n",
    "        )\n",
    "        display(effect_size.round(3))\n",
    "        print('---')"
   ]
  },
  {
   "cell_type": "markdown",
   "id": "conventional-second",
   "metadata": {},
   "source": [
    "### Plot"
   ]
  },
  {
   "cell_type": "code",
   "execution_count": 15,
   "id": "academic-pendant",
   "metadata": {},
   "outputs": [],
   "source": [
    "path = OUTPUT_DIR / \"fig-7/pairwise_stimulus_estimated_marginal_mean_differences.png\"\n",
    "path.parent.mkdir(exist_ok=True)\n",
    "path = str(path)"
   ]
  },
  {
   "cell_type": "code",
   "execution_count": 16,
   "id": "floppy-anatomy",
   "metadata": {},
   "outputs": [],
   "source": [
    "%%R -i path\n",
    "\n",
    "p = (\n",
    "    pwpp(means) \n",
    "    + scale_colour_grey(start=0, end=0) \n",
    "    + theme(text = element_text(family = 'Roboto'))\n",
    ")\n",
    "\n",
    "ggsave(\n",
    "    path,\n",
    "    p,\n",
    "    width=7,\n",
    "    height=3.5,\n",
    "    dpi=300,\n",
    ")"
   ]
  },
  {
   "cell_type": "code",
   "execution_count": 17,
   "id": "unusual-thermal",
   "metadata": {},
   "outputs": [
    {
     "data": {
      "image/png": "[encoded data removed]",
      "text/plain": [
       "<IPython.core.display.Image object>"
      ]
     },
     "execution_count": 17,
     "metadata": {},
     "output_type": "execute_result"
    }
   ],
   "source": [
    "Image(filename=path)"
   ]
  }
 ],
 "metadata": {
  "kernelspec": {
   "display_name": "Python 3",
   "language": "python",
   "name": "python3"
  },
  "language_info": {
   "codemirror_mode": {
    "name": "ipython",
    "version": 3
   },
   "file_extension": ".py",
   "mimetype": "text/x-python",
   "name": "python",
   "nbconvert_exporter": "python",
   "pygments_lexer": "ipython3",
   "version": "3.8.8"
  },
  "widgets": {
   "application/vnd.jupyter.widget-state+json": {
    "state": {},
    "version_major": 2,
    "version_minor": 0
   }
  }
 },
 "nbformat": 4,
 "nbformat_minor": 5
}
