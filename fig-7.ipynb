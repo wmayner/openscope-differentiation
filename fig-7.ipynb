{
 "cells": [
  {
   "cell_type": "markdown",
   "id": "serious-summit",
   "metadata": {},
   "source": [
    "# Figure 7\n",
    "\n",
    "Pairwise differences in neurophysiological differentiation among stimuli"
   ]
  },
  {
   "cell_type": "code",
   "execution_count": 1,
   "id": "introductory-mambo",
   "metadata": {},
   "outputs": [],
   "source": [
    "from pathlib import Path\n",
    "\n",
    "import pandas as pd\n",
    "from IPython.display import Image\n",
    "\n",
    "from analysis import CONTINUOUS_NATURAL\n",
    "from metadata import STIMULUS_METADATA"
   ]
  },
  {
   "cell_type": "code",
   "execution_count": 2,
   "id": "intermediate-summer",
   "metadata": {},
   "outputs": [],
   "source": [
    "OUTPUT_DIR = Path('figures')"
   ]
  },
  {
   "cell_type": "markdown",
   "id": "american-qualification",
   "metadata": {},
   "source": [
    "## Set up R"
   ]
  },
  {
   "cell_type": "code",
   "execution_count": 3,
   "id": "liable-iraqi",
   "metadata": {},
   "outputs": [],
   "source": [
    "%load_ext rpy2.ipython"
   ]
  },
  {
   "cell_type": "code",
   "execution_count": 4,
   "id": "usual-observation",
   "metadata": {},
   "outputs": [
    {
     "name": "stderr",
     "output_type": "stream",
     "text": [
      "R[write to console]: Registered S3 methods overwritten by 'ggplot2':\n",
      "  method         from \n",
      "  [.quosures     rlang\n",
      "  c.quosures     rlang\n",
      "  print.quosures rlang\n",
      "\n",
      "R[write to console]: Registered S3 method overwritten by 'rvest':\n",
      "  method            from\n",
      "  read_xml.response xml2\n",
      "\n",
      "R[write to console]: ── \u001b[1mAttaching packages\u001b[22m ─────────────────────────────────────── tidyverse 1.2.1 ──\n",
      "\n",
      "R[write to console]: \u001b[32m✔\u001b[39m \u001b[34mggplot2\u001b[39m 3.1.1       \u001b[32m✔\u001b[39m \u001b[34mpurrr  \u001b[39m 0.3.2  \n",
      "\u001b[32m✔\u001b[39m \u001b[34mtibble \u001b[39m 2.1.1       \u001b[32m✔\u001b[39m \u001b[34mdplyr  \u001b[39m 0.8.0.\u001b[31m1\u001b[39m\n",
      "\u001b[32m✔\u001b[39m \u001b[34mtidyr  \u001b[39m 0.8.3       \u001b[32m✔\u001b[39m \u001b[34mstringr\u001b[39m 1.4.0  \n",
      "\u001b[32m✔\u001b[39m \u001b[34mreadr  \u001b[39m 1.3.1       \u001b[32m✔\u001b[39m \u001b[34mforcats\u001b[39m 0.4.0  \n",
      "\n",
      "R[write to console]: ── \u001b[1mConflicts\u001b[22m ────────────────────────────────────────── tidyverse_conflicts() ──\n",
      "\u001b[31m✖\u001b[39m \u001b[34mdplyr\u001b[39m::\u001b[32mfilter()\u001b[39m masks \u001b[34mstats\u001b[39m::filter()\n",
      "\u001b[31m✖\u001b[39m \u001b[34mdplyr\u001b[39m::\u001b[32mlag()\u001b[39m    masks \u001b[34mstats\u001b[39m::lag()\n",
      "\n",
      "R[write to console]: Loading required package: Matrix\n",
      "\n",
      "R[write to console]: \n",
      "Attaching package: ‘Matrix’\n",
      "\n",
      "\n",
      "R[write to console]: The following object is masked from ‘package:tidyr’:\n",
      "\n",
      "    expand\n",
      "\n",
      "\n",
      "R[write to console]: Loading required package: mvtnorm\n",
      "\n",
      "R[write to console]: Loading required package: survival\n",
      "\n",
      "R[write to console]: Loading required package: TH.data\n",
      "\n",
      "R[write to console]: Loading required package: MASS\n",
      "\n",
      "R[write to console]: \n",
      "Attaching package: ‘MASS’\n",
      "\n",
      "\n",
      "R[write to console]: The following object is masked from ‘package:dplyr’:\n",
      "\n",
      "    select\n",
      "\n",
      "\n",
      "R[write to console]: \n",
      "Attaching package: ‘TH.data’\n",
      "\n",
      "\n",
      "R[write to console]: The following object is masked from ‘package:MASS’:\n",
      "\n",
      "    geyser\n",
      "\n",
      "\n",
      "R[write to console]: \n",
      "Attaching package: ‘emmeans’\n",
      "\n",
      "\n",
      "R[write to console]: The following object is masked from ‘package:multcomp’:\n",
      "\n",
      "    cld\n",
      "\n",
      "\n"
     ]
    }
   ],
   "source": [
    "%%R\n",
    "library(tidyverse)\n",
    "library(broom)\n",
    "library(ggplot2)\n",
    "library(lme4)\n",
    "library(multcomp)\n",
    "library(emmeans)\n",
    "\n",
    "theme_set(theme_minimal())"
   ]
  },
  {
   "cell_type": "markdown",
   "id": "known-retrieval",
   "metadata": {},
   "source": [
    "## Load data"
   ]
  },
  {
   "cell_type": "code",
   "execution_count": 5,
   "id": "duplicate-system",
   "metadata": {},
   "outputs": [],
   "source": [
    "df = pd.read_parquet(\"results/main.parquet\")"
   ]
  },
  {
   "cell_type": "code",
   "execution_count": 6,
   "id": "imposed-hunger",
   "metadata": {},
   "outputs": [],
   "source": [
    "# Compare continuous natural stimuli\n",
    "df = df.loc[\n",
    "    df['stimulus'].isin(CONTINUOUS_NATURAL)\n",
    "]"
   ]
  },
  {
   "cell_type": "code",
   "execution_count": 7,
   "id": "cooperative-light",
   "metadata": {},
   "outputs": [],
   "source": [
    "response = \"log(normalized differentiation)\""
   ]
  },
  {
   "cell_type": "markdown",
   "id": "mounted-sixth",
   "metadata": {},
   "source": [
    "## Fit model"
   ]
  },
  {
   "cell_type": "code",
   "execution_count": 8,
   "id": "typical-kennedy",
   "metadata": {},
   "outputs": [
    {
     "name": "stdout",
     "output_type": "stream",
     "text": [
      "`log(normalized differentiation)` ~ 1 + stimulus + (1 | session)\n",
      "`log(normalized differentiation)` ~ 1 + (1 | session)\n"
     ]
    }
   ],
   "source": [
    "formula = f\"`{response}` ~ 1 + stimulus + (1 | session)\"\n",
    "reduced_formula = f\"`{response}` ~ 1 + (1 | session)\"\n",
    "print(formula)\n",
    "print(reduced_formula)"
   ]
  },
  {
   "cell_type": "code",
   "execution_count": 9,
   "id": "accessory-observer",
   "metadata": {},
   "outputs": [
    {
     "name": "stdout",
     "output_type": "stream",
     "text": [
      "Data: df\n",
      "Models:\n",
      "reduced_model: `log(normalized differentiation)` ~ 1 + (1 | session)\n",
      "model: `log(normalized differentiation)` ~ 1 + stimulus + (1 | session)\n",
      "              Df    AIC    BIC  logLik deviance  Chisq Chi Df Pr(>Chisq)    \n",
      "reduced_model  3 2926.0 2943.1 -1460.0   2920.0                             \n",
      "model          7 2901.8 2941.7 -1443.9   2887.8 32.115      4  1.812e-06 ***\n",
      "---\n",
      "Signif. codes:  0 ‘***’ 0.001 ‘**’ 0.01 ‘*’ 0.05 ‘.’ 0.1 ‘ ’ 1\n"
     ]
    }
   ],
   "source": [
    "%%R -i df -i formula -i reduced_formula\n",
    "\n",
    "# Estimate models\n",
    "model = lmer(formula, data=df, REML=FALSE)\n",
    "reduced_model = lmer(reduced_formula, data=df, REML=FALSE)\n",
    "\n",
    "# Compare models\n",
    "model_comparison = anova(model, reduced_model)\n",
    "print(model_comparison)"
   ]
  },
  {
   "cell_type": "markdown",
   "id": "answering-alexander",
   "metadata": {},
   "source": [
    "### Post hoc tests of pairwise differences in estimated marginal means among stimuli"
   ]
  },
  {
   "cell_type": "code",
   "execution_count": 10,
   "id": "referenced-campus",
   "metadata": {},
   "outputs": [],
   "source": [
    "%%R -o pairwise_differences\n",
    "\n",
    "# Estimate marginal means\n",
    "posthoc = emmeans(model, list(pairwise ~ stimulus), adjust='tukey', alternative='two.sided')\n",
    "\n",
    "means = posthoc$`emmeans of stimulus`\n",
    "pairwise_differences = posthoc$`pairwise differences of stimulus`\n",
    "pairwise_differences = tidy(pairwise_differences)"
   ]
  },
  {
   "cell_type": "code",
   "execution_count": 11,
   "id": "scenic-confidence",
   "metadata": {},
   "outputs": [
    {
     "data": {
      "text/html": [
       "<div>\n",
       "<style scoped>\n",
       "    .dataframe tbody tr th:only-of-type {\n",
       "        vertical-align: middle;\n",
       "    }\n",
       "\n",
       "    .dataframe tbody tr th {\n",
       "        vertical-align: top;\n",
       "    }\n",
       "\n",
       "    .dataframe thead th {\n",
       "        text-align: right;\n",
       "    }\n",
       "</style>\n",
       "<table border=\"1\" class=\"dataframe\">\n",
       "  <thead>\n",
       "    <tr style=\"text-align: right;\">\n",
       "      <th></th>\n",
       "      <th>level1</th>\n",
       "      <th>level2</th>\n",
       "      <th>estimate</th>\n",
       "      <th>std.error</th>\n",
       "      <th>df</th>\n",
       "      <th>z.ratio</th>\n",
       "      <th>p.value</th>\n",
       "    </tr>\n",
       "  </thead>\n",
       "  <tbody>\n",
       "    <tr>\n",
       "      <th>1</th>\n",
       "      <td>conspecifics</td>\n",
       "      <td>crickets (prey)</td>\n",
       "      <td>0.021125</td>\n",
       "      <td>0.030205</td>\n",
       "      <td>inf</td>\n",
       "      <td>0.699393</td>\n",
       "      <td>0.956678</td>\n",
       "    </tr>\n",
       "    <tr>\n",
       "      <th>2</th>\n",
       "      <td>conspecifics</td>\n",
       "      <td>man writing</td>\n",
       "      <td>0.061020</td>\n",
       "      <td>0.030205</td>\n",
       "      <td>inf</td>\n",
       "      <td>2.020217</td>\n",
       "      <td>0.256156</td>\n",
       "    </tr>\n",
       "    <tr>\n",
       "      <th>3</th>\n",
       "      <td>conspecifics</td>\n",
       "      <td>mousecam</td>\n",
       "      <td>-0.041568</td>\n",
       "      <td>0.030205</td>\n",
       "      <td>inf</td>\n",
       "      <td>-1.376211</td>\n",
       "      <td>0.642996</td>\n",
       "    </tr>\n",
       "    <tr>\n",
       "      <th>4</th>\n",
       "      <td>conspecifics</td>\n",
       "      <td>snake (predator)</td>\n",
       "      <td>-0.097520</td>\n",
       "      <td>0.030205</td>\n",
       "      <td>inf</td>\n",
       "      <td>-3.228648</td>\n",
       "      <td>0.010909</td>\n",
       "    </tr>\n",
       "    <tr>\n",
       "      <th>5</th>\n",
       "      <td>crickets (prey)</td>\n",
       "      <td>man writing</td>\n",
       "      <td>0.039895</td>\n",
       "      <td>0.030205</td>\n",
       "      <td>inf</td>\n",
       "      <td>1.320824</td>\n",
       "      <td>0.678213</td>\n",
       "    </tr>\n",
       "    <tr>\n",
       "      <th>6</th>\n",
       "      <td>crickets (prey)</td>\n",
       "      <td>mousecam</td>\n",
       "      <td>-0.062693</td>\n",
       "      <td>0.030205</td>\n",
       "      <td>inf</td>\n",
       "      <td>-2.075604</td>\n",
       "      <td>0.230645</td>\n",
       "    </tr>\n",
       "    <tr>\n",
       "      <th>7</th>\n",
       "      <td>crickets (prey)</td>\n",
       "      <td>snake (predator)</td>\n",
       "      <td>-0.118645</td>\n",
       "      <td>0.030205</td>\n",
       "      <td>inf</td>\n",
       "      <td>-3.928041</td>\n",
       "      <td>0.000815</td>\n",
       "    </tr>\n",
       "    <tr>\n",
       "      <th>8</th>\n",
       "      <td>man writing</td>\n",
       "      <td>mousecam</td>\n",
       "      <td>-0.102588</td>\n",
       "      <td>0.030205</td>\n",
       "      <td>inf</td>\n",
       "      <td>-3.396428</td>\n",
       "      <td>0.006146</td>\n",
       "    </tr>\n",
       "    <tr>\n",
       "      <th>9</th>\n",
       "      <td>man writing</td>\n",
       "      <td>snake (predator)</td>\n",
       "      <td>-0.158540</td>\n",
       "      <td>0.030205</td>\n",
       "      <td>inf</td>\n",
       "      <td>-5.248865</td>\n",
       "      <td>0.000002</td>\n",
       "    </tr>\n",
       "    <tr>\n",
       "      <th>10</th>\n",
       "      <td>mousecam</td>\n",
       "      <td>snake (predator)</td>\n",
       "      <td>-0.055952</td>\n",
       "      <td>0.030205</td>\n",
       "      <td>inf</td>\n",
       "      <td>-1.852437</td>\n",
       "      <td>0.343408</td>\n",
       "    </tr>\n",
       "  </tbody>\n",
       "</table>\n",
       "</div>"
      ],
      "text/plain": [
       "             level1            level2  estimate  std.error   df   z.ratio  \\\n",
       "1      conspecifics   crickets (prey)  0.021125   0.030205  inf  0.699393   \n",
       "2      conspecifics       man writing  0.061020   0.030205  inf  2.020217   \n",
       "3      conspecifics          mousecam -0.041568   0.030205  inf -1.376211   \n",
       "4      conspecifics  snake (predator) -0.097520   0.030205  inf -3.228648   \n",
       "5   crickets (prey)       man writing  0.039895   0.030205  inf  1.320824   \n",
       "6   crickets (prey)          mousecam -0.062693   0.030205  inf -2.075604   \n",
       "7   crickets (prey)  snake (predator) -0.118645   0.030205  inf -3.928041   \n",
       "8       man writing          mousecam -0.102588   0.030205  inf -3.396428   \n",
       "9       man writing  snake (predator) -0.158540   0.030205  inf -5.248865   \n",
       "10         mousecam  snake (predator) -0.055952   0.030205  inf -1.852437   \n",
       "\n",
       "     p.value  \n",
       "1   0.956678  \n",
       "2   0.256156  \n",
       "3   0.642996  \n",
       "4   0.010909  \n",
       "5   0.678213  \n",
       "6   0.230645  \n",
       "7   0.000815  \n",
       "8   0.006146  \n",
       "9   0.000002  \n",
       "10  0.343408  "
      ]
     },
     "execution_count": 11,
     "metadata": {},
     "output_type": "execute_result"
    }
   ],
   "source": [
    "pairwise_differences"
   ]
  },
  {
   "cell_type": "markdown",
   "id": "conventional-second",
   "metadata": {},
   "source": [
    "### Plot"
   ]
  },
  {
   "cell_type": "code",
   "execution_count": 12,
   "id": "academic-pendant",
   "metadata": {},
   "outputs": [],
   "source": [
    "path = OUTPUT_DIR / \"fig-7/pairwise_stimulus_estimated_marginal_mean_differences.png\"\n",
    "path.parent.mkdir(exist_ok=True)\n",
    "path = str(path)"
   ]
  },
  {
   "cell_type": "code",
   "execution_count": 13,
   "id": "floppy-anatomy",
   "metadata": {},
   "outputs": [],
   "source": [
    "%%R -i path\n",
    "\n",
    "p = (\n",
    "    pwpp(means) \n",
    "    + scale_colour_grey(start=0, end=0) \n",
    "    + theme(text = element_text(family = 'Roboto'))\n",
    ")\n",
    "\n",
    "ggsave(\n",
    "    path,\n",
    "    p,\n",
    "    width=7,\n",
    "    height=3.5,\n",
    "    dpi=300,\n",
    ")"
   ]
  },
  {
   "cell_type": "code",
   "execution_count": 14,
   "id": "unusual-thermal",
   "metadata": {},
   "outputs": [
    {
     "data": {
      "image/png": "[encoded data removed]",
      "text/plain": [
       "<IPython.core.display.Image object>"
      ]
     },
     "execution_count": 14,
     "metadata": {},
     "output_type": "execute_result"
    }
   ],
   "source": [
    "Image(filename=path)"
   ]
  }
 ],
 "metadata": {
  "kernelspec": {
   "display_name": "Python 3",
   "language": "python",
   "name": "python3"
  },
  "language_info": {
   "codemirror_mode": {
    "name": "ipython",
    "version": 3
   },
   "file_extension": ".py",
   "mimetype": "text/x-python",
   "name": "python",
   "nbconvert_exporter": "python",
   "pygments_lexer": "ipython3",
   "version": "3.8.8"
  },
  "widgets": {
   "application/vnd.jupyter.widget-state+json": {
    "state": {},
    "version_major": 2,
    "version_minor": 0
   }
  }
 },
 "nbformat": 4,
 "nbformat_minor": 5
}
