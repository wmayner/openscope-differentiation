{
 "cells": [
  {
   "cell_type": "markdown",
   "id": "7298b17d",
   "metadata": {},
   "source": [
    "# Figures 3-2, 3-3, 3-4, 3-5, 3-6, & 3-7\n",
    "\n",
    "Sensitivity analyses"
   ]
  },
  {
   "cell_type": "code",
   "execution_count": 1,
   "id": "c0d8bb94",
   "metadata": {
    "execution": {
     "iopub.execute_input": "2021-12-14T19:25:44.675545Z",
     "iopub.status.busy": "2021-12-14T19:25:44.674791Z",
     "iopub.status.idle": "2021-12-14T19:25:47.104468Z",
     "shell.execute_reply": "2021-12-14T19:25:47.103558Z",
     "shell.execute_reply.started": "2021-12-14T19:25:44.675309Z"
    },
    "tags": []
   },
   "outputs": [],
   "source": [
    "from pathlib import Path\n",
    "\n",
    "import matplotlib\n",
    "import numpy as np\n",
    "import pandas as pd\n",
    "import seaborn as sb\n",
    "from matplotlib import pyplot as plt\n",
    "from tqdm.auto import tqdm\n",
    "\n",
    "import analysis"
   ]
  },
  {
   "cell_type": "code",
   "execution_count": 2,
   "id": "9a41be4c-b930-47f0-a5d9-a20d46111d7a",
   "metadata": {
    "execution": {
     "iopub.execute_input": "2021-12-14T19:25:47.106798Z",
     "iopub.status.busy": "2021-12-14T19:25:47.106389Z",
     "iopub.status.idle": "2021-12-14T19:25:47.112058Z",
     "shell.execute_reply": "2021-12-14T19:25:47.111166Z",
     "shell.execute_reply.started": "2021-12-14T19:25:47.106756Z"
    },
    "tags": []
   },
   "outputs": [],
   "source": [
    "matplotlib.rcParams.update({'font.size': 16})"
   ]
  },
  {
   "cell_type": "code",
   "execution_count": 3,
   "id": "050133df",
   "metadata": {
    "execution": {
     "iopub.execute_input": "2021-12-14T19:25:47.113548Z",
     "iopub.status.busy": "2021-12-14T19:25:47.113208Z",
     "iopub.status.idle": "2021-12-14T19:25:47.118466Z",
     "shell.execute_reply": "2021-12-14T19:25:47.117509Z",
     "shell.execute_reply.started": "2021-12-14T19:25:47.113512Z"
    },
    "tags": []
   },
   "outputs": [],
   "source": [
    "# Register tqdm with pandas for `progress_apply`\n",
    "tqdm.pandas()"
   ]
  },
  {
   "cell_type": "code",
   "execution_count": 4,
   "id": "ee2deeb2-8e35-42aa-9487-ac4edbe20444",
   "metadata": {
    "execution": {
     "iopub.execute_input": "2021-12-14T19:25:47.120019Z",
     "iopub.status.busy": "2021-12-14T19:25:47.119668Z",
     "iopub.status.idle": "2021-12-14T19:25:47.124451Z",
     "shell.execute_reply": "2021-12-14T19:25:47.123537Z",
     "shell.execute_reply.started": "2021-12-14T19:25:47.119984Z"
    },
    "tags": []
   },
   "outputs": [],
   "source": [
    "OUTPUT_DIR = Path('figures')"
   ]
  },
  {
   "cell_type": "code",
   "execution_count": 5,
   "id": "9373b3d9-2051-42ff-ba5b-d63a65413169",
   "metadata": {
    "execution": {
     "iopub.execute_input": "2021-12-14T19:25:47.127021Z",
     "iopub.status.busy": "2021-12-14T19:25:47.126641Z",
     "iopub.status.idle": "2021-12-14T19:25:47.131607Z",
     "shell.execute_reply": "2021-12-14T19:25:47.130617Z",
     "shell.execute_reply.started": "2021-12-14T19:25:47.126986Z"
    },
    "tags": []
   },
   "outputs": [],
   "source": [
    "# Significance threshold\n",
    "ALPHA = 0.05"
   ]
  },
  {
   "cell_type": "markdown",
   "id": "7968d076",
   "metadata": {},
   "source": [
    "### Load data"
   ]
  },
  {
   "cell_type": "code",
   "execution_count": 6,
   "id": "a5ad63be-2057-4d2c-b3fd-8b5ec3344189",
   "metadata": {
    "execution": {
     "iopub.execute_input": "2021-12-14T19:25:47.133240Z",
     "iopub.status.busy": "2021-12-14T19:25:47.132865Z",
     "iopub.status.idle": "2021-12-14T19:25:47.542167Z",
     "shell.execute_reply": "2021-12-14T19:25:47.541151Z",
     "shell.execute_reply.started": "2021-12-14T19:25:47.133207Z"
    },
    "tags": []
   },
   "outputs": [],
   "source": [
    "stats = pd.read_parquet(\"results/stats.parquet\").reset_index()\n",
    "\n",
    "stats_arousal = pd.read_parquet(\"results/stats__arousal.parquet\").reset_index()"
   ]
  },
  {
   "cell_type": "code",
   "execution_count": 7,
   "id": "a21cd4a1",
   "metadata": {
    "execution": {
     "iopub.execute_input": "2021-12-14T19:25:47.543995Z",
     "iopub.status.busy": "2021-12-14T19:25:47.543559Z",
     "iopub.status.idle": "2021-12-14T19:25:47.560468Z",
     "shell.execute_reply": "2021-12-14T19:25:47.559495Z",
     "shell.execute_reply.started": "2021-12-14T19:25:47.543951Z"
    },
    "tags": []
   },
   "outputs": [],
   "source": [
    "for data in [stats, stats_arousal]:\n",
    "    # Rename and order metrics\n",
    "    metric_names = {\n",
    "        \"cityblock\": \"Manhattan\",\n",
    "        \"euclidean\": \"Euclidean\",\n",
    "        \"chebyshev\": \"Chebyshev\",\n",
    "    }\n",
    "    data[\"metric\"] = data[\"metric\"].map(metric_names)\n",
    "\n",
    "    assert len(data[\"metric\"].unique()) == len(metric_names)\n",
    "    assert np.nan not in data[\"metric\"].unique()\n",
    "\n",
    "    data[\"metric\"] = pd.Categorical(\n",
    "        data[\"metric\"], categories=metric_names.values(), ordered=True\n",
    "    )"
   ]
  },
  {
   "cell_type": "code",
   "execution_count": 8,
   "id": "0d5735ec",
   "metadata": {
    "execution": {
     "iopub.execute_input": "2021-12-14T19:25:47.566153Z",
     "iopub.status.busy": "2021-12-14T19:25:47.565608Z",
     "iopub.status.idle": "2021-12-14T19:25:47.572143Z",
     "shell.execute_reply": "2021-12-14T19:25:47.571020Z",
     "shell.execute_reply.started": "2021-12-14T19:25:47.566108Z"
    },
    "tags": []
   },
   "outputs": [],
   "source": [
    "# Parameters to iterate over when plotting\n",
    "GROUPING_PARAMETERS = [\n",
    "    \"window\",\n",
    "    \"window_param\",\n",
    "    \"overlap\",\n",
    "    \"log_frequency\",\n",
    "]"
   ]
  },
  {
   "cell_type": "markdown",
   "id": "363799b9",
   "metadata": {},
   "source": [
    "### Plotting functions"
   ]
  },
  {
   "cell_type": "code",
   "execution_count": 9,
   "id": "d755b411",
   "metadata": {
    "execution": {
     "iopub.execute_input": "2021-12-14T19:25:47.574013Z",
     "iopub.status.busy": "2021-12-14T19:25:47.573594Z",
     "iopub.status.idle": "2021-12-14T19:25:47.578695Z",
     "shell.execute_reply": "2021-12-14T19:25:47.577560Z",
     "shell.execute_reply.started": "2021-12-14T19:25:47.573974Z"
    },
    "tags": []
   },
   "outputs": [],
   "source": [
    "x = \"state_length\"\n",
    "y = \"metric\""
   ]
  },
  {
   "cell_type": "code",
   "execution_count": 10,
   "id": "c1fb1d70",
   "metadata": {
    "execution": {
     "iopub.execute_input": "2021-12-14T19:25:47.580518Z",
     "iopub.status.busy": "2021-12-14T19:25:47.580104Z",
     "iopub.status.idle": "2021-12-14T19:25:47.585306Z",
     "shell.execute_reply": "2021-12-14T19:25:47.584370Z",
     "shell.execute_reply.started": "2021-12-14T19:25:47.580478Z"
    },
    "tags": []
   },
   "outputs": [],
   "source": [
    "width = 5\n",
    "height = 3\n",
    "scale = 0.8"
   ]
  },
  {
   "cell_type": "code",
   "execution_count": 11,
   "id": "a49fdd21",
   "metadata": {
    "execution": {
     "iopub.execute_input": "2021-12-14T19:25:47.587226Z",
     "iopub.status.busy": "2021-12-14T19:25:47.586802Z",
     "iopub.status.idle": "2021-12-14T19:25:47.602494Z",
     "shell.execute_reply": "2021-12-14T19:25:47.601339Z",
     "shell.execute_reply.started": "2021-12-14T19:25:47.587186Z"
    },
    "tags": []
   },
   "outputs": [],
   "source": [
    "def plot_interaction(data, output_dir=OUTPUT_DIR):\n",
    "    params = dict(zip(GROUPING_PARAMETERS, data.name))\n",
    "    \n",
    "    fig = plt.figure(figsize=(6.4, 4.8))\n",
    "    ax = analysis.heatmap(\n",
    "        data=data,\n",
    "        x=x,\n",
    "        y=y,\n",
    "        value=\"p.value\",\n",
    "        annot_kws=dict(fontsize=13),\n",
    "        cmap=sb.color_palette(\"mako\", as_cmap=True),\n",
    "        cbar=False,\n",
    "    )\n",
    "    ax.get_xaxis().set_visible(False)\n",
    "    ax.set_ylabel(\"\")\n",
    "    ax.set_yticklabels(ax.get_yticklabels(), rotation=0)\n",
    "    fig.tight_layout()\n",
    "    analysis.set_ax_size(\n",
    "        width * scale, height * scale, fig=fig, ax=ax, aspect=True,\n",
    "    )\n",
    "\n",
    "    filename = analysis.make_filename(params, prefix=f\"sensitivity_analysis\", suffix=interaction)\n",
    "    path = output_dir / filename\n",
    "    analysis.savefig(\n",
    "        fig,\n",
    "        str(path) + \".svg\",\n",
    "        facecolor=None,\n",
    "        edgecolor=None,\n",
    "    )\n",
    "    print(path)\n",
    "\n",
    "    # Collect combinations that are not below significance threshold\n",
    "    # so we can omit them in the posthoc tests\n",
    "    insignificant = data.loc[data[\"p.value\"] >= ALPHA, [x, y]]\n",
    "    return insignificant\n",
    "\n",
    "\n",
    "def plot_interaction_sensitivity(data, output_dir, interaction):\n",
    "    insignificant = (\n",
    "        data.loc[\n",
    "            (data[\"interaction\"] == interaction)\n",
    "            & (data[\"test_type\"] == \"likelihood_ratio\")\n",
    "            & (data[\"term\"] == \"model\")\n",
    "        ]\n",
    "        .groupby(by=GROUPING_PARAMETERS, dropna=False)\n",
    "        .progress_apply(plot_interaction, output_dir=output_dir)\n",
    "    )\n",
    "    insignificant.index = insignificant.index.droplevel(level=None)\n",
    "    insignificant[\"insignificant_likelihood_ratio\"] = True\n",
    "    return insignificant"
   ]
  },
  {
   "cell_type": "code",
   "execution_count": 12,
   "id": "ed9a1be7",
   "metadata": {
    "execution": {
     "iopub.execute_input": "2021-12-14T19:25:47.604336Z",
     "iopub.status.busy": "2021-12-14T19:25:47.603925Z",
     "iopub.status.idle": "2021-12-14T19:25:47.610282Z",
     "shell.execute_reply": "2021-12-14T19:25:47.609138Z",
     "shell.execute_reply.started": "2021-12-14T19:25:47.604297Z"
    },
    "tags": []
   },
   "outputs": [],
   "source": [
    "positions = dict(\n",
    "    layer=dict(\n",
    "        suptitle_x=0.2,\n",
    "        suptitle_y=0.71,\n",
    "        hspace=-0.83,\n",
    "    ),\n",
    "    area=dict(\n",
    "        suptitle_x=0.2,\n",
    "        suptitle_y=0.70,\n",
    "        hspace=-0.89,\n",
    "    ),\n",
    ")"
   ]
  },
  {
   "cell_type": "code",
   "execution_count": 13,
   "id": "51fe1895",
   "metadata": {
    "execution": {
     "iopub.execute_input": "2021-12-14T19:25:47.612380Z",
     "iopub.status.busy": "2021-12-14T19:25:47.611928Z",
     "iopub.status.idle": "2021-12-14T19:25:47.629978Z",
     "shell.execute_reply": "2021-12-14T19:25:47.628878Z",
     "shell.execute_reply.started": "2021-12-14T19:25:47.612339Z"
    },
    "tags": []
   },
   "outputs": [],
   "source": [
    "def plot_posthoc(data, output_dir, name=None):\n",
    "    if name is None:\n",
    "        name = data.name\n",
    "    params = dict(zip(GROUPING_PARAMETERS, name))\n",
    "\n",
    "    g = sb.FacetGrid(\n",
    "        data=data,\n",
    "        row=interaction,\n",
    "        margin_titles=True,\n",
    "        height=6,\n",
    "        aspect=1,\n",
    "        sharex=True,\n",
    "        sharey=True,\n",
    "    )\n",
    "\n",
    "    g.map_dataframe(\n",
    "        analysis.heatmap,\n",
    "        x=x,\n",
    "        y=y,\n",
    "        value=\"p.value\",\n",
    "        mask=\"insignificant_likelihood_ratio\",\n",
    "        cmap=sb.color_palette(\"mako\", as_cmap=True),\n",
    "        annot_kws=dict(fontsize=13),\n",
    "        cbar=False,\n",
    "    )\n",
    "\n",
    "    for ax in g.axes.flat:\n",
    "        ax.set_facecolor(\"#ddd\")\n",
    "    for ax in g.axes.flat[:-1]:\n",
    "        ax.get_xaxis().set_visible(False)\n",
    "    g.fig.subplots_adjust(hspace=positions[interaction][\"hspace\"], wspace=0.0)\n",
    "    g.fig.tight_layout()\n",
    "    for ax in g.axes.flat:\n",
    "        analysis.set_ax_size(\n",
    "            width * scale, height * scale, fig=g.fig, ax=ax, aspect=True\n",
    "        )\n",
    "        ax.set_yticklabels(ax.get_yticklabels(), rotation=0)\n",
    "    g.axes.flat[-1].set_xlabel(x.replace(\"_\", \" \") + \" (s)\")\n",
    "    g.set_titles(row_template=\"{row_name}\", col_template=\"{col_name}\")\n",
    "\n",
    "    filename = analysis.make_filename(\n",
    "        params, prefix=f\"sensitivity_analysis\", suffix=f\"{interaction}__posthoc\"\n",
    "    )\n",
    "    path = output_dir / filename\n",
    "    analysis.savefig(\n",
    "        g.fig,\n",
    "        str(path) + \".svg\",\n",
    "        facecolor=None,\n",
    "        edgecolor=None,\n",
    "    )\n",
    "    print(path)\n",
    "\n",
    "    return g\n",
    "\n",
    "\n",
    "def plot_posthoc_sensitivity(data, output_dir, interaction, insignificant):\n",
    "    (\n",
    "        data.loc[\n",
    "            (data[\"interaction\"] == interaction) & (data[\"test_type\"] == \"posthoc\")\n",
    "        ]\n",
    "        .merge(insignificant, on=GROUPING_PARAMETERS + [x, y], how=\"left\")\n",
    "        .groupby(by=GROUPING_PARAMETERS, dropna=False)\n",
    "        .progress_apply(plot_posthoc, output_dir=output_dir)\n",
    "    )"
   ]
  },
  {
   "cell_type": "markdown",
   "id": "e0df2629",
   "metadata": {},
   "source": [
    "# Plot"
   ]
  },
  {
   "cell_type": "code",
   "execution_count": 14,
   "id": "226b500f",
   "metadata": {
    "execution": {
     "iopub.execute_input": "2021-12-14T19:25:47.633270Z",
     "iopub.status.busy": "2021-12-14T19:25:47.632793Z",
     "iopub.status.idle": "2021-12-14T19:26:45.429039Z",
     "shell.execute_reply": "2021-12-14T19:26:45.427957Z",
     "shell.execute_reply.started": "2021-12-14T19:25:47.633227Z"
    },
    "tags": []
   },
   "outputs": [
    {
     "data": {
      "application/vnd.jupyter.widget-view+json": {
       "model_id": "4e1accc3f53c49ab946ee306cc229164",
       "version_major": 2,
       "version_minor": 0
      },
      "text/plain": [
       "  0%|          | 0/2 [00:00<?, ?it/s]"
      ]
     },
     "metadata": {},
     "output_type": "display_data"
    },
    {
     "data": {
      "application/vnd.jupyter.widget-view+json": {
       "model_id": "8c187f43349c421db4e6f6b927fe20b8",
       "version_major": 2,
       "version_minor": 0
      },
      "text/plain": [
       "  0%|          | 0/2 [00:00<?, ?it/s]"
      ]
     },
     "metadata": {},
     "output_type": "display_data"
    },
    {
     "data": {
      "application/vnd.jupyter.widget-view+json": {
       "model_id": "2bf8954debe2404aa40ff9ff3830dd02",
       "version_major": 2,
       "version_minor": 0
      },
      "text/plain": [
       "  0%|          | 0/6 [00:00<?, ?it/s]"
      ]
     },
     "metadata": {},
     "output_type": "display_data"
    },
    {
     "name": "stdout",
     "output_type": "stream",
     "text": [
      "figures/fig_3-2,3-3,3-4/sensitivity_analysis__window-kaiser__window_param-14.0__overlap-0.5__log_frequency-False__area\n",
      "figures/fig_3-2,3-3,3-4/sensitivity_analysis__window-kaiser__window_param-14.0__overlap-0.5__log_frequency-True__area\n",
      "figures/fig_3-2,3-3,3-4/sensitivity_analysis__window-rectangular__window_param--1.0__overlap-0.0__log_frequency-False__area\n",
      "figures/fig_3-2,3-3,3-4/sensitivity_analysis__window-rectangular__window_param--1.0__overlap-0.0__log_frequency-True__area\n",
      "figures/fig_3-2,3-3,3-4/sensitivity_analysis__window-tukey__window_param-0.25__overlap-0.125__log_frequency-False__area\n",
      "figures/fig_3-2,3-3,3-4/sensitivity_analysis__window-tukey__window_param-0.25__overlap-0.125__log_frequency-True__area\n"
     ]
    },
    {
     "data": {
      "application/vnd.jupyter.widget-view+json": {
       "model_id": "59eb800b039f42a085c20475e376b6c9",
       "version_major": 2,
       "version_minor": 0
      },
      "text/plain": [
       "  0%|          | 0/6 [00:00<?, ?it/s]"
      ]
     },
     "metadata": {},
     "output_type": "display_data"
    },
    {
     "name": "stdout",
     "output_type": "stream",
     "text": [
      "figures/fig_3-2,3-3,3-4/sensitivity_analysis__window-kaiser__window_param-14.0__overlap-0.5__log_frequency-False__area__posthoc\n",
      "figures/fig_3-2,3-3,3-4/sensitivity_analysis__window-kaiser__window_param-14.0__overlap-0.5__log_frequency-True__area__posthoc\n",
      "figures/fig_3-2,3-3,3-4/sensitivity_analysis__window-rectangular__window_param--1.0__overlap-0.0__log_frequency-False__area__posthoc\n",
      "figures/fig_3-2,3-3,3-4/sensitivity_analysis__window-rectangular__window_param--1.0__overlap-0.0__log_frequency-True__area__posthoc\n",
      "figures/fig_3-2,3-3,3-4/sensitivity_analysis__window-tukey__window_param-0.25__overlap-0.125__log_frequency-False__area__posthoc\n",
      "figures/fig_3-2,3-3,3-4/sensitivity_analysis__window-tukey__window_param-0.25__overlap-0.125__log_frequency-True__area__posthoc\n"
     ]
    },
    {
     "data": {
      "application/vnd.jupyter.widget-view+json": {
       "model_id": "21cf214dd5c64a0088bdcdff43b97bba",
       "version_major": 2,
       "version_minor": 0
      },
      "text/plain": [
       "  0%|          | 0/6 [00:00<?, ?it/s]"
      ]
     },
     "metadata": {},
     "output_type": "display_data"
    },
    {
     "name": "stdout",
     "output_type": "stream",
     "text": [
      "figures/fig_3-2,3-3,3-4/sensitivity_analysis__window-kaiser__window_param-14.0__overlap-0.5__log_frequency-False__layer\n",
      "figures/fig_3-2,3-3,3-4/sensitivity_analysis__window-kaiser__window_param-14.0__overlap-0.5__log_frequency-True__layer\n",
      "figures/fig_3-2,3-3,3-4/sensitivity_analysis__window-rectangular__window_param--1.0__overlap-0.0__log_frequency-False__layer\n",
      "figures/fig_3-2,3-3,3-4/sensitivity_analysis__window-rectangular__window_param--1.0__overlap-0.0__log_frequency-True__layer\n",
      "figures/fig_3-2,3-3,3-4/sensitivity_analysis__window-tukey__window_param-0.25__overlap-0.125__log_frequency-False__layer\n",
      "figures/fig_3-2,3-3,3-4/sensitivity_analysis__window-tukey__window_param-0.25__overlap-0.125__log_frequency-True__layer\n"
     ]
    },
    {
     "data": {
      "application/vnd.jupyter.widget-view+json": {
       "model_id": "38891391f42d422c9481251d89c1bec7",
       "version_major": 2,
       "version_minor": 0
      },
      "text/plain": [
       "  0%|          | 0/6 [00:00<?, ?it/s]"
      ]
     },
     "metadata": {},
     "output_type": "display_data"
    },
    {
     "name": "stdout",
     "output_type": "stream",
     "text": [
      "figures/fig_3-2,3-3,3-4/sensitivity_analysis__window-kaiser__window_param-14.0__overlap-0.5__log_frequency-False__layer__posthoc\n",
      "figures/fig_3-2,3-3,3-4/sensitivity_analysis__window-kaiser__window_param-14.0__overlap-0.5__log_frequency-True__layer__posthoc\n",
      "figures/fig_3-2,3-3,3-4/sensitivity_analysis__window-rectangular__window_param--1.0__overlap-0.0__log_frequency-False__layer__posthoc\n",
      "figures/fig_3-2,3-3,3-4/sensitivity_analysis__window-rectangular__window_param--1.0__overlap-0.0__log_frequency-True__layer__posthoc\n",
      "figures/fig_3-2,3-3,3-4/sensitivity_analysis__window-tukey__window_param-0.25__overlap-0.125__log_frequency-False__layer__posthoc\n",
      "figures/fig_3-2,3-3,3-4/sensitivity_analysis__window-tukey__window_param-0.25__overlap-0.125__log_frequency-True__layer__posthoc\n"
     ]
    },
    {
     "data": {
      "application/vnd.jupyter.widget-view+json": {
       "model_id": "3c3bd7b9ce934302a30b3e239a4af255",
       "version_major": 2,
       "version_minor": 0
      },
      "text/plain": [
       "  0%|          | 0/2 [00:00<?, ?it/s]"
      ]
     },
     "metadata": {},
     "output_type": "display_data"
    },
    {
     "data": {
      "application/vnd.jupyter.widget-view+json": {
       "model_id": "344fb6d4a5024add851b06d9095a52bb",
       "version_major": 2,
       "version_minor": 0
      },
      "text/plain": [
       "  0%|          | 0/6 [00:00<?, ?it/s]"
      ]
     },
     "metadata": {},
     "output_type": "display_data"
    },
    {
     "name": "stdout",
     "output_type": "stream",
     "text": [
      "figures/fig_3-5,3-6,3-7/sensitivity_analysis__window-kaiser__window_param-14.0__overlap-0.5__log_frequency-False__area\n",
      "figures/fig_3-5,3-6,3-7/sensitivity_analysis__window-kaiser__window_param-14.0__overlap-0.5__log_frequency-True__area\n",
      "figures/fig_3-5,3-6,3-7/sensitivity_analysis__window-rectangular__window_param--1.0__overlap-0.0__log_frequency-False__area\n",
      "figures/fig_3-5,3-6,3-7/sensitivity_analysis__window-rectangular__window_param--1.0__overlap-0.0__log_frequency-True__area\n",
      "figures/fig_3-5,3-6,3-7/sensitivity_analysis__window-tukey__window_param-0.25__overlap-0.125__log_frequency-False__area\n",
      "figures/fig_3-5,3-6,3-7/sensitivity_analysis__window-tukey__window_param-0.25__overlap-0.125__log_frequency-True__area\n"
     ]
    },
    {
     "data": {
      "application/vnd.jupyter.widget-view+json": {
       "model_id": "22ebd5f5b53d4853bfb8f8ac8253be32",
       "version_major": 2,
       "version_minor": 0
      },
      "text/plain": [
       "  0%|          | 0/6 [00:00<?, ?it/s]"
      ]
     },
     "metadata": {},
     "output_type": "display_data"
    },
    {
     "name": "stdout",
     "output_type": "stream",
     "text": [
      "figures/fig_3-5,3-6,3-7/sensitivity_analysis__window-kaiser__window_param-14.0__overlap-0.5__log_frequency-False__area__posthoc\n",
      "figures/fig_3-5,3-6,3-7/sensitivity_analysis__window-kaiser__window_param-14.0__overlap-0.5__log_frequency-True__area__posthoc\n",
      "figures/fig_3-5,3-6,3-7/sensitivity_analysis__window-rectangular__window_param--1.0__overlap-0.0__log_frequency-False__area__posthoc\n",
      "figures/fig_3-5,3-6,3-7/sensitivity_analysis__window-rectangular__window_param--1.0__overlap-0.0__log_frequency-True__area__posthoc\n",
      "figures/fig_3-5,3-6,3-7/sensitivity_analysis__window-tukey__window_param-0.25__overlap-0.125__log_frequency-False__area__posthoc\n",
      "figures/fig_3-5,3-6,3-7/sensitivity_analysis__window-tukey__window_param-0.25__overlap-0.125__log_frequency-True__area__posthoc\n"
     ]
    },
    {
     "data": {
      "application/vnd.jupyter.widget-view+json": {
       "model_id": "13adc0099df84686b5405b1207a58182",
       "version_major": 2,
       "version_minor": 0
      },
      "text/plain": [
       "  0%|          | 0/6 [00:00<?, ?it/s]"
      ]
     },
     "metadata": {},
     "output_type": "display_data"
    },
    {
     "name": "stdout",
     "output_type": "stream",
     "text": [
      "figures/fig_3-5,3-6,3-7/sensitivity_analysis__window-kaiser__window_param-14.0__overlap-0.5__log_frequency-False__layer\n",
      "figures/fig_3-5,3-6,3-7/sensitivity_analysis__window-kaiser__window_param-14.0__overlap-0.5__log_frequency-True__layer\n",
      "figures/fig_3-5,3-6,3-7/sensitivity_analysis__window-rectangular__window_param--1.0__overlap-0.0__log_frequency-False__layer\n",
      "figures/fig_3-5,3-6,3-7/sensitivity_analysis__window-rectangular__window_param--1.0__overlap-0.0__log_frequency-True__layer\n",
      "figures/fig_3-5,3-6,3-7/sensitivity_analysis__window-tukey__window_param-0.25__overlap-0.125__log_frequency-False__layer\n",
      "figures/fig_3-5,3-6,3-7/sensitivity_analysis__window-tukey__window_param-0.25__overlap-0.125__log_frequency-True__layer\n"
     ]
    },
    {
     "data": {
      "application/vnd.jupyter.widget-view+json": {
       "model_id": "c924ad9422144a17b76ccdb3564bdc00",
       "version_major": 2,
       "version_minor": 0
      },
      "text/plain": [
       "  0%|          | 0/6 [00:00<?, ?it/s]"
      ]
     },
     "metadata": {},
     "output_type": "display_data"
    },
    {
     "name": "stdout",
     "output_type": "stream",
     "text": [
      "figures/fig_3-5,3-6,3-7/sensitivity_analysis__window-kaiser__window_param-14.0__overlap-0.5__log_frequency-False__layer__posthoc\n",
      "figures/fig_3-5,3-6,3-7/sensitivity_analysis__window-kaiser__window_param-14.0__overlap-0.5__log_frequency-True__layer__posthoc\n",
      "figures/fig_3-5,3-6,3-7/sensitivity_analysis__window-rectangular__window_param--1.0__overlap-0.0__log_frequency-False__layer__posthoc\n",
      "figures/fig_3-5,3-6,3-7/sensitivity_analysis__window-rectangular__window_param--1.0__overlap-0.0__log_frequency-True__layer__posthoc\n",
      "figures/fig_3-5,3-6,3-7/sensitivity_analysis__window-tukey__window_param-0.25__overlap-0.125__log_frequency-False__layer__posthoc\n",
      "figures/fig_3-5,3-6,3-7/sensitivity_analysis__window-tukey__window_param-0.25__overlap-0.125__log_frequency-True__layer__posthoc\n"
     ]
    }
   ],
   "source": [
    "for data, output_dir in tqdm([\n",
    "    (stats, OUTPUT_DIR/'fig_3-2,3-3,3-4'),\n",
    "    (stats_arousal, OUTPUT_DIR/'fig_3-5,3-6,3-7'),\n",
    "]):\n",
    "    for interaction in tqdm([\"area\", \"layer\"]):\n",
    "        insignificant = plot_interaction_sensitivity(data, output_dir, interaction)\n",
    "        plot_posthoc_sensitivity(data, output_dir, interaction, insignificant)\n",
    "        plt.close(\"all\")"
   ]
  }
 ],
 "metadata": {
  "kernelspec": {
   "display_name": "Python 3 (ipykernel)",
   "language": "python",
   "name": "python3"
  },
  "language_info": {
   "codemirror_mode": {
    "name": "ipython",
    "version": 3
   },
   "file_extension": ".py",
   "mimetype": "text/x-python",
   "name": "python",
   "nbconvert_exporter": "python",
   "pygments_lexer": "ipython3",
   "version": "3.8.8"
  },
  "widgets": {
   "application/vnd.jupyter.widget-state+json": {
    "state": {
     "02b06b59ca1a45eebd2b48e11c73f860": {
      "model_module": "@jupyter-widgets/controls",
      "model_module_version": "1.5.0",
      "model_name": "HTMLModel",
      "state": {
       "layout": "IPY_MODEL_efeb328730c843789ba052e367ada5e8",
       "style": "IPY_MODEL_ec3731e0194d4dbbaa684ee406083976",
       "value": "100%"
      }
     },
     "05659f6891ce43d08d9ea59b16901cb3": {
      "model_module": "@jupyter-widgets/base",
      "model_module_version": "1.2.0",
      "model_name": "LayoutModel",
      "state": {}
     },
     "079eebdcc1644da9a2431ac952d08188": {
      "model_module": "@jupyter-widgets/controls",
      "model_module_version": "1.5.0",
      "model_name": "HTMLModel",
      "state": {
       "layout": "IPY_MODEL_d12b747f1bf940cb857e76884744a0b0",
       "style": "IPY_MODEL_d48ca1c43877413e9dc23029e2d5e2a8",
       "value": "100%"
      }
     },
     "091ef6c6766a4adf86c7196e5b80b6ba": {
      "model_module": "@jupyter-widgets/base",
      "model_module_version": "1.2.0",
      "model_name": "LayoutModel",
      "state": {}
     },
     "09414ae53a13414f9846ffb251bc8872": {
      "model_module": "@jupyter-widgets/controls",
      "model_module_version": "1.5.0",
      "model_name": "DescriptionStyleModel",
      "state": {
       "description_width": ""
      }
     },
     "0bb51613114441efa1c09f21a5ddec90": {
      "model_module": "@jupyter-widgets/base",
      "model_module_version": "1.2.0",
      "model_name": "LayoutModel",
      "state": {}
     },
     "1084577dfb894ee2b9a25ad48be9fc0e": {
      "model_module": "@jupyter-widgets/controls",
      "model_module_version": "1.5.0",
      "model_name": "DescriptionStyleModel",
      "state": {
       "description_width": ""
      }
     },
     "13adc0099df84686b5405b1207a58182": {
      "model_module": "@jupyter-widgets/controls",
      "model_module_version": "1.5.0",
      "model_name": "HBoxModel",
      "state": {
       "children": [
        "IPY_MODEL_02b06b59ca1a45eebd2b48e11c73f860",
        "IPY_MODEL_b22f5fbb4638466d9e5396dc49fd7afb",
        "IPY_MODEL_e6d67acf6d164174a9c29ff899a00949"
       ],
       "layout": "IPY_MODEL_091ef6c6766a4adf86c7196e5b80b6ba"
      }
     },
     "141a0428c6ef4ca4a9efe3848f19ff11": {
      "model_module": "@jupyter-widgets/controls",
      "model_module_version": "1.5.0",
      "model_name": "ProgressStyleModel",
      "state": {
       "description_width": ""
      }
     },
     "1579244d26b74f67b600067e4a816454": {
      "model_module": "@jupyter-widgets/controls",
      "model_module_version": "1.5.0",
      "model_name": "FloatProgressModel",
      "state": {
       "bar_style": "success",
       "layout": "IPY_MODEL_57a1aab7b0b9402183d3a43058486a86",
       "max": 6,
       "style": "IPY_MODEL_418fa95add674ca3acc5825482ee158c",
       "value": 6
      }
     },
     "1dcb014ef3cb4bbbaaff529af1d88475": {
      "model_module": "@jupyter-widgets/controls",
      "model_module_version": "1.5.0",
      "model_name": "DescriptionStyleModel",
      "state": {
       "description_width": ""
      }
     },
     "1ddd242a3a4a49cab21cc107ef326442": {
      "model_module": "@jupyter-widgets/controls",
      "model_module_version": "1.5.0",
      "model_name": "DescriptionStyleModel",
      "state": {
       "description_width": ""
      }
     },
     "1feb52d9648c46359ee52912d3993fc9": {
      "model_module": "@jupyter-widgets/controls",
      "model_module_version": "1.5.0",
      "model_name": "DescriptionStyleModel",
      "state": {
       "description_width": ""
      }
     },
     "21ae993e24b34cb0875af9bc97df6ca3": {
      "model_module": "@jupyter-widgets/base",
      "model_module_version": "1.2.0",
      "model_name": "LayoutModel",
      "state": {}
     },
     "21cf214dd5c64a0088bdcdff43b97bba": {
      "model_module": "@jupyter-widgets/controls",
      "model_module_version": "1.5.0",
      "model_name": "HBoxModel",
      "state": {
       "children": [
        "IPY_MODEL_bca089a0429d4f9597fd2a9f3a96504e",
        "IPY_MODEL_7d483c5f862146318b225a8136ec73ed",
        "IPY_MODEL_47e899eb08d44c64ac026075e775e16f"
       ],
       "layout": "IPY_MODEL_b1172b91112c403380a8d413015515d9"
      }
     },
     "22ebd5f5b53d4853bfb8f8ac8253be32": {
      "model_module": "@jupyter-widgets/controls",
      "model_module_version": "1.5.0",
      "model_name": "HBoxModel",
      "state": {
       "children": [
        "IPY_MODEL_ca3aa01ff75f4153a3d90dfc4458c44f",
        "IPY_MODEL_ff78f0741a0c42c89d971a99f4620513",
        "IPY_MODEL_df1684349ede4a3eb04b9b41a7e582ee"
       ],
       "layout": "IPY_MODEL_05659f6891ce43d08d9ea59b16901cb3"
      }
     },
     "22f0c28f3f5349c7917c0583e1bc183e": {
      "model_module": "@jupyter-widgets/base",
      "model_module_version": "1.2.0",
      "model_name": "LayoutModel",
      "state": {}
     },
     "2540fe484225479b932b67bb61309528": {
      "model_module": "@jupyter-widgets/controls",
      "model_module_version": "1.5.0",
      "model_name": "ProgressStyleModel",
      "state": {
       "description_width": ""
      }
     },
     "27077c37835949c4907077214e276bfc": {
      "model_module": "@jupyter-widgets/base",
      "model_module_version": "1.2.0",
      "model_name": "LayoutModel",
      "state": {}
     },
     "2bf8954debe2404aa40ff9ff3830dd02": {
      "model_module": "@jupyter-widgets/controls",
      "model_module_version": "1.5.0",
      "model_name": "HBoxModel",
      "state": {
       "children": [
        "IPY_MODEL_079eebdcc1644da9a2431ac952d08188",
        "IPY_MODEL_cdc8ed35370e47c587385aaf2012529e",
        "IPY_MODEL_40e2dcc1440c403b81ca5ebc4090c3cb"
       ],
       "layout": "IPY_MODEL_9ee463fb93bf46b0b66b62b58836e747"
      }
     },
     "2d407813c17f4718a8cde1ba8e848840": {
      "model_module": "@jupyter-widgets/controls",
      "model_module_version": "1.5.0",
      "model_name": "HTMLModel",
      "state": {
       "layout": "IPY_MODEL_c5264951d37a45b9b314effcebe53bde",
       "style": "IPY_MODEL_863b6e43068347518554ed845c5057ca",
       "value": " 6/6 [00:07&lt;00:00,  1.18s/it]"
      }
     },
     "2ee81c4bbafd42bdb5cac22c10b2bf96": {
      "model_module": "@jupyter-widgets/controls",
      "model_module_version": "1.5.0",
      "model_name": "FloatProgressModel",
      "state": {
       "bar_style": "success",
       "layout": "IPY_MODEL_ef557b605d354183a43c18d0aefb8e06",
       "max": 6,
       "style": "IPY_MODEL_6e63b0349556475c95e0c5f4ef82220e",
       "value": 6
      }
     },
     "2f985eda6dfd465d85ade3504b0709d7": {
      "model_module": "@jupyter-widgets/controls",
      "model_module_version": "1.5.0",
      "model_name": "ProgressStyleModel",
      "state": {
       "description_width": ""
      }
     },
     "2fca1fbead2c4b06b60a492bea539e55": {
      "model_module": "@jupyter-widgets/base",
      "model_module_version": "1.2.0",
      "model_name": "LayoutModel",
      "state": {}
     },
     "313938c85e2c45f297204088250ac468": {
      "model_module": "@jupyter-widgets/controls",
      "model_module_version": "1.5.0",
      "model_name": "ProgressStyleModel",
      "state": {
       "description_width": ""
      }
     },
     "31d07e0d207f43eaae96e67149332715": {
      "model_module": "@jupyter-widgets/base",
      "model_module_version": "1.2.0",
      "model_name": "LayoutModel",
      "state": {}
     },
     "33be681ae708408c96e5287c4db8db19": {
      "model_module": "@jupyter-widgets/controls",
      "model_module_version": "1.5.0",
      "model_name": "FloatProgressModel",
      "state": {
       "bar_style": "success",
       "layout": "IPY_MODEL_2fca1fbead2c4b06b60a492bea539e55",
       "max": 2,
       "style": "IPY_MODEL_2540fe484225479b932b67bb61309528",
       "value": 2
      }
     },
     "344fb6d4a5024add851b06d9095a52bb": {
      "model_module": "@jupyter-widgets/controls",
      "model_module_version": "1.5.0",
      "model_name": "HBoxModel",
      "state": {
       "children": [
        "IPY_MODEL_e98a001b56bc43b99cc900d3bbacfa5f",
        "IPY_MODEL_1579244d26b74f67b600067e4a816454",
        "IPY_MODEL_3b0be589c17442a1ae1b11c8efd33e24"
       ],
       "layout": "IPY_MODEL_5766f2934f3149d9ba38d30e26fd2e1b"
      }
     },
     "3589b98906284ba88b2b719ef08167fe": {
      "model_module": "@jupyter-widgets/base",
      "model_module_version": "1.2.0",
      "model_name": "LayoutModel",
      "state": {}
     },
     "36d3072527944f97a5e1f7d851b03cf6": {
      "model_module": "@jupyter-widgets/controls",
      "model_module_version": "1.5.0",
      "model_name": "ProgressStyleModel",
      "state": {
       "description_width": ""
      }
     },
     "38774ef739af44e2ada0ca72061e6a97": {
      "model_module": "@jupyter-widgets/base",
      "model_module_version": "1.2.0",
      "model_name": "LayoutModel",
      "state": {}
     },
     "38891391f42d422c9481251d89c1bec7": {
      "model_module": "@jupyter-widgets/controls",
      "model_module_version": "1.5.0",
      "model_name": "HBoxModel",
      "state": {
       "children": [
        "IPY_MODEL_56279fe415444852b8ab0ed89387aeb9",
        "IPY_MODEL_6e6132dad2e74f8d8949d887e9e25ba6",
        "IPY_MODEL_2d407813c17f4718a8cde1ba8e848840"
       ],
       "layout": "IPY_MODEL_0bb51613114441efa1c09f21a5ddec90"
      }
     },
     "3896c5b5baa04948aaa2e758091d04b5": {
      "model_module": "@jupyter-widgets/controls",
      "model_module_version": "1.5.0",
      "model_name": "DescriptionStyleModel",
      "state": {
       "description_width": ""
      }
     },
     "3a16f0a2c59245059a937b7e65be905e": {
      "model_module": "@jupyter-widgets/controls",
      "model_module_version": "1.5.0",
      "model_name": "HTMLModel",
      "state": {
       "layout": "IPY_MODEL_22f0c28f3f5349c7917c0583e1bc183e",
       "style": "IPY_MODEL_1ddd242a3a4a49cab21cc107ef326442",
       "value": "100%"
      }
     },
     "3b0be589c17442a1ae1b11c8efd33e24": {
      "model_module": "@jupyter-widgets/controls",
      "model_module_version": "1.5.0",
      "model_name": "HTMLModel",
      "state": {
       "layout": "IPY_MODEL_f46d6c2e18ec4e268006b863e5000f4e",
       "style": "IPY_MODEL_e52fad14754847d48413e7a95c749054",
       "value": " 6/6 [00:01&lt;00:00,  3.97it/s]"
      }
     },
     "3c3bd7b9ce934302a30b3e239a4af255": {
      "model_module": "@jupyter-widgets/controls",
      "model_module_version": "1.5.0",
      "model_name": "HBoxModel",
      "state": {
       "children": [
        "IPY_MODEL_67cdb8d646644decac6eaf20666edc2d",
        "IPY_MODEL_5789a5fc98314db0a5a708c9c387e0f3",
        "IPY_MODEL_626f18b64333461798d8c8f0537c84fd"
       ],
       "layout": "IPY_MODEL_73cede55257742d7bd258229a6036246"
      }
     },
     "3e90fddc93674df18f7a84d5d88021e1": {
      "model_module": "@jupyter-widgets/base",
      "model_module_version": "1.2.0",
      "model_name": "LayoutModel",
      "state": {}
     },
     "40e2dcc1440c403b81ca5ebc4090c3cb": {
      "model_module": "@jupyter-widgets/controls",
      "model_module_version": "1.5.0",
      "model_name": "HTMLModel",
      "state": {
       "layout": "IPY_MODEL_9d3449e42495498d9aa813a34fe8cc00",
       "style": "IPY_MODEL_09414ae53a13414f9846ffb251bc8872",
       "value": " 6/6 [00:01&lt;00:00,  4.54it/s]"
      }
     },
     "418fa95add674ca3acc5825482ee158c": {
      "model_module": "@jupyter-widgets/controls",
      "model_module_version": "1.5.0",
      "model_name": "ProgressStyleModel",
      "state": {
       "description_width": ""
      }
     },
     "47112f2724dc4393b7bf63a4dafc5a87": {
      "model_module": "@jupyter-widgets/base",
      "model_module_version": "1.2.0",
      "model_name": "LayoutModel",
      "state": {}
     },
     "47e899eb08d44c64ac026075e775e16f": {
      "model_module": "@jupyter-widgets/controls",
      "model_module_version": "1.5.0",
      "model_name": "HTMLModel",
      "state": {
       "layout": "IPY_MODEL_802b83b0ee704c5e917599cd509463ba",
       "style": "IPY_MODEL_b69533e7ef7d4695bfa1db6fb6fdc770",
       "value": " 6/6 [00:01&lt;00:00,  3.51it/s]"
      }
     },
     "4bfbe36f595b47a187ccb51e649779eb": {
      "model_module": "@jupyter-widgets/base",
      "model_module_version": "1.2.0",
      "model_name": "LayoutModel",
      "state": {}
     },
     "4e1accc3f53c49ab946ee306cc229164": {
      "model_module": "@jupyter-widgets/controls",
      "model_module_version": "1.5.0",
      "model_name": "HBoxModel",
      "state": {
       "children": [
        "IPY_MODEL_3a16f0a2c59245059a937b7e65be905e",
        "IPY_MODEL_33be681ae708408c96e5287c4db8db19",
        "IPY_MODEL_a47600f42f1b49e9a16cc519019b437c"
       ],
       "layout": "IPY_MODEL_47112f2724dc4393b7bf63a4dafc5a87"
      }
     },
     "52d20e5d2b914fcd9703d6790a01a8a7": {
      "model_module": "@jupyter-widgets/base",
      "model_module_version": "1.2.0",
      "model_name": "LayoutModel",
      "state": {}
     },
     "54397516df8a4518b8fe4f9ccfc0e359": {
      "model_module": "@jupyter-widgets/base",
      "model_module_version": "1.2.0",
      "model_name": "LayoutModel",
      "state": {}
     },
     "55e95dd1f2514fb4acb56c57b53576db": {
      "model_module": "@jupyter-widgets/controls",
      "model_module_version": "1.5.0",
      "model_name": "ProgressStyleModel",
      "state": {
       "description_width": ""
      }
     },
     "56279fe415444852b8ab0ed89387aeb9": {
      "model_module": "@jupyter-widgets/controls",
      "model_module_version": "1.5.0",
      "model_name": "HTMLModel",
      "state": {
       "layout": "IPY_MODEL_8047b9428c614ef7a5b77d1e3d916c0b",
       "style": "IPY_MODEL_7aeeab939fc04d89911c2e28202e269b",
       "value": "100%"
      }
     },
     "5766f2934f3149d9ba38d30e26fd2e1b": {
      "model_module": "@jupyter-widgets/base",
      "model_module_version": "1.2.0",
      "model_name": "LayoutModel",
      "state": {}
     },
     "5789a5fc98314db0a5a708c9c387e0f3": {
      "model_module": "@jupyter-widgets/controls",
      "model_module_version": "1.5.0",
      "model_name": "FloatProgressModel",
      "state": {
       "bar_style": "success",
       "layout": "IPY_MODEL_4bfbe36f595b47a187ccb51e649779eb",
       "max": 2,
       "style": "IPY_MODEL_141a0428c6ef4ca4a9efe3848f19ff11",
       "value": 2
      }
     },
     "57a1aab7b0b9402183d3a43058486a86": {
      "model_module": "@jupyter-widgets/base",
      "model_module_version": "1.2.0",
      "model_name": "LayoutModel",
      "state": {}
     },
     "59eb800b039f42a085c20475e376b6c9": {
      "model_module": "@jupyter-widgets/controls",
      "model_module_version": "1.5.0",
      "model_name": "HBoxModel",
      "state": {
       "children": [
        "IPY_MODEL_b79b6d9980b24b4485c303d1c159180e",
        "IPY_MODEL_f72b93b52c9c432ca291d5d5d30c4655",
        "IPY_MODEL_f6179098fcc547a182080e988d73c75f"
       ],
       "layout": "IPY_MODEL_e85560b87ca748219f7833e1fd034ac0"
      }
     },
     "5ba0fd6f78f4454e822ebf8d36c2cd3b": {
      "model_module": "@jupyter-widgets/base",
      "model_module_version": "1.2.0",
      "model_name": "LayoutModel",
      "state": {}
     },
     "5fee268b33f94e8d94eec16a24299733": {
      "model_module": "@jupyter-widgets/controls",
      "model_module_version": "1.5.0",
      "model_name": "HTMLModel",
      "state": {
       "layout": "IPY_MODEL_21ae993e24b34cb0875af9bc97df6ca3",
       "style": "IPY_MODEL_a75ada080fff47ad9f60630b45f7eb3a",
       "value": "100%"
      }
     },
     "6114ce7d4c97465f9a78575025f9121b": {
      "model_module": "@jupyter-widgets/base",
      "model_module_version": "1.2.0",
      "model_name": "LayoutModel",
      "state": {}
     },
     "626f18b64333461798d8c8f0537c84fd": {
      "model_module": "@jupyter-widgets/controls",
      "model_module_version": "1.5.0",
      "model_name": "HTMLModel",
      "state": {
       "layout": "IPY_MODEL_b36ab5a76fb140db86971000f5ee8d61",
       "style": "IPY_MODEL_1dcb014ef3cb4bbbaaff529af1d88475",
       "value": " 2/2 [00:32&lt;00:00, 15.74s/it]"
      }
     },
     "63f930b285f14d7c8a79773f2930b592": {
      "model_module": "@jupyter-widgets/controls",
      "model_module_version": "1.5.0",
      "model_name": "DescriptionStyleModel",
      "state": {
       "description_width": ""
      }
     },
     "67cdb8d646644decac6eaf20666edc2d": {
      "model_module": "@jupyter-widgets/controls",
      "model_module_version": "1.5.0",
      "model_name": "HTMLModel",
      "state": {
       "layout": "IPY_MODEL_31d07e0d207f43eaae96e67149332715",
       "style": "IPY_MODEL_1084577dfb894ee2b9a25ad48be9fc0e",
       "value": "100%"
      }
     },
     "6b1059981cef4f59a456890bbca11e08": {
      "model_module": "@jupyter-widgets/controls",
      "model_module_version": "1.5.0",
      "model_name": "DescriptionStyleModel",
      "state": {
       "description_width": ""
      }
     },
     "6e6132dad2e74f8d8949d887e9e25ba6": {
      "model_module": "@jupyter-widgets/controls",
      "model_module_version": "1.5.0",
      "model_name": "FloatProgressModel",
      "state": {
       "bar_style": "success",
       "layout": "IPY_MODEL_e8c861e91cf9414c99e186a7ffa89627",
       "max": 6,
       "style": "IPY_MODEL_a77e86d35d0f41bfb5c07c7eca36864a",
       "value": 6
      }
     },
     "6e63b0349556475c95e0c5f4ef82220e": {
      "model_module": "@jupyter-widgets/controls",
      "model_module_version": "1.5.0",
      "model_name": "ProgressStyleModel",
      "state": {
       "description_width": ""
      }
     },
     "721e034019054d72b4d6515328646e64": {
      "model_module": "@jupyter-widgets/controls",
      "model_module_version": "1.5.0",
      "model_name": "FloatProgressModel",
      "state": {
       "bar_style": "success",
       "layout": "IPY_MODEL_c6c34a8671324bb58ba755d0759d8eb0",
       "max": 2,
       "style": "IPY_MODEL_36d3072527944f97a5e1f7d851b03cf6",
       "value": 2
      }
     },
     "73cede55257742d7bd258229a6036246": {
      "model_module": "@jupyter-widgets/base",
      "model_module_version": "1.2.0",
      "model_name": "LayoutModel",
      "state": {}
     },
     "770cb5dd387f4b0682583aae7b52496a": {
      "model_module": "@jupyter-widgets/base",
      "model_module_version": "1.2.0",
      "model_name": "LayoutModel",
      "state": {}
     },
     "77c589e092534dfa8f95f7d0fca692d9": {
      "model_module": "@jupyter-widgets/base",
      "model_module_version": "1.2.0",
      "model_name": "LayoutModel",
      "state": {}
     },
     "7a84bf9ea2544f8bb06bf0aa64e8783e": {
      "model_module": "@jupyter-widgets/controls",
      "model_module_version": "1.5.0",
      "model_name": "DescriptionStyleModel",
      "state": {
       "description_width": ""
      }
     },
     "7aeeab939fc04d89911c2e28202e269b": {
      "model_module": "@jupyter-widgets/controls",
      "model_module_version": "1.5.0",
      "model_name": "DescriptionStyleModel",
      "state": {
       "description_width": ""
      }
     },
     "7beb4886c06c4c9e9026f40139e06530": {
      "model_module": "@jupyter-widgets/controls",
      "model_module_version": "1.5.0",
      "model_name": "DescriptionStyleModel",
      "state": {
       "description_width": ""
      }
     },
     "7c6eb1076a1c45b5a956f3a2fccb62a3": {
      "model_module": "@jupyter-widgets/base",
      "model_module_version": "1.2.0",
      "model_name": "LayoutModel",
      "state": {}
     },
     "7d483c5f862146318b225a8136ec73ed": {
      "model_module": "@jupyter-widgets/controls",
      "model_module_version": "1.5.0",
      "model_name": "FloatProgressModel",
      "state": {
       "bar_style": "success",
       "layout": "IPY_MODEL_e78ec83c23e2463daad015f0cdc9623e",
       "max": 6,
       "style": "IPY_MODEL_2f985eda6dfd465d85ade3504b0709d7",
       "value": 6
      }
     },
     "802b83b0ee704c5e917599cd509463ba": {
      "model_module": "@jupyter-widgets/base",
      "model_module_version": "1.2.0",
      "model_name": "LayoutModel",
      "state": {}
     },
     "8047b9428c614ef7a5b77d1e3d916c0b": {
      "model_module": "@jupyter-widgets/base",
      "model_module_version": "1.2.0",
      "model_name": "LayoutModel",
      "state": {}
     },
     "863b6e43068347518554ed845c5057ca": {
      "model_module": "@jupyter-widgets/controls",
      "model_module_version": "1.5.0",
      "model_name": "DescriptionStyleModel",
      "state": {
       "description_width": ""
      }
     },
     "86d48b73839f4c4d86c545a1eeb21b84": {
      "model_module": "@jupyter-widgets/controls",
      "model_module_version": "1.5.0",
      "model_name": "DescriptionStyleModel",
      "state": {
       "description_width": ""
      }
     },
     "8a048982179743d591b2101e66858efb": {
      "model_module": "@jupyter-widgets/controls",
      "model_module_version": "1.5.0",
      "model_name": "DescriptionStyleModel",
      "state": {
       "description_width": ""
      }
     },
     "8c187f43349c421db4e6f6b927fe20b8": {
      "model_module": "@jupyter-widgets/controls",
      "model_module_version": "1.5.0",
      "model_name": "HBoxModel",
      "state": {
       "children": [
        "IPY_MODEL_5fee268b33f94e8d94eec16a24299733",
        "IPY_MODEL_721e034019054d72b4d6515328646e64",
        "IPY_MODEL_ccfd22a11cb24cf3b4afd8eb644b99a8"
       ],
       "layout": "IPY_MODEL_6114ce7d4c97465f9a78575025f9121b"
      }
     },
     "958aca8cde8946ae9a8b5914ff6edb8d": {
      "model_module": "@jupyter-widgets/controls",
      "model_module_version": "1.5.0",
      "model_name": "DescriptionStyleModel",
      "state": {
       "description_width": ""
      }
     },
     "9bc48851da814eb8afdde276a64c7af8": {
      "model_module": "@jupyter-widgets/controls",
      "model_module_version": "1.5.0",
      "model_name": "HTMLModel",
      "state": {
       "layout": "IPY_MODEL_3e90fddc93674df18f7a84d5d88021e1",
       "style": "IPY_MODEL_63f930b285f14d7c8a79773f2930b592",
       "value": "100%"
      }
     },
     "9d3449e42495498d9aa813a34fe8cc00": {
      "model_module": "@jupyter-widgets/base",
      "model_module_version": "1.2.0",
      "model_name": "LayoutModel",
      "state": {}
     },
     "9ee463fb93bf46b0b66b62b58836e747": {
      "model_module": "@jupyter-widgets/base",
      "model_module_version": "1.2.0",
      "model_name": "LayoutModel",
      "state": {}
     },
     "a47600f42f1b49e9a16cc519019b437c": {
      "model_module": "@jupyter-widgets/controls",
      "model_module_version": "1.5.0",
      "model_name": "HTMLModel",
      "state": {
       "layout": "IPY_MODEL_3589b98906284ba88b2b719ef08167fe",
       "style": "IPY_MODEL_7a84bf9ea2544f8bb06bf0aa64e8783e",
       "value": " 2/2 [00:57&lt;00:00, 29.54s/it]"
      }
     },
     "a6014509e2d74bc3ab61a519199acfdc": {
      "model_module": "@jupyter-widgets/base",
      "model_module_version": "1.2.0",
      "model_name": "LayoutModel",
      "state": {}
     },
     "a75ada080fff47ad9f60630b45f7eb3a": {
      "model_module": "@jupyter-widgets/controls",
      "model_module_version": "1.5.0",
      "model_name": "DescriptionStyleModel",
      "state": {
       "description_width": ""
      }
     },
     "a77e86d35d0f41bfb5c07c7eca36864a": {
      "model_module": "@jupyter-widgets/controls",
      "model_module_version": "1.5.0",
      "model_name": "ProgressStyleModel",
      "state": {
       "description_width": ""
      }
     },
     "aab0c45bfe554038b87c4aee5d7a192b": {
      "model_module": "@jupyter-widgets/base",
      "model_module_version": "1.2.0",
      "model_name": "LayoutModel",
      "state": {}
     },
     "ac8247cd3d46409a94db9589e047a669": {
      "model_module": "@jupyter-widgets/base",
      "model_module_version": "1.2.0",
      "model_name": "LayoutModel",
      "state": {}
     },
     "b1172b91112c403380a8d413015515d9": {
      "model_module": "@jupyter-widgets/base",
      "model_module_version": "1.2.0",
      "model_name": "LayoutModel",
      "state": {}
     },
     "b14cbb26d7c54282b87d463253727d20": {
      "model_module": "@jupyter-widgets/controls",
      "model_module_version": "1.5.0",
      "model_name": "DescriptionStyleModel",
      "state": {
       "description_width": ""
      }
     },
     "b22f5fbb4638466d9e5396dc49fd7afb": {
      "model_module": "@jupyter-widgets/controls",
      "model_module_version": "1.5.0",
      "model_name": "FloatProgressModel",
      "state": {
       "bar_style": "success",
       "layout": "IPY_MODEL_facf4f797dc34f63a2d0c913d83360b3",
       "max": 6,
       "style": "IPY_MODEL_cc0f5c3a555e439d8802ff22cac2f396",
       "value": 6
      }
     },
     "b36ab5a76fb140db86971000f5ee8d61": {
      "model_module": "@jupyter-widgets/base",
      "model_module_version": "1.2.0",
      "model_name": "LayoutModel",
      "state": {}
     },
     "b69533e7ef7d4695bfa1db6fb6fdc770": {
      "model_module": "@jupyter-widgets/controls",
      "model_module_version": "1.5.0",
      "model_name": "DescriptionStyleModel",
      "state": {
       "description_width": ""
      }
     },
     "b79545697a85458396097d7938035496": {
      "model_module": "@jupyter-widgets/controls",
      "model_module_version": "1.5.0",
      "model_name": "ProgressStyleModel",
      "state": {
       "description_width": ""
      }
     },
     "b79b6d9980b24b4485c303d1c159180e": {
      "model_module": "@jupyter-widgets/controls",
      "model_module_version": "1.5.0",
      "model_name": "HTMLModel",
      "state": {
       "layout": "IPY_MODEL_770cb5dd387f4b0682583aae7b52496a",
       "style": "IPY_MODEL_958aca8cde8946ae9a8b5914ff6edb8d",
       "value": "100%"
      }
     },
     "bbe4981a0498445dbfb64669a762a47c": {
      "model_module": "@jupyter-widgets/controls",
      "model_module_version": "1.5.0",
      "model_name": "HTMLModel",
      "state": {
       "layout": "IPY_MODEL_77c589e092534dfa8f95f7d0fca692d9",
       "style": "IPY_MODEL_6b1059981cef4f59a456890bbca11e08",
       "value": " 6/6 [00:11&lt;00:00,  1.77s/it]"
      }
     },
     "bca089a0429d4f9597fd2a9f3a96504e": {
      "model_module": "@jupyter-widgets/controls",
      "model_module_version": "1.5.0",
      "model_name": "HTMLModel",
      "state": {
       "layout": "IPY_MODEL_ce59dd8dcda44280bca1b9769d7ac2a8",
       "style": "IPY_MODEL_7beb4886c06c4c9e9026f40139e06530",
       "value": "100%"
      }
     },
     "c5264951d37a45b9b314effcebe53bde": {
      "model_module": "@jupyter-widgets/base",
      "model_module_version": "1.2.0",
      "model_name": "LayoutModel",
      "state": {}
     },
     "c6c34a8671324bb58ba755d0759d8eb0": {
      "model_module": "@jupyter-widgets/base",
      "model_module_version": "1.2.0",
      "model_name": "LayoutModel",
      "state": {}
     },
     "c924ad9422144a17b76ccdb3564bdc00": {
      "model_module": "@jupyter-widgets/controls",
      "model_module_version": "1.5.0",
      "model_name": "HBoxModel",
      "state": {
       "children": [
        "IPY_MODEL_9bc48851da814eb8afdde276a64c7af8",
        "IPY_MODEL_2ee81c4bbafd42bdb5cac22c10b2bf96",
        "IPY_MODEL_bbe4981a0498445dbfb64669a762a47c"
       ],
       "layout": "IPY_MODEL_7c6eb1076a1c45b5a956f3a2fccb62a3"
      }
     },
     "ca3aa01ff75f4153a3d90dfc4458c44f": {
      "model_module": "@jupyter-widgets/controls",
      "model_module_version": "1.5.0",
      "model_name": "HTMLModel",
      "state": {
       "layout": "IPY_MODEL_38774ef739af44e2ada0ca72061e6a97",
       "style": "IPY_MODEL_86d48b73839f4c4d86c545a1eeb21b84",
       "value": "100%"
      }
     },
     "cc0f5c3a555e439d8802ff22cac2f396": {
      "model_module": "@jupyter-widgets/controls",
      "model_module_version": "1.5.0",
      "model_name": "ProgressStyleModel",
      "state": {
       "description_width": ""
      }
     },
     "ccfd22a11cb24cf3b4afd8eb644b99a8": {
      "model_module": "@jupyter-widgets/controls",
      "model_module_version": "1.5.0",
      "model_name": "HTMLModel",
      "state": {
       "layout": "IPY_MODEL_e6969967f9a943369ed358c44240769b",
       "style": "IPY_MODEL_1feb52d9648c46359ee52912d3993fc9",
       "value": " 2/2 [00:25&lt;00:00, 12.01s/it]"
      }
     },
     "cdc8ed35370e47c587385aaf2012529e": {
      "model_module": "@jupyter-widgets/controls",
      "model_module_version": "1.5.0",
      "model_name": "FloatProgressModel",
      "state": {
       "bar_style": "success",
       "layout": "IPY_MODEL_ac8247cd3d46409a94db9589e047a669",
       "max": 6,
       "style": "IPY_MODEL_b79545697a85458396097d7938035496",
       "value": 6
      }
     },
     "ce59dd8dcda44280bca1b9769d7ac2a8": {
      "model_module": "@jupyter-widgets/base",
      "model_module_version": "1.2.0",
      "model_name": "LayoutModel",
      "state": {}
     },
     "d12b747f1bf940cb857e76884744a0b0": {
      "model_module": "@jupyter-widgets/base",
      "model_module_version": "1.2.0",
      "model_name": "LayoutModel",
      "state": {}
     },
     "d48ca1c43877413e9dc23029e2d5e2a8": {
      "model_module": "@jupyter-widgets/controls",
      "model_module_version": "1.5.0",
      "model_name": "DescriptionStyleModel",
      "state": {
       "description_width": ""
      }
     },
     "df1684349ede4a3eb04b9b41a7e582ee": {
      "model_module": "@jupyter-widgets/controls",
      "model_module_version": "1.5.0",
      "model_name": "HTMLModel",
      "state": {
       "layout": "IPY_MODEL_54397516df8a4518b8fe4f9ccfc0e359",
       "style": "IPY_MODEL_3896c5b5baa04948aaa2e758091d04b5",
       "value": " 6/6 [00:17&lt;00:00,  2.85s/it]"
      }
     },
     "e52fad14754847d48413e7a95c749054": {
      "model_module": "@jupyter-widgets/controls",
      "model_module_version": "1.5.0",
      "model_name": "DescriptionStyleModel",
      "state": {
       "description_width": ""
      }
     },
     "e6969967f9a943369ed358c44240769b": {
      "model_module": "@jupyter-widgets/base",
      "model_module_version": "1.2.0",
      "model_name": "LayoutModel",
      "state": {}
     },
     "e6d67acf6d164174a9c29ff899a00949": {
      "model_module": "@jupyter-widgets/controls",
      "model_module_version": "1.5.0",
      "model_name": "HTMLModel",
      "state": {
       "layout": "IPY_MODEL_5ba0fd6f78f4454e822ebf8d36c2cd3b",
       "style": "IPY_MODEL_fe0edc57beb947f7858b61f0a4e810f6",
       "value": " 6/6 [00:01&lt;00:00,  4.09it/s]"
      }
     },
     "e78ec83c23e2463daad015f0cdc9623e": {
      "model_module": "@jupyter-widgets/base",
      "model_module_version": "1.2.0",
      "model_name": "LayoutModel",
      "state": {}
     },
     "e85560b87ca748219f7833e1fd034ac0": {
      "model_module": "@jupyter-widgets/base",
      "model_module_version": "1.2.0",
      "model_name": "LayoutModel",
      "state": {}
     },
     "e8c861e91cf9414c99e186a7ffa89627": {
      "model_module": "@jupyter-widgets/base",
      "model_module_version": "1.2.0",
      "model_name": "LayoutModel",
      "state": {}
     },
     "e98a001b56bc43b99cc900d3bbacfa5f": {
      "model_module": "@jupyter-widgets/controls",
      "model_module_version": "1.5.0",
      "model_name": "HTMLModel",
      "state": {
       "layout": "IPY_MODEL_52d20e5d2b914fcd9703d6790a01a8a7",
       "style": "IPY_MODEL_8a048982179743d591b2101e66858efb",
       "value": "100%"
      }
     },
     "ec3731e0194d4dbbaa684ee406083976": {
      "model_module": "@jupyter-widgets/controls",
      "model_module_version": "1.5.0",
      "model_name": "DescriptionStyleModel",
      "state": {
       "description_width": ""
      }
     },
     "ef557b605d354183a43c18d0aefb8e06": {
      "model_module": "@jupyter-widgets/base",
      "model_module_version": "1.2.0",
      "model_name": "LayoutModel",
      "state": {}
     },
     "efeb328730c843789ba052e367ada5e8": {
      "model_module": "@jupyter-widgets/base",
      "model_module_version": "1.2.0",
      "model_name": "LayoutModel",
      "state": {}
     },
     "f46d6c2e18ec4e268006b863e5000f4e": {
      "model_module": "@jupyter-widgets/base",
      "model_module_version": "1.2.0",
      "model_name": "LayoutModel",
      "state": {}
     },
     "f6179098fcc547a182080e988d73c75f": {
      "model_module": "@jupyter-widgets/controls",
      "model_module_version": "1.5.0",
      "model_name": "HTMLModel",
      "state": {
       "layout": "IPY_MODEL_a6014509e2d74bc3ab61a519199acfdc",
       "style": "IPY_MODEL_b14cbb26d7c54282b87d463253727d20",
       "value": " 6/6 [00:14&lt;00:00,  2.19s/it]"
      }
     },
     "f72b93b52c9c432ca291d5d5d30c4655": {
      "model_module": "@jupyter-widgets/controls",
      "model_module_version": "1.5.0",
      "model_name": "FloatProgressModel",
      "state": {
       "bar_style": "success",
       "layout": "IPY_MODEL_aab0c45bfe554038b87c4aee5d7a192b",
       "max": 6,
       "style": "IPY_MODEL_55e95dd1f2514fb4acb56c57b53576db",
       "value": 6
      }
     },
     "facf4f797dc34f63a2d0c913d83360b3": {
      "model_module": "@jupyter-widgets/base",
      "model_module_version": "1.2.0",
      "model_name": "LayoutModel",
      "state": {}
     },
     "fe0edc57beb947f7858b61f0a4e810f6": {
      "model_module": "@jupyter-widgets/controls",
      "model_module_version": "1.5.0",
      "model_name": "DescriptionStyleModel",
      "state": {
       "description_width": ""
      }
     },
     "ff78f0741a0c42c89d971a99f4620513": {
      "model_module": "@jupyter-widgets/controls",
      "model_module_version": "1.5.0",
      "model_name": "FloatProgressModel",
      "state": {
       "bar_style": "success",
       "layout": "IPY_MODEL_27077c37835949c4907077214e276bfc",
       "max": 6,
       "style": "IPY_MODEL_313938c85e2c45f297204088250ac468",
       "value": 6
      }
     }
    },
    "version_major": 2,
    "version_minor": 0
   }
  }
 },
 "nbformat": 4,
 "nbformat_minor": 5
}
