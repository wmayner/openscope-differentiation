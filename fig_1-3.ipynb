{
 "cells": [
  {
   "cell_type": "markdown",
   "id": "066d889e-c2f9-4abb-ba98-e6e049cb5312",
   "metadata": {},
   "source": [
    "# Figure 1-3\n",
    "\n",
    "Indicator kinetics"
   ]
  },
  {
   "cell_type": "code",
   "execution_count": 1,
   "id": "495e9677-f916-4399-8050-97381830d7e0",
   "metadata": {
    "execution": {
     "iopub.execute_input": "2021-12-14T19:25:35.077965Z",
     "iopub.status.busy": "2021-12-14T19:25:35.077419Z",
     "iopub.status.idle": "2021-12-14T19:25:37.136405Z",
     "shell.execute_reply": "2021-12-14T19:25:37.135551Z",
     "shell.execute_reply.started": "2021-12-14T19:25:35.077842Z"
    },
    "tags": []
   },
   "outputs": [],
   "source": [
    "import multiprocessing\n",
    "from itertools import chain, cycle\n",
    "from pathlib import Path\n",
    "\n",
    "import numpy as np\n",
    "import pandas as pd\n",
    "import seaborn as sb\n",
    "from joblib import Parallel, delayed\n",
    "from matplotlib import pyplot as plt\n",
    "from scipy.optimize import curve_fit\n",
    "from tqdm.auto import tqdm\n",
    "\n",
    "import metadata\n",
    "from analysis import SESSIONS, binarize, cleanup_grid, get_cells, savefig\n",
    "from load import load_preprocessed_data, load_preprocessed_events\n",
    "from metadata import METADATA"
   ]
  },
  {
   "cell_type": "code",
   "execution_count": 2,
   "id": "491508f6-3ba4-4e63-9f01-1b17066b029f",
   "metadata": {
    "execution": {
     "iopub.execute_input": "2021-12-14T19:25:37.138714Z",
     "iopub.status.busy": "2021-12-14T19:25:37.138277Z",
     "iopub.status.idle": "2021-12-14T19:25:37.143850Z",
     "shell.execute_reply": "2021-12-14T19:25:37.143019Z",
     "shell.execute_reply.started": "2021-12-14T19:25:37.138670Z"
    },
    "tags": []
   },
   "outputs": [],
   "source": [
    "tqdm.pandas()"
   ]
  },
  {
   "cell_type": "code",
   "execution_count": 3,
   "id": "f1eed084-e0aa-403e-a839-a1369c8b5ed9",
   "metadata": {
    "execution": {
     "iopub.execute_input": "2021-12-14T19:25:37.145605Z",
     "iopub.status.busy": "2021-12-14T19:25:37.145148Z",
     "iopub.status.idle": "2021-12-14T19:25:37.149832Z",
     "shell.execute_reply": "2021-12-14T19:25:37.148983Z",
     "shell.execute_reply.started": "2021-12-14T19:25:37.145559Z"
    },
    "tags": []
   },
   "outputs": [],
   "source": [
    "N_CPUS = multiprocessing.cpu_count()"
   ]
  },
  {
   "cell_type": "code",
   "execution_count": 4,
   "id": "ca0a8397-d386-4722-a069-398ecd7cf34f",
   "metadata": {
    "execution": {
     "iopub.execute_input": "2021-12-14T19:25:37.151320Z",
     "iopub.status.busy": "2021-12-14T19:25:37.150927Z",
     "iopub.status.idle": "2021-12-14T19:25:37.155061Z",
     "shell.execute_reply": "2021-12-14T19:25:37.154374Z",
     "shell.execute_reply.started": "2021-12-14T19:25:37.151281Z"
    },
    "tags": []
   },
   "outputs": [],
   "source": [
    "OUTPUT_DIR = Path('figures/fig_1-3')"
   ]
  },
  {
   "cell_type": "markdown",
   "id": "2ae2c54d-c9de-49a2-b059-3c19df3b29fc",
   "metadata": {},
   "source": [
    "## Load data"
   ]
  },
  {
   "cell_type": "code",
   "execution_count": 5,
   "id": "e205f5b1-21fd-4982-b7c3-5cb723273212",
   "metadata": {
    "execution": {
     "iopub.execute_input": "2021-12-14T19:25:37.157487Z",
     "iopub.status.busy": "2021-12-14T19:25:37.157088Z",
     "iopub.status.idle": "2021-12-14T19:26:35.422285Z",
     "shell.execute_reply": "2021-12-14T19:26:35.420542Z",
     "shell.execute_reply.started": "2021-12-14T19:25:37.157446Z"
    },
    "tags": []
   },
   "outputs": [
    {
     "name": "stderr",
     "output_type": "stream",
     "text": [
      "[Parallel(n_jobs=44)]: Using backend LokyBackend with 44 concurrent workers.\n",
      "[Parallel(n_jobs=44)]: Done   2 out of  44 | elapsed:    8.0s remaining:  2.8min\n",
      "[Parallel(n_jobs=44)]: Done  11 out of  44 | elapsed:   12.6s remaining:   37.9s\n",
      "[Parallel(n_jobs=44)]: Done  20 out of  44 | elapsed:   18.5s remaining:   22.2s\n",
      "[Parallel(n_jobs=44)]: Done  29 out of  44 | elapsed:   25.3s remaining:   13.1s\n",
      "[Parallel(n_jobs=44)]: Done  38 out of  44 | elapsed:   38.9s remaining:    6.1s\n",
      "[Parallel(n_jobs=44)]: Done  44 out of  44 | elapsed:   58.2s finished\n"
     ]
    }
   ],
   "source": [
    "def loader(session):\n",
    "    events = load_preprocessed_events(session) \n",
    "    dff, data = load_preprocessed_data(session)\n",
    "    return dff, events, data\n",
    "\n",
    "loaded_data = Parallel(n_jobs=min(len(SESSIONS), N_CPUS), verbose=5)(\n",
    "    delayed(loader)(session) for session in SESSIONS\n",
    ")"
   ]
  },
  {
   "cell_type": "code",
   "execution_count": 6,
   "id": "ddf5cee0-2aff-4e1d-97cb-8fb7b9e112c8",
   "metadata": {
    "execution": {
     "iopub.execute_input": "2021-12-14T19:26:35.427703Z",
     "iopub.status.busy": "2021-12-14T19:26:35.425942Z",
     "iopub.status.idle": "2021-12-14T19:26:35.437380Z",
     "shell.execute_reply": "2021-12-14T19:26:35.436459Z",
     "shell.execute_reply.started": "2021-12-14T19:26:35.427629Z"
    },
    "tags": []
   },
   "outputs": [],
   "source": [
    "DFF = dict()\n",
    "EVENTS = dict()\n",
    "DATA = dict()\n",
    "for session, (dff, events, data) in zip(SESSIONS, loaded_data):\n",
    "    DFF[session] = dff\n",
    "    EVENTS[session] = events\n",
    "    DATA[session] = data"
   ]
  },
  {
   "cell_type": "code",
   "execution_count": 7,
   "id": "2844b212-3877-4e24-a25f-6e4a4442270d",
   "metadata": {
    "execution": {
     "iopub.execute_input": "2021-12-14T19:26:35.440461Z",
     "iopub.status.busy": "2021-12-14T19:26:35.439771Z",
     "iopub.status.idle": "2021-12-14T19:28:03.789091Z",
     "shell.execute_reply": "2021-12-14T19:28:03.788052Z",
     "shell.execute_reply.started": "2021-12-14T19:26:35.440410Z"
    },
    "tags": []
   },
   "outputs": [
    {
     "data": {
      "application/vnd.jupyter.widget-view+json": {
       "model_id": "03df36af4828446e8ff0f7cf31521912",
       "version_major": 2,
       "version_minor": 0
      },
      "text/plain": [
       "  0%|          | 0/44 [00:00<?, ?it/s]"
      ]
     },
     "metadata": {},
     "output_type": "display_data"
    }
   ],
   "source": [
    "# Attach label columns to dF/F and event dataframes\n",
    "for session, data in tqdm(DATA.items()):\n",
    "    labels = data.loc[\n",
    "        :, [\"stimulus\", \"trial\", \"stimulus_is_scrambled_pair\", \"stimulus_is_block\"]\n",
    "    ]\n",
    "    DFF[session] = DFF[session].merge(\n",
    "        labels,\n",
    "        how=\"left\",\n",
    "        left_index=True,\n",
    "        right_index=True,\n",
    "    )\n",
    "    EVENTS[session] = EVENTS[session].merge(\n",
    "        labels,\n",
    "        how=\"left\",\n",
    "        left_index=True,\n",
    "        right_index=True,\n",
    "    )"
   ]
  },
  {
   "cell_type": "markdown",
   "id": "a63d0b62-d8a9-4e69-8533-03bdca122cf4",
   "metadata": {},
   "source": [
    "## Compute mean event-locked trace for each cell"
   ]
  },
  {
   "cell_type": "code",
   "execution_count": 8,
   "id": "341b328e-54e4-4bb5-abd6-f0e69390af8c",
   "metadata": {
    "execution": {
     "iopub.execute_input": "2021-12-14T19:28:03.792229Z",
     "iopub.status.busy": "2021-12-14T19:28:03.791215Z",
     "iopub.status.idle": "2021-12-14T19:28:03.797207Z",
     "shell.execute_reply": "2021-12-14T19:28:03.796399Z",
     "shell.execute_reply.started": "2021-12-14T19:28:03.792180Z"
    },
    "tags": []
   },
   "outputs": [],
   "source": [
    "# Window size, in samples\n",
    "START = -50\n",
    "END = 100"
   ]
  },
  {
   "cell_type": "markdown",
   "id": "b6bd2586-0478-45e9-8bfb-b14ee6f4895f",
   "metadata": {},
   "source": [
    "### Helper functions for event-locked traces"
   ]
  },
  {
   "cell_type": "code",
   "execution_count": 9,
   "id": "68e2e32d-b66f-40ae-bf4a-898462fe0e98",
   "metadata": {
    "execution": {
     "iopub.execute_input": "2021-12-14T19:28:03.799210Z",
     "iopub.status.busy": "2021-12-14T19:28:03.798712Z",
     "iopub.status.idle": "2021-12-14T19:28:03.804393Z",
     "shell.execute_reply": "2021-12-14T19:28:03.803554Z",
     "shell.execute_reply.started": "2021-12-14T19:28:03.799171Z"
    },
    "tags": []
   },
   "outputs": [],
   "source": [
    "def select_events(cell, sd_threshold=1.5):\n",
    "    std = cell.loc[~(cell == 0)].std()\n",
    "    return cell.loc[cell >= (std * sd_threshold)]"
   ]
  },
  {
   "cell_type": "code",
   "execution_count": 10,
   "id": "d164434b-656e-4cac-9772-0213d3cdd06f",
   "metadata": {
    "execution": {
     "iopub.execute_input": "2021-12-14T19:28:03.808908Z",
     "iopub.status.busy": "2021-12-14T19:28:03.805772Z",
     "iopub.status.idle": "2021-12-14T19:28:03.819230Z",
     "shell.execute_reply": "2021-12-14T19:28:03.818476Z",
     "shell.execute_reply.started": "2021-12-14T19:28:03.808855Z"
    },
    "tags": []
   },
   "outputs": [],
   "source": [
    "def peri_event_windows(cell, start=None, end=None):\n",
    "    start = START if start is None else start\n",
    "    end = END if end is None else end\n",
    "    events = cell.loc[cell > 0]\n",
    "    return pd.DataFrame(\n",
    "        index=events.index,\n",
    "        data={\"start\": events.index + start, \"end\": events.index + end},\n",
    "    )"
   ]
  },
  {
   "cell_type": "code",
   "execution_count": 11,
   "id": "d9ea2232-94a2-4e3f-8482-0ef21733ea5a",
   "metadata": {
    "execution": {
     "iopub.execute_input": "2021-12-14T19:28:03.823814Z",
     "iopub.status.busy": "2021-12-14T19:28:03.820632Z",
     "iopub.status.idle": "2021-12-14T19:28:03.834214Z",
     "shell.execute_reply": "2021-12-14T19:28:03.833443Z",
     "shell.execute_reply.started": "2021-12-14T19:28:03.823757Z"
    },
    "tags": []
   },
   "outputs": [],
   "source": [
    "def isolated_event_windows(events, windows):\n",
    "    counts_within_windows = np.nansum(\n",
    "        binarize(peri_event_traces(events, windows)), axis=0\n",
    "    )\n",
    "    assert counts_within_windows.min() > 0\n",
    "    idx = (counts_within_windows == 1).nonzero()[0]\n",
    "    return windows.iloc[idx]"
   ]
  },
  {
   "cell_type": "code",
   "execution_count": 12,
   "id": "b552e3ca-b4fb-4dd4-af04-3653f163641f",
   "metadata": {
    "execution": {
     "iopub.execute_input": "2021-12-14T19:28:03.839084Z",
     "iopub.status.busy": "2021-12-14T19:28:03.838536Z",
     "iopub.status.idle": "2021-12-14T19:28:03.849238Z",
     "shell.execute_reply": "2021-12-14T19:28:03.848535Z",
     "shell.execute_reply.started": "2021-12-14T19:28:03.839032Z"
    },
    "tags": []
   },
   "outputs": [],
   "source": [
    "def peri_event_traces(cell, windows):\n",
    "    return pd.DataFrame(\n",
    "        index=windows.index,\n",
    "        data=[\n",
    "            cell.loc[start:end].values for start, end in zip(windows.start, windows.end)\n",
    "        ],\n",
    "    ).transpose()"
   ]
  },
  {
   "cell_type": "code",
   "execution_count": 13,
   "id": "9778f13a-8d34-4e17-8c81-c8e281347f1a",
   "metadata": {
    "execution": {
     "iopub.execute_input": "2021-12-14T19:28:03.853675Z",
     "iopub.status.busy": "2021-12-14T19:28:03.850592Z",
     "iopub.status.idle": "2021-12-14T19:28:03.859465Z",
     "shell.execute_reply": "2021-12-14T19:28:03.858638Z",
     "shell.execute_reply.started": "2021-12-14T19:28:03.853622Z"
    },
    "tags": []
   },
   "outputs": [],
   "source": [
    "def mean_event_trace(cell, windows):\n",
    "    return peri_event_traces(cell, windows).mean(axis=\"columns\")"
   ]
  },
  {
   "cell_type": "code",
   "execution_count": 14,
   "id": "437a8329-3ccb-4f21-855c-bbfb4a7ae7d5",
   "metadata": {
    "execution": {
     "iopub.execute_input": "2021-12-14T19:28:03.865553Z",
     "iopub.status.busy": "2021-12-14T19:28:03.865006Z",
     "iopub.status.idle": "2021-12-14T19:28:03.869559Z",
     "shell.execute_reply": "2021-12-14T19:28:03.868769Z",
     "shell.execute_reply.started": "2021-12-14T19:28:03.865517Z"
    },
    "tags": []
   },
   "outputs": [],
   "source": [
    "def to_seconds(samples):\n",
    "    return samples / metadata.TWOP_SAMPLE_RATE"
   ]
  },
  {
   "cell_type": "code",
   "execution_count": 15,
   "id": "2ee9f195-d157-4f0f-9172-b5957a8f990f",
   "metadata": {
    "execution": {
     "iopub.execute_input": "2021-12-14T19:28:03.871477Z",
     "iopub.status.busy": "2021-12-14T19:28:03.871023Z",
     "iopub.status.idle": "2021-12-14T19:28:03.880098Z",
     "shell.execute_reply": "2021-12-14T19:28:03.879322Z",
     "shell.execute_reply.started": "2021-12-14T19:28:03.871440Z"
    },
    "tags": []
   },
   "outputs": [],
   "source": [
    "def mean_event_traces(events, dff):\n",
    "    dff = dff.reset_index(level=[\"area\", \"cre\", \"session\"]).loc[:, get_cells(events)]\n",
    "    events = events.reset_index(level=[\"area\", \"cre\", \"session\"]).loc[\n",
    "        :, get_cells(events)\n",
    "    ]\n",
    "    # Get peri-event windows, restricting to isolated events\n",
    "    window_sets = [\n",
    "        isolated_event_windows(events[cell], peri_event_windows(events[cell]))\n",
    "        for cell in events.columns\n",
    "    ]\n",
    "    return pd.concat(\n",
    "            [\n",
    "                pd.Series(name=cell, data=mean_event_trace(dff[cell], windows))\n",
    "                for cell, windows in zip(events.columns, window_sets)\n",
    "            ],\n",
    "            axis=\"columns\",\n",
    "        )"
   ]
  },
  {
   "cell_type": "markdown",
   "id": "96a25d6d-d9c1-4a32-ba44-4d29ee3aba59",
   "metadata": {},
   "source": [
    "### Compute"
   ]
  },
  {
   "cell_type": "code",
   "execution_count": 16,
   "id": "033f554e-8a3f-4bfb-b181-5cf2cd1cc1ff",
   "metadata": {
    "execution": {
     "iopub.execute_input": "2021-12-14T19:28:03.884374Z",
     "iopub.status.busy": "2021-12-14T19:28:03.883878Z",
     "iopub.status.idle": "2021-12-14T19:28:03.888865Z",
     "shell.execute_reply": "2021-12-14T19:28:03.888052Z",
     "shell.execute_reply.started": "2021-12-14T19:28:03.884337Z"
    },
    "tags": []
   },
   "outputs": [],
   "source": [
    "arg_list = [(EVENTS[session], DFF[session]) for session in SESSIONS]"
   ]
  },
  {
   "cell_type": "code",
   "execution_count": 17,
   "id": "9d324874-c5e3-45a3-8689-83ddc5fbb888",
   "metadata": {
    "execution": {
     "iopub.execute_input": "2021-12-14T19:28:03.890764Z",
     "iopub.status.busy": "2021-12-14T19:28:03.890235Z",
     "iopub.status.idle": "2021-12-14T19:30:52.944033Z",
     "shell.execute_reply": "2021-12-14T19:30:52.943166Z",
     "shell.execute_reply.started": "2021-12-14T19:28:03.890726Z"
    },
    "tags": []
   },
   "outputs": [
    {
     "name": "stderr",
     "output_type": "stream",
     "text": [
      "[Parallel(n_jobs=44)]: Using backend LokyBackend with 44 concurrent workers.\n",
      "[Parallel(n_jobs=44)]: Done   2 out of  44 | elapsed:    8.5s remaining:  3.0min\n",
      "[Parallel(n_jobs=44)]: Done  11 out of  44 | elapsed:   21.0s remaining:  1.0min\n",
      "[Parallel(n_jobs=44)]: Done  20 out of  44 | elapsed:   28.3s remaining:   33.9s\n",
      "[Parallel(n_jobs=44)]: Done  29 out of  44 | elapsed:   35.2s remaining:   18.2s\n",
      "[Parallel(n_jobs=44)]: Done  38 out of  44 | elapsed:   48.9s remaining:    7.7s\n",
      "[Parallel(n_jobs=44)]: Done  44 out of  44 | elapsed:  2.8min finished\n"
     ]
    }
   ],
   "source": [
    "mean_traces = dict(\n",
    "    zip(\n",
    "        SESSIONS,\n",
    "        Parallel(n_jobs=min(len(SESSIONS), N_CPUS), verbose=5)(\n",
    "            delayed(mean_event_traces)(*args) for args in arg_list\n",
    "        ),\n",
    "    )\n",
    ")"
   ]
  },
  {
   "cell_type": "markdown",
   "id": "fe4c79fc-4e98-4f5e-847d-7aab3638958f",
   "metadata": {},
   "source": [
    "## Fit curve for each trace"
   ]
  },
  {
   "cell_type": "code",
   "execution_count": 18,
   "id": "8ff9f114-26ac-4fe6-9f44-509700392d4b",
   "metadata": {
    "execution": {
     "iopub.execute_input": "2021-12-14T19:30:52.949711Z",
     "iopub.status.busy": "2021-12-14T19:30:52.949322Z",
     "iopub.status.idle": "2021-12-14T19:30:52.962068Z",
     "shell.execute_reply": "2021-12-14T19:30:52.961130Z",
     "shell.execute_reply.started": "2021-12-14T19:30:52.949672Z"
    },
    "tags": []
   },
   "outputs": [],
   "source": [
    "def exponential(t, a0, a1, lamd):\n",
    "    return a0 + a1 * np.exp(-(lamd * t))\n",
    "\n",
    "\n",
    "def r_squared(y, y_fit):\n",
    "    # Residual sum of squares\n",
    "    ss_res = np.sum((y - y_fit) ** 2)\n",
    "    # Total sum of squares\n",
    "    ss_tot = np.sum((y - np.mean(y)) ** 2)\n",
    "    # R^2\n",
    "    return 1 - (ss_res / ss_tot)\n",
    "\n",
    "\n",
    "def fit(\n",
    "    trace,\n",
    "    start=START,\n",
    "    guess=(0.0, 1.0, 1.0),\n",
    "    maxfev=1e4,\n",
    "    plot=False,\n",
    "):\n",
    "    n = -start\n",
    "    t = trace.index[n:] - n\n",
    "    y = trace.values[n:]\n",
    "    \n",
    "    # Convert units\n",
    "    t = to_seconds(t)\n",
    "    \n",
    "    optimal, covariance = curve_fit(exponential, t, y, p0=guess, maxfev=int(maxfev))\n",
    "    y_fit = exponential(t, *optimal)\n",
    "    return optimal, r_squared(y, y_fit)"
   ]
  },
  {
   "cell_type": "code",
   "execution_count": 19,
   "id": "b669c04a-d3d0-458f-8ab9-5651117165a3",
   "metadata": {
    "execution": {
     "iopub.execute_input": "2021-12-14T19:30:52.964436Z",
     "iopub.status.busy": "2021-12-14T19:30:52.963645Z",
     "iopub.status.idle": "2021-12-14T19:30:52.978257Z",
     "shell.execute_reply": "2021-12-14T19:30:52.976911Z",
     "shell.execute_reply.started": "2021-12-14T19:30:52.964390Z"
    },
    "tags": []
   },
   "outputs": [],
   "source": [
    "def worker(session, cell, trace, **kwargs):\n",
    "    optimal, r2 = fit(trace, **kwargs) \n",
    "    return pd.Series(\n",
    "        {\n",
    "            \"a0\": optimal[0],\n",
    "            \"a1\": optimal[1],\n",
    "            \"lambda\": optimal[2],\n",
    "            \"r_squared\": r2,\n",
    "            \"session\": session,\n",
    "            \"cell\": cell,\n",
    "        }\n",
    "    )"
   ]
  },
  {
   "cell_type": "code",
   "execution_count": 20,
   "id": "e917443c-b909-4d1f-b8d0-3970e88a7f68",
   "metadata": {
    "execution": {
     "iopub.execute_input": "2021-12-14T19:30:52.981781Z",
     "iopub.status.busy": "2021-12-14T19:30:52.980055Z",
     "iopub.status.idle": "2021-12-14T19:30:53.592361Z",
     "shell.execute_reply": "2021-12-14T19:30:53.591250Z",
     "shell.execute_reply.started": "2021-12-14T19:30:52.981742Z"
    },
    "tags": []
   },
   "outputs": [],
   "source": [
    "arg_list = list(\n",
    "    chain(\n",
    "        *[\n",
    "            zip(cycle([session]), traces.items())\n",
    "            for session, traces in mean_traces.items()\n",
    "        ]\n",
    "    )\n",
    ")"
   ]
  },
  {
   "cell_type": "code",
   "execution_count": 21,
   "id": "1e93c37a-f75b-445c-83ea-ee6f98eb890b",
   "metadata": {
    "execution": {
     "iopub.execute_input": "2021-12-14T19:30:53.596477Z",
     "iopub.status.busy": "2021-12-14T19:30:53.594786Z",
     "iopub.status.idle": "2021-12-14T19:33:21.412082Z",
     "shell.execute_reply": "2021-12-14T19:33:21.410948Z",
     "shell.execute_reply.started": "2021-12-14T19:30:53.596431Z"
    },
    "tags": []
   },
   "outputs": [
    {
     "data": {
      "application/vnd.jupyter.widget-view+json": {
       "model_id": "8fdb9d4c6c3d4565a42199abe6d68988",
       "version_major": 2,
       "version_minor": 0
      },
      "text/plain": [
       "  0%|          | 0/4018 [00:00<?, ?it/s]"
      ]
     },
     "metadata": {},
     "output_type": "display_data"
    },
    {
     "name": "stderr",
     "output_type": "stream",
     "text": [
      "/home/wmayner/projects/openscope-differentiation/load.py:370: PeakPropertyWarning: some peaks have a prominence of 0\n",
      "  peaks, properties = scipy.signal.find_peaks(\n",
      "/home/wmayner/projects/openscope-differentiation/load.py:370: PeakPropertyWarning: some peaks have a prominence of 0\n",
      "  peaks, properties = scipy.signal.find_peaks(\n",
      "/home/wmayner/projects/openscope-differentiation/load.py:370: PeakPropertyWarning: some peaks have a prominence of 0\n",
      "  peaks, properties = scipy.signal.find_peaks(\n",
      "/home/wmayner/projects/openscope-differentiation/load.py:370: PeakPropertyWarning: some peaks have a prominence of 0\n",
      "  peaks, properties = scipy.signal.find_peaks(\n",
      "/home/wmayner/projects/openscope-differentiation/load.py:370: PeakPropertyWarning: some peaks have a prominence of 0\n",
      "  peaks, properties = scipy.signal.find_peaks(\n",
      "[Parallel(n_jobs=160)]: Using backend LokyBackend with 160 concurrent workers.\n",
      "[Parallel(n_jobs=160)]: Done 130 tasks      | elapsed:  1.5min\n",
      "[Parallel(n_jobs=160)]: Done 328 tasks      | elapsed:  1.6min\n",
      "[Parallel(n_jobs=160)]: Done 562 tasks      | elapsed:  1.6min\n",
      "[Parallel(n_jobs=160)]: Done 832 tasks      | elapsed:  1.7min\n",
      "[Parallel(n_jobs=160)]: Done 1138 tasks      | elapsed:  1.7min\n",
      "[Parallel(n_jobs=160)]: Done 1480 tasks      | elapsed:  1.8min\n",
      "[Parallel(n_jobs=160)]: Done 1858 tasks      | elapsed:  1.8min\n",
      "[Parallel(n_jobs=160)]: Done 2272 tasks      | elapsed:  1.9min\n",
      "[Parallel(n_jobs=160)]: Done 2722 tasks      | elapsed:  2.1min\n",
      "[Parallel(n_jobs=160)]: Done 3208 tasks      | elapsed:  2.2min\n",
      "[Parallel(n_jobs=160)]: Done 4018 out of 4018 | elapsed:  2.4min finished\n"
     ]
    }
   ],
   "source": [
    "results = Parallel(n_jobs=min(len(arg_list), N_CPUS), verbose=5)(\n",
    "    delayed(worker)(session, cell, trace) for session, (cell, trace) in tqdm(arg_list)\n",
    ")"
   ]
  },
  {
   "cell_type": "code",
   "execution_count": 22,
   "id": "bfed1c47-c80e-4e3e-bb30-f173fde1a711",
   "metadata": {
    "execution": {
     "iopub.execute_input": "2021-12-14T19:33:21.415860Z",
     "iopub.status.busy": "2021-12-14T19:33:21.415070Z",
     "iopub.status.idle": "2021-12-14T19:33:22.845876Z",
     "shell.execute_reply": "2021-12-14T19:33:22.844898Z",
     "shell.execute_reply.started": "2021-12-14T19:33:21.415800Z"
    },
    "tags": []
   },
   "outputs": [],
   "source": [
    "df = (\n",
    "    pd.DataFrame(results)\n",
    "    .merge(METADATA, on='session')\n",
    ")"
   ]
  },
  {
   "cell_type": "code",
   "execution_count": 23,
   "id": "3bbd39c4-680f-4095-951f-92108cb09449",
   "metadata": {
    "execution": {
     "iopub.execute_input": "2021-12-14T19:33:22.849111Z",
     "iopub.status.busy": "2021-12-14T19:33:22.847548Z",
     "iopub.status.idle": "2021-12-14T19:33:22.859921Z",
     "shell.execute_reply": "2021-12-14T19:33:22.859114Z",
     "shell.execute_reply.started": "2021-12-14T19:33:22.849053Z"
    },
    "tags": []
   },
   "outputs": [],
   "source": [
    "def half_life(lambd):\n",
    "    return np.log(2) / lambd\n",
    "\n",
    "df['tau_1/2'] = half_life(df['lambda'])"
   ]
  },
  {
   "cell_type": "markdown",
   "id": "09b9d362-cbec-46a6-98d2-819dd1518606",
   "metadata": {},
   "source": [
    "### Plot worst fit"
   ]
  },
  {
   "cell_type": "code",
   "execution_count": 24,
   "id": "638697e0-99c4-4f7d-b7dc-a5c9e7c9890e",
   "metadata": {
    "execution": {
     "iopub.execute_input": "2021-12-14T19:33:22.862265Z",
     "iopub.status.busy": "2021-12-14T19:33:22.861473Z",
     "iopub.status.idle": "2021-12-14T19:33:22.877804Z",
     "shell.execute_reply": "2021-12-14T19:33:22.876511Z",
     "shell.execute_reply.started": "2021-12-14T19:33:22.862218Z"
    },
    "tags": []
   },
   "outputs": [],
   "source": [
    "def plot_fit(row, figsize=(4, 3)):\n",
    "    fig = plt.figure(figsize=figsize)\n",
    "    session, cell = row['session'], row['cell']\n",
    "    trace = (\n",
    "        mean_traces[row['session']]\n",
    "        .loc[-START:, row['cell']]\n",
    "        .reset_index(drop=True)\n",
    "        .copy()\n",
    "    )\n",
    "    \n",
    "    t = to_seconds(trace.index)\n",
    "    y = trace.values\n",
    "    y_fit = exponential(t, *row[['a0', 'a1', 'lambda']])\n",
    "    \n",
    "    plt.plot(t, y, \"k.\")\n",
    "    plt.plot(t, y_fit, \"r-\")\n",
    "    plt.annotate('r^2 = {:.2}'.format(row['r_squared']), (2.5, 0.8*y.max()))\n",
    "    return fig"
   ]
  },
  {
   "cell_type": "code",
   "execution_count": 25,
   "id": "63a10af1-47ca-4046-930a-0186e020c277",
   "metadata": {
    "execution": {
     "iopub.execute_input": "2021-12-14T19:33:22.881564Z",
     "iopub.status.busy": "2021-12-14T19:33:22.879929Z",
     "iopub.status.idle": "2021-12-14T19:33:23.825727Z",
     "shell.execute_reply": "2021-12-14T19:33:23.824848Z",
     "shell.execute_reply.started": "2021-12-14T19:33:22.881517Z"
    },
    "tags": []
   },
   "outputs": [
    {
     "name": "stdout",
     "output_type": "stream",
     "text": [
      "session    718673398\n",
      "cell          cell_5\n",
      "Name: 803, dtype: object\n"
     ]
    },
    {
     "data": {
      "text/plain": [
       "PosixPath('figures/fig_1-3/example_fit.svg')"
      ]
     },
     "execution_count": 25,
     "metadata": {},
     "output_type": "execute_result"
    },
    {
     "data": {
      "image/png": "[encoded data removed]",
      "text/plain": [
       "<Figure size 288x216 with 1 Axes>"
      ]
     },
     "metadata": {
      "needs_background": "light"
     },
     "output_type": "display_data"
    }
   ],
   "source": [
    "row = df.iloc[df.r_squared.argmin()]\n",
    "print(row[['session', 'cell']])\n",
    "fig = plot_fit(row)\n",
    "plt.ylabel('dF/F')\n",
    "plt.xlabel('seconds')\n",
    "savefig(fig, OUTPUT_DIR/'example_fit')"
   ]
  },
  {
   "cell_type": "markdown",
   "id": "7c32b2b5-0660-4b27-b6e7-1b35be057771",
   "metadata": {},
   "source": [
    "## Analyze by area and layer"
   ]
  },
  {
   "cell_type": "markdown",
   "id": "2ad1c611-a371-42d5-9843-c598412539c0",
   "metadata": {},
   "source": [
    "### Compute extracted kinetics"
   ]
  },
  {
   "cell_type": "code",
   "execution_count": 26,
   "id": "cc79d63b-5b73-4270-9d02-1ae3f0d1f5cf",
   "metadata": {
    "execution": {
     "iopub.execute_input": "2021-12-14T19:33:23.829714Z",
     "iopub.status.busy": "2021-12-14T19:33:23.828091Z",
     "iopub.status.idle": "2021-12-14T19:33:42.198073Z",
     "shell.execute_reply": "2021-12-14T19:33:42.196890Z",
     "shell.execute_reply.started": "2021-12-14T19:33:23.829665Z"
    },
    "tags": []
   },
   "outputs": [
    {
     "data": {
      "application/vnd.jupyter.widget-view+json": {
       "model_id": "65cec158b1874f71ae503ad84ec757c1",
       "version_major": 2,
       "version_minor": 0
      },
      "text/plain": [
       "  0%|          | 0/4018 [00:00<?, ?it/s]"
      ]
     },
     "metadata": {},
     "output_type": "display_data"
    }
   ],
   "source": [
    "time = to_seconds(np.linspace(0, END, num=(END + 1)))\n",
    "\n",
    "def response_kernel(row):\n",
    "    return pd.DataFrame({\n",
    "        't (s)': time,\n",
    "        'dF/F': exponential(time, *row[['a0', 'a1', 'lambda']]),\n",
    "        **row[['session', 'layer', 'area', 'cell']],\n",
    "    })\n",
    "\n",
    "kinetics = pd.concat(df.progress_apply(response_kernel, axis='columns').values)"
   ]
  },
  {
   "cell_type": "code",
   "execution_count": 27,
   "id": "4593660f-d8f1-4383-9946-60d37908fb7b",
   "metadata": {
    "execution": {
     "iopub.execute_input": "2021-12-14T19:33:42.222861Z",
     "iopub.status.busy": "2021-12-14T19:33:42.222400Z",
     "iopub.status.idle": "2021-12-14T19:33:42.458634Z",
     "shell.execute_reply": "2021-12-14T19:33:42.457837Z",
     "shell.execute_reply.started": "2021-12-14T19:33:42.222813Z"
    },
    "tags": []
   },
   "outputs": [],
   "source": [
    "for col in ['area', 'layer']:\n",
    "    kinetics[col] = pd.Categorical(kinetics[col], categories=df[col].cat.categories, ordered=True)"
   ]
  },
  {
   "cell_type": "code",
   "execution_count": 28,
   "id": "24aaf2e4-fcee-40a9-b93f-3fff1ffecc7d",
   "metadata": {
    "execution": {
     "iopub.execute_input": "2021-12-14T19:33:42.460743Z",
     "iopub.status.busy": "2021-12-14T19:33:42.460272Z",
     "iopub.status.idle": "2021-12-14T19:33:42.902077Z",
     "shell.execute_reply": "2021-12-14T19:33:42.900965Z",
     "shell.execute_reply.started": "2021-12-14T19:33:42.460701Z"
    },
    "tags": []
   },
   "outputs": [],
   "source": [
    "kinetics['layer & area'] = kinetics['layer'].astype(str) + ' ' + kinetics['area'].astype(str)"
   ]
  },
  {
   "cell_type": "code",
   "execution_count": 29,
   "id": "15beb49d-a2e6-47fb-9b20-71cffa9715f5",
   "metadata": {
    "execution": {
     "iopub.execute_input": "2021-12-14T19:33:42.904254Z",
     "iopub.status.busy": "2021-12-14T19:33:42.903767Z",
     "iopub.status.idle": "2021-12-14T19:33:52.233975Z",
     "shell.execute_reply": "2021-12-14T19:33:52.232709Z",
     "shell.execute_reply.started": "2021-12-14T19:33:42.904208Z"
    },
    "tags": []
   },
   "outputs": [
    {
     "data": {
      "text/plain": [
       "PosixPath('figures/fig_1-3/traces.svg')"
      ]
     },
     "execution_count": 29,
     "metadata": {},
     "output_type": "execute_result"
    },
    {
     "data": {
      "image/png": "[encoded data removed]",
      "text/plain": [
       "<Figure size 288x648 with 3 Axes>"
      ]
     },
     "metadata": {
      "needs_background": "light"
     },
     "output_type": "display_data"
    }
   ],
   "source": [
    "fig, axes = plt.subplots(nrows=3, ncols=1, figsize=(4, 9), sharey=True, sharex=True)\n",
    "for i, hue in enumerate([\n",
    "    'layer & area',\n",
    "    'layer',\n",
    "    'area',\n",
    "]):\n",
    "    ax = axes[i]\n",
    "    sb.lineplot(\n",
    "        data=kinetics,\n",
    "        x=\"t (s)\",\n",
    "        y=\"dF/F\",\n",
    "        legend=True,\n",
    "        hue=hue,\n",
    "        alpha=0.2,\n",
    "        ci='sd',\n",
    "        ax=ax,\n",
    "    )\n",
    "    if i == 0:\n",
    "        legend = ax.legend(ncol=3, fontsize=8, title_fontsize=10)\n",
    "        legend.set_title(hue) \n",
    "savefig(fig, OUTPUT_DIR/f'traces')"
   ]
  },
  {
   "cell_type": "code",
   "execution_count": 30,
   "id": "0c10af65-c371-4244-877b-9fd30b73b542",
   "metadata": {
    "execution": {
     "iopub.execute_input": "2021-12-14T19:33:52.238241Z",
     "iopub.status.busy": "2021-12-14T19:33:52.236085Z",
     "iopub.status.idle": "2021-12-14T19:33:56.676752Z",
     "shell.execute_reply": "2021-12-14T19:33:56.675697Z",
     "shell.execute_reply.started": "2021-12-14T19:33:52.238183Z"
    },
    "tags": []
   },
   "outputs": [
    {
     "data": {
      "text/plain": [
       "PosixPath('figures/fig_1-3/r2.svg')"
      ]
     },
     "execution_count": 30,
     "metadata": {},
     "output_type": "execute_result"
    },
    {
     "data": {
      "image/png": "[encoded data removed]",
      "text/plain": [
       "<Figure size 432x432 with 15 Axes>"
      ]
     },
     "metadata": {
      "needs_background": "light"
     },
     "output_type": "display_data"
    }
   ],
   "source": [
    "grid = sb.catplot(\n",
    "    kind=\"box\",\n",
    "    y=\"r_squared\",\n",
    "    data=df,\n",
    "    row=\"layer\",\n",
    "    col=\"area\",\n",
    "    width=0.6,\n",
    "    color=\"grey\",\n",
    "    height=2.0,\n",
    "    aspect=0.6,\n",
    "    margin_titles=True,\n",
    ")\n",
    "grid.set(ylim=(0, 1))\n",
    "grid = cleanup_grid(grid)\n",
    "plt.subplots_adjust(hspace=0.25)\n",
    "savefig(grid.fig, OUTPUT_DIR/'r2')"
   ]
  },
  {
   "cell_type": "markdown",
   "id": "6ecefa35-a76b-436d-aabb-422061e1c0e7",
   "metadata": {},
   "source": [
    "## Stats"
   ]
  },
  {
   "cell_type": "code",
   "execution_count": 31,
   "id": "095d09c1-1d5f-44f9-8f24-633a46556b5d",
   "metadata": {
    "execution": {
     "iopub.execute_input": "2021-12-14T19:33:56.679837Z",
     "iopub.status.busy": "2021-12-14T19:33:56.678776Z",
     "iopub.status.idle": "2021-12-14T19:33:59.642352Z",
     "shell.execute_reply": "2021-12-14T19:33:59.641048Z",
     "shell.execute_reply.started": "2021-12-14T19:33:56.679777Z"
    },
    "tags": []
   },
   "outputs": [],
   "source": [
    "%load_ext rpy2.ipython"
   ]
  },
  {
   "cell_type": "code",
   "execution_count": 32,
   "id": "124b7259-566b-4dbf-8892-4784fcd1c153",
   "metadata": {
    "execution": {
     "iopub.execute_input": "2021-12-14T19:33:59.645280Z",
     "iopub.status.busy": "2021-12-14T19:33:59.644640Z",
     "iopub.status.idle": "2021-12-14T19:34:07.272412Z",
     "shell.execute_reply": "2021-12-14T19:34:07.271642Z",
     "shell.execute_reply.started": "2021-12-14T19:33:59.645228Z"
    },
    "tags": []
   },
   "outputs": [
    {
     "name": "stderr",
     "output_type": "stream",
     "text": [
      "R[write to console]: ── Attaching packages ─────────────────────────────────────── tidyverse 1.2.1 ──\n",
      "\n",
      "R[write to console]: ✔ ggplot2 3.3.3     ✔ purrr   0.3.4\n",
      "✔ tibble  3.1.2     ✔ dplyr   1.0.6\n",
      "✔ tidyr   1.1.3     ✔ stringr 1.4.0\n",
      "✔ readr   1.4.0     ✔ forcats 0.5.1\n",
      "\n",
      "R[write to console]: ── Conflicts ────────────────────────────────────────── tidyverse_conflicts() ──\n",
      "✖ dplyr::filter() masks stats::filter()\n",
      "✖ dplyr::lag()    masks stats::lag()\n",
      "\n",
      "R[write to console]: Loading required package: Matrix\n",
      "\n",
      "R[write to console]: \n",
      "Attaching package: ‘Matrix’\n",
      "\n",
      "\n",
      "R[write to console]: The following objects are masked from ‘package:tidyr’:\n",
      "\n",
      "    expand, pack, unpack\n",
      "\n",
      "\n",
      "R[write to console]: Loading required package: mvtnorm\n",
      "\n",
      "R[write to console]: Loading required package: survival\n",
      "\n",
      "R[write to console]: Loading required package: TH.data\n",
      "\n",
      "R[write to console]: Loading required package: MASS\n",
      "\n",
      "R[write to console]: \n",
      "Attaching package: ‘MASS’\n",
      "\n",
      "\n",
      "R[write to console]: The following object is masked from ‘package:dplyr’:\n",
      "\n",
      "    select\n",
      "\n",
      "\n",
      "R[write to console]: \n",
      "Attaching package: ‘TH.data’\n",
      "\n",
      "\n",
      "R[write to console]: The following object is masked from ‘package:MASS’:\n",
      "\n",
      "    geyser\n",
      "\n",
      "\n"
     ]
    }
   ],
   "source": [
    "%%R\n",
    "library(tidyverse)\n",
    "library(ggplot2)\n",
    "library(lme4)\n",
    "library(broom)\n",
    "library(multcomp)"
   ]
  },
  {
   "cell_type": "code",
   "execution_count": 33,
   "id": "07b69ada-e6a8-44fa-81b2-22059df4f91d",
   "metadata": {
    "execution": {
     "iopub.execute_input": "2021-12-14T19:34:07.274563Z",
     "iopub.status.busy": "2021-12-14T19:34:07.273750Z",
     "iopub.status.idle": "2021-12-14T19:34:07.280780Z",
     "shell.execute_reply": "2021-12-14T19:34:07.279716Z",
     "shell.execute_reply.started": "2021-12-14T19:34:07.274520Z"
    },
    "tags": []
   },
   "outputs": [],
   "source": [
    "response = 'tau_1/2'"
   ]
  },
  {
   "cell_type": "code",
   "execution_count": 34,
   "id": "02c1f712-32f1-48ea-a5cd-b84a3a306441",
   "metadata": {
    "execution": {
     "iopub.execute_input": "2021-12-14T19:34:07.282938Z",
     "iopub.status.busy": "2021-12-14T19:34:07.282448Z",
     "iopub.status.idle": "2021-12-14T19:34:07.315426Z",
     "shell.execute_reply": "2021-12-14T19:34:07.314011Z",
     "shell.execute_reply.started": "2021-12-14T19:34:07.282885Z"
    },
    "tags": []
   },
   "outputs": [],
   "source": [
    "data = df.loc[:, ['layer', 'area', 'session', response]]"
   ]
  },
  {
   "cell_type": "code",
   "execution_count": 35,
   "id": "b491fab3-4816-45d9-8755-6cec4bb29ae4",
   "metadata": {
    "execution": {
     "iopub.execute_input": "2021-12-14T19:34:07.318601Z",
     "iopub.status.busy": "2021-12-14T19:34:07.317574Z",
     "iopub.status.idle": "2021-12-14T19:34:07.343405Z",
     "shell.execute_reply": "2021-12-14T19:34:07.342014Z",
     "shell.execute_reply.started": "2021-12-14T19:34:07.318535Z"
    },
    "tags": []
   },
   "outputs": [],
   "source": [
    "%%R\n",
    "\n",
    "compare_models = function(data, formula, reduced_formula) {\n",
    "    # Estimate models\n",
    "    model = lmer(formula, data=data, REML=FALSE)\n",
    "    reduced_model = lmer(reduced_formula, data=data, REML=FALSE)\n",
    "\n",
    "    message('--- Full model ------')\n",
    "    print(model)\n",
    "    message('--- Reduced model ---')\n",
    "    print(reduced_model)\n",
    "    \n",
    "    # Compare models\n",
    "    model_comparison = anova(model, reduced_model)\n",
    "    model_comparison\n",
    "}"
   ]
  },
  {
   "cell_type": "markdown",
   "id": "ae14535b-e2a2-4c0a-a854-b473dc149721",
   "metadata": {},
   "source": [
    "### Layer * area"
   ]
  },
  {
   "cell_type": "code",
   "execution_count": 36,
   "id": "f432244c-9a2d-4a8c-8769-00a3d6fb8cbf",
   "metadata": {
    "execution": {
     "iopub.execute_input": "2021-12-14T19:34:07.345936Z",
     "iopub.status.busy": "2021-12-14T19:34:07.345530Z",
     "iopub.status.idle": "2021-12-14T19:34:07.353892Z",
     "shell.execute_reply": "2021-12-14T19:34:07.352608Z",
     "shell.execute_reply.started": "2021-12-14T19:34:07.345889Z"
    },
    "tags": []
   },
   "outputs": [
    {
     "name": "stdout",
     "output_type": "stream",
     "text": [
      "`tau_1/2` ~ 1 + layer * area + (1 | session)\n",
      "`tau_1/2` ~ layer + area + 1 + (1 | session)\n"
     ]
    }
   ],
   "source": [
    "formula = f\"`{response}` ~ 1 + layer * area + (1 | session)\"\n",
    "reduced_formula = f\"`{response}` ~ layer + area + 1 + (1 | session)\" \n",
    "print(formula)\n",
    "print(reduced_formula)"
   ]
  },
  {
   "cell_type": "code",
   "execution_count": 37,
   "id": "9a0828ae-c67f-45ab-b5eb-6582c5e3202a",
   "metadata": {
    "execution": {
     "iopub.execute_input": "2021-12-14T19:34:07.356329Z",
     "iopub.status.busy": "2021-12-14T19:34:07.355905Z",
     "iopub.status.idle": "2021-12-14T19:34:08.699782Z",
     "shell.execute_reply": "2021-12-14T19:34:08.698907Z",
     "shell.execute_reply.started": "2021-12-14T19:34:07.356282Z"
    },
    "tags": []
   },
   "outputs": [
    {
     "name": "stderr",
     "output_type": "stream",
     "text": [
      "R[write to console]: --- Full model ------\n",
      "\n"
     ]
    },
    {
     "name": "stdout",
     "output_type": "stream",
     "text": [
      "Linear mixed model fit by maximum likelihood  ['lmerMod']\n",
      "Formula: `tau_1/2` ~ 1 + layer * area + (1 | session)\n",
      "   Data: data\n",
      "      AIC       BIC    logLik  deviance  df.resid \n",
      "-13141.24 -13034.17   6587.62 -13175.24      4001 \n",
      "Random effects:\n",
      " Groups   Name        Std.Dev.\n",
      " session  (Intercept) 0.06799 \n",
      " Residual             0.04572 \n",
      "Number of obs: 4018, groups:  session, 44\n",
      "Fixed Effects:\n",
      "   (Intercept)         layer.L         layer.Q          area.L          area.Q  \n",
      "      0.295326       -0.017630        0.009714        0.003882        0.006534  \n",
      "        area.C          area^4  layer.L:area.L  layer.Q:area.L  layer.L:area.Q  \n",
      "     -0.007684        0.002859        0.007640       -0.003262        0.028089  \n",
      "layer.Q:area.Q  layer.L:area.C  layer.Q:area.C  layer.L:area^4  layer.Q:area^4  \n",
      "      0.011126       -0.008761       -0.024714       -0.024483        0.003572  \n"
     ]
    },
    {
     "name": "stderr",
     "output_type": "stream",
     "text": [
      "R[write to console]: --- Reduced model ---\n",
      "\n"
     ]
    },
    {
     "name": "stdout",
     "output_type": "stream",
     "text": [
      "Linear mixed model fit by maximum likelihood  ['lmerMod']\n",
      "Formula: `tau_1/2` ~ layer + area + 1 + (1 | session)\n",
      "   Data: data\n",
      "       AIC        BIC     logLik   deviance   df.resid \n",
      "-13155.947 -13099.260   6586.974 -13173.947       4009 \n",
      "Random effects:\n",
      " Groups   Name        Std.Dev.\n",
      " session  (Intercept) 0.06899 \n",
      " Residual             0.04572 \n",
      "Number of obs: 4018, groups:  session, 44\n",
      "Fixed Effects:\n",
      "(Intercept)      layer.L      layer.Q       area.L       area.Q       area.C  \n",
      "   0.295954    -0.016270     0.010497     0.003848     0.004747    -0.007626  \n",
      "     area^4  \n",
      "   0.005200  \n",
      "Data: data\n",
      "Models:\n",
      "reduced_model: `tau_1/2` ~ layer + area + 1 + (1 | session)\n",
      "model: `tau_1/2` ~ 1 + layer * area + (1 | session)\n",
      "              Df    AIC    BIC logLik deviance Chisq Chi Df Pr(>Chisq)\n",
      "reduced_model  9 -13156 -13099 6587.0   -13174                        \n",
      "model         17 -13141 -13034 6587.6   -13175 1.293      8     0.9956\n"
     ]
    }
   ],
   "source": [
    "%%R -i data -i formula -i reduced_formula \n",
    "\n",
    "comparison = compare_models(data, formula, reduced_formula)\n",
    "print(comparison)"
   ]
  },
  {
   "cell_type": "markdown",
   "id": "fa5d0aac-02c7-4a10-acec-e435418f68f2",
   "metadata": {},
   "source": [
    "## Layer"
   ]
  },
  {
   "cell_type": "code",
   "execution_count": 38,
   "id": "cba21ae8-2cad-40a8-bd9d-25f858071187",
   "metadata": {
    "execution": {
     "iopub.execute_input": "2021-12-14T19:34:08.701822Z",
     "iopub.status.busy": "2021-12-14T19:34:08.701285Z",
     "iopub.status.idle": "2021-12-14T19:34:08.708204Z",
     "shell.execute_reply": "2021-12-14T19:34:08.707362Z",
     "shell.execute_reply.started": "2021-12-14T19:34:08.701780Z"
    },
    "tags": []
   },
   "outputs": [
    {
     "name": "stdout",
     "output_type": "stream",
     "text": [
      "`tau_1/2` ~ 1 + layer + area + (1 | session)\n",
      "`tau_1/2` ~ 1 + area + (1 | session)\n"
     ]
    }
   ],
   "source": [
    "formula = f\"`{response}` ~ 1 + layer + area + (1 | session)\"\n",
    "reduced_formula = f\"`{response}` ~ 1 + area + (1 | session)\" \n",
    "print(formula)\n",
    "print(reduced_formula)"
   ]
  },
  {
   "cell_type": "code",
   "execution_count": 39,
   "id": "44be504b-7c58-41ce-bd42-46305d41692d",
   "metadata": {
    "execution": {
     "iopub.execute_input": "2021-12-14T19:34:08.710155Z",
     "iopub.status.busy": "2021-12-14T19:34:08.709641Z",
     "iopub.status.idle": "2021-12-14T19:34:09.442952Z",
     "shell.execute_reply": "2021-12-14T19:34:09.442301Z",
     "shell.execute_reply.started": "2021-12-14T19:34:08.710115Z"
    },
    "tags": []
   },
   "outputs": [
    {
     "name": "stderr",
     "output_type": "stream",
     "text": [
      "R[write to console]: --- Full model ------\n",
      "\n"
     ]
    },
    {
     "name": "stdout",
     "output_type": "stream",
     "text": [
      "Linear mixed model fit by maximum likelihood  ['lmerMod']\n",
      "Formula: `tau_1/2` ~ 1 + layer + area + (1 | session)\n",
      "   Data: data\n",
      "       AIC        BIC     logLik   deviance   df.resid \n",
      "-13155.947 -13099.260   6586.974 -13173.947       4009 \n",
      "Random effects:\n",
      " Groups   Name        Std.Dev.\n",
      " session  (Intercept) 0.06899 \n",
      " Residual             0.04572 \n",
      "Number of obs: 4018, groups:  session, 44\n",
      "Fixed Effects:\n",
      "(Intercept)      layer.L      layer.Q       area.L       area.Q       area.C  \n",
      "   0.295954    -0.016270     0.010497     0.003848     0.004747    -0.007626  \n",
      "     area^4  \n",
      "   0.005200  \n"
     ]
    },
    {
     "name": "stderr",
     "output_type": "stream",
     "text": [
      "R[write to console]: --- Reduced model ---\n",
      "\n"
     ]
    },
    {
     "name": "stdout",
     "output_type": "stream",
     "text": [
      "Linear mixed model fit by maximum likelihood  ['lmerMod']\n",
      "Formula: `tau_1/2` ~ 1 + area + (1 | session)\n",
      "   Data: data\n",
      "       AIC        BIC     logLik   deviance   df.resid \n",
      "-13158.804 -13114.714   6586.402 -13172.804       4011 \n",
      "Random effects:\n",
      " Groups   Name        Std.Dev.\n",
      " session  (Intercept) 0.06992 \n",
      " Residual             0.04572 \n",
      "Number of obs: 4018, groups:  session, 44\n",
      "Fixed Effects:\n",
      "(Intercept)       area.L       area.Q       area.C       area^4  \n",
      "   0.296160     0.003892     0.004308    -0.007631     0.005830  \n",
      "Data: data\n",
      "Models:\n",
      "reduced_model: `tau_1/2` ~ 1 + area + (1 | session)\n",
      "model: `tau_1/2` ~ 1 + layer + area + (1 | session)\n",
      "              Df    AIC    BIC logLik deviance  Chisq Chi Df Pr(>Chisq)\n",
      "reduced_model  7 -13159 -13115 6586.4   -13173                         \n",
      "model          9 -13156 -13099 6587.0   -13174 1.1431      2     0.5647\n"
     ]
    }
   ],
   "source": [
    "%%R -i data -i formula -i reduced_formula \n",
    "\n",
    "comparison = compare_models(data, formula, reduced_formula)\n",
    "print(comparison)"
   ]
  },
  {
   "cell_type": "markdown",
   "id": "ade23b4b-462b-4580-b565-84c512f0f321",
   "metadata": {},
   "source": [
    "## Area"
   ]
  },
  {
   "cell_type": "code",
   "execution_count": 40,
   "id": "bf68d0d4-b960-4172-b89d-cbf6121bfe48",
   "metadata": {
    "execution": {
     "iopub.execute_input": "2021-12-14T19:34:09.445710Z",
     "iopub.status.busy": "2021-12-14T19:34:09.445390Z",
     "iopub.status.idle": "2021-12-14T19:34:09.451389Z",
     "shell.execute_reply": "2021-12-14T19:34:09.450798Z",
     "shell.execute_reply.started": "2021-12-14T19:34:09.445661Z"
    },
    "tags": []
   },
   "outputs": [
    {
     "name": "stdout",
     "output_type": "stream",
     "text": [
      "`tau_1/2` ~ 1 + layer + area + (1 | session)\n",
      "`tau_1/2` ~ 1 + layer + (1 | session)\n"
     ]
    }
   ],
   "source": [
    "formula = f\"`{response}` ~ 1 + layer + area + (1 | session)\"\n",
    "reduced_formula = f\"`{response}` ~ 1 + layer + (1 | session)\" \n",
    "print(formula)\n",
    "print(reduced_formula)"
   ]
  },
  {
   "cell_type": "code",
   "execution_count": 41,
   "id": "1cd725c2-afb2-4e2c-bb56-6741f1fb0c87",
   "metadata": {
    "execution": {
     "iopub.execute_input": "2021-12-14T19:34:09.457703Z",
     "iopub.status.busy": "2021-12-14T19:34:09.457388Z",
     "iopub.status.idle": "2021-12-14T19:34:10.200748Z",
     "shell.execute_reply": "2021-12-14T19:34:10.200138Z",
     "shell.execute_reply.started": "2021-12-14T19:34:09.457664Z"
    },
    "tags": []
   },
   "outputs": [
    {
     "name": "stderr",
     "output_type": "stream",
     "text": [
      "R[write to console]: --- Full model ------\n",
      "\n"
     ]
    },
    {
     "name": "stdout",
     "output_type": "stream",
     "text": [
      "Linear mixed model fit by maximum likelihood  ['lmerMod']\n",
      "Formula: `tau_1/2` ~ 1 + layer + area + (1 | session)\n",
      "   Data: data\n",
      "       AIC        BIC     logLik   deviance   df.resid \n",
      "-13155.947 -13099.260   6586.974 -13173.947       4009 \n",
      "Random effects:\n",
      " Groups   Name        Std.Dev.\n",
      " session  (Intercept) 0.06899 \n",
      " Residual             0.04572 \n",
      "Number of obs: 4018, groups:  session, 44\n",
      "Fixed Effects:\n",
      "(Intercept)      layer.L      layer.Q       area.L       area.Q       area.C  \n",
      "   0.295954    -0.016270     0.010497     0.003848     0.004747    -0.007626  \n",
      "     area^4  \n",
      "   0.005200  \n"
     ]
    },
    {
     "name": "stderr",
     "output_type": "stream",
     "text": [
      "R[write to console]: --- Reduced model ---\n",
      "\n"
     ]
    },
    {
     "name": "stdout",
     "output_type": "stream",
     "text": [
      "Linear mixed model fit by maximum likelihood  ['lmerMod']\n",
      "Formula: `tau_1/2` ~ 1 + layer + (1 | session)\n",
      "   Data: data\n",
      "       AIC        BIC     logLik   deviance   df.resid \n",
      "-13163.718 -13132.226   6586.859 -13173.718       4013 \n",
      "Random effects:\n",
      " Groups   Name        Std.Dev.\n",
      " session  (Intercept) 0.06917 \n",
      " Residual             0.04572 \n",
      "Number of obs: 4018, groups:  session, 44\n",
      "Fixed Effects:\n",
      "(Intercept)      layer.L      layer.Q  \n",
      "    0.29591     -0.01634      0.01047  \n",
      "Data: data\n",
      "Models:\n",
      "reduced_model: `tau_1/2` ~ 1 + layer + (1 | session)\n",
      "model: `tau_1/2` ~ 1 + layer + area + (1 | session)\n",
      "              Df    AIC    BIC logLik deviance  Chisq Chi Df Pr(>Chisq)\n",
      "reduced_model  5 -13164 -13132 6586.9   -13174                         \n",
      "model          9 -13156 -13099 6587.0   -13174 0.2288      4     0.9939\n"
     ]
    }
   ],
   "source": [
    "%%R -i data -i formula -i reduced_formula \n",
    "\n",
    "comparison = compare_models(data, formula, reduced_formula)\n",
    "print(comparison)"
   ]
  }
 ],
 "metadata": {
  "kernelspec": {
   "display_name": "Python 3 (ipykernel)",
   "language": "python",
   "name": "python3"
  },
  "language_info": {
   "codemirror_mode": {
    "name": "ipython",
    "version": 3
   },
   "file_extension": ".py",
   "mimetype": "text/x-python",
   "name": "python",
   "nbconvert_exporter": "python",
   "pygments_lexer": "ipython3",
   "version": "3.8.8"
  },
  "widgets": {
   "application/vnd.jupyter.widget-state+json": {
    "state": {
     "007a027bfdea44e68f5bfe310bfad1d3": {
      "model_module": "@jupyter-widgets/base",
      "model_module_version": "1.2.0",
      "model_name": "LayoutModel",
      "state": {}
     },
     "03df36af4828446e8ff0f7cf31521912": {
      "model_module": "@jupyter-widgets/controls",
      "model_module_version": "1.5.0",
      "model_name": "HBoxModel",
      "state": {
       "children": [
        "IPY_MODEL_e802279756cb43048d6bdf0c3cbe64ab",
        "IPY_MODEL_af778cbf564a45c79bb3b843c8fc1e41",
        "IPY_MODEL_20877715023c4ce3ae80f97ca36bd036"
       ],
       "layout": "IPY_MODEL_806d3efcbdd3449881574c1723601dcd"
      }
     },
     "0592693e73414897a89bc7852a1ca966": {
      "model_module": "@jupyter-widgets/controls",
      "model_module_version": "1.5.0",
      "model_name": "HTMLModel",
      "state": {
       "layout": "IPY_MODEL_6b4bbaae3a154b3ea82483eca672c939",
       "style": "IPY_MODEL_70249c22db1d4741b6027b976dd79bbc",
       "value": " 4018/4018 [02:22&lt;00:00, 59.81it/s]"
      }
     },
     "05cc821dbdaf4689a5d71672769d6b98": {
      "model_module": "@jupyter-widgets/controls",
      "model_module_version": "1.5.0",
      "model_name": "DescriptionStyleModel",
      "state": {
       "description_width": ""
      }
     },
     "1354d14768724b72afbbf56000c65ce6": {
      "model_module": "@jupyter-widgets/controls",
      "model_module_version": "1.5.0",
      "model_name": "ProgressStyleModel",
      "state": {
       "description_width": ""
      }
     },
     "20877715023c4ce3ae80f97ca36bd036": {
      "model_module": "@jupyter-widgets/controls",
      "model_module_version": "1.5.0",
      "model_name": "HTMLModel",
      "state": {
       "layout": "IPY_MODEL_27bc5b5f3a284323a2f72804af477823",
       "style": "IPY_MODEL_2b101b67eb844bef98898a7d54979adb",
       "value": " 44/44 [01:28&lt;00:00,  1.97it/s]"
      }
     },
     "27bc5b5f3a284323a2f72804af477823": {
      "model_module": "@jupyter-widgets/base",
      "model_module_version": "1.2.0",
      "model_name": "LayoutModel",
      "state": {}
     },
     "2b101b67eb844bef98898a7d54979adb": {
      "model_module": "@jupyter-widgets/controls",
      "model_module_version": "1.5.0",
      "model_name": "DescriptionStyleModel",
      "state": {
       "description_width": ""
      }
     },
     "2c489444df154fcdba4d73dc7fd6802b": {
      "model_module": "@jupyter-widgets/controls",
      "model_module_version": "1.5.0",
      "model_name": "DescriptionStyleModel",
      "state": {
       "description_width": ""
      }
     },
     "2c9b8a8bb22c4e55bdacb7bf60b5f2b4": {
      "model_module": "@jupyter-widgets/controls",
      "model_module_version": "1.5.0",
      "model_name": "HTMLModel",
      "state": {
       "layout": "IPY_MODEL_e08c0592a5c94da181aad98dd0a8b86a",
       "style": "IPY_MODEL_93a960d73f3c4c50888857dc6c39a67e",
       "value": "100%"
      }
     },
     "2dfbc95bedb34b26ac1d3fcb538cf807": {
      "model_module": "@jupyter-widgets/controls",
      "model_module_version": "1.5.0",
      "model_name": "FloatProgressModel",
      "state": {
       "bar_style": "success",
       "layout": "IPY_MODEL_e950bd6b8b514018af3b486629d39655",
       "max": 4018,
       "style": "IPY_MODEL_1354d14768724b72afbbf56000c65ce6",
       "value": 4018
      }
     },
     "2fba851ec8ea40968f7eeb035c772b11": {
      "model_module": "@jupyter-widgets/base",
      "model_module_version": "1.2.0",
      "model_name": "LayoutModel",
      "state": {}
     },
     "345f4ad27fe749eba091ad941835c732": {
      "model_module": "@jupyter-widgets/base",
      "model_module_version": "1.2.0",
      "model_name": "LayoutModel",
      "state": {}
     },
     "457f3de043634e75903d78ec0207bd92": {
      "model_module": "@jupyter-widgets/base",
      "model_module_version": "1.2.0",
      "model_name": "LayoutModel",
      "state": {}
     },
     "65cec158b1874f71ae503ad84ec757c1": {
      "model_module": "@jupyter-widgets/controls",
      "model_module_version": "1.5.0",
      "model_name": "HBoxModel",
      "state": {
       "children": [
        "IPY_MODEL_2c9b8a8bb22c4e55bdacb7bf60b5f2b4",
        "IPY_MODEL_c869ec6ec50d4c71a012775396cd5a67",
        "IPY_MODEL_fe666e6e1e1144c48cff620b1bc07e2b"
       ],
       "layout": "IPY_MODEL_457f3de043634e75903d78ec0207bd92"
      }
     },
     "6b4bbaae3a154b3ea82483eca672c939": {
      "model_module": "@jupyter-widgets/base",
      "model_module_version": "1.2.0",
      "model_name": "LayoutModel",
      "state": {}
     },
     "70249c22db1d4741b6027b976dd79bbc": {
      "model_module": "@jupyter-widgets/controls",
      "model_module_version": "1.5.0",
      "model_name": "DescriptionStyleModel",
      "state": {
       "description_width": ""
      }
     },
     "806d3efcbdd3449881574c1723601dcd": {
      "model_module": "@jupyter-widgets/base",
      "model_module_version": "1.2.0",
      "model_name": "LayoutModel",
      "state": {}
     },
     "83f6062a9e734ad3bac2ab198bcb622a": {
      "model_module": "@jupyter-widgets/base",
      "model_module_version": "1.2.0",
      "model_name": "LayoutModel",
      "state": {}
     },
     "8fdb9d4c6c3d4565a42199abe6d68988": {
      "model_module": "@jupyter-widgets/controls",
      "model_module_version": "1.5.0",
      "model_name": "HBoxModel",
      "state": {
       "children": [
        "IPY_MODEL_9e80328da9ef4b15a09f869c622a36bc",
        "IPY_MODEL_2dfbc95bedb34b26ac1d3fcb538cf807",
        "IPY_MODEL_0592693e73414897a89bc7852a1ca966"
       ],
       "layout": "IPY_MODEL_345f4ad27fe749eba091ad941835c732"
      }
     },
     "93a960d73f3c4c50888857dc6c39a67e": {
      "model_module": "@jupyter-widgets/controls",
      "model_module_version": "1.5.0",
      "model_name": "DescriptionStyleModel",
      "state": {
       "description_width": ""
      }
     },
     "9e80328da9ef4b15a09f869c622a36bc": {
      "model_module": "@jupyter-widgets/controls",
      "model_module_version": "1.5.0",
      "model_name": "HTMLModel",
      "state": {
       "layout": "IPY_MODEL_83f6062a9e734ad3bac2ab198bcb622a",
       "style": "IPY_MODEL_2c489444df154fcdba4d73dc7fd6802b",
       "value": "100%"
      }
     },
     "a1cbfe9315c646cc92ffb5aa7bec7117": {
      "model_module": "@jupyter-widgets/controls",
      "model_module_version": "1.5.0",
      "model_name": "ProgressStyleModel",
      "state": {
       "description_width": ""
      }
     },
     "af778cbf564a45c79bb3b843c8fc1e41": {
      "model_module": "@jupyter-widgets/controls",
      "model_module_version": "1.5.0",
      "model_name": "FloatProgressModel",
      "state": {
       "bar_style": "success",
       "layout": "IPY_MODEL_e71c38466cfc42ad8993db9fad2b951d",
       "max": 44,
       "style": "IPY_MODEL_bb31c165b5954856a96072ff1244d301",
       "value": 44
      }
     },
     "b2820740adfc416ca29c6b933687fc5c": {
      "model_module": "@jupyter-widgets/controls",
      "model_module_version": "1.5.0",
      "model_name": "DescriptionStyleModel",
      "state": {
       "description_width": ""
      }
     },
     "bb31c165b5954856a96072ff1244d301": {
      "model_module": "@jupyter-widgets/controls",
      "model_module_version": "1.5.0",
      "model_name": "ProgressStyleModel",
      "state": {
       "description_width": ""
      }
     },
     "c869ec6ec50d4c71a012775396cd5a67": {
      "model_module": "@jupyter-widgets/controls",
      "model_module_version": "1.5.0",
      "model_name": "FloatProgressModel",
      "state": {
       "bar_style": "success",
       "layout": "IPY_MODEL_2fba851ec8ea40968f7eeb035c772b11",
       "max": 4018,
       "style": "IPY_MODEL_a1cbfe9315c646cc92ffb5aa7bec7117",
       "value": 4018
      }
     },
     "d6547a8611614e7d99ad3f4e2f30a1a1": {
      "model_module": "@jupyter-widgets/base",
      "model_module_version": "1.2.0",
      "model_name": "LayoutModel",
      "state": {}
     },
     "e08c0592a5c94da181aad98dd0a8b86a": {
      "model_module": "@jupyter-widgets/base",
      "model_module_version": "1.2.0",
      "model_name": "LayoutModel",
      "state": {}
     },
     "e71c38466cfc42ad8993db9fad2b951d": {
      "model_module": "@jupyter-widgets/base",
      "model_module_version": "1.2.0",
      "model_name": "LayoutModel",
      "state": {}
     },
     "e802279756cb43048d6bdf0c3cbe64ab": {
      "model_module": "@jupyter-widgets/controls",
      "model_module_version": "1.5.0",
      "model_name": "HTMLModel",
      "state": {
       "layout": "IPY_MODEL_007a027bfdea44e68f5bfe310bfad1d3",
       "style": "IPY_MODEL_b2820740adfc416ca29c6b933687fc5c",
       "value": "100%"
      }
     },
     "e950bd6b8b514018af3b486629d39655": {
      "model_module": "@jupyter-widgets/base",
      "model_module_version": "1.2.0",
      "model_name": "LayoutModel",
      "state": {}
     },
     "fe666e6e1e1144c48cff620b1bc07e2b": {
      "model_module": "@jupyter-widgets/controls",
      "model_module_version": "1.5.0",
      "model_name": "HTMLModel",
      "state": {
       "layout": "IPY_MODEL_d6547a8611614e7d99ad3f4e2f30a1a1",
       "style": "IPY_MODEL_05cc821dbdaf4689a5d71672769d6b98",
       "value": " 4018/4018 [00:16&lt;00:00, 244.40it/s]"
      }
     }
    },
    "version_major": 2,
    "version_minor": 0
   }
  }
 },
 "nbformat": 4,
 "nbformat_minor": 5
}
