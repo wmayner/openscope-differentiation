{
 "cells": [
  {
   "cell_type": "markdown",
   "metadata": {},
   "source": [
    "# Figure 4\n",
    "\n",
    "Effect size vs. behavioral data"
   ]
  },
  {
   "cell_type": "code",
   "execution_count": 1,
   "metadata": {},
   "outputs": [],
   "source": [
    "from datetime import datetime\n",
    "from pathlib import Path\n",
    "\n",
    "import colorcet as cc\n",
    "import matplotlib\n",
    "import numpy as np\n",
    "import pandas as pd\n",
    "import scipy\n",
    "import seaborn as sb\n",
    "from cycler import cycler\n",
    "from joblib import Parallel, delayed\n",
    "from matplotlib import pyplot as plt\n",
    "from tqdm.notebook import tqdm\n",
    "\n",
    "import analysis\n",
    "from analysis import SESSIONS\n",
    "from load import load_preprocessed_data\n",
    "from metadata import METADATA"
   ]
  },
  {
   "cell_type": "code",
   "execution_count": 2,
   "metadata": {},
   "outputs": [],
   "source": [
    "# Register tqdm with pandas for `progress_apply`\n",
    "tqdm.pandas()"
   ]
  },
  {
   "cell_type": "code",
   "execution_count": 3,
   "metadata": {},
   "outputs": [],
   "source": [
    "# Color palette\n",
    "PALETTE = np.array(cc.b_glasbey_category10[:5])[\n",
    "    [2, 4, 0, 1, 3]\n",
    "]\n",
    "matplotlib.rcParams['axes.prop_cycle'] = cycler('color', PALETTE)"
   ]
  },
  {
   "cell_type": "code",
   "execution_count": 4,
   "metadata": {},
   "outputs": [],
   "source": [
    "OUTPUT_DIR = Path('figures')"
   ]
  },
  {
   "cell_type": "markdown",
   "metadata": {},
   "source": [
    "## Load data"
   ]
  },
  {
   "cell_type": "code",
   "execution_count": 5,
   "metadata": {},
   "outputs": [],
   "source": [
    "main = pd.read_parquet(\"results/main.parquet\")"
   ]
  },
  {
   "cell_type": "code",
   "execution_count": 6,
   "metadata": {},
   "outputs": [
    {
     "data": {
      "text/plain": [
       "(2200, 28)"
      ]
     },
     "execution_count": 6,
     "metadata": {},
     "output_type": "execute_result"
    }
   ],
   "source": [
    "# Unscrambled vs. scrambled\n",
    "subset = main.loc[\n",
    "    main[\"stimulus_is_scrambled_pair\"]\n",
    "]\n",
    "subset.shape"
   ]
  },
  {
   "cell_type": "markdown",
   "metadata": {},
   "source": [
    "## Effect size"
   ]
  },
  {
   "cell_type": "code",
   "execution_count": 7,
   "metadata": {},
   "outputs": [],
   "source": [
    "response = \"log(normalized differentiation)\""
   ]
  },
  {
   "cell_type": "code",
   "execution_count": 8,
   "metadata": {},
   "outputs": [
    {
     "data": {
      "application/vnd.jupyter.widget-view+json": {
       "model_id": "9e1923817d7e4e8abc81b18b310402c1",
       "version_major": 2,
       "version_minor": 0
      },
      "text/plain": [
       "  0%|          | 0/44 [00:00<?, ?it/s]"
      ]
     },
     "metadata": {},
     "output_type": "display_data"
    }
   ],
   "source": [
    "effect_size = (\n",
    "    subset\n",
    "    .groupby(\"session\")\n",
    "    .progress_apply(\n",
    "        analysis.cohens_d,\n",
    "        a='natural',\n",
    "        b='artificial',\n",
    "        value_col=response,\n",
    "        label_col=\"stimulus_type\",\n",
    "    )\n",
    ")"
   ]
  },
  {
   "cell_type": "code",
   "execution_count": 9,
   "metadata": {},
   "outputs": [],
   "source": [
    "effect_size.to_parquet(\"results/effect_size.parquet\")"
   ]
  },
  {
   "cell_type": "code",
   "execution_count": 10,
   "metadata": {},
   "outputs": [],
   "source": [
    "effect_size = effect_size.merge(METADATA, on=\"session\")"
   ]
  },
  {
   "cell_type": "markdown",
   "metadata": {},
   "source": [
    "## Load behavioral data"
   ]
  },
  {
   "cell_type": "code",
   "execution_count": 11,
   "metadata": {},
   "outputs": [
    {
     "name": "stderr",
     "output_type": "stream",
     "text": [
      "[Parallel(n_jobs=44)]: Using backend LokyBackend with 44 concurrent workers.\n",
      "[Parallel(n_jobs=44)]: Done   2 out of  44 | elapsed:    6.4s remaining:  2.3min\n",
      "[Parallel(n_jobs=44)]: Done  11 out of  44 | elapsed:    9.1s remaining:   27.4s\n",
      "[Parallel(n_jobs=44)]: Done  20 out of  44 | elapsed:   11.8s remaining:   14.1s\n",
      "[Parallel(n_jobs=44)]: Done  29 out of  44 | elapsed:   15.9s remaining:    8.2s\n",
      "[Parallel(n_jobs=44)]: Done  38 out of  44 | elapsed:   21.0s remaining:    3.3s\n",
      "[Parallel(n_jobs=44)]: Done  44 out of  44 | elapsed:   24.8s finished\n"
     ]
    }
   ],
   "source": [
    "loaded_data = Parallel(n_jobs=len(SESSIONS), verbose=5)(\n",
    "    delayed(load_preprocessed_data)(session) for session in SESSIONS\n",
    ")\n",
    "\n",
    "dff, data = zip(*loaded_data)"
   ]
  },
  {
   "cell_type": "markdown",
   "metadata": {},
   "source": [
    "## Compute mean pupil diameter and locomotion fraction"
   ]
  },
  {
   "cell_type": "code",
   "execution_count": 12,
   "metadata": {},
   "outputs": [],
   "source": [
    "# All areas and layers\n",
    "behavior = (\n",
    "    pd.concat(data)\n",
    "    .reset_index()\n",
    "    .loc[:, [\"session\", \"normalized_pupil_diameter\", \"filtered_velocity\", \"locomotion\"]]\n",
    "    .groupby(\"session\")\n",
    "    .mean()\n",
    "    .rename(\n",
    "        columns={\n",
    "            \"normalized_pupil_diameter\": \"pupil diameter\",\n",
    "            \"locomotion\": \"locomotion fraction\",\n",
    "        }\n",
    "    )\n",
    "    .merge(effect_size, on=\"session\")\n",
    ")"
   ]
  },
  {
   "cell_type": "code",
   "execution_count": 13,
   "metadata": {},
   "outputs": [],
   "source": [
    "# L2/3 of AL & AM\n",
    "behavior_subset = behavior.loc[\n",
    "    (behavior.layer == 'L2/3') &\n",
    "    (behavior.area.isin(['AL', 'AM']))\n",
    "]"
   ]
  },
  {
   "cell_type": "markdown",
   "metadata": {},
   "source": [
    "## Plot"
   ]
  },
  {
   "cell_type": "code",
   "execution_count": 14,
   "metadata": {},
   "outputs": [],
   "source": [
    "output_dir = OUTPUT_DIR / \"fig-4\""
   ]
  },
  {
   "cell_type": "code",
   "execution_count": 15,
   "metadata": {},
   "outputs": [
    {
     "data": {
      "image/png": "[encoded data removed]",
      "text/plain": [
       "<Figure size 800x800 with 4 Axes>"
      ]
     },
     "metadata": {},
     "output_type": "display_data"
    }
   ],
   "source": [
    "figsize = (8, 8)\n",
    "fig, ax = plt.subplots(2, 2, sharey=True, figsize=figsize)\n",
    "\n",
    "y = \"Cohen's d\"\n",
    "\n",
    "\n",
    "def scatter(ax, x, y, data, **kwargs):\n",
    "    kwargs = {\n",
    "        **dict(\n",
    "            hue=\"area\",\n",
    "            style=\"layer\",\n",
    "            s=100,\n",
    "            alpha=0.75,\n",
    "            edgecolor=None,\n",
    "            markers={\n",
    "                \"L2/3\": \"o\",\n",
    "                \"L4\": \"s\",\n",
    "                \"L5\": \"^\",\n",
    "            },\n",
    "            hue_order=[\n",
    "                \"V1\",\n",
    "                \"LM\",\n",
    "                \"AL\",\n",
    "                \"PM\",\n",
    "                \"AM\",\n",
    "            ],\n",
    "        ),\n",
    "        **kwargs,\n",
    "    }\n",
    "    return sb.scatterplot(ax=ax, x=x, y=y, data=data, **kwargs)\n",
    "\n",
    "\n",
    "sb.regplot(\n",
    "    ax=ax[0, 0],\n",
    "    color=\"grey\",\n",
    "    ci=None,\n",
    "    scatter=False,\n",
    "    x=\"locomotion fraction\",\n",
    "    y=y,\n",
    "    data=behavior_subset,\n",
    ")\n",
    "sb.regplot(\n",
    "    ax=ax[0, 1],\n",
    "    color=\"grey\",\n",
    "    ci=None,\n",
    "    scatter=False,\n",
    "    x=\"pupil diameter\",\n",
    "    y=y,\n",
    "    data=behavior_subset,\n",
    ")\n",
    "sb.regplot(\n",
    "    ax=ax[1, 0],\n",
    "    color=\"grey\",\n",
    "    ci=None,\n",
    "    scatter=False,\n",
    "    x=\"locomotion fraction\",\n",
    "    y=y,\n",
    "    data=behavior,\n",
    ")\n",
    "sb.regplot(\n",
    "    ax=ax[1, 1],\n",
    "    color=\"grey\",\n",
    "    ci=None,\n",
    "    scatter=False,\n",
    "    x=\"pupil diameter\",\n",
    "    y=y,\n",
    "    data=behavior,\n",
    ")\n",
    "\n",
    "\n",
    "scatter(ax=ax[0, 0], x=\"locomotion fraction\", y=y, data=behavior_subset)\n",
    "scatter(ax=ax[0, 1], x=\"pupil diameter\", y=y, data=behavior_subset)\n",
    "scatter(ax=ax[1, 0], x=\"locomotion fraction\", y=y, data=behavior)\n",
    "scatter(ax=ax[1, 1], x=\"pupil diameter\", y=y, data=behavior)\n",
    "\n",
    "for axis in ax[0]:\n",
    "    axis.set_xlabel(None)\n",
    "\n",
    "for axis in ax[:, 1]:\n",
    "    axis.set_ylabel(None)\n",
    "ax[1, 0].set_ylabel(None)\n",
    "\n",
    "for axis in ax.flat:\n",
    "    axis.get_legend().remove()\n",
    "\n",
    "ax[0, 0].set_xlim(0, 0.2)\n",
    "ax[0, 0].set_xticks([0, 0.1, 0.2])\n",
    "ax[1, 0].set_xlim(0, 0.65)\n",
    "ax[1, 0].set_xticks([0, 0.2, 0.4, 0.6])\n",
    "ax[0, 1].set_xlim(0.35, 0.55)\n",
    "ax[0, 1].set_xticks([0.4, 0.5, 0.6])\n",
    "ax[1, 1].set_xlim(0.35, 0.7)\n",
    "ax[1, 1].set_xticks([0.4, 0.5, 0.6, 0.7])\n",
    "\n",
    "handles, labels = ax[1, 1].get_legend_handles_labels()\n",
    "labels[0] = \"\"\n",
    "labels[-4] = \"\"\n",
    "legend = fig.legend(\n",
    "    handles=handles,\n",
    "    labels=labels,\n",
    "    bbox_to_anchor=(1.2, 1),\n",
    "    labelspacing=0.25,\n",
    "    markerscale=1.5,\n",
    "    ncol=1,\n",
    "    handletextpad=-0.25,\n",
    ")\n",
    "\n",
    "fig.tight_layout()\n",
    "fig.subplots_adjust(hspace=0.45, wspace=0.2)\n",
    "\n",
    "# Write to disk\n",
    "analysis.savefig(\n",
    "    fig,\n",
    "    output_dir / \"effect_size_vs_behavior.png\",\n",
    "    bbox_extra_artists=[legend],\n",
    ")\n",
    "\n",
    "fig.show()"
   ]
  },
  {
   "cell_type": "markdown",
   "metadata": {},
   "source": [
    "## Statistical testing"
   ]
  },
  {
   "cell_type": "markdown",
   "metadata": {},
   "source": [
    "### Set up R and prepare data"
   ]
  },
  {
   "cell_type": "code",
   "execution_count": 16,
   "metadata": {},
   "outputs": [],
   "source": [
    "%load_ext rpy2.ipython"
   ]
  },
  {
   "cell_type": "code",
   "execution_count": 17,
   "metadata": {},
   "outputs": [],
   "source": [
    "data = behavior.loc[:, [\n",
    "    \"Cohen's d\",\n",
    "    \"area\",\n",
    "    \"layer\",\n",
    "    \"pupil diameter\",\n",
    "    \"locomotion fraction\",\n",
    "]].rename(columns={\n",
    "    \"Cohen's d\": 'cohens_d',\n",
    "    \"locomotion fraction\": 'locomotion_fraction',\n",
    "    \"pupil diameter\": 'pupil_diameter',\n",
    "})"
   ]
  },
  {
   "cell_type": "code",
   "execution_count": 18,
   "metadata": {},
   "outputs": [],
   "source": [
    "data_subset = data.loc[\n",
    "    (data['layer'] == 'L2/3') &\n",
    "    (data['area'].isin(['AL', 'AM']))\n",
    "]"
   ]
  },
  {
   "cell_type": "markdown",
   "metadata": {},
   "source": [
    "### Test"
   ]
  },
  {
   "cell_type": "code",
   "execution_count": 19,
   "metadata": {},
   "outputs": [
    {
     "name": "stdout",
     "output_type": "stream",
     "text": [
      "\n",
      "\tPearson's product-moment correlation\n",
      "\n",
      "data:  data_subset$locomotion_fraction and data_subset$cohens_d\n",
      "t = 4.0296, df = 4, p-value = 0.01574\n",
      "alternative hypothesis: true correlation is not equal to 0\n",
      "95 percent confidence interval:\n",
      " 0.3082942 0.9886237\n",
      "sample estimates:\n",
      "      cor \n",
      "0.8957413 \n",
      "\n"
     ]
    }
   ],
   "source": [
    "%%R -i data_subset\n",
    "\n",
    "cor.test(\n",
    "    data_subset$locomotion_fraction, \n",
    "    data_subset$cohens_d, \n",
    "    method = 'pearson',\n",
    "    alternative = \"two.sided\",\n",
    ")"
   ]
  },
  {
   "cell_type": "code",
   "execution_count": 20,
   "metadata": {},
   "outputs": [
    {
     "name": "stdout",
     "output_type": "stream",
     "text": [
      "\n",
      "\tPearson's product-moment correlation\n",
      "\n",
      "data:  data_subset$pupil_diameter and data_subset$cohens_d\n",
      "t = 2.0537, df = 4, p-value = 0.1092\n",
      "alternative hypothesis: true correlation is not equal to 0\n",
      "95 percent confidence interval:\n",
      " -0.2273095  0.9662081\n",
      "sample estimates:\n",
      "      cor \n",
      "0.7164124 \n",
      "\n"
     ]
    }
   ],
   "source": [
    "%%R -i data_subset\n",
    "\n",
    "cor.test(\n",
    "    data_subset$pupil_diameter, \n",
    "    data_subset$cohens_d, \n",
    "    method = 'pearson',\n",
    "    alternative = \"two.sided\", \n",
    ")"
   ]
  },
  {
   "cell_type": "code",
   "execution_count": 21,
   "metadata": {},
   "outputs": [
    {
     "name": "stdout",
     "output_type": "stream",
     "text": [
      "\n",
      "\tPearson's product-moment correlation\n",
      "\n",
      "data:  data$locomotion_fraction and data$cohens_d\n",
      "t = -0.22046, df = 42, p-value = 0.8266\n",
      "alternative hypothesis: true correlation is not equal to 0\n",
      "95 percent confidence interval:\n",
      " -0.3275718  0.2655631\n",
      "sample estimates:\n",
      "        cor \n",
      "-0.03399766 \n",
      "\n"
     ]
    }
   ],
   "source": [
    "%%R -i data\n",
    "\n",
    "cor.test(\n",
    "    data$locomotion_fraction, \n",
    "    data$cohens_d, \n",
    "    method = 'pearson',\n",
    "    alternative = \"two.sided\",\n",
    ")"
   ]
  },
  {
   "cell_type": "code",
   "execution_count": 22,
   "metadata": {},
   "outputs": [
    {
     "name": "stdout",
     "output_type": "stream",
     "text": [
      "\n",
      "\tPearson's product-moment correlation\n",
      "\n",
      "data:  data$pupil_diameter and data$cohens_d\n",
      "t = 0.30215, df = 42, p-value = 0.764\n",
      "alternative hypothesis: true correlation is not equal to 0\n",
      "95 percent confidence interval:\n",
      " -0.2538175  0.3387687\n",
      "sample estimates:\n",
      "       cor \n",
      "0.04657225 \n",
      "\n"
     ]
    }
   ],
   "source": [
    "%%R -i data\n",
    "\n",
    "cor.test(\n",
    "    data$pupil_diameter, \n",
    "    data$cohens_d, \n",
    "    method = 'pearson',\n",
    "    alternative = \"two.sided\", \n",
    ")"
   ]
  }
 ],
 "metadata": {
  "kernelspec": {
   "display_name": "Python 3",
   "language": "python",
   "name": "python3"
  },
  "language_info": {
   "codemirror_mode": {
    "name": "ipython",
    "version": 3
   },
   "file_extension": ".py",
   "mimetype": "text/x-python",
   "name": "python",
   "nbconvert_exporter": "python",
   "pygments_lexer": "ipython3",
   "version": "3.8.8"
  },
  "widgets": {
   "application/vnd.jupyter.widget-state+json": {
    "state": {
     "0d3e14a09ed644189a68191e0b68732d": {
      "model_module": "@jupyter-widgets/controls",
      "model_module_version": "1.5.0",
      "model_name": "FloatProgressModel",
      "state": {
       "bar_style": "success",
       "layout": "IPY_MODEL_19ae1e10c78b46a788282c8f61ebc557",
       "max": 44,
       "style": "IPY_MODEL_db10c5c7d4df4122bb1adec8dfe1877a",
       "value": 44
      }
     },
     "10c1ca63cac44296b56cdb0db77f7848": {
      "model_module": "@jupyter-widgets/controls",
      "model_module_version": "1.5.0",
      "model_name": "DescriptionStyleModel",
      "state": {
       "description_width": ""
      }
     },
     "19ae1e10c78b46a788282c8f61ebc557": {
      "model_module": "@jupyter-widgets/base",
      "model_module_version": "1.2.0",
      "model_name": "LayoutModel",
      "state": {}
     },
     "38679dddf17b45a49d7344af971d39c6": {
      "model_module": "@jupyter-widgets/base",
      "model_module_version": "1.2.0",
      "model_name": "LayoutModel",
      "state": {}
     },
     "5c89ff10067c4aca8a1696268b3b6e02": {
      "model_module": "@jupyter-widgets/base",
      "model_module_version": "1.2.0",
      "model_name": "LayoutModel",
      "state": {}
     },
     "628408788aa64673879f857d7295ae14": {
      "model_module": "@jupyter-widgets/base",
      "model_module_version": "1.2.0",
      "model_name": "LayoutModel",
      "state": {}
     },
     "73ef9c4e0e1f4368aa8830c8a6c94851": {
      "model_module": "@jupyter-widgets/controls",
      "model_module_version": "1.5.0",
      "model_name": "HTMLModel",
      "state": {
       "layout": "IPY_MODEL_5c89ff10067c4aca8a1696268b3b6e02",
       "style": "IPY_MODEL_84e8d71ae5924ff097c109d84ced592f",
       "value": "100%"
      }
     },
     "84e8d71ae5924ff097c109d84ced592f": {
      "model_module": "@jupyter-widgets/controls",
      "model_module_version": "1.5.0",
      "model_name": "DescriptionStyleModel",
      "state": {
       "description_width": ""
      }
     },
     "9e1923817d7e4e8abc81b18b310402c1": {
      "model_module": "@jupyter-widgets/controls",
      "model_module_version": "1.5.0",
      "model_name": "HBoxModel",
      "state": {
       "children": [
        "IPY_MODEL_73ef9c4e0e1f4368aa8830c8a6c94851",
        "IPY_MODEL_0d3e14a09ed644189a68191e0b68732d",
        "IPY_MODEL_dd825f75fc9044869597b440fe1b2194"
       ],
       "layout": "IPY_MODEL_38679dddf17b45a49d7344af971d39c6"
      }
     },
     "db10c5c7d4df4122bb1adec8dfe1877a": {
      "model_module": "@jupyter-widgets/controls",
      "model_module_version": "1.5.0",
      "model_name": "ProgressStyleModel",
      "state": {
       "description_width": ""
      }
     },
     "dd825f75fc9044869597b440fe1b2194": {
      "model_module": "@jupyter-widgets/controls",
      "model_module_version": "1.5.0",
      "model_name": "HTMLModel",
      "state": {
       "layout": "IPY_MODEL_628408788aa64673879f857d7295ae14",
       "style": "IPY_MODEL_10c1ca63cac44296b56cdb0db77f7848",
       "value": " 44/44 [00:00&lt;00:00, 200.82it/s]"
      }
     }
    },
    "version_major": 2,
    "version_minor": 0
   }
  }
 },
 "nbformat": 4,
 "nbformat_minor": 4
}
