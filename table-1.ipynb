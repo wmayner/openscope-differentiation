{
 "cells": [
  {
   "cell_type": "markdown",
   "metadata": {},
   "source": [
    "# Table 1\n",
    "\n",
    "Permutation tests"
   ]
  },
  {
   "cell_type": "code",
   "execution_count": 1,
   "metadata": {
    "execution": {
     "iopub.execute_input": "2021-12-14T19:01:26.638753Z",
     "iopub.status.busy": "2021-12-14T19:01:26.638005Z",
     "iopub.status.idle": "2021-12-14T19:01:27.903025Z",
     "shell.execute_reply": "2021-12-14T19:01:27.902391Z",
     "shell.execute_reply.started": "2021-12-14T19:01:26.638535Z"
    }
   },
   "outputs": [],
   "source": [
    "import numpy as np\n",
    "import pandas as pd\n",
    "from tqdm.notebook import tqdm\n",
    "\n",
    "import analysis\n",
    "from metadata import METADATA"
   ]
  },
  {
   "cell_type": "code",
   "execution_count": 2,
   "metadata": {
    "execution": {
     "iopub.execute_input": "2021-12-14T19:01:27.904449Z",
     "iopub.status.busy": "2021-12-14T19:01:27.904212Z",
     "iopub.status.idle": "2021-12-14T19:01:27.908017Z",
     "shell.execute_reply": "2021-12-14T19:01:27.907258Z",
     "shell.execute_reply.started": "2021-12-14T19:01:27.904425Z"
    }
   },
   "outputs": [],
   "source": [
    "# Register tqdm with pandas for `progress_apply`\n",
    "tqdm.pandas()"
   ]
  },
  {
   "cell_type": "markdown",
   "metadata": {},
   "source": [
    "## Load data"
   ]
  },
  {
   "cell_type": "code",
   "execution_count": 3,
   "metadata": {
    "execution": {
     "iopub.execute_input": "2021-12-14T19:01:27.909012Z",
     "iopub.status.busy": "2021-12-14T19:01:27.908781Z",
     "iopub.status.idle": "2021-12-14T19:01:28.167743Z",
     "shell.execute_reply": "2021-12-14T19:01:28.166900Z",
     "shell.execute_reply.started": "2021-12-14T19:01:27.908988Z"
    }
   },
   "outputs": [],
   "source": [
    "df = pd.read_parquet('results/main.parquet')"
   ]
  },
  {
   "cell_type": "code",
   "execution_count": 4,
   "metadata": {
    "execution": {
     "iopub.execute_input": "2021-12-14T19:01:28.169551Z",
     "iopub.status.busy": "2021-12-14T19:01:28.169271Z",
     "iopub.status.idle": "2021-12-14T19:01:28.176179Z",
     "shell.execute_reply": "2021-12-14T19:01:28.175394Z",
     "shell.execute_reply.started": "2021-12-14T19:01:28.169518Z"
    }
   },
   "outputs": [],
   "source": [
    "# Unscrambled vs. scrambled\n",
    "subset = df.loc[df['stimulus_is_scrambled_pair']]"
   ]
  },
  {
   "cell_type": "markdown",
   "metadata": {},
   "source": [
    "## Permutation test functions"
   ]
  },
  {
   "cell_type": "code",
   "execution_count": 5,
   "metadata": {
    "execution": {
     "iopub.execute_input": "2021-12-14T19:01:28.178729Z",
     "iopub.status.busy": "2021-12-14T19:01:28.178452Z",
     "iopub.status.idle": "2021-12-14T19:01:28.183116Z",
     "shell.execute_reply": "2021-12-14T19:01:28.182352Z",
     "shell.execute_reply.started": "2021-12-14T19:01:28.178695Z"
    }
   },
   "outputs": [],
   "source": [
    "from numpy.random import default_rng, SeedSequence\n",
    "# Get a random number generator using a high-quality seed created with \n",
    "# `SeedSequence().entropy`\n",
    "RNG = default_rng(seed=9531952262819343520803317503529205167)"
   ]
  },
  {
   "cell_type": "code",
   "execution_count": 6,
   "metadata": {
    "execution": {
     "iopub.execute_input": "2021-12-14T19:01:28.186082Z",
     "iopub.status.busy": "2021-12-14T19:01:28.185802Z",
     "iopub.status.idle": "2021-12-14T19:01:28.190730Z",
     "shell.execute_reply": "2021-12-14T19:01:28.189877Z",
     "shell.execute_reply.started": "2021-12-14T19:01:28.186050Z"
    }
   },
   "outputs": [],
   "source": [
    "def sample(values, labels, statistic):\n",
    "    # Shuffle the labels\n",
    "    shuffled_labels = labels.values[RNG.permutation(len(labels.values))]\n",
    "    # Return the evaluation\n",
    "    return statistic(values, shuffled_labels)"
   ]
  },
  {
   "cell_type": "code",
   "execution_count": 7,
   "metadata": {
    "execution": {
     "iopub.execute_input": "2021-12-14T19:01:28.192408Z",
     "iopub.status.busy": "2021-12-14T19:01:28.192140Z",
     "iopub.status.idle": "2021-12-14T19:01:28.200951Z",
     "shell.execute_reply": "2021-12-14T19:01:28.200154Z",
     "shell.execute_reply.started": "2021-12-14T19:01:28.192378Z"
    }
   },
   "outputs": [],
   "source": [
    "def permutation_test(data, value_col=None, label_col=None, statistic=None, n=10_000):\n",
    "    # All arguments must be keyword arguments to use `progress_apply`\n",
    "    if any([value_col is None, label_col is None, statistic is None]):\n",
    "        raise ValueError(\"must provide value_col, label_col and statistic\")\n",
    "        \n",
    "    values = data[value_col]\n",
    "    labels = data[label_col]\n",
    "    \n",
    "    # Get the observed response\n",
    "    observed = statistic(values, labels)\n",
    "    \n",
    "    # Sample n times to get a null distribution\n",
    "    null_distribution = pd.Series([\n",
    "        sample(values, labels, statistic) \n",
    "        for i in range(n)\n",
    "    ])\n",
    "    \n",
    "    # The p value is the fraction of permutation statistics that are \n",
    "    # at least as extreme as the observed statistic \n",
    "    # (one-sided test; not taking absolute value of the observed statistic)\n",
    "    p_value = np.mean(null_distribution >= observed)\n",
    "    \n",
    "    return pd.concat([\n",
    "        pd.Series({\n",
    "            'p_value': p_value,\n",
    "            'observed': observed,\n",
    "            'statistic': statistic.__name__,\n",
    "            'response_variable': value_col,\n",
    "        }),\n",
    "        null_distribution.describe(),\n",
    "    ])"
   ]
  },
  {
   "cell_type": "markdown",
   "metadata": {},
   "source": [
    "## Perform permutation tests"
   ]
  },
  {
   "cell_type": "code",
   "execution_count": 8,
   "metadata": {
    "execution": {
     "iopub.execute_input": "2021-12-14T19:01:28.202517Z",
     "iopub.status.busy": "2021-12-14T19:01:28.202256Z",
     "iopub.status.idle": "2021-12-14T19:01:28.205796Z",
     "shell.execute_reply": "2021-12-14T19:01:28.205048Z",
     "shell.execute_reply.started": "2021-12-14T19:01:28.202486Z"
    }
   },
   "outputs": [],
   "source": [
    "response = 'log(normalized differentiation)'"
   ]
  },
  {
   "cell_type": "code",
   "execution_count": 9,
   "metadata": {
    "execution": {
     "iopub.execute_input": "2021-12-14T19:01:28.207373Z",
     "iopub.status.busy": "2021-12-14T19:01:28.207119Z",
     "iopub.status.idle": "2021-12-14T19:13:26.798314Z",
     "shell.execute_reply": "2021-12-14T19:13:26.797465Z",
     "shell.execute_reply.started": "2021-12-14T19:01:28.207341Z"
    }
   },
   "outputs": [
    {
     "data": {
      "application/vnd.jupyter.widget-view+json": {
       "model_id": "a0a57a7b1c8b462eb0e48a7729ae3461",
       "version_major": 2,
       "version_minor": 0
      },
      "text/plain": [
       "  0%|          | 0/44 [00:00<?, ?it/s]"
      ]
     },
     "metadata": {},
     "output_type": "display_data"
    },
    {
     "name": "stdout",
     "output_type": "stream",
     "text": [
      "CPU times: user 11min 58s, sys: 0 ns, total: 11min 58s\n",
      "Wall time: 11min 58s\n"
     ]
    }
   ],
   "source": [
    "%%time\n",
    "\n",
    "def mean_natural_artificial_difference(values, labels):\n",
    "    return analysis.mean_difference(values, labels, a='natural', b='artificial')\n",
    "\n",
    "\n",
    "permutation_test_results = subset.groupby('session').progress_apply(\n",
    "    permutation_test, \n",
    "    value_col=response, \n",
    "    label_col='stimulus_type', \n",
    "    statistic=mean_natural_artificial_difference, \n",
    "    n=20_000,\n",
    ")"
   ]
  },
  {
   "cell_type": "code",
   "execution_count": 10,
   "metadata": {
    "execution": {
     "iopub.execute_input": "2021-12-14T19:13:26.799887Z",
     "iopub.status.busy": "2021-12-14T19:13:26.799566Z",
     "iopub.status.idle": "2021-12-14T19:13:26.809219Z",
     "shell.execute_reply": "2021-12-14T19:13:26.808550Z",
     "shell.execute_reply.started": "2021-12-14T19:13:26.799859Z"
    }
   },
   "outputs": [],
   "source": [
    "permutation_test_results.name = 'p_value'\n",
    "permutation_test_results = pd.DataFrame(permutation_test_results)\n",
    "permutation_test_results.to_parquet(f'results/permutation_tests.parquet')"
   ]
  },
  {
   "cell_type": "code",
   "execution_count": 11,
   "metadata": {
    "execution": {
     "iopub.execute_input": "2021-12-14T19:13:26.810373Z",
     "iopub.status.busy": "2021-12-14T19:13:26.810144Z",
     "iopub.status.idle": "2021-12-14T19:13:26.821768Z",
     "shell.execute_reply": "2021-12-14T19:13:26.821118Z",
     "shell.execute_reply.started": "2021-12-14T19:13:26.810350Z"
    }
   },
   "outputs": [],
   "source": [
    "permutation_test_results = permutation_test_results.merge(METADATA, on='session')"
   ]
  },
  {
   "cell_type": "markdown",
   "metadata": {},
   "source": [
    "## Summarize"
   ]
  },
  {
   "cell_type": "code",
   "execution_count": 12,
   "metadata": {
    "execution": {
     "iopub.execute_input": "2021-12-14T19:13:26.822838Z",
     "iopub.status.busy": "2021-12-14T19:13:26.822621Z",
     "iopub.status.idle": "2021-12-14T19:13:26.825959Z",
     "shell.execute_reply": "2021-12-14T19:13:26.825175Z",
     "shell.execute_reply.started": "2021-12-14T19:13:26.822816Z"
    }
   },
   "outputs": [],
   "source": [
    "ALPHA = 0.05"
   ]
  },
  {
   "cell_type": "code",
   "execution_count": 13,
   "metadata": {
    "execution": {
     "iopub.execute_input": "2021-12-14T19:13:26.826958Z",
     "iopub.status.busy": "2021-12-14T19:13:26.826748Z",
     "iopub.status.idle": "2021-12-14T19:13:26.830304Z",
     "shell.execute_reply": "2021-12-14T19:13:26.829700Z",
     "shell.execute_reply.started": "2021-12-14T19:13:26.826936Z"
    }
   },
   "outputs": [],
   "source": [
    "def is_significant(data):\n",
    "    return (data.p_value <= ALPHA)"
   ]
  },
  {
   "cell_type": "code",
   "execution_count": 14,
   "metadata": {
    "execution": {
     "iopub.execute_input": "2021-12-14T19:13:26.832172Z",
     "iopub.status.busy": "2021-12-14T19:13:26.831946Z",
     "iopub.status.idle": "2021-12-14T19:13:26.854618Z",
     "shell.execute_reply": "2021-12-14T19:13:26.853920Z",
     "shell.execute_reply.started": "2021-12-14T19:13:26.832148Z"
    }
   },
   "outputs": [],
   "source": [
    "summary = (\n",
    "    permutation_test_results\n",
    "    .groupby(['layer', 'area'])\n",
    "    .apply(\n",
    "        lambda group: pd.Series({\n",
    "            'significant': is_significant(group).sum(), \n",
    "            'total': len(group),\n",
    "        })\n",
    "    )\n",
    ")"
   ]
  },
  {
   "cell_type": "code",
   "execution_count": 15,
   "metadata": {
    "execution": {
     "iopub.execute_input": "2021-12-14T19:13:26.855661Z",
     "iopub.status.busy": "2021-12-14T19:13:26.855445Z",
     "iopub.status.idle": "2021-12-14T19:13:26.858805Z",
     "shell.execute_reply": "2021-12-14T19:13:26.858215Z",
     "shell.execute_reply.started": "2021-12-14T19:13:26.855639Z"
    }
   },
   "outputs": [],
   "source": [
    "output_path = 'results/permutation_tests_summary.csv'"
   ]
  },
  {
   "cell_type": "code",
   "execution_count": 16,
   "metadata": {
    "execution": {
     "iopub.execute_input": "2021-12-14T19:13:26.859754Z",
     "iopub.status.busy": "2021-12-14T19:13:26.859554Z",
     "iopub.status.idle": "2021-12-14T19:13:26.907671Z",
     "shell.execute_reply": "2021-12-14T19:13:26.907087Z",
     "shell.execute_reply.started": "2021-12-14T19:13:26.859732Z"
    },
    "tags": []
   },
   "outputs": [
    {
     "data": {
      "text/html": [
       "<div>\n",
       "<style scoped>\n",
       "    .dataframe tbody tr th:only-of-type {\n",
       "        vertical-align: middle;\n",
       "    }\n",
       "\n",
       "    .dataframe tbody tr th {\n",
       "        vertical-align: top;\n",
       "    }\n",
       "\n",
       "    .dataframe thead th {\n",
       "        text-align: right;\n",
       "    }\n",
       "</style>\n",
       "<table border=\"1\" class=\"dataframe\">\n",
       "  <thead>\n",
       "    <tr style=\"text-align: right;\">\n",
       "      <th>area</th>\n",
       "      <th>V1</th>\n",
       "      <th>LM</th>\n",
       "      <th>AL</th>\n",
       "      <th>PM</th>\n",
       "      <th>AM</th>\n",
       "      <th>All areas</th>\n",
       "    </tr>\n",
       "    <tr>\n",
       "      <th>layer</th>\n",
       "      <th></th>\n",
       "      <th></th>\n",
       "      <th></th>\n",
       "      <th></th>\n",
       "      <th></th>\n",
       "      <th></th>\n",
       "    </tr>\n",
       "  </thead>\n",
       "  <tbody>\n",
       "    <tr>\n",
       "      <th>L2/3</th>\n",
       "      <td>1 / 3</td>\n",
       "      <td>1 / 3</td>\n",
       "      <td>3 / 3</td>\n",
       "      <td>0 / 3</td>\n",
       "      <td>3 / 3</td>\n",
       "      <td>8 / 15</td>\n",
       "    </tr>\n",
       "    <tr>\n",
       "      <th>L4</th>\n",
       "      <td>0 / 3</td>\n",
       "      <td>1 / 3</td>\n",
       "      <td>0 / 3</td>\n",
       "      <td>0 / 3</td>\n",
       "      <td>0 / 3</td>\n",
       "      <td>1 / 15</td>\n",
       "    </tr>\n",
       "    <tr>\n",
       "      <th>L5</th>\n",
       "      <td>0 / 3</td>\n",
       "      <td>0 / 3</td>\n",
       "      <td>0 / 2</td>\n",
       "      <td>0 / 3</td>\n",
       "      <td>0 / 3</td>\n",
       "      <td>0 / 14</td>\n",
       "    </tr>\n",
       "    <tr>\n",
       "      <th>All layers</th>\n",
       "      <td>1 / 9</td>\n",
       "      <td>2 / 9</td>\n",
       "      <td>3 / 8</td>\n",
       "      <td>0 / 9</td>\n",
       "      <td>3 / 9</td>\n",
       "      <td>NaN</td>\n",
       "    </tr>\n",
       "  </tbody>\n",
       "</table>\n",
       "</div>"
      ],
      "text/plain": [
       "area           V1     LM     AL     PM     AM All areas\n",
       "layer                                                  \n",
       "L2/3        1 / 3  1 / 3  3 / 3  0 / 3  3 / 3    8 / 15\n",
       "L4          0 / 3  1 / 3  0 / 3  0 / 3  0 / 3    1 / 15\n",
       "L5          0 / 3  0 / 3  0 / 2  0 / 3  0 / 3    0 / 14\n",
       "All layers  1 / 9  2 / 9  3 / 8  0 / 9  3 / 9       NaN"
      ]
     },
     "execution_count": 16,
     "metadata": {},
     "output_type": "execute_result"
    }
   ],
   "source": [
    "# Convert to wide format\n",
    "\n",
    "summary_wide = (\n",
    "    summary\n",
    "    .astype(dict(significant=str, total=str))\n",
    "    .agg(' / '.join, axis=1, )\n",
    "    .reset_index()\n",
    "    .pivot(index='layer', columns='area')\n",
    ")\n",
    "summary_wide.columns = summary_wide.columns.droplevel(level=0)\n",
    "\n",
    "all_areas = (\n",
    "    summary\n",
    "    .groupby(level=0)\n",
    "    .sum()\n",
    "    .astype(dict(significant=str, total=str))\n",
    "    .agg(' / '.join, axis=1, )\n",
    ")\n",
    "\n",
    "all_layers = (\n",
    "    summary\n",
    "    .groupby(level=1)\n",
    "    .sum()\n",
    "    .astype(dict(significant=str, total=str))\n",
    "    .agg(' / '.join, axis=1, )\n",
    ")\n",
    "\n",
    "summary_wide.index = summary_wide.index.astype(str)\n",
    "summary_wide.columns = summary_wide.columns.astype(str)\n",
    "summary_wide.loc['All layers', :] = all_layers\n",
    "summary_wide.loc[:, 'All areas'] = all_areas\n",
    "\n",
    "summary_wide.to_csv(output_path)\n",
    "summary_wide"
   ]
  }
 ],
 "metadata": {
  "kernelspec": {
   "display_name": "Python 3 (ipykernel)",
   "language": "python",
   "name": "python3"
  },
  "language_info": {
   "codemirror_mode": {
    "name": "ipython",
    "version": 3
   },
   "file_extension": ".py",
   "mimetype": "text/x-python",
   "name": "python",
   "nbconvert_exporter": "python",
   "pygments_lexer": "ipython3",
   "version": "3.8.8"
  },
  "widgets": {
   "application/vnd.jupyter.widget-state+json": {
    "state": {
     "10ef5ad15f924684b98e29daae74fb82": {
      "model_module": "@jupyter-widgets/base",
      "model_module_version": "1.2.0",
      "model_name": "LayoutModel",
      "state": {}
     },
     "154daef820a047fcb5c92adbe66b599e": {
      "model_module": "@jupyter-widgets/controls",
      "model_module_version": "1.5.0",
      "model_name": "FloatProgressModel",
      "state": {
       "bar_style": "success",
       "layout": "IPY_MODEL_ac4ccde1a3b8408b9a66b7b30cee8825",
       "max": 44,
       "style": "IPY_MODEL_27814c65b8f342da81742905c829b175",
       "value": 44
      }
     },
     "27814c65b8f342da81742905c829b175": {
      "model_module": "@jupyter-widgets/controls",
      "model_module_version": "1.5.0",
      "model_name": "ProgressStyleModel",
      "state": {
       "description_width": ""
      }
     },
     "5674ee7ec1bf4653a5fcf3085f735274": {
      "model_module": "@jupyter-widgets/controls",
      "model_module_version": "1.5.0",
      "model_name": "HTMLModel",
      "state": {
       "layout": "IPY_MODEL_fea087200ff847708f15b768fa45065e",
       "style": "IPY_MODEL_a4dffb4183ab4b08afadb833c811c03d",
       "value": " 44/44 [11:58&lt;00:00, 16.50s/it]"
      }
     },
     "a0a57a7b1c8b462eb0e48a7729ae3461": {
      "model_module": "@jupyter-widgets/controls",
      "model_module_version": "1.5.0",
      "model_name": "HBoxModel",
      "state": {
       "children": [
        "IPY_MODEL_db5b842eb0504431a29a2bc3fe5ae597",
        "IPY_MODEL_154daef820a047fcb5c92adbe66b599e",
        "IPY_MODEL_5674ee7ec1bf4653a5fcf3085f735274"
       ],
       "layout": "IPY_MODEL_10ef5ad15f924684b98e29daae74fb82"
      }
     },
     "a4dffb4183ab4b08afadb833c811c03d": {
      "model_module": "@jupyter-widgets/controls",
      "model_module_version": "1.5.0",
      "model_name": "DescriptionStyleModel",
      "state": {
       "description_width": ""
      }
     },
     "a63f25258c9840a7a7cc7a22b076a19e": {
      "model_module": "@jupyter-widgets/controls",
      "model_module_version": "1.5.0",
      "model_name": "DescriptionStyleModel",
      "state": {
       "description_width": ""
      }
     },
     "ac4ccde1a3b8408b9a66b7b30cee8825": {
      "model_module": "@jupyter-widgets/base",
      "model_module_version": "1.2.0",
      "model_name": "LayoutModel",
      "state": {}
     },
     "c557c20fe448411a884f9ed2fea1e247": {
      "model_module": "@jupyter-widgets/base",
      "model_module_version": "1.2.0",
      "model_name": "LayoutModel",
      "state": {}
     },
     "db5b842eb0504431a29a2bc3fe5ae597": {
      "model_module": "@jupyter-widgets/controls",
      "model_module_version": "1.5.0",
      "model_name": "HTMLModel",
      "state": {
       "layout": "IPY_MODEL_c557c20fe448411a884f9ed2fea1e247",
       "style": "IPY_MODEL_a63f25258c9840a7a7cc7a22b076a19e",
       "value": "100%"
      }
     },
     "fea087200ff847708f15b768fa45065e": {
      "model_module": "@jupyter-widgets/base",
      "model_module_version": "1.2.0",
      "model_name": "LayoutModel",
      "state": {}
     }
    },
    "version_major": 2,
    "version_minor": 0
   }
  }
 },
 "nbformat": 4,
 "nbformat_minor": 4
}
