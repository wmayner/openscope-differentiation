{
 "cells": [
  {
   "cell_type": "markdown",
   "metadata": {},
   "source": [
    "# Table 1\n",
    "\n",
    "Permutation tests"
   ]
  },
  {
   "cell_type": "code",
   "execution_count": 1,
   "metadata": {},
   "outputs": [],
   "source": [
    "from datetime import datetime\n",
    "from pathlib import Path\n",
    "\n",
    "import matplotlib\n",
    "import numpy as np\n",
    "import pandas as pd\n",
    "import scipy\n",
    "from matplotlib import pyplot as plt\n",
    "from tqdm.notebook import tqdm\n",
    "\n",
    "import analysis\n",
    "from metadata import METADATA"
   ]
  },
  {
   "cell_type": "code",
   "execution_count": 2,
   "metadata": {},
   "outputs": [],
   "source": [
    "# Register tqdm with pandas for `progress_apply`\n",
    "tqdm.pandas()"
   ]
  },
  {
   "cell_type": "markdown",
   "metadata": {},
   "source": [
    "## Load data"
   ]
  },
  {
   "cell_type": "code",
   "execution_count": 3,
   "metadata": {},
   "outputs": [],
   "source": [
    "df = pd.read_parquet('results/main.parquet')"
   ]
  },
  {
   "cell_type": "code",
   "execution_count": 4,
   "metadata": {},
   "outputs": [],
   "source": [
    "# Unscrambled vs. scrambled\n",
    "subset = df.loc[df['stimulus_is_scrambled_pair']]"
   ]
  },
  {
   "cell_type": "markdown",
   "metadata": {},
   "source": [
    "## Permutation test functions"
   ]
  },
  {
   "cell_type": "code",
   "execution_count": 5,
   "metadata": {},
   "outputs": [],
   "source": [
    "from numpy.random import default_rng, SeedSequence\n",
    "# Get a random number generator using a high-quality seed created with \n",
    "# `SeedSequence().entropy`\n",
    "RNG = default_rng(seed=9531952262819343520803317503529205167)"
   ]
  },
  {
   "cell_type": "code",
   "execution_count": 6,
   "metadata": {},
   "outputs": [],
   "source": [
    "def sample(values, labels, statistic):\n",
    "    # Shuffle the labels\n",
    "    shuffled_labels = labels.values[RNG.permutation(len(labels.values))]\n",
    "    # Return the evaluation\n",
    "    return statistic(values, shuffled_labels)"
   ]
  },
  {
   "cell_type": "code",
   "execution_count": 7,
   "metadata": {},
   "outputs": [],
   "source": [
    "def permutation_test(data, value_col=None, label_col=None, statistic=None, n=10_000):\n",
    "    # All arguments must be keyword arguments to use `progress_apply`\n",
    "    if any([value_col is None, label_col is None, statistic is None]):\n",
    "        raise ValueError(\"must provide value_col, label_col and statistic\")\n",
    "        \n",
    "    values = data[value_col]\n",
    "    labels = data[label_col]\n",
    "    \n",
    "    # Get the observed response\n",
    "    observed = statistic(values, labels)\n",
    "    \n",
    "    # Sample n times to get a null distribution\n",
    "    null_distribution = pd.Series([\n",
    "        sample(values, labels, statistic) \n",
    "        for i in range(n)\n",
    "    ])\n",
    "    \n",
    "    # The p value is the fraction of permutation statistics that are \n",
    "    # at least as extreme as the observed statistic \n",
    "    # (one-sided test; not taking absolute value of the observed statistic)\n",
    "    p_value = np.mean(null_distribution >= observed)\n",
    "    \n",
    "    return pd.concat([\n",
    "        pd.Series({\n",
    "            'p_value': p_value,\n",
    "            'observed': observed,\n",
    "            'statistic': statistic.__name__,\n",
    "            'response_variable': value_col,\n",
    "        }),\n",
    "        null_distribution.describe(),\n",
    "    ])"
   ]
  },
  {
   "cell_type": "markdown",
   "metadata": {},
   "source": [
    "## Perform permutation tests"
   ]
  },
  {
   "cell_type": "code",
   "execution_count": 8,
   "metadata": {},
   "outputs": [],
   "source": [
    "response = 'log(normalized differentiation)'"
   ]
  },
  {
   "cell_type": "code",
   "execution_count": 9,
   "metadata": {},
   "outputs": [
    {
     "data": {
      "application/vnd.jupyter.widget-view+json": {
       "model_id": "8210d4d38b194749af58f349c65f4939",
       "version_major": 2,
       "version_minor": 0
      },
      "text/plain": [
       "  0%|          | 0/44 [00:00<?, ?it/s]"
      ]
     },
     "metadata": {},
     "output_type": "display_data"
    },
    {
     "name": "stdout",
     "output_type": "stream",
     "text": [
      "CPU times: user 8min 30s, sys: 557 ms, total: 8min 31s\n",
      "Wall time: 8min 31s\n"
     ]
    }
   ],
   "source": [
    "%%time\n",
    "\n",
    "def mean_natural_artificial_difference(values, labels):\n",
    "    return analysis.mean_difference(values, labels, a='natural', b='artificial')\n",
    "\n",
    "\n",
    "permutation_test_results = subset.groupby('session').progress_apply(\n",
    "    permutation_test, \n",
    "    value_col=response, \n",
    "    label_col='stimulus_type', \n",
    "    statistic=mean_natural_artificial_difference, \n",
    "    n=20_000,\n",
    ")"
   ]
  },
  {
   "cell_type": "code",
   "execution_count": 10,
   "metadata": {},
   "outputs": [],
   "source": [
    "permutation_test_results.name = 'p_value'\n",
    "permutation_test_results = pd.DataFrame(permutation_test_results)\n",
    "permutation_test_results.to_parquet(f'results/permutation_tests.parquet')"
   ]
  },
  {
   "cell_type": "code",
   "execution_count": 11,
   "metadata": {},
   "outputs": [],
   "source": [
    "permutation_test_results = permutation_test_results.merge(METADATA, on='session')"
   ]
  },
  {
   "cell_type": "markdown",
   "metadata": {},
   "source": [
    "## Summarize"
   ]
  },
  {
   "cell_type": "code",
   "execution_count": 12,
   "metadata": {},
   "outputs": [],
   "source": [
    "ALPHA = 0.05"
   ]
  },
  {
   "cell_type": "code",
   "execution_count": 13,
   "metadata": {},
   "outputs": [],
   "source": [
    "def is_significant(data):\n",
    "    return (data.p_value <= ALPHA)"
   ]
  },
  {
   "cell_type": "code",
   "execution_count": 14,
   "metadata": {},
   "outputs": [],
   "source": [
    "summary = (\n",
    "    permutation_test_results\n",
    "    .groupby(['layer', 'area'])\n",
    "    .apply(\n",
    "        lambda group: pd.Series({\n",
    "            'significant': is_significant(group).sum(), \n",
    "            'total': len(group),\n",
    "        })\n",
    "    )\n",
    ")"
   ]
  },
  {
   "cell_type": "code",
   "execution_count": 15,
   "metadata": {},
   "outputs": [],
   "source": [
    "output_path = 'results/permutation_tests_summary.csv'"
   ]
  },
  {
   "cell_type": "code",
   "execution_count": 16,
   "metadata": {},
   "outputs": [
    {
     "data": {
      "text/html": [
       "<div>\n",
       "<style scoped>\n",
       "    .dataframe tbody tr th:only-of-type {\n",
       "        vertical-align: middle;\n",
       "    }\n",
       "\n",
       "    .dataframe tbody tr th {\n",
       "        vertical-align: top;\n",
       "    }\n",
       "\n",
       "    .dataframe thead th {\n",
       "        text-align: right;\n",
       "    }\n",
       "</style>\n",
       "<table border=\"1\" class=\"dataframe\">\n",
       "  <thead>\n",
       "    <tr style=\"text-align: right;\">\n",
       "      <th>area</th>\n",
       "      <th>V1</th>\n",
       "      <th>LM</th>\n",
       "      <th>AL</th>\n",
       "      <th>PM</th>\n",
       "      <th>AM</th>\n",
       "      <th>All areas</th>\n",
       "    </tr>\n",
       "    <tr>\n",
       "      <th>layer</th>\n",
       "      <th></th>\n",
       "      <th></th>\n",
       "      <th></th>\n",
       "      <th></th>\n",
       "      <th></th>\n",
       "      <th></th>\n",
       "    </tr>\n",
       "  </thead>\n",
       "  <tbody>\n",
       "    <tr>\n",
       "      <th>L2/3</th>\n",
       "      <td>1 / 3</td>\n",
       "      <td>1 / 3</td>\n",
       "      <td>3 / 3</td>\n",
       "      <td>0 / 3</td>\n",
       "      <td>3 / 3</td>\n",
       "      <td>8 / 15</td>\n",
       "    </tr>\n",
       "    <tr>\n",
       "      <th>L4</th>\n",
       "      <td>0 / 3</td>\n",
       "      <td>1 / 3</td>\n",
       "      <td>0 / 3</td>\n",
       "      <td>0 / 3</td>\n",
       "      <td>0 / 3</td>\n",
       "      <td>1 / 15</td>\n",
       "    </tr>\n",
       "    <tr>\n",
       "      <th>L5</th>\n",
       "      <td>0 / 3</td>\n",
       "      <td>0 / 3</td>\n",
       "      <td>0 / 2</td>\n",
       "      <td>0 / 3</td>\n",
       "      <td>0 / 3</td>\n",
       "      <td>0 / 14</td>\n",
       "    </tr>\n",
       "    <tr>\n",
       "      <th>All layers</th>\n",
       "      <td>1 / 9</td>\n",
       "      <td>2 / 9</td>\n",
       "      <td>3 / 8</td>\n",
       "      <td>0 / 9</td>\n",
       "      <td>3 / 9</td>\n",
       "      <td>NaN</td>\n",
       "    </tr>\n",
       "  </tbody>\n",
       "</table>\n",
       "</div>"
      ],
      "text/plain": [
       "area           V1     LM     AL     PM     AM All areas\n",
       "layer                                                  \n",
       "L2/3        1 / 3  1 / 3  3 / 3  0 / 3  3 / 3    8 / 15\n",
       "L4          0 / 3  1 / 3  0 / 3  0 / 3  0 / 3    1 / 15\n",
       "L5          0 / 3  0 / 3  0 / 2  0 / 3  0 / 3    0 / 14\n",
       "All layers  1 / 9  2 / 9  3 / 8  0 / 9  3 / 9       NaN"
      ]
     },
     "execution_count": 16,
     "metadata": {},
     "output_type": "execute_result"
    }
   ],
   "source": [
    "# Convert to wide format\n",
    "\n",
    "summary_wide = (\n",
    "    summary\n",
    "    .astype(dict(significant=str, total=str))\n",
    "    .agg(' / '.join, axis=1, )\n",
    "    .reset_index()\n",
    "    .pivot(index='layer', columns='area')\n",
    ")\n",
    "summary_wide.columns = summary_wide.columns.droplevel(level=0)\n",
    "\n",
    "all_areas = (\n",
    "    summary\n",
    "    .groupby(level=0)\n",
    "    .sum()\n",
    "    .astype(dict(significant=str, total=str))\n",
    "    .agg(' / '.join, axis=1, )\n",
    ")\n",
    "\n",
    "all_layers = (\n",
    "    summary\n",
    "    .groupby(level=1)\n",
    "    .sum()\n",
    "    .astype(dict(significant=str, total=str))\n",
    "    .agg(' / '.join, axis=1, )\n",
    ")\n",
    "\n",
    "summary_wide.index = summary_wide.index.astype(str)\n",
    "summary_wide.columns = summary_wide.columns.astype(str)\n",
    "summary_wide.loc['All layers', :] = all_layers\n",
    "summary_wide.loc[:, 'All areas'] = all_areas\n",
    "\n",
    "summary_wide.to_csv(output_path)\n",
    "summary_wide"
   ]
  }
 ],
 "metadata": {
  "kernelspec": {
   "display_name": "Python 3",
   "language": "python",
   "name": "python3"
  },
  "language_info": {
   "codemirror_mode": {
    "name": "ipython",
    "version": 3
   },
   "file_extension": ".py",
   "mimetype": "text/x-python",
   "name": "python",
   "nbconvert_exporter": "python",
   "pygments_lexer": "ipython3",
   "version": "3.8.8"
  },
  "widgets": {
   "application/vnd.jupyter.widget-state+json": {
    "state": {
     "0b705101352e43a1a49b526abc079a5b": {
      "model_module": "@jupyter-widgets/controls",
      "model_module_version": "1.5.0",
      "model_name": "HTMLModel",
      "state": {
       "layout": "IPY_MODEL_781e418c0bd644599bd10cdc7778da05",
       "style": "IPY_MODEL_1c2fcd4a9a204cb8ba35a56a57571485",
       "value": " 44/44 [08:31&lt;00:00, 11.16s/it]"
      }
     },
     "1c2fcd4a9a204cb8ba35a56a57571485": {
      "model_module": "@jupyter-widgets/controls",
      "model_module_version": "1.5.0",
      "model_name": "DescriptionStyleModel",
      "state": {
       "description_width": ""
      }
     },
     "2fb79cb9ddc8408cb8ef0451549fb502": {
      "model_module": "@jupyter-widgets/base",
      "model_module_version": "1.2.0",
      "model_name": "LayoutModel",
      "state": {}
     },
     "448d10f780dd43e0975bd91c2f6ce05a": {
      "model_module": "@jupyter-widgets/base",
      "model_module_version": "1.2.0",
      "model_name": "LayoutModel",
      "state": {}
     },
     "62fb0b74541140d980d5fe18acf1ea78": {
      "model_module": "@jupyter-widgets/controls",
      "model_module_version": "1.5.0",
      "model_name": "HTMLModel",
      "state": {
       "layout": "IPY_MODEL_448d10f780dd43e0975bd91c2f6ce05a",
       "style": "IPY_MODEL_e5fd939b1aee45aeb332133e6d02f920",
       "value": "100%"
      }
     },
     "6ac07a0f75864d00bed7f9d70d6ffbcf": {
      "model_module": "@jupyter-widgets/controls",
      "model_module_version": "1.5.0",
      "model_name": "ProgressStyleModel",
      "state": {
       "description_width": ""
      }
     },
     "70cf765bb05842979690ff871889f19e": {
      "model_module": "@jupyter-widgets/controls",
      "model_module_version": "1.5.0",
      "model_name": "FloatProgressModel",
      "state": {
       "bar_style": "success",
       "layout": "IPY_MODEL_2fb79cb9ddc8408cb8ef0451549fb502",
       "max": 44,
       "style": "IPY_MODEL_6ac07a0f75864d00bed7f9d70d6ffbcf",
       "value": 44
      }
     },
     "781e418c0bd644599bd10cdc7778da05": {
      "model_module": "@jupyter-widgets/base",
      "model_module_version": "1.2.0",
      "model_name": "LayoutModel",
      "state": {}
     },
     "8210d4d38b194749af58f349c65f4939": {
      "model_module": "@jupyter-widgets/controls",
      "model_module_version": "1.5.0",
      "model_name": "HBoxModel",
      "state": {
       "children": [
        "IPY_MODEL_62fb0b74541140d980d5fe18acf1ea78",
        "IPY_MODEL_70cf765bb05842979690ff871889f19e",
        "IPY_MODEL_0b705101352e43a1a49b526abc079a5b"
       ],
       "layout": "IPY_MODEL_897642eff99d4d6587f19e77376b3091"
      }
     },
     "897642eff99d4d6587f19e77376b3091": {
      "model_module": "@jupyter-widgets/base",
      "model_module_version": "1.2.0",
      "model_name": "LayoutModel",
      "state": {}
     },
     "e5fd939b1aee45aeb332133e6d02f920": {
      "model_module": "@jupyter-widgets/controls",
      "model_module_version": "1.5.0",
      "model_name": "DescriptionStyleModel",
      "state": {
       "description_width": ""
      }
     }
    },
    "version_major": 2,
    "version_minor": 0
   }
  }
 },
 "nbformat": 4,
 "nbformat_minor": 4
}
