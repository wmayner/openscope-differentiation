{
 "cells": [
  {
   "cell_type": "markdown",
   "id": "signed-cooperation",
   "metadata": {},
   "source": [
    "# stimulus_properties.ipynb"
   ]
  },
  {
   "cell_type": "code",
   "execution_count": 1,
   "id": "celtic-kansas",
   "metadata": {},
   "outputs": [],
   "source": [
    "import numpy as np\n",
    "import pandas as pd\n",
    "from joblib import Parallel, delayed\n",
    "from tqdm.auto import tqdm\n",
    "\n",
    "import metadata\n",
    "from load import load_stimulus_movie\n",
    "from metadata import STIMULUS_METADATA\n",
    "from spectral_differentiation import join_axes, spectral_differentiation"
   ]
  },
  {
   "cell_type": "markdown",
   "id": "posted-swiss",
   "metadata": {},
   "source": [
    "## Load stimuli"
   ]
  },
  {
   "cell_type": "code",
   "execution_count": 2,
   "id": "capital-cholesterol",
   "metadata": {},
   "outputs": [
    {
     "name": "stderr",
     "output_type": "stream",
     "text": [
      "[Parallel(n_jobs=14)]: Using backend LokyBackend with 14 concurrent workers.\n",
      "[Parallel(n_jobs=14)]: Done   2 out of  14 | elapsed:    1.3s remaining:    8.0s\n",
      "[Parallel(n_jobs=14)]: Done   5 out of  14 | elapsed:    3.3s remaining:    6.0s\n",
      "[Parallel(n_jobs=14)]: Done   8 out of  14 | elapsed:    5.3s remaining:    3.9s\n",
      "[Parallel(n_jobs=14)]: Done  11 out of  14 | elapsed:    7.3s remaining:    2.0s\n",
      "[Parallel(n_jobs=14)]: Done  14 out of  14 | elapsed:    9.2s remaining:    0.0s\n",
      "[Parallel(n_jobs=14)]: Done  14 out of  14 | elapsed:    9.2s finished\n"
     ]
    }
   ],
   "source": [
    "stimuli = Parallel(n_jobs=len(STIMULUS_METADATA), verbose=5)(\n",
    "    delayed(load_stimulus_movie)(stimulus) for stimulus in STIMULUS_METADATA.index\n",
    ")\n",
    "stimuli = dict(zip(STIMULUS_METADATA.index, stimuli))"
   ]
  },
  {
   "cell_type": "markdown",
   "id": "micro-engagement",
   "metadata": {},
   "source": [
    "## Helper functions"
   ]
  },
  {
   "cell_type": "markdown",
   "id": "beautiful-victorian",
   "metadata": {},
   "source": [
    "### Differentiation"
   ]
  },
  {
   "cell_type": "code",
   "execution_count": 3,
   "id": "incoming-desert",
   "metadata": {},
   "outputs": [],
   "source": [
    "def reshape_movie(movie):\n",
    "    \"\"\"Reshape a stimulus from (time, x, y) to (trial, cell, sample), where each pixel is a 'cell'.\"\"\"\n",
    "    data = join_axes(1, 2, movie)\n",
    "    # Move time to the last axis (assumes time is the first axis)\n",
    "    data = np.moveaxis(data, 0, -1)\n",
    "    return data\n",
    "\n",
    "\n",
    "def compute_stimulus_differentiation(stimulus):\n",
    "    data = reshape_movie(stimulus)\n",
    "    distances = spectral_differentiation(\n",
    "        data,\n",
    "        sample_rate=metadata.TWOP_SAMPLE_RATE,\n",
    "        window_length=1.0,\n",
    "        metric='euclidean',\n",
    "        log_frequency=False,\n",
    "    )\n",
    "    return np.median(distances)"
   ]
  },
  {
   "cell_type": "markdown",
   "id": "received-pollution",
   "metadata": {},
   "source": [
    "### Energy"
   ]
  },
  {
   "cell_type": "code",
   "execution_count": 4,
   "id": "associate-lewis",
   "metadata": {},
   "outputs": [],
   "source": [
    "def spectral_energy_density(stimulus):\n",
    "    # Remove DC component\n",
    "    stimulus = stimulus - stimulus.mean()\n",
    "    # Compute spectral energy density\n",
    "    spectrum = np.fft.rfft(stimulus, axis=0)\n",
    "    energy_spectral_density = np.abs(spectrum)**2\n",
    "    return energy_spectral_density"
   ]
  },
  {
   "cell_type": "markdown",
   "id": "strong-aquarium",
   "metadata": {},
   "source": [
    "## Compute"
   ]
  },
  {
   "cell_type": "code",
   "execution_count": 5,
   "id": "fatal-separation",
   "metadata": {},
   "outputs": [
    {
     "data": {
      "application/vnd.jupyter.widget-view+json": {
       "model_id": "1bc5bd18be3242a3a819959410d04b51",
       "version_major": 2,
       "version_minor": 0
      },
      "text/plain": [
       "  0%|          | 0/14 [00:00<?, ?it/s]"
      ]
     },
     "metadata": {},
     "output_type": "display_data"
    }
   ],
   "source": [
    "stimulus_properties = pd.DataFrame([\n",
    "    {\n",
    "        'stimulus': name,\n",
    "        'mean luminance': stimulus.mean(),\n",
    "        'contrast': stimulus.std(),\n",
    "        'spectral energy': spectral_energy_density(stimulus).sum(),\n",
    "        \"stimulus differentiation\": compute_stimulus_differentiation(stimulus),\n",
    "    }\n",
    "    for name, stimulus in tqdm(stimuli.items()) if stimulus is not None\n",
    "])"
   ]
  },
  {
   "cell_type": "code",
   "execution_count": 6,
   "id": "social-suggestion",
   "metadata": {},
   "outputs": [],
   "source": [
    "stimulus_properties['log(stimulus differentiation)'] = np.log10(stimulus_properties['stimulus differentiation'])"
   ]
  },
  {
   "cell_type": "code",
   "execution_count": 7,
   "id": "hazardous-rating",
   "metadata": {},
   "outputs": [],
   "source": [
    "stimulus_properties.to_parquet('results/stimulus_properties.parquet')"
   ]
  }
 ],
 "metadata": {
  "kernelspec": {
   "display_name": "Python 3",
   "language": "python",
   "name": "python3"
  },
  "language_info": {
   "codemirror_mode": {
    "name": "ipython",
    "version": 3
   },
   "file_extension": ".py",
   "mimetype": "text/x-python",
   "name": "python",
   "nbconvert_exporter": "python",
   "pygments_lexer": "ipython3",
   "version": "3.8.8"
  },
  "widgets": {
   "application/vnd.jupyter.widget-state+json": {
    "state": {
     "02ee975c1fcd4aceb49d055b531a7563": {
      "model_module": "@jupyter-widgets/base",
      "model_module_version": "1.2.0",
      "model_name": "LayoutModel",
      "state": {}
     },
     "1bc5bd18be3242a3a819959410d04b51": {
      "model_module": "@jupyter-widgets/controls",
      "model_module_version": "1.5.0",
      "model_name": "HBoxModel",
      "state": {
       "children": [
        "IPY_MODEL_e3506dd7602544e6957590ac5089ff21",
        "IPY_MODEL_a714e90bdc7649dab7809b4c2a593c63",
        "IPY_MODEL_ee0b599adf8c4a83b946188e84847335"
       ],
       "layout": "IPY_MODEL_02ee975c1fcd4aceb49d055b531a7563"
      }
     },
     "390e4d0c94d243cc8d035742e257109f": {
      "model_module": "@jupyter-widgets/controls",
      "model_module_version": "1.5.0",
      "model_name": "ProgressStyleModel",
      "state": {
       "description_width": ""
      }
     },
     "61a654b25a08451087464144bbfc3777": {
      "model_module": "@jupyter-widgets/controls",
      "model_module_version": "1.5.0",
      "model_name": "DescriptionStyleModel",
      "state": {
       "description_width": ""
      }
     },
     "75e3ed68665f41b2b5bc211c98b1e62c": {
      "model_module": "@jupyter-widgets/controls",
      "model_module_version": "1.5.0",
      "model_name": "DescriptionStyleModel",
      "state": {
       "description_width": ""
      }
     },
     "98c88032259a4d9f8fbe83a9d7b9b7d1": {
      "model_module": "@jupyter-widgets/base",
      "model_module_version": "1.2.0",
      "model_name": "LayoutModel",
      "state": {}
     },
     "9b020c3f6d3d438885fad6614de3e6aa": {
      "model_module": "@jupyter-widgets/base",
      "model_module_version": "1.2.0",
      "model_name": "LayoutModel",
      "state": {}
     },
     "a714e90bdc7649dab7809b4c2a593c63": {
      "model_module": "@jupyter-widgets/controls",
      "model_module_version": "1.5.0",
      "model_name": "FloatProgressModel",
      "state": {
       "bar_style": "success",
       "layout": "IPY_MODEL_e703192974c74cac8d462095c186c696",
       "max": 14,
       "style": "IPY_MODEL_390e4d0c94d243cc8d035742e257109f",
       "value": 14
      }
     },
     "e3506dd7602544e6957590ac5089ff21": {
      "model_module": "@jupyter-widgets/controls",
      "model_module_version": "1.5.0",
      "model_name": "HTMLModel",
      "state": {
       "layout": "IPY_MODEL_9b020c3f6d3d438885fad6614de3e6aa",
       "style": "IPY_MODEL_75e3ed68665f41b2b5bc211c98b1e62c",
       "value": "100%"
      }
     },
     "e703192974c74cac8d462095c186c696": {
      "model_module": "@jupyter-widgets/base",
      "model_module_version": "1.2.0",
      "model_name": "LayoutModel",
      "state": {}
     },
     "ee0b599adf8c4a83b946188e84847335": {
      "model_module": "@jupyter-widgets/controls",
      "model_module_version": "1.5.0",
      "model_name": "HTMLModel",
      "state": {
       "layout": "IPY_MODEL_98c88032259a4d9f8fbe83a9d7b9b7d1",
       "style": "IPY_MODEL_61a654b25a08451087464144bbfc3777",
       "value": " 14/14 [00:18&lt;00:00,  1.49s/it]"
      }
     }
    },
    "version_major": 2,
    "version_minor": 0
   }
  }
 },
 "nbformat": 4,
 "nbformat_minor": 5
}
