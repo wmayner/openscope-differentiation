{
 "cells": [
  {
   "cell_type": "markdown",
   "id": "signed-cooperation",
   "metadata": {},
   "source": [
    "# stimulus_properties.ipynb"
   ]
  },
  {
   "cell_type": "code",
   "execution_count": 1,
   "id": "celtic-kansas",
   "metadata": {},
   "outputs": [],
   "source": [
    "import numpy as np\n",
    "import pandas as pd\n",
    "from joblib import Parallel, delayed\n",
    "from tqdm.auto import tqdm\n",
    "\n",
    "import metadata\n",
    "from load import load_stimulus_movie\n",
    "from metadata import STIMULUS_METADATA\n",
    "from spectral_differentiation import join_axes, spectral_differentiation"
   ]
  },
  {
   "cell_type": "markdown",
   "id": "posted-swiss",
   "metadata": {},
   "source": [
    "## Load stimuli"
   ]
  },
  {
   "cell_type": "code",
   "execution_count": 2,
   "id": "capital-cholesterol",
   "metadata": {},
   "outputs": [
    {
     "name": "stderr",
     "output_type": "stream",
     "text": [
      "[Parallel(n_jobs=14)]: Using backend LokyBackend with 14 concurrent workers.\n",
      "[Parallel(n_jobs=14)]: Done   2 out of  14 | elapsed:    0.9s remaining:    5.2s\n",
      "[Parallel(n_jobs=14)]: Done   5 out of  14 | elapsed:    2.8s remaining:    5.0s\n",
      "[Parallel(n_jobs=14)]: Done   8 out of  14 | elapsed:    4.5s remaining:    3.4s\n",
      "[Parallel(n_jobs=14)]: Done  11 out of  14 | elapsed:    6.2s remaining:    1.7s\n",
      "[Parallel(n_jobs=14)]: Done  14 out of  14 | elapsed:    7.9s remaining:    0.0s\n",
      "[Parallel(n_jobs=14)]: Done  14 out of  14 | elapsed:    7.9s finished\n"
     ]
    }
   ],
   "source": [
    "stimuli = Parallel(n_jobs=len(STIMULUS_METADATA), verbose=5)(\n",
    "    delayed(load_stimulus_movie)(stimulus) for stimulus in STIMULUS_METADATA.index\n",
    ")\n",
    "stimuli = dict(zip(STIMULUS_METADATA.index, stimuli))"
   ]
  },
  {
   "cell_type": "markdown",
   "id": "micro-engagement",
   "metadata": {},
   "source": [
    "## Helper functions"
   ]
  },
  {
   "cell_type": "markdown",
   "id": "beautiful-victorian",
   "metadata": {},
   "source": [
    "### Differentiation"
   ]
  },
  {
   "cell_type": "code",
   "execution_count": 3,
   "id": "incoming-desert",
   "metadata": {},
   "outputs": [],
   "source": [
    "def reshape_movie(movie):\n",
    "    \"\"\"Reshape a stimulus from (time, x, y) to (trial, cell, sample), where each pixel is a 'cell'.\"\"\"\n",
    "    data = join_axes(1, 2, movie)\n",
    "    # Move time to the last axis (assumes time is the first axis)\n",
    "    data = np.moveaxis(data, 0, -1)\n",
    "    return data\n",
    "\n",
    "\n",
    "def compute_stimulus_differentiation(stimulus):\n",
    "    data = reshape_movie(stimulus)\n",
    "    distances = spectral_differentiation(\n",
    "        data,\n",
    "        sample_rate=metadata.TWOP_SAMPLE_RATE,\n",
    "        window_length=1.0,\n",
    "        metric='euclidean',\n",
    "        log_frequency=False,\n",
    "    )\n",
    "    return np.median(distances)"
   ]
  },
  {
   "cell_type": "markdown",
   "id": "received-pollution",
   "metadata": {},
   "source": [
    "### Energy"
   ]
  },
  {
   "cell_type": "code",
   "execution_count": 4,
   "id": "associate-lewis",
   "metadata": {},
   "outputs": [],
   "source": [
    "def spectral_energy_density(stimulus):\n",
    "    # Remove DC component\n",
    "    stimulus = stimulus - stimulus.mean()\n",
    "    # Compute spectral energy density\n",
    "    spectrum = np.fft.rfft(stimulus, axis=0)\n",
    "    energy_spectral_density = np.abs(spectrum)**2\n",
    "    return energy_spectral_density"
   ]
  },
  {
   "cell_type": "markdown",
   "id": "strong-aquarium",
   "metadata": {},
   "source": [
    "## Compute"
   ]
  },
  {
   "cell_type": "code",
   "execution_count": 5,
   "id": "fatal-separation",
   "metadata": {},
   "outputs": [
    {
     "data": {
      "application/vnd.jupyter.widget-view+json": {
       "model_id": "200dabc43e134c1099796cf07cb295dc",
       "version_major": 2,
       "version_minor": 0
      },
      "text/plain": [
       "  0%|          | 0/14 [00:00<?, ?it/s]"
      ]
     },
     "metadata": {},
     "output_type": "display_data"
    }
   ],
   "source": [
    "stimulus_properties = pd.DataFrame([\n",
    "    {\n",
    "        'stimulus': name,\n",
    "        'mean luminance': stimulus.mean(),\n",
    "        'contrast': stimulus.std(),\n",
    "        'spectral energy': spectral_energy_density(stimulus).sum(),\n",
    "        \"stimulus differentiation\": compute_stimulus_differentiation(stimulus),\n",
    "    }\n",
    "    for name, stimulus in tqdm(stimuli.items()) if stimulus is not None\n",
    "])"
   ]
  },
  {
   "cell_type": "code",
   "execution_count": 6,
   "id": "social-suggestion",
   "metadata": {},
   "outputs": [],
   "source": [
    "stimulus_properties['log(stimulus differentiation)'] = np.log10(stimulus_properties['stimulus differentiation'])"
   ]
  },
  {
   "cell_type": "code",
   "execution_count": 7,
   "id": "hazardous-rating",
   "metadata": {},
   "outputs": [],
   "source": [
    "stimulus_properties.to_parquet('results/stimulus_properties.parquet')"
   ]
  }
 ],
 "metadata": {
  "kernelspec": {
   "display_name": "Python 3",
   "language": "python",
   "name": "python3"
  },
  "language_info": {
   "codemirror_mode": {
    "name": "ipython",
    "version": 3
   },
   "file_extension": ".py",
   "mimetype": "text/x-python",
   "name": "python",
   "nbconvert_exporter": "python",
   "pygments_lexer": "ipython3",
   "version": "3.8.8"
  },
  "widgets": {
   "application/vnd.jupyter.widget-state+json": {
    "state": {
     "0e0f5df2697e452e919594f4f587b6bf": {
      "model_module": "@jupyter-widgets/controls",
      "model_module_version": "1.5.0",
      "model_name": "ProgressStyleModel",
      "state": {
       "description_width": ""
      }
     },
     "200dabc43e134c1099796cf07cb295dc": {
      "model_module": "@jupyter-widgets/controls",
      "model_module_version": "1.5.0",
      "model_name": "HBoxModel",
      "state": {
       "children": [
        "IPY_MODEL_436a3d26870a43faa3254e813d782115",
        "IPY_MODEL_f1f783ec0ee54d568def9fc20770d2bd",
        "IPY_MODEL_3fd2da07590e4923a46540873507a27d"
       ],
       "layout": "IPY_MODEL_34bba42b8cc344089928b796c5f7a7ec"
      }
     },
     "34bba42b8cc344089928b796c5f7a7ec": {
      "model_module": "@jupyter-widgets/base",
      "model_module_version": "1.2.0",
      "model_name": "LayoutModel",
      "state": {}
     },
     "3fd2da07590e4923a46540873507a27d": {
      "model_module": "@jupyter-widgets/controls",
      "model_module_version": "1.5.0",
      "model_name": "HTMLModel",
      "state": {
       "layout": "IPY_MODEL_fdd486f5f1ff460996672e4f371ce60e",
       "style": "IPY_MODEL_adf980117f524bf7ba4fb229c2edfdd5",
       "value": " 14/14 [00:18&lt;00:00,  1.53s/it]"
      }
     },
     "436a3d26870a43faa3254e813d782115": {
      "model_module": "@jupyter-widgets/controls",
      "model_module_version": "1.5.0",
      "model_name": "HTMLModel",
      "state": {
       "layout": "IPY_MODEL_926751b84ef6494ea04dcb46a13b52bc",
       "style": "IPY_MODEL_f958c3338e8a4a988bb158320aacabe6",
       "value": "100%"
      }
     },
     "60add668700147d68214d72a08a2e14a": {
      "model_module": "@jupyter-widgets/base",
      "model_module_version": "1.2.0",
      "model_name": "LayoutModel",
      "state": {}
     },
     "926751b84ef6494ea04dcb46a13b52bc": {
      "model_module": "@jupyter-widgets/base",
      "model_module_version": "1.2.0",
      "model_name": "LayoutModel",
      "state": {}
     },
     "adf980117f524bf7ba4fb229c2edfdd5": {
      "model_module": "@jupyter-widgets/controls",
      "model_module_version": "1.5.0",
      "model_name": "DescriptionStyleModel",
      "state": {
       "description_width": ""
      }
     },
     "f1f783ec0ee54d568def9fc20770d2bd": {
      "model_module": "@jupyter-widgets/controls",
      "model_module_version": "1.5.0",
      "model_name": "FloatProgressModel",
      "state": {
       "bar_style": "success",
       "layout": "IPY_MODEL_60add668700147d68214d72a08a2e14a",
       "max": 14,
       "style": "IPY_MODEL_0e0f5df2697e452e919594f4f587b6bf",
       "value": 14
      }
     },
     "f958c3338e8a4a988bb158320aacabe6": {
      "model_module": "@jupyter-widgets/controls",
      "model_module_version": "1.5.0",
      "model_name": "DescriptionStyleModel",
      "state": {
       "description_width": ""
      }
     },
     "fdd486f5f1ff460996672e4f371ce60e": {
      "model_module": "@jupyter-widgets/base",
      "model_module_version": "1.2.0",
      "model_name": "LayoutModel",
      "state": {}
     }
    },
    "version_major": 2,
    "version_minor": 0
   }
  }
 },
 "nbformat": 4,
 "nbformat_minor": 5
}
