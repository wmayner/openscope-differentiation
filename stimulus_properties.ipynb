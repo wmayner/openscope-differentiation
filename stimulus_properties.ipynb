{
 "cells": [
  {
   "cell_type": "markdown",
   "id": "signed-cooperation",
   "metadata": {},
   "source": [
    "# Stimulus properties"
   ]
  },
  {
   "cell_type": "code",
   "execution_count": 1,
   "id": "celtic-kansas",
   "metadata": {
    "execution": {
     "iopub.execute_input": "2021-12-14T19:01:14.537315Z",
     "iopub.status.busy": "2021-12-14T19:01:14.536814Z",
     "iopub.status.idle": "2021-12-14T19:01:16.512901Z",
     "shell.execute_reply": "2021-12-14T19:01:16.512076Z",
     "shell.execute_reply.started": "2021-12-14T19:01:14.537202Z"
    },
    "tags": []
   },
   "outputs": [],
   "source": [
    "from pathlib import Path\n",
    "\n",
    "import numpy as np\n",
    "import pandas as pd\n",
    "from joblib import Parallel, delayed\n",
    "from scipy.ndimage import gaussian_filter\n",
    "from tqdm.auto import tqdm\n",
    "\n",
    "import metadata\n",
    "from load import load_stimulus_movie\n",
    "from metadata import STIMULUS_METADATA\n",
    "from spectral_differentiation import join_axes, spectral_differentiation"
   ]
  },
  {
   "cell_type": "code",
   "execution_count": 2,
   "id": "62173240-63ec-4a2e-9e00-da855c3b2e28",
   "metadata": {
    "execution": {
     "iopub.execute_input": "2021-12-14T19:01:16.514965Z",
     "iopub.status.busy": "2021-12-14T19:01:16.514631Z",
     "iopub.status.idle": "2021-12-14T19:01:16.519097Z",
     "shell.execute_reply": "2021-12-14T19:01:16.518300Z",
     "shell.execute_reply.started": "2021-12-14T19:01:16.514928Z"
    }
   },
   "outputs": [],
   "source": [
    "OUTPUT_DIR = Path('results')"
   ]
  },
  {
   "cell_type": "markdown",
   "id": "posted-swiss",
   "metadata": {},
   "source": [
    "## Load stimuli"
   ]
  },
  {
   "cell_type": "code",
   "execution_count": 3,
   "id": "capital-cholesterol",
   "metadata": {
    "execution": {
     "iopub.execute_input": "2021-12-14T19:01:16.520518Z",
     "iopub.status.busy": "2021-12-14T19:01:16.520199Z",
     "iopub.status.idle": "2021-12-14T19:01:27.138353Z",
     "shell.execute_reply": "2021-12-14T19:01:27.137477Z",
     "shell.execute_reply.started": "2021-12-14T19:01:16.520485Z"
    },
    "tags": []
   },
   "outputs": [
    {
     "name": "stderr",
     "output_type": "stream",
     "text": [
      "[Parallel(n_jobs=14)]: Using backend LokyBackend with 14 concurrent workers.\n",
      "[Parallel(n_jobs=14)]: Done   2 out of  14 | elapsed:    2.1s remaining:   12.7s\n",
      "[Parallel(n_jobs=14)]: Done   5 out of  14 | elapsed:    3.5s remaining:    6.3s\n",
      "[Parallel(n_jobs=14)]: Done   8 out of  14 | elapsed:    5.8s remaining:    4.4s\n",
      "[Parallel(n_jobs=14)]: Done  11 out of  14 | elapsed:    8.2s remaining:    2.2s\n",
      "[Parallel(n_jobs=14)]: Done  14 out of  14 | elapsed:   10.6s remaining:    0.0s\n",
      "[Parallel(n_jobs=14)]: Done  14 out of  14 | elapsed:   10.6s finished\n"
     ]
    }
   ],
   "source": [
    "stimuli = Parallel(n_jobs=len(STIMULUS_METADATA), verbose=5)(\n",
    "    delayed(load_stimulus_movie)(stimulus) for stimulus in STIMULUS_METADATA.index\n",
    ")\n",
    "stimuli = dict(zip(STIMULUS_METADATA.index, stimuli))"
   ]
  },
  {
   "cell_type": "markdown",
   "id": "315e0bad-f8f7-4c10-82cf-d8bc0a0eabee",
   "metadata": {},
   "source": [
    "### Blur stimuli by mouse V1 RF size"
   ]
  },
  {
   "cell_type": "markdown",
   "id": "65116efd-a301-4d8e-b40e-2a497fff80d1",
   "metadata": {},
   "source": [
    "Calculate std. dev. in pixels of Gaussian blur with half-width at half maximum set to the size of a Cux2 V1 RF"
   ]
  },
  {
   "cell_type": "code",
   "execution_count": 4,
   "id": "786f3239-0813-403f-aeef-435a33988fc6",
   "metadata": {
    "execution": {
     "iopub.execute_input": "2021-12-14T19:01:27.140714Z",
     "iopub.status.busy": "2021-12-14T19:01:27.140318Z",
     "iopub.status.idle": "2021-12-14T19:01:27.155898Z",
     "shell.execute_reply": "2021-12-14T19:01:27.155115Z",
     "shell.execute_reply.started": "2021-12-14T19:01:27.140672Z"
    },
    "tags": []
   },
   "outputs": [],
   "source": [
    "# Median Cux2 V1 RF size from de Vries et al. 2020\n",
    "RF_AREA = 250  # degrees^2\n",
    "RF_RADIUS = np.sqrt(RF_AREA / np.pi)  # degrees\n",
    "# Visual degrees spanned by screen\n",
    "DEGREES = pd.Series({'x': 120, 'y': 95})\n",
    "# Stimulus dimensions\n",
    "PIXELS = pd.Series({'x': 192, 'y': 120})\n",
    "# Pixel size of RF\n",
    "RF_PIXELS = RF_RADIUS * PIXELS / DEGREES\n",
    "# Set half-width at half maximum to RF radius in terms of std. dev.\n",
    "SIGMA = RF_PIXELS / np.sqrt(2 * np.log(2))"
   ]
  },
  {
   "cell_type": "code",
   "execution_count": 5,
   "id": "a86960bb-d9e5-4fb5-b27b-cf98074ca236",
   "metadata": {
    "execution": {
     "iopub.execute_input": "2021-12-14T19:01:27.158639Z",
     "iopub.status.busy": "2021-12-14T19:01:27.158304Z",
     "iopub.status.idle": "2021-12-14T19:01:27.168393Z",
     "shell.execute_reply": "2021-12-14T19:01:27.167678Z",
     "shell.execute_reply.started": "2021-12-14T19:01:27.158603Z"
    },
    "tags": []
   },
   "outputs": [
    {
     "data": {
      "text/plain": [
       "8.920620580763856"
      ]
     },
     "execution_count": 5,
     "metadata": {},
     "output_type": "execute_result"
    }
   ],
   "source": [
    "RF_RADIUS"
   ]
  },
  {
   "cell_type": "code",
   "execution_count": 6,
   "id": "bc68a50b-ff6c-4227-8632-909e98129500",
   "metadata": {
    "execution": {
     "iopub.execute_input": "2021-12-14T19:01:27.169940Z",
     "iopub.status.busy": "2021-12-14T19:01:27.169632Z",
     "iopub.status.idle": "2021-12-14T19:01:27.178313Z",
     "shell.execute_reply": "2021-12-14T19:01:27.177711Z",
     "shell.execute_reply.started": "2021-12-14T19:01:27.169910Z"
    },
    "tags": []
   },
   "outputs": [
    {
     "data": {
      "text/plain": [
       "x    14.272993\n",
       "y    11.268152\n",
       "dtype: float64"
      ]
     },
     "execution_count": 6,
     "metadata": {},
     "output_type": "execute_result"
    }
   ],
   "source": [
    "RF_PIXELS"
   ]
  },
  {
   "cell_type": "code",
   "execution_count": 7,
   "id": "8fab56ca-250d-4f75-bc29-85a5ffecb5cb",
   "metadata": {
    "execution": {
     "iopub.execute_input": "2021-12-14T19:01:27.179870Z",
     "iopub.status.busy": "2021-12-14T19:01:27.179560Z",
     "iopub.status.idle": "2021-12-14T19:01:27.185529Z",
     "shell.execute_reply": "2021-12-14T19:01:27.184747Z",
     "shell.execute_reply.started": "2021-12-14T19:01:27.179839Z"
    },
    "tags": []
   },
   "outputs": [],
   "source": [
    "def blur(stimulus):\n",
    "    if stimulus is None:\n",
    "        return None\n",
    "    # Apply gaussian filter to each frame (time is first dimension)\n",
    "    return np.array(\n",
    "        [\n",
    "            gaussian_filter(\n",
    "                img,\n",
    "                sigma=(SIGMA[\"y\"], SIGMA[\"x\"]),\n",
    "                order=0,\n",
    "                mode=\"reflect\",\n",
    "                truncate=4.0,\n",
    "            )\n",
    "            for img in stimulus\n",
    "        ]\n",
    "    )"
   ]
  },
  {
   "cell_type": "code",
   "execution_count": 8,
   "id": "f6c1aa96-288d-41ca-8f61-117665f0708c",
   "metadata": {
    "execution": {
     "iopub.execute_input": "2021-12-14T19:01:27.186904Z",
     "iopub.status.busy": "2021-12-14T19:01:27.186573Z",
     "iopub.status.idle": "2021-12-14T19:01:41.222135Z",
     "shell.execute_reply": "2021-12-14T19:01:41.221231Z",
     "shell.execute_reply.started": "2021-12-14T19:01:27.186873Z"
    },
    "tags": []
   },
   "outputs": [
    {
     "name": "stderr",
     "output_type": "stream",
     "text": [
      "[Parallel(n_jobs=14)]: Using backend LokyBackend with 14 concurrent workers.\n",
      "[Parallel(n_jobs=14)]: Done   2 out of  14 | elapsed:    2.5s remaining:   14.8s\n",
      "[Parallel(n_jobs=14)]: Done   5 out of  14 | elapsed:    6.5s remaining:   11.6s\n",
      "[Parallel(n_jobs=14)]: Done   8 out of  14 | elapsed:    8.8s remaining:    6.6s\n",
      "[Parallel(n_jobs=14)]: Done  11 out of  14 | elapsed:   11.2s remaining:    3.1s\n",
      "[Parallel(n_jobs=14)]: Done  14 out of  14 | elapsed:   13.7s remaining:    0.0s\n",
      "[Parallel(n_jobs=14)]: Done  14 out of  14 | elapsed:   13.7s finished\n"
     ]
    }
   ],
   "source": [
    "names, movies = list(zip(*stimuli.items()))\n",
    "blurred = Parallel(n_jobs=len(stimuli), verbose=5)(\n",
    "    delayed(blur)(movie) for movie in movies\n",
    ")\n",
    "blurred_stimuli = dict(zip(names, blurred))"
   ]
  },
  {
   "cell_type": "markdown",
   "id": "0fdbf228-dde4-4fff-bcd8-3c5345bd9fcf",
   "metadata": {},
   "source": [
    "## Helper functions"
   ]
  },
  {
   "cell_type": "markdown",
   "id": "beautiful-victorian",
   "metadata": {},
   "source": [
    "### Differentiation"
   ]
  },
  {
   "cell_type": "code",
   "execution_count": 9,
   "id": "incoming-desert",
   "metadata": {
    "execution": {
     "iopub.execute_input": "2021-12-14T19:01:41.224333Z",
     "iopub.status.busy": "2021-12-14T19:01:41.223920Z",
     "iopub.status.idle": "2021-12-14T19:01:41.232347Z",
     "shell.execute_reply": "2021-12-14T19:01:41.231605Z",
     "shell.execute_reply.started": "2021-12-14T19:01:41.224296Z"
    },
    "tags": []
   },
   "outputs": [],
   "source": [
    "def reshape_movie(movie):\n",
    "    \"\"\"Reshape a stimulus from (time, x, y) to (trial, cell, sample), where each pixel is a 'cell'.\"\"\"\n",
    "    data = join_axes(1, 2, movie)\n",
    "    # Move time to the last axis (assumes time is the first axis)\n",
    "    data = np.moveaxis(data, 0, -1)\n",
    "    return data\n",
    "\n",
    "\n",
    "def compute_stimulus_differentiation(stimulus):\n",
    "    data = reshape_movie(stimulus)\n",
    "    distances = spectral_differentiation(\n",
    "        data,\n",
    "        sample_rate=metadata.TWOP_SAMPLE_RATE,\n",
    "        window_length=1.0,\n",
    "        metric='euclidean',\n",
    "        log_frequency=False,\n",
    "    )\n",
    "    return np.median(distances)"
   ]
  },
  {
   "cell_type": "markdown",
   "id": "received-pollution",
   "metadata": {},
   "source": [
    "### Energy"
   ]
  },
  {
   "cell_type": "code",
   "execution_count": 10,
   "id": "associate-lewis",
   "metadata": {
    "execution": {
     "iopub.execute_input": "2021-12-14T19:01:41.233911Z",
     "iopub.status.busy": "2021-12-14T19:01:41.233576Z",
     "iopub.status.idle": "2021-12-14T19:01:41.238995Z",
     "shell.execute_reply": "2021-12-14T19:01:41.238296Z",
     "shell.execute_reply.started": "2021-12-14T19:01:41.233874Z"
    },
    "tags": []
   },
   "outputs": [],
   "source": [
    "def spectral_energy_density(stimulus):\n",
    "    # Remove DC component\n",
    "    stimulus = stimulus - stimulus.mean()\n",
    "    # Compute spectral energy density\n",
    "    spectrum = np.fft.rfft(stimulus, axis=0)\n",
    "    energy_spectral_density = np.abs(spectrum)**2\n",
    "    return energy_spectral_density"
   ]
  },
  {
   "cell_type": "markdown",
   "id": "strong-aquarium",
   "metadata": {},
   "source": [
    "## Compute"
   ]
  },
  {
   "cell_type": "code",
   "execution_count": 11,
   "id": "fatal-separation",
   "metadata": {
    "execution": {
     "iopub.execute_input": "2021-12-14T19:01:41.240531Z",
     "iopub.status.busy": "2021-12-14T19:01:41.240203Z",
     "iopub.status.idle": "2021-12-14T19:02:03.856457Z",
     "shell.execute_reply": "2021-12-14T19:02:03.855887Z",
     "shell.execute_reply.started": "2021-12-14T19:01:41.240494Z"
    },
    "tags": []
   },
   "outputs": [
    {
     "data": {
      "application/vnd.jupyter.widget-view+json": {
       "model_id": "e73537e459d84736bad9bbc4ff876eb2",
       "version_major": 2,
       "version_minor": 0
      },
      "text/plain": [
       "  0%|          | 0/14 [00:00<?, ?it/s]"
      ]
     },
     "metadata": {},
     "output_type": "display_data"
    }
   ],
   "source": [
    "stimulus_properties = pd.DataFrame([\n",
    "    {\n",
    "        'stimulus': name,\n",
    "        'mean luminance': stimulus.mean(),\n",
    "        'contrast': stimulus.std(),\n",
    "        'spectral energy': spectral_energy_density(blurred_stimuli[name]).sum(),\n",
    "        \"stimulus differentiation\": compute_stimulus_differentiation(blurred_stimuli[name]),\n",
    "    }\n",
    "    for name, stimulus in tqdm(stimuli.items()) if stimulus is not None\n",
    "])"
   ]
  },
  {
   "cell_type": "code",
   "execution_count": 12,
   "id": "social-suggestion",
   "metadata": {
    "execution": {
     "iopub.execute_input": "2021-12-14T19:02:03.857673Z",
     "iopub.status.busy": "2021-12-14T19:02:03.857433Z",
     "iopub.status.idle": "2021-12-14T19:02:03.862757Z",
     "shell.execute_reply": "2021-12-14T19:02:03.862132Z",
     "shell.execute_reply.started": "2021-12-14T19:02:03.857651Z"
    },
    "tags": []
   },
   "outputs": [],
   "source": [
    "stimulus_properties['log(stimulus differentiation)'] = np.log10(stimulus_properties['stimulus differentiation'])"
   ]
  },
  {
   "cell_type": "code",
   "execution_count": 13,
   "id": "b2e9fd85-79ae-423a-b3f1-3558ac3e5315",
   "metadata": {
    "execution": {
     "iopub.execute_input": "2021-12-14T19:02:03.863797Z",
     "iopub.status.busy": "2021-12-14T19:02:03.863560Z",
     "iopub.status.idle": "2021-12-14T19:02:03.960523Z",
     "shell.execute_reply": "2021-12-14T19:02:03.959840Z",
     "shell.execute_reply.started": "2021-12-14T19:02:03.863775Z"
    },
    "tags": []
   },
   "outputs": [],
   "source": [
    "stimulus_properties.to_parquet(OUTPUT_DIR/'stimulus_properties.parquet')"
   ]
  }
 ],
 "metadata": {
  "kernelspec": {
   "display_name": "Python 3 (ipykernel)",
   "language": "python",
   "name": "python3"
  },
  "language_info": {
   "codemirror_mode": {
    "name": "ipython",
    "version": 3
   },
   "file_extension": ".py",
   "mimetype": "text/x-python",
   "name": "python",
   "nbconvert_exporter": "python",
   "pygments_lexer": "ipython3",
   "version": "3.8.8"
  },
  "widgets": {
   "application/vnd.jupyter.widget-state+json": {
    "state": {
     "0e43972a9aae4aa08639cfe3dffe8d7a": {
      "model_module": "@jupyter-widgets/controls",
      "model_module_version": "1.5.0",
      "model_name": "FloatProgressModel",
      "state": {
       "bar_style": "success",
       "layout": "IPY_MODEL_7577cade4dcc4859851b575b9a33916a",
       "max": 14,
       "style": "IPY_MODEL_9043ca81810048cc9604cfd7fa0bce74",
       "value": 14
      }
     },
     "3341921f97694c08885720bae6ea373b": {
      "model_module": "@jupyter-widgets/base",
      "model_module_version": "1.2.0",
      "model_name": "LayoutModel",
      "state": {}
     },
     "38735713e8404e1cae9f1e5121a67b71": {
      "model_module": "@jupyter-widgets/controls",
      "model_module_version": "1.5.0",
      "model_name": "DescriptionStyleModel",
      "state": {
       "description_width": ""
      }
     },
     "3f16aeb6377c44fcabe9827ddd3fdb67": {
      "model_module": "@jupyter-widgets/base",
      "model_module_version": "1.2.0",
      "model_name": "LayoutModel",
      "state": {}
     },
     "494863e6846e4afa8e9336e683bdfc17": {
      "model_module": "@jupyter-widgets/controls",
      "model_module_version": "1.5.0",
      "model_name": "HTMLModel",
      "state": {
       "layout": "IPY_MODEL_3341921f97694c08885720bae6ea373b",
       "style": "IPY_MODEL_38735713e8404e1cae9f1e5121a67b71",
       "value": " 14/14 [00:22&lt;00:00,  1.80s/it]"
      }
     },
     "49753abd37c84d5194e024508b13ed44": {
      "model_module": "@jupyter-widgets/controls",
      "model_module_version": "1.5.0",
      "model_name": "DescriptionStyleModel",
      "state": {
       "description_width": ""
      }
     },
     "7577cade4dcc4859851b575b9a33916a": {
      "model_module": "@jupyter-widgets/base",
      "model_module_version": "1.2.0",
      "model_name": "LayoutModel",
      "state": {}
     },
     "9043ca81810048cc9604cfd7fa0bce74": {
      "model_module": "@jupyter-widgets/controls",
      "model_module_version": "1.5.0",
      "model_name": "ProgressStyleModel",
      "state": {
       "description_width": ""
      }
     },
     "d04941a7e98c4eb7847015565eefaf02": {
      "model_module": "@jupyter-widgets/base",
      "model_module_version": "1.2.0",
      "model_name": "LayoutModel",
      "state": {}
     },
     "d6b6cf28c8e34c7a9610b3e1d95ec8c4": {
      "model_module": "@jupyter-widgets/controls",
      "model_module_version": "1.5.0",
      "model_name": "HTMLModel",
      "state": {
       "layout": "IPY_MODEL_3f16aeb6377c44fcabe9827ddd3fdb67",
       "style": "IPY_MODEL_49753abd37c84d5194e024508b13ed44",
       "value": "100%"
      }
     },
     "e73537e459d84736bad9bbc4ff876eb2": {
      "model_module": "@jupyter-widgets/controls",
      "model_module_version": "1.5.0",
      "model_name": "HBoxModel",
      "state": {
       "children": [
        "IPY_MODEL_d6b6cf28c8e34c7a9610b3e1d95ec8c4",
        "IPY_MODEL_0e43972a9aae4aa08639cfe3dffe8d7a",
        "IPY_MODEL_494863e6846e4afa8e9336e683bdfc17"
       ],
       "layout": "IPY_MODEL_d04941a7e98c4eb7847015565eefaf02"
      }
     }
    },
    "version_major": 2,
    "version_minor": 0
   }
  }
 },
 "nbformat": 4,
 "nbformat_minor": 5
}
